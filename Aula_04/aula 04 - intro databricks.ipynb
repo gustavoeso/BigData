{
 "cells": [
  {
   "cell_type": "markdown",
   "metadata": {
    "application/vnd.databricks.v1+cell": {
     "cellMetadata": {},
     "inputWidgets": {},
     "nuid": "167e8fff-e5f9-4d59-9bf2-16aa5190f2b4",
     "showTitle": false,
     "title": ""
    }
   },
   "source": [
    "# Databricks\n",
    "\n",
    "## Aula 04\n",
    "\n",
    "Nesta aula iremos trabalhar com o **databricks**, uma plataforma com soluções bastante interessantes para análise de dados!"
   ]
  },
  {
   "cell_type": "markdown",
   "metadata": {
    "application/vnd.databricks.v1+cell": {
     "cellMetadata": {},
     "inputWidgets": {},
     "nuid": "ba271023-6877-439c-8ee3-fb78d7a391b6",
     "showTitle": false,
     "title": ""
    }
   },
   "source": [
    "## Criando um database\n",
    "\n",
    "Para criar uma base de dados, utilize o comando SQL:\n",
    "\n",
    "```sql\n",
    "USE CATALOG alunos;\n",
    "CREATE DATABASE IF NOT EXISTS seu_nome_de_usuario;\n",
    "```\n",
    "\n",
    "**Atenção**: <span style=\"color:red\"> Substitua `seu_nome_de_usuario` por seu nome de usuário Insper!</span>"
   ]
  },
  {
   "cell_type": "code",
   "execution_count": 4,
   "metadata": {
    "application/vnd.databricks.v1+cell": {
     "cellMetadata": {},
     "inputWidgets": {},
     "nuid": "dd52945a-55ea-4a37-8adc-edc0dc0ba38d",
     "showTitle": false,
     "title": ""
    }
   },
   "outputs": [
    {
     "ename": "SyntaxError",
     "evalue": "invalid syntax (1204441091.py, line 2)",
     "output_type": "error",
     "traceback": [
      "\u001b[1;36m  Cell \u001b[1;32mIn[4], line 2\u001b[1;36m\u001b[0m\n\u001b[1;33m    -- Seus comandos AQUI!\u001b[0m\n\u001b[1;37m            ^\u001b[0m\n\u001b[1;31mSyntaxError\u001b[0m\u001b[1;31m:\u001b[0m invalid syntax\n"
     ]
    }
   ],
   "source": [
    "%sql\n",
    "-- Seus comandos AQUI!"
   ]
  },
  {
   "cell_type": "markdown",
   "metadata": {
    "application/vnd.databricks.v1+cell": {
     "cellMetadata": {},
     "inputWidgets": {},
     "nuid": "0a412fb5-e328-43dd-94f9-b0ee35074838",
     "showTitle": false,
     "title": ""
    }
   },
   "source": [
    "## Ingestão das bases\n",
    "\n",
    "Para que os dados estejam disponíveis para análise no databricks, será necessário realizar a ingestão dos dados.\n",
    "\n",
    "Iremos fazer este processo de forma manual. Siga os passos informados pelo professor."
   ]
  },
  {
   "cell_type": "markdown",
   "metadata": {
    "application/vnd.databricks.v1+cell": {
     "cellMetadata": {},
     "inputWidgets": {},
     "nuid": "65012906-d431-4bc6-8e05-0569a4d8659e",
     "showTitle": false,
     "title": ""
    }
   },
   "source": [
    "## Exercício 1\n",
    "\n",
    "Siga os passos demonstrados pelo professor e realize a ingestão das bases de **municipio**.\n",
    "\n",
    "Caso esteja animado(a), mas totalmente opcional, pode fazer também da **bairros_sp**, **cnae_20_subclasse** e **ocupacao_cbo2002**!"
   ]
  },
  {
   "cell_type": "markdown",
   "metadata": {
    "application/vnd.databricks.v1+cell": {
     "cellMetadata": {},
     "inputWidgets": {},
     "nuid": "c75b5b7a-16ce-40ee-8258-a52049c88815",
     "showTitle": false,
     "title": ""
    }
   },
   "source": [
    "## Importar bibliotecas necessárias"
   ]
  },
  {
   "cell_type": "code",
   "execution_count": null,
   "metadata": {
    "application/vnd.databricks.v1+cell": {
     "cellMetadata": {
      "byteLimit": 2048000,
      "rowLimit": 10000
     },
     "inputWidgets": {},
     "nuid": "b611eb69-86f7-4e70-9ca6-431abad2574b",
     "showTitle": false,
     "title": ""
    }
   },
   "outputs": [],
   "source": [
    "import pyspark.sql.functions as func"
   ]
  },
  {
   "cell_type": "markdown",
   "metadata": {
    "application/vnd.databricks.v1+cell": {
     "cellMetadata": {},
     "inputWidgets": {},
     "nuid": "ac336131-819a-43ad-b931-c232683686cc",
     "showTitle": false,
     "title": ""
    }
   },
   "source": [
    "## Carregando tabelas\n",
    "\n",
    "Para carregar tabelas, utilize:\n",
    "\n",
    "**Atenção**: <span style=\"color:red\"> Substitua `seu_nome_de_usuario` por seu nome de usuário Insper para considerar o banco de dados correto!</span>"
   ]
  },
  {
   "cell_type": "code",
   "execution_count": null,
   "metadata": {
    "application/vnd.databricks.v1+cell": {
     "cellMetadata": {
      "byteLimit": 2048000,
      "rowLimit": 10000
     },
     "inputWidgets": {},
     "nuid": "c2a410de-3b81-420c-b7c9-d4ba1c4d43d5",
     "showTitle": false,
     "title": ""
    }
   },
   "outputs": [],
   "source": [
    "# Altere seu_nome_de_usuario\n",
    "spark_df = spark.table(\"seu_nome_de_usuario.municipio\")"
   ]
  },
  {
   "cell_type": "markdown",
   "metadata": {
    "application/vnd.databricks.v1+cell": {
     "cellMetadata": {},
     "inputWidgets": {},
     "nuid": "069a808c-6a4e-4dda-b1ae-a873f38e0bad",
     "showTitle": false,
     "title": ""
    }
   },
   "source": [
    "Para exibir, utilizamos:"
   ]
  },
  {
   "cell_type": "code",
   "execution_count": null,
   "metadata": {
    "application/vnd.databricks.v1+cell": {
     "cellMetadata": {
      "byteLimit": 2048000,
      "rowLimit": 10000
     },
     "inputWidgets": {},
     "nuid": "b0859b16-ccfa-4075-96a7-91ba4fe267d8",
     "showTitle": false,
     "title": ""
    }
   },
   "outputs": [],
   "source": [
    "display(spark_df)"
   ]
  },
  {
   "cell_type": "code",
   "execution_count": null,
   "metadata": {
    "application/vnd.databricks.v1+cell": {
     "cellMetadata": {
      "byteLimit": 2048000,
      "rowLimit": 10000
     },
     "inputWidgets": {},
     "nuid": "6a68bded-9277-4149-af4c-42e52dbc8d15",
     "showTitle": false,
     "title": ""
    }
   },
   "outputs": [],
   "source": [
    "spark_df.display()"
   ]
  },
  {
   "cell_type": "markdown",
   "metadata": {
    "application/vnd.databricks.v1+cell": {
     "cellMetadata": {},
     "inputWidgets": {},
     "nuid": "06653dca-5e01-40b9-a639-e225ed8011f1",
     "showTitle": false,
     "title": ""
    }
   },
   "source": [
    "## Exercício 2\n",
    "\n",
    "Considere o catálogo `bigdata01` e o banco de dados `rais`.\n",
    "\n",
    "Exiba as tabelas **ocupacao_cbo2002**,  **rais**, **bairros_sp** e **municipio**."
   ]
  },
  {
   "cell_type": "code",
   "execution_count": null,
   "metadata": {
    "application/vnd.databricks.v1+cell": {
     "cellMetadata": {
      "byteLimit": 2048000,
      "implicitDf": true,
      "rowLimit": 10000
     },
     "inputWidgets": {},
     "nuid": "8494a133-fb98-4362-809a-fc4601f13f12",
     "showTitle": false,
     "title": ""
    }
   },
   "outputs": [],
   "source": [
    "%sql\n",
    "USE CATALOG bigdata01;"
   ]
  },
  {
   "cell_type": "code",
   "execution_count": null,
   "metadata": {
    "application/vnd.databricks.v1+cell": {
     "cellMetadata": {},
     "inputWidgets": {},
     "nuid": "60f4c36d-a734-413a-901d-54564494e7b9",
     "showTitle": false,
     "title": ""
    }
   },
   "outputs": [],
   "source": []
  },
  {
   "cell_type": "code",
   "execution_count": null,
   "metadata": {
    "application/vnd.databricks.v1+cell": {
     "cellMetadata": {},
     "inputWidgets": {},
     "nuid": "ec010d99-a5b5-46c7-b115-94220cac3f9a",
     "showTitle": false,
     "title": ""
    }
   },
   "outputs": [],
   "source": []
  },
  {
   "cell_type": "code",
   "execution_count": null,
   "metadata": {
    "application/vnd.databricks.v1+cell": {
     "cellMetadata": {},
     "inputWidgets": {},
     "nuid": "f076c136-92b0-4f04-bbfb-bb3a2783c2eb",
     "showTitle": false,
     "title": ""
    }
   },
   "outputs": [],
   "source": []
  },
  {
   "cell_type": "markdown",
   "metadata": {
    "application/vnd.databricks.v1+cell": {
     "cellMetadata": {},
     "inputWidgets": {},
     "nuid": "96cbef3c-20b7-4c93-b3d8-4b96f8b4fa48",
     "showTitle": false,
     "title": ""
    }
   },
   "source": [
    "# Selecionar colunas\n",
    "\n",
    "No PySpark, podemos utilizar o método **select** passando uma lista de colunas para obter apenas parte das variáveis disponíveis no data frame.\n",
    "\n",
    "Vamos abrir a tabela `rais` da base `rais` e conferir como filtrar colunas:\n",
    "\n",
    "Primeiro, ativamos o catálogo de dados:"
   ]
  },
  {
   "cell_type": "code",
   "execution_count": null,
   "metadata": {
    "application/vnd.databricks.v1+cell": {
     "cellMetadata": {
      "byteLimit": 2048000,
      "implicitDf": true,
      "rowLimit": 10000
     },
     "inputWidgets": {},
     "nuid": "b38b7e28-4fed-45c2-887c-f511f07dbb65",
     "showTitle": false,
     "title": ""
    }
   },
   "outputs": [],
   "source": [
    "%sql\n",
    "USE CATALOG bigdata01;"
   ]
  },
  {
   "cell_type": "markdown",
   "metadata": {
    "application/vnd.databricks.v1+cell": {
     "cellMetadata": {},
     "inputWidgets": {},
     "nuid": "aa15b038-0f18-41b8-9784-884672d67050",
     "showTitle": false,
     "title": ""
    }
   },
   "source": [
    "Então, podemos ler a tabela `rais.rais` (no formato `database.table`):"
   ]
  },
  {
   "cell_type": "code",
   "execution_count": null,
   "metadata": {
    "application/vnd.databricks.v1+cell": {
     "cellMetadata": {
      "byteLimit": 2048000,
      "rowLimit": 10000
     },
     "inputWidgets": {},
     "nuid": "795920ea-5041-4479-97dd-f8183a110a8f",
     "showTitle": false,
     "title": ""
    }
   },
   "outputs": [],
   "source": [
    "rais_df = spark.table(\"rais.rais\")"
   ]
  },
  {
   "cell_type": "markdown",
   "metadata": {
    "application/vnd.databricks.v1+cell": {
     "cellMetadata": {},
     "inputWidgets": {},
     "nuid": "f441a70e-848e-429b-9e2a-d025b0639396",
     "showTitle": false,
     "title": ""
    }
   },
   "source": [
    "E **selecionar colunas** com:"
   ]
  },
  {
   "cell_type": "code",
   "execution_count": null,
   "metadata": {
    "application/vnd.databricks.v1+cell": {
     "cellMetadata": {
      "byteLimit": 2048000,
      "rowLimit": 10000
     },
     "inputWidgets": {},
     "nuid": "4ba53f17-7f07-4d99-83fe-10da9f581739",
     "showTitle": false,
     "title": ""
    }
   },
   "outputs": [],
   "source": [
    "rais_df.select([\"Bairros_SP\", \"Vl_Remun_Média_SM\"])"
   ]
  },
  {
   "cell_type": "markdown",
   "metadata": {
    "application/vnd.databricks.v1+cell": {
     "cellMetadata": {},
     "inputWidgets": {},
     "nuid": "c55b860b-2012-465f-89aa-e7ec0a121086",
     "showTitle": false,
     "title": ""
    }
   },
   "source": [
    "Perceba no exemplo que solicitamos a exibição de duas colunas.\n",
    "\n",
    "Mas por que o resultado não foi exibido?\n",
    "\n",
    "Faltou o uso do `display`!"
   ]
  },
  {
   "cell_type": "code",
   "execution_count": null,
   "metadata": {
    "application/vnd.databricks.v1+cell": {
     "cellMetadata": {
      "byteLimit": 2048000,
      "rowLimit": 10000
     },
     "inputWidgets": {},
     "nuid": "95a18f1e-4105-467c-85e0-ec298921defe",
     "showTitle": false,
     "title": ""
    }
   },
   "outputs": [],
   "source": [
    "rais_df.select([\"Bairros_SP\", \"Vl_Remun_Média_SM\"]).display()"
   ]
  },
  {
   "cell_type": "markdown",
   "metadata": {
    "application/vnd.databricks.v1+cell": {
     "cellMetadata": {},
     "inputWidgets": {},
     "nuid": "03a0a1a6-dcdd-4ff9-b4a3-b24e35048e43",
     "showTitle": false,
     "title": ""
    }
   },
   "source": [
    "# Contando a quantidade de registros\n",
    "\n",
    "Para sabermos quantos registros (linhas) um Data Frame possui, podemos utilizar:"
   ]
  },
  {
   "cell_type": "code",
   "execution_count": null,
   "metadata": {
    "application/vnd.databricks.v1+cell": {
     "cellMetadata": {
      "byteLimit": 2048000,
      "rowLimit": 10000
     },
     "inputWidgets": {},
     "nuid": "6890f0f2-ae65-4a3e-9612-4bdb9c44cb68",
     "showTitle": false,
     "title": ""
    }
   },
   "outputs": [],
   "source": [
    "rais_df.count()"
   ]
  },
  {
   "cell_type": "markdown",
   "metadata": {
    "application/vnd.databricks.v1+cell": {
     "cellMetadata": {},
     "inputWidgets": {},
     "nuid": "4b55fc0a-5e3f-45d2-81d7-3f6c9556cfd1",
     "showTitle": false,
     "title": ""
    }
   },
   "source": [
    "Vamos exibir em uma string formatada, contando linhas e colunas:"
   ]
  },
  {
   "cell_type": "code",
   "execution_count": null,
   "metadata": {
    "application/vnd.databricks.v1+cell": {
     "cellMetadata": {
      "byteLimit": 2048000,
      "rowLimit": 10000
     },
     "inputWidgets": {},
     "nuid": "3198a520-7376-4189-b728-fe8cfd95e43e",
     "showTitle": false,
     "title": ""
    }
   },
   "outputs": [],
   "source": [
    "print(f\"{rais_df.count()} Linhas e {len(rais_df.columns)} Colunas\")"
   ]
  },
  {
   "cell_type": "markdown",
   "metadata": {
    "application/vnd.databricks.v1+cell": {
     "cellMetadata": {},
     "inputWidgets": {},
     "nuid": "57ca40b0-6150-4758-80c0-3ab0976c6243",
     "showTitle": false,
     "title": ""
    }
   },
   "source": [
    "# Criando novas colunas\n",
    "\n",
    "Para criar uma nova coluna, podemos chamar o método **withColumn**.\n",
    "\n",
    "Precisaremos passar o nome da nova coluna e a operação a ser calculada.\n",
    "\n",
    "Vamos rever o conteúdo da tabela `rais`:"
   ]
  },
  {
   "cell_type": "code",
   "execution_count": null,
   "metadata": {
    "application/vnd.databricks.v1+cell": {
     "cellMetadata": {
      "byteLimit": 2048000,
      "rowLimit": 10000
     },
     "inputWidgets": {},
     "nuid": "f35e6f24-218f-4ddb-a84f-7523535b97a3",
     "showTitle": false,
     "title": ""
    }
   },
   "outputs": [],
   "source": [
    "rais_df.display()"
   ]
  },
  {
   "cell_type": "markdown",
   "metadata": {
    "application/vnd.databricks.v1+cell": {
     "cellMetadata": {},
     "inputWidgets": {},
     "nuid": "86dc4d21-fcdc-4e65-8cfc-add881d7bb3f",
     "showTitle": false,
     "title": ""
    }
   },
   "source": [
    "E então, criar uma coluna nova chamada `Vl_Remun_Média_Diária` que irá aproximar o valor pago, em Reais, por dia de trabalho para cada registro da base.\n",
    "\n",
    "Este é apenas um exemplo! Para o cálculo, consideramos o valor do salário mínimo e a coluna com o valor da remuneração média em salários mínimos."
   ]
  },
  {
   "cell_type": "code",
   "execution_count": null,
   "metadata": {
    "application/vnd.databricks.v1+cell": {
     "cellMetadata": {
      "byteLimit": 2048000,
      "rowLimit": 10000
     },
     "inputWidgets": {},
     "nuid": "ab8b01b3-aa51-420a-ad06-0c6ff66909c0",
     "showTitle": false,
     "title": ""
    }
   },
   "outputs": [],
   "source": [
    "salario_minimo_2019 = 998 # em 2019 o salário mínimo foi de R$ 998,00\n",
    "\n",
    "rais_df = rais_df.withColumn(\"Vl_Remun_Média_Diária\", rais_df[\"Vl_Remun_Média_SM\"] * salario_minimo_2019 / 30.0)\n",
    "\n",
    "display(rais_df)"
   ]
  },
  {
   "cell_type": "markdown",
   "metadata": {
    "application/vnd.databricks.v1+cell": {
     "cellMetadata": {},
     "inputWidgets": {},
     "nuid": "afeb3c2d-a7b0-4e13-bf15-8e1bc3904670",
     "showTitle": false,
     "title": ""
    }
   },
   "source": [
    "## Exercício 3\n",
    "\n",
    "Crie uma coluna chamada **Rem Primeiro TRI CC** contendo a remuneração total de Janeiro, Fevereiro e Março (ex de coluna: **Vl Rem Janeiro CC**)"
   ]
  },
  {
   "cell_type": "code",
   "execution_count": null,
   "metadata": {
    "application/vnd.databricks.v1+cell": {
     "cellMetadata": {},
     "inputWidgets": {},
     "nuid": "89475423-dc5f-4daf-bf98-583caee10a7b",
     "showTitle": false,
     "title": ""
    }
   },
   "outputs": [],
   "source": []
  },
  {
   "cell_type": "code",
   "execution_count": null,
   "metadata": {
    "application/vnd.databricks.v1+cell": {
     "cellMetadata": {},
     "inputWidgets": {},
     "nuid": "e5ded2dd-790c-4d5e-a1c1-de273e5ce253",
     "showTitle": false,
     "title": ""
    }
   },
   "outputs": [],
   "source": []
  },
  {
   "cell_type": "markdown",
   "metadata": {
    "application/vnd.databricks.v1+cell": {
     "cellMetadata": {},
     "inputWidgets": {},
     "nuid": "ab90293e-00eb-4c15-b2b4-5359bbd1525d",
     "showTitle": false,
     "title": ""
    }
   },
   "source": [
    "# Selecionar linhas\n",
    "\n",
    "Muitas vezes é necessário realizar um filtro nas linhas, selecionando apenas registros conforme algum critério. Ex: poderíamos querer filtrar apenas os registros da base rais do estado de SP que fossem da cidade de Campinas.\n",
    "\n",
    "Para realizar um **filtro nas linhas**, utilizaremos o `where`:"
   ]
  },
  {
   "cell_type": "code",
   "execution_count": null,
   "metadata": {
    "application/vnd.databricks.v1+cell": {
     "cellMetadata": {
      "byteLimit": 2048000,
      "rowLimit": 10000
     },
     "inputWidgets": {},
     "nuid": "35ba3e53-385d-4ae1-bbfb-756ef9875b50",
     "showTitle": false,
     "title": ""
    }
   },
   "outputs": [],
   "source": [
    "rais_df.where(func.col(\"CBO_Ocupação_2002\") == 411005).show()"
   ]
  },
  {
   "cell_type": "markdown",
   "metadata": {
    "application/vnd.databricks.v1+cell": {
     "cellMetadata": {},
     "inputWidgets": {},
     "nuid": "f2855b56-c988-46b7-96ee-ac5df5a94d53",
     "showTitle": false,
     "title": ""
    }
   },
   "source": [
    "Perceba que a saída foi retornada em formato de texto, devido ao uso do `.show()` ao invés de `.display()`!"
   ]
  },
  {
   "cell_type": "code",
   "execution_count": null,
   "metadata": {
    "application/vnd.databricks.v1+cell": {
     "cellMetadata": {
      "byteLimit": 2048000,
      "rowLimit": 10000
     },
     "inputWidgets": {},
     "nuid": "f2536856-0797-4d2b-88ca-dbd79297241d",
     "showTitle": false,
     "title": ""
    }
   },
   "outputs": [],
   "source": [
    "rais_df.where(func.col(\"CBO_Ocupação_2002\") == 411005).display()"
   ]
  },
  {
   "cell_type": "markdown",
   "metadata": {
    "application/vnd.databricks.v1+cell": {
     "cellMetadata": {},
     "inputWidgets": {},
     "nuid": "3c5c340e-1412-4c43-a817-b4e5fbb0ba00",
     "showTitle": false,
     "title": ""
    }
   },
   "source": [
    "# Funções de agregação\n",
    "\n",
    "Muitas vezes é necessário resumir os valores de uma coluna. Para isto, podemos utilizar as funções de cálculo de média, desvio padrão, mínimo, máximo, etc.\n",
    "\n",
    "No Databricks, podemos fazer isto com:"
   ]
  },
  {
   "cell_type": "code",
   "execution_count": null,
   "metadata": {
    "application/vnd.databricks.v1+cell": {
     "cellMetadata": {
      "byteLimit": 2048000,
      "rowLimit": 10000
     },
     "inputWidgets": {},
     "nuid": "95842443-7864-43dd-8f14-cc34f734de31",
     "showTitle": false,
     "title": ""
    }
   },
   "outputs": [],
   "source": [
    "rais_df.select(\"Vl_Remun_Média_Diária\").agg({\"Vl_Remun_Média_Diária\": \"skewness\"}).collect()[0][0]"
   ]
  },
  {
   "cell_type": "markdown",
   "metadata": {
    "application/vnd.databricks.v1+cell": {
     "cellMetadata": {},
     "inputWidgets": {},
     "nuid": "e8d16cad-139b-4b00-814a-e2b1375d5057",
     "showTitle": false,
     "title": ""
    }
   },
   "source": [
    "Algumas funções para você experimentar:\n",
    "\n",
    "- `avg`: Média\n",
    "- `sum`: Soma\n",
    "- `min`: Valor mínimo\n",
    "- `max`: Valor máximo\n",
    "- `count`: Contagem de valores\n",
    "- `stddev`: Desvio padrão\n",
    "- `variance`: Variância\n",
    "- `first`: Primeiro valor\n",
    "- `last`: Último valor\n",
    "- `kurtosis`: Curtose\n",
    "- `skewness`: Assimetria\n",
    "\n",
    "Podemos também fazer uso do `describe`:"
   ]
  },
  {
   "cell_type": "code",
   "execution_count": null,
   "metadata": {
    "application/vnd.databricks.v1+cell": {
     "cellMetadata": {
      "byteLimit": 2048000,
      "rowLimit": 10000
     },
     "inputWidgets": {},
     "nuid": "e04419e4-b8bc-4ac2-9c2c-f39946fe7a53",
     "showTitle": false,
     "title": ""
    }
   },
   "outputs": [],
   "source": [
    "rais_df.select(\"Vl_Remun_Média_Diária\").describe().display()"
   ]
  },
  {
   "cell_type": "code",
   "execution_count": null,
   "metadata": {
    "application/vnd.databricks.v1+cell": {
     "cellMetadata": {
      "byteLimit": 2048000,
      "rowLimit": 10000
     },
     "inputWidgets": {},
     "nuid": "6ecffe16-2a0c-4401-a55d-6c2aed3548df",
     "showTitle": false,
     "title": ""
    }
   },
   "outputs": [],
   "source": [
    "rais_df.describe(\"Vl_Remun_Média_Diária\").display()"
   ]
  },
  {
   "cell_type": "markdown",
   "metadata": {
    "application/vnd.databricks.v1+cell": {
     "cellMetadata": {},
     "inputWidgets": {},
     "nuid": "c434547c-501a-49cc-b964-0070ab552467",
     "showTitle": false,
     "title": ""
    }
   },
   "source": [
    "E calcular os percentis aproximados com:"
   ]
  },
  {
   "cell_type": "code",
   "execution_count": null,
   "metadata": {
    "application/vnd.databricks.v1+cell": {
     "cellMetadata": {
      "byteLimit": 2048000,
      "rowLimit": 10000
     },
     "inputWidgets": {},
     "nuid": "9f72aa88-4255-4a51-b3bf-58d60fc9d756",
     "showTitle": false,
     "title": ""
    }
   },
   "outputs": [],
   "source": [
    "perc = [0.25, 0.5, 0.75]\n",
    "\n",
    "rais_df.approxQuantile(\"Vl_Remun_Média_Diária\", perc, 0.01)"
   ]
  },
  {
   "cell_type": "markdown",
   "metadata": {
    "application/vnd.databricks.v1+cell": {
     "cellMetadata": {},
     "inputWidgets": {},
     "nuid": "d60c197e-0e10-4a64-aa32-9e8265d021c2",
     "showTitle": false,
     "title": ""
    }
   },
   "source": []
  },
  {
   "cell_type": "markdown",
   "metadata": {
    "application/vnd.databricks.v1+cell": {
     "cellMetadata": {},
     "inputWidgets": {},
     "nuid": "a4c12908-1919-4802-b5ab-b65af37d6539",
     "showTitle": false,
     "title": ""
    }
   },
   "source": [
    "## Exercício 4\n",
    "\n",
    "Filtre a base de municípios e descubra o código da cidade de Campinas. Então, utilize o código do município para filtrar a base rais, selecionando apenas os registros da cidade de Campinas."
   ]
  },
  {
   "cell_type": "code",
   "execution_count": null,
   "metadata": {
    "application/vnd.databricks.v1+cell": {
     "cellMetadata": {},
     "inputWidgets": {},
     "nuid": "58ecd7f2-4567-4c4f-8c4d-98cd4e29c06b",
     "showTitle": false,
     "title": ""
    }
   },
   "outputs": [],
   "source": []
  },
  {
   "cell_type": "markdown",
   "metadata": {
    "application/vnd.databricks.v1+cell": {
     "cellMetadata": {},
     "inputWidgets": {},
     "nuid": "d567569f-ae2f-481b-b648-a89c0f6aa036",
     "showTitle": false,
     "title": ""
    }
   },
   "source": [
    "Com os dados filtrados, calcule a média da coluna `Vl_Rem_Janeiro_CC`."
   ]
  },
  {
   "cell_type": "code",
   "execution_count": null,
   "metadata": {
    "application/vnd.databricks.v1+cell": {
     "cellMetadata": {},
     "inputWidgets": {},
     "nuid": "dbf68ed0-5d87-4c69-aae0-fc14375398bd",
     "showTitle": false,
     "title": ""
    }
   },
   "outputs": [],
   "source": []
  },
  {
   "cell_type": "markdown",
   "metadata": {
    "application/vnd.databricks.v1+cell": {
     "cellMetadata": {},
     "inputWidgets": {},
     "nuid": "cc6939be-ba72-4106-8d2a-0de9690b490a",
     "showTitle": false,
     "title": ""
    }
   },
   "source": [
    "# Ordenação\n",
    "\n",
    "Para ordenar a base de dados, utilize **orderBy**"
   ]
  },
  {
   "cell_type": "code",
   "execution_count": null,
   "metadata": {
    "application/vnd.databricks.v1+cell": {
     "cellMetadata": {
      "byteLimit": 2048000,
      "rowLimit": 10000
     },
     "inputWidgets": {},
     "nuid": "480193eb-ed70-4bd6-b7e4-e145f1371789",
     "showTitle": false,
     "title": ""
    }
   },
   "outputs": [],
   "source": [
    "rais_df.orderBy(\"Vl_Remun_Média_Diária\").display()"
   ]
  },
  {
   "cell_type": "markdown",
   "metadata": {
    "application/vnd.databricks.v1+cell": {
     "cellMetadata": {},
     "inputWidgets": {},
     "nuid": "b35b5337-453c-4bb7-b444-5b2ccf9eb905",
     "showTitle": false,
     "title": ""
    }
   },
   "source": [
    "# Agrupamentos\n",
    "\n",
    "Para realizar calculos agrupados por alguma variável, utilize **groupBy**.\n",
    "\n",
    "Por exemplo, para contar o número de linhas na base de dados, por profissão, utilizamos:"
   ]
  },
  {
   "cell_type": "code",
   "execution_count": null,
   "metadata": {
    "application/vnd.databricks.v1+cell": {
     "cellMetadata": {
      "byteLimit": 2048000,
      "rowLimit": 10000
     },
     "inputWidgets": {},
     "nuid": "37f2bed5-3006-4647-baf0-6dbaa52592ba",
     "showTitle": false,
     "title": ""
    }
   },
   "outputs": [],
   "source": [
    "rais_df.groupBy(\"CBO_Ocupação_2002\").count().display()"
   ]
  },
  {
   "cell_type": "markdown",
   "metadata": {
    "application/vnd.databricks.v1+cell": {
     "cellMetadata": {},
     "inputWidgets": {},
     "nuid": "4be569b6-9d75-4682-a552-f9bf8e48c673",
     "showTitle": false,
     "title": ""
    }
   },
   "source": [
    "Observe que estamos apenas exibindo os resultados. Caso queira, é possível armazenar os resultados em outro DataFrame:"
   ]
  },
  {
   "cell_type": "code",
   "execution_count": null,
   "metadata": {
    "application/vnd.databricks.v1+cell": {
     "cellMetadata": {
      "byteLimit": 2048000,
      "rowLimit": 10000
     },
     "inputWidgets": {},
     "nuid": "3fb76adb-5fc1-47a7-8168-cdd385929472",
     "showTitle": false,
     "title": ""
    }
   },
   "outputs": [],
   "source": [
    "conta_profissao = rais_df.groupBy(\"CBO_Ocupação_2002\").count()\n",
    "conta_profissao.display()"
   ]
  },
  {
   "cell_type": "markdown",
   "metadata": {
    "application/vnd.databricks.v1+cell": {
     "cellMetadata": {},
     "inputWidgets": {},
     "nuid": "7f99643b-0c18-436a-acde-47f7a076773a",
     "showTitle": false,
     "title": ""
    }
   },
   "source": [
    "Vamos contar quantos municípios diferentes possuem registros de cada profissão. Observe o uso do `countDistinct`:"
   ]
  },
  {
   "cell_type": "code",
   "execution_count": null,
   "metadata": {
    "application/vnd.databricks.v1+cell": {
     "cellMetadata": {
      "byteLimit": 2048000,
      "rowLimit": 10000
     },
     "inputWidgets": {},
     "nuid": "abd922e7-d12f-4c76-92d5-57af00c5a85b",
     "showTitle": false,
     "title": ""
    }
   },
   "outputs": [],
   "source": [
    "rais_df.groupBy(\"CBO_Ocupação_2002\").agg(func.countDistinct(\"Município\")).display()"
   ]
  },
  {
   "cell_type": "markdown",
   "metadata": {
    "application/vnd.databricks.v1+cell": {
     "cellMetadata": {},
     "inputWidgets": {},
     "nuid": "2da4be1d-dca0-48ab-bb59-70c6a07a57c4",
     "showTitle": false,
     "title": ""
    }
   },
   "source": [
    "## Exercício 5\n",
    "\n",
    "Utilizando a base rais:\n",
    "- Conte os bairros mais frequentes na base\n",
    "- Ordene em ordem crescende e decrescente"
   ]
  },
  {
   "cell_type": "code",
   "execution_count": null,
   "metadata": {
    "application/vnd.databricks.v1+cell": {
     "cellMetadata": {},
     "inputWidgets": {},
     "nuid": "0b46fd1d-c969-4d29-882d-d650ba079f1b",
     "showTitle": false,
     "title": ""
    }
   },
   "outputs": [],
   "source": []
  }
 ],
 "metadata": {
  "application/vnd.databricks.v1+notebook": {
   "dashboards": [],
   "environmentMetadata": null,
   "language": "python",
   "notebookMetadata": {
    "mostRecentlyExecutedCommandWithImplicitDF": {
     "commandId": 2732178611671686,
     "dataframes": [
      "_sqldf"
     ]
    },
    "pythonIndentUnit": 4
   },
   "notebookName": "aula 04 - intro databricks - prof",
   "widgets": {}
  },
  "kernelspec": {
   "display_name": "Python 3 (ipykernel)",
   "language": "python",
   "name": "python3"
  },
  "language_info": {
   "codemirror_mode": {
    "name": "ipython",
    "version": 3
   },
   "file_extension": ".py",
   "mimetype": "text/x-python",
   "name": "python",
   "nbconvert_exporter": "python",
   "pygments_lexer": "ipython3",
   "version": "3.12.5"
  }
 },
 "nbformat": 4,
 "nbformat_minor": 0
}
