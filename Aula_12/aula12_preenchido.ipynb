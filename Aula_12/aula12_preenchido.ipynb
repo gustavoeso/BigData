{
 "cells": [
  {
   "cell_type": "markdown",
   "id": "9d2c7a26",
   "metadata": {},
   "source": [
    "# Big Data para Dados Públicos\n",
    "\n",
    "##### Maciel C. Vidal\n",
    "\n",
    "Na aula de hoje iremos conferir como criar, em um Jupyter Notebook, uma conexão com um SGBD para recuperar dados. Os dados desejados serão especificados utilizando SQL.\n"
   ]
  },
  {
   "cell_type": "markdown",
   "id": "9a653bca",
   "metadata": {},
   "source": [
    "## Instalando as bibliotecas necessárias\n",
    "\n",
    "Para criar uma conexão com o PostgreSQL, iremos utilizar a biblioteca `psycopg2`. Tente realizar o import dela e se não for possível, descomente e execute a seguinte linha para instalação:"
   ]
  },
  {
   "cell_type": "code",
   "execution_count": null,
   "id": "b0c291da",
   "metadata": {},
   "outputs": [],
   "source": [
    "# !python -m pip install psycopg2-binary"
   ]
  },
  {
   "cell_type": "markdown",
   "id": "fa1c7bcc",
   "metadata": {},
   "source": [
    "Para criação de gráficos interativos, vamos utilizar a biblioteca `plotly.express`. Tente realizar o import dela e se não for possível, descomente e execute a seguinte linha para instalação:"
   ]
  },
  {
   "cell_type": "code",
   "execution_count": null,
   "id": "55ea6d26",
   "metadata": {},
   "outputs": [],
   "source": [
    "# !python -m pip install plotly_express"
   ]
  },
  {
   "cell_type": "markdown",
   "id": "ada4bcce",
   "metadata": {},
   "source": [
    "## Importando as bibliotecas necessárias\n",
    "\n",
    "Agora, vamos importar as bibliotecas necessárias:"
   ]
  },
  {
   "cell_type": "code",
   "execution_count": null,
   "id": "a3a7e9dc",
   "metadata": {},
   "outputs": [],
   "source": [
    "# Para utilizar recursos do sistema\n",
    "import os\n",
    "import sys\n",
    "\n",
    "# Para plot de gráficos\n",
    "%matplotlib inline\n",
    "import matplotlib.pyplot as plt\n",
    "import plotly.express as px\n",
    "\n",
    "# Para solicitar senha\n",
    "import getpass\n",
    "\n",
    "# Dataframe: tratar dados no Python\n",
    "import pandas as pd\n",
    "\n",
    "# Para conectar ao SGBD\n",
    "import psycopg2 as pg\n"
   ]
  },
  {
   "cell_type": "markdown",
   "id": "ed4a8e2a",
   "metadata": {},
   "source": [
    "Caso obtenha algum erro, utilize o **!pip install** para instalar a biblioteca ausente!\n"
   ]
  },
  {
   "cell_type": "markdown",
   "id": "350689c2",
   "metadata": {},
   "source": [
    "Você também pode conferir de onde está executando o Python e qual a versão"
   ]
  },
  {
   "cell_type": "code",
   "execution_count": null,
   "id": "83c11069",
   "metadata": {},
   "outputs": [],
   "source": [
    "print(\"Executável:\")\n",
    "print(sys.executable)\n",
    "\n",
    "print(\"\\nVersão do Python:\")\n",
    "print(sys.version)"
   ]
  },
  {
   "cell_type": "markdown",
   "id": "f5af3119",
   "metadata": {},
   "source": [
    "Vamos conferir em qual diretório iremos trabalhar (é o diretório do notebook)"
   ]
  },
  {
   "cell_type": "code",
   "execution_count": null,
   "id": "5764b4b1",
   "metadata": {},
   "outputs": [],
   "source": [
    "print(\"O seu notebook está na pasta:\")\n",
    "print(os.getcwd())"
   ]
  },
  {
   "cell_type": "markdown",
   "id": "3a2c9138",
   "metadata": {},
   "source": [
    "## Conectando à base de dados\n",
    "\n",
    "O nosso objetivo final aqui é realizar alguma análise de dados (ex: extrair valores vendidos no mês, criar gráfico com quantidade de vendas). Como os dados estão armazenados em um SGBD, precisaremos criar uma conexão para permitir esta troca de informações:\n",
    "\n",
    "<img src=\"https://bigdata-22-2.s3.us-east-2.amazonaws.com/sql/pandas_sql.png\">"
   ]
  },
  {
   "cell_type": "markdown",
   "id": "9ac93fa2",
   "metadata": {},
   "source": [
    "Para isso, primeiro iremos configurar algumas variáveis que irão conter as informações da conexão (caminho até o servidor, porta, database, usuário, senha):"
   ]
  },
  {
   "cell_type": "code",
   "execution_count": null,
   "id": "943bba7d",
   "metadata": {},
   "outputs": [],
   "source": [
    "host = \"18.117.69.137\"\n",
    "port = 5432\n",
    "db = \"aulas\"\n",
    "username = \"\"\n",
    "# Para encontrar a senha: procure, no seu e-mail, por \"feedbackinsper\"\n",
    "password = \"\"\n",
    "# Se não quiser deixar a senha escrita no notebook,\n",
    "# descomente a próxima linha. Será solicitado que informe a senha a cada execução.\n",
    "# password = getpass.getpass(\"Digite a senha: \")"
   ]
  },
  {
   "cell_type": "markdown",
   "id": "aee3e19c",
   "metadata": {},
   "source": [
    "### Um primeiro exemplo de conexão\n",
    "\n",
    "Para criar uma conexão, utilizaremos `pg.connect`, passando as informações necessárias (caminho até o servidor, porta, database, usuário, senha)"
   ]
  },
  {
   "cell_type": "code",
   "execution_count": null,
   "id": "19a8ecd9",
   "metadata": {},
   "outputs": [],
   "source": [
    "conn = pg.connect(host=host, port=port, database=db, user=username, password=password)\n",
    "\n",
    "cur = conn.cursor()"
   ]
  },
  {
   "cell_type": "markdown",
   "id": "bc54b06b",
   "metadata": {},
   "source": [
    "Agora a conexão existe e podemos utilizá-la para recuperar informações, por exemplo, sobre nossos clientes"
   ]
  },
  {
   "cell_type": "code",
   "execution_count": null,
   "id": "75dee5cd",
   "metadata": {},
   "outputs": [],
   "source": [
    "query = \"SELECT * FROM olist.customer LIMIT 2\"\n",
    "\n",
    "cur.execute(query)\n",
    "\n",
    "dados_clientes = cur.fetchall()\n",
    "\n",
    "print(dados_clientes)"
   ]
  },
  {
   "cell_type": "markdown",
   "id": "b0a596b2",
   "metadata": {},
   "source": [
    "### Fechando a conexão\n",
    "\n",
    "Quando a conexão não for mais necessária, é indicado que a conexão e o cursor sejam fechados, liberando recurso para os demais usuários."
   ]
  },
  {
   "cell_type": "code",
   "execution_count": null,
   "id": "a5d20801",
   "metadata": {},
   "outputs": [],
   "source": [
    "cur.close()\n",
    "conn.close()"
   ]
  },
  {
   "cell_type": "markdown",
   "id": "7779a9e9",
   "metadata": {},
   "source": [
    "## Base de dados pública da Olist\n",
    "\n",
    "Nesta aula, utilizaremos uma base pública, a **Brazilian E-Commerce Public Dataset by Olist**. Ela está disponível no **Kaggle** (https://www.kaggle.com/olistbr/brazilian-ecommerce), uma fonte legal para conseguir dados públicos e evoluir seus conhecimentos em Machine Learning.\n",
    "\n",
    "<img src=\"https://bigdata-22-2.s3.us-east-2.amazonaws.com/sql/olist_db.png\">"
   ]
  },
  {
   "cell_type": "markdown",
   "id": "f26d6c04",
   "metadata": {},
   "source": [
    "Os dados da base já foram baixados pelo professor e inseridos no SGBD PostgreSQL no **schema** **olist**. A relação entre as tabelas é:\n",
    "\n",
    "<img src=\"https://bigdata-22-2.s3.us-east-2.amazonaws.com/sql/olist_der.png\">"
   ]
  },
  {
   "cell_type": "markdown",
   "id": "7862decc",
   "metadata": {},
   "source": [
    "## Pandas\n",
    "\n",
    "Para facilitar nosso trabalho com os dados tabulares extraídos do SGBD, iremos utilizar as bibliotecas Pandas e Dask para armazenar os dados em DataFrames. Uma outra facilidade é que o Pandas e Dask já possuem uma API para recuperar dados direto de SGBDs utilizando SQL\n",
    "\n",
    "Vamos criar uma função que cria uma conexão, recupera dados e retorna um DataFrame:"
   ]
  },
  {
   "cell_type": "code",
   "execution_count": null,
   "id": "2a17584f",
   "metadata": {},
   "outputs": [],
   "source": [
    "def get_pandas_df(sql):\n",
    "    conn = pg.connect(host=host, port=port, database=db, user=username, password=password)\n",
    "    \n",
    "    df = pd.read_sql_query(sql, conn)\n",
    "    \n",
    "    conn.close()\n",
    "    \n",
    "    return df"
   ]
  },
  {
   "cell_type": "markdown",
   "id": "e778d491",
   "metadata": {},
   "source": [
    "Pronto! Agora podemos executar qualquer query e ter os resultados disponíveis!"
   ]
  },
  {
   "cell_type": "code",
   "execution_count": null,
   "id": "13cdb42d",
   "metadata": {},
   "outputs": [],
   "source": [
    "sql = \"\"\"\n",
    "SELECT id, city as cidade, state as uf\n",
    "FROM olist.customer c\n",
    "LIMIT 5\n",
    "\"\"\"\n",
    "\n",
    "df_cliente = get_pandas_df(sql)"
   ]
  },
  {
   "cell_type": "markdown",
   "id": "629e90f1",
   "metadata": {},
   "source": [
    "Exibindo os resultados!"
   ]
  },
  {
   "cell_type": "code",
   "execution_count": null,
   "id": "bc80ece8",
   "metadata": {},
   "outputs": [],
   "source": [
    "dict(df_cliente.dtypes)"
   ]
  },
  {
   "cell_type": "code",
   "execution_count": null,
   "id": "c5220082-831e-4569-abd0-a52daa224c3c",
   "metadata": {},
   "outputs": [],
   "source": [
    "df_cliente"
   ]
  },
  {
   "cell_type": "markdown",
   "id": "cafeeec7",
   "metadata": {},
   "source": [
    "## Pandas + SQLAlchemy\n",
    "\n",
    "Apesar de funcionar, nas células anteriores você pode ter recebido um aviso que Pandas oficialmente suporta apenas conexões pela biblioteca **SQLAlchemy**. Vamos verificar como ficaria com esta biblioteca!\n",
    "\n",
    "Caso necessário, descomente a próxima linha e faça a instalação"
   ]
  },
  {
   "cell_type": "code",
   "execution_count": null,
   "id": "033bb1f8",
   "metadata": {},
   "outputs": [],
   "source": [
    "# !python -m pip install sqlalchemy"
   ]
  },
  {
   "cell_type": "markdown",
   "id": "88fcd62e",
   "metadata": {},
   "source": [
    "Vamos importar a biblioteca"
   ]
  },
  {
   "cell_type": "code",
   "execution_count": null,
   "id": "97a3b85c",
   "metadata": {},
   "outputs": [],
   "source": [
    "import sqlalchemy"
   ]
  },
  {
   "cell_type": "markdown",
   "id": "7aa8ef6d",
   "metadata": {},
   "source": [
    "Verifique as alterações na função `get_pandas_df` para funcionar com sqlalchemy:"
   ]
  },
  {
   "cell_type": "code",
   "execution_count": null,
   "id": "9b641265",
   "metadata": {},
   "outputs": [],
   "source": [
    "def get_pandas_df(sql):\n",
    "    engine = sqlalchemy.create_engine(f\"postgresql+psycopg2://{username}:{password}@{host}:{port}/{db}\")\n",
    "\n",
    "    df = pd.read_sql_query(sql, engine)\n",
    "\n",
    "    engine.dispose()\n",
    "    return df"
   ]
  },
  {
   "cell_type": "markdown",
   "id": "3b59caf6",
   "metadata": {},
   "source": [
    "E testar o mesmo exemplo utilizado anteriormente"
   ]
  },
  {
   "cell_type": "code",
   "execution_count": null,
   "id": "f17e8739",
   "metadata": {},
   "outputs": [],
   "source": [
    "sql = \"\"\"\n",
    "SELECT *\n",
    "  FROM olist.customer\n",
    " LIMIT 5\n",
    "\"\"\"\n",
    "\n",
    "df_cliente = get_pandas_df(sql)\n",
    "\n",
    "df_cliente.head()"
   ]
  },
  {
   "cell_type": "markdown",
   "id": "5920efa6",
   "metadata": {},
   "source": [
    "## Pandas: Lendo Tabela Completa\n",
    "\n",
    "Com o uso da função `pd.read_sql_query` conseguimos executar qualquer query. Isto permite realizar *JOIN* entre tabelas, utilizar funções de agrupamento e agregação, etc. Entretanto, em certas situações já temos uma tabela ou *VIEW* com os dados disponíveis. Nestas situações, o Pandas disponibiliza a função `read_sql_table`.\n",
    "\n",
    "Vamos ver um exemplo:"
   ]
  },
  {
   "cell_type": "code",
   "execution_count": null,
   "id": "dd16fa56",
   "metadata": {},
   "outputs": [],
   "source": [
    "engine = sqlalchemy.create_engine(f\"postgresql+psycopg2://{username}:{password}@{host}:{port}/{db}\")\n",
    "\n",
    "df_clientes = pd.read_sql_table(\"customer\", engine, schema=\"olist\")\n",
    "\n",
    "engine.dispose()\n",
    "\n",
    "df_clientes.head()"
   ]
  },
  {
   "cell_type": "code",
   "execution_count": null,
   "id": "e6f5ef17-501c-4e91-b947-09d95065c856",
   "metadata": {},
   "outputs": [],
   "source": [
    "def get_pandas_table(table, schema):\n",
    "    engine = sqlalchemy.create_engine(f\"postgresql+psycopg2://{username}:{password}@{host}:{port}/{db}\")\n",
    "    df = pd.read_sql_table(table, engine, schema=schema)\n",
    "    engine.dispose()\n",
    "    return df"
   ]
  },
  {
   "cell_type": "markdown",
   "id": "998da0fc",
   "metadata": {},
   "source": [
    "## Processando os dados: API DataFrame\n",
    "\n",
    "Para processar dados provenientes de algum SGBD como o PostgreSQL, uma opção é ler os dados brutos de uma tabela e processar com a API de DataFrames do Pandas."
   ]
  },
  {
   "cell_type": "code",
   "execution_count": null,
   "id": "fe5c4b6b",
   "metadata": {},
   "outputs": [],
   "source": [
    "df_cliente = get_pandas_table(\"customer\", \"olist\")"
   ]
  },
  {
   "cell_type": "markdown",
   "id": "9b4dbd9f",
   "metadata": {},
   "source": [
    "Uma amostra dos dados:"
   ]
  },
  {
   "cell_type": "code",
   "execution_count": null,
   "id": "6436b8fb",
   "metadata": {},
   "outputs": [],
   "source": [
    "df_cliente.head(2)"
   ]
  },
  {
   "cell_type": "markdown",
   "id": "0dc5f174",
   "metadata": {},
   "source": [
    "Quantidade de linhas e colunas"
   ]
  },
  {
   "cell_type": "code",
   "execution_count": null,
   "id": "3264906a",
   "metadata": {},
   "outputs": [],
   "source": [
    "df_cliente.shape"
   ]
  },
  {
   "cell_type": "markdown",
   "id": "c8fe4f48",
   "metadata": {},
   "source": [
    "Vamos realizar a contagem do número de clientes por cidade"
   ]
  },
  {
   "cell_type": "code",
   "execution_count": null,
   "id": "5f020b2c",
   "metadata": {},
   "outputs": [],
   "source": [
    "df_cliente[\"city\"].value_counts(True).round(3).to_frame().head(6)"
   ]
  },
  {
   "cell_type": "markdown",
   "id": "f209aaf2",
   "metadata": {},
   "source": [
    "## Processando os dados com SQL\n",
    "\n",
    "Uma outra opção é processar os dados utilizando uma query e recuperar apenas os resultados:"
   ]
  },
  {
   "cell_type": "code",
   "execution_count": null,
   "id": "3dd1eb59",
   "metadata": {},
   "outputs": [],
   "source": [
    "# Preencha aqui\n",
    "sql = \"\"\"\n",
    "SELECT c.city,\n",
    "       ROUND(COUNT(c.city) /\n",
    "               (SELECT count(1)::NUMERIC\n",
    "                FROM olist.customer), 3) AS proportion\n",
    "FROM olist.customer AS c\n",
    "GROUP BY c.city\n",
    "ORDER BY proportion DESC\n",
    "LIMIT 6\n",
    "\"\"\"\n",
    "\n",
    "df_city_dist = get_pandas_df(sql)\n",
    "df_city_dist"
   ]
  },
  {
   "cell_type": "markdown",
   "id": "dc38e436",
   "metadata": {},
   "source": [
    "## Gerando gráficos com Plotly Express\n",
    "\n",
    "Vamos utilizar o `plotly.express` para gerar gráficos interativos. Veja mais em https://plotly.com/python/plotly-express/"
   ]
  },
  {
   "cell_type": "code",
   "execution_count": null,
   "id": "7e751e9a-cdb5-4cb6-8351-61c2650b511c",
   "metadata": {},
   "outputs": [],
   "source": [
    "sql = \"\"\"\n",
    "SELECT c.state AS UF,\n",
    "       ROUND(COUNT(c.state) /\n",
    "               (SELECT count(1)::NUMERIC\n",
    "                FROM olist.customer), 3) AS freq_clientes\n",
    "FROM olist.customer AS c\n",
    "GROUP BY c.state\n",
    "ORDER BY freq_clientes DESC\n",
    "LIMIT 6\n",
    "\"\"\"\n",
    "\n",
    "df_uf_dist = get_pandas_df(sql)\n",
    "df_uf_dist"
   ]
  },
  {
   "cell_type": "code",
   "execution_count": null,
   "id": "320bc027",
   "metadata": {},
   "outputs": [],
   "source": [
    "px.bar(df_uf_dist, x=\"uf\", y=\"freq_clientes\")"
   ]
  },
  {
   "cell_type": "markdown",
   "id": "23220646",
   "metadata": {},
   "source": [
    "Vamos atualizar informações do gráfico como labels dos eixos para melhorar a exibição!"
   ]
  },
  {
   "cell_type": "code",
   "execution_count": null,
   "id": "7e80c144",
   "metadata": {},
   "outputs": [],
   "source": [
    "# Alguns templates\n",
    "# [\"plotly\", \"plotly_white\", \"plotly_dark\", \"ggplot2\", \"seaborn\", \"simple_white\", \"none\"]\n",
    "\n",
    "px.bar(df_uf_dist, x=\"uf\", y=\"freq_clientes\",\n",
    "       labels={\"freq_clientes\": \"Frequência\", \"uf\": \"Estado\"},\n",
    "       title=\"Distribuição dos clientes por UF\", color=\"freq_clientes\",\n",
    "       template=\"ggplot2\")"
   ]
  },
  {
   "cell_type": "markdown",
   "id": "6c001056",
   "metadata": {},
   "source": [
    "## Plot de Mapas com Folium\n",
    "\n",
    "Vamos utilizar o `folium` para gerar gráficos interativos com informações georeferenciadas. Veja mais em https://python-visualization.github.io/folium/ e https://www.openstreetmap.org\n",
    "\n",
    "Importe a biblioteca folium. Caso não seja possível, realize a instalação descomentando a seguinte célula:"
   ]
  },
  {
   "cell_type": "code",
   "execution_count": null,
   "id": "0f129c62",
   "metadata": {},
   "outputs": [],
   "source": [
    "# !python -m pip install folium"
   ]
  },
  {
   "cell_type": "markdown",
   "id": "487d9881",
   "metadata": {},
   "source": [
    "Vamos importar as bibliotecas necessárias"
   ]
  },
  {
   "cell_type": "code",
   "execution_count": null,
   "id": "43231c30",
   "metadata": {},
   "outputs": [],
   "source": [
    "# Para mapas\n",
    "import folium\n",
    "\n",
    "# Para mapa de calor\n",
    "from folium.plugins import HeatMap"
   ]
  },
  {
   "cell_type": "markdown",
   "id": "cfb507de",
   "metadata": {},
   "source": [
    "Vamos exibir um primeiro mapa centrado na cidade de são paulo"
   ]
  },
  {
   "cell_type": "code",
   "execution_count": null,
   "id": "d4fef7d8",
   "metadata": {},
   "outputs": [],
   "source": [
    "mapa = folium.Map(\n",
    "    location=[-23.5489, -46.6388],\n",
    "    zoom_start=12\n",
    ")\n",
    "\n",
    "mapa"
   ]
  },
  {
   "cell_type": "markdown",
   "id": "26d0f446",
   "metadata": {},
   "source": [
    "Agora, vamos recuperar informações de alguns clientes (latitude e longitute) e plotar no mapa"
   ]
  },
  {
   "cell_type": "code",
   "execution_count": null,
   "id": "3130876a",
   "metadata": {},
   "outputs": [],
   "source": [
    "# recupera aleatoriamente 3% da base\n",
    "\n",
    "sql = \"\"\"\n",
    "SELECT g.lat,\n",
    "       g.lng\n",
    "FROM olist.seller s,\n",
    "     olist.geolocation g\n",
    "WHERE s.zip_code_prefix = g.zip_code_prefix\n",
    "  AND random() < 0.03\n",
    "\"\"\""
   ]
  },
  {
   "cell_type": "markdown",
   "id": "71b12c85",
   "metadata": {},
   "source": [
    "Recuperando os dados"
   ]
  },
  {
   "cell_type": "code",
   "execution_count": null,
   "id": "a0fcd299",
   "metadata": {},
   "outputs": [],
   "source": [
    "df_heat = get_pandas_df(sql)\n",
    "df_heat.head()"
   ]
  },
  {
   "cell_type": "code",
   "execution_count": null,
   "id": "092e74d6",
   "metadata": {},
   "outputs": [],
   "source": [
    "df_heat.shape"
   ]
  },
  {
   "cell_type": "markdown",
   "id": "4851b96f",
   "metadata": {},
   "source": [
    "Transformando em listas"
   ]
  },
  {
   "cell_type": "code",
   "execution_count": null,
   "id": "4b874d88",
   "metadata": {},
   "outputs": [],
   "source": [
    "lat_list = df_heat[\"lat\"].to_list()\n",
    "lng_list = df_heat[\"lng\"].to_list()\n",
    "print(lat_list)"
   ]
  },
  {
   "cell_type": "markdown",
   "id": "3b5c2d75",
   "metadata": {},
   "source": [
    "Exibindo o mapa de calor"
   ]
  },
  {
   "cell_type": "code",
   "execution_count": null,
   "id": "a5dec8b5",
   "metadata": {
    "scrolled": true
   },
   "outputs": [],
   "source": [
    "mapa = folium.Map(\n",
    "    location=[-23.5489, -46.6388],\n",
    "    zoom_start=4\n",
    ")\n",
    "\n",
    "HeatMap(list(zip(lat_list, lng_list))).add_to(mapa)\n",
    "\n",
    "mapa"
   ]
  },
  {
   "cell_type": "markdown",
   "id": "52101b51",
   "metadata": {},
   "source": [
    "## Exercício 1\n",
    "\n",
    "Identifique, na base olist.order_item, quais são os 20 produtos com mais vendas (valor total). Exiba um DataFrame contendo as informações do product_id e valor total faturado"
   ]
  },
  {
   "cell_type": "code",
   "execution_count": null,
   "id": "1d620ccb",
   "metadata": {},
   "outputs": [],
   "source": [
    "sql = \"\"\"\n",
    " -- Sua query aqui\n",
    " \"\"\"\n",
    "\n",
    "df_top20 = get_pandas_df(sql)\n",
    "df_top20"
   ]
  },
  {
   "cell_type": "markdown",
   "id": "7ae78660",
   "metadata": {},
   "source": [
    "## Exercício 2\n",
    "\n",
    "Exiba as informações do Exercício 1 em um gráfico de barras"
   ]
  },
  {
   "cell_type": "code",
   "execution_count": null,
   "id": "5e5e4604",
   "metadata": {},
   "outputs": [],
   "source": []
  },
  {
   "cell_type": "markdown",
   "id": "dfca3245",
   "metadata": {},
   "source": [
    "## Exercício 3\n",
    "\n",
    "Na base de ordens (`olist.order`), quais são os possíveis status para as compras?"
   ]
  },
  {
   "cell_type": "code",
   "execution_count": null,
   "id": "07513544",
   "metadata": {},
   "outputs": [],
   "source": []
  },
  {
   "cell_type": "markdown",
   "id": "21d54a4a",
   "metadata": {},
   "source": [
    "## Exercício 4\n",
    "\n",
    "Realize uma alteração na query do Exercício 1 para considerar apenas ordens com status entregue. Exiba um DataFrame e também um gráfico de barras"
   ]
  },
  {
   "cell_type": "code",
   "execution_count": null,
   "id": "eef0356f",
   "metadata": {},
   "outputs": [],
   "source": []
  },
  {
   "cell_type": "code",
   "execution_count": null,
   "id": "ecdfb5d0",
   "metadata": {},
   "outputs": [],
   "source": []
  },
  {
   "cell_type": "markdown",
   "id": "000caff4",
   "metadata": {},
   "source": [
    "## Exercício 5\n",
    "\n",
    "Considere apenas ordens com status entregue e sellers de SP. Encontre os top 5 produtos com maior faturamento (retorne o product_id e o faturamento total). Exiba um DataFrame e também um gráfico de barras"
   ]
  },
  {
   "cell_type": "code",
   "execution_count": null,
   "id": "fb538184",
   "metadata": {},
   "outputs": [],
   "source": []
  },
  {
   "cell_type": "markdown",
   "id": "ef0fb562",
   "metadata": {},
   "source": [
    "## Exercício 6\n",
    "\n",
    "Considere apenas ordens com status entregue. Crie uma query SQL que calcule o faturamento mensal da olist em 2017. Exiba o DataFrame e um gráfico de linhas.\n",
    "\n",
    "Dicas:\n",
    "- Utilize `date_part` no SQL para extrair mês e ano https://www.postgresql.org/docs/13/functions-datetime.html\n",
    "- px.line https://plotly.com/python/line-charts/"
   ]
  },
  {
   "cell_type": "code",
   "execution_count": null,
   "id": "44363dcd",
   "metadata": {},
   "outputs": [],
   "source": []
  },
  {
   "cell_type": "code",
   "execution_count": null,
   "id": "479e2191",
   "metadata": {},
   "outputs": [],
   "source": []
  },
  {
   "cell_type": "code",
   "execution_count": null,
   "id": "b5039045",
   "metadata": {},
   "outputs": [],
   "source": []
  },
  {
   "cell_type": "markdown",
   "id": "d66709c7",
   "metadata": {},
   "source": [
    "## Exercício 7\n",
    "\n",
    "Considere apenas ordens com status entregue. Crie uma query SQL que calcule o faturamento mensal da olist em 2017 por UF do seller. Exiba o DataFrame (contento colunas de mês, UF e faturamento), além de um gráfico de linhas\n",
    "\n",
    "Dicas:\n",
    "- Utilize date_part no SQL para extrair mês e ano https://www.postgresql.org/docs/13/functions-datetime.html\n",
    "- px.line https://plotly.com/python/line-charts/"
   ]
  },
  {
   "cell_type": "code",
   "execution_count": null,
   "id": "2f3c2562",
   "metadata": {},
   "outputs": [],
   "source": []
  },
  {
   "cell_type": "code",
   "execution_count": null,
   "id": "ac3d27da",
   "metadata": {},
   "outputs": [],
   "source": []
  },
  {
   "cell_type": "markdown",
   "id": "2550591a",
   "metadata": {},
   "source": [
    "## Exercício 8\n",
    "\n",
    "Vamos exibir onde estão localizados os sellers da olist?!\n",
    "\n",
    "Cruze as tabelas de seller e geolocation, e exiba um mapa de calor contendo aproximadamente 3% da base."
   ]
  },
  {
   "cell_type": "code",
   "execution_count": null,
   "id": "9e6b07fb",
   "metadata": {},
   "outputs": [],
   "source": []
  },
  {
   "cell_type": "code",
   "execution_count": null,
   "id": "15c1955d",
   "metadata": {},
   "outputs": [],
   "source": []
  },
  {
   "cell_type": "code",
   "execution_count": null,
   "id": "730d96d0",
   "metadata": {},
   "outputs": [],
   "source": []
  }
 ],
 "metadata": {
  "kernelspec": {
   "display_name": "big242",
   "language": "python",
   "name": "python3"
  },
  "language_info": {
   "codemirror_mode": {
    "name": "ipython",
    "version": 3
   },
   "file_extension": ".py",
   "mimetype": "text/x-python",
   "name": "python",
   "nbconvert_exporter": "python",
   "pygments_lexer": "ipython3",
   "version": "3.10.14"
  }
 },
 "nbformat": 4,
 "nbformat_minor": 5
}
