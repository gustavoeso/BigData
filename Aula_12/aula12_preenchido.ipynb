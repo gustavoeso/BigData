{
 "cells": [
  {
   "cell_type": "markdown",
   "id": "9d2c7a26",
   "metadata": {},
   "source": [
    "# Big Data para Dados Públicos\n",
    "\n",
    "##### Maciel C. Vidal\n",
    "\n",
    "Na aula de hoje iremos conferir como criar, em um Jupyter Notebook, uma conexão com um SGBD para recuperar dados. Os dados desejados serão especificados utilizando SQL.\n"
   ]
  },
  {
   "cell_type": "markdown",
   "id": "9a653bca",
   "metadata": {},
   "source": [
    "## Instalando as bibliotecas necessárias\n",
    "\n",
    "Para criar uma conexão com o PostgreSQL, iremos utilizar a biblioteca `psycopg2`. Tente realizar o import dela e se não for possível, descomente e execute a seguinte linha para instalação:"
   ]
  },
  {
   "cell_type": "code",
   "execution_count": null,
   "id": "b0c291da",
   "metadata": {},
   "outputs": [
    {
     "name": "stdout",
     "output_type": "stream",
     "text": [
      "Collecting psycopg2-binary\n",
      "  Downloading psycopg2_binary-2.9.10-cp312-cp312-win_amd64.whl.metadata (5.0 kB)\n",
      "Downloading psycopg2_binary-2.9.10-cp312-cp312-win_amd64.whl (1.2 MB)\n",
      "   ---------------------------------------- 0.0/1.2 MB ? eta -:--:--\n",
      "   ---------------------------------------- 1.2/1.2 MB 19.2 MB/s eta 0:00:00\n",
      "Installing collected packages: psycopg2-binary\n",
      "Successfully installed psycopg2-binary-2.9.10\n"
     ]
    },
    {
     "name": "stderr",
     "output_type": "stream",
     "text": [
      "\n",
      "[notice] A new release of pip is available: 24.2 -> 24.3.1\n",
      "[notice] To update, run: python.exe -m pip install --upgrade pip\n"
     ]
    }
   ],
   "source": [
    "# !python -m pip install psycopg2-binary"
   ]
  },
  {
   "cell_type": "markdown",
   "id": "fa1c7bcc",
   "metadata": {},
   "source": [
    "Para criação de gráficos interativos, vamos utilizar a biblioteca `plotly.express`. Tente realizar o import dela e se não for possível, descomente e execute a seguinte linha para instalação:"
   ]
  },
  {
   "cell_type": "code",
   "execution_count": null,
   "id": "55ea6d26",
   "metadata": {},
   "outputs": [
    {
     "name": "stdout",
     "output_type": "stream",
     "text": [
      "Requirement already satisfied: plotly_express in c:\\users\\guoli\\documents\\insper\\bigdata\\venv\\lib\\site-packages (0.4.1)\n",
      "Requirement already satisfied: pandas>=0.20.0 in c:\\users\\guoli\\documents\\insper\\bigdata\\venv\\lib\\site-packages (from plotly_express) (2.2.2)\n",
      "Requirement already satisfied: plotly>=4.1.0 in c:\\users\\guoli\\documents\\insper\\bigdata\\venv\\lib\\site-packages (from plotly_express) (5.23.0)\n",
      "Requirement already satisfied: statsmodels>=0.9.0 in c:\\users\\guoli\\documents\\insper\\bigdata\\venv\\lib\\site-packages (from plotly_express) (0.14.2)\n",
      "Requirement already satisfied: scipy>=0.18 in c:\\users\\guoli\\documents\\insper\\bigdata\\venv\\lib\\site-packages (from plotly_express) (1.14.0)\n",
      "Requirement already satisfied: patsy>=0.5 in c:\\users\\guoli\\documents\\insper\\bigdata\\venv\\lib\\site-packages (from plotly_express) (0.5.6)\n",
      "Requirement already satisfied: numpy>=1.11 in c:\\users\\guoli\\documents\\insper\\bigdata\\venv\\lib\\site-packages (from plotly_express) (2.0.1)\n",
      "Requirement already satisfied: python-dateutil>=2.8.2 in c:\\users\\guoli\\documents\\insper\\bigdata\\venv\\lib\\site-packages (from pandas>=0.20.0->plotly_express) (2.9.0.post0)\n",
      "Requirement already satisfied: pytz>=2020.1 in c:\\users\\guoli\\documents\\insper\\bigdata\\venv\\lib\\site-packages (from pandas>=0.20.0->plotly_express) (2024.1)\n",
      "Requirement already satisfied: tzdata>=2022.7 in c:\\users\\guoli\\documents\\insper\\bigdata\\venv\\lib\\site-packages (from pandas>=0.20.0->plotly_express) (2024.1)\n",
      "Requirement already satisfied: six in c:\\users\\guoli\\documents\\insper\\bigdata\\venv\\lib\\site-packages (from patsy>=0.5->plotly_express) (1.16.0)\n",
      "Requirement already satisfied: tenacity>=6.2.0 in c:\\users\\guoli\\documents\\insper\\bigdata\\venv\\lib\\site-packages (from plotly>=4.1.0->plotly_express) (9.0.0)\n",
      "Requirement already satisfied: packaging in c:\\users\\guoli\\documents\\insper\\bigdata\\venv\\lib\\site-packages (from plotly>=4.1.0->plotly_express) (24.1)\n"
     ]
    },
    {
     "name": "stderr",
     "output_type": "stream",
     "text": [
      "\n",
      "[notice] A new release of pip is available: 24.2 -> 24.3.1\n",
      "[notice] To update, run: python.exe -m pip install --upgrade pip\n"
     ]
    }
   ],
   "source": [
    "# !python -m pip install plotly_express"
   ]
  },
  {
   "cell_type": "markdown",
   "id": "ada4bcce",
   "metadata": {},
   "source": [
    "## Importando as bibliotecas necessárias\n",
    "\n",
    "Agora, vamos importar as bibliotecas necessárias:"
   ]
  },
  {
   "cell_type": "code",
   "execution_count": 3,
   "id": "a3a7e9dc",
   "metadata": {},
   "outputs": [],
   "source": [
    "# Para utilizar recursos do sistema\n",
    "import os\n",
    "import sys\n",
    "\n",
    "# Para plot de gráficos\n",
    "%matplotlib inline\n",
    "import matplotlib.pyplot as plt\n",
    "import plotly.express as px\n",
    "\n",
    "# Para solicitar senha\n",
    "import getpass\n",
    "\n",
    "# Dataframe: tratar dados no Python\n",
    "import pandas as pd\n",
    "\n",
    "# Para conectar ao SGBD\n",
    "import psycopg2 as pg\n"
   ]
  },
  {
   "cell_type": "markdown",
   "id": "ed4a8e2a",
   "metadata": {},
   "source": [
    "Caso obtenha algum erro, utilize o **!pip install** para instalar a biblioteca ausente!\n"
   ]
  },
  {
   "cell_type": "markdown",
   "id": "350689c2",
   "metadata": {},
   "source": [
    "Você também pode conferir de onde está executando o Python e qual a versão"
   ]
  },
  {
   "cell_type": "code",
   "execution_count": 4,
   "id": "83c11069",
   "metadata": {},
   "outputs": [
    {
     "name": "stdout",
     "output_type": "stream",
     "text": [
      "Executável:\n",
      "c:\\Users\\guoli\\Documents\\Insper\\BigData\\venv\\Scripts\\python.exe\n",
      "\n",
      "Versão do Python:\n",
      "3.12.7 (tags/v3.12.7:0b05ead, Oct  1 2024, 03:06:41) [MSC v.1941 64 bit (AMD64)]\n"
     ]
    }
   ],
   "source": [
    "print(\"Executável:\")\n",
    "print(sys.executable)\n",
    "\n",
    "print(\"\\nVersão do Python:\")\n",
    "print(sys.version)"
   ]
  },
  {
   "cell_type": "markdown",
   "id": "f5af3119",
   "metadata": {},
   "source": [
    "Vamos conferir em qual diretório iremos trabalhar (é o diretório do notebook)"
   ]
  },
  {
   "cell_type": "code",
   "execution_count": 5,
   "id": "5764b4b1",
   "metadata": {},
   "outputs": [
    {
     "name": "stdout",
     "output_type": "stream",
     "text": [
      "O seu notebook está na pasta:\n",
      "c:\\Users\\guoli\\Documents\\Insper\\BigData\\Aula_12\n"
     ]
    }
   ],
   "source": [
    "print(\"O seu notebook está na pasta:\")\n",
    "print(os.getcwd())"
   ]
  },
  {
   "cell_type": "markdown",
   "id": "3a2c9138",
   "metadata": {},
   "source": [
    "## Conectando à base de dados\n",
    "\n",
    "O nosso objetivo final aqui é realizar alguma análise de dados (ex: extrair valores vendidos no mês, criar gráfico com quantidade de vendas). Como os dados estão armazenados em um SGBD, precisaremos criar uma conexão para permitir esta troca de informações:\n",
    "\n",
    "<img src=\"https://bigdata-22-2.s3.us-east-2.amazonaws.com/sql/pandas_sql.png\">"
   ]
  },
  {
   "cell_type": "markdown",
   "id": "9ac93fa2",
   "metadata": {},
   "source": [
    "Para isso, primeiro iremos configurar algumas variáveis que irão conter as informações da conexão (caminho até o servidor, porta, database, usuário, senha):"
   ]
  },
  {
   "cell_type": "code",
   "execution_count": 6,
   "id": "943bba7d",
   "metadata": {},
   "outputs": [],
   "source": [
    "host = \"18.117.69.137\"\n",
    "port = 5432\n",
    "db = \"aulas\"\n",
    "username = \"gustavoeso\"\n",
    "# Para encontrar a senha: procure, no seu e-mail, por \"feedbackinsper\"\n",
    "# password = \"\"\n",
    "# Se não quiser deixar a senha escrita no notebook,\n",
    "# descomente a próxima linha. Será solicitado que informe a senha a cada execução.\n",
    "password = getpass.getpass(\"Digite a senha: \")"
   ]
  },
  {
   "cell_type": "markdown",
   "id": "aee3e19c",
   "metadata": {},
   "source": [
    "### Um primeiro exemplo de conexão\n",
    "\n",
    "Para criar uma conexão, utilizaremos `pg.connect`, passando as informações necessárias (caminho até o servidor, porta, database, usuário, senha)"
   ]
  },
  {
   "cell_type": "code",
   "execution_count": 7,
   "id": "19a8ecd9",
   "metadata": {},
   "outputs": [],
   "source": [
    "conn = pg.connect(host=host, port=port, database=db, user=username, password=password)\n",
    "\n",
    "cur = conn.cursor()"
   ]
  },
  {
   "cell_type": "markdown",
   "id": "bc54b06b",
   "metadata": {},
   "source": [
    "Agora a conexão existe e podemos utilizá-la para recuperar informações, por exemplo, sobre nossos clientes"
   ]
  },
  {
   "cell_type": "code",
   "execution_count": 8,
   "id": "75dee5cd",
   "metadata": {},
   "outputs": [
    {
     "name": "stdout",
     "output_type": "stream",
     "text": [
      "[('06b8999e2fba1a1fbc88172c00ba8bc7', '861eff4711a542e4b93843c6dd7febb0', 14409, 'franca', 'SP'), ('18955e83d337fd6b2def6b18a428ac77', '290c77bc529b7ac935b93aa66c333dc3', 9790, 'sao bernardo do campo', 'SP')]\n"
     ]
    }
   ],
   "source": [
    "query = \"SELECT * FROM olist.customer LIMIT 2\"\n",
    "\n",
    "cur.execute(query)\n",
    "\n",
    "dados_clientes = cur.fetchall()\n",
    "\n",
    "print(dados_clientes)"
   ]
  },
  {
   "cell_type": "markdown",
   "id": "b0a596b2",
   "metadata": {},
   "source": [
    "### Fechando a conexão\n",
    "\n",
    "Quando a conexão não for mais necessária, é indicado que a conexão e o cursor sejam fechados, liberando recurso para os demais usuários."
   ]
  },
  {
   "cell_type": "code",
   "execution_count": 9,
   "id": "a5d20801",
   "metadata": {},
   "outputs": [],
   "source": [
    "cur.close()\n",
    "conn.close()"
   ]
  },
  {
   "cell_type": "markdown",
   "id": "7779a9e9",
   "metadata": {},
   "source": [
    "## Base de dados pública da Olist\n",
    "\n",
    "Nesta aula, utilizaremos uma base pública, a **Brazilian E-Commerce Public Dataset by Olist**. Ela está disponível no **Kaggle** (https://www.kaggle.com/olistbr/brazilian-ecommerce), uma fonte legal para conseguir dados públicos e evoluir seus conhecimentos em Machine Learning.\n",
    "\n",
    "<img src=\"https://bigdata-22-2.s3.us-east-2.amazonaws.com/sql/olist_db.png\">"
   ]
  },
  {
   "cell_type": "markdown",
   "id": "f26d6c04",
   "metadata": {},
   "source": [
    "Os dados da base já foram baixados pelo professor e inseridos no SGBD PostgreSQL no **schema** **olist**. A relação entre as tabelas é:\n",
    "\n",
    "<img src=\"https://bigdata-22-2.s3.us-east-2.amazonaws.com/sql/olist_der.png\">"
   ]
  },
  {
   "cell_type": "markdown",
   "id": "7862decc",
   "metadata": {},
   "source": [
    "## Pandas\n",
    "\n",
    "Para facilitar nosso trabalho com os dados tabulares extraídos do SGBD, iremos utilizar as bibliotecas Pandas e Dask para armazenar os dados em DataFrames. Uma outra facilidade é que o Pandas e Dask já possuem uma API para recuperar dados direto de SGBDs utilizando SQL\n",
    "\n",
    "Vamos criar uma função que cria uma conexão, recupera dados e retorna um DataFrame:"
   ]
  },
  {
   "cell_type": "code",
   "execution_count": 10,
   "id": "2a17584f",
   "metadata": {},
   "outputs": [],
   "source": [
    "def get_pandas_df(sql):\n",
    "    conn = pg.connect(host=host, port=port, database=db, user=username, password=password)\n",
    "    \n",
    "    df = pd.read_sql_query(sql, conn)\n",
    "    \n",
    "    conn.close()\n",
    "    \n",
    "    return df"
   ]
  },
  {
   "cell_type": "markdown",
   "id": "e778d491",
   "metadata": {},
   "source": [
    "Pronto! Agora podemos executar qualquer query e ter os resultados disponíveis!"
   ]
  },
  {
   "cell_type": "code",
   "execution_count": 11,
   "id": "13cdb42d",
   "metadata": {},
   "outputs": [
    {
     "name": "stderr",
     "output_type": "stream",
     "text": [
      "C:\\Users\\guoli\\AppData\\Local\\Temp\\ipykernel_11136\\456190472.py:4: UserWarning: pandas only supports SQLAlchemy connectable (engine/connection) or database string URI or sqlite3 DBAPI2 connection. Other DBAPI2 objects are not tested. Please consider using SQLAlchemy.\n",
      "  df = pd.read_sql_query(sql, conn)\n"
     ]
    }
   ],
   "source": [
    "sql = \"\"\"\n",
    "SELECT id, city as cidade, state as uf\n",
    "FROM olist.customer c\n",
    "LIMIT 5\n",
    "\"\"\"\n",
    "\n",
    "df_cliente = get_pandas_df(sql)"
   ]
  },
  {
   "cell_type": "markdown",
   "id": "629e90f1",
   "metadata": {},
   "source": [
    "Exibindo os resultados!"
   ]
  },
  {
   "cell_type": "code",
   "execution_count": 12,
   "id": "bc80ece8",
   "metadata": {},
   "outputs": [
    {
     "data": {
      "text/plain": [
       "{'id': dtype('O'), 'cidade': dtype('O'), 'uf': dtype('O')}"
      ]
     },
     "execution_count": 12,
     "metadata": {},
     "output_type": "execute_result"
    }
   ],
   "source": [
    "dict(df_cliente.dtypes)"
   ]
  },
  {
   "cell_type": "code",
   "execution_count": 13,
   "id": "c5220082-831e-4569-abd0-a52daa224c3c",
   "metadata": {},
   "outputs": [
    {
     "data": {
      "text/html": [
       "<div>\n",
       "<style scoped>\n",
       "    .dataframe tbody tr th:only-of-type {\n",
       "        vertical-align: middle;\n",
       "    }\n",
       "\n",
       "    .dataframe tbody tr th {\n",
       "        vertical-align: top;\n",
       "    }\n",
       "\n",
       "    .dataframe thead th {\n",
       "        text-align: right;\n",
       "    }\n",
       "</style>\n",
       "<table border=\"1\" class=\"dataframe\">\n",
       "  <thead>\n",
       "    <tr style=\"text-align: right;\">\n",
       "      <th></th>\n",
       "      <th>id</th>\n",
       "      <th>cidade</th>\n",
       "      <th>uf</th>\n",
       "    </tr>\n",
       "  </thead>\n",
       "  <tbody>\n",
       "    <tr>\n",
       "      <th>0</th>\n",
       "      <td>06b8999e2fba1a1fbc88172c00ba8bc7</td>\n",
       "      <td>franca</td>\n",
       "      <td>SP</td>\n",
       "    </tr>\n",
       "    <tr>\n",
       "      <th>1</th>\n",
       "      <td>18955e83d337fd6b2def6b18a428ac77</td>\n",
       "      <td>sao bernardo do campo</td>\n",
       "      <td>SP</td>\n",
       "    </tr>\n",
       "    <tr>\n",
       "      <th>2</th>\n",
       "      <td>4e7b3e00288586ebd08712fdd0374a03</td>\n",
       "      <td>sao paulo</td>\n",
       "      <td>SP</td>\n",
       "    </tr>\n",
       "    <tr>\n",
       "      <th>3</th>\n",
       "      <td>b2b6027bc5c5109e529d4dc6358b12c3</td>\n",
       "      <td>mogi das cruzes</td>\n",
       "      <td>SP</td>\n",
       "    </tr>\n",
       "    <tr>\n",
       "      <th>4</th>\n",
       "      <td>4f2d8ab171c80ec8364f7c12e35b23ad</td>\n",
       "      <td>campinas</td>\n",
       "      <td>SP</td>\n",
       "    </tr>\n",
       "  </tbody>\n",
       "</table>\n",
       "</div>"
      ],
      "text/plain": [
       "                                 id                 cidade  uf\n",
       "0  06b8999e2fba1a1fbc88172c00ba8bc7                 franca  SP\n",
       "1  18955e83d337fd6b2def6b18a428ac77  sao bernardo do campo  SP\n",
       "2  4e7b3e00288586ebd08712fdd0374a03              sao paulo  SP\n",
       "3  b2b6027bc5c5109e529d4dc6358b12c3        mogi das cruzes  SP\n",
       "4  4f2d8ab171c80ec8364f7c12e35b23ad               campinas  SP"
      ]
     },
     "execution_count": 13,
     "metadata": {},
     "output_type": "execute_result"
    }
   ],
   "source": [
    "df_cliente"
   ]
  },
  {
   "cell_type": "markdown",
   "id": "cafeeec7",
   "metadata": {},
   "source": [
    "## Pandas + SQLAlchemy\n",
    "\n",
    "Apesar de funcionar, nas células anteriores você pode ter recebido um aviso que Pandas oficialmente suporta apenas conexões pela biblioteca **SQLAlchemy**. Vamos verificar como ficaria com esta biblioteca!\n",
    "\n",
    "Caso necessário, descomente a próxima linha e faça a instalação"
   ]
  },
  {
   "cell_type": "code",
   "execution_count": null,
   "id": "033bb1f8",
   "metadata": {},
   "outputs": [
    {
     "name": "stdout",
     "output_type": "stream",
     "text": [
      "Collecting sqlalchemy\n",
      "  Downloading SQLAlchemy-2.0.36-cp312-cp312-win_amd64.whl.metadata (9.9 kB)\n",
      "Collecting typing-extensions>=4.6.0 (from sqlalchemy)\n",
      "  Downloading typing_extensions-4.12.2-py3-none-any.whl.metadata (3.0 kB)\n",
      "Collecting greenlet!=0.4.17 (from sqlalchemy)\n",
      "  Downloading greenlet-3.1.1-cp312-cp312-win_amd64.whl.metadata (3.9 kB)\n",
      "Downloading SQLAlchemy-2.0.36-cp312-cp312-win_amd64.whl (2.1 MB)\n",
      "   ---------------------------------------- 0.0/2.1 MB ? eta -:--:--\n",
      "   ---------------------------------------- 2.1/2.1 MB 14.6 MB/s eta 0:00:00\n",
      "Downloading greenlet-3.1.1-cp312-cp312-win_amd64.whl (299 kB)\n",
      "Downloading typing_extensions-4.12.2-py3-none-any.whl (37 kB)\n",
      "Installing collected packages: typing-extensions, greenlet, sqlalchemy\n",
      "Successfully installed greenlet-3.1.1 sqlalchemy-2.0.36 typing-extensions-4.12.2\n"
     ]
    },
    {
     "name": "stderr",
     "output_type": "stream",
     "text": [
      "\n",
      "[notice] A new release of pip is available: 24.2 -> 24.3.1\n",
      "[notice] To update, run: python.exe -m pip install --upgrade pip\n"
     ]
    }
   ],
   "source": [
    "# !python -m pip install sqlalchemy"
   ]
  },
  {
   "cell_type": "markdown",
   "id": "88fcd62e",
   "metadata": {},
   "source": [
    "Vamos importar a biblioteca"
   ]
  },
  {
   "cell_type": "code",
   "execution_count": 15,
   "id": "97a3b85c",
   "metadata": {},
   "outputs": [],
   "source": [
    "import sqlalchemy"
   ]
  },
  {
   "cell_type": "markdown",
   "id": "7aa8ef6d",
   "metadata": {},
   "source": [
    "Verifique as alterações na função `get_pandas_df` para funcionar com sqlalchemy:"
   ]
  },
  {
   "cell_type": "code",
   "execution_count": 16,
   "id": "9b641265",
   "metadata": {},
   "outputs": [],
   "source": [
    "def get_pandas_df(sql):\n",
    "    engine = sqlalchemy.create_engine(f\"postgresql+psycopg2://{username}:{password}@{host}:{port}/{db}\")\n",
    "\n",
    "    df = pd.read_sql_query(sql, engine)\n",
    "\n",
    "    engine.dispose()\n",
    "    return df"
   ]
  },
  {
   "cell_type": "markdown",
   "id": "3b59caf6",
   "metadata": {},
   "source": [
    "E testar o mesmo exemplo utilizado anteriormente"
   ]
  },
  {
   "cell_type": "code",
   "execution_count": 17,
   "id": "f17e8739",
   "metadata": {},
   "outputs": [
    {
     "data": {
      "text/html": [
       "<div>\n",
       "<style scoped>\n",
       "    .dataframe tbody tr th:only-of-type {\n",
       "        vertical-align: middle;\n",
       "    }\n",
       "\n",
       "    .dataframe tbody tr th {\n",
       "        vertical-align: top;\n",
       "    }\n",
       "\n",
       "    .dataframe thead th {\n",
       "        text-align: right;\n",
       "    }\n",
       "</style>\n",
       "<table border=\"1\" class=\"dataframe\">\n",
       "  <thead>\n",
       "    <tr style=\"text-align: right;\">\n",
       "      <th></th>\n",
       "      <th>id</th>\n",
       "      <th>unique_id</th>\n",
       "      <th>zip_code_prefix</th>\n",
       "      <th>city</th>\n",
       "      <th>state</th>\n",
       "    </tr>\n",
       "  </thead>\n",
       "  <tbody>\n",
       "    <tr>\n",
       "      <th>0</th>\n",
       "      <td>06b8999e2fba1a1fbc88172c00ba8bc7</td>\n",
       "      <td>861eff4711a542e4b93843c6dd7febb0</td>\n",
       "      <td>14409</td>\n",
       "      <td>franca</td>\n",
       "      <td>SP</td>\n",
       "    </tr>\n",
       "    <tr>\n",
       "      <th>1</th>\n",
       "      <td>18955e83d337fd6b2def6b18a428ac77</td>\n",
       "      <td>290c77bc529b7ac935b93aa66c333dc3</td>\n",
       "      <td>9790</td>\n",
       "      <td>sao bernardo do campo</td>\n",
       "      <td>SP</td>\n",
       "    </tr>\n",
       "    <tr>\n",
       "      <th>2</th>\n",
       "      <td>4e7b3e00288586ebd08712fdd0374a03</td>\n",
       "      <td>060e732b5b29e8181a18229c7b0b2b5e</td>\n",
       "      <td>1151</td>\n",
       "      <td>sao paulo</td>\n",
       "      <td>SP</td>\n",
       "    </tr>\n",
       "    <tr>\n",
       "      <th>3</th>\n",
       "      <td>b2b6027bc5c5109e529d4dc6358b12c3</td>\n",
       "      <td>259dac757896d24d7702b9acbbff3f3c</td>\n",
       "      <td>8775</td>\n",
       "      <td>mogi das cruzes</td>\n",
       "      <td>SP</td>\n",
       "    </tr>\n",
       "    <tr>\n",
       "      <th>4</th>\n",
       "      <td>4f2d8ab171c80ec8364f7c12e35b23ad</td>\n",
       "      <td>345ecd01c38d18a9036ed96c73b8d066</td>\n",
       "      <td>13056</td>\n",
       "      <td>campinas</td>\n",
       "      <td>SP</td>\n",
       "    </tr>\n",
       "  </tbody>\n",
       "</table>\n",
       "</div>"
      ],
      "text/plain": [
       "                                 id                         unique_id  \\\n",
       "0  06b8999e2fba1a1fbc88172c00ba8bc7  861eff4711a542e4b93843c6dd7febb0   \n",
       "1  18955e83d337fd6b2def6b18a428ac77  290c77bc529b7ac935b93aa66c333dc3   \n",
       "2  4e7b3e00288586ebd08712fdd0374a03  060e732b5b29e8181a18229c7b0b2b5e   \n",
       "3  b2b6027bc5c5109e529d4dc6358b12c3  259dac757896d24d7702b9acbbff3f3c   \n",
       "4  4f2d8ab171c80ec8364f7c12e35b23ad  345ecd01c38d18a9036ed96c73b8d066   \n",
       "\n",
       "   zip_code_prefix                   city state  \n",
       "0            14409                 franca    SP  \n",
       "1             9790  sao bernardo do campo    SP  \n",
       "2             1151              sao paulo    SP  \n",
       "3             8775        mogi das cruzes    SP  \n",
       "4            13056               campinas    SP  "
      ]
     },
     "execution_count": 17,
     "metadata": {},
     "output_type": "execute_result"
    }
   ],
   "source": [
    "sql = \"\"\"\n",
    "SELECT *\n",
    "  FROM olist.customer\n",
    " LIMIT 5\n",
    "\"\"\"\n",
    "\n",
    "df_cliente = get_pandas_df(sql)\n",
    "\n",
    "df_cliente.head()"
   ]
  },
  {
   "cell_type": "markdown",
   "id": "5920efa6",
   "metadata": {},
   "source": [
    "## Pandas: Lendo Tabela Completa\n",
    "\n",
    "Com o uso da função `pd.read_sql_query` conseguimos executar qualquer query. Isto permite realizar *JOIN* entre tabelas, utilizar funções de agrupamento e agregação, etc. Entretanto, em certas situações já temos uma tabela ou *VIEW* com os dados disponíveis. Nestas situações, o Pandas disponibiliza a função `read_sql_table`.\n",
    "\n",
    "Vamos ver um exemplo:"
   ]
  },
  {
   "cell_type": "code",
   "execution_count": 18,
   "id": "dd16fa56",
   "metadata": {},
   "outputs": [
    {
     "data": {
      "text/html": [
       "<div>\n",
       "<style scoped>\n",
       "    .dataframe tbody tr th:only-of-type {\n",
       "        vertical-align: middle;\n",
       "    }\n",
       "\n",
       "    .dataframe tbody tr th {\n",
       "        vertical-align: top;\n",
       "    }\n",
       "\n",
       "    .dataframe thead th {\n",
       "        text-align: right;\n",
       "    }\n",
       "</style>\n",
       "<table border=\"1\" class=\"dataframe\">\n",
       "  <thead>\n",
       "    <tr style=\"text-align: right;\">\n",
       "      <th></th>\n",
       "      <th>id</th>\n",
       "      <th>unique_id</th>\n",
       "      <th>zip_code_prefix</th>\n",
       "      <th>city</th>\n",
       "      <th>state</th>\n",
       "    </tr>\n",
       "  </thead>\n",
       "  <tbody>\n",
       "    <tr>\n",
       "      <th>0</th>\n",
       "      <td>06b8999e2fba1a1fbc88172c00ba8bc7</td>\n",
       "      <td>861eff4711a542e4b93843c6dd7febb0</td>\n",
       "      <td>14409</td>\n",
       "      <td>franca</td>\n",
       "      <td>SP</td>\n",
       "    </tr>\n",
       "    <tr>\n",
       "      <th>1</th>\n",
       "      <td>18955e83d337fd6b2def6b18a428ac77</td>\n",
       "      <td>290c77bc529b7ac935b93aa66c333dc3</td>\n",
       "      <td>9790</td>\n",
       "      <td>sao bernardo do campo</td>\n",
       "      <td>SP</td>\n",
       "    </tr>\n",
       "    <tr>\n",
       "      <th>2</th>\n",
       "      <td>4e7b3e00288586ebd08712fdd0374a03</td>\n",
       "      <td>060e732b5b29e8181a18229c7b0b2b5e</td>\n",
       "      <td>1151</td>\n",
       "      <td>sao paulo</td>\n",
       "      <td>SP</td>\n",
       "    </tr>\n",
       "    <tr>\n",
       "      <th>3</th>\n",
       "      <td>b2b6027bc5c5109e529d4dc6358b12c3</td>\n",
       "      <td>259dac757896d24d7702b9acbbff3f3c</td>\n",
       "      <td>8775</td>\n",
       "      <td>mogi das cruzes</td>\n",
       "      <td>SP</td>\n",
       "    </tr>\n",
       "    <tr>\n",
       "      <th>4</th>\n",
       "      <td>4f2d8ab171c80ec8364f7c12e35b23ad</td>\n",
       "      <td>345ecd01c38d18a9036ed96c73b8d066</td>\n",
       "      <td>13056</td>\n",
       "      <td>campinas</td>\n",
       "      <td>SP</td>\n",
       "    </tr>\n",
       "  </tbody>\n",
       "</table>\n",
       "</div>"
      ],
      "text/plain": [
       "                                 id                         unique_id  \\\n",
       "0  06b8999e2fba1a1fbc88172c00ba8bc7  861eff4711a542e4b93843c6dd7febb0   \n",
       "1  18955e83d337fd6b2def6b18a428ac77  290c77bc529b7ac935b93aa66c333dc3   \n",
       "2  4e7b3e00288586ebd08712fdd0374a03  060e732b5b29e8181a18229c7b0b2b5e   \n",
       "3  b2b6027bc5c5109e529d4dc6358b12c3  259dac757896d24d7702b9acbbff3f3c   \n",
       "4  4f2d8ab171c80ec8364f7c12e35b23ad  345ecd01c38d18a9036ed96c73b8d066   \n",
       "\n",
       "   zip_code_prefix                   city state  \n",
       "0            14409                 franca    SP  \n",
       "1             9790  sao bernardo do campo    SP  \n",
       "2             1151              sao paulo    SP  \n",
       "3             8775        mogi das cruzes    SP  \n",
       "4            13056               campinas    SP  "
      ]
     },
     "execution_count": 18,
     "metadata": {},
     "output_type": "execute_result"
    }
   ],
   "source": [
    "engine = sqlalchemy.create_engine(f\"postgresql+psycopg2://{username}:{password}@{host}:{port}/{db}\")\n",
    "\n",
    "df_clientes = pd.read_sql_table(\"customer\", engine, schema=\"olist\")\n",
    "\n",
    "engine.dispose()\n",
    "\n",
    "df_clientes.head()"
   ]
  },
  {
   "cell_type": "code",
   "execution_count": 19,
   "id": "e6f5ef17-501c-4e91-b947-09d95065c856",
   "metadata": {},
   "outputs": [],
   "source": [
    "def get_pandas_table(table, schema):\n",
    "    engine = sqlalchemy.create_engine(f\"postgresql+psycopg2://{username}:{password}@{host}:{port}/{db}\")\n",
    "    df = pd.read_sql_table(table, engine, schema=schema)\n",
    "    engine.dispose()\n",
    "    return df"
   ]
  },
  {
   "cell_type": "markdown",
   "id": "998da0fc",
   "metadata": {},
   "source": [
    "## Processando os dados: API DataFrame\n",
    "\n",
    "Para processar dados provenientes de algum SGBD como o PostgreSQL, uma opção é ler os dados brutos de uma tabela e processar com a API de DataFrames do Pandas."
   ]
  },
  {
   "cell_type": "code",
   "execution_count": 20,
   "id": "fe5c4b6b",
   "metadata": {},
   "outputs": [],
   "source": [
    "df_cliente = get_pandas_table(\"customer\", \"olist\")"
   ]
  },
  {
   "cell_type": "markdown",
   "id": "9b4dbd9f",
   "metadata": {},
   "source": [
    "Uma amostra dos dados:"
   ]
  },
  {
   "cell_type": "code",
   "execution_count": 21,
   "id": "6436b8fb",
   "metadata": {},
   "outputs": [
    {
     "data": {
      "text/html": [
       "<div>\n",
       "<style scoped>\n",
       "    .dataframe tbody tr th:only-of-type {\n",
       "        vertical-align: middle;\n",
       "    }\n",
       "\n",
       "    .dataframe tbody tr th {\n",
       "        vertical-align: top;\n",
       "    }\n",
       "\n",
       "    .dataframe thead th {\n",
       "        text-align: right;\n",
       "    }\n",
       "</style>\n",
       "<table border=\"1\" class=\"dataframe\">\n",
       "  <thead>\n",
       "    <tr style=\"text-align: right;\">\n",
       "      <th></th>\n",
       "      <th>id</th>\n",
       "      <th>unique_id</th>\n",
       "      <th>zip_code_prefix</th>\n",
       "      <th>city</th>\n",
       "      <th>state</th>\n",
       "    </tr>\n",
       "  </thead>\n",
       "  <tbody>\n",
       "    <tr>\n",
       "      <th>0</th>\n",
       "      <td>06b8999e2fba1a1fbc88172c00ba8bc7</td>\n",
       "      <td>861eff4711a542e4b93843c6dd7febb0</td>\n",
       "      <td>14409</td>\n",
       "      <td>franca</td>\n",
       "      <td>SP</td>\n",
       "    </tr>\n",
       "    <tr>\n",
       "      <th>1</th>\n",
       "      <td>18955e83d337fd6b2def6b18a428ac77</td>\n",
       "      <td>290c77bc529b7ac935b93aa66c333dc3</td>\n",
       "      <td>9790</td>\n",
       "      <td>sao bernardo do campo</td>\n",
       "      <td>SP</td>\n",
       "    </tr>\n",
       "  </tbody>\n",
       "</table>\n",
       "</div>"
      ],
      "text/plain": [
       "                                 id                         unique_id  \\\n",
       "0  06b8999e2fba1a1fbc88172c00ba8bc7  861eff4711a542e4b93843c6dd7febb0   \n",
       "1  18955e83d337fd6b2def6b18a428ac77  290c77bc529b7ac935b93aa66c333dc3   \n",
       "\n",
       "   zip_code_prefix                   city state  \n",
       "0            14409                 franca    SP  \n",
       "1             9790  sao bernardo do campo    SP  "
      ]
     },
     "execution_count": 21,
     "metadata": {},
     "output_type": "execute_result"
    }
   ],
   "source": [
    "df_cliente.head(2)"
   ]
  },
  {
   "cell_type": "markdown",
   "id": "0dc5f174",
   "metadata": {},
   "source": [
    "Quantidade de linhas e colunas"
   ]
  },
  {
   "cell_type": "code",
   "execution_count": 22,
   "id": "3264906a",
   "metadata": {},
   "outputs": [
    {
     "data": {
      "text/plain": [
       "(99441, 5)"
      ]
     },
     "execution_count": 22,
     "metadata": {},
     "output_type": "execute_result"
    }
   ],
   "source": [
    "df_cliente.shape"
   ]
  },
  {
   "cell_type": "markdown",
   "id": "c8fe4f48",
   "metadata": {},
   "source": [
    "Vamos realizar a contagem do número de clientes por cidade"
   ]
  },
  {
   "cell_type": "code",
   "execution_count": 23,
   "id": "5f020b2c",
   "metadata": {},
   "outputs": [
    {
     "data": {
      "text/html": [
       "<div>\n",
       "<style scoped>\n",
       "    .dataframe tbody tr th:only-of-type {\n",
       "        vertical-align: middle;\n",
       "    }\n",
       "\n",
       "    .dataframe tbody tr th {\n",
       "        vertical-align: top;\n",
       "    }\n",
       "\n",
       "    .dataframe thead th {\n",
       "        text-align: right;\n",
       "    }\n",
       "</style>\n",
       "<table border=\"1\" class=\"dataframe\">\n",
       "  <thead>\n",
       "    <tr style=\"text-align: right;\">\n",
       "      <th></th>\n",
       "      <th>proportion</th>\n",
       "    </tr>\n",
       "    <tr>\n",
       "      <th>city</th>\n",
       "      <th></th>\n",
       "    </tr>\n",
       "  </thead>\n",
       "  <tbody>\n",
       "    <tr>\n",
       "      <th>sao paulo</th>\n",
       "      <td>0.156</td>\n",
       "    </tr>\n",
       "    <tr>\n",
       "      <th>rio de janeiro</th>\n",
       "      <td>0.069</td>\n",
       "    </tr>\n",
       "    <tr>\n",
       "      <th>belo horizonte</th>\n",
       "      <td>0.028</td>\n",
       "    </tr>\n",
       "    <tr>\n",
       "      <th>brasilia</th>\n",
       "      <td>0.021</td>\n",
       "    </tr>\n",
       "    <tr>\n",
       "      <th>curitiba</th>\n",
       "      <td>0.015</td>\n",
       "    </tr>\n",
       "    <tr>\n",
       "      <th>campinas</th>\n",
       "      <td>0.015</td>\n",
       "    </tr>\n",
       "  </tbody>\n",
       "</table>\n",
       "</div>"
      ],
      "text/plain": [
       "                proportion\n",
       "city                      \n",
       "sao paulo            0.156\n",
       "rio de janeiro       0.069\n",
       "belo horizonte       0.028\n",
       "brasilia             0.021\n",
       "curitiba             0.015\n",
       "campinas             0.015"
      ]
     },
     "execution_count": 23,
     "metadata": {},
     "output_type": "execute_result"
    }
   ],
   "source": [
    "df_cliente[\"city\"].value_counts(True).round(3).to_frame().head(6)"
   ]
  },
  {
   "cell_type": "markdown",
   "id": "f209aaf2",
   "metadata": {},
   "source": [
    "## Processando os dados com SQL\n",
    "\n",
    "Uma outra opção é processar os dados utilizando uma query e recuperar apenas os resultados:"
   ]
  },
  {
   "cell_type": "code",
   "execution_count": 24,
   "id": "3dd1eb59",
   "metadata": {},
   "outputs": [
    {
     "data": {
      "text/html": [
       "<div>\n",
       "<style scoped>\n",
       "    .dataframe tbody tr th:only-of-type {\n",
       "        vertical-align: middle;\n",
       "    }\n",
       "\n",
       "    .dataframe tbody tr th {\n",
       "        vertical-align: top;\n",
       "    }\n",
       "\n",
       "    .dataframe thead th {\n",
       "        text-align: right;\n",
       "    }\n",
       "</style>\n",
       "<table border=\"1\" class=\"dataframe\">\n",
       "  <thead>\n",
       "    <tr style=\"text-align: right;\">\n",
       "      <th></th>\n",
       "      <th>city</th>\n",
       "      <th>proportion</th>\n",
       "    </tr>\n",
       "  </thead>\n",
       "  <tbody>\n",
       "    <tr>\n",
       "      <th>0</th>\n",
       "      <td>sao paulo</td>\n",
       "      <td>0.156</td>\n",
       "    </tr>\n",
       "    <tr>\n",
       "      <th>1</th>\n",
       "      <td>rio de janeiro</td>\n",
       "      <td>0.069</td>\n",
       "    </tr>\n",
       "    <tr>\n",
       "      <th>2</th>\n",
       "      <td>belo horizonte</td>\n",
       "      <td>0.028</td>\n",
       "    </tr>\n",
       "    <tr>\n",
       "      <th>3</th>\n",
       "      <td>brasilia</td>\n",
       "      <td>0.021</td>\n",
       "    </tr>\n",
       "    <tr>\n",
       "      <th>4</th>\n",
       "      <td>campinas</td>\n",
       "      <td>0.015</td>\n",
       "    </tr>\n",
       "    <tr>\n",
       "      <th>5</th>\n",
       "      <td>curitiba</td>\n",
       "      <td>0.015</td>\n",
       "    </tr>\n",
       "  </tbody>\n",
       "</table>\n",
       "</div>"
      ],
      "text/plain": [
       "             city  proportion\n",
       "0       sao paulo       0.156\n",
       "1  rio de janeiro       0.069\n",
       "2  belo horizonte       0.028\n",
       "3        brasilia       0.021\n",
       "4        campinas       0.015\n",
       "5        curitiba       0.015"
      ]
     },
     "execution_count": 24,
     "metadata": {},
     "output_type": "execute_result"
    }
   ],
   "source": [
    "# Preencha aqui\n",
    "sql = \"\"\"\n",
    "SELECT c.city,\n",
    "       ROUND(COUNT(c.city) /\n",
    "               (SELECT count(1)::NUMERIC\n",
    "                FROM olist.customer), 3) AS proportion\n",
    "FROM olist.customer AS c\n",
    "GROUP BY c.city\n",
    "ORDER BY proportion DESC\n",
    "LIMIT 6\n",
    "\"\"\"\n",
    "\n",
    "df_city_dist = get_pandas_df(sql)\n",
    "df_city_dist"
   ]
  },
  {
   "cell_type": "markdown",
   "id": "dc38e436",
   "metadata": {},
   "source": [
    "## Gerando gráficos com Plotly Express\n",
    "\n",
    "Vamos utilizar o `plotly.express` para gerar gráficos interativos. Veja mais em https://plotly.com/python/plotly-express/"
   ]
  },
  {
   "cell_type": "code",
   "execution_count": 25,
   "id": "7e751e9a-cdb5-4cb6-8351-61c2650b511c",
   "metadata": {},
   "outputs": [
    {
     "data": {
      "text/html": [
       "<div>\n",
       "<style scoped>\n",
       "    .dataframe tbody tr th:only-of-type {\n",
       "        vertical-align: middle;\n",
       "    }\n",
       "\n",
       "    .dataframe tbody tr th {\n",
       "        vertical-align: top;\n",
       "    }\n",
       "\n",
       "    .dataframe thead th {\n",
       "        text-align: right;\n",
       "    }\n",
       "</style>\n",
       "<table border=\"1\" class=\"dataframe\">\n",
       "  <thead>\n",
       "    <tr style=\"text-align: right;\">\n",
       "      <th></th>\n",
       "      <th>uf</th>\n",
       "      <th>freq_clientes</th>\n",
       "    </tr>\n",
       "  </thead>\n",
       "  <tbody>\n",
       "    <tr>\n",
       "      <th>0</th>\n",
       "      <td>SP</td>\n",
       "      <td>0.420</td>\n",
       "    </tr>\n",
       "    <tr>\n",
       "      <th>1</th>\n",
       "      <td>RJ</td>\n",
       "      <td>0.129</td>\n",
       "    </tr>\n",
       "    <tr>\n",
       "      <th>2</th>\n",
       "      <td>MG</td>\n",
       "      <td>0.117</td>\n",
       "    </tr>\n",
       "    <tr>\n",
       "      <th>3</th>\n",
       "      <td>RS</td>\n",
       "      <td>0.055</td>\n",
       "    </tr>\n",
       "    <tr>\n",
       "      <th>4</th>\n",
       "      <td>PR</td>\n",
       "      <td>0.051</td>\n",
       "    </tr>\n",
       "    <tr>\n",
       "      <th>5</th>\n",
       "      <td>SC</td>\n",
       "      <td>0.037</td>\n",
       "    </tr>\n",
       "  </tbody>\n",
       "</table>\n",
       "</div>"
      ],
      "text/plain": [
       "   uf  freq_clientes\n",
       "0  SP          0.420\n",
       "1  RJ          0.129\n",
       "2  MG          0.117\n",
       "3  RS          0.055\n",
       "4  PR          0.051\n",
       "5  SC          0.037"
      ]
     },
     "execution_count": 25,
     "metadata": {},
     "output_type": "execute_result"
    }
   ],
   "source": [
    "sql = \"\"\"\n",
    "SELECT c.state AS UF,\n",
    "       ROUND(COUNT(c.state) /\n",
    "               (SELECT count(1)::NUMERIC\n",
    "                FROM olist.customer), 3) AS freq_clientes\n",
    "FROM olist.customer AS c\n",
    "GROUP BY c.state\n",
    "ORDER BY freq_clientes DESC\n",
    "LIMIT 6\n",
    "\"\"\"\n",
    "\n",
    "df_uf_dist = get_pandas_df(sql)\n",
    "df_uf_dist"
   ]
  },
  {
   "cell_type": "code",
   "execution_count": 26,
   "id": "320bc027",
   "metadata": {},
   "outputs": [
    {
     "data": {
      "application/vnd.plotly.v1+json": {
       "config": {
        "plotlyServerURL": "https://plot.ly"
       },
       "data": [
        {
         "alignmentgroup": "True",
         "hovertemplate": "uf=%{x}<br>freq_clientes=%{y}<extra></extra>",
         "legendgroup": "",
         "marker": {
          "color": "#636efa",
          "pattern": {
           "shape": ""
          }
         },
         "name": "",
         "offsetgroup": "",
         "orientation": "v",
         "showlegend": false,
         "textposition": "auto",
         "type": "bar",
         "x": [
          "SP",
          "RJ",
          "MG",
          "RS",
          "PR",
          "SC"
         ],
         "xaxis": "x",
         "y": [
          0.42,
          0.129,
          0.117,
          0.055,
          0.051,
          0.037
         ],
         "yaxis": "y"
        }
       ],
       "layout": {
        "barmode": "relative",
        "legend": {
         "tracegroupgap": 0
        },
        "margin": {
         "t": 60
        },
        "template": {
         "data": {
          "bar": [
           {
            "error_x": {
             "color": "#2a3f5f"
            },
            "error_y": {
             "color": "#2a3f5f"
            },
            "marker": {
             "line": {
              "color": "#E5ECF6",
              "width": 0.5
             },
             "pattern": {
              "fillmode": "overlay",
              "size": 10,
              "solidity": 0.2
             }
            },
            "type": "bar"
           }
          ],
          "barpolar": [
           {
            "marker": {
             "line": {
              "color": "#E5ECF6",
              "width": 0.5
             },
             "pattern": {
              "fillmode": "overlay",
              "size": 10,
              "solidity": 0.2
             }
            },
            "type": "barpolar"
           }
          ],
          "carpet": [
           {
            "aaxis": {
             "endlinecolor": "#2a3f5f",
             "gridcolor": "white",
             "linecolor": "white",
             "minorgridcolor": "white",
             "startlinecolor": "#2a3f5f"
            },
            "baxis": {
             "endlinecolor": "#2a3f5f",
             "gridcolor": "white",
             "linecolor": "white",
             "minorgridcolor": "white",
             "startlinecolor": "#2a3f5f"
            },
            "type": "carpet"
           }
          ],
          "choropleth": [
           {
            "colorbar": {
             "outlinewidth": 0,
             "ticks": ""
            },
            "type": "choropleth"
           }
          ],
          "contour": [
           {
            "colorbar": {
             "outlinewidth": 0,
             "ticks": ""
            },
            "colorscale": [
             [
              0,
              "#0d0887"
             ],
             [
              0.1111111111111111,
              "#46039f"
             ],
             [
              0.2222222222222222,
              "#7201a8"
             ],
             [
              0.3333333333333333,
              "#9c179e"
             ],
             [
              0.4444444444444444,
              "#bd3786"
             ],
             [
              0.5555555555555556,
              "#d8576b"
             ],
             [
              0.6666666666666666,
              "#ed7953"
             ],
             [
              0.7777777777777778,
              "#fb9f3a"
             ],
             [
              0.8888888888888888,
              "#fdca26"
             ],
             [
              1,
              "#f0f921"
             ]
            ],
            "type": "contour"
           }
          ],
          "contourcarpet": [
           {
            "colorbar": {
             "outlinewidth": 0,
             "ticks": ""
            },
            "type": "contourcarpet"
           }
          ],
          "heatmap": [
           {
            "colorbar": {
             "outlinewidth": 0,
             "ticks": ""
            },
            "colorscale": [
             [
              0,
              "#0d0887"
             ],
             [
              0.1111111111111111,
              "#46039f"
             ],
             [
              0.2222222222222222,
              "#7201a8"
             ],
             [
              0.3333333333333333,
              "#9c179e"
             ],
             [
              0.4444444444444444,
              "#bd3786"
             ],
             [
              0.5555555555555556,
              "#d8576b"
             ],
             [
              0.6666666666666666,
              "#ed7953"
             ],
             [
              0.7777777777777778,
              "#fb9f3a"
             ],
             [
              0.8888888888888888,
              "#fdca26"
             ],
             [
              1,
              "#f0f921"
             ]
            ],
            "type": "heatmap"
           }
          ],
          "heatmapgl": [
           {
            "colorbar": {
             "outlinewidth": 0,
             "ticks": ""
            },
            "colorscale": [
             [
              0,
              "#0d0887"
             ],
             [
              0.1111111111111111,
              "#46039f"
             ],
             [
              0.2222222222222222,
              "#7201a8"
             ],
             [
              0.3333333333333333,
              "#9c179e"
             ],
             [
              0.4444444444444444,
              "#bd3786"
             ],
             [
              0.5555555555555556,
              "#d8576b"
             ],
             [
              0.6666666666666666,
              "#ed7953"
             ],
             [
              0.7777777777777778,
              "#fb9f3a"
             ],
             [
              0.8888888888888888,
              "#fdca26"
             ],
             [
              1,
              "#f0f921"
             ]
            ],
            "type": "heatmapgl"
           }
          ],
          "histogram": [
           {
            "marker": {
             "pattern": {
              "fillmode": "overlay",
              "size": 10,
              "solidity": 0.2
             }
            },
            "type": "histogram"
           }
          ],
          "histogram2d": [
           {
            "colorbar": {
             "outlinewidth": 0,
             "ticks": ""
            },
            "colorscale": [
             [
              0,
              "#0d0887"
             ],
             [
              0.1111111111111111,
              "#46039f"
             ],
             [
              0.2222222222222222,
              "#7201a8"
             ],
             [
              0.3333333333333333,
              "#9c179e"
             ],
             [
              0.4444444444444444,
              "#bd3786"
             ],
             [
              0.5555555555555556,
              "#d8576b"
             ],
             [
              0.6666666666666666,
              "#ed7953"
             ],
             [
              0.7777777777777778,
              "#fb9f3a"
             ],
             [
              0.8888888888888888,
              "#fdca26"
             ],
             [
              1,
              "#f0f921"
             ]
            ],
            "type": "histogram2d"
           }
          ],
          "histogram2dcontour": [
           {
            "colorbar": {
             "outlinewidth": 0,
             "ticks": ""
            },
            "colorscale": [
             [
              0,
              "#0d0887"
             ],
             [
              0.1111111111111111,
              "#46039f"
             ],
             [
              0.2222222222222222,
              "#7201a8"
             ],
             [
              0.3333333333333333,
              "#9c179e"
             ],
             [
              0.4444444444444444,
              "#bd3786"
             ],
             [
              0.5555555555555556,
              "#d8576b"
             ],
             [
              0.6666666666666666,
              "#ed7953"
             ],
             [
              0.7777777777777778,
              "#fb9f3a"
             ],
             [
              0.8888888888888888,
              "#fdca26"
             ],
             [
              1,
              "#f0f921"
             ]
            ],
            "type": "histogram2dcontour"
           }
          ],
          "mesh3d": [
           {
            "colorbar": {
             "outlinewidth": 0,
             "ticks": ""
            },
            "type": "mesh3d"
           }
          ],
          "parcoords": [
           {
            "line": {
             "colorbar": {
              "outlinewidth": 0,
              "ticks": ""
             }
            },
            "type": "parcoords"
           }
          ],
          "pie": [
           {
            "automargin": true,
            "type": "pie"
           }
          ],
          "scatter": [
           {
            "fillpattern": {
             "fillmode": "overlay",
             "size": 10,
             "solidity": 0.2
            },
            "type": "scatter"
           }
          ],
          "scatter3d": [
           {
            "line": {
             "colorbar": {
              "outlinewidth": 0,
              "ticks": ""
             }
            },
            "marker": {
             "colorbar": {
              "outlinewidth": 0,
              "ticks": ""
             }
            },
            "type": "scatter3d"
           }
          ],
          "scattercarpet": [
           {
            "marker": {
             "colorbar": {
              "outlinewidth": 0,
              "ticks": ""
             }
            },
            "type": "scattercarpet"
           }
          ],
          "scattergeo": [
           {
            "marker": {
             "colorbar": {
              "outlinewidth": 0,
              "ticks": ""
             }
            },
            "type": "scattergeo"
           }
          ],
          "scattergl": [
           {
            "marker": {
             "colorbar": {
              "outlinewidth": 0,
              "ticks": ""
             }
            },
            "type": "scattergl"
           }
          ],
          "scattermapbox": [
           {
            "marker": {
             "colorbar": {
              "outlinewidth": 0,
              "ticks": ""
             }
            },
            "type": "scattermapbox"
           }
          ],
          "scatterpolar": [
           {
            "marker": {
             "colorbar": {
              "outlinewidth": 0,
              "ticks": ""
             }
            },
            "type": "scatterpolar"
           }
          ],
          "scatterpolargl": [
           {
            "marker": {
             "colorbar": {
              "outlinewidth": 0,
              "ticks": ""
             }
            },
            "type": "scatterpolargl"
           }
          ],
          "scatterternary": [
           {
            "marker": {
             "colorbar": {
              "outlinewidth": 0,
              "ticks": ""
             }
            },
            "type": "scatterternary"
           }
          ],
          "surface": [
           {
            "colorbar": {
             "outlinewidth": 0,
             "ticks": ""
            },
            "colorscale": [
             [
              0,
              "#0d0887"
             ],
             [
              0.1111111111111111,
              "#46039f"
             ],
             [
              0.2222222222222222,
              "#7201a8"
             ],
             [
              0.3333333333333333,
              "#9c179e"
             ],
             [
              0.4444444444444444,
              "#bd3786"
             ],
             [
              0.5555555555555556,
              "#d8576b"
             ],
             [
              0.6666666666666666,
              "#ed7953"
             ],
             [
              0.7777777777777778,
              "#fb9f3a"
             ],
             [
              0.8888888888888888,
              "#fdca26"
             ],
             [
              1,
              "#f0f921"
             ]
            ],
            "type": "surface"
           }
          ],
          "table": [
           {
            "cells": {
             "fill": {
              "color": "#EBF0F8"
             },
             "line": {
              "color": "white"
             }
            },
            "header": {
             "fill": {
              "color": "#C8D4E3"
             },
             "line": {
              "color": "white"
             }
            },
            "type": "table"
           }
          ]
         },
         "layout": {
          "annotationdefaults": {
           "arrowcolor": "#2a3f5f",
           "arrowhead": 0,
           "arrowwidth": 1
          },
          "autotypenumbers": "strict",
          "coloraxis": {
           "colorbar": {
            "outlinewidth": 0,
            "ticks": ""
           }
          },
          "colorscale": {
           "diverging": [
            [
             0,
             "#8e0152"
            ],
            [
             0.1,
             "#c51b7d"
            ],
            [
             0.2,
             "#de77ae"
            ],
            [
             0.3,
             "#f1b6da"
            ],
            [
             0.4,
             "#fde0ef"
            ],
            [
             0.5,
             "#f7f7f7"
            ],
            [
             0.6,
             "#e6f5d0"
            ],
            [
             0.7,
             "#b8e186"
            ],
            [
             0.8,
             "#7fbc41"
            ],
            [
             0.9,
             "#4d9221"
            ],
            [
             1,
             "#276419"
            ]
           ],
           "sequential": [
            [
             0,
             "#0d0887"
            ],
            [
             0.1111111111111111,
             "#46039f"
            ],
            [
             0.2222222222222222,
             "#7201a8"
            ],
            [
             0.3333333333333333,
             "#9c179e"
            ],
            [
             0.4444444444444444,
             "#bd3786"
            ],
            [
             0.5555555555555556,
             "#d8576b"
            ],
            [
             0.6666666666666666,
             "#ed7953"
            ],
            [
             0.7777777777777778,
             "#fb9f3a"
            ],
            [
             0.8888888888888888,
             "#fdca26"
            ],
            [
             1,
             "#f0f921"
            ]
           ],
           "sequentialminus": [
            [
             0,
             "#0d0887"
            ],
            [
             0.1111111111111111,
             "#46039f"
            ],
            [
             0.2222222222222222,
             "#7201a8"
            ],
            [
             0.3333333333333333,
             "#9c179e"
            ],
            [
             0.4444444444444444,
             "#bd3786"
            ],
            [
             0.5555555555555556,
             "#d8576b"
            ],
            [
             0.6666666666666666,
             "#ed7953"
            ],
            [
             0.7777777777777778,
             "#fb9f3a"
            ],
            [
             0.8888888888888888,
             "#fdca26"
            ],
            [
             1,
             "#f0f921"
            ]
           ]
          },
          "colorway": [
           "#636efa",
           "#EF553B",
           "#00cc96",
           "#ab63fa",
           "#FFA15A",
           "#19d3f3",
           "#FF6692",
           "#B6E880",
           "#FF97FF",
           "#FECB52"
          ],
          "font": {
           "color": "#2a3f5f"
          },
          "geo": {
           "bgcolor": "white",
           "lakecolor": "white",
           "landcolor": "#E5ECF6",
           "showlakes": true,
           "showland": true,
           "subunitcolor": "white"
          },
          "hoverlabel": {
           "align": "left"
          },
          "hovermode": "closest",
          "mapbox": {
           "style": "light"
          },
          "paper_bgcolor": "white",
          "plot_bgcolor": "#E5ECF6",
          "polar": {
           "angularaxis": {
            "gridcolor": "white",
            "linecolor": "white",
            "ticks": ""
           },
           "bgcolor": "#E5ECF6",
           "radialaxis": {
            "gridcolor": "white",
            "linecolor": "white",
            "ticks": ""
           }
          },
          "scene": {
           "xaxis": {
            "backgroundcolor": "#E5ECF6",
            "gridcolor": "white",
            "gridwidth": 2,
            "linecolor": "white",
            "showbackground": true,
            "ticks": "",
            "zerolinecolor": "white"
           },
           "yaxis": {
            "backgroundcolor": "#E5ECF6",
            "gridcolor": "white",
            "gridwidth": 2,
            "linecolor": "white",
            "showbackground": true,
            "ticks": "",
            "zerolinecolor": "white"
           },
           "zaxis": {
            "backgroundcolor": "#E5ECF6",
            "gridcolor": "white",
            "gridwidth": 2,
            "linecolor": "white",
            "showbackground": true,
            "ticks": "",
            "zerolinecolor": "white"
           }
          },
          "shapedefaults": {
           "line": {
            "color": "#2a3f5f"
           }
          },
          "ternary": {
           "aaxis": {
            "gridcolor": "white",
            "linecolor": "white",
            "ticks": ""
           },
           "baxis": {
            "gridcolor": "white",
            "linecolor": "white",
            "ticks": ""
           },
           "bgcolor": "#E5ECF6",
           "caxis": {
            "gridcolor": "white",
            "linecolor": "white",
            "ticks": ""
           }
          },
          "title": {
           "x": 0.05
          },
          "xaxis": {
           "automargin": true,
           "gridcolor": "white",
           "linecolor": "white",
           "ticks": "",
           "title": {
            "standoff": 15
           },
           "zerolinecolor": "white",
           "zerolinewidth": 2
          },
          "yaxis": {
           "automargin": true,
           "gridcolor": "white",
           "linecolor": "white",
           "ticks": "",
           "title": {
            "standoff": 15
           },
           "zerolinecolor": "white",
           "zerolinewidth": 2
          }
         }
        },
        "xaxis": {
         "anchor": "y",
         "domain": [
          0,
          1
         ],
         "title": {
          "text": "uf"
         }
        },
        "yaxis": {
         "anchor": "x",
         "domain": [
          0,
          1
         ],
         "title": {
          "text": "freq_clientes"
         }
        }
       }
      }
     },
     "metadata": {},
     "output_type": "display_data"
    }
   ],
   "source": [
    "px.bar(df_uf_dist, x=\"uf\", y=\"freq_clientes\")"
   ]
  },
  {
   "cell_type": "markdown",
   "id": "23220646",
   "metadata": {},
   "source": [
    "Vamos atualizar informações do gráfico como labels dos eixos para melhorar a exibição!"
   ]
  },
  {
   "cell_type": "code",
   "execution_count": 27,
   "id": "7e80c144",
   "metadata": {},
   "outputs": [
    {
     "data": {
      "application/vnd.plotly.v1+json": {
       "config": {
        "plotlyServerURL": "https://plot.ly"
       },
       "data": [
        {
         "alignmentgroup": "True",
         "hovertemplate": "Estado=%{x}<br>Frequência=%{marker.color}<extra></extra>",
         "legendgroup": "",
         "marker": {
          "color": [
           0.42,
           0.129,
           0.117,
           0.055,
           0.051,
           0.037
          ],
          "coloraxis": "coloraxis",
          "pattern": {
           "shape": ""
          }
         },
         "name": "",
         "offsetgroup": "",
         "orientation": "v",
         "showlegend": false,
         "textposition": "auto",
         "type": "bar",
         "x": [
          "SP",
          "RJ",
          "MG",
          "RS",
          "PR",
          "SC"
         ],
         "xaxis": "x",
         "y": [
          0.42,
          0.129,
          0.117,
          0.055,
          0.051,
          0.037
         ],
         "yaxis": "y"
        }
       ],
       "layout": {
        "barmode": "relative",
        "coloraxis": {
         "colorbar": {
          "title": {
           "text": "Frequência"
          }
         },
         "colorscale": [
          [
           0,
           "rgb(20,44,66)"
          ],
          [
           1,
           "rgb(90,179,244)"
          ]
         ]
        },
        "legend": {
         "tracegroupgap": 0
        },
        "template": {
         "data": {
          "bar": [
           {
            "error_x": {
             "color": "rgb(51,51,51)"
            },
            "error_y": {
             "color": "rgb(51,51,51)"
            },
            "marker": {
             "line": {
              "color": "rgb(237,237,237)",
              "width": 0.5
             },
             "pattern": {
              "fillmode": "overlay",
              "size": 10,
              "solidity": 0.2
             }
            },
            "type": "bar"
           }
          ],
          "barpolar": [
           {
            "marker": {
             "line": {
              "color": "rgb(237,237,237)",
              "width": 0.5
             },
             "pattern": {
              "fillmode": "overlay",
              "size": 10,
              "solidity": 0.2
             }
            },
            "type": "barpolar"
           }
          ],
          "carpet": [
           {
            "aaxis": {
             "endlinecolor": "rgb(51,51,51)",
             "gridcolor": "white",
             "linecolor": "white",
             "minorgridcolor": "white",
             "startlinecolor": "rgb(51,51,51)"
            },
            "baxis": {
             "endlinecolor": "rgb(51,51,51)",
             "gridcolor": "white",
             "linecolor": "white",
             "minorgridcolor": "white",
             "startlinecolor": "rgb(51,51,51)"
            },
            "type": "carpet"
           }
          ],
          "choropleth": [
           {
            "colorbar": {
             "outlinewidth": 0,
             "tickcolor": "rgb(237,237,237)",
             "ticklen": 6,
             "ticks": "inside"
            },
            "type": "choropleth"
           }
          ],
          "contour": [
           {
            "colorbar": {
             "outlinewidth": 0,
             "tickcolor": "rgb(237,237,237)",
             "ticklen": 6,
             "ticks": "inside"
            },
            "colorscale": [
             [
              0,
              "rgb(20,44,66)"
             ],
             [
              1,
              "rgb(90,179,244)"
             ]
            ],
            "type": "contour"
           }
          ],
          "contourcarpet": [
           {
            "colorbar": {
             "outlinewidth": 0,
             "tickcolor": "rgb(237,237,237)",
             "ticklen": 6,
             "ticks": "inside"
            },
            "type": "contourcarpet"
           }
          ],
          "heatmap": [
           {
            "colorbar": {
             "outlinewidth": 0,
             "tickcolor": "rgb(237,237,237)",
             "ticklen": 6,
             "ticks": "inside"
            },
            "colorscale": [
             [
              0,
              "rgb(20,44,66)"
             ],
             [
              1,
              "rgb(90,179,244)"
             ]
            ],
            "type": "heatmap"
           }
          ],
          "heatmapgl": [
           {
            "colorbar": {
             "outlinewidth": 0,
             "tickcolor": "rgb(237,237,237)",
             "ticklen": 6,
             "ticks": "inside"
            },
            "colorscale": [
             [
              0,
              "rgb(20,44,66)"
             ],
             [
              1,
              "rgb(90,179,244)"
             ]
            ],
            "type": "heatmapgl"
           }
          ],
          "histogram": [
           {
            "marker": {
             "pattern": {
              "fillmode": "overlay",
              "size": 10,
              "solidity": 0.2
             }
            },
            "type": "histogram"
           }
          ],
          "histogram2d": [
           {
            "colorbar": {
             "outlinewidth": 0,
             "tickcolor": "rgb(237,237,237)",
             "ticklen": 6,
             "ticks": "inside"
            },
            "colorscale": [
             [
              0,
              "rgb(20,44,66)"
             ],
             [
              1,
              "rgb(90,179,244)"
             ]
            ],
            "type": "histogram2d"
           }
          ],
          "histogram2dcontour": [
           {
            "colorbar": {
             "outlinewidth": 0,
             "tickcolor": "rgb(237,237,237)",
             "ticklen": 6,
             "ticks": "inside"
            },
            "colorscale": [
             [
              0,
              "rgb(20,44,66)"
             ],
             [
              1,
              "rgb(90,179,244)"
             ]
            ],
            "type": "histogram2dcontour"
           }
          ],
          "mesh3d": [
           {
            "colorbar": {
             "outlinewidth": 0,
             "tickcolor": "rgb(237,237,237)",
             "ticklen": 6,
             "ticks": "inside"
            },
            "type": "mesh3d"
           }
          ],
          "parcoords": [
           {
            "line": {
             "colorbar": {
              "outlinewidth": 0,
              "tickcolor": "rgb(237,237,237)",
              "ticklen": 6,
              "ticks": "inside"
             }
            },
            "type": "parcoords"
           }
          ],
          "pie": [
           {
            "automargin": true,
            "type": "pie"
           }
          ],
          "scatter": [
           {
            "fillpattern": {
             "fillmode": "overlay",
             "size": 10,
             "solidity": 0.2
            },
            "type": "scatter"
           }
          ],
          "scatter3d": [
           {
            "line": {
             "colorbar": {
              "outlinewidth": 0,
              "tickcolor": "rgb(237,237,237)",
              "ticklen": 6,
              "ticks": "inside"
             }
            },
            "marker": {
             "colorbar": {
              "outlinewidth": 0,
              "tickcolor": "rgb(237,237,237)",
              "ticklen": 6,
              "ticks": "inside"
             }
            },
            "type": "scatter3d"
           }
          ],
          "scattercarpet": [
           {
            "marker": {
             "colorbar": {
              "outlinewidth": 0,
              "tickcolor": "rgb(237,237,237)",
              "ticklen": 6,
              "ticks": "inside"
             }
            },
            "type": "scattercarpet"
           }
          ],
          "scattergeo": [
           {
            "marker": {
             "colorbar": {
              "outlinewidth": 0,
              "tickcolor": "rgb(237,237,237)",
              "ticklen": 6,
              "ticks": "inside"
             }
            },
            "type": "scattergeo"
           }
          ],
          "scattergl": [
           {
            "marker": {
             "colorbar": {
              "outlinewidth": 0,
              "tickcolor": "rgb(237,237,237)",
              "ticklen": 6,
              "ticks": "inside"
             }
            },
            "type": "scattergl"
           }
          ],
          "scattermapbox": [
           {
            "marker": {
             "colorbar": {
              "outlinewidth": 0,
              "tickcolor": "rgb(237,237,237)",
              "ticklen": 6,
              "ticks": "inside"
             }
            },
            "type": "scattermapbox"
           }
          ],
          "scatterpolar": [
           {
            "marker": {
             "colorbar": {
              "outlinewidth": 0,
              "tickcolor": "rgb(237,237,237)",
              "ticklen": 6,
              "ticks": "inside"
             }
            },
            "type": "scatterpolar"
           }
          ],
          "scatterpolargl": [
           {
            "marker": {
             "colorbar": {
              "outlinewidth": 0,
              "tickcolor": "rgb(237,237,237)",
              "ticklen": 6,
              "ticks": "inside"
             }
            },
            "type": "scatterpolargl"
           }
          ],
          "scatterternary": [
           {
            "marker": {
             "colorbar": {
              "outlinewidth": 0,
              "tickcolor": "rgb(237,237,237)",
              "ticklen": 6,
              "ticks": "inside"
             }
            },
            "type": "scatterternary"
           }
          ],
          "surface": [
           {
            "colorbar": {
             "outlinewidth": 0,
             "tickcolor": "rgb(237,237,237)",
             "ticklen": 6,
             "ticks": "inside"
            },
            "colorscale": [
             [
              0,
              "rgb(20,44,66)"
             ],
             [
              1,
              "rgb(90,179,244)"
             ]
            ],
            "type": "surface"
           }
          ],
          "table": [
           {
            "cells": {
             "fill": {
              "color": "rgb(237,237,237)"
             },
             "line": {
              "color": "white"
             }
            },
            "header": {
             "fill": {
              "color": "rgb(217,217,217)"
             },
             "line": {
              "color": "white"
             }
            },
            "type": "table"
           }
          ]
         },
         "layout": {
          "annotationdefaults": {
           "arrowhead": 0,
           "arrowwidth": 1
          },
          "autotypenumbers": "strict",
          "coloraxis": {
           "colorbar": {
            "outlinewidth": 0,
            "tickcolor": "rgb(237,237,237)",
            "ticklen": 6,
            "ticks": "inside"
           }
          },
          "colorscale": {
           "sequential": [
            [
             0,
             "rgb(20,44,66)"
            ],
            [
             1,
             "rgb(90,179,244)"
            ]
           ],
           "sequentialminus": [
            [
             0,
             "rgb(20,44,66)"
            ],
            [
             1,
             "rgb(90,179,244)"
            ]
           ]
          },
          "colorway": [
           "#F8766D",
           "#A3A500",
           "#00BF7D",
           "#00B0F6",
           "#E76BF3"
          ],
          "font": {
           "color": "rgb(51,51,51)"
          },
          "geo": {
           "bgcolor": "white",
           "lakecolor": "white",
           "landcolor": "rgb(237,237,237)",
           "showlakes": true,
           "showland": true,
           "subunitcolor": "white"
          },
          "hoverlabel": {
           "align": "left"
          },
          "hovermode": "closest",
          "paper_bgcolor": "white",
          "plot_bgcolor": "rgb(237,237,237)",
          "polar": {
           "angularaxis": {
            "gridcolor": "white",
            "linecolor": "white",
            "showgrid": true,
            "tickcolor": "rgb(51,51,51)",
            "ticks": "outside"
           },
           "bgcolor": "rgb(237,237,237)",
           "radialaxis": {
            "gridcolor": "white",
            "linecolor": "white",
            "showgrid": true,
            "tickcolor": "rgb(51,51,51)",
            "ticks": "outside"
           }
          },
          "scene": {
           "xaxis": {
            "backgroundcolor": "rgb(237,237,237)",
            "gridcolor": "white",
            "gridwidth": 2,
            "linecolor": "white",
            "showbackground": true,
            "showgrid": true,
            "tickcolor": "rgb(51,51,51)",
            "ticks": "outside",
            "zerolinecolor": "white"
           },
           "yaxis": {
            "backgroundcolor": "rgb(237,237,237)",
            "gridcolor": "white",
            "gridwidth": 2,
            "linecolor": "white",
            "showbackground": true,
            "showgrid": true,
            "tickcolor": "rgb(51,51,51)",
            "ticks": "outside",
            "zerolinecolor": "white"
           },
           "zaxis": {
            "backgroundcolor": "rgb(237,237,237)",
            "gridcolor": "white",
            "gridwidth": 2,
            "linecolor": "white",
            "showbackground": true,
            "showgrid": true,
            "tickcolor": "rgb(51,51,51)",
            "ticks": "outside",
            "zerolinecolor": "white"
           }
          },
          "shapedefaults": {
           "fillcolor": "black",
           "line": {
            "width": 0
           },
           "opacity": 0.3
          },
          "ternary": {
           "aaxis": {
            "gridcolor": "white",
            "linecolor": "white",
            "showgrid": true,
            "tickcolor": "rgb(51,51,51)",
            "ticks": "outside"
           },
           "baxis": {
            "gridcolor": "white",
            "linecolor": "white",
            "showgrid": true,
            "tickcolor": "rgb(51,51,51)",
            "ticks": "outside"
           },
           "bgcolor": "rgb(237,237,237)",
           "caxis": {
            "gridcolor": "white",
            "linecolor": "white",
            "showgrid": true,
            "tickcolor": "rgb(51,51,51)",
            "ticks": "outside"
           }
          },
          "xaxis": {
           "automargin": true,
           "gridcolor": "white",
           "linecolor": "white",
           "showgrid": true,
           "tickcolor": "rgb(51,51,51)",
           "ticks": "outside",
           "title": {
            "standoff": 15
           },
           "zerolinecolor": "white"
          },
          "yaxis": {
           "automargin": true,
           "gridcolor": "white",
           "linecolor": "white",
           "showgrid": true,
           "tickcolor": "rgb(51,51,51)",
           "ticks": "outside",
           "title": {
            "standoff": 15
           },
           "zerolinecolor": "white"
          }
         }
        },
        "title": {
         "text": "Distribuição dos clientes por UF"
        },
        "xaxis": {
         "anchor": "y",
         "domain": [
          0,
          1
         ],
         "title": {
          "text": "Estado"
         }
        },
        "yaxis": {
         "anchor": "x",
         "domain": [
          0,
          1
         ],
         "title": {
          "text": "Frequência"
         }
        }
       }
      }
     },
     "metadata": {},
     "output_type": "display_data"
    }
   ],
   "source": [
    "# Alguns templates\n",
    "# [\"plotly\", \"plotly_white\", \"plotly_dark\", \"ggplot2\", \"seaborn\", \"simple_white\", \"none\"]\n",
    "\n",
    "px.bar(df_uf_dist, x=\"uf\", y=\"freq_clientes\",\n",
    "       labels={\"freq_clientes\": \"Frequência\", \"uf\": \"Estado\"},\n",
    "       title=\"Distribuição dos clientes por UF\", color=\"freq_clientes\",\n",
    "       template=\"ggplot2\")"
   ]
  },
  {
   "cell_type": "markdown",
   "id": "6c001056",
   "metadata": {},
   "source": [
    "## Plot de Mapas com Folium\n",
    "\n",
    "Vamos utilizar o `folium` para gerar gráficos interativos com informações georeferenciadas. Veja mais em https://python-visualization.github.io/folium/ e https://www.openstreetmap.org\n",
    "\n",
    "Importe a biblioteca folium. Caso não seja possível, realize a instalação descomentando a seguinte célula:"
   ]
  },
  {
   "cell_type": "code",
   "execution_count": null,
   "id": "0f129c62",
   "metadata": {},
   "outputs": [
    {
     "name": "stdout",
     "output_type": "stream",
     "text": [
      "Collecting folium\n",
      "  Downloading folium-0.18.0-py2.py3-none-any.whl.metadata (3.8 kB)\n",
      "Collecting branca>=0.6.0 (from folium)\n",
      "  Downloading branca-0.8.0-py3-none-any.whl.metadata (1.5 kB)\n",
      "Requirement already satisfied: jinja2>=2.9 in c:\\users\\guoli\\documents\\insper\\bigdata\\venv\\lib\\site-packages (from folium) (3.1.4)\n",
      "Requirement already satisfied: numpy in c:\\users\\guoli\\documents\\insper\\bigdata\\venv\\lib\\site-packages (from folium) (2.0.1)\n",
      "Requirement already satisfied: requests in c:\\users\\guoli\\documents\\insper\\bigdata\\venv\\lib\\site-packages (from folium) (2.32.3)\n",
      "Requirement already satisfied: xyzservices in c:\\users\\guoli\\documents\\insper\\bigdata\\venv\\lib\\site-packages (from folium) (2024.6.0)\n",
      "Requirement already satisfied: MarkupSafe>=2.0 in c:\\users\\guoli\\documents\\insper\\bigdata\\venv\\lib\\site-packages (from jinja2>=2.9->folium) (2.1.5)\n",
      "Requirement already satisfied: charset-normalizer<4,>=2 in c:\\users\\guoli\\documents\\insper\\bigdata\\venv\\lib\\site-packages (from requests->folium) (3.4.0)\n",
      "Requirement already satisfied: idna<4,>=2.5 in c:\\users\\guoli\\documents\\insper\\bigdata\\venv\\lib\\site-packages (from requests->folium) (3.10)\n",
      "Requirement already satisfied: urllib3<3,>=1.21.1 in c:\\users\\guoli\\documents\\insper\\bigdata\\venv\\lib\\site-packages (from requests->folium) (2.2.2)\n",
      "Requirement already satisfied: certifi>=2017.4.17 in c:\\users\\guoli\\documents\\insper\\bigdata\\venv\\lib\\site-packages (from requests->folium) (2024.8.30)\n",
      "Downloading folium-0.18.0-py2.py3-none-any.whl (108 kB)\n",
      "Downloading branca-0.8.0-py3-none-any.whl (25 kB)\n",
      "Installing collected packages: branca, folium\n",
      "Successfully installed branca-0.8.0 folium-0.18.0\n"
     ]
    },
    {
     "name": "stderr",
     "output_type": "stream",
     "text": [
      "\n",
      "[notice] A new release of pip is available: 24.2 -> 24.3.1\n",
      "[notice] To update, run: python.exe -m pip install --upgrade pip\n"
     ]
    }
   ],
   "source": [
    "# !python -m pip install folium"
   ]
  },
  {
   "cell_type": "markdown",
   "id": "487d9881",
   "metadata": {},
   "source": [
    "Vamos importar as bibliotecas necessárias"
   ]
  },
  {
   "cell_type": "code",
   "execution_count": 29,
   "id": "43231c30",
   "metadata": {},
   "outputs": [],
   "source": [
    "# Para mapas\n",
    "import folium\n",
    "\n",
    "# Para mapa de calor\n",
    "from folium.plugins import HeatMap"
   ]
  },
  {
   "cell_type": "markdown",
   "id": "cfb507de",
   "metadata": {},
   "source": [
    "Vamos exibir um primeiro mapa centrado na cidade de são paulo"
   ]
  },
  {
   "cell_type": "code",
   "execution_count": 30,
   "id": "d4fef7d8",
   "metadata": {},
   "outputs": [
    {
     "data": {
      "text/html": [
       "<div style=\"width:100%;\"><div style=\"position:relative;width:100%;height:0;padding-bottom:60%;\"><span style=\"color:#565656\">Make this Notebook Trusted to load map: File -> Trust Notebook</span><iframe srcdoc=\"&lt;!DOCTYPE html&gt;\n",
       "&lt;html&gt;\n",
       "&lt;head&gt;\n",
       "    \n",
       "    &lt;meta http-equiv=&quot;content-type&quot; content=&quot;text/html; charset=UTF-8&quot; /&gt;\n",
       "    \n",
       "        &lt;script&gt;\n",
       "            L_NO_TOUCH = false;\n",
       "            L_DISABLE_3D = false;\n",
       "        &lt;/script&gt;\n",
       "    \n",
       "    &lt;style&gt;html, body {width: 100%;height: 100%;margin: 0;padding: 0;}&lt;/style&gt;\n",
       "    &lt;style&gt;#map {position:absolute;top:0;bottom:0;right:0;left:0;}&lt;/style&gt;\n",
       "    &lt;script src=&quot;https://cdn.jsdelivr.net/npm/leaflet@1.9.3/dist/leaflet.js&quot;&gt;&lt;/script&gt;\n",
       "    &lt;script src=&quot;https://code.jquery.com/jquery-3.7.1.min.js&quot;&gt;&lt;/script&gt;\n",
       "    &lt;script src=&quot;https://cdn.jsdelivr.net/npm/bootstrap@5.2.2/dist/js/bootstrap.bundle.min.js&quot;&gt;&lt;/script&gt;\n",
       "    &lt;script src=&quot;https://cdnjs.cloudflare.com/ajax/libs/Leaflet.awesome-markers/2.0.2/leaflet.awesome-markers.js&quot;&gt;&lt;/script&gt;\n",
       "    &lt;link rel=&quot;stylesheet&quot; href=&quot;https://cdn.jsdelivr.net/npm/leaflet@1.9.3/dist/leaflet.css&quot;/&gt;\n",
       "    &lt;link rel=&quot;stylesheet&quot; href=&quot;https://cdn.jsdelivr.net/npm/bootstrap@5.2.2/dist/css/bootstrap.min.css&quot;/&gt;\n",
       "    &lt;link rel=&quot;stylesheet&quot; href=&quot;https://netdna.bootstrapcdn.com/bootstrap/3.0.0/css/bootstrap-glyphicons.css&quot;/&gt;\n",
       "    &lt;link rel=&quot;stylesheet&quot; href=&quot;https://cdn.jsdelivr.net/npm/@fortawesome/fontawesome-free@6.2.0/css/all.min.css&quot;/&gt;\n",
       "    &lt;link rel=&quot;stylesheet&quot; href=&quot;https://cdnjs.cloudflare.com/ajax/libs/Leaflet.awesome-markers/2.0.2/leaflet.awesome-markers.css&quot;/&gt;\n",
       "    &lt;link rel=&quot;stylesheet&quot; href=&quot;https://cdn.jsdelivr.net/gh/python-visualization/folium/folium/templates/leaflet.awesome.rotate.min.css&quot;/&gt;\n",
       "    \n",
       "            &lt;meta name=&quot;viewport&quot; content=&quot;width=device-width,\n",
       "                initial-scale=1.0, maximum-scale=1.0, user-scalable=no&quot; /&gt;\n",
       "            &lt;style&gt;\n",
       "                #map_8003bb89402839b201ded23023d8ae01 {\n",
       "                    position: relative;\n",
       "                    width: 100.0%;\n",
       "                    height: 100.0%;\n",
       "                    left: 0.0%;\n",
       "                    top: 0.0%;\n",
       "                }\n",
       "                .leaflet-container { font-size: 1rem; }\n",
       "            &lt;/style&gt;\n",
       "        \n",
       "&lt;/head&gt;\n",
       "&lt;body&gt;\n",
       "    \n",
       "    \n",
       "            &lt;div class=&quot;folium-map&quot; id=&quot;map_8003bb89402839b201ded23023d8ae01&quot; &gt;&lt;/div&gt;\n",
       "        \n",
       "&lt;/body&gt;\n",
       "&lt;script&gt;\n",
       "    \n",
       "    \n",
       "            var map_8003bb89402839b201ded23023d8ae01 = L.map(\n",
       "                &quot;map_8003bb89402839b201ded23023d8ae01&quot;,\n",
       "                {\n",
       "                    center: [-23.5489, -46.6388],\n",
       "                    crs: L.CRS.EPSG3857,\n",
       "                    zoom: 12,\n",
       "                    zoomControl: true,\n",
       "                    preferCanvas: false,\n",
       "                }\n",
       "            );\n",
       "\n",
       "            \n",
       "\n",
       "        \n",
       "    \n",
       "            var tile_layer_471cbe0bc6723f08775c92c916f57a9e = L.tileLayer(\n",
       "                &quot;https://tile.openstreetmap.org/{z}/{x}/{y}.png&quot;,\n",
       "                {&quot;attribution&quot;: &quot;\\u0026copy; \\u003ca href=\\&quot;https://www.openstreetmap.org/copyright\\&quot;\\u003eOpenStreetMap\\u003c/a\\u003e contributors&quot;, &quot;detectRetina&quot;: false, &quot;maxNativeZoom&quot;: 19, &quot;maxZoom&quot;: 19, &quot;minZoom&quot;: 0, &quot;noWrap&quot;: false, &quot;opacity&quot;: 1, &quot;subdomains&quot;: &quot;abc&quot;, &quot;tms&quot;: false}\n",
       "            );\n",
       "        \n",
       "    \n",
       "            tile_layer_471cbe0bc6723f08775c92c916f57a9e.addTo(map_8003bb89402839b201ded23023d8ae01);\n",
       "        \n",
       "&lt;/script&gt;\n",
       "&lt;/html&gt;\" style=\"position:absolute;width:100%;height:100%;left:0;top:0;border:none !important;\" allowfullscreen webkitallowfullscreen mozallowfullscreen></iframe></div></div>"
      ],
      "text/plain": [
       "<folium.folium.Map at 0x194b91d7d40>"
      ]
     },
     "execution_count": 30,
     "metadata": {},
     "output_type": "execute_result"
    }
   ],
   "source": [
    "mapa = folium.Map(\n",
    "    location=[-23.5489, -46.6388],\n",
    "    zoom_start=12\n",
    ")\n",
    "\n",
    "mapa"
   ]
  },
  {
   "cell_type": "markdown",
   "id": "26d0f446",
   "metadata": {},
   "source": [
    "Agora, vamos recuperar informações de alguns clientes (latitude e longitute) e plotar no mapa"
   ]
  },
  {
   "cell_type": "code",
   "execution_count": 31,
   "id": "3130876a",
   "metadata": {},
   "outputs": [],
   "source": [
    "# recupera aleatoriamente 3% da base\n",
    "\n",
    "sql = \"\"\"\n",
    "SELECT g.lat,\n",
    "       g.lng\n",
    "FROM olist.seller s,\n",
    "     olist.geolocation g\n",
    "WHERE s.zip_code_prefix = g.zip_code_prefix\n",
    "  AND random() < 0.03\n",
    "\"\"\""
   ]
  },
  {
   "cell_type": "markdown",
   "id": "71b12c85",
   "metadata": {},
   "source": [
    "Recuperando os dados"
   ]
  },
  {
   "cell_type": "code",
   "execution_count": 32,
   "id": "a0fcd299",
   "metadata": {},
   "outputs": [
    {
     "data": {
      "text/html": [
       "<div>\n",
       "<style scoped>\n",
       "    .dataframe tbody tr th:only-of-type {\n",
       "        vertical-align: middle;\n",
       "    }\n",
       "\n",
       "    .dataframe tbody tr th {\n",
       "        vertical-align: top;\n",
       "    }\n",
       "\n",
       "    .dataframe thead th {\n",
       "        text-align: right;\n",
       "    }\n",
       "</style>\n",
       "<table border=\"1\" class=\"dataframe\">\n",
       "  <thead>\n",
       "    <tr style=\"text-align: right;\">\n",
       "      <th></th>\n",
       "      <th>lat</th>\n",
       "      <th>lng</th>\n",
       "    </tr>\n",
       "  </thead>\n",
       "  <tbody>\n",
       "    <tr>\n",
       "      <th>0</th>\n",
       "      <td>-22.979130</td>\n",
       "      <td>-47.000473</td>\n",
       "    </tr>\n",
       "    <tr>\n",
       "      <th>1</th>\n",
       "      <td>-21.994650</td>\n",
       "      <td>-47.856876</td>\n",
       "    </tr>\n",
       "    <tr>\n",
       "      <th>2</th>\n",
       "      <td>-22.003489</td>\n",
       "      <td>-47.853900</td>\n",
       "    </tr>\n",
       "    <tr>\n",
       "      <th>3</th>\n",
       "      <td>-22.003550</td>\n",
       "      <td>-47.856823</td>\n",
       "    </tr>\n",
       "    <tr>\n",
       "      <th>4</th>\n",
       "      <td>-21.747100</td>\n",
       "      <td>-48.831432</td>\n",
       "    </tr>\n",
       "  </tbody>\n",
       "</table>\n",
       "</div>"
      ],
      "text/plain": [
       "         lat        lng\n",
       "0 -22.979130 -47.000473\n",
       "1 -21.994650 -47.856876\n",
       "2 -22.003489 -47.853900\n",
       "3 -22.003550 -47.856823\n",
       "4 -21.747100 -48.831432"
      ]
     },
     "execution_count": 32,
     "metadata": {},
     "output_type": "execute_result"
    }
   ],
   "source": [
    "df_heat = get_pandas_df(sql)\n",
    "df_heat.head()"
   ]
  },
  {
   "cell_type": "code",
   "execution_count": 33,
   "id": "092e74d6",
   "metadata": {},
   "outputs": [
    {
     "data": {
      "text/plain": [
       "(13111, 2)"
      ]
     },
     "execution_count": 33,
     "metadata": {},
     "output_type": "execute_result"
    }
   ],
   "source": [
    "df_heat.shape"
   ]
  },
  {
   "cell_type": "markdown",
   "id": "4851b96f",
   "metadata": {},
   "source": [
    "Transformando em listas"
   ]
  },
  {
   "cell_type": "code",
   "execution_count": 34,
   "id": "4b874d88",
   "metadata": {},
   "outputs": [
    {
     "name": "stdout",
     "output_type": "stream",
     "text": [
      "[-22.97913, -21.99465, -22.003489, -22.00355, -21.7471, -21.75836, -21.759016, -21.753855, -21.757717, -21.760866, -21.74872, -21.768026, -21.750257, -21.746813, -21.748966, -21.772173, -21.774868, -21.753506, -21.757952, -21.762287, -21.754925, -21.75086, -21.751472, -21.764753, -21.281208, -21.30318, -21.289543, -21.296738, -21.29878, -21.295654, -21.291655, -21.308088, -21.749937, -21.746813, -21.747807, -21.751348, -21.768127, -21.750795, -21.753874, -21.756401, -21.756306, -21.768026, -21.750114, -23.572027, -23.571762, -23.5748, -23.572647, -21.751307, -21.759838, -21.756739, -21.754047, -21.745007, -21.75861, -21.748545, -21.763147, -21.738056, -21.734663, -22.926819, -22.93013, -22.921307, -22.918955, -22.929544, -22.933134, -22.925316, -22.925077, -22.926104, -22.928757, -22.919273, -22.923159, -21.186642, -21.21044, -21.199694, -21.188606, -21.19101, -21.185534, -21.210104, -21.207245, -21.206089, -21.210104, -21.204584, -21.204693, -21.205822, -23.539257, -23.536894, -23.531086, -23.533655, -23.540113, -21.754868, -21.75836, -21.751501, -21.753048, -21.759687, -21.765118, -21.762522, -21.756899, -21.763147, -21.757952, -21.757761, -21.753855, -21.751165, -21.759605, -21.859303, -21.86411, -21.841013, -21.853437, -21.851938, -21.869226, -21.848919, -21.868273, -21.85265, -21.85153, -21.869425, -21.866835, -21.863499, -23.669647, -23.672386, -23.672245, -23.66599, -23.666618, -23.552965, -23.553394, -23.553719, -23.531958, -23.542898, -23.533655, -23.536781, -23.532742, -23.534012, -21.754732, -21.765118, -21.76782, -21.758562, -21.755644, -21.76842, -23.965553, -23.965435, -23.96687, -23.975313, -23.970856, -23.972975, -23.969835, -23.976507, -23.968082, -23.970911, -23.97035, -23.972702, -23.968046, -23.975313, -21.753822, -21.749352, -21.757803, -21.76842, -21.756739, -21.75259, -21.75942, -21.760214, -21.746279, -21.754595, -21.758932, -25.553602, -25.551191, -25.549625, -25.55259, -22.243608, -22.236208, -21.761337, -21.747002, -21.748552, -21.748943, -21.76842, -21.751038, -21.756306, -21.75086, -21.748903, -23.534357, -23.537663, -23.537931, -23.535412, -22.74746, -22.721645, -22.738644, -22.74432, -22.741104, -22.749136, -22.733023, -22.732435, -22.732094, -20.165632, -20.176144, -20.120968, -20.133575, -20.141708, -20.141077, -20.144913, -20.141733, -20.133583, -20.163013, -20.147814, -20.145632, -20.142012, -20.134626, -20.141733, -20.142868, -20.146755, -20.129757, -20.148165, -20.140165, -20.121918, -20.120537, -20.135775, -20.145615, -20.145628, -20.132055, -20.147232, -20.146755, -20.144888, -20.12787, -20.133963, -20.155891, -20.166729, -20.146235, -22.47189, -22.479982, -22.478851, -22.492317, -16.341711, -25.346996, -22.916393, -22.914438, -22.739613, -22.740992, -22.746172, -22.740662, -22.744081, -22.732141, -22.724628, -22.743958, -22.721642, -22.749115, -21.85496, -21.842566, -21.859703, -21.85672, -21.861612, -21.872442, -21.855797, -21.291658, -21.297247, -21.2968, -22.843758, -22.842974, -22.847275, -23.954643, -23.962212, -23.957714, -23.959919, -23.952665, -23.962872, -23.959919, -23.951723, -23.961887, -23.961819, -23.9332, -23.956009, -23.9537, -23.948446, -23.962872, -22.928293, -22.92949, -22.923885, -22.932177, -22.926739, -22.932205, -22.925087, -22.92506, -22.924921, -22.924898, -22.922457, -22.928753, -22.922403, -22.928606, -22.929148, -22.926363, -22.92684, -22.924128, -22.92573, -20.83876, -21.854206, -21.85489, -21.859869, -21.841013, -21.857443, -21.864685, -21.862335, -21.852062, -21.869226, -21.855797, -21.84105, -21.857473, -21.853518, -21.85489, -21.854399, -21.857344, -20.136185, -20.121462, -20.139189, -20.147993, -20.132477, -20.13512, -20.134628, -20.117626, -20.141394, -20.163729, -20.138725, -20.150757, -20.14507, -20.140495, -20.145355, -20.148077, -20.141176, -20.143248, -20.145662, -20.142914, -20.13422, -20.131628, -20.148386, -20.166254, -20.132055, -20.143085, -20.133963, -20.13326, -20.120852, -20.136429, -20.132362, -20.146494, -20.143812, -20.148418, -22.848581, -22.847347, -22.844738, -22.849396, -22.843428, -22.839943, -22.83997, -22.839483, -22.83813, -22.840935, -22.840296, -22.842657, -27.596153, -27.59412, -27.594986, -27.596357, -23.955946, -23.96508, -23.967426, -23.965454, -23.967718, -23.967701, -23.967896, -23.964493, -23.953672, -23.96615, -23.968147, -23.962912, -23.96792, -23.96845, -21.754868, -21.756739, -21.769512, -21.765072, -21.760214, -21.760592, -21.754925, -21.754139, -23.256414, -23.25698, -21.751307, -21.757431, -21.769138, -21.759418, -21.76138, -21.76842, -21.760214, -21.76905, -21.755283, -21.748148, -21.760906, -21.765913, -23.585579, -25.877085, -25.94628, -25.880266, -25.891031, -25.880388, -25.892035, -25.876032, -25.887331, -22.865187, -22.869486, -22.861765, -21.290142, -21.30204, -21.296791, -21.300716, -21.298647, -21.296738, -21.286774, -21.283787, -21.285604, -21.29406, -22.64297, -22.633783, -22.641685, -21.296713, -21.281208, -21.29343, -21.299263, -21.288116, -21.298647, -21.29698, -21.302898, -21.285767, -23.661652, -23.65312, -23.654371, -23.658644, -21.860106, -21.860205, -21.85679, -21.855679, -21.861135, -20.135424, -20.144436, -20.125319, -20.146618, -20.13681, -20.121433, -20.142534, -20.145355, -20.173342, -20.147457, -20.146526, -20.13996, -20.141136, -20.148432, -20.139801, -20.150774, -20.14012, -20.1556, -20.1488, -20.129333, -20.158304, -23.539257, -23.53984, -26.26487, -26.260725, -26.269012, -26.256968, -26.257982, -26.265923, -3.7200668, -3.7206128, -23.181217, -23.18702, -23.184671, -24.73193, -24.724646, -24.72551, -24.723875, -22.72947, -22.718966, -22.744793, -22.740522, -22.742054, -22.73272, -22.735106, -22.714148, -22.750288, -22.734035, -22.741348, -22.742485, -22.713985, -22.740679, -21.760866, -21.766462, -21.763002, -21.765661, -21.753048, -21.746572, -21.768026, -21.761402, -21.751472, -21.761217, -21.75565, -21.748487, -21.76842, -21.759687, -21.76667, -21.749569, -21.752886, -21.758932, -21.749748, -21.758717, -21.76842, -21.127983, -24.988417, -24.989016, -21.199818, -21.204115, -21.209854, -21.207811, -21.205822, -21.207397, -21.195707, -21.20792, -21.209885, -21.205057, -21.206142, -23.60781, -23.604685, -23.604603, -23.614399, -23.6116, -23.605808, -23.60569, -23.606956, -21.768593, -21.75259, -21.761093, -21.757803, -21.750212, -29.685514, -29.684362, -29.694008, -29.692257, -29.698683, -29.687387, -29.694977, -29.689915, -29.690178, -29.685457, -29.69069, -29.689232, -29.698605, -29.882015, -29.899715, -22.329222, -22.336763, -21.853127, -21.860256, -21.855797, -21.850994, -21.860106, -21.857473, -21.85394, -21.851776, -21.841679, -21.859665, -21.857689, -21.839878, -21.850052, -21.879717, -21.857344, -21.760675, -21.748943, -21.743092, -21.768026, -21.748148, -23.663895, -23.65392, -23.664644, -23.668388, -23.654257, -23.663961, -23.65256, -23.658049, -23.654612, -23.65407, -23.561478, -23.555836, -23.559603, -23.56258, -23.556484, -23.556097, -23.56478, -23.562576, -23.501837, -23.505432, -23.504196, -23.501495, -23.502085, -21.20482, -21.206865, -21.205978, -21.192303, -21.1952, -21.190285, -21.203419, -21.20792, -21.20951, -21.208776, -21.203367, -21.195427, -21.206648, -21.21122, -21.205477, -22.903173, -22.906414, -22.905155, -22.903801, -22.906696, -22.905804, -23.60781, -23.614399, -23.604883, -23.606815, -23.606853, -23.614399, -23.60686, -23.552168, -23.551563, -23.5531, -23.551695, -21.862679, -21.865541, -21.859344, -23.537151, -23.533327, -23.546322, -23.531734, -23.545221, -23.532658, -26.471455, -26.470726, -23.451797, -23.445936, -23.450094, -23.450453, -22.92684, -22.923315, -22.924911, -22.926353, -22.922457, -22.926096, -22.922457, -22.92522, -22.92709, -22.924915, -22.924911, -22.926329, -22.924162, -22.924446, -22.92515, -23.527111, -23.52713, -23.527056, -23.527056, -23.527132, -23.527111, -23.527094, -23.527077, -23.52713, -23.762825, -23.759401, -23.756727, -21.301016, -21.303194, -21.30083, -21.30042, -21.29242, -21.290478, -21.292202, -21.295742, -21.289682, -21.286604, -21.295319, -22.937971, -22.952967, -22.943764, -22.95698, -22.956509, -21.762924, -21.74872, -21.757046, -21.75954, -21.76139, -21.753046, -21.757761, -21.754745, -21.774868, -21.754139, -21.757984, -21.764753, -21.758387, -23.465513, -23.609491, -23.609728, -23.609491, -23.608421, -22.278837, -22.278772, -22.267536, -22.28988, -22.28306, -22.28124, -21.748707, -21.772173, -21.751236, -21.762283, -21.753723, -21.748943, -21.758654, -21.75455, -21.758717, -21.760906, -21.746813, -21.746851, -21.749334, -21.762974, -21.76842, -21.757952, -21.75083, -21.76698, -21.759552, -21.774868, -23.593395, -23.597734, -23.59351, -29.954647, -29.957607, -29.954826, -29.945646, -25.443348, -25.435585, -25.439896, -25.435555, -25.443773, -25.434645, -25.435736, -25.435865, -25.441433, -25.437508, -23.630222, -23.60708, -23.63028, -27.6014, -27.597637, -27.59598, -27.600176, -27.595146, -27.58764, -27.595581, -27.596718, -21.749655, -21.768326, -21.741095, -21.750622, -21.774868, -21.763271, -21.757431, -21.753555, -21.75942, -21.76891, -21.759941, -21.759258, -21.758654, -21.753822, -21.769615, -23.434345, -25.433876, -25.4387, -25.437607, -25.436556, -25.43716, -25.433443, -25.438705, -25.43903, -23.66266, -23.629742, -25.549406, -25.569462, -25.55448, -23.541044, -23.543316, -23.533516, -23.53296, -24.729948, -24.724646, -19.46334, -19.450233, -19.445513, -19.447851, -19.433502, -19.436731, -19.449041, -19.47296, -19.438791, -19.477575, -19.448576, -31.748615, -31.738762, -31.761486, -31.749434, -31.751669, -31.775753, -31.75124, -31.741096, -31.755266, -31.78179, -31.758371, -31.747923, -31.74275, -25.511417, -19.601719, -19.6106, -19.605598, -21.576618, -19.95728, -19.953133, -19.947287, -19.951483, -19.956316, -19.965456, -19.938265, -21.757265, -21.769136, -21.769512, -21.758299, -21.762909, -21.757483, -21.757952, -21.746572, -21.76782, -21.774868, -21.752459, -23.50357, -23.504335, -23.50381, -23.503757, -23.50494, -21.749937, -21.757673, -21.757046, -21.748966, -21.772173, -21.742899, -21.76667, -21.757483, -21.769482, -21.759346, -21.748503, -21.757992, -21.757978, -21.75455, -21.751944, -21.76842, -21.750257, -21.76842, -21.755457, -21.759598, -21.770712, -21.75399, -23.95661, -23.951426, -23.952665, -23.961206, -23.951649, -23.945396, -23.945812, -23.945679, -23.937544, -23.950739, -21.205978, -21.18206, -21.194513, -21.207798, -21.185787, -21.20502, -21.185013, -21.183355, -21.205294, -21.201958, -21.202967, -21.204437, -21.202051, -21.2073, -21.208776, -22.816923, -21.765902, -21.758844, -21.749655, -21.75942, -21.757803, -21.757761, -21.758932, -21.75455, -21.753506, -21.765621, -21.766478, -22.943468, -23.21385, -23.224567, -22.128687, -21.851418, -21.867867, -21.85693, -21.859798, -21.85555, -21.856539, -21.85745, -21.86973, -21.861612, -21.868456, -21.867926, -21.852453, -22.725975, -21.743092, -21.76667, -21.751165, -21.750887, -22.752867, -22.74167, -22.738644, -22.753876, -22.751518, -22.714123, -22.720486, -22.74232, -22.745125, -22.750639, -22.744244, -22.73968, -22.749817, -22.713985, -21.754732, -21.748966, -21.756739, -21.762774, -21.75431, -21.762602, -21.751287, -21.75455, -21.819061, -21.803736, -21.815742, -24.988361, -24.986666, -19.953411, -19.947767, -19.94503, -19.93758, -19.964592, -19.962221, -21.253271, -21.25902, -21.257784, -29.166994, -29.166656, -29.168835, -29.168682, -29.165186, -29.166922, -29.166853, -29.170181, -29.169577, -22.067425, -22.069994, -22.062107, -22.068733, -23.510471, -21.295755, -21.287441, -21.295893, -21.30004, -21.29343, -21.304762, -21.289682, -21.296803, -21.753822, -21.768026, -21.759838, -21.760595, -21.76667, -21.757483, -21.748545, -21.758438, -21.738056, -21.759705, -21.754595, -21.75433, -21.774868, -21.770712, -21.744743, -23.551563, -23.55184, -23.550987, -23.552246, -21.760866, -21.75836, -21.753555, -21.755962, -21.758299, -21.74819, -21.26362, -21.256123, -21.25956, -21.266045, -21.25756, -23.503864, -21.76138, -21.756067, -21.750603, -21.753311, -21.759605, -21.769564, -21.751287, -21.75399, -23.50047, -23.499374, -23.504972, -22.738241, -22.739613, -22.731077, -22.734919, -22.734627, -22.744026, -22.741575, -22.749254, -22.744793, -22.74932, -22.849854, -22.834074, -22.842253, -22.844534, -22.844257, -22.074493, -22.075392, -22.065779, -22.06446, -22.080439, -22.069395, -23.232143, -23.230099, -23.224724, -23.499521, -29.169573, -29.16887, -29.169577, -29.16152, -29.168201, -29.170027, -29.16696, -29.167566, -29.162735, -29.166859, -29.16953, -29.159307, -21.29589, -21.288116, -21.302742, -21.297037, -21.296686, -21.296904, -21.297573, -21.226885, -21.228552, -21.193758, -21.203762, -21.204693, -21.205082, -21.19915, -21.21057, -21.20486, -21.210104, -21.19559, -21.204771, -21.20069, -21.201958, -21.186905, -21.751236, -21.762651, -21.751165, -21.761915, -21.771019, -21.762924, -21.754925, -31.749218, -31.764168, -31.770964, -31.7577, -31.745811, -31.767546, -31.753973, -31.75561, -31.748024, -31.738762, -25.140745, -25.160044, -25.154139, -25.346779, -25.34915, -21.750145, -21.759687, -21.758299, -21.75942, -21.760595, -21.764431, -21.759258, -21.750887, -21.74819, -21.755949, -25.877008, -25.901484, -25.875662, -25.875679, -25.876019, -22.666729, -22.663656, -23.407679, -23.413816, -23.417664, -23.40936, -21.757673, -21.758299, -21.758299, -21.76592, -21.761093, -21.748943, -21.741095, -21.763147, -21.758562, -21.774868, -21.75455, -23.4378, -23.500772, -23.50253, -23.50228, -23.506042, -21.753332, -21.762924, -21.753048, -21.761337, -21.751944, -21.753855, -21.758562, -21.759705, -21.768026, -21.76522, -21.769938, -25.459198, -21.871351, -21.864515, -21.866722, -21.863754, -21.845657, -21.865541, -21.856539, -21.861612, -21.855871, -21.85622, -21.868456, -21.862156, -21.74727, -21.757483, -21.76842, -21.760841, -21.758438, -21.768127, -21.774868, -21.76698, -21.734663, -21.759605, -21.755949, -21.75259, -21.757053, -21.769938, -21.757984, -21.744743, -21.748903, -23.564566, -23.555836, -23.558449, -23.561968, -23.558739, -23.563051, -23.5604, -23.564095, -21.769136, -21.749352, -21.762974, -21.76592, -21.762774, -21.759346, -21.734663, -21.756401, -21.748487, -23.594503, -23.56381, -23.561275, -23.559866, -23.56416, -21.761337, -21.762909, -21.754595, -21.753822, -21.749748, -23.09061, -23.08589, -25.876106, -25.88008, -25.877922, -25.880388, -25.88546, -25.897495, -25.879965, -23.181217, -23.189821, -23.180939, -23.18251, -21.774868, -21.760595, -21.756306, -21.75259, -21.757984, -21.74535, -21.748552, -21.761093, -21.76842, -21.759705, -21.757538, -21.754139, -21.744743, -29.168287, -29.167797, -29.168798, -29.165798, -29.164919, -26.905231, -26.910954, -26.910666, -26.920912, -23.418028, -23.413855, -23.412832, -21.199795, -21.205452, -21.186642, -21.207397, -21.187105, -21.205978, -21.195427, -21.205294, -21.19932, -21.205273, -21.205397, -21.205294, -21.201748, -21.207674, -21.854626, -21.866503, -21.852057, -21.854763, -21.86254, -21.853416, -21.83603, -21.855797, -21.85153, -21.856539, -21.854242, -21.857344, -21.867537, -21.861841, -21.853437, -21.85778, -21.852777, -23.754757, -23.759956, -23.761702, -22.749254, -22.726313, -22.744081, -22.74808, -22.741999, -22.71189, -22.749136, -22.72947, -22.737473, -21.757431, -21.747807, -21.757483, -21.764307, -21.751944, -21.754925, -21.760025, -25.412647, -25.408745, -25.409067, -19.949104, -19.951498, -19.949354, -19.962551, -19.946733, -19.943983, -19.946507, -19.954218, -19.962576, -21.291025, -21.302105, -21.291374, -21.294403, -21.297052, -21.293036, -21.303314, -23.002089, -22.998755, -22.996973, -21.759838, -21.747002, -21.754963, -21.751236, -21.770794, -22.95303, -22.955173, -22.94486, -22.944607, -22.955173, -22.957184, -21.7471, -21.746813, -21.749569, -21.746572, -21.764753, -20.149796, -20.145512, -20.146246, -20.141394, -20.145695, -20.14494, -20.14134, -20.144548, -20.14367, -20.137182, -20.17347, -20.134626, -20.145355, -20.13678, -20.139208, -20.143997, -20.141123, -20.159885, -20.116528, -20.137722, -20.14458, -20.143013, -20.138659, -20.1406, -20.121902, -20.139359, -24.075262, -25.539156, -25.531132, -25.53036, -25.547373, -25.538755, -21.75747, -21.759687, -21.756067, -21.757952, -21.759705, -21.758932, -21.75399, -23.503572, -23.424538, -23.442293, -23.43128, -23.441809, -23.424538, -23.439062, -23.424538, -23.423952, -23.433655, -23.463648, -23.438606, -23.43246, -23.441547, -23.442886, -23.427223, -23.552965, -23.617243, -23.61413, -21.201193, -21.199818, -21.189545, -21.205091, -21.207193, -21.200367, -21.201193, -21.197182, -21.192041, -21.185787, -21.202929, -21.190638, -21.192303, -21.189169, -21.204689, -21.203178, -21.201958, -21.20832, -21.184744, -21.76981, -21.759838, -21.756739, -21.772173, -21.74727, -21.743092, -21.746418, -21.748552, -21.743092, -21.753506, -21.76891, -21.753223, -21.749748, -21.76522, -15.8323345, -15.8323345, -21.743092, -21.767513, -21.757118, -21.762602, -21.851482, -21.842566, -21.859703, -21.832598, -21.861254, -21.860586, -21.85721, -21.855988, -21.862762, -21.868643, -21.84105, -21.85622, -21.863785, -21.858555, -22.72947, -22.72134, -22.73038, -22.7406, -22.74808, -22.739426, -22.741999, -22.740463, -22.75035, -30.107904, -30.110409, -30.117298, -30.110199, -30.110353, -30.119568, -30.112806, -30.117474, -21.370533, -21.35779, -21.363974, -21.357313, -21.3586, -21.75687, -21.750257, -21.753555, -21.762774, -21.774868, -21.749748, -21.762602, -22.71778, -21.207901, -21.201193, -21.201567, -21.199434, -21.19009, -21.204247, -21.190838, -21.201748, -21.206648, -21.208687, -21.202826, -25.438225, -25.443802, -25.437786, -25.434683, -25.439455, -25.434566, -25.437426, -25.445087, -25.4349, -25.435286, -25.440233, -25.43577, -22.322851, -22.316746, -22.327656, -22.327656, -19.940649, -19.93869, -19.942965, -19.940649, -19.941433, -21.757727, -21.749352, -21.76842, -21.760214, -23.531448, -23.529097, -16.681273, -16.682549, -16.681273, -16.682354, -22.750357, -22.713774, -22.744589, -22.741844, -22.737778, -22.715847, -22.735832, -22.745186, -22.75082, -22.738241, -22.73748, -22.737473, -23.949736, -23.933481, -23.957228, -23.958754, -23.962337, -23.963663, -23.952105, -21.244442, -21.25956, -21.757803, -21.76592, -21.76905, -21.769938, -21.760595, -25.140888, -25.13341, -23.535212, -23.535755, -23.535624, -23.53408, -23.53408, -23.53944, -23.53984, -23.538895, -29.939863, -29.94723, -19.855059, -19.86002, -19.854462, -24.785458, -24.793259, -23.481627, -23.409187, -23.527111, -23.527077, -23.527073, -23.528103, -23.527134, -23.527134, -23.52713, -23.693398, -23.689743, -23.53984, -23.539616, -23.539167, -21.30083, -21.288778, -21.30204, -21.296034, -21.30331, -21.295742, -21.30331, -21.289686, -21.300446, -21.287846, -21.296686, -21.298372, -21.292439, -21.30172, -21.288836, -22.71044, -22.709743, -22.710041, -22.71142, -21.769512, -21.756367, -21.762974, -21.761093, -21.757803, -21.758562, -21.751772, -21.753874, -21.75455, -21.758387, -21.746813, -21.757431, -21.747002, -21.766417, -21.753855, -21.754984, -21.762602, -23.496967, -23.497566, -22.732141, -22.735495, -22.74167, -22.7406, -22.74167, -22.75082, -22.738768, -22.732494, -22.732191, -22.740679, -20.447865, -20.437344, -20.44316, -20.430277, -20.446486, -20.458744, -22.99723, -23.004305, -21.761337, -21.757265, -21.751501, -21.768593, -21.75836, -21.76525, -21.762974, -21.757803, -21.750114, -21.762924, -21.748293, -21.831934, -21.83496, -21.803535, -21.84066, -21.819061, -22.190613, -22.180897, -22.189419, -23.633535, -23.632807, -23.631142, -23.632938, -19.874079, -26.489927, -23.66803, -23.6732, -23.678984, -23.67248, -23.667845, -22.840158, -22.850403, -22.838614, -22.846256, -22.839119, -22.839554, -22.845137, -23.975002, -23.977823, -23.973188, -23.975857, -23.977934, -23.96919, -23.970625, -23.97114, -23.278215, -23.274195, -23.27669, -20.492422, -20.486591, -20.48971, -20.488892, -20.479399, -21.168974, -21.174355, -21.173698, -23.394762, -23.383224, -23.393478, -23.393211, -23.592533, -27.44524, -27.401764, -27.441301, -22.901485, -22.899557, -22.898148, -22.903097, -22.899603, -22.901447, -22.898113, -22.900667, -22.900757, -22.900219, -22.898201, -22.899603, -23.562239, -23.56309, -23.569899, -23.48851, -22.249964, -22.23701, -22.24188, -22.256987, -22.242567, -22.250828, -22.261845, -22.248108, -22.256987, -22.236605, -22.239887, -22.25476, -28.692585, -28.693478, -28.688307, -28.697718, -26.267452, -26.267452, -26.271387, -21.466461, -21.47092, -21.468687, -26.03682, -26.053886, -26.039175, -22.237886, -22.262877, -22.250784, -22.259392, -22.260118, -22.223656, -22.22398, -22.252483, -27.616653, -27.616226, -27.643284, -27.627071, -23.553112, -23.559643, -23.549913, -20.543856, -20.524395, -20.536692, -20.53408, -20.546654, -20.532074, -20.508955, -20.535551, -23.609764, -23.387575, -7.1186805, -7.1155634, -7.1130457, -27.41763, -28.619009, -21.743689, -22.895433, -22.897566, -16.729599, -16.738676, -16.732056, -16.720762, -16.718418, -16.726416, -16.749886, -16.729824, -16.720432, -16.737741, -16.736252, -16.722902, -16.749369, -16.714725, -16.715136, -16.728127, -16.725815, -16.729921, -16.705091, -16.712292, -16.705412, -16.736977, -16.721676, -16.721363, -16.719881, -16.727438, -16.718817, -23.668745, -20.738707, -20.749517, -20.754389, -20.757303, -20.754463, -20.755344, -20.74672, -20.759174, -20.755241, -20.729515, -20.748466, -20.738707, -20.729284, -20.749868, -20.757849, -20.753714, -20.74544, -20.752047, -23.629538, -20.369827, -20.362902, -23.221432, -23.22426, -23.234192, -23.230305, -23.222565, -23.223856, -23.22834, -23.22817, -23.234493, -23.517227, -23.67119, -23.677973, -23.674444, -23.676521, -23.66803, -23.672626, -23.674866, -23.681084, -23.67248, -23.66876, -23.716679, -23.716679, -23.716156, -23.716885, -23.713663, -23.591608, -23.5923, -23.592567, -23.543951, -23.541409, -22.884264, -22.894741, -22.899303, -22.900831, -22.894026, -22.878588, -22.894506, -22.900635, -22.881498, -22.89512, -22.90202, -22.901386, -22.894726, -30.07233, -30.066832, -30.064953, -30.0797, -23.691612, -23.685368, -23.685364, -23.686848, -23.687498, -23.695543, -25.510431, -25.499844, -25.502583, -25.50738, -25.508877, -22.254526, -22.260118, -22.25199, -22.219383, -22.242079, -22.25221, -20.44012, -20.435633, -20.460499, -20.470648, -20.465353, -20.465382, -20.466133, -20.483454, -20.475992, -20.466688, -20.459826, -20.458931, -20.456923, -20.477644, -20.464851, -20.463997, -20.456512, -20.465197, -20.46431, -29.176395, -29.173462, -29.170626, -29.170626, -29.172552, -29.17388, -29.178343, -19.927013, -19.926235, -19.931253, -19.925098, -19.91848, -19.927258, -19.927698, -19.931253, -19.927181, -19.938032, -19.929037, -19.936195, -19.927637, -19.93152, -19.931557, -19.93375, -19.931997, -19.9293, -19.930117, -19.919798, -19.928217, -19.91815, -19.938337, -19.928793, -21.172024, -21.171646, -21.171053, -21.171665, -21.174826, -22.870268, -29.026327, -29.032248, -29.028543, -29.028532, -23.608349, -23.608349, -23.607584, -23.608349, -23.608349, -25.572573, -25.556618, -25.564856, -23.545479, -23.502537, -20.043354, -20.023762, -20.02903, -20.021324, -20.02818, -20.014053, -20.021637, -20.028107, -20.025705, -23.539364, -23.539133, -23.54013, -23.589502, -22.24637, -22.256987, -22.254436, -22.239113, -22.256542, -22.245356, -22.242079, -22.256987, -22.219383, -22.237366, -22.239906, -22.25147, -22.249851, -22.24009, -22.254541, -22.425346, -22.425385, -22.419935, -22.421793, -20.536552, -20.508282, -20.521084, -20.528803, -20.533947, -20.519451, -20.531004, -20.53345, -20.54576, -20.525448, -29.905005, -20.462097, -20.475489, -20.470015, -20.469263, -20.458723, -20.453304, -20.45903, -20.446856, -20.466845, -20.475992, -20.465765, -20.463997, -20.473202, -20.457766, -20.455769, -22.248295, -22.253973, -22.256987, -22.252113, -22.229235, -22.258366, -22.25199, -22.263342, -22.236244, -22.224749, -22.241108, -22.236605, -22.224947, -22.241299, -23.599958, -23.308243, -23.307177, -20.317873, -20.319586, -23.395695, -23.398613, -22.237886, -22.256987, -22.250614, -22.257915, -22.239624, -22.24642, -22.255411, -22.241762, -22.257011, -22.219383, -22.239906, -22.24362, -22.257011, -22.241762, -22.217043, -23.545586, -23.540562, -23.54112, -23.502647, -23.501635, -23.502686, -23.502499, -23.527569, -23.708355, -23.541168, -23.537207, -23.543549, -23.541254, -23.542385, -15.7462635, -15.744618, -15.745266, -15.746058, -17.735054, -17.718393, -17.727734, -3.7294247, -3.7479942, -3.7491612, -3.7479942, -3.721671, -23.389032, -23.391535, -23.603556, -23.60514, -25.3971, -25.39923, -25.398052, -25.39805, -23.549734, -23.56016, -23.562243, -23.560589, -22.850403, -22.852942, -22.848679, -22.852942, -22.83804, -22.847979, -22.845137, -22.852575, -22.842497, -20.466946, -20.45257, -20.453236, -20.473259, -20.478493, -20.455042, -20.458988, -20.454617, -20.462502, -20.46215, -20.46504, -23.673698, -23.667955, -23.668129, -23.676384, -23.677845, -23.674866, -23.680723, -23.667845, -23.673746, -23.679749, -23.673746, -20.456394, -20.459768, -20.471375, -20.469461, -20.471127, -20.457233, -20.463907, -20.479242, -20.459166, -20.473104, -20.45729, -20.45248, -20.475733, -20.452127, -20.45997, -23.302801, -23.679726, -23.685343, -25.50727, -25.5035, -25.510431, -25.513617, -25.502583, -25.51461, -25.512873, -25.509275, -25.418556, -25.417728, -25.419792, -25.414734, -25.42054, -25.41522, -25.415068, -25.413097, -25.418327, -25.413074, -23.583488, -23.582605, -27.988913, -23.631332, -23.628935, -23.629234, -23.49935, -23.498411, -21.23107, -21.065157, -21.067324, -21.064991, -21.065516, -21.065472, -20.489183, -20.488604, -20.510077, -20.48885, -20.49278, -20.497269, -17.728348, -17.729366, -17.730448, -17.746616, -17.746616, -17.73086, -17.722467, -17.733866, -17.73118, -17.736654, -23.57764, -23.591585, -23.578228, -23.585876, -23.749146, -22.187262, -22.178808, -22.174028, -22.188742, -23.589247, -23.582338, -23.589817, -23.58671, -23.588783, -23.419191, -23.416159, -23.414164, -23.42091, -23.422277, -23.411346, -21.107298, -21.109669, -23.541012, -23.54049, -23.540285, -23.1101, -23.180162, -22.325365, -22.326752, -22.334776, -22.329258, -22.334923, -22.336082, -23.543926, -25.411098, -25.414759, -25.415499, -25.41133, -23.66984, -23.221432, -23.219551, -23.234049, -23.22152, -23.222061, -23.220638, -23.220638, -23.220507, -23.220276, -22.399166, -22.419392, -22.373999, -22.40891, -22.410128, -22.406595, -22.404732, -22.409695, -22.413713, -22.371323, -22.417885, -22.41693, -23.173311, -23.111834, -23.172493, -23.176186, -23.172268, -23.33626, -23.545746, -23.551016, -23.550192, -23.547756, -23.562243, -28.674635, -25.507711, -23.556774, -21.713911, -21.70479, -26.055737, -23.578419, -25.464945, -23.660297, -23.657148, -23.67282, -23.660297, -23.49639, -23.499918, -23.496696, -23.503773, -23.497808, -23.506752, -23.512104, -19.490229, -19.477633, -19.480936, -23.559706, -23.55882, -23.56584, -23.56594, -23.565016, -23.561083, -23.559616, -20.385374, -20.386763, -20.379354, -20.385, -20.385212, -20.385618, -20.387161, -20.40523, -20.383831, -20.385263, -20.384277, -20.384703, -20.40087, -20.384567, -20.399017, -20.39866, -20.38536, -20.406109, -20.384148, -20.38591, -20.382656, -20.38572, -20.384493, -20.399332, -23.556501, -23.558073, -23.629612, -19.926682, -19.927498, -19.938765, -19.926235, -19.938417, -19.93593, -19.927097, -19.926735, -19.926792, -19.936195, -19.930117, -19.934652, -19.94876, -19.93449, -19.930244, -19.926641, -19.9473, -19.927637, -19.942976, -19.942804, -19.9383, -19.940138, -19.941704, -19.937933, -19.935097, -19.941149, -19.941076, -19.94092, -19.93673, -19.941366, -19.942902, -29.026327, -29.03899, -29.034233, -29.034616, -23.48318, -23.486994, -23.571217, -23.570227, -20.03559, -20.031305, -20.024727, -20.02287, -20.02421, -20.016726, -30.021126, -30.023378, -30.027342, -22.2606, -22.262005, -22.279556, -22.2727, -16.718842, -16.721245, -16.707903, -16.70455, -16.705091, -16.731804, -16.73, -16.73715, -16.717817, -16.737099, -16.699219, -16.724876, -16.731943, -16.732443, -23.636658, -23.55468, -23.56007, -23.552382, -23.558056, -23.556574, -23.553019, -20.540401, -20.520939, -20.546654, -20.536692, -20.541195, -20.508955, -23.932665, -23.932726, -23.93346, -20.101461, -20.22372, -20.190788, -20.224249, -20.195866, -23.54543, -23.541224, -21.142857, -21.140726, -5.79314, -5.789691, -5.7912526, -5.788072, -5.7971163, -5.7933083, -22.281443, -22.279701, -22.256987, -22.25073, -22.219383, -22.23998, -22.256987, -22.242367, -22.248108, -22.24489, -22.26476, -22.254526, -22.249851, -22.252832, -29.170227, -29.173315, -22.899237, -22.901314, -22.899303, -22.90021, -22.9028, -21.085676, -21.106499, -21.109629, -30.018717, -30.019945, -30.01819, -30.019545, -30.02186, -30.019869, -30.010038, -30.019804, -30.020365, -30.014505, -30.011063, -23.235239, -23.227314, -23.22577, -23.221087, -23.22085, -23.219126, -29.234634, -29.224361, -29.230465, -29.233572, -17.722618, -17.722956, -17.736908, -23.716557, -23.714293, -23.719803, -23.719778, -23.719841, -23.721577, -23.715054, -23.601057, -23.602774, -23.602774, -23.602625, -22.819027, -22.816748, -22.81285, -22.81588, -16.711096, -16.719767, -16.709538, -16.738438, -16.716661, -16.7644, -16.717716, -16.705395, -16.715414, -16.720789, -16.729824, -16.731125, -16.704397, -16.732948, -16.71289, -16.725815, -16.706957, -16.705091, -16.712418, -16.732443, -16.730476, -23.512074, -23.509502, -23.513172, -26.91961, -16.336437, -16.335733, -16.330957, -27.774803, -27.774748, -27.770452, -27.774788, -27.786245, -27.772007, -27.780865, -27.771582, -23.448647, -23.44433, -23.448647, -23.449732, -23.441462, -23.446295, -23.448647, -22.685282, -22.658543, -22.692493, -22.70214, -22.702953, -22.68799, -22.711891, -22.705853, -22.689297, -22.695818, -22.675045, -22.686575, -22.66651, -22.676514, -22.694223, -22.702072, -22.675743, -22.701263, -22.676003, -23.613258, -23.506413, -22.603157, -22.611095, -22.602901, -22.602089, -22.61691, -22.598656, -22.61067, -23.579884, -23.574505, -23.572617, -23.570116, -23.574205, -23.57829, -23.539541, -23.540749, -23.537046, -23.53884, -23.545698, -23.531616, -23.52889, -23.536379, -23.528484, -22.34682, -22.351082, -22.350544, -22.344145, -22.347166, -22.372116, -22.350851, -22.350851, -22.344969, -22.367777, -22.345139, -22.32853, -23.65861, -19.779335, -19.787575, -19.789, -19.790115, -19.77926, -19.778961, -19.792091, -19.794052, -19.802008, -19.784868, -19.787682, -19.778336, -19.790096, -21.806688, -21.80765, -21.805193, -21.799284, -21.805456, -22.838373, -22.831287, -22.834288, -22.840242, -22.839743, -22.840242, -22.840242, -22.835491, -22.839418, -22.839628, -22.832968, -22.832449, -23.263786, -25.415085, -25.418234, -25.422613, -23.713646, -23.500763, -23.49626, -23.49944, -23.631132, -23.630774, -27.083595, -23.63759, -23.633293, -23.633293, -23.410637, -23.40683, -22.021038, -22.01506, -22.023521, -22.012966, -22.011364, -22.016098, -22.01689, -22.015009, -22.006578, -22.014387, -22.018288, -22.011324, -22.022402, -25.369766, -25.358408, -25.35431, -25.36238, -25.372606, -23.466305, -23.464699, -27.090906, -27.083145, -27.081797, -27.091654, -23.56359, -26.290585, -23.521172, -23.525549, -23.62555, -23.629227, -23.460835, -23.459412, -22.826416, -22.816954, -22.81939, -23.279188, -23.277, -23.284477, -23.288532, -23.279137, -23.279747, -23.291193, -23.300858, -23.264814, -23.301744, -23.297035, -23.291842, -23.290133, -23.289442, -23.516024, -23.516024, -23.519281, -23.539185, -23.542292, -23.538534, -23.539972, -22.756905, -22.75819, -22.75776, -22.755907, -22.759672, -22.757143, -22.759153, -26.333824, -26.327696, -23.443216, -23.70544, -23.700644, -23.70111, -23.701914, -23.701914, -23.701813, -22.021038, -22.012283, -22.014854, -22.019003, -22.017843, -22.011639, -22.01696, -22.012377, -19.96009, -19.957546, -19.960213, -21.128227, -21.12462, -21.128336, -22.72961, -22.729666, -22.6907, -22.686575, -22.693525, -22.695131, -22.70895, -22.657215, -22.67893, -22.688606, -22.680254, -22.67732, -22.687803, -22.706947, -22.685673, -22.701029, -22.675045, -23.506098, -23.284271, -23.287333, -23.292227, -23.319202, -23.284863, -23.284534, -23.284851, -23.267393, -23.29095, -23.281687, -23.283438, -28.939093, -23.54277, -23.631763, -23.626461, -23.628803, -23.628899, -23.391586, -23.3786, -23.56723, -23.564959, -23.55931, -23.56206, -23.561691, -23.56053, -23.471478, -23.47554, -23.481941, -23.47689, -23.475912, -23.472567, -23.476204, -23.463736, -23.472824, -23.475912, -22.396563, -22.41462, -22.413816, -22.379696, -22.370417, -22.396017, -22.387411, -22.389101, -23.72154, -23.719486, -21.561352, -21.566607, -22.870531, -22.869015, -22.860931, -22.87116, -23.525509, -23.531055, -23.525509, -23.526226, -22.748493, -22.743547, -22.74834, -23.541063, -23.539972, -23.539097, -29.175995, -22.715504, -22.693762, -22.712008, -22.69123, -22.680342, -22.70548, -22.696926, -22.706108, -22.695244, -22.699226, -22.69598, -22.67889, -22.67893, -22.673847, -22.68139, -22.696497, -22.617968, -23.7068, -23.707687, -23.461304, -23.462149, -22.59576, -23.480814, -23.575047, -23.57673, -23.574343, -23.57383, -23.568157, -23.571724, -23.568958, -23.599688, -23.57157, -22.974838, -22.993122, -23.52, -20.343645, -25.440426, -25.43776, -25.43588, -25.435305, -25.437778, -25.437563, -26.270805, -22.93099, -22.932106, -22.925423, -22.949152, -22.925018, -22.928812, -20.437986, -23.666533, -23.667442, -23.663202, -23.659437, -23.662718, -23.660261, -23.664177, -26.964687, -26.967289, -26.956915, -26.96305, -26.875053, -26.958302, -22.284872, -22.28026, -22.27987, -22.280695, -22.279266, -22.280518, -22.284122, -29.948568, -29.95153, -29.950226, -23.44902, -23.448647, -23.446777, -23.446043, -23.451523, -23.448647, -23.44789, -23.44741, -23.480661, -23.485569, -23.488695, -23.480661, -23.525217, -23.528725, -23.523565, -23.580942, -23.581974, -23.580057, -23.544714, -19.91985, -19.925964, -19.93171, -19.92543, -19.922777, -19.928122, -19.923164, -19.932343, -19.916395, -19.915161, -19.915709, -19.926563, -19.927717, -19.915161, -19.92687, -19.937078, -25.458586, -25.453388, -25.457441, -25.458136, -25.467184, -25.47197, -22.324133, -22.326462, -22.35476, -22.332695, -22.33832, -22.351906, -22.327114, -22.012388, -22.007214, -22.01634, -22.016945, -22.012966, -22.019003, -22.01428, -22.005018, -22.015593, -22.005972, -22.024195, -22.016098, -22.010775, -22.008577, -22.020748, -22.0151, -22.0178, -22.021109, -22.017284, -22.025024, -22.009768, -22.007187, -22.016052, -22.017761, -22.016483, -23.540142, -23.541641, -22.821459, -25.45382, -25.458006, -25.464449, -25.452633, -25.461323, -25.440573, -25.45952, -29.910128, -29.928097, -29.913599, -29.920292, -29.918756, -29.915234, -21.26739, -21.123259, -21.132465, -23.195906, -23.189924, -23.189169, -25.382256, -25.464449, -25.462353, -25.461172, -23.545359, -23.547445, -23.542002, -23.54612, -23.252903, -23.252226, -23.692348, -23.504738, -23.504234, -23.497553, -23.49992, -22.657906, -22.664206, -22.66408, -22.66841, -22.662374, -22.738081, -22.741829, -21.121101, -21.131374, -21.12417, -22.392017, -22.381813, -22.40774, -22.397846, -22.396643, -22.378317, -22.387165, -22.374348, -22.414457, -22.371124, -22.36782, -22.370417, -22.386408, -22.404661, -22.394053, -27.259214, -27.292133, -27.290316, -23.381239, -23.394424, -23.38316, -23.550407, -26.94446, -26.956467, -23.549757, -23.545498, -23.55176, -23.550238, -23.55336, -23.555464, -23.556877, -23.541477, -23.549313, -23.547493, -25.659325, -25.66809, -25.657616, -25.66141, -25.661863, -21.382166, -21.387741, -21.374462, -26.945484, -26.92686, -24.050714, -24.049793, -24.056904, -22.015985, -22.007942, -22.012283, -22.012371, -22.017918, -22.014513, -22.01933, -22.013964, -22.005539, -22.011423, -22.014387, -22.01518, -22.01641, -22.016674, -22.017918, -22.006231, -22.018658, -22.01345, -19.861444, -19.855995, -19.86691, -19.867847, -19.872711, -19.867138, -19.864115, -19.868889, -19.865782, -19.870886, -21.56635, -21.565584, -21.563135, -23.556877, -23.54568, -23.545498, -23.552525, -23.545776, -23.550842, -23.541842, -23.547619, -23.550915, -23.555687, -23.558565, -16.373808, -26.271017, -26.264664, -26.273241, -27.154848, -27.170664, -27.15581, -27.145014, -19.950975, -19.958817, -19.950348, -19.945755, -19.951073, -22.718475, -21.815468, -21.800386, -21.584114, -21.802023, -24.050714, -24.049793, -24.057203, -25.65015, -23.391586, -23.377876, -23.376936, -23.545275, -19.806429, -19.812725, -19.812916, -19.81246, -26.322569, -26.309633, -26.318903, -26.309643, -23.493254, -23.480051, -23.481718, -23.488592, -23.5113, -23.506464, -23.515121, -32.072365, -32.068913, -32.074314, -23.283438, -23.267857, -23.284477, -23.28628, -23.297527, -23.277056, -23.322203, -23.2849, -23.28744, -23.276905, -23.297787, -23.288889, -23.286999, -23.283438, -23.305, -23.281057, -23.292208, -23.304811, -23.308233, -23.28975, -23.381239, -23.386549, -23.388464, -22.86131, -22.854809, -22.866085, -23.50944, -23.504751, -23.505945, -23.74956, -23.754576, -23.747536, -23.748083, -23.752861, -22.70373, -18.585867, -18.588531, -18.59051, -18.606827, -18.607428, -18.592115, -18.60649, -18.607105, -18.600084, -18.597273, -18.601591, -30.03995, -30.050697, -30.044262, -30.056702, -30.057528, -30.057007, -30.048418, -23.597044, -23.593664, -21.11656, -21.105042, -23.542965, -23.549685, -25.386333, -25.387566, -25.377789, -25.385712, -22.545559, -22.544254, -23.437977, -23.431295, -23.485434, -21.473227, -21.489447, -21.48364, -21.487518, -21.491026, -21.48558, -21.479801, -21.489079, -21.477522, -21.477417, -21.496477, -21.49887, -25.450842, -25.450474, -25.456184, -25.463171, -25.45526, -25.457699, -25.456295, -25.461172, -25.420998, -25.418234, -25.41398, -22.109194, -22.11453, -23.779562, -23.77968, -23.780174, -25.014267, -24.974995, -25.006784, -25.014465, -25.016693, -25.00422, -23.453844, -25.384047, -25.381403, -25.384466, -25.383121, -29.1857, -29.205921, -23.524124, -23.528313, -23.530344, -23.521093, -23.52584, -23.52172, -23.543844, -23.546251, -23.547415, -23.547216, -23.652304, -23.64863, -23.649586, -23.652002, -23.650454, -20.423738, -20.427738, -20.416016, -20.425863, -20.42071, -20.43146, -23.490229, -23.48404, -23.481892, -23.482128, -23.479967, -23.492369, -23.480814, -23.48289, -23.48128, -23.56053, -23.565458, -23.554836, -23.564959, -23.564827, -23.561691, -23.561264, -23.556927, -23.556139, -23.565458, -22.88926, -22.893679, -22.88826, -22.893316, -22.700363, -22.70075, -15.748661, -15.749581, -23.670385, -25.458586, -25.459852, -22.773039, -22.770403, -23.573292, -23.575403, -23.572243, -23.575281, -23.656013, -23.655191, -23.656904, -23.655191, -23.65527, -23.655191, -23.985758, -23.986979, -23.98286, -22.155645, -20.50678, -22.388426, -22.387522, -22.38988, -22.39775, -22.400442, -22.391815, -22.388247, -22.391293, -21.175896, -21.179401, -23.500961, -23.502777, -26.828737, -26.826157, -26.810455, -26.85605, -23.568523, -23.56763, -22.89903, -26.864086, -23.54889, -23.55104, -22.893543, -22.892574, -22.892921, -22.89607, -22.895336, -22.935865, -22.939528, -22.936611, -22.933186, -22.936018, -22.936018, -22.936333, -22.939913, -22.934757, -22.939064, -22.93743, -22.93664, -23.62835, -23.62835, -23.636084, -23.635632, -25.400827, -25.397625, -25.402462, -25.42987, -25.434956, -25.433062, -25.431076, -25.43646, -25.430387, -25.488432, -25.487476, -25.487387, -25.495039, -25.485836, -25.446653, -25.447987, -25.445541, -25.452715, -25.453585, -25.450014, -25.445593, -25.443995, -25.452473, -25.450598, -25.448708, -25.449306, -25.451736, -25.449306, -25.445301, -25.446571, -21.12542, -21.109539, -23.488092, -23.495173, -23.488817, -23.492205, -23.488817, -16.625658, -27.211687, -27.158682, -27.15698, -27.157654, -23.53723, -22.217018, -22.218277, -22.211443, -29.929926, -29.92892, -29.921316, -29.927593, -29.926054, -23.52116, -23.519838, -23.521482, -23.538912, -23.518738, -23.52285, -23.514618, -23.520838, -23.516699, -21.178034, -21.183708, -21.180958, -21.180552, -21.19197, -21.20806, -21.203072, -21.174116, -21.175968, -21.18041, -21.180552, -21.18001, -21.180552, -22.819246, -22.810957, -22.806616, -19.978022, -19.98331, -19.977173, -19.97939, -19.974327, -19.97326, -19.978071, -19.97825, -19.977873, -19.97321, -19.983444, -19.97382, -19.975805, -19.969658, -19.97757, -19.969713, -19.970171, -19.969713, -19.968302, -19.972406, -19.977118, -19.97399, -19.976076, -19.972328, -23.635145, -21.626104, -21.62766, -21.620083, -21.6287, -22.38312, -22.391356, -22.387087, -22.3878, -23.547792, -23.547623, -23.553358, -25.436628, -25.442432, -25.441, -25.441967, -25.398466, -25.40068, -25.409994, -25.387472, -25.362814, -25.381596, -22.329468, -23.55104, -23.549797, -23.722235, -23.722923, -23.719822, -23.71601, -30.079973, -30.06478, -30.062775, -30.075457, -30.065151, -23.507734, -23.501112, -21.933245, -21.932161, -21.930338, -21.933762, -21.93719, -15.788832, -21.176638, -21.173782, -21.182692, -21.175587, -21.175179, -15.9168415, -23.117613, -23.117146, -23.111595, -23.113665, -27.160492, -27.158838, -27.155502, -27.155905, -27.154974, -20.472656, -23.536547, -23.536665, -23.538422, -23.542307, -23.540642, -26.332207, -26.3231, -26.335175, -26.335136, -23.476355, -23.476355, -23.476744, -23.47744, -23.476355, -23.521835, -23.52017, -19.898172, -19.904078, -19.9018, -19.900461, -19.9009, -19.902395, -19.898165, -19.897097, -19.90383, -25.492561, -25.48399, -25.495056, -25.494368, -25.494354, -25.490028, -15.800121, -15.801309, -25.470018, -25.465294, -19.893572, -19.893847, -19.88912, -19.8931, -19.8931, -19.88467, -19.753864, -19.522436, -19.516895, -19.507715, -19.522448, -19.508223, -19.49308, -19.517857, -19.523508, -19.494825, -19.510708, -19.48793, -19.476032, -19.520021, -23.592258, -23.594618, -23.556684, -23.555563, -21.181282, -21.1737, -18.93059, -18.908638, -18.907625, -18.914576, -18.928837, -18.93028, -18.908897, -18.912952, -18.921087, -18.913086, -23.579397, -23.57551, -23.62463, -23.627028, -23.585873, -23.585287, -23.58702, -23.58596, -23.59163, -19.910559, -19.911678, -19.911787, -19.913136, -19.917747, -19.910095, -19.914219, -19.915792, -19.91216, -25.637201, -25.648865, -25.631401, -25.638977, -23.53146, -19.9048, -19.902088, -19.907177, -19.904089, -19.904623, -19.893837, -19.900698, -19.909233, -19.907608, -23.202276, -23.087624, -23.208412, -23.72058, -23.72058, -23.716364, -23.72067, -23.721735, -23.716908, -23.1162, -23.116602, -23.1121, -23.115122, -23.116026, -23.117216, -23.113129, -23.115946, -25.075703, -25.07862, -25.083437, -25.082178, -29.16396, -29.161398, -23.012148, -22.992992, -22.98083, -22.997746, -22.996998, -22.995832, -22.996998, -22.995733, -23.012436, -22.994093, -18.92276, -18.907145, -18.914415, -18.898235, -18.921421, -18.91953, -18.923801, -18.922174, -18.91385, -18.924345, -18.934025, -18.898157, -18.912516, -18.90274, -18.92529, -18.907393, -18.907393, -18.914797, -18.9193, -18.90434, -18.919706, -18.921686, -18.885948, -18.899063, -19.945608, -19.806099, -22.682919, -23.52369, -23.524195, -23.551672, -23.556868, -23.557077, -23.557753, -25.45321, -25.449198, -25.451628, -25.446573, -25.448765, -25.446142, -25.449615, -25.445759, -25.449306, -25.448765, -25.452715, -25.449356, -25.447, -25.447, -25.446136, -20.6241, -20.62435, -23.625044, -23.444532, -23.450829, -22.997746, -22.995382, -22.99335, -23.006498, -23.000456, -23.004889, -23.001644, -21.810009, -21.805868, -21.795885, -21.805298, -21.78978, -21.807272, -21.805092, -21.78405, -21.784163, -21.791067, -21.789255, -21.795046, -21.78573, -23.485266, -23.481972, -23.483786, -23.481972, -25.436602, -25.432865, -25.432957, -25.435432, -25.436522, -25.43417, -25.430271, -25.435488, -26.814472, -26.81699, -26.85605, -26.814665, -23.388803, -23.398548, -23.398548, -23.388863, -23.395279, -23.386335, -23.394987, -23.39568, -23.400028, -23.555527, -22.568886, -22.571125, -22.559202, -22.57595, -22.57062, -25.407887, -25.39035, -29.693762, -29.691284, -29.686628, -29.696688, -29.697731, -29.696096, -29.693214, -29.696316, -29.691975, -29.712029, -29.689548, -23.52584, -23.539324, -25.398207, -25.392876, -25.39865, -25.396856, -23.511488, -23.509655, -23.514736, -23.511854, -23.514786, -23.447765, -23.443428, -23.443487, -23.444778, -25.090328, -25.087881, -25.087822, -25.089285, -23.550953, -23.571236, -23.568333, -23.716959, -23.715796, -23.716959, -23.721716, -23.523642, -23.117628, -23.114775, -23.1124, -23.11241, -23.114496, -23.114775, -23.115604, -21.176594, -21.18001, -27.642, -27.6433, -27.64249, -27.638235, -27.630033, -27.635584, -27.64295, -27.641699, -27.621675, -27.62678, -27.631361, -23.534798, -23.648848, -23.642218, -23.651009, -23.651098, -23.646584, -18.568151, -18.565422, -18.574047, -18.583916, -18.58675, -18.573183, -18.582975, -18.589437, -18.5709, -18.569092, -18.583204, -18.577871, -18.55881, -23.586697, -23.590277, -25.448751, -25.446573, -25.454494, -25.445135, -25.449356, -25.444614, -25.445415, -25.44914, -25.453196, -25.453781, -25.451736, -25.442795, -25.40008, -25.396433, -25.398369, -25.393192, -25.399881, -25.401634, -25.398466, -25.393906, -25.403463, -25.40874, -25.405344, -25.410555, -25.393085, -25.40003, -25.393398, -25.386562, -23.567698, -23.570612, -23.570219, -23.571064, -23.567698, -23.642931, -23.640882, -23.644922, -23.640882, -23.643126, -23.640882, -23.641603, -25.480305, -25.484127, -25.48399, -25.493021, -25.488222, -25.489868, -25.495039, -25.495544, -25.486378, -25.49552, -25.490028, -22.391472, -22.394669, -22.39025, -22.38943, -22.397434, -22.392456, -22.39446, -22.389492, -22.388622, -22.385645, -22.3878, -22.845284, -22.830856, -22.844395, -22.857134, -18.91413, -18.93059, -18.914518, -18.913023, -18.917202, -18.938047, -18.939163, -18.910114, -18.919178, -23.684504, -23.684795, -19.487213, -19.482437, -19.478388, -19.507715, -19.488789, -19.51361, -19.501928, -19.488651, -19.485512, -19.488335, -22.773447, -22.759365, -22.77307, -22.770746, -22.758898, -22.777473, -22.777655, -22.768324, -22.7617, -22.764595, -22.773684, -23.010136, -22.993332, -22.995323, -22.99284, -23.00116, -22.990633, -22.99086, -23.006237, -23.550953, -23.554792, -23.687428, -23.68619, -23.686718, -23.11486, -23.11312, -23.11586, -23.11641, -23.115862, -23.114643, -23.112495, -23.116505, -23.116602, -23.640018, -23.639673, -23.684011, -23.627007, -23.645779, -23.635748, -23.643969, -23.64267, -23.639694, -23.634903, -23.612041, -23.613026, -22.780659, -22.781515, -22.78654, -22.776604, -22.785524, -23.48106, -23.48106, -20.23197, -20.233406, -20.230068, -20.222532, -22.333464, -22.32991, -22.329124, -19.96408, -19.967281, -23.540945, -23.54228, -23.537506, -23.547043, -23.551481, -23.541986, -21.555368, -23.547134, -23.526085, -23.528292, -23.524803, -25.433968, -25.436172, -25.433514, -25.430271, -25.431076, -25.432922, -25.433184, -22.904007, -22.90289, -22.90583, -22.90431, -22.904638, -22.903076, -22.906193, -22.903824, -19.624374, -19.61898, -19.625042, -19.619951, -19.62712, -19.60323, -19.622213, -19.600681, -19.62464, -19.593576, -19.580322, -19.602335, -19.622839, -26.880032, -26.87598, -26.878054, -26.863596, -26.881155, -26.875101, -26.879126, -23.476572, -23.47769, -23.476355, -23.476355, -23.480083, -23.47769, -23.478155, -23.47655, -22.782665, -22.772902, -22.767002, -22.767727, -22.775852, -22.767418, -22.76125, -22.758636, -22.757292, -22.775852, -22.790888, -22.781504, -22.772772, -22.759516, -21.790342, -21.78033, -21.792551, -21.80687, -21.784388, -21.772583, -21.789242, -21.80844, -21.789135, -21.801046, -18.88705, -18.903725, -18.910568, -18.895973, -18.913256, -18.909578, -18.90034, -18.899176, -18.893568, -18.914711, -18.891994, -18.918129, -18.92237, -18.919899, -18.912094, -18.918018, -18.918957, -18.920687, -18.92394, -18.903412, -18.916403, -18.918512, -18.895824, -18.898045, -18.905857, -18.89758, -18.917889, -18.90265, -18.911627, -18.91385, -18.919937, -18.930113, -18.903229, -23.001354, -22.991558, -22.99459, -23.008183, -23.005274, -29.193775, -29.194607, -29.189623, -29.199108, -29.199083, -23.537098, -22.884584, -22.892363, -22.886822, -22.887762, -22.898018, -22.888178, -22.889183, -22.897152, -25.433968, -25.430656, -25.434956, -25.435509, -25.430801, -25.430271, -25.435028, -25.434772, -25.435154, -25.435488, -25.435432, -25.434078, -25.435715, -25.435488, -21.179703, -21.182726, -21.18476, -21.182955, -19.902733, -19.888117, -19.891684, -19.894224, -19.893705, -19.90029, -19.888117, -19.898676, -8.286038, -26.875109, -26.880325, -26.888624, -26.87791, -26.871435, -26.873987, -26.869688, -26.876913, -26.878613, -26.860638, -18.88705, -18.90209, -18.909897, -18.913015, -18.919058, -18.921795, -18.922806, -18.89931, -18.90034, -18.915329, -18.913528, -18.89758, -18.895971, -18.91607, -18.893476, -18.907393, -18.92079, -18.907393, -18.900715, -18.905935, -18.923334, -18.891207, -18.915602, -18.921864, -18.913855, -18.917149, -18.930391, -18.919937, -23.642954, -23.632761, -23.632761, -25.541357, -23.636766, -23.632648, -23.635117, -19.63987, -19.62211, -19.640139, -19.63082, -19.622198, -19.631948, -19.629974, -19.62146, -19.632975, -19.632938, -19.63219, -19.628067, -19.628096, -19.637291, -19.643854, -19.618666, -19.637596, -19.614874, -19.625591, -19.636845, -19.634699, -26.244074, -26.242426, -25.453348, -25.44914, -25.445217, -25.447416, -25.45402, -25.444624, -25.448864, -25.444302, -25.449842, -25.451302, -25.449306, -25.446268, -25.449306, -25.452253, -23.1148, -18.916943, -18.921314, -18.912931, -18.917599, -18.895893, -18.90034, -18.925491, -18.926653, -18.907255, -18.91796, -18.9194, -18.911148, -18.927954, -18.922905, -18.907393, -18.902407, -18.91763, -18.923237, -18.929571, -18.912361, -18.902927, -18.907698, -18.927559, -18.907393, -18.916302, -18.929613, -18.917284, -18.9245, -18.917213, -18.91999, -18.911465, -18.920933, -23.651196, -23.562555, -23.561745, -23.562555, -23.559256, -23.566717, -23.555643, -20.310625, -20.307362, -20.310354, -20.306364, -20.301462, -23.560585, -24.945402, -24.955812, -20.621208, -20.619787, -23.635145, -22.380827, -22.364836, -22.366426, -22.368744, -22.374382, -22.373701, -26.863228, -26.927868, -26.948864, -12.902399, -15.530724, -15.54969, -15.539927, -15.551877, -19.86669, -19.866312, -19.875708, -19.870745, -19.86716, -22.89059, -22.889597, -22.889269, -22.895855, -22.888836, -22.895689, -22.890612, -22.894873, -22.893246, -23.442305, -23.439102, -23.441133, -25.457512, -25.45894, -25.449644, -25.459145, -25.449364, -25.458603, -28.054592, -28.025795, -28.032759, -28.023712, -28.06653, -28.02542, -28.054592, -25.506798, -25.499609, -25.50152, -25.505816, -19.841686, -19.844542, -19.84842, -23.718925, -23.718658, -23.71906, -23.710197, -23.719961, -23.714579, -23.711517, -23.716908, -22.83257, -22.837719, -22.837595, -22.833328, -22.835669, -22.838724, -22.838503, -22.83902, -22.837437, -22.833652, -22.838724, -22.838795, -22.83467, -22.83563, -22.842539, -22.834684, -22.840933, -24.296085, -24.290453, -27.434467, -27.443235, -27.449875, -27.45656, -27.446747, -27.432327, -27.468117, -27.445229, -27.439375, -27.42516, -22.886667, -22.885958, -22.876965, -22.881088, -22.492968, -22.475752, -22.892021, -22.889362, -22.889362, -22.893549, -22.895914, -22.893559, -22.894276, -22.89479, -22.895538, -22.889362, -22.894398, -22.894283, -22.892788, -22.894814, -22.885479, -23.589235, -23.592041, -22.979677, -22.97339, -22.979137, -19.693495, -19.686264, -19.75733, -19.753164, -19.685263, -19.69677, -19.76846, -19.743633, -19.693123, -19.755283, -19.761265, -19.688, -29.156334, -29.166954, -29.160902, -29.171408, -22.98893, -22.98414, -22.983938, -22.990858, -23.563292, -23.565594, -19.902374, -19.89565, -19.897367, -19.903816, -23.304052, -23.306475, -23.324013, -27.576002, -27.576464, -27.58303, -27.5766, -27.58065, -27.581345, -23.529884, -23.535233, -23.531384, -23.531555, -23.530924, -23.53459, -23.530716, -23.530527, -23.463488, -23.462461, -23.46349, -23.462425, -23.456726, -25.493914, -22.727327, -22.724916, -22.729862, -22.730312, -28.02731, -28.02984, -28.028585, -24.004522, -24.009068, -24.004345, -24.007786, -24.010181, -22.882765, -22.892614, -23.55854, -23.557924, -23.560549, -23.569103, -23.550266, -23.550266, -23.546259, -21.766628, -21.766699, -21.765377, -21.762417, -21.763895, -21.763096, -21.761059, -21.764664, -21.761953, -21.766232, -21.765377, -22.156328, -22.153862, -22.15919, -26.25356, -26.244474, -26.251291, -26.246262, -26.19996, -26.250675, -26.243649, -22.223944, -22.236755, -23.47846, -23.474125, -23.473236, -23.47846, -23.475704, -23.481915, -23.47846, -22.740278, -22.734617, -28.28463, -28.284195, -28.297323, -28.285421, -28.287617, -28.288826, -28.286385, -28.289707, -23.564686, -23.568327, -23.568413, -23.568855, -23.573566, -23.573818, -27.143532, -27.104301, -23.638247, -23.638348, -23.636696, -23.639103, -23.637249, -23.555328, -23.55434, -23.55483, -23.491198, -23.44963, -23.49391, -23.43452, -23.456573, -23.436356, -23.377697, -23.401989, -23.445213, -23.461058, -23.457472, -23.435514, -23.442804, -23.424677, -23.503464, -23.463648, -23.462175, -23.433872, -23.432705, -23.502708, -23.435925, -23.461926, -23.440788, -23.435863, -23.431955, -21.99784, -21.989565, -22.008154, -22.002277, -22.00057, -22.00103, -23.567877, -23.56906, -23.57077, -23.564358, -23.560566, -23.540192, -23.542662, -23.542685, -23.540731, -23.540388, -23.540844, -23.54268, -23.542236, -23.542662, -22.923727, -22.923258, -22.92494, -22.921764, -22.927074, -22.923119, -22.92394, -22.92637, -23.52695, -23.531689, -23.014713, -23.01469, -23.013468, -27.224558, -23.54131, -25.556623, -25.557558, -29.190084, -29.183502, -29.1826, -29.19577, -20.261063, -20.263166, -20.251263, -20.252914, -20.252892, -20.264706, -20.257204, -20.264347, -20.261559, -20.26395, -20.258783, -20.249352, -20.264706, -20.26247, -20.259125, -20.262634, -24.011602, -24.006653, -24.007578, -24.008207, -24.013348, -24.008026, -24.008787, -23.505243, -23.488455, -23.493286, -23.493206, -23.506218, -23.5095, -23.488455, -23.498903, -23.499672, -25.49969, -25.493015, -20.366392, -20.373928, -20.376162, -20.37333, -20.365976, -20.381924, -20.374454, -20.376162, -20.376162, -20.367388, -20.376162, -20.654415, -26.926258, -26.940153, -26.93873, -22.703678, -22.715551, -22.706038, -22.736946, -22.7104, -22.71284, -22.719894, -22.709398, -22.71202, -22.716763, -22.712013, -22.713255, -22.700191, -22.720697, -22.712004, -22.710419, -22.706842, -30.061443, -30.04251, -30.051273, -30.03722, -30.056828, -30.063633, -30.063072, -23.690464, -23.692816, -23.680155, -23.692816, -22.652536, -27.226912, -23.508945, -23.509407, -23.508892, -23.506807, -22.30095, -22.294321, -22.297913, -22.2885, -22.297316, -22.296223, -23.48353, -23.48292, -21.418995, -21.426233, -26.992018, -23.002228, -23.001745, -22.999657, -23.002228, -23.009197, -23.005327, -23.002274, -23.002148, -23.009197, -23.004778, -22.997223, -23.00604, -23.00037, -19.81453, -19.810066, -22.653944, -23.532154, -23.534515, -23.531021, -23.5317, -23.528852, -28.282526, -28.289877, -28.286976, -28.289345, -28.299688, -28.300108, -28.28419, -28.28564, -28.295012, -28.294333, -23.487831, -23.490412, -23.487831, -22.97901, -22.975544, -22.997786, -21.340275, -21.352303, -21.3402, -21.344238, -21.338428, -25.457453, -25.457485, -25.45798, -23.496069, -23.499416, -25.506979, -25.505447, -30.005203, -29.987509, -30.01669, -29.998003, -23.642092, -23.645384, -23.64525, -25.510998, -25.494858, -25.500944, -25.508669, -29.434843, -25.466442, -25.468773, -25.459982, -25.46687, -25.459667, -25.45564, -25.469273, -25.46687, -23.570574, -23.564358, -23.564358, -23.565191, -23.565191, -23.564533, -23.565884, -23.564358, -22.105507, -22.111769, -22.114435, -22.105461, -23.502054, -23.501215, -23.50053, -23.499416, -23.50176, -23.624928, -23.62638, -23.627705, -23.5276, -27.576063, -27.57281, -27.57281, -27.576996, -23.43506, -23.437778, -22.894361, -21.415, -21.424484, -23.390554, -21.894354, -21.912886, -23.008505, -22.997614, -23.000769, -23.00267, -22.99646, -22.988083, -23.002817, -23.011024, -23.002817, -22.99599, -23.00267, -22.956646, -22.98425, -22.981375, -22.885586, -22.881144, -22.894857, -22.892647, -22.899454, -22.826654, -27.010334, -27.003729, -27.02313, -27.021055, -27.030916, -27.03258, -22.651543, -22.654806, -22.65991, -22.65164, -22.659075, -22.659176, -22.73927, -22.73699, -22.727388, -22.738625, -22.741255, -22.895876, -22.857363, -22.900509, -22.901508, -22.90167, -22.89351, -22.889585, -22.890684, -25.38076, -25.380703, -20.818102, -23.439419, -23.44551, -23.489058, -23.47483, -24.008041, -24.007753, -24.011744, -24.00826, -24.008732, -24.005995, -24.007742, -23.739918, -19.817844, -23.573154, -23.572037, -22.841558, -22.828285, -22.829082, -22.848686, -22.849045, -22.851208, -22.85394, -22.848446, -22.849411, -22.811209, -22.803959, -22.806925, -22.809128, -22.810003, -22.810658, -22.8145, -22.573273, -24.69904, -24.708172, -23.571373, -23.450935, -23.457806, -28.290878, -28.303385, -28.300581, -28.306599, -23.530497, -23.531696, -23.531696, -23.530483, -23.52695, -23.52695, -23.529572, -22.893433, -22.895426, -22.894003, -22.896046, -22.889362, -22.895395, -22.895008, -22.895872, -19.924168, -19.935823, -19.926184, -19.924168, -19.926912, -19.924168, -19.924324, -19.929914, -19.932882, -19.924168, -26.257418, -26.249237, -26.25559, -26.912106, -26.909264, -26.909716, -23.574045, -23.571539, -23.56988, -23.568573, -23.573332, -23.570005, -23.568466, -23.569872, -23.566618, -22.772379, -22.744562, -22.772379, -22.77073, -22.772741, -22.772379, -22.732273, -22.775723, -22.777864, -22.773676, -22.772467, -22.739407, -22.891376, -22.87953, -22.89851, -22.897333, -14.791324, -23.466476, -23.617575, -23.685032, -23.680288, -23.532131, -23.530447, -23.529284, -23.526983, -23.531662, -20.232084, -26.802681, -23.488089, -23.461432, -23.459753, -23.461126, -23.47027, -23.46604, -26.99784, -27.000532, -27.003635, -26.999937, -27.000378, -25.451103, -22.654503, -22.651543, -22.649036, -22.651083, -23.528458, -23.528917, -21.769825, -21.767763, -21.762949, -21.764694, -21.766476, -21.762949, -21.768803, -21.764713, -21.761158, -21.768803, -21.766476, -21.763659, -30.006136, -30.001646, -30.013237, -29.997967, -29.993965, -30.00429, -29.998964, -30.007263, -30.003553, -29.986107, -29.999245, -30.008694, -22.898342, -22.885115, -26.876282, -26.877241, -26.874952, -18.645815, -18.64235, -23.982918, -23.981895, -23.98232, -23.981895, -23.981445, -23.989399, -23.980734, -23.981895, -23.984665, -23.987062, -23.982157, -23.987686, -23.986086, -23.987686, -22.7307, -26.230648, -26.232876, -23.556658, -21.190178, -21.19017, -21.189547, -21.1901, -23.614138, -23.606972, -23.60413, -23.615423, -22.104338, -22.10764, -22.108385, -22.115269, -23.57744, -23.482157, -23.482027, -23.489624, -23.491138, -24.938402, -24.93428, -24.93334, -23.324013, -23.317387, -23.311975, -23.31919, -22.923672, -22.92394, -22.923727, -22.921783, -22.839142, -22.83927, -22.84296, -22.828485, -22.840275, -22.83818, -22.746767, -22.772379, -22.774584, -22.772272, -22.756245, -22.774961, -22.757677, -22.770718, -22.761343, -23.456253, -23.624704, -23.629032, -23.632404, -23.632404, -23.536013, -23.535816, -23.453272, -16.696465, -16.697836, -22.912983, -22.922083, -22.959034, -22.995598, -23.00165, -22.999937, -22.99743, -23.00163, -22.999657, -23.009197, -23.009142, -23.009565, -23.00163, -23.002068, -22.981375, -21.767883, -21.765291, -21.765377, -21.760616, -21.762672, -21.763302, -21.762772, -21.76214, -21.76682, -21.76238, -21.766462, -21.76988, -21.763302, -21.766544, -23.289007, -23.288408, -23.288408, -23.292463, -23.29414, -22.92842, -22.92687, -22.92613, -22.928726, -22.926764, -22.928175, -22.931898, -22.930744, -22.926216, -22.924763, -22.9279, -22.928175, -22.927513, -23.007668, -23.00163, -22.999567, -22.99982, -23.000769, -22.998003, -23.00163, -23.010366, -23.009272, -23.007668, -22.995382, -22.99599, -23.00163, -23.00555, -22.896372, -22.895426, -22.895353, -22.892681, -22.886976, -22.894276, -22.894384, -22.895332, -22.896065, -22.895168, -22.89655, -22.891613, -22.89123, -22.896032, -22.894283, -23.680836, -24.303507, -24.28674, -24.280796, -24.282139, -24.28598, -24.284523, -31.752, -23.568153, -23.568153, -23.568645, -23.568848, -23.54479, -23.55056, -23.548735, -23.546225, -19.86373, -19.860146, -19.867289, -19.838852, -19.865898, -23.545462, -19.833044, -19.83829, -19.832846, -19.840261, -14.525804, -14.531344, -14.357784, -23.423386, -20.40415, -20.412104, -20.404663, -20.411922, -20.40916, -20.408514, -20.41032, -20.407297, -20.405811, -20.39735, -20.403343, -20.393715, -20.417265, -20.410118, -20.40415, -20.401272, -20.407703, -20.413492, -20.409592, -23.595655, -23.597433, -23.598204, -19.986193, -19.976437, -19.986673, -19.984015, -19.890074, -19.983114, -19.981663, -19.986832, -19.985722, -26.888052, -23.589653, -25.36445, -25.365852, -25.371298, -25.378601, -25.367619, -24.96233, -24.964394, -24.973522, -26.893023, -26.891747, -19.979023, -19.975925, -19.98096, -19.981173, -19.975285, -22.37015, -22.36322, -22.363562, -22.360828, -23.601593, -20.277637, -20.27715, -23.102337, -23.111032, -24.969553, -24.967083, -14.522271, -14.527206, -14.526134, -14.525447, -22.88978, -22.929096, -22.945158, -3.7837899, -22.88882, -22.89132, -22.89127, -22.893051, -22.758907, -22.75371, -22.635002, -22.641338, -22.63918, -22.640688, -22.650524, -22.628994, -22.644669, -22.644094, -22.649794, -23.665749, -23.58315, -28.60016, -23.499664, -23.492811, -23.505922, -23.502071, -23.499146, -23.504616, -21.187979, -21.184795, -21.189402, -21.19256, -21.185486, -21.185486, -23.574797, -23.57146, -23.577932, -23.569761, -23.57084, -23.572302, -23.812048, -25.55083, -25.534306, -25.54131, -25.547726, -25.549564, -20.692932, -20.700897, -20.694042, -20.684618, -23.622974, -23.624477, -23.623991, -23.623812, -23.560291, -23.551352, -23.548775, -27.678062, -27.665106, -23.499474, -23.666616, -23.66985, -23.669405, -23.66536, -23.67354, -23.664537, -23.676493, -23.664537, -23.603151, -23.603151, -23.60724, -23.625116, -23.625116, -21.767414, -21.767012, -21.759665, -21.767414, -21.767693, -15.549387, -15.530518, -22.27707, -22.271452, -22.185333, -24.973963, -24.970417, -24.961529, -24.972404, -24.964182, -23.559507, -23.552336, -23.559622, -23.636917, -23.623915, -23.64279, -23.635303, -23.64171, -23.63905, -23.633013, -23.637922, -23.635468, -23.5264, -29.917574, -29.9127, -29.910583, -21.755459, -21.752977, -21.759184, -21.753065, -21.753817, -21.76122, -21.761227, -23.690794, -23.691544, -23.687859, -23.687458, -23.68645, -23.686302, -19.909273, -19.910252, -19.912863, -19.89941, -19.906723, -19.911118, -22.928236, -22.898993, -22.920607, -22.923403, -23.792704, -23.621853, -23.670801, -23.662912, -23.67625, -23.664537, -23.676992, -23.66744, -23.67475, -23.66536, -23.665565, -22.284485, -22.282974, -23.623861, -23.627407, -20.865023, -20.848473, -20.85864, -20.863445, -28.269646, -28.285475, -28.277914, -19.805882, -19.813858, -19.80965, -19.831196, -19.812483, -19.826334, -19.81387, -19.807182, -19.809347, -19.799305, -19.810295, -19.816956, -27.540115, -27.507824, -21.75574, -21.762192, -21.758465, -21.754965, -21.749115, -21.756113, -21.7514, -21.754194, -21.75299, -23.80111, -23.787006, -23.795652, -23.799406, -23.794685, -23.44588, -23.442194, -19.903032, -19.907078, -19.912518, -19.905022, -19.90277, -19.903212, -19.9017, -5.892743, -5.8779, -5.8961906, -25.545216, -25.547209, -25.542917, -25.533941, -25.507872, -25.5483, -25.54639, -25.540625, -25.542744, -25.535913, -19.915133, -19.92043, -19.917162, -19.915833, -19.924633, -19.913248, -19.909695, -19.917576, -19.95572, -19.961123, -19.958025, -19.957327, -21.12734, -21.116707, -21.130041, -19.977213, -19.9787, -19.989315, -19.981407, -19.989624, -19.985815, -19.989252, -19.97863, -19.983276, -23.673717, -23.6703, -23.669281, -23.668798, -23.67587, -23.6689, -23.67857, -23.633015, -23.633081, -23.63305, -23.633043, -20.544859, -20.537361, -22.865623, -22.874233, -23.603771, -23.601141, -23.604174, -23.61141, -23.60071, -23.605759, -23.600786, -23.601185, -23.601778, -20.737047, -20.747557, -20.747633, -20.75567, -20.755287, -20.737467, -20.73577, -23.67372, -23.675873, -22.185333, -23.58848, -23.586779, -23.587317, -23.583532, -23.510593, -23.501093, -23.50654, -23.494976, -23.494967, -23.499573, -23.495344, -23.501093, -23.511488, -23.498022, -22.267092, -22.273531, -23.223078, -23.223387, -23.223003, -23.21471, -23.634325, -23.637665, -23.632462, -23.635864, -23.642363, -23.638596, -23.637854, -23.637115, -27.10291, -21.155546, -21.16284, -21.152718, -22.131256, -23.57738, -23.572365, -23.56699, -23.57175, -23.573925, -23.5661, -23.571787, -23.667418, -23.672348, -23.670908, -23.667217, -23.672796, -23.670528, -23.750166, -19.910868, -19.9066, -22.761196, -22.763935, -22.754354, -23.91879, -23.828117, -23.83311, -23.835983, -23.776648, -23.83735, -23.81138, -23.840494, -23.838184, -23.881416, -23.830215, -23.814928, -23.838821, -23.912338, -22.75976, -22.761824, -22.75707, -21.195667, -21.196129, -23.499443, -22.197392, -22.206978, -20.77856, -20.78554, -20.789503, -23.564133, -23.569775, -23.567574, -23.571661, -23.57315, -23.572422, -23.57925, -30.043291, -30.044075, -23.518028, -23.516499, -23.971064, -23.627369, -23.628775, -23.631609, -23.552963, -23.55323, -23.611897, -15.839263, -15.840374, -15.839263, -15.8376665, -15.839263, -22.357317, -22.370281, -22.372734, -22.37015, -22.371458, -23.665228, -23.674385, -23.667217, -23.674362, -22.884062, -22.884607, -22.880812, -22.880905, -22.881065, -15.606788, -28.195864, -29.910885, -29.92483, -25.367468, -25.365852, -25.371298, -25.371288, -25.365276, -19.907341, -19.90406, -19.911514, -19.910269, -19.90461, -19.898985, -19.900597, -19.90781, -19.909033, -19.90656, -19.90236, -19.900955, -19.908754, -19.90954, -19.901058, -23.572298, -23.571796, -23.572372, -23.57158, -23.570442, -23.598091, -22.01957, -22.363562, -22.36182, -22.370281, -22.367592, -22.363562, -23.593575, -23.58118, -23.594727, -23.584902, -23.596544, -23.553917, -23.558897, -23.553564, -25.348219, -25.368774, -25.36388, -22.742952, -22.744076, -22.749468, -26.893023, -26.89061, -23.242945, -23.253294, -23.25245, -23.598293, -23.545336, -23.606031, -23.609102, -23.605673, -23.065126, -23.519787, -23.540943, -23.548735, -21.756113, -21.75574, -21.757711, -21.759378, -21.754261, -21.760254, -21.7583, -21.75484, -21.758465, -21.74661, -21.753212, -21.756113, -21.760254, -21.752184, -21.758362, -21.754578, -21.759422, -23.627369, -23.62863, -23.628963, -23.62311, -23.629293, -23.573307, -23.565556, -23.552738, -23.564133, -23.570507, -23.570854, -23.58744, -23.588377, -23.585018, -23.587605, -23.585018, -23.603987, -27.672005, -27.681425, -30.044415, -22.90636, -22.90871, -22.909233, -22.77586, -22.774826, -23.477928, -22.382, -16.4928, -16.381277, -16.415838, -16.442686, -16.416061, -16.434881, -16.405323, -16.390884, -16.418734, -16.440546, -16.390884, -16.385252, -16.412807, -16.450832, -16.35139, -16.437563, -23.938993, -25.087715, -25.091818, -25.087444, -25.085958, -25.086693, -25.087528, -18.652632, -18.655794, -18.65265, -18.65286, -8.283054, -8.283661, -23.49104, -23.495052, -23.497198, -23.491726, -23.493233, -23.492266, -23.489508, -23.495852, -23.583544, -23.584265, -23.479212, -23.478445, -15.951843, -26.489862, -26.485477, -26.47843, -26.491434, -26.479368, -26.492847, -26.491236, -26.493818, -23.51827, -23.51406, -23.517351, -23.515648, -23.51632, -23.511444, -23.510971, -23.510107, -23.510971, -23.543392, -23.54355, -23.542213, -23.5439, -23.54365, -23.54355, -20.842125, -19.946667, -19.941523, -19.948057, -19.949392, -23.537617, -20.543348, -20.538725, -20.523844, -20.541727, -20.53932, -20.52261, -20.528572, -20.5307, -20.54723, -20.552708, -23.491411, -23.49167, -23.490997, -20.561058, -20.559233, -20.560663, -20.559261, -20.547255, -20.564829, -20.544489, -20.558605, -20.540762, -20.543789, -20.546913, -20.561422, -23.425488, -23.42467, -23.42185, -23.420773, -23.424774, -23.423859, -23.418955, -23.420752, -23.422869, -23.419863, -20.795454, -20.769615, -20.794823, -23.35154, -23.342236, -23.35733, -21.152235, -21.158497, -23.52743, -23.525908, -23.52704, -23.529755, -23.54976, -23.541029, -25.09292, -25.10126, -25.094233, -25.08708, -25.09425, -25.08812, -25.102291, -25.099545, -25.095863, -25.09115, -25.101328, -25.09321, -25.096434, -25.089006, -20.80879, -20.81031, -20.80911, -20.793901, -20.816177, -20.804571, -20.813223, -20.796381, -20.802437, -23.281298, -23.266731, -23.280003, -23.287329, -23.279137, -23.278526, -23.278656, -21.149055, -21.15599, -21.147066, -21.133488, -21.141253, -22.904194, -22.90557, -20.501278, -20.507631, -20.496307, -20.502539, -20.506521, -20.509335, -20.507906, -20.509562, -20.507145, -20.504557, -20.500732, -20.50346, -20.504698, -20.496805, -20.516953, -23.58375, -23.588245, -23.58577, -23.584885, -23.705345, -23.711859, -23.711283, -23.699728, -23.43669, -22.922813, -22.926893, -22.921085, -22.914793, -22.919167, -23.54, -23.538853, -23.80993, -23.815409, -23.810238, -23.811756, -23.815481, -23.821531, -23.812866, -23.796831, -23.61819, -23.606804, -23.623692, -23.609917, -23.617624, -23.619923, -23.609917, -23.617975, -23.625582, -25.438763, -23.58609, -23.585424, -23.585339, -20.544783, -20.553942, -20.541817, -20.524498, -20.541727, -20.528063, -20.544474, -20.540157, -20.542511, -23.34336, -23.34336, -23.344645, -23.346603, -23.337801, -25.921694, -25.913801, -25.926208, -23.539516, -15.830932, -23.624653, -23.626965, -23.625772, -19.942816, -19.948442, -19.946255, -19.949152, -19.949432, -19.94792, -19.947252, -19.94925, -19.947567, -19.946564, -19.948565, -19.942474, -19.94792, -19.943247, -19.94596, -22.887863, -22.892542, -22.883736, -22.892542, -22.884459, -22.883957, -22.885622, -22.884579, -22.88724, -22.928116, -22.914793, -22.924873, -22.924673, -23.502209, -23.495369, -23.493477, -23.490263, -23.561438, -23.561804, -23.617075, -23.614712, -23.619495, -23.620974, -23.64656, -20.821133, -20.817345, -23.47638, -23.484617, -23.625853, -19.94751, -19.941723, -19.943089, -19.95025, -19.943132, -19.949152, -19.940163, -19.941824, -19.947607, -19.94792, -19.950817, -19.949215, -19.948273, -19.947252, -19.94115, -19.946808, -19.944197, -19.943293, -19.95097, -19.94395, -19.950474, -19.947777, -19.946587, -19.94596, -7.213045, -23.515774, -20.887177, -20.887297, -20.88832, -20.8902, -20.904919, -20.887938, -20.883305, -20.900852, -20.898048, -20.887177, -20.890598, -23.607122, -23.608595, -23.608976, -23.601473, -20.26038, -20.543367, -20.54778, -20.552734, -20.542511, -20.529501, -20.534723, -20.541105, -20.528929, -20.552708, -20.527252, -24.025356, -24.02189, -24.026644, -24.02297, -24.03027, -24.025618, -24.025665, -24.030443, -23.540829, -23.540829, -23.533913, -23.530474, -23.6785, -23.684893, -23.690783, -23.6893, -23.691988, -23.684893, -20.563793, -20.547945, -20.540525, -20.543726, -20.54166, -20.56231, -20.544489, -20.538876, -20.55955, -20.54865, -20.565022, -20.556168, -20.560663, -20.550367, -30.030243, -30.031803, -30.03182, -30.030201, -30.02847, -30.028816, -30.031994, -30.029987, -30.02824, -30.029543, -30.02906, -30.029966, -23.31065, -22.293686, -22.297764, -22.290903, -25.097038, -25.09321, -25.096638, -25.095081, -25.091087, -25.092075, -22.97106, -22.96822, -22.972464, -22.970081, -22.965906, -22.97101, -22.995474, -22.957644, -22.968225, -22.97106, -22.954435, -22.971104, -22.98509, -22.986456, -22.973608, -22.972424, -22.989927, -20.81258, -20.806255, -20.809498, -20.797445, -20.816212, -20.796173, -20.803827, -20.798864, -20.813704, -20.81239, -20.805761, -20.808058, -20.805086, -20.802437, -26.478216, -26.489256, -26.479807, -26.490023, -26.49149, -23.6614, -23.668455, -23.668333, -23.655766, -23.662949, -23.670721, -23.66659, -23.670202, -23.668333, -23.666609, -23.668844, -23.665754, -23.661951, -23.462463, -23.452839, -23.458002, -23.50322, -23.547861, -23.538134, -23.542208, -23.538797, -23.542677, -23.546782, -23.61282, -23.60888, -23.61183, -23.603436, -23.490477, -23.557283, -23.559622, -24.026726, -24.033236, -24.025284, -24.029093, -24.02788, -24.022093, -24.0254, -24.028055, -24.024294, -24.030151, -30.04902, -30.051954, -30.047483, -30.047459, -20.547602, -20.535553, -20.570038, -20.533934, -20.536705, -20.546612, -20.545471, -20.543192, -20.556217, -20.561422, -20.570026, -20.558199, -23.524372, -23.522715, -23.523897, -25.38866, -25.39325, -25.40116, -17.868212, -17.86897, -17.85582, -17.849869, -17.848368, -17.868748, -16.64374, -16.641285, -20.18099, -20.181868, -20.190443, -20.188818, -25.410982, -25.399376, -23.625809, -23.559607, -23.56131, -23.562782, -23.55582, -23.569328, -23.562231, -26.850138, -26.85521, -26.852663, -23.584745, -27.116045, -27.124922, -27.11791, -27.126081, -27.115837, -20.809498, -20.806591, -20.799168, -20.797234, -20.806957, -20.808622, -20.802116, -20.816177, -20.808233, -20.796381, -22.970081, -22.971014, -22.972954, -22.96822, -22.98509, -22.967506, -22.965906, -22.965906, -22.972923, -22.970997, -22.965906, -22.992687, -22.969816, -22.975794, -22.949053, -22.972954, -22.9653, -22.972391, -22.929752, -22.933733, -22.93306, -22.950356, -25.408012, -25.410944, -25.401983, -25.401655, -25.405197, -25.406155, -23.979666, -23.977661, -23.974768, -23.600222, -20.54414, -20.558802, -20.545065, -20.533934, -20.546612, -20.550062, -20.562107, -20.559586, -20.557346, -20.54296, -20.543203, -20.557646, -20.54624, -20.549875, -20.560394, -20.549887, -20.562107, -20.548227, -26.480045, -26.490145, -26.491732, -27.230715, -27.226118, -22.47889, -22.48653, -20.790329, -22.929752, -22.927992, -22.930357, -22.940735, -22.929008, -23.525703, -23.530922, -22.724241, -27.626211, -27.748373, -23.51015, -23.507517, -22.435526, -21.928207, -23.40841, -23.4123, -23.40818, -23.410782, -23.410547, -23.403196, -23.408398, -23.4095, -23.510525, -23.511728, -23.511938, -23.34695, -23.351608, -23.346481, -23.341173, -23.551603, -23.551392, -23.613003, -23.608929, -23.59993, -23.615267, -25.441492, -25.439878, -25.4445, -25.44511, -25.441608, -25.445854, -25.44716, -25.445093, -25.44457, -25.443373, -25.445677, -25.441048, -23.420773, -23.413303, -23.42208, -23.419716, -23.421852, -23.422935, -23.56495, -23.564173, -23.564867, -23.56209, -23.55643, -23.559864, -23.556864, -23.55742, -23.696323, -23.690279, -23.694279, -23.694288, -23.576256, -23.576984, -29.67373, -22.90659, -22.911606, -22.911879, -22.90659, -22.905075, -22.9026, -22.903261, -22.90659, -23.57081, -23.582045, -23.583061, -23.570456, -23.581892, -23.576681, -23.52671, -23.522648, -23.532564, -23.522316, -20.801792, -20.802017, -20.807983, -20.805105, -20.813223, -20.805336, -20.805414, -22.947266, -22.935091, -22.946552, -22.94184, -22.944584, -22.947802, -23.479212, -22.971092, -22.970081, -22.965906, -22.969017, -22.973185, -22.969017, -22.97471, -22.97298, -22.972424, -22.969017, -22.972954, -22.995495, -22.96822, -22.970531, -22.902216, -22.9068, -22.912363, -22.907618, -22.90273, -22.903267, -22.90484, -22.905075, -22.903826, -22.905075, -22.91036, -22.90244, -22.90549, -23.54245, -23.540619, -23.550858, -23.546782, -21.159029, -21.155565, -25.441956, -25.44437, -25.447178, -25.441906, -25.440115, -25.443785, -23.57522, -23.57679, -23.5751, -23.576464, -23.57679, -22.72397, -16.71222, -16.71371, -21.164604, -21.158466, -21.15011, -21.155022, -21.15878, -21.152817, -21.214489, -21.156284, -25.432499, -25.431353, -25.423641, -25.432886, -25.427494, -23.537617, -23.537233, -23.538424, -23.349873, -23.354, -23.348667, -23.353582, -23.350534, -23.34796, -23.557323, -23.55427, -23.585598, -23.585209, -19.542852, -19.554045, -19.54633, -19.547787, -19.53775, -19.543568, -19.538513, -19.545898, -23.55081, -23.54544, -23.546785, -22.358774, -22.35264, -22.353828, -22.358, -22.356367, -23.56254, -23.562214, -23.561157, -23.606804, -23.617624, -23.625582, -23.619135, -23.609917, -23.712757, -23.704058, -23.706532, -23.709642, -27.628159, -27.622242, -27.628159, -19.956617, -19.967407, -19.956617, -19.965078, -19.956493, -28.328413, -28.358004, -23.488111, -23.48982, -23.49443, -23.486397, -23.487478, -23.642656, -23.63742, -23.635807, -23.636713, -23.633224, -23.63751, -23.632963, -23.63608, -22.338694, -22.341486, -22.33442, -22.023859, -22.037262, -12.99882, -12.864826, -12.980068, -12.981712, -23.685642, -23.686089, -23.687267, -20.44716, -20.444155, -20.430725, -20.445173, -20.440596, -20.44507, -21.156433, -21.156815, -21.169342, -21.159883, -21.150778, -22.351055, -25.418083, -25.403883, -25.401634, -25.403969, -25.414507, -24.190096, -24.186918, -22.817562, -22.81123, -28.325287, -28.332262, -28.323677, -28.324133, -23.693409, -23.695246, -23.69112, -23.93641, -23.9354, -23.933048, -20.886461, -20.44297, -23.9479, -23.940739, -23.946608, -23.94118, -24.552874, -24.560211, -24.568266, -24.565329, -24.555765, -24.551504, -24.563354, -24.532558, -24.548954, -23.597548, -23.578106, -23.574938, -20.432898, -20.447308, -20.370455, -20.445581, -20.440245, -20.298113, -23.45604, -23.460543, -23.680752, -23.680622, -23.683235, -23.673752, -23.68492, -23.479952, -23.468185, -23.474108, -22.36644, -22.364977, -22.365585, -22.372717, -22.368744, -22.36536, -22.372389, -22.795218, -29.913738, -29.914639, -29.916353, -29.915258, -29.923105, -29.911348, -21.595182, -21.603588, -21.60086, -21.6051, -21.588839, -21.604206, -21.607454, -21.59734, -21.593666, -21.599909, -21.59156, -21.60093, -30.023289, -30.021324, -30.01399, -30.023085, -30.021797, -22.841305, -22.834452, -22.851833, -21.220142, -21.20673, -21.220247, -23.54744, -23.655214, -19.482716, -19.480295, -19.465675, -19.480772, -19.476074, -19.476236, -19.464931, -19.476181, -19.46515, -19.475168, -19.467913, -19.438683, -19.46488, -19.449429, -19.4653, -19.463345, -19.474405, -29.158213, -29.119864, -29.101566, -23.635395, -23.628355, -23.625053, -23.628561, -23.628092, -23.640406, -23.637985, -23.630877, -23.63378, -23.63626, -23.636106, -23.625748, -22.790869, -22.796375, -22.790869, -22.793644, -23.47504, -23.473763, -23.4724, -23.471733, -23.933048, -23.939894, -23.944742, -23.941675, -23.943428, -23.679968, -23.67815, -23.683205, -23.680622, -23.681555, -23.68337, -23.685177, -23.678806, -23.682407, -22.004047, -22.012941, -22.008759, -22.020298, -22.021418, -22.030241, -22.040363, -23.429262, -23.424599, -23.424616, -23.434122, -23.41854, -29.643423, -23.59786, -23.59786, -22.006964, -22.012632, -22.00916, -22.01563, -23.54337, -23.542599, -23.54337, -23.646315, -23.64041, -23.643736, -23.64777, -18.64305, -18.645006, -18.630604, -23.537996, -23.41854, -23.45552, -23.417957, -22.414104, -22.405588, -22.41656, -22.410652, -23.538774, -23.539698, -23.541895, -23.53855, -23.643024, -23.64021, -23.628128, -23.63423, -23.624344, -23.638006, -23.636106, -23.62719, -19.88628, -19.885893, -19.875343, -23.497189, -23.495832, -23.500847, -22.595236, -30.014482, -30.014929, -30.01701, -30.01252, -30.017448, -30.013165, -30.019821, -30.012657, -30.017694, -29.570686, -29.574072, -29.577631, -23.655308, -23.656569, -23.53395, -8.131392, -22.973309, -22.984549, -22.972971, -23.63037, -23.640816, -23.63468, -23.635103, -23.640257, -23.62727, -23.631233, -23.639, -23.625961, -23.643229, -23.63626, -23.637552, -23.629936, -25.428043, -25.432413, -25.43178, -25.43277, -25.426281, -25.427172, -25.434134, -23.189339, -23.192211, -22.408104, -22.420523, -22.401493, -22.420214, -22.42159, -22.416817, -22.423744, -23.192726, -23.196728, -23.181683, -23.189234, -23.186398, -23.19073, -23.201525, -23.201714, -23.532114, -23.533651, -23.533865, -23.532593, -23.533043, -23.532492, -23.533104, -23.532412, -23.531992, -23.533146, -15.895593, -25.350151, -29.624765, -29.611168, -29.611124, -29.610699, -29.594034, -23.421717, -23.601667, -23.6007, -24.72655, -24.720737, -22.858248, -22.854094, -22.861862, -22.85312, -22.861227, -22.853952, -23.657024, -23.66483, -23.660353, -23.665703, -23.65869, -23.65434, -23.657133, -23.563244, -23.56133, -23.564512, -23.564512, -23.563366, -20.192818, -20.187449, -20.18532, -23.457289, -23.456285, -23.455189, -23.45992, -22.230177, -22.907598, -22.909903, -22.910454, -23.711851, -23.69904, -23.711863, -23.705477, -23.70552, -23.710808, -23.694841, -23.710808, -23.172167, -23.169136, -23.172527, -24.755316, -20.44326, -20.439701, -20.436512, -20.447308, -20.437849, -20.43816, -20.439882, -20.445328, -27.604765, -27.599869, -27.600697, -27.593534, -27.59781, -3.8807197, -3.8787222, -22.875517, -22.879082, -22.880709, -22.887184, -22.688679, -23.726385, -23.721794, -23.725386, -23.727766, -23.726385, -23.721445, -23.72266, -23.72416, -23.721546, -23.729252, -22.818947, -22.822416, -22.815891, -22.823597, -22.824541, -20.430725, -20.447308, -20.446564, -20.437008, -20.444092, -24.75492, -24.756506, -24.759134, -22.351055, -23.456905, -23.456905, -23.458553, -23.942104, -23.934196, -23.93534, -10.867783, -10.879945, -10.882385, -22.734013, -22.732634, -21.598907, -20.823124, -20.821507, -20.816607, -23.726538, -23.816462, -23.782463, -23.82054, -23.776117, -21.9805, -21.980646, -21.97743, -21.966442, -23.469967, -20.283728, -20.277025, -20.2821, -20.291147, -20.266329, -20.28578, -20.286406, -20.29538, -20.262674, -20.268135, -23.422943, -23.433338, -23.427713, -23.425138, -23.432924, -23.428072, -22.975464, -22.848166, -23.582996, -23.56971, -23.579144, -23.565218, -23.56796, -23.581156, -23.40779, -23.40779, -23.406239, -23.501293, -23.505, -23.53967, -23.541426, -23.53951, -23.546883, -26.955988, -26.953577, -25.363974, -22.377289, -22.36979, -22.381826, -22.36956, -22.370901, -21.601381, -21.598623, -21.597864, -21.59137, -21.612114, -21.599724, -21.593666, -21.59699, -21.606897, -21.60575, -21.58049, -21.603176, -23.427288, -23.428566, -23.424414, -18.645592, -18.648735, -23.494036, -22.344791, -22.340227, -22.34219, -22.34307, -22.345942, -22.348782, -22.344559, -23.470167, -23.477003, -23.479284, -23.471937, -23.471598, -23.466818, -20.010294, -23.493067, -23.53951, -23.53855, -23.69919, -23.711851, -23.695055, -23.712498, -23.703497, -23.70786, -23.71402, -23.713154, -23.704279, -23.698336, -23.590956, -23.637817, -23.636442, -23.618114, -23.625748, -23.636461, -23.634972, -23.636597, -23.63626, -23.631233, -23.62342, -23.630877, -23.623766, -23.6307, -23.630556, -23.639284, -23.636597, -22.350677, -22.345041, -22.352926, -22.338617, -22.351185, -22.346123, -19.50296, -19.507215, -19.489744, -19.502335, -19.50712, -19.508158, -23.534662, -23.530941, -23.535723, -24.032509, -24.02958, -24.032785, -24.033777, -24.032785, -24.02997, -23.637745, -23.62988, -23.636665, -23.632217, -23.531666, -23.531666, -22.889217, -24.554981, -24.567122, -24.558764, -24.532558, -24.547956, -24.554768, -24.539812, -24.564653, -24.544142, -26.94436, -24.55704, -24.556562, -24.535666, -24.563217, -24.541674, -24.55077, -24.571316, -23.42961, -23.425438, -23.428806, -23.652605, -23.65604, -23.65309, -23.569456, -23.570618, -17.79672, -17.800648, -17.795237, -17.79461, -17.800285, -17.791191, -15.841451, -23.687744, -23.688969, -26.777403, -26.758171, -26.771423, -23.493769, -23.504488, -23.506813, -23.494234, -20.823034, -20.819696, -20.812622, -23.428335, -23.428389, -23.431679, -23.424187, -23.423216, -23.631233, -23.628561, -23.631372, -23.636597, -23.63717, -23.625748, -23.621302, -19.888552, -19.889936, -19.886896, -19.889982, -19.889204, -19.893616, -23.530941, -23.535723, -23.532915, -21.687296, -21.708048, -21.70684, -21.596428, -21.601263, -21.596613, -21.601156, -21.614546, -21.60748, -21.586468, -21.60355, -21.586735, -21.613943, -20.443718, -20.370455, -20.443314, -20.445927, -20.43822, -23.547483, -23.545403, -23.547375, -23.546333, -12.8959255, -12.895796, -21.741425, -21.735859, -21.728867, -23.197237, -23.207468, -23.198172, -23.201744, -23.048168, -23.053032, -23.041952, -23.054008, -23.041113, -23.05262, -30.070698, -30.062119, -30.069862, -30.07299, -30.063322, -23.620792, -23.622356, -23.621508, -23.620506, -23.621183, -22.932314, -22.93008, -22.93194, -22.93157, -22.933916, -22.929438, -22.932251, -22.931684, -23.462498, -23.483252, -23.466612, -23.466612, -23.462399, -25.532078, -25.55066, -25.547178, -25.558748, -25.54225, -26.323603, -26.320957, -23.206125, -23.203527, -23.199535, -23.20328, -23.204418, -23.198172, -23.200521, -23.50224, -23.505928, -23.505796, -22.92994, -22.927637, -22.928633, -22.933767, -22.908901, -22.938541, -22.92777, -23.932446, -23.932056, -23.943205, -23.932467, -23.933647, -25.4438, -25.446198, -20.52326, -20.536158, -20.527994, -20.531544, -20.523794, -20.52367, -20.528034, -20.534897, -20.521166, -20.535097, -20.526892, -23.56918, -3.7663856, -3.7412086, -23.688387, -23.693369, -20.688538, -20.684568, -16.666178, -23.033735, -23.034029, -23.033543, -23.055668, -23.061134, -23.056303, -26.281548, -22.765663, -27.871836, -27.870209, -27.87018, -27.866941, -27.865215, -20.584589, -20.566624, -20.584597, -20.584097, -20.583649, -20.58151, -20.597929, -20.602077, -20.587004, -20.59073, -20.589037, -20.578995, -20.58664, -26.88857, -26.89049, -23.35458, -23.341354, -23.34347, -23.340334, -23.343002, -22.519049, -22.520302, -22.526497, -9.403311, -9.402285, -23.559694, -23.559908, -23.56008, -23.556957, -22.158686, -22.152447, -22.15469, -22.152447, -22.162354, -22.16923, -22.163424, -22.160856, -29.686403, -29.667864, -29.666721, -29.67115, -29.676477, -29.674017, -29.659939, -26.909336, -22.748713, -22.752672, -22.758944, -22.75291, -19.458889, -19.462889, -19.464529, -19.456697, -19.466347, -19.464603, -19.440327, -19.461365, -19.471336, -19.475315, -19.461246, -19.454573, -19.460794, -19.436716, -19.45444, -19.46006, -19.444641, -19.477365, -19.46132, -19.454615, -19.46076, -19.427877, -23.194017, -23.187878, -23.187376, -23.187647, -23.194122, -23.194084, -23.183975, -16.693926, -16.693726, -16.693726, -23.53778, -23.534601, -23.537245, -23.542164, -21.11807, -21.11441, -21.114185, -21.113268, -21.116209, -21.118721, -21.116411, -21.11663, -21.118889, -24.083593, -24.07813, -24.085217, -24.08262, -21.208149, -21.205397, -21.204622, -21.945486, -20.353025, -20.340815, -20.331066, -20.340815, -20.334517, -20.34317, -20.348143, -20.33061, -20.353827, -20.35146, -20.330917, -20.349712, -20.356062, -20.331358, -20.356066, -20.33159, -20.338346, -20.35561, -20.331688, -20.340815, -20.33143, -20.331242, -20.345474, -20.350311, -20.331358, -20.349674, -20.353832, -20.331852, -20.348627, -29.155209, -23.022888, -23.028648, -25.454473, -25.438786, -25.438715, -25.454473, -25.444004, -25.442265, -25.449686, -25.44963, -22.605268, -22.629295, -22.632074, -22.627884, -22.62467, -22.59765, -22.610569, -22.55188, -22.61899, -22.60428, -23.624086, -23.629837, -23.028065, -23.027462, -23.02579, -23.020592, -25.548086, -25.533552, -22.439362, -22.43845, -22.438148, -28.491907, -28.459356, -28.462317, -28.472397, -22.98551, -22.98111, -22.978031, -22.980543, -22.98281, -22.977818, -22.975626, -22.984587, -22.983583, -22.975729, -22.982725, -22.976648, -22.978031, -22.98281, -22.983585, -22.97662, -22.983484, -21.734447, -21.73006, -12.885897, -12.895113, -20.834587, -20.83588, -23.39582, -23.394775, -23.39589, -23.400797, -23.399607, -23.531942, -23.529726, -23.52727, -23.531813, -23.532162, -25.381706, -25.383959, -12.990725, -12.985219, -12.991151, -12.988801, -12.991726, -12.990973, -23.52784, -23.532526, -23.52784, -23.530457, -23.70738, -23.70252, -23.707256, -23.707405, -23.699179, -23.702272, -23.700783, -23.705013, -23.707348, -11.304858, -11.304735, -11.29785, -11.300164, -11.305312, -11.298869, -11.305836, -11.30181, -18.536163, -18.493486, -18.504522, -18.510702, -18.500368, -18.50715, -18.486917, -25.46291, -25.458864, -25.462841, -21.113344, -21.093237, -21.113785, -21.09915, -21.13269, -21.120296, -21.119917, -21.119946, -21.13216, -21.112104, -21.12243, -21.120928, -21.110474, -21.115889, -21.132048, -21.113571, -21.120419, -21.118193, -21.112919, -21.123098, -21.121048, -21.126192, -21.115192, -23.286694, -23.28888, -23.279379, -23.282047, -23.558212, -22.891706, -22.891056, -22.891056, -22.889673, -23.626177, -23.491896, -23.491896, -23.494225, -23.491896, -23.500921, -23.491896, -23.501274, -23.567543, -23.568722, -3.7858474, -22.772526, -22.77211, -23.214407, -23.213669, -23.215494, -23.22112, -23.221205, -23.216, -23.22197, -23.213167, -23.211815, -23.21825, -23.227005, -23.217346, -22.985199, -22.990929, -22.983929, -23.109512, -23.110859, -23.107523, -23.115639, -23.10209, -23.088804, -23.110598, -23.094458, -23.087696, -23.086502, -25.43005, -21.745321, -21.734447, -21.729643, -23.542494, -23.542187, -23.54281, -23.542107, -23.62348, -23.623974, -23.627163, -23.629875, -23.626509, -23.624678, -23.627855, -23.624697, -21.11168, -21.12247, -21.126417, -21.112577, -21.108643, -21.115181, -21.11913, -21.088238, -21.11503, -21.119062, -21.134226, -21.125744, -23.673412, -23.514269, -23.512606, -23.51511, -23.500093, -22.883411, -22.889349, -22.886597, -23.523996, -23.526695, -29.677467, -29.68808, -29.677027, -29.672085, -29.697632, -29.67599, -29.678032, -29.695663, -29.655663, -23.561872, -23.553888, -23.540028, -23.53982, -23.308004, -23.30406, -23.29297, -23.30284, -23.30598, -23.55696, -23.555006, -23.552568, -8.067351, -8.063535, -23.470522, -23.533144, -23.528786, -23.527758, -23.52666, -23.523981, -23.527214, -23.526974, -23.527758, -23.52666, -23.533674, -23.526047, -23.531801, -23.525724, -23.530706, -22.419064, -22.410053, -22.418709, -22.414505, -22.419144, -23.633066, -23.634315, -23.569782, -23.567112, -23.566021, -23.570194, -22.83784, -8.042762, -8.046512, -23.560722, -23.536106, -23.535614, -21.123644, -21.123377, -21.12686, -20.830374, -23.513292, -23.511942, -23.51317, -23.509085, -23.624908, -23.617605, -23.619919, -23.629194, -23.622736, -23.61141, -23.62197, -23.618544, -20.52718, -20.529707, -20.532759, -20.53233, -20.537134, -20.534073, -20.536186, -23.522394, -23.530828, -23.527218, -23.646189, -23.646116, -22.154804, -22.153444, -22.440168, -22.436653, -22.440102, -22.429945, -22.43757, -27.40559, -27.396633, -27.394691, -27.407558, -27.39796, -27.40131, -27.399906, -22.595587, -22.601948, -22.589113, -22.569208, -23.707651, -23.706186, -23.707682, -23.71025, -23.711744, -23.706667, -23.532784, -23.524496, -23.538744, -23.52662, -23.535711, -23.621298, -23.620916, -20.536554, -20.526686, -20.530973, -20.530455, -20.528614, -20.52532, -20.533085, -20.521708, -20.528326, -19.463062, -19.450308, -19.469915, -19.44246, -19.454834, -19.456846, -19.47138, -19.471169, -19.44953, -19.431349, -19.456156, -19.459097, -19.447117, -19.437601, -19.477365, -19.458956, -23.489157, -19.478134, -19.454306, -19.464487, -19.46179, -19.451466, -19.4598, -19.456846, -19.473661, -19.464495, -19.447117, -19.454573, -19.446777, -19.44079, -19.480825, -19.457918, -19.470762, -19.478777, -19.455727, -19.46418, -19.46868, -19.468548, -19.44525, -19.476187, -19.450468, -19.461739, -19.460913, -19.456682, -19.464556, -23.546768, -23.54338, -23.546686, -22.753859, -22.75789, -22.753517, -26.919079, -23.542065, -16.702627, -16.699856, -16.699837, -16.691584, -16.691286, -16.695248, -16.697836, -22.667261, -22.653425, -22.668419, -20.000275, -20.533226, -20.524662, -20.527073, -20.530111, -20.530554, -20.522902, -20.523037, -20.524733, -20.528502, -20.524662, -20.310707, -20.3256, -20.320055, -20.3156, -20.32312, -20.312037, -20.325977, -20.320055, -20.31828, -20.534042, -20.537134, -20.533726, -20.524096, -20.532759, -20.525846, -20.52709, -25.443388, -25.453894, -25.435448, -25.443388, -20.680151, -23.71103, -23.71103, -23.712685, -23.711329, -23.71103, -23.7091, -23.71103, -25.432877, -25.434946, -25.435846, -25.446133, -26.89211, -23.490278, -23.488987, -27.864439, -27.869574, -27.872879, -27.869062, -27.866638, -27.86867, -27.865051, -23.054947, -23.048033, -23.053078, -23.049887, -23.05554, -23.053473, -23.053425, -23.052782, -23.477861, -23.481598, -23.62451, -23.625776, -23.624224, -23.62238, -22.812878, -22.812527, -26.610243, -23.588484, -23.588562, -23.592674, -23.501968, -23.035017, -23.056429, -23.049782, -23.045073, -23.057611, -23.053078, -23.044014, -23.064081, -23.056429, -23.05865, -22.528675, -22.519049, -22.52381, -22.524004, -29.152931, -29.157314, -29.159266, -23.717903, -23.71103, -23.71104, -23.71103, -29.101845, -29.109116, -29.11737, -29.098003, -29.117096, -23.525515, -23.526886, -23.532362, -23.692131, -23.682085, -23.685066, -23.681746, -23.682596, -23.68923, -23.46611, -23.476519, -23.47975, -23.419025, -23.425558, -22.658623, -22.606916, -22.645678, -22.65441, -23.617388, -23.618296, -23.612295, -23.612295, -23.617958, -23.613997, -23.61293, -23.612295, -23.306297, -23.298334, -23.309025, -23.30199, -23.200085, -23.208448, -23.207333, -23.208796, -23.20066, -23.201906, -23.20077, -29.110256, -22.916235, -22.914476, -22.911621, -22.906984, -22.908457, -22.908915, -23.620792, -23.620554, -23.620506, -26.909948, -23.707348, -23.707348, -23.707325, -23.707376, -23.705013, -23.707489, -23.699856, -23.704515, -23.701359, -23.707348, -22.15396, -22.14757, -22.154139, -22.16437, -22.168077, -23.307718, -23.420824, -23.419025, -23.425566, -21.195705, -21.19613, -21.1898, -21.19718, -21.193945, -21.189396, -21.195614, -21.189823, -21.189316, -21.189396, -21.200642, -23.624285, -23.627953, -23.629875, -23.62439, -23.624678, -22.894562, -22.891745, -22.886227, -22.891516, -22.894934, -22.896729, -22.8955, -22.715467, -22.710772, -22.731089, -22.721413, -26.642626, -22.409334, -22.384611, -22.386127, -22.411442, -22.384611, -22.414762, -22.398146, -22.393559, -23.563883, -23.563883, -23.563883, -28.361694, -23.539686, -23.539686, -21.862022, -21.87676, -21.887714, -21.884947, -21.879702, -21.86752, -21.87074, -21.86301, -21.14663, -23.54241, -23.556738, -23.547388, -23.721561, -23.73514, -23.628866, -23.628265, -23.629345, -21.149136, -22.321772, -22.320322, -22.322355, -22.327116, -23.23764, -23.237387, -23.23966, -23.25695, -23.246948, -23.250008, -23.578684, -30.005762, -30.002682, -30.001019, -30.002739, -17.29172, -23.630919, -23.654442, -23.660542, -23.502085, -23.501026, -23.47486, -21.196371, -21.200933, -21.207088, -23.65176, -23.650824, -23.340029, -20.768751, -20.850378, -20.837296, -20.844568, -20.846313, -20.831701, -22.5556, -22.579882, -22.576683, -22.57524, -22.569126, -22.571093, -22.5831, -22.55804, -22.55133, -23.597385, -23.57707, -26.409979, -26.405418, -26.37095, -29.684252, -29.67968, -29.685894, -26.265778, -26.27467, -20.766481, -20.770632, -25.468573, -25.473486, -25.473347, -25.470345, -25.470587, -25.47215, -25.472982, -25.474455, -25.473347, -20.35393, -20.362165, -20.296736, -25.22331, -25.226858, -26.72548, -26.739206, -26.733662, -26.752327, -26.72631, -26.763062, -26.736032, -26.749931, -26.725298, -26.722525, -26.737864, -22.88189, -22.88161, -22.555925, -22.556606, -23.672003, -23.676064, -23.671177, -23.672003, -23.681818, -23.674107, -23.674778, -23.683783, -21.731148, -21.734674, -21.731058, -21.738667, -21.734945, -21.727047, -21.737267, -27.601925, -27.608828, -27.600807, -19.87562, -19.88148, -19.877962, -22.099617, -22.094059, -22.098795, -22.100578, -22.101608, -16.665024, -27.293, -27.300133, -27.300953, -23.507862, -23.511229, -22.885126, -22.88675, -22.882853, -22.885628, -26.887333, -26.901022, -26.877499, -26.899164, -26.879156, -26.897625, -26.891916, -26.88929, -26.891478, -23.518602, -23.52566, -23.518702, -20.841978, -20.827118, -20.836807, -20.831106, -20.833864, -20.832651, -20.83973, -20.849043, -23.491318, -25.476261, -25.474604, -25.478666, -25.47482, -25.47933, -23.532913, -23.539082, -23.532972, -23.531698, -23.546467, -23.540483, -23.551846, -22.55883, -22.558746, -22.560158, -22.562616, -22.559933, -22.559422, -25.521933, -25.551613, -25.551613, -25.545267, -23.475376, -27.10232, -27.101128, -27.10232, -27.095963, -27.091707, -27.10232, -27.099031, -27.099031, -27.101328, -23.518875, -23.483677, -23.669939, -23.6188, -23.623463, -23.614275, -23.62483, -23.615942, -22.748066, -22.749388, -22.75328, -22.745052, -22.746063, -26.271992, -26.277916, -26.263685, -23.652472, -23.635014, -23.626413, -23.65617, -23.65641, -23.65257, -23.628672, -23.564337, -26.736237, -26.727707, -26.740557, -26.73376, -26.726843, -26.733522, -26.749931, -26.727362, -26.716167, -26.741747, -26.763523, -26.763062, -26.73628, -23.208498, -23.21074, -23.209318, -21.169506, -21.170542, -21.170256, -22.829937, -22.834318, -22.829193, -19.526304, -19.520458, -29.205906, -23.525633, -23.529888, -23.529297, -23.52313, -23.529888, -20.839258, -20.834568, -20.834969, -20.833666, -20.838234, -20.836216, -20.849043, -20.850378, -20.833944, -27.591982, -27.600664, -27.599802, -23.452597, -23.442268, -23.448801, -23.46386, -23.45994, -23.464537, -21.257656, -21.263891, -21.257137, -21.252327, -21.254755, -21.253239, -22.90295, -22.89921, -22.896946, -22.899307, -22.901175, -26.302908, -26.300909, -26.299835, -26.299717, -26.303064, -26.301424, -26.301178, -19.931166, -19.921864, -19.933304, -19.926157, -19.933405, -19.927427, -19.928467, -19.92641, -19.927725, -19.91894, -23.645092, -23.641392, -23.644491, -23.644491, -23.643208, -23.641392, -23.641314, -23.644491, -21.318184, -21.318184, -21.318167, -21.318184, -21.31681, -21.311556, -23.692959, -23.523405, -23.521643, -23.520018, -23.529158, -19.868372, -19.88265, -19.873596, -19.874842, -19.878548, -23.477053, -25.508175, -25.511797, -25.506514, -25.510916, -25.509388, -25.479834, -25.479603, -25.47031, -25.474846, -23.692495, -23.688843, -23.689308, -23.689034, -23.693, -23.689034, -23.53134, -23.534824, -23.534428, -23.53275, -23.536694, -23.5346, -23.54042, -22.41436, -22.400175, -22.40515, -22.409618, -22.399313, -22.413004, -22.395977, -22.41249, -22.396807, -22.42033, -22.414341, -22.402134, -25.433025, -25.435308, -25.431995, -25.430128, -25.43276, -25.431877, -25.432354, -25.430723, -25.4334, -25.439688, -25.433084, -25.430128, -28.681803, -28.684147, -23.558338, -23.649525, -23.652502, -22.410494, -22.393559, -22.384611, -22.448923, -22.424185, -22.894892, -22.893038, -22.894934, -22.891836, -22.895761, -22.4059, -22.404734, -22.408854, -22.410604, -22.410942, -22.412678, -22.412098, -21.126362, -21.125378, -31.328564, -31.32879, -31.327667, -31.331799, -31.3179, -31.319283, -31.32304, -22.53576, -22.541788, -22.542126, -22.537844, -22.541788, -22.534115, -23.50214, -23.502125, -23.502106, -22.555185, -22.57353, -22.574205, -22.579536, -22.557695, -22.571444, -22.581917, -22.558176, -22.578619, -22.578684, -21.197994, -21.19701, -21.198923, -21.199682, -21.202114, -23.65336, -23.65158, -21.956322, -21.961323, -23.704231, -23.708008, -21.170414, -21.167955, -21.169428, -21.170542, -21.163889, -21.162945, -21.157293, -21.171585, -21.158478, -21.16009, -21.167004, -21.178017, -21.165014, -23.223589, -23.219717, -23.22277, -23.210302, -20.321507, -22.900234, -22.90227, -22.899117, -22.901236, -22.901966, -22.90153, -22.9004, -22.899782, -23.551516, -19.928234, -19.919174, -19.926329, -19.918661, -19.930975, -19.929665, -19.9192, -19.925772, -19.924852, -19.933254, -19.920055, -19.926428, -19.929182, -19.920452, -19.929892, -19.929892, -25.540775, -25.546747, -25.5427, -25.542858, -21.13353, -21.142796, -21.1313, -21.142368, -21.14663, -21.139841, -21.540415, -21.535343, -21.656042, -21.531288, -21.53283, -21.532427, -21.5353, -21.546785, -21.52985, -21.53629, -23.57346, -23.568663, -24.926632, -24.932306, -15.786329, -15.789941, -15.789786, -23.342535, -23.342392, -23.34041, -23.496218, -23.499039, -23.49598, -23.497635, -23.497673, -23.67566, -23.678373, -23.538895, -20.816664, -29.681643, -29.681204, -23.766392, -23.7593, -20.817764, -20.821741, -23.545916, -23.548393, -22.581934, -22.582014, -22.57727, -22.561935, -22.578901, -22.569126, -22.57463, -22.557695, -22.589916, -22.57607, -22.56906, -21.73048, -21.72898, -21.731583, -21.72781, -21.728981, -26.890652, -26.885826, -26.878267, -26.888132, -26.90169, -26.886908, -21.485044, -21.465132, -21.492386, -27.283518, -27.286098, -27.293503, -27.299372, -21.16128, -21.200815, -21.201647, -23.475376, -23.474085, -23.490952, -23.502274, -23.491453, -23.490269, -23.494873, -23.595175, -23.641806, -23.636671, -23.639238, -23.637323, -12.255314, -12.254299, -12.259041, -12.259041, -27.603176, -27.600502, -23.484222, -23.484783, -25.541843, -25.539139, -25.542828, -25.535858, -25.54254, -25.535315, -23.50252, -21.133493, -21.131552, -21.148064, -22.681452, -22.668877, -22.67088, -22.663647, -22.67751, -29.690527, -19.596395, -19.610535, -19.597347, -19.593, -19.592945, -19.58838, -19.588867, -19.601755, -19.61812, -19.61917, -19.593342, -27.057344, -27.095768, -27.134392, -27.139902, -27.126804, -27.102098, -27.102098, -27.102098, -27.102098, -27.08193, -27.119959, -27.09161, -27.084677, -27.095526, -27.102098, -22.864697, -22.864527, -22.866962, -22.862387, -22.866152, -23.304108, -23.304808, -23.298811, -21.207296, -21.207481, -21.20043, -21.959858, -21.959965, -21.969921, -21.961527, -22.908228, -22.911238, -22.908796, -22.91069, -21.171478, -21.15552, -21.164352, -19.879154, -19.886374, -19.881031, -19.877449, -19.877544, -19.881706, -19.877737, -19.876534, -19.871344, -19.879423, -19.883074, -20.666574, -22.893173, -22.896502, -22.893173, -22.892982, -22.892525, -22.899294, -22.896683, -15.763666, -23.482906, -23.484116, -23.482738, -23.484755, -23.735737, -23.698923, -23.722836, -23.735056, -23.728708, -23.744972, -23.726585, -23.731916, -23.729832, -23.723763, -23.56881, -23.567448, -23.564379, -23.568642, -23.673561, -23.687506, -23.687002, -23.674265, -23.663908, -23.562357, -23.56642, -19.937319, -19.937374, -19.943481, -19.935513, -19.929, -19.934315, -19.93105, -19.932592, -19.937609, -19.928524, -19.948626, -19.931105, -19.940327, -19.934853, -19.932512, -19.942234, -19.93611, -19.93403, -19.942526, -19.942526, -19.873486, -23.019802, -23.012188, -23.005785, -23.020481, -23.020718, -23.012892, -23.00175, -23.015862, -23.006, -23.01374, -23.010374, -23.003096, -23.010374, -27.470734, -23.17805, -23.182117, -16.736383, -16.731016, -23.63918, -23.65162, -23.631691, -23.627771, -23.637466, -23.637486, -23.647038, -23.642685, -23.647951, -23.65252, -23.65223, -23.614582, -23.624111, -23.614582, -23.615776, -23.614582, -23.616058, -23.616753, -23.627544, -23.616468, -23.62035, -23.627214, -23.6309, -22.334993, -22.34595, -22.341019, -22.333897, -22.3283, -22.346254, -23.220982, -23.21762, -25.446161, -25.450323, -25.445818, -22.804688, -22.80518, -22.80478, -22.806852, -22.80461, -22.804533, -22.805475, -22.804296, -9.94984, -9.969921, -9.951, -23.686924, -23.68212, -23.648504, -23.648151, -23.647898, -23.647024, -23.64752, -23.646687, -23.64656, -30.10664, -30.108232, -30.108608, -30.097502, -30.103632, -30.097498, -30.108477, -23.026217, -23.029045, -23.024683, -23.617943, -23.619328, -23.623747, -23.615187, -23.635204, -23.619864, -23.6194, -23.688229, -23.021347, -23.014746, -23.017853, -23.022017, -23.014051, -23.02014, -23.013195, -23.01608, -22.9933, -23.013865, -23.019676, -23.02256, -23.019993, -23.020721, -23.013865, -23.00594, -23.013865, -23.00594, -23.509684, -23.318106, -23.497526, -23.500418, -23.50348, -23.498716, -23.49706, -23.464031, -23.464294, -23.403679, -25.327036, -22.125479, -22.121681, -23.123043, -23.122175, -23.122278, -23.12084, -19.91938, -19.91948, -19.920084, -19.918509, -19.919294, -23.006723, -23.019676, -23.023232, -23.013887, -23.013437, -23.010923, -23.013329, -23.013268, -23.020527, -23.02072, -23.010883, -23.01606, -23.019802, -23.01577, -22.9933, -23.013865, -23.007473, -23.009535, -23.016539, -22.182297, -22.16733, -22.173273, -22.17121, -22.182886, -22.181086, -22.17317, -23.48589, -23.487108, -19.91938, -19.916094, -19.916328, -25.49973, -25.493977, -25.50053, -25.501448, -23.545334, -23.545742, -16.4936, -16.489117, -16.48308, -16.480062, -23.963713, -23.96032, -23.956413, -23.954851, -23.957424, -23.956629, -23.94792, -23.959524, -23.949942, -23.957443, -23.95982, -23.686224, -22.579195, -22.571281, -22.581476, -22.575796, -22.573755, -22.580359, -22.578554, -23.616423, -23.633852, -23.621008, -23.620743, -23.622717, -23.618206, -23.596605, -23.583693, -23.590649, -23.581013, -23.495785, -23.495785, -23.725426, -23.721285, -23.732397, -23.729052, -23.722355, -29.332352, -29.328823, -29.338379, -29.333178, -29.339083, -29.305565, -29.332092, -29.324112, -29.340107, -29.3379, -29.433668, -29.338282, -11.835954, -11.831279, -11.8393755, -11.841532, -23.026255, -23.02117, -23.02112, -23.02655, -23.02549, -23.022528, -23.671604, -23.703388, -23.681816, -23.671158, -23.675009, -23.680151, -23.680368, -23.659845, -23.657347, -23.630184, -23.62496, -23.63696, -23.630846, -23.62336, -23.670357, -23.674969, -23.678545, -23.67795, -23.674751, -23.699663, -23.674732, -19.938026, -19.931467, -19.935051, -19.925035, -19.928885, -19.936058, -19.936628, -19.930765, -19.930801, -19.929031, -19.926208, -19.92932, -19.925869, -19.926687, -19.932898, -19.931313, -19.933538, -19.935574, -19.929031, -19.925898, -19.93491, -19.934687, -19.927511, -19.927427, -19.927149, -19.937138, -19.923706, -19.928072, -19.931646, -23.617521, -23.621742, -23.622166, -23.635204, -23.623806, -23.614582, -23.616753, -23.617403, -23.618994, -23.628836, -23.532928, -22.99949, -23.0005, -23.004581, -23.004581, -23.000275, -23.00658, -22.999968, -23.0005, -20.748259, -20.672188, -20.672106, -23.693392, -23.686403, -23.688917, -23.686434, -23.688976, -23.683035, -23.688845, -23.691742, -23.68224, -23.685577, -23.685577, -23.685577, -23.686434, -23.29998, -22.801622, -22.796728, -22.805525, -22.806381, -22.80479, -22.800083, -19.936913, -19.94394, -25.441605, -25.44636, -25.457329, -25.455837, -25.44385, -27.545956, -27.551561, -27.589321, -27.594599, -27.592125, -27.590385, -27.587011, -23.645304, -23.657415, -25.44145, -25.452103, -25.453127, -25.440155, -25.445591, -19.949963, -19.932512, -19.944147, -19.940327, -19.937319, -19.946861, -19.931198, -19.943256, -19.93611, -19.936949, -19.932817, -19.937374, -19.947548, -22.806702, -22.806438, -22.813934, -22.811367, -22.807634, -22.958014, -22.81826, -22.814922, -22.812052, -22.839724, -22.854994, -22.853497, -22.854616, -22.857601, -22.852758, -23.01612, -23.02072, -22.9933, -23.006, -23.022642, -23.013866, -23.018589, -23.008991, -23.008991, -23.012962, -23.019993, -23.013865, -23.020716, -23.006, -23.008991, -23.003096, -23.017735, -23.030012, -23.02211, -23.013103, -23.023195, -27.102392, -27.09271, -27.10345, -27.105095, -27.09103, -23.478697, -23.223675, -23.212572, -23.48467, -23.488586, -23.487324, -23.48543, -23.488993, -23.490269, -23.492529, -23.480219, -23.490486, -23.489864, -22.388119, -16.717026, -16.708101, -16.719482, -16.71721, -16.717426, -16.719315, -16.715746, -23.000147, -23.008091, -23.001806, -22.203308, -22.195492, -22.194485, -23.552053, -23.55998, -23.560064, -23.55998, -23.544569, -23.560064, -23.560064, -23.559711, -23.559711, -21.147661, -21.166609, -21.15425, -21.147923, -23.516544, -23.517998, -23.185005, -23.185926, -23.150991, -23.185017, -23.189732, -23.179594, -23.150848, -23.630987, -23.952604, -23.959772, -23.962498, -23.950327, -23.955347, -23.954092, -23.960266, -23.958168, -23.954082, -23.957436, -23.950676, -23.94792, -26.08103, -26.080702, -26.09922, -26.067688, -26.080753, -26.070002, -26.07528, -26.100216, -26.079578, -26.081306, -29.375992, -29.362562, -29.377153, -29.364887, -26.082033, -26.089441, -26.083168, -26.09283, -26.08195, -26.080217, -26.088036, -26.06808, -26.077805, -29.678167, -29.677898, -15.86022, -15.861897, -22.071173, -23.580847, -19.938065, -19.941067, -19.942057, -19.935358, -19.93165, -19.938646, -19.935215, -19.940407, -26.940788, -23.324501, -23.34993, -16.689177, -16.694828, -28.830803, -28.829082, -28.830412, -28.829643, -28.81843, -28.831055, -22.751644, -22.758875, -22.753054, -22.753544, -25.445951, -25.442774, -23.474161, -20.775066, -3.765414, -23.006166, -23.005266, -22.99999, -22.996689, -23.000061, -22.999548, -22.999632, -23.004581, -23.004581, -22.99979, -22.996689, -22.999548, -23.004581, -23.206375, -23.193886, -23.202723, -23.202282, -23.206606, -23.206606, -23.195642, -23.208584, -29.763212, -29.773859, -29.769123, -22.33844, -22.328634, -22.333273, -22.328783, -22.340742, -22.34454, -23.609299, -22.075459, -22.080793, -22.071747, -22.083763, -22.084368, -23.017258, -23.009415, -23.013597, -23.009499, -23.020716, -23.013577, -23.009693, -23.020716, -23.020716, -23.009693, -23.016733, -23.000479, -23.009535, -23.01586, -23.023195, -23.01079, -19.755527, -19.759129, -19.768665, -19.760105, -25.485888, -25.492674, -25.488947, -25.489542, -22.811386, -22.81335, -22.81335, -22.813566, -22.804468, -22.807886, -22.805803, -22.809063, -27.561714, -27.557106, -27.55106, -27.558372, -23.484898, -23.485697, -23.489187, -23.48543, -23.488993, -23.488993, -23.485472, -25.443245, -25.443182, -25.450861, -25.452103, -25.447113, -25.440142, -29.928099, -29.88387, -23.587597, -23.585783, -23.587051, -23.708303, -23.699198, -23.71654, -23.699839, -23.697607, -23.680115, -23.670301, -23.664846, -23.668972, -23.672329, -23.643055, -23.644003, -23.649881, -23.629906, -23.642685, -23.63248, -23.63918, -23.650368, -23.649881, -23.64589, -23.65252, -23.63192, -23.642881, -23.643673, -23.643055, -23.70399, -23.701958, -23.621805, -23.619665, -23.449774, -23.444899, -23.44635, -23.444899, -23.441965, -23.659845, -20.334227, -20.335875, -20.336033, -19.919437, -19.840183, -23.557682, -23.559639, -23.55922, -19.759155, -27.122322, -27.120693, -27.118984, -27.11596, -23.189732, -23.172556, -23.180984, -23.185926, -23.183558, -23.145563, -23.191065, -23.144783, -23.189732, -23.185017, -22.907736, -22.910488, -22.908905, -22.911816, -22.908905, -22.911028, -22.908583, -22.911997, -22.911028, -23.581547, -23.583084, -23.581106, -23.581295, -27.59033, -27.588884, -27.591366, -27.581013, -22.986744, -22.98516, -22.985683, -22.986162, -22.986464, -22.984072, -22.984978, -20.691864, -23.54953, -26.919445, -26.916616, -26.924, -26.916616, -26.920664, -26.908836, -26.911182, -22.940609, -22.828314, -22.823414, -22.833649, -22.837788, -22.837397, -22.831217, -26.990864, -27.002836, -27.013527, -27.010527, -27.011389, -27.004274, -27.008722, -26.9839, -27.023037, -27.01061, -23.566326, -22.74611, -22.752817, -22.753712, -22.747091, -22.75028, -22.750086, -23.057491, -23.057497, -23.445137, -23.562937, -24.716248, -23.552486, -25.774946, -23.402264, -23.403643, -21.168238, -21.185617, -21.263878, -21.263672, -21.2616, -21.25331, -21.264395, -21.26227, -21.275625, -21.266676, -21.263708, -21.26659, -21.262766, -22.880533, -22.88986, -22.874723, -22.823414, -22.828314, -22.835697, -22.823414, -22.83132, -22.82453, -23.591545, -19.80976, -25.104298, -25.109127, -25.514996, -23.513914, -23.421288, -23.620277, -12.999812, -13.000359, -13.003843, -13.004928, -22.612526, -22.614267, -22.60962, -22.61092, -22.624693, -22.597315, -22.638641, -22.613941, -22.609715, -19.947645, -19.94973, -19.92959, -19.813269, -19.8168, -19.815144, -19.81473, -23.5517, -23.484108, -21.014702, -21.016136, -21.011568, -21.016403, -21.004423, -21.014189, -22.623789, -22.61177, -22.61092, -22.612337, -22.606096, -22.602179, -22.40218, -22.358917, -22.39722, -22.401287, -22.405973, -29.453304, -29.45472, -29.465446, -29.450441, -29.458502, -29.456518, -29.451607, -29.454819, -29.463743, -29.441015, -23.432678, -23.426222, -23.432455, -23.435179, -23.53295, -23.53295, -23.538832, -23.53586, -23.541002, -23.539919, -23.541002, -23.612963, -23.61425, -20.255753, -20.240257, -22.608576, -22.597189, -22.595623, -22.62181, -22.595623, -23.645689, -23.643885, -23.647406, -23.641174, -23.643885, -23.641302, -23.64925, -23.64447, -23.515568, -23.519249, -23.555065, -22.240204, -22.252659, -21.409, -21.422876, -21.420753, -21.418808, -21.418348, -21.439692, -21.412016, -21.41694, -21.417555, -21.429249, -23.570183, -22.907736, -22.90767, -22.90767, -22.907927, -22.908504, -22.908031, -22.334541, -22.347643, -22.338617, -22.34493, -22.34367, -22.379362, -22.33953, -22.345089, -23.605543, -23.525696, -23.525805, -23.536728, -23.525805, -23.548271, -23.548271, -26.912794, -26.91359, -26.908836, -26.921162, -26.91287, -20.848547, -20.845263, -23.482397, -6.492215, -6.4979258, -26.499573, -26.497118, -26.497568, -20.58008, -20.568243, -20.583557, -20.576345, -29.460098, -29.45983, -29.448507, -29.459286, -29.458597, -29.45697, -29.463675, -29.44265, -29.465658, -29.463623, -29.464773, -29.464315, -29.462994, -29.459438, -29.4691, -29.458588, -29.464457, -29.453949, -21.23032, -21.220419, -21.220356, -21.229252, -21.22428, -21.224623, -21.232403, -21.232227, -21.220486, -21.21705, -21.21877, -21.23102, -21.240652, -21.221964, -21.221838, -21.227835, -26.909346, -26.908375, -26.904743, -26.90874, -26.912422, -26.909195, -23.538696, -23.543812, -23.491772, -16.659647, -23.584764, -23.585815, -23.585781, -23.583567, -25.424868, -25.424974, -25.429888, -23.546255, -23.530346, -23.542658, -23.528643, -23.548384, -23.542166, -23.554186, -23.638079, -23.641272, -23.630205, -23.636738, -23.642738, -23.639656, -23.643885, -23.642942, -23.639034, -23.603558, -23.612562, -23.61166, -23.61237, -23.612291, -23.61265, -23.612192, -23.61142, -23.609327, -23.611046, -23.611317, -23.612078, -23.613453, -23.610744, -23.61142, -23.611654, -23.611885, -23.611431, -27.783657, -22.74987, -22.752817, -22.737772, -23.550285, -23.554585, -22.262247, -22.242348, -22.262247, -25.43713, -23.484386, -10.318272, -10.321119, -23.551332, -23.750145, -23.752018, -23.750423, -22.336948, -22.34003, -22.336515, -22.328976, -23.515982, -23.524292, -23.51207, -23.516186, -23.512299, -22.767181, -22.767714, -22.774906, -25.379892, -25.379807, -25.377144, -25.376919, -23.60409, -25.526379, -25.530228, -25.52377, -12.15586, -12.158563, -12.157559, -23.716211, -23.717102, -23.716078, -23.523272, -27.581495, -27.58407, -27.57842, -27.578064, -12.157434, -12.158128, -23.414042, -23.40953, -23.418308, -23.418093, -23.409914, -23.411684, -23.41589, -23.412582, -23.41493, -23.592741, -23.615166, -23.612053, -23.495377, -23.495142, -23.496403, -22.500042, -22.501513, -22.507732, -22.505592, -22.523623, -22.520802, -22.518936, -22.508236, -27.005848, -27.006529, -26.989496, -27.020983, -26.995869, -27.00603, -27.017637, -26.994005, -27.012785, -27.008017, -26.991632, -23.63577, -23.633898, -23.635273, -19.992697, -19.98894, -19.983341, -23.666607, -23.665773, -23.664621, -23.666006, -23.657566, -23.669151, -23.663992, -23.210835, -23.210846, -22.587147, -22.5975, -22.581152, -22.58896, -22.587147, -22.58965, -22.57992, -22.603098, -29.968626, -29.951283, -29.958258, -25.437721, -25.434317, -25.43863, -25.433836, -21.218632, -21.210892, -21.219412, -21.214966, -21.211792, -19.900663, -19.891382, -19.899948, -19.902342, -19.897953, -19.896288, -19.899103, -19.897997, -19.901121, -26.236267, -26.255365, -26.255827, -15.887309, -15.887778, -23.496758, -23.491812, -23.610306, -23.700716, -23.714169, -23.699524, -23.717094, -23.481918, -23.482494, -18.881971, -18.894663, -18.879734, -18.898394, -18.898787, -18.87161, -18.895088, -18.88616, -21.218386, -21.208601, -21.21169, -21.219412, -21.208769, -21.219412, -21.208107, -21.214966, -21.21823, -21.212278, -23.670347, -20.552074, -23.404942, -23.40673, -23.40265, -23.406706, -23.558655, -25.286736, -25.286625, -25.303108, -25.28144, -25.301134, -25.300335, -25.27273, -25.29008, -23.656906, -23.534775, -23.537981, -23.532711, -23.536005, -23.435266, -23.43193, -23.43529, -23.425947, -23.433052, -23.431948, -26.82724, -23.651604, -23.641272, -23.640121, -23.638079, -23.646782, -23.647371, -23.642069, -23.642857, -23.642738, -23.642893, -23.648834, -23.638304, -23.642857, -25.438393, -25.441921, -25.438393, -25.44093, -25.432333, -26.914371, -26.9045, -26.904667, -26.910345, -26.912422, -23.283472, -23.278784, -23.295609, -23.27719, -23.281292, -23.281893, -23.534266, -23.539158, -23.537605, -23.537645, -26.244617, -26.224752, -26.229883, -26.200623, -26.226652, -27.083906, -23.597628, -23.497803, -23.566854, -23.535393, -23.529285, -22.73914, -22.752394, -22.753712, -22.744587, -22.735367, -22.913858, -22.91149, -22.916365, -22.913776, -22.916767, -22.913038, -22.915516, -22.911509, -22.9157, -22.915081, -22.915827, -22.915508, -22.916399, -22.912943, -22.915213, -22.915972, -23.531654, -23.538202, -20.783098, -20.782267, -8.118558, -8.122049, -8.118826, -23.655006, -23.658295, -23.660238, -22.957653, -23.605167, -23.317554, -23.31804, -15.7952, -15.8328495, -15.851566, -25.430607, -25.430733, -25.42721, -23.563437, -23.564112, -21.803223, -21.795708, -21.792923, -21.801065, -21.80503, -21.803856, -21.79337, -21.798288, -21.801725, -21.7987, -21.79728, -23.443829, -23.437897, -23.441021, -23.438541, -23.436295, -23.435064, -22.343409, -23.474424, -23.478956, -23.467123, -23.474833, -23.639177, -23.637066, -23.637007, -23.638363, -23.634094, -23.43151, -23.429316, -23.426481, -23.42921, -23.428194, -23.43165, -20.844246, -20.845, -23.506784, -23.51415, -23.509455, -23.506891, -23.509647, -22.605276, -22.605225, -22.608747, -22.608883, -21.830328, -21.831766, -21.83399, -21.835117, -22.104973, -22.108097, -22.102776, -22.10202, -23.536823, -23.536823, -23.537182, -22.147676, -22.166002, -22.162653, -22.163446, -22.212658, -22.192858, -22.251268, -22.160265, -22.168772, -23.384743, -23.390564, -22.76233, -22.76211, -22.757355, -22.75968, -22.761232, -22.754702, -22.761232, -22.761934, -22.761229, -22.760529, -22.762655, -22.768425, -22.762665, -22.763035, -23.6832, -23.67976, -23.682436, -23.680994, -23.680656, -23.666538, -23.686058, -19.82574, -19.831242, -19.837633, -23.678698, -23.679377, -23.666513, -23.679873, -23.680534, -23.679873, -22.717216, -22.694254, -22.706568, -22.715574, -22.70657, -22.713179, -20.536726, -20.54482, -20.537033, -20.537327, -20.537985, -20.536354, -20.54047, -20.531708, -21.794197, -21.795654, -21.789652, -21.795439, -21.789862, -21.8026, -23.70091, -23.70512, -23.554583, -23.556177, -23.561264, -23.553238, -23.56178, -23.553137, -23.559137, -23.561405, -20.869503, -20.841103, -20.840029, -23.467705, -23.475758, -23.71682, -23.71446, -23.720625, -23.721806, -23.719011, -23.721687, -23.716478, -23.72313, -25.423464, -25.43172, -25.430693, -23.425611, -23.43703, -22.565777, -22.555521, -22.55655, -22.551725, -22.547567, -27.81754, -27.816387, -27.827501, -23.559786, -23.560656, -23.5606, -23.5606, -22.345427, -22.345118, -22.72925, -22.717304, -22.710726, -20.545921, -20.536612, -20.531572, -22.955902, -22.968348, -22.960932, -29.612032, -29.618256, -29.609608, -29.602446, -29.608536, -23.957705, -23.959743, -23.955238, -23.959818, -23.958395, -23.96091, -23.95959, -23.957705, -23.957705, -23.956465, -22.93518, -22.934914, -22.9355, -23.718822, -23.71617, -23.719164, -23.720625, -23.72313, -23.715836, -23.534382, -23.535572, -23.536377, -23.532011, -23.541454, -23.533855, -23.538628, -23.536657, -23.534958, -23.537544, -29.99719, -29.995625, -29.992035, -29.992846, -15.815825, -22.113655, -23.536823, -23.538134, -12.983389, -12.989151, -12.978567, -12.978567, -12.982713, -12.985854, -12.985526, -12.977642, -12.984645, -12.98702, -12.98287, -12.986391, -27.54612, -27.541636, -27.536259, -19.66095, -19.629831, -19.611, -19.626596, -19.646164, -19.627075, -19.647842, -19.637793, -19.6447, -19.663395, -19.648483, -19.635887, -19.599195, -19.630585, -19.599176, -25.62381, -25.625916, -23.393559, -23.396542, -23.395412, -23.388243, -23.385754, -22.928951, -22.934345, -22.931095, -23.721806, -23.722258, -23.722258, -23.721542, -23.72126, -23.635181, -23.447054, -23.1385, -23.148312, -23.13468, -23.129072, -23.14377, -23.144838, -23.144943, -23.132025, -23.612839, -23.337626, -23.332788, -23.330416, -23.334236, -22.877546, -22.892935, -25.505735, -25.5054, -25.504763, -25.50959, -23.610085, -23.620527, -23.638256, -23.607685, -23.64516, -23.616068, -23.59717, -23.582092, -23.642183, -23.629148, -23.641266, -23.604582, -23.620737, -23.628134, -23.632093, -23.62363, -23.639732, -23.606226, -23.605183, -23.634308, -23.612358, -23.481115, -23.477037, -23.490007, -23.479086, -23.497122, -23.174837, -23.175234, -23.174826, -23.182789, -25.503988, -25.505203, -25.512709, -25.499454, -23.717466, -23.716076, -22.351213, -22.38006, -22.346088, -22.384306, -23.734072, -23.568533, -23.568317, -23.56639, -25.525557, -25.511969, -25.522995, -22.935434, -22.93598, -22.937124, -22.93518, -22.936666, -22.93534, -22.93653, -22.933758, -22.93529, -26.23075, -26.239141, -26.240122, -26.23747, -26.18475, -26.177536, -26.170876, -26.185762, -26.16037, -26.182413, -26.183867, -26.174065, -22.963907, -22.960264, -22.960264, -22.965496, -23.72052, -23.71747, -23.721859, -23.717602, -23.71888, -23.719803, -23.716478, -23.414106, -23.405342, -23.418413, -23.417887, -23.414827, -23.427752, -23.428707, -20.268814, -29.572521, -29.60232, -29.603329, -29.605053, -29.620886, -29.602446, -29.603771, -29.602297, -29.572521, -23.552893, -23.550451, -23.591368, -23.584091, -25.564503, -25.557106, -25.561192, -22.934647, -22.934883, -22.936836, -23.771482, -25.436707, -25.436333, -25.436707, -25.441324, -25.437027, -25.43247, -25.435328, -25.435888, -25.436333, -23.957964, -23.951881, -24.501915, -24.492252, -24.517221, -24.50264, -24.50122, -24.502584, -24.46495, -24.491117, -24.49897, -24.495665, -24.495653, -24.504763, -24.501524, -24.491776, -24.499174, -24.496563, -24.515915, -24.49159, -24.51583, -25.427912, -25.424545, -25.424501, -25.42721, -25.429544, -22.946903, -22.923538, -22.946749, -22.919304, -22.917822, -22.937407, -22.936268, -22.944101, -22.103598, -22.107283, -22.08994, -22.100735, -22.101072, -22.107548, -22.102531, -22.10378, -22.10468, -23.469433, -22.818827, -22.833828, -22.824945, -23.28526, -23.28669, -23.285809, -21.133747, -21.131111, -23.53922, -23.542448, -23.541878, -23.542812, -22.708027, -22.70771, -22.722328, -22.709202, -22.719343, -22.713453, -23.43955, -23.43934, -23.43362, -23.447613, -23.43955, -23.405527, -23.406889, -23.409868, -23.410513, -23.413763, -23.319077, -23.318188, -23.321318, -23.327763, -20.776966, -20.76897, -20.772797, -20.77286, -20.771873, -20.773762, -29.606075, -29.6182, -29.610308, -29.612522, -29.609293, -29.607529, -29.605143, -23.685581, -23.686993, -23.684025, -23.680225, -23.683893, -23.682186, -23.682373, -23.674702, -23.674702, -23.688192, -22.736467, -22.739044, -22.736637, -22.743353, -22.745527, -22.751074, -22.749168, -23.718126, -23.719671, -23.715935, -23.715347, -23.433273, -23.436584, -23.431028, -23.439892, -22.725039, -22.722973, -22.09676, -22.10652, -22.10856, -21.797512, -21.797228, -21.789652, -21.778818, -21.791494, -21.789406, -21.800045, -27.033588, -27.055803, -27.041082, -25.424156, -25.423346, -25.423065, -25.428621, -23.392382, -23.395844, -23.380953, -23.380993, -23.388767, -23.683418, -23.681326, -23.433273, -22.708027, -22.712996, -22.710188, -22.714788, -22.71892, -22.697678, -22.704119, -22.70894, -22.707024, -22.713982, -22.713497, -22.719471, -23.440502, -23.42669, -22.061625, -22.059574, -23.389345, -23.389404, -23.392382, -23.392061, -23.385754, -23.38983, -23.569027, -23.566954, -22.376879, -22.937584, -21.10597, -21.112446, -23.548944, -19.835907, -19.8375, -19.8417, -22.871061, -22.432987, -22.424871, -22.451912, -22.432083, -23.448534, -23.449543, -26.91333, -26.914806, -26.915997, -22.871544, -22.87507, -20.837717, -23.473608, -22.946903, -22.940468, -22.92569, -22.929907, -22.924007, -22.938675, -22.94011, -23.60366, -23.605997, -23.595936, -23.590372, -23.59464, -23.59273, -23.594046, -23.59475, -23.595678, -29.992477, -30.014975, -29.999025, -22.743769, -22.736637, -22.744476, -22.211512, -22.545813, -22.552244, -22.538563, -22.550695, -22.54994, -23.155973, -23.148804, -23.160986, -23.173866, -23.125422, -23.136065, -23.147888, -23.148804, -23.16716, -23.167706, -23.173866, -12.986565, -12.988491, -12.986869, -12.98108, -12.98108, -12.9867, -12.984491, -12.98702, -12.982979, -12.987612, -23.173216, -23.173216, -23.14874, -23.118208, -23.170935, -23.16716, -23.166136, -23.160986, -23.173845, -23.169615, -23.15734, -23.160986, -23.148779, -23.155973, -23.173216, -27.596428, -27.596489, -27.596146, -27.593582, -27.594965, -27.59295, -27.596853, -23.453571, -23.459658, -21.184235, -21.197485, -21.18743, -21.189434, -21.18785, -26.13519, -26.185905, -26.186226, -26.187572, -26.188604, -26.178293, -26.184856, -26.185911, -26.181019, -22.854027, -22.850483, -22.860514, -22.862646, -22.850483, -22.857603, -22.852482, -22.868288, -22.86025, -23.488293, -23.488445, -25.556862, -25.561386, -25.557516, -25.549393, -19.877945, -19.877617, -15.836123, -24.49537, -24.49458, -24.49818, -24.514898, -24.502035, -24.460194, -24.495977, -24.499016, -24.50064, -24.494993, -24.495676, -23.428003, -24.950865, -24.95053, -24.941319, -24.954142, -22.261677, -22.233908, -22.228235, -22.236357, -22.230427, -22.25134, -22.232689, -22.22933, -22.222858, -22.23104, -22.223778, -22.230835, -22.28387, -22.25624, -22.233812, -22.23, -22.280243, -22.233812, -22.233969, -22.234835, -26.449362, -26.474987, -6.795829, -29.77485, -29.76863, -29.778063, -29.775719, -29.774782, -26.91346, -26.92134, -26.921097, -26.92027, -26.914541, -22.884768, -22.882486, -22.880499, -22.881205, -22.894781, -22.891544, -22.905025, -22.891544, -28.48006, -28.480442, -28.48165, -29.174524, -29.18135, -23.558453, -23.558453, -23.573313, -23.558603, -25.46208, -25.45785, -25.458605, -25.453886, -25.455933, -25.458723, -25.46469, -25.453856, -22.93043, -22.930553, -22.916449, -19.931147, -19.91877, -19.920006, -19.929224, -19.926409, -19.929533, -19.924393, -19.926437, -19.921083, -19.931335, -19.924479, -19.922398, -19.929195, -19.923721, -21.121302, -21.147276, -21.123968, -21.1399, -21.136494, -21.135218, -21.13591, -21.13688, -6.832237, -6.833005, -6.825533, -23.523672, -23.521202, -23.521202, -23.512669, -25.679226, -25.670988, -25.66867, -20.818901, -20.8131, -20.812933, -20.822468, -20.821697, -20.819004, -23.595667, -23.599894, -23.59374, -23.59935, -23.596685, -23.595684, -20.724195, -20.717329, -20.716036, -23.62464, -23.625175, -23.625458, -23.61568, -23.419731, -23.420742, -23.404497, -25.510805, -25.504946, -25.512735, -25.52136, -25.526648, -25.516495, -22.433285, -22.434996, -22.419401, -22.439095, -25.545633, -25.527449, -25.472202, -25.469223, -25.474287, -23.615894, -23.584793, -23.577736, -23.587353, -23.587353, -23.585903, -23.583172, -30.033604, -30.030453, -30.036211, -30.030445, -30.036404, -30.039377, -30.030952, -30.032492, -30.03153, -30.032604, -30.036148, -30.03425, -30.036081, -30.029196, -30.034937, -23.54487, -23.579876, -23.578918, -23.581259, -23.581957, -23.577478, -8.757163, -8.759703, -8.755305, -8.763198, -8.776207, -23.620975, -23.622004, -23.620975, -23.621006, -23.617306, -23.619167, -23.62106, -23.623533, -23.618977, -23.618242, -23.620708, -23.621065, -23.621084, -26.47815, -26.48393, -26.479929, -21.771841, -21.771532, -21.760866, -21.752972, -21.76811, -21.775656, -23.42794, -23.42794, -23.42794, -23.427706, -20.739918, -19.9238, -19.933739, -19.926699, -19.928585, -19.932686, -19.924065, -19.93463, -19.934103, -19.924768, -19.917824, -19.93215, -19.928463, -19.924322, -19.922264, -23.121565, -23.121565, -23.120838, -23.12258, -23.120155, -23.613571, -23.615938, -18.938763, -18.94716, -18.949743, -18.96171, -18.931839, -18.946098, -18.943604, -18.94754, -22.21179, -22.22527, -22.22527, -22.210184, -22.223463, -22.212873, -22.217909, -16.725948, -16.725897, -20.36105, -29.93898, -29.93898, -29.93898, -22.208212, -22.204016, -22.219997, -22.201067, -22.202188, -22.209625, -22.21561, -22.213345, -16.709082, -26.484762, -26.47815, -26.482893, -23.604355, -23.602083, -29.170885, -29.18264, -24.958902, -23.61568, -23.623037, -23.615623, -23.62464, -23.625502, -23.488516, -23.48675, -23.627024, -23.632658, -23.632631, -23.632425, -23.635784, -22.908922, -22.909983, -22.909807, -22.910192, -22.90629, -23.576336, -23.580238, -23.574022, -23.579742, -23.573708, -23.575018, -23.574022, -23.649334, -23.643837, -23.64659, -23.646152, -23.647234, -23.645275, -22.706764, -22.702854, -22.70289, -23.425947, -23.425947, -23.425947, -23.425947, -23.42309, -23.426102, -26.254135, -26.245811, -20.811739, -20.818312, -20.821012, -20.814943, -20.820696, -20.815853, -20.820656, -20.814386, -19.830477, -19.893312, -19.889156, -23.620975, -23.620708, -23.61901, -23.619167, -23.617393, -23.621841, -23.617334, -23.618727, -23.558453, -23.567379, -23.559519, -23.576948, -23.567324, -23.565674, -23.558453, -25.67617, -22.904213, -22.902765, -22.909813, -22.905537, -20.824434, -20.8131, -20.812037, -20.817562, -20.815853, -20.821718, -20.812967, -23.583143, -23.581556, -23.609247, -19.892422, -19.8117, -21.755472, -21.755472, -21.761122, -21.765774, -21.76237, -21.75713, -21.760654, -21.77077, -21.778675, -21.778894, -21.773487, -21.776451, -21.777615, -21.774687, -22.931227, -22.934847, -22.933128, -27.658365, -27.642017, -27.642498, -27.64008, -27.657492, -27.646788, -23.527124, -23.033007, -23.043032, -23.033823, -23.466589, -23.465822, -23.466589, -23.466589, -23.466589, -23.466589, -23.663235, -23.661911, -23.667072, -23.664978, -23.47209, -23.465822, -23.468899, -23.466167, -23.466589, -25.46998, -25.470446, -25.467266, -25.472095, -25.469809, -25.467266, -25.470009, -25.47157, -19.98305, -19.977783, -19.982874, -19.975498, -19.978312, -19.986874, -23.600815, -23.601086, -23.601421, -23.601086, -23.601677, -23.601421, -23.601263, -23.596266, -18.876263, -18.870031, -18.86808, -18.849804, -18.869165, -19.866447, -19.867586, -19.868948, -19.875696, -19.871279, -23.609451, -23.572247, -23.617363, -23.619617, -23.621927, -23.621475, -23.620014, -23.621069, -23.619005, -23.620014, -20.853529, -20.849197, -24.955244, -24.955458, -24.957867, -24.959684, -24.95558, -24.958015, -24.958902, -24.958902, -23.48971, -23.488623, -22.701126, -22.697983, -22.70058, -22.704216, -23.55852, -23.57015, -23.57015, -30.109, -30.098871, -30.098482, -30.098186, -30.103144, -29.92239, -29.917824, -29.90976, -29.91735, -29.910187, -29.922102, -29.919382, -23.629208, -23.635418, -23.636091, -23.631693, -23.633, -23.441027, -23.440662, -23.435406, -23.072865, -23.101604, -23.081598, -23.087414, -23.089264, -23.4938, -23.61568, -23.62986, -23.61802, -23.62621, -23.627937, -23.626883, -23.618818, -23.62513, -23.622263, -22.971903, -22.972378, -22.973948, -22.973436, -22.974724, -22.97299, -22.973532, -22.972612, -22.975338, -22.973143, -21.76893, -21.775406, -21.760757, -21.77654, -21.76723, -20.811474, -20.817083, -20.819757, -20.822588, -20.816633, -20.819563, -20.8131, -20.824585, -20.8143, -22.359722, -22.357216, -22.356533, -22.349442, -23.57479, -23.593008, -23.525793, -23.494764, -23.09987, -22.21448, -22.22527, -22.205168, -22.212555, -22.211452, -22.227634, -22.196548, -22.209105, -22.206459, -20.436626, -15.808327, -15.813003, -15.804605, -15.800556, -15.800851, -15.8081665, -15.804565, -15.802023, -24.973988, -24.958635, -24.956919, -22.06861, -22.099234, -22.072506, -22.070673, -22.081226, -22.099857, -27.643143, -27.651016, -27.63604, -27.640324, -27.65354, -27.657492, -27.64302, -23.993036, -23.99067, -23.992682, -23.99488, -23.990107, -23.470476, -22.959513, -22.96261, -22.962633, -22.962633, -21.22451, -21.224604, -21.224604, -22.922592, -22.92164, -23.593008, -23.593124, -23.578638, -22.213404, -22.20095, -22.218176, -22.221575, -22.212555, -22.211088, -22.21159, -23.47486, -23.474718, -23.469883, -22.918917, -22.92079, -23.532394, -21.764746, -21.775406, -21.765276, -21.775406, -21.773487, -21.76804, -21.772202, -23.4928, -23.39618, -23.595037, -23.594324, -29.977486, -29.97759, -29.99358, -29.982897, -23.118324, -23.121904, -23.12016, -23.119144, -23.121326, -23.124327, -23.12046, -23.128632, -23.120789, -15.813725, -23.620007, -23.622087, -23.603922, -23.60967, -23.601254, -23.60967, -23.615057, -23.598925, -22.851881, -22.881084, -22.88112, -22.882013, -22.878586, -22.869434, -22.851881, -22.877329, -25.453548, -25.46241, -25.45319, -25.458326, -25.456402, -25.455637, -25.454931, -25.455933, -25.646332, -25.642391, -23.48092, -23.469683, -25.46208, -25.453867, -25.455101, -25.461458, -25.456516, -25.464457, -25.46015, -25.454273, -25.453886, -25.453856, -20.529219, -20.52638, -23.450565, -19.871141, -19.862907, -19.876278, -19.869997, -23.50909, -23.501291, -23.503075, -23.499027, -22.946308, -23.106289, -23.111296, -23.097713, -23.115696, -25.389282, -16.64059, -16.73207, -23.529228, -23.534948, -23.528454, -22.25344, -25.44427, -22.755375, -22.756512, -22.756458, -23.63222, -23.62722, -23.5286, -23.52954, -27.816029, -27.815899, -27.813925, -21.360142, -21.360622, -23.532751, -23.532375, -15.661278, -22.59428, -22.591404, -22.59066, -22.589022, -22.590794, -22.601254, -22.601858, -22.616756, -22.589525, -22.597206, -22.58826, -23.53393, -23.538282, -23.534626, -23.533756, -23.539549, -23.539078, -23.536083, -23.533707, -23.537271, -23.46657, -26.27602, -26.280941, -26.288002, -23.512169, -23.51089, -23.532589, -22.584587, -22.5604, -22.568962, -22.583038, -22.578238, -22.566246, -22.56671, -22.565504, -22.567266, -22.583515, -25.41862, -25.422802, -22.580875, -22.565884, -22.574549, -22.560455, -22.582806, -22.560896, -22.563087, -22.91235, -22.91889, -22.916758, -22.917158, -22.9173, -22.917618, -22.915627, -22.917082, -22.9169, -22.916222, -22.917416, -22.916815, -22.9173, -22.919304, -22.919693, -22.918066, -22.920244, -22.917328, -22.917927, -22.916817, -22.914654, -22.915157, -23.571579, -24.94718, -24.937359, -24.938198, -24.952444, -24.941883, -28.674517, -28.714579, -28.745445, -23.560453, -23.54042, -23.534441, -23.541252, -26.90196, -26.893387, -26.893707, -26.896664, -23.123802, -23.11923, -23.12513, -21.480284, -21.47159, -21.461294, -21.473728, -21.47125, -21.481607, -21.457216, -21.477602, -21.47138, -21.474297, -23.601488, -22.86977, -22.87416, -22.865517, -26.789724, -23.460173, -23.460709, -22.565453, -22.563065, -22.564104, -22.578583, -23.543913, -23.543858, -23.54376, -23.543676, -23.543858, -22.855883, -22.855011, -22.872355, -21.110033, -21.111202, -23.642601, -23.644978, -23.638742, -23.643799, -23.643494, -23.64247, -23.515598, -22.594345, -22.610788, -22.612753, -22.615591, -25.592041, -25.524015, -25.525032, -20.792908, -20.788456, -20.795395, -20.785435, -20.78845, -20.788456, -22.595966, -22.597658, -22.600103, -22.607262, -22.58826, -20.81527, -20.804453, -20.807161, -20.80982, -20.806145, -20.815285, -20.817604, -20.816042, -20.81701, -23.542223, -22.613604, -22.599691, -22.608822, -22.586823, -22.604113, -22.605206, -20.147247, -20.152046, -20.150368, -20.17726, -20.152979, -20.150475, -20.150026, -20.108234, -20.15175, -20.157988, -29.709845, -29.675632, -29.69554, -29.694885, -29.679443, -29.696123, -29.685116, -29.68424, -29.693325, -26.942194, -23.487974, -23.49184, -23.485575, -23.487572, -17.745745, -17.74051, -23.641037, -23.635683, -23.644304, -23.640293, -23.642443, -23.642471, -23.641544, -23.64524, -23.647078, -20.910078, -22.602737, -22.597271, -27.143864, -23.53145, -23.53278, -22.934788, -22.948002, -22.94847, -22.950085, -22.951315, -22.950201, -22.340885, -22.335186, -22.347355, -22.345648, -22.331198, -23.533607, -23.53336, -23.535828, -23.531393, -23.536354, -23.534376, -23.549162, -23.535984, -23.505268, -28.478386, -28.477982, -27.812132, -27.817644, -27.819872, -23.61186, -25.488, -25.496853, -25.497866, -23.18468, -23.17746, -23.190863, -23.183636, -23.199127, -23.177511, -22.5649, -22.5604, -22.571526, -22.5649, -22.569893, -22.563038, -22.568838, -22.580612, -22.566792, -22.974407, -22.970135, -22.972595, -16.264828, -23.633848, -23.629627, -23.62299, -23.63001, -22.599255, -22.595966, -22.605787, -22.596134, -22.59375, -22.588938, -22.614035, -22.597982, -22.586851, -22.598017, -22.603525, -23.64206, -23.642336, -23.644972, -23.643526, -23.642384, -23.636719, -23.647131, -23.638504, -23.642443, -23.646673, -23.63646, -20.158377, -20.153746, -20.179771, -20.14751, -20.170155, -20.17047, -20.155413, -20.148464, -20.175655, -20.159777, -20.163258, -20.147484, -20.147387, -20.170515, -20.171434, -20.136593, -20.155401, -27.641672, -27.642374, -20.804913, -20.820303, -20.815744, -20.810354, -20.816174, -20.816175, -20.827457, -20.805119, -22.865278, -22.86536, -22.596071, -22.59029, -22.602877, -23.493229, -22.897346, -22.897509, -22.897514, -22.897514, -22.897532, -22.897509, -22.898916, -20.164907, -20.169603, -20.151783, -20.17878, -20.146544, -20.169512, -20.16502, -20.171434, -20.186274, -20.163052, -20.153044, -22.936153, -23.53614, -23.53294, -23.535002, -23.53579, -27.132687, -27.141008, -23.316565, -23.316994, -23.318356, -23.317617, -23.315084, -23.309797, -23.317606, -23.311575, -23.306084, -23.306635, -22.76948, -22.775822, -28.479527, -28.483252, -26.903923, -26.89281, -22.87603, -22.872957, -22.869463, -22.864017, -23.682499, -23.681835, -23.681835, -21.842737, -21.827663, -21.822815, -21.824476, -21.833858, -23.682169, -23.540167, -23.54147, -25.436237, -25.443775, -25.443775, -25.444145, -25.443092, -25.436237, -25.4433, -25.438545, -25.440147, -21.829477, -21.84134, -21.842638, -21.840994, -21.838789, -21.837132, -21.823727, -21.848816, -23.314291, -23.317448, -23.31058, -23.309425, -19.919144, -19.919712, -19.9178, -19.923346, -19.915064, -26.891903, -26.8318, -2.5056894, -2.4960394, -26.805208, -19.920319, -19.920893, -23.6234, -23.626476, -23.634066, -23.624168, -23.625334, -29.731834, -21.135221, -21.138275, -21.139883, -22.597271, -22.596222, -22.60096, -24.954237, -24.944294, -24.95606, -20.790424, -20.80699, -20.790707, -20.790758, -24.952375, -24.9553, -24.951439, -24.95359, -24.947445, -24.948732, -24.94567, -24.950142, -24.952425, -24.95239, -24.952562, -24.950996, -22.580765, -22.568962, -22.576508, -22.562368, -22.574549, -22.582514, -22.574549, -22.566805, -19.864061, -19.86263, -19.86481, -19.864645, -19.864862, -22.649635, -23.675022, -21.827032, -21.843777, -21.848047, -21.826767, -21.846405, -21.841911, -21.847298, -21.850151, -22.731514, -22.698591, -22.723661, -25.465517, -25.47438, -23.998968, -23.992916, -23.997028, -23.999428, -29.680807, -29.677929, -29.683807, -29.696123, -29.684376, -29.673607, -29.68585, -29.694307, -29.687695, -29.685314, -22.8304, -22.8251, -22.824999, -25.440147, -25.439466, -25.438255, -25.438448, -23.531584, -23.529047, -23.53041, -20.912268, -20.908937, -19.822828, -19.824936, -19.82654, -28.477608, -28.472847, -19.889948, -19.991432, -23.711103, -22.832323, -22.818073, -22.837645, -21.360882, -21.36103, -21.358356, -21.362003, -21.351458, -21.35819, -23.216644, -23.204294, -23.211061, -23.20563, -23.213709, -23.212091, -20.8036, -20.804502, -20.812164, -20.808544, -20.813799, -20.811232, -20.806822, -23.462214, -23.461388, -23.462826, -23.464146, -23.467714, -23.46062, -23.461016, -25.47958, -25.500029, -25.479208, -23.292063, -23.288506, -23.294405, -28.480745, -28.4781, -26.278606, -26.282024, -26.28457, -22.839422, -22.842754, -22.840124, -22.844204, -22.592854, -22.613134, -22.59029, -22.606789, -22.604113, -22.610788, -21.11262, -22.73569, -22.722443, -22.691065, -23.48412, -23.482847, -23.4799, -23.479588, -23.515867, -26.337824, -26.338915, -26.347437, -26.33834, -23.527748, -23.52782, -23.512747, -23.206255, -23.539444, -23.539438, -22.703861, -26.9237, -23.605358, -23.612179, -23.615532, -23.601988, -23.615358, -23.608034, -23.607502, -23.573927, -23.538826, -23.539515, -23.5439, -23.535288, -23.537287, -23.536427, -26.282024, -26.282541, -26.288136, -23.190075, -23.193752, -23.179403, -23.193977, -23.64696, -23.648312, -23.6538, -23.64981, -23.647402, -23.651175, -23.648094, -23.64514, -23.512629, -23.511805, -23.512629, -23.510431, -23.511805, -23.507269, -23.502945, -23.505068, -26.970604, -26.92305, -26.940062, -25.465977, -25.456942, -25.467363, -25.478012, -25.470139, -25.473698, -25.469109, -23.31743, -23.308321, -23.601532, -23.601507, -18.87772, -18.887339, -18.899073, -18.896212, -18.884497, -18.884146, -18.881401, -18.906239, -18.892286, -18.901081, -18.886017, -18.887264, -18.884085, -18.899797, -18.88737, -23.629576, -23.624958, -23.62943, -23.624168, -23.629896, -23.624199, -23.624168, -23.312044, -23.312737, -23.301777, -23.311674, -23.309797, -23.316263, -19.837849, -19.828194, -19.835154, -19.835745, -23.5434, -23.544855, -23.5434, -23.540524, -23.544088, -23.54324, -21.433882, -21.445702, -21.43961, -28.154682, -28.27149, -28.218163, -28.21219, -28.26682, -28.21084, -28.2408, -23.787388, -23.779766, -23.789007, -23.776903, -23.783123, -23.787645, -26.311424, -26.326931, -29.87441, -29.831106, -29.817465, -29.832607, -29.8245, -29.823656, -29.876148, -29.87535, -23.713364, -23.713638, -23.6073, -23.607372, -23.60544, -27.210085, -27.214146, -27.217525, -27.21588, -27.21391, -27.208847, -23.50066, -23.497496, -22.884712, -22.887383, -22.88335, -22.88802, -22.891102, -22.893131, -22.884556, -22.884731, -22.886614, -22.920124, -21.786377, -21.783072, -21.795965, -21.784765, -21.791868, -21.797583, -21.799768, -21.783903, -21.681969, -21.695496, -21.692114, -21.701363, -21.694517, -21.695671, -21.682518, -21.69011, -21.694021, -21.72472, -21.679419, -21.699753, -21.686518, -23.474173, -23.469175, -23.469175, -23.478844, -14.433784, -25.492577, -25.486607, -23.462952, -23.46187, -23.473423, -23.467016, -23.474094, -23.475592, -23.472548, -23.475588, -23.474508, -27.001722, -27.005999, -26.990385, -26.987154, -26.988594, -27.003881, -26.999643, -26.99886, -27.004236, -26.996504, -27.00344, -27.001722, -27.00722, -26.990282, -26.988356, -26.986835, -27.001722, -23.306442, -23.302225, -23.309837, -23.297382, -23.309109, -23.541004, -23.542215, -7.214758, -7.221197, -7.218631, -7.221706, -7.2254214, -7.2157006, -23.494165, -23.501993, -23.499979, -23.504858, -23.504421, -23.498417, -23.506124, -23.499523, -29.519186, -29.510473, -29.518044, -29.513693, -29.530249, -23.509954, -23.512106, -23.509834, -23.509628, -23.517126, -23.515585, -23.50879, -23.51327, -23.509647, -23.50657, -23.505396, -23.509165, -23.50716, -23.322615, -23.316563, -23.31442, -23.310682, -23.322762, -23.313368, -23.325552, -23.31656, -23.319126, -23.316507, -23.315393, -25.478735, -25.480812, -25.477085, -25.48187, -25.476643, -23.522123, -23.522108, -23.522415, -23.520197, -23.524094, -23.527275, -23.520197, -23.52353, -29.756872, -29.763891, -29.763887, -29.763891, -29.775852, -29.764986, -29.758307, -23.526655, -20.549623, -20.556963, -20.559963, -20.563114, -20.560234, -20.548517, -20.557402, -20.554102, -23.078955, -23.086842, -23.08058, -23.094507, -23.08821, -23.088747, -23.088852, -23.08411, -23.090488, -23.08565, -23.07432, -23.081003, -24.017752, -24.013708, -24.013279, -24.013126, -24.013166, -24.01419, -24.013262, -24.010412, -24.011608, -24.012962, -24.0131, -24.018082, -24.016514, -26.711731, -19.859686, -19.875828, -19.874496, -19.877237, -19.863148, -19.874277, -19.863688, -19.871782, -23.472712, -22.805904, -22.80475, -22.804865, -22.80013, -22.815931, -22.813007, -22.799435, -22.817257, -22.801876, -22.80586, -22.804865, -22.805187, -23.554281, -24.70732, -24.711836, -22.217184, -22.215294, -22.207634, -18.961119, -18.959496, -18.94203, -18.948969, -18.953108, -18.95974, -18.95065, -18.959959, -18.948536, -18.957327, -16.565746, -21.848463, -21.79926, -21.857603, -21.848633, -21.822643, -21.852547, -30.010286, -30.007196, -30.003645, -30.005453, -30.004066, -30.010132, -30.007864, -30.005854, -23.199959, -23.196665, -23.200779, -23.200369, -23.196156, -23.262926, -23.321087, -23.354322, -23.32089, -23.32395, -23.325817, -23.325598, -23.309528, -23.33172, -23.321651, -23.329914, -23.32156, -23.406992, -23.318287, -23.325342, -23.322054, -23.385588, -23.325354, -21.855343, -21.853817, -21.846186, -21.84286, -21.786951, -21.790945, -21.798727, -21.791868, -21.789213, -21.79202, -21.78295, -21.793371, -21.78492, -21.794428, -21.798138, -21.797583, -21.795815, -21.787567, -21.78644, -23.694103, -23.423983, -23.441872, -23.423723, -23.42566, -23.430922, -23.424496, -23.424185, -23.437088, -23.428108, -23.423712, -23.425003, -23.424349, -23.428108, -23.427479, -23.426718, -23.424599, -23.436794, -26.218859, -26.225323, -26.227829, -26.226912, -26.223452, -26.221401, -25.439068, -25.43691, -25.43691, -25.43755, -25.4378, -25.437864, -25.436167, -25.481754, -25.478209, -25.481754, -20.422886, -20.426447, -23.603432, -23.602844, -23.596928, -23.60389, -23.597063, -23.60389, -20.067753, -20.08651, -20.094883, -20.067678, -20.086704, -20.08969, -20.083822, -20.065624, -20.094645, -20.079182, -20.071333, -20.087198, -21.69686, -21.684671, -21.687725, -21.70177, -21.675379, -21.691704, -21.684984, -21.697733, -21.693031, -21.716278, -23.52655, -23.526012, -23.523603, -23.52121, -23.527891, -23.524054, -23.522243, -23.534351, -23.522236, -25.45815, -25.456898, -25.464449, -23.508265, -23.508265, -23.508537, -22.515417, -22.52516, -27.095205, -27.096823, -23.413303, -23.413027, -25.495718, -25.482075, -25.489769, -25.47991, -25.486078, -19.861217, -19.865099, -19.863636, -19.872797, -19.881258, -4.0006533, -23.615364, -23.744095, -23.744095, -23.7441, -23.743467, -23.424185, -23.424599, -23.425879, -23.44908, -23.428108, -23.427057, -23.423141, -22.508057, -22.510187, -22.511421, -23.75335, -23.738802, -23.742031, -23.742031, -23.73911, -23.74222, -23.74786, -23.74786, -23.477057, -28.208433, -28.193804, -28.262426, -28.237291, -28.262716, -23.314886, -25.440351, -25.439577, -25.434397, -25.43541, -25.436499, -25.440384, -25.43676, -25.43691, -25.43676, -25.438412, -27.672499, -27.681248, -27.683521, -25.431004, -25.428263, -25.430328, -25.426704, -25.427727, -25.42715, -25.428646, -25.429798, -25.430553, -25.431698, -25.432472, -25.425262, -25.42912, -23.090624, -23.089035, -23.0875, -23.088861, -23.094507, -25.431898, -25.42838, -23.507305, -23.50633, -23.506752, -23.505459, -23.505924, -23.505762, -23.504368, -23.652916, -23.648252, -23.648613, -23.654821, -23.652802, -23.652456, -23.652191, -23.650816, -23.648613, -23.648613, -22.421246, -22.412056, -22.41891, -22.417757, -22.413628, -22.418095, -22.423903, -22.411917, -22.415047, -22.418283, -22.421246, -22.415993, -23.089634, -23.09024, -23.08878, -23.087622, -23.083784, -23.083344, -23.086, -23.447115, -23.445307, -22.97814, -22.9896, -22.99098, -22.977795, -22.991549, -23.455803, -21.776976, -21.770752, -22.76951, -22.770363, -22.768326, -22.781988, -23.555296, -23.557516, -23.54369, -23.53441, -23.529531, -23.529839, -23.530235, -23.516083, -23.512518, -25.48006, -25.477497, -25.474483, -23.445429, -23.429853, -23.429548, -23.426142, -23.424599, -23.424988, -22.293396, -22.291668, -22.278103, -22.285915, -22.288607, -22.284414, -23.289574, -23.279713, -20.063417, -20.069557, -20.07755, -20.082127, -26.988415, -26.999697, -26.981112, -26.991169, -26.982607, -26.99769, -26.99139, -26.978243, -26.97708, -26.999697, -26.980698, -27.003944, -26.997225, -27.000822, -26.981777, -27.001722, -26.99079, -27.001093, -27.001127, -27.002666, -26.99002, -27.591679, -27.589802, -26.236189, -26.22722, -26.224554, -26.22577, -26.226715, -26.224335, -26.221401, -26.225636, -23.694818, -23.694242, -23.699776, -22.87119, -21.185991, -21.174103, -21.179684, -21.181047, -21.178232, -21.188818, -27.0977, -27.0977, -27.097738, -20.28156, -23.52372, -23.527119, -23.522099, -23.5273, -23.52615, -23.52695, -23.613377, -23.606562, -23.263908, -23.2579, -23.2579, -23.261131, -28.677755, -28.679184, -28.675564, -28.675564, -28.679352, -28.675999, -28.675728, -28.673779, -25.433624, -25.426554, -25.422411, -25.431004, -25.43264, -25.43031, -22.028032, -22.035332, -22.030457, -22.027544, -22.027166, -22.037088, -21.11643, -25.4114, -25.403938, -23.522802, -23.521694, -23.52293, -23.527119, -28.289162, -28.285913, -23.552721, -23.6761, -23.681576, -23.685116, -23.682667, -23.691977, -23.68797, -23.68989, -25.394272, -25.394127, -25.393038, -25.391653, -25.405964, -23.25374, -23.241385, -23.442997, -23.4511, -23.44149, -23.4511, -23.448826, -23.478584, -23.470898, -23.447586, -23.633795, -23.62938, -23.631422, -23.631334, -25.433664, -25.429321, -25.43343, -23.755419, -23.846, -23.805393, -23.80305, -23.82612, -23.83634, -23.84207, -23.787153, -23.833023, -23.763952, -23.766521, -23.832027, -23.842363, -23.841944, -23.84878, -23.832432, -23.824661, -23.816486, -19.868053, -19.865456, -19.874266, -19.86128, -26.988892, -26.996204, -26.997131, -27.000822, -27.00344, -26.995544, -26.983667, -26.988754, -26.976309, -26.976582, -27.001669, -26.996088, -26.999865, -26.99139, -26.98807, -26.996204, -26.98225, -26.990282, -26.990385, -26.996525, -26.99391, -26.988182, -27.004639, -27.002064, -26.977135, -26.976675, -26.984571, -25.4348, -22.028704, -22.030361, -22.034155, -22.781807, -22.787914, -22.777412, -22.786377, -22.785812, -22.786642, -22.781078, -22.721004, -22.752062, -22.722046, -22.714205, -22.737047, -22.737673, -22.747227, -22.745255, -22.748259, -20.413774, -20.422968, -20.413658, -20.415926, -20.427876, -20.40482, -24.717129, -24.700344, -24.7117, -24.71351, -24.697365, -23.533955, -23.53803, -3.73385, -3.7365942, -22.734064, -22.75574, -22.720442, -22.72237, -22.713387, -22.751965, -22.719995, -22.748259, -21.176958, -21.182062, -21.18256, -21.179882, -21.181047, -21.177876, -21.184532, -22.975906, -22.972015, -22.972914, -22.975735, -22.9759, -22.973019, -22.975735, -22.97487, -22.9752, -25.428938, -25.42385, -25.421791, -25.419363, -25.462385, -25.45996, -20.423222, -20.42084, -20.410614, -20.407438, -20.412977, -20.412304, -23.540182, -23.311026, -23.387175, -23.316833, -23.330553, -23.313992, -23.319822, -23.325817, -23.318577, -23.405743, -23.309528, -23.302975, -23.311941, -23.387175, -23.35126, -23.3865, -23.706013, -23.719671, -23.715378, -23.719606, -23.716404, -23.695011, -23.470081, -23.47143, -23.682709, -23.685804, -23.688496, -23.678078, -23.678776, -23.685947, -23.692507, -23.683075, -23.68797, -23.678799, -23.686363, -23.691082, -30.001184, -30.002945, -30.005453, -30.014257, -30.003351, -22.210497, -22.207613, -22.213161, -22.210947, -23.129572, -23.123007, -23.13266, -23.079992, -23.086004, -23.084959, -23.086105, -23.083063, -23.08058, -23.08799, -23.093842, -23.460981, -23.310894, -23.31544, -23.312849, -23.326897, -23.32555, -23.313833, -23.314896, -23.323463, -23.310783, -21.179901, -21.180607, -21.184923, -21.184427, -21.180225, -21.184532, -21.179619, -21.177452, -25.393835, -25.48187, -25.475634, -25.478996, -25.563066, -19.875639, -19.869394, -19.874496, -19.862082, -23.607597, -18.944143, -18.916565, -18.918356, -18.915333, -18.919785, -18.93342, -18.944357, -18.940697, -18.917763, -18.918518, -18.928904, -18.914804, -18.92354, -18.934536, -18.921556, -18.918528, -18.925682, -18.9229, -18.92672, -18.912996, -18.914865, -18.930857, -18.913437, -18.930347, -18.914528, -19.851906, -19.852148, -19.850943, -19.852184, -23.522415, -23.522898, -23.522394, -23.522518, -23.606209, -23.603876, -23.606344, -29.723566, -29.690285, -29.700562, -29.699188, -29.690304, -25.512445, -27.696075, -27.680386, -27.681602, -27.694923, -21.68386, -21.714691, -21.68647, -21.68696, -21.701681, -21.69382, -21.67521, -23.305979, -23.303953, -23.309109, -23.30886, -21.20468, -22.526329, -22.50888, -22.524284, -18.777235, -18.781002, -18.77066, -18.780209, -18.772493, -18.77157, -18.77246, -18.774843, -22.815691, -22.823368, -23.487335, -23.485756, -22.896713, -22.89825, -22.898943, -22.90571, -22.8996, -22.899338, -22.898943, -22.896206, -22.896423, -22.896109, -22.897993, -22.89795, -22.89897, -23.441872, -23.450417, -23.425383, -23.424496, -23.427479, -23.422295, -20.71113, -20.718372, -20.719185, -20.705221, -20.719143, -20.715834, -20.72393, -20.69806, -20.717497, -26.990282, -27.000822, -26.999697, -26.985764, -27.000525, -26.994003, -26.99562, -26.995152, -26.98915, -26.978243, -26.99104, -26.995287, -27.00498, -26.98951, -26.99562, -26.99104, -26.978386, -26.97846, -27.001722, -26.987286, -26.99391, -27.684174, -27.681034, -27.679663, -27.696243, -27.673182, -23.65814, -23.66007, -23.64401, -23.65219, -23.650139, -23.657923, -23.65219, -23.658056, -23.653107, -21.789965, -21.798862, -21.79073, -21.791101, -21.782953, -21.791101, -21.786715, -21.792873, -21.799768, -21.792269, -21.7801, -21.786707, -21.786676, -23.683617, -23.67295, -23.685879, -23.689344, -20.555151, -20.552452, -20.552168, -20.565779, -20.564182, -20.55942, -20.561016, -20.554201, -20.561459, -20.558352, -20.563498, -20.55921, -26.96065, -26.951857, -26.96952, -26.960888, -27.218431, -27.216633, -27.209812, -27.21092, -27.215353, -27.218304, -27.21092, -3.1367457, -3.1356227, -23.428108, -23.425383, -23.429615, -23.427057, -23.44161, -23.437975, -23.422083, -23.127983, -23.1434, -23.140642, -23.13452, -22.57121, -29.685726, -29.704342, -29.692093, -29.699846, -29.699081, -14.216573, -14.225026, -14.228835, -14.216404, -14.225555, -14.2257395, -14.212507, -14.217846, -14.214734, -25.494694, -25.49991, -25.482344, -21.176445, -21.173004, -21.17529, -21.189222, -21.18503, -21.17912, -21.179388, -21.180498, -21.18124, -21.17932, -21.18307, -21.181164, -23.619965, -23.625113, -21.178648, -21.175571, -21.182718, -21.179207, -21.178757, -23.528507, -23.181341, -23.17806, -23.179226, -23.175615, -23.17862, -23.172981, -23.17719, -23.173744, -23.174541, -23.18689, -23.424496, -23.427029, -23.423752, -23.436737, -23.43671, -23.427479, -23.437088, -23.437975, -23.428267, -22.594671, -22.588491, -23.473387, -23.473957, -23.475327, -21.435837, -22.359056, -22.358288, -22.349457, -22.201527, -22.73976, -22.753948, -25.43792, -25.441185, -25.435755, -25.440351, -25.436243, -25.43542, -25.474483, -25.563013, -25.475634, -25.481205, -25.481205, -21.172026, -21.18649, -21.186037, -21.183851, -21.176958, -21.179619, -23.425398, -23.436794, -23.436737, -23.428108, -23.427313, -23.42067, -23.424719, -23.50644, -29.632267, -29.6284, -29.64258, -29.638271, -29.63422, -29.640306, -19.853554, -19.867321, -19.872917, -19.873259, -19.851175, -23.320923, -23.321913, -23.315493, -23.322168, -23.31551, -23.321917, -23.311935, -23.314896, -23.319216, -23.521624, -22.93353, -22.938383, -22.93288, -22.938383, -22.933693, -22.935614, -22.938383, -23.316822, -23.323084, -23.314734, -23.313368, -23.325552, -23.321917, -23.32087, -23.314283, -23.313334, -23.31086, -23.32368, -23.32599, -22.36555, -22.363302, -22.364004, -22.353413, -20.951385, -8.050472, -8.049226, -8.047889, -15.84225, -15.840689, -16.765652, -22.288576, -22.285261, -22.285915, -22.300482, -22.2871, -22.285835, -22.29477, -25.44691, -25.445969]\n"
     ]
    }
   ],
   "source": [
    "lat_list = df_heat[\"lat\"].to_list()\n",
    "lng_list = df_heat[\"lng\"].to_list()\n",
    "print(lat_list)"
   ]
  },
  {
   "cell_type": "markdown",
   "id": "3b5c2d75",
   "metadata": {},
   "source": [
    "Exibindo o mapa de calor"
   ]
  },
  {
   "cell_type": "code",
   "execution_count": 35,
   "id": "a5dec8b5",
   "metadata": {
    "scrolled": true
   },
   "outputs": [
    {
     "data": {
      "text/html": [
       "<div style=\"width:100%;\"><div style=\"position:relative;width:100%;height:0;padding-bottom:60%;\"><span style=\"color:#565656\">Make this Notebook Trusted to load map: File -> Trust Notebook</span><iframe srcdoc=\"&lt;!DOCTYPE html&gt;\n",
       "&lt;html&gt;\n",
       "&lt;head&gt;\n",
       "    \n",
       "    &lt;meta http-equiv=&quot;content-type&quot; content=&quot;text/html; charset=UTF-8&quot; /&gt;\n",
       "    \n",
       "        &lt;script&gt;\n",
       "            L_NO_TOUCH = false;\n",
       "            L_DISABLE_3D = false;\n",
       "        &lt;/script&gt;\n",
       "    \n",
       "    &lt;style&gt;html, body {width: 100%;height: 100%;margin: 0;padding: 0;}&lt;/style&gt;\n",
       "    &lt;style&gt;#map {position:absolute;top:0;bottom:0;right:0;left:0;}&lt;/style&gt;\n",
       "    &lt;script src=&quot;https://cdn.jsdelivr.net/npm/leaflet@1.9.3/dist/leaflet.js&quot;&gt;&lt;/script&gt;\n",
       "    &lt;script src=&quot;https://code.jquery.com/jquery-3.7.1.min.js&quot;&gt;&lt;/script&gt;\n",
       "    &lt;script src=&quot;https://cdn.jsdelivr.net/npm/bootstrap@5.2.2/dist/js/bootstrap.bundle.min.js&quot;&gt;&lt;/script&gt;\n",
       "    &lt;script src=&quot;https://cdnjs.cloudflare.com/ajax/libs/Leaflet.awesome-markers/2.0.2/leaflet.awesome-markers.js&quot;&gt;&lt;/script&gt;\n",
       "    &lt;link rel=&quot;stylesheet&quot; href=&quot;https://cdn.jsdelivr.net/npm/leaflet@1.9.3/dist/leaflet.css&quot;/&gt;\n",
       "    &lt;link rel=&quot;stylesheet&quot; href=&quot;https://cdn.jsdelivr.net/npm/bootstrap@5.2.2/dist/css/bootstrap.min.css&quot;/&gt;\n",
       "    &lt;link rel=&quot;stylesheet&quot; href=&quot;https://netdna.bootstrapcdn.com/bootstrap/3.0.0/css/bootstrap-glyphicons.css&quot;/&gt;\n",
       "    &lt;link rel=&quot;stylesheet&quot; href=&quot;https://cdn.jsdelivr.net/npm/@fortawesome/fontawesome-free@6.2.0/css/all.min.css&quot;/&gt;\n",
       "    &lt;link rel=&quot;stylesheet&quot; href=&quot;https://cdnjs.cloudflare.com/ajax/libs/Leaflet.awesome-markers/2.0.2/leaflet.awesome-markers.css&quot;/&gt;\n",
       "    &lt;link rel=&quot;stylesheet&quot; href=&quot;https://cdn.jsdelivr.net/gh/python-visualization/folium/folium/templates/leaflet.awesome.rotate.min.css&quot;/&gt;\n",
       "    \n",
       "            &lt;meta name=&quot;viewport&quot; content=&quot;width=device-width,\n",
       "                initial-scale=1.0, maximum-scale=1.0, user-scalable=no&quot; /&gt;\n",
       "            &lt;style&gt;\n",
       "                #map_9e82d8ce41dba36be8bf7e73f61f89fe {\n",
       "                    position: relative;\n",
       "                    width: 100.0%;\n",
       "                    height: 100.0%;\n",
       "                    left: 0.0%;\n",
       "                    top: 0.0%;\n",
       "                }\n",
       "                .leaflet-container { font-size: 1rem; }\n",
       "            &lt;/style&gt;\n",
       "        \n",
       "    &lt;script src=&quot;https://cdn.jsdelivr.net/gh/python-visualization/folium@main/folium/templates/leaflet_heat.min.js&quot;&gt;&lt;/script&gt;\n",
       "&lt;/head&gt;\n",
       "&lt;body&gt;\n",
       "    \n",
       "    \n",
       "            &lt;div class=&quot;folium-map&quot; id=&quot;map_9e82d8ce41dba36be8bf7e73f61f89fe&quot; &gt;&lt;/div&gt;\n",
       "        \n",
       "&lt;/body&gt;\n",
       "&lt;script&gt;\n",
       "    \n",
       "    \n",
       "            var map_9e82d8ce41dba36be8bf7e73f61f89fe = L.map(\n",
       "                &quot;map_9e82d8ce41dba36be8bf7e73f61f89fe&quot;,\n",
       "                {\n",
       "                    center: [-23.5489, -46.6388],\n",
       "                    crs: L.CRS.EPSG3857,\n",
       "                    zoom: 4,\n",
       "                    zoomControl: true,\n",
       "                    preferCanvas: false,\n",
       "                }\n",
       "            );\n",
       "\n",
       "            \n",
       "\n",
       "        \n",
       "    \n",
       "            var tile_layer_5af88c07af785c991754a0d53b643cc2 = L.tileLayer(\n",
       "                &quot;https://tile.openstreetmap.org/{z}/{x}/{y}.png&quot;,\n",
       "                {&quot;attribution&quot;: &quot;\\u0026copy; \\u003ca href=\\&quot;https://www.openstreetmap.org/copyright\\&quot;\\u003eOpenStreetMap\\u003c/a\\u003e contributors&quot;, &quot;detectRetina&quot;: false, &quot;maxNativeZoom&quot;: 19, &quot;maxZoom&quot;: 19, &quot;minZoom&quot;: 0, &quot;noWrap&quot;: false, &quot;opacity&quot;: 1, &quot;subdomains&quot;: &quot;abc&quot;, &quot;tms&quot;: false}\n",
       "            );\n",
       "        \n",
       "    \n",
       "            tile_layer_5af88c07af785c991754a0d53b643cc2.addTo(map_9e82d8ce41dba36be8bf7e73f61f89fe);\n",
       "        \n",
       "    \n",
       "            var heat_map_66f4cfa9009783d191429f2a5152e4f6 = L.heatLayer(\n",
       "                [[-22.97913, -47.000473], [-21.99465, -47.856876], [-22.003489, -47.8539], [-22.00355, -47.856823], [-21.7471, -48.831432], [-21.75836, -48.81582], [-21.759016, -48.82989], [-21.753855, -48.828423], [-21.757717, -48.83231], [-21.760866, -48.82034], [-21.74872, -48.84321], [-21.768026, -48.80935], [-21.750257, -48.831757], [-21.746813, -48.817047], [-21.748966, -48.82776], [-21.772173, -48.82369], [-21.774868, -48.81954], [-21.753506, -48.81937], [-21.757952, -48.834496], [-21.762287, -48.82983], [-21.754925, -48.843525], [-21.75086, -48.83783], [-21.751472, -48.836044], [-21.764753, -48.823177], [-21.281208, -50.34833], [-21.30318, -50.335094], [-21.289543, -50.35385], [-21.296738, -50.350086], [-21.29878, -50.34724], [-21.295654, -50.340343], [-21.291655, -50.349693], [-21.308088, -50.338196], [-21.749937, -48.824524], [-21.746813, -48.817047], [-21.747807, -48.841316], [-21.751348, -48.84095], [-21.768127, -48.84396], [-21.750795, -48.82531], [-21.753874, -48.827805], [-21.756401, -48.82908], [-21.756306, -48.82954], [-21.768026, -48.80935], [-21.750114, -48.836067], [-23.572027, -46.66115], [-23.571762, -46.659462], [-23.5748, -46.658142], [-23.572647, -46.660515], [-21.751307, -48.82881], [-21.759838, -48.826946], [-21.756739, -48.827164], [-21.754047, -48.81717], [-21.745007, -48.814423], [-21.75861, -48.823124], [-21.748545, -48.8146], [-21.763147, -48.825867], [-21.738056, -48.823753], [-21.734663, -48.814808], [-22.926819, -43.21285], [-22.93013, -43.20911], [-22.921307, -43.212955], [-22.918955, -43.210217], [-22.929544, -43.208424], [-22.933134, -43.20922], [-22.925316, -43.21448], [-22.925077, -43.22261], [-22.926104, -43.209362], [-22.928757, -43.209152], [-22.919273, -43.210598], [-22.923159, -43.221222], [-21.186642, -47.804924], [-21.21044, -47.804737], [-21.199694, -47.808136], [-21.188606, -47.80119], [-21.19101, -47.801952], [-21.185534, -47.801365], [-21.210104, -47.80139], [-21.207245, -47.810394], [-21.206089, -47.805286], [-21.210104, -47.80139], [-21.204584, -47.804283], [-21.204693, -47.808273], [-21.205822, -47.794525], [-23.539257, -46.633442], [-23.536894, -47.468624], [-23.531086, -47.462837], [-23.533655, -47.47155], [-23.540113, -47.472088], [-21.754868, -48.838905], [-21.75836, -48.81582], [-21.751501, -48.82886], [-21.753048, -48.82707], [-21.759687, -48.812122], [-21.765118, -48.82743], [-21.762522, -48.82631], [-21.756899, -48.831665], [-21.763147, -48.825867], [-21.757952, -48.834496], [-21.757761, -48.835396], [-21.753855, -48.828423], [-21.751165, -48.83925], [-21.759605, -48.833847], [-21.859303, -47.483368], [-21.86411, -47.472126], [-21.841013, -47.4677], [-21.853437, -47.452732], [-21.851938, -47.4798], [-21.869226, -47.46969], [-21.848919, -47.475266], [-21.868273, -47.47929], [-21.85265, -47.505325], [-21.85153, -47.463825], [-21.869425, -47.4848], [-21.866835, -47.46802], [-21.863499, -47.48211], [-23.669647, -46.512196], [-23.672386, -46.49806], [-23.672245, -46.513424], [-23.66599, -46.508198], [-23.666618, -46.50798], [-23.552965, -46.572586], [-23.553394, -46.570618], [-23.553719, -46.57387], [-23.531958, -47.470108], [-23.542898, -47.472458], [-23.533655, -47.47155], [-23.536781, -47.467518], [-23.532742, -47.466236], [-23.534012, -47.467354], [-21.754732, -48.836044], [-21.765118, -48.82743], [-21.76782, -48.826515], [-21.758562, -48.832172], [-21.755644, -48.83814], [-21.76842, -48.83644], [-23.965553, -46.32059], [-23.965435, -46.323544], [-23.96687, -46.31941], [-23.975313, -46.319023], [-23.970856, -46.325607], [-23.972975, -46.323116], [-23.969835, -46.325695], [-23.976507, -46.31353], [-23.968082, -46.322876], [-23.970911, -46.328175], [-23.97035, -46.323193], [-23.972702, -46.323498], [-23.968046, -46.32191], [-23.975313, -46.319023], [-21.753822, -48.835503], [-21.749352, -48.81534], [-21.757803, -48.8333], [-21.76842, -48.83644], [-21.756739, -48.827164], [-21.75259, -48.843536], [-21.75942, -48.834854], [-21.760214, -48.833054], [-21.746279, -48.8367], [-21.754595, -48.828487], [-21.758932, -48.83561], [-25.553602, -49.270805], [-25.551191, -49.26122], [-25.549625, -49.26764], [-25.55259, -49.26971], [-22.243608, -49.92737], [-22.236208, -49.92393], [-21.761337, -48.83526], [-21.747002, -48.819782], [-21.748552, -48.82114], [-21.748943, -48.841133], [-21.76842, -48.83644], [-21.751038, -48.831966], [-21.756306, -48.82954], [-21.75086, -48.83783], [-21.748903, -48.814598], [-23.534357, -46.649357], [-23.537663, -46.647137], [-23.537931, -46.646095], [-23.535412, -46.651096], [-22.74746, -46.894535], [-22.721645, -46.89551], [-22.738644, -46.884937], [-22.74432, -46.89852], [-22.741104, -46.876064], [-22.749136, -46.89255], [-22.733023, -46.890835], [-22.732435, -46.89154], [-22.732094, -46.894], [-20.165632, -44.857048], [-20.176144, -44.867943], [-20.120968, -44.89333], [-20.133575, -44.88657], [-20.141708, -44.892807], [-20.141077, -44.888462], [-20.144913, -44.898098], [-20.141733, -44.89153], [-20.133583, -44.886692], [-20.163013, -44.861065], [-20.147814, -44.892216], [-20.145632, -44.89718], [-20.142012, -44.884426], [-20.134626, -44.89426], [-20.141733, -44.89153], [-20.142868, -44.89079], [-20.146755, -44.892197], [-20.129757, -44.884285], [-20.148165, -44.88836], [-20.140165, -44.886005], [-20.121918, -44.885918], [-20.120537, -44.8776], [-20.135775, -44.86997], [-20.145615, -44.881866], [-20.145628, -44.88791], [-20.132055, -44.86257], [-20.147232, -44.89669], [-20.146755, -44.892197], [-20.144888, -44.89058], [-20.12787, -44.882084], [-20.133963, -44.887436], [-20.155891, -44.872307], [-20.166729, -44.86139], [-20.146235, -44.889732], [-22.47189, -47.476128], [-22.479982, -47.466145], [-22.478851, -47.468403], [-22.492317, -47.450985], [-16.341711, -48.953335], [-25.346996, -49.226616], [-22.916393, -43.17769], [-22.914438, -43.17941], [-22.739613, -46.895645], [-22.740992, -46.87988], [-22.746172, -46.888237], [-22.740662, -46.894398], [-22.744081, -46.900467], [-22.732141, -46.89408], [-22.724628, -46.89316], [-22.743958, -46.897316], [-22.721642, -46.89369], [-22.749115, -46.91421], [-21.85496, -47.483704], [-21.842566, -47.479595], [-21.859703, -47.488953], [-21.85672, -47.473484], [-21.861612, -47.450962], [-21.872442, -47.479202], [-21.855797, -47.47251], [-21.291658, -50.341595], [-21.297247, -50.341217], [-21.2968, -50.340115], [-22.843758, -43.28063], [-22.842974, -43.271008], [-22.847275, -43.273888], [-23.954643, -46.323654], [-23.962212, -46.31149], [-23.957714, -46.314743], [-23.959919, -46.31622], [-23.952665, -46.32744], [-23.962872, -46.310425], [-23.959919, -46.31622], [-23.951723, -46.32372], [-23.961887, -46.311462], [-23.961819, -46.308575], [-23.9332, -46.320496], [-23.956009, -46.31981], [-23.9537, -46.31663], [-23.948446, -46.32466], [-23.962872, -46.310425], [-22.928293, -43.23584], [-22.92949, -43.238613], [-22.923885, -43.22879], [-22.932177, -43.24011], [-22.926739, -43.229126], [-22.932205, -43.24055], [-22.925087, -43.225555], [-22.92506, -43.22508], [-22.924921, -43.233902], [-22.924898, -43.224777], [-22.922457, -43.221893], [-22.928753, -43.239536], [-22.922403, -43.22192], [-22.928606, -43.236546], [-22.929148, -43.23921], [-22.926363, -43.22802], [-22.92684, -43.2401], [-22.924128, -43.232773], [-22.92573, -43.2336], [-20.83876, -41.163647], [-21.854206, -47.477192], [-21.85489, -47.481037], [-21.859869, -47.499237], [-21.841013, -47.4677], [-21.857443, -47.489155], [-21.864685, -47.489105], [-21.862335, -47.487804], [-21.852062, -47.47891], [-21.869226, -47.46969], [-21.855797, -47.47251], [-21.84105, -47.47997], [-21.857473, -47.451756], [-21.853518, -47.49246], [-21.85489, -47.481037], [-21.854399, -47.479103], [-21.857344, -47.482433], [-20.136185, -44.892635], [-20.121462, -44.884266], [-20.139189, -44.864826], [-20.147993, -44.88191], [-20.132477, -44.886433], [-20.13512, -44.887207], [-20.134628, -44.886456], [-20.117626, -44.880363], [-20.141394, -44.88631], [-20.163729, -44.852516], [-20.138725, -44.89392], [-20.150757, -44.856236], [-20.14507, -44.89798], [-20.140495, -44.88707], [-20.145355, -44.887806], [-20.148077, -44.89796], [-20.141176, -44.894432], [-20.143248, -44.89872], [-20.145662, -44.8897], [-20.142914, -44.891888], [-20.13422, -44.885593], [-20.131628, -44.875908], [-20.148386, -44.88132], [-20.166254, -44.852238], [-20.132055, -44.86257], [-20.143085, -44.87365], [-20.133963, -44.887436], [-20.13326, -44.893303], [-20.120852, -44.87748], [-20.136429, -44.893517], [-20.132362, -44.887833], [-20.146494, -44.900158], [-20.143812, -44.889126], [-20.148418, -44.89712], [-22.848581, -43.28107], [-22.847347, -43.27398], [-22.844738, -43.27929], [-22.849396, -43.289722], [-22.843428, -43.283447], [-22.839943, -43.280598], [-22.83997, -43.28295], [-22.839483, -43.282505], [-22.83813, -43.28559], [-22.840935, -43.283024], [-22.840296, -43.28442], [-22.842657, -43.285854], [-27.596153, -48.544624], [-27.59412, -48.546253], [-27.594986, -48.54504], [-27.596357, -48.545895], [-23.955946, -46.33778], [-23.96508, -46.344353], [-23.967426, -46.338913], [-23.965454, -46.344334], [-23.967718, -46.348434], [-23.967701, -46.35477], [-23.967896, -46.343266], [-23.964493, -46.34088], [-23.953672, -46.33718], [-23.96615, -46.34853], [-23.968147, -46.35125], [-23.962912, -46.339733], [-23.96792, -46.342907], [-23.96845, -46.337784], [-21.754868, -48.838905], [-21.756739, -48.827164], [-21.769512, -48.83749], [-21.765072, -48.831303], [-21.760214, -48.833054], [-21.760592, -48.81332], [-21.754925, -48.843525], [-21.754139, -48.84341], [-23.256414, -47.3251], [-23.25698, -47.326225], [-21.751307, -48.82881], [-21.757431, -48.82968], [-21.769138, -48.827827], [-21.759418, -48.828735], [-21.76138, -48.81768], [-21.76842, -48.83644], [-21.760214, -48.833054], [-21.76905, -48.824585], [-21.755283, -48.833035], [-21.748148, -48.835236], [-21.760906, -48.829704], [-21.765913, -48.83136], [-23.585579, -46.518185], [-25.877085, -48.57263], [-25.94628, -48.59399], [-25.880266, -48.59938], [-25.891031, -48.578148], [-25.880388, -48.60172], [-25.892035, -48.593727], [-25.876032, -48.569965], [-25.887331, -48.576862], [-22.865187, -43.467354], [-22.869486, -43.466675], [-22.861765, -43.467377], [-21.290142, -50.3429], [-21.30204, -50.343937], [-21.296791, -50.34113], [-21.300716, -50.339844], [-21.298647, -50.348976], [-21.296738, -50.350086], [-21.286774, -50.348194], [-21.283787, -50.34866], [-21.285604, -50.344], [-21.29406, -50.33919], [-22.64297, -47.05378], [-22.633783, -47.057262], [-22.641685, -47.0571], [-21.296713, -50.344], [-21.281208, -50.34833], [-21.29343, -50.355], [-21.299263, -50.334206], [-21.288116, -50.342743], [-21.298647, -50.348976], [-21.29698, -50.341232], [-21.302898, -50.34407], [-21.285767, -50.347908], [-23.661652, -46.44668], [-23.65312, -46.439728], [-23.654371, -46.439854], [-23.658644, -46.43666], [-21.860106, -47.481182], [-21.860205, -47.485397], [-21.85679, -47.472347], [-21.855679, -47.488747], [-21.861135, -47.45093], [-20.135424, -44.86916], [-20.144436, -44.89952], [-20.125319, -44.88389], [-20.146618, -44.892982], [-20.13681, -44.89085], [-20.121433, -44.89294], [-20.142534, -44.891857], [-20.145355, -44.887806], [-20.173342, -44.871544], [-20.147457, -44.891], [-20.146526, -44.88076], [-20.13996, -44.892193], [-20.141136, -44.88712], [-20.148432, -44.882793], [-20.139801, -44.89788], [-20.150774, -44.882942], [-20.14012, -44.89405], [-20.1556, -44.860027], [-20.1488, -44.88795], [-20.129333, -44.887848], [-20.158304, -44.871925], [-23.539257, -46.633442], [-23.53984, -46.630264], [-26.26487, -48.80406], [-26.260725, -48.804394], [-26.269012, -48.803806], [-26.256968, -48.805244], [-26.257982, -48.798584], [-26.265923, -48.805393], [-3.7200668, -38.590973], [-3.7206128, -38.589294], [-23.181217, -45.869965], [-23.18702, -45.874367], [-23.184671, -45.875504], [-24.73193, -53.73921], [-24.724646, -53.743134], [-24.72551, -53.742138], [-24.723875, -53.73732], [-22.72947, -46.89643], [-22.718966, -46.89221], [-22.744793, -46.89046], [-22.740522, -46.89392], [-22.742054, -46.90212], [-22.73272, -46.896477], [-22.735106, -46.892727], [-22.714148, -46.895706], [-22.750288, -46.89345], [-22.734035, -46.89889], [-22.741348, -46.904877], [-22.742485, -46.898438], [-22.713985, -46.894306], [-22.740679, -46.894455], [-21.760866, -48.82034], [-21.766462, -48.83142], [-21.763002, -48.828583], [-21.765661, -48.835815], [-21.753048, -48.82707], [-21.746572, -48.831207], [-21.768026, -48.80935], [-21.761402, -48.83207], [-21.751472, -48.836044], [-21.761217, -48.81887], [-21.75565, -48.84144], [-21.748487, -48.83932], [-21.76842, -48.83644], [-21.759687, -48.812122], [-21.76667, -48.826744], [-21.749569, -48.820152], [-21.752886, -48.84334], [-21.758932, -48.83561], [-21.749748, -48.81956], [-21.758717, -48.831783], [-21.76842, -48.83644], [-21.127983, -49.014973], [-24.988417, -53.481567], [-24.989016, -53.495842], [-21.199818, -47.802116], [-21.204115, -47.80979], [-21.209854, -47.80601], [-21.207811, -47.806114], [-21.205822, -47.794525], [-21.207397, -47.807426], [-21.195707, -47.79976], [-21.20792, -47.803493], [-21.209885, -47.80261], [-21.205057, -47.803936], [-21.206142, -47.808002], [-23.60781, -46.92478], [-23.604685, -46.912945], [-23.604603, -46.913986], [-23.614399, -46.91878], [-23.6116, -46.913074], [-23.605808, -46.917362], [-23.60569, -46.916462], [-23.606956, -46.920277], [-21.768593, -48.822567], [-21.75259, -48.843536], [-21.761093, -48.820038], [-21.757803, -48.8333], [-21.750212, -48.81773], [-29.685514, -53.801117], [-29.684362, -53.797913], [-29.694008, -53.799377], [-29.692257, -53.79372], [-29.698683, -53.793175], [-29.687387, -53.804386], [-29.694977, -53.79457], [-29.689915, -53.802], [-29.690178, -53.800163], [-29.685457, -53.7975], [-29.69069, -53.803288], [-29.689232, -53.803326], [-29.698605, -53.794502], [-29.882015, -51.176003], [-29.899715, -51.2331], [-22.329222, -43.131683], [-22.336763, -43.125397], [-21.853127, -47.48207], [-21.860256, -47.451515], [-21.855797, -47.47251], [-21.850994, -47.491398], [-21.860106, -47.481182], [-21.857473, -47.451756], [-21.85394, -47.465824], [-21.851776, -47.489502], [-21.841679, -47.46909], [-21.859665, -47.452908], [-21.857689, -47.48461], [-21.839878, -47.480427], [-21.850052, -47.462948], [-21.879717, -47.485516], [-21.857344, -47.482433], [-21.760675, -48.847656], [-21.748943, -48.82705], [-21.743092, -48.835888], [-21.768026, -48.80935], [-21.748148, -48.835236], [-23.663895, -46.434765], [-23.65392, -46.440895], [-23.664644, -46.435207], [-23.668388, -46.442528], [-23.654257, -46.44191], [-23.663961, -46.433804], [-23.65256, -46.441463], [-23.658049, -46.44789], [-23.654612, -46.437122], [-23.65407, -46.43779], [-23.561478, -46.47464], [-23.555836, -46.482384], [-23.559603, -46.47694], [-23.56258, -46.468494], [-23.556484, -46.48242], [-23.556097, -46.48239], [-23.56478, -46.476734], [-23.562576, -46.4789], [-23.501837, -47.431156], [-23.505432, -47.427906], [-23.504196, -47.422073], [-23.501495, -47.428024], [-23.502085, -47.435024], [-21.20482, -47.797043], [-21.206865, -47.806595], [-21.205978, -47.796856], [-21.192303, -47.806885], [-21.1952, -47.801704], [-21.190285, -47.799664], [-21.203419, -47.79725], [-21.20792, -47.803493], [-21.20951, -47.791626], [-21.208776, -47.806892], [-21.203367, -47.798748], [-21.195427, -47.80173], [-21.206648, -47.80057], [-21.21122, -47.81237], [-21.205477, -47.79642], [-22.903173, -43.563946], [-22.906414, -43.56967], [-22.905155, -43.574146], [-22.903801, -43.56637], [-22.906696, -43.560932], [-22.905804, -43.565628], [-23.60781, -46.92478], [-23.614399, -46.91878], [-23.604883, -46.91333], [-23.606815, -46.921146], [-23.606853, -46.914867], [-23.614399, -46.91878], [-23.60686, -46.915825], [-23.552168, -46.638874], [-23.551563, -46.640213], [-23.5531, -46.64218], [-23.551695, -46.639523], [-21.862679, -47.483677], [-21.865541, -47.475346], [-21.859344, -47.48581], [-23.537151, -46.198082], [-23.533327, -46.20578], [-23.546322, -46.200996], [-23.531734, -46.20391], [-23.545221, -46.19942], [-23.532658, -46.204224], [-26.471455, -49.132732], [-26.470726, -49.107456], [-23.451797, -46.728535], [-23.445936, -46.72971], [-23.450094, -46.729214], [-23.450453, -46.731674], [-22.92684, -43.2401], [-22.923315, -43.230736], [-22.924911, -43.22627], [-22.926353, -43.228085], [-22.922457, -43.221893], [-22.926096, -43.23492], [-22.922457, -43.221893], [-22.92522, -43.234287], [-22.92709, -43.240055], [-22.924915, -43.23153], [-22.924911, -43.226185], [-22.926329, -43.229675], [-22.924162, -43.22371], [-22.924446, -43.232], [-22.92515, -43.225273], [-23.527111, -46.69837], [-23.52713, -46.691574], [-23.527056, -46.69765], [-23.527056, -46.69765], [-23.527132, -46.691612], [-23.527111, -46.69837], [-23.527094, -46.702053], [-23.527077, -46.696484], [-23.52713, -46.695015], [-23.762825, -53.297466], [-23.759401, -53.298058], [-23.756727, -53.29766], [-21.301016, -50.336727], [-21.303194, -50.33339], [-21.30083, -50.339832], [-21.30042, -50.346073], [-21.29242, -50.34424], [-21.290478, -50.343002], [-21.292202, -50.340687], [-21.295742, -50.344456], [-21.289682, -50.341656], [-21.286604, -50.345478], [-21.295319, -50.348312], [-22.937971, -47.00261], [-22.952967, -47.013824], [-22.943764, -46.99362], [-22.95698, -47.012627], [-22.956509, -47.010048], [-21.762924, -48.829838], [-21.74872, -48.84321], [-21.757046, -48.83102], [-21.75954, -48.84804], [-21.76139, -48.830353], [-21.753046, -48.835804], [-21.757761, -48.835396], [-21.754745, -48.839573], [-21.774868, -48.81954], [-21.754139, -48.84341], [-21.757984, -48.826775], [-21.764753, -48.823177], [-21.758387, -48.826435], [-23.465513, -46.585175], [-23.609491, -46.73801], [-23.609728, -46.74194], [-23.609491, -46.73801], [-23.608421, -46.74159], [-22.278837, -48.123386], [-22.278772, -48.12416], [-22.267536, -48.11537], [-22.28988, -48.113712], [-22.28306, -48.12229], [-22.28124, -48.127712], [-21.748707, -48.82699], [-21.772173, -48.82369], [-21.751236, -48.841206], [-21.762283, -48.826374], [-21.753723, -48.824818], [-21.748943, -48.82705], [-21.758654, -48.827026], [-21.75455, -48.824657], [-21.758717, -48.831783], [-21.760906, -48.829704], [-21.746813, -48.817047], [-21.746851, -48.826157], [-21.749334, -48.81796], [-21.762974, -48.822807], [-21.76842, -48.83644], [-21.757952, -48.834496], [-21.75083, -48.82453], [-21.76698, -48.838604], [-21.759552, -48.830875], [-21.774868, -48.81954], [-23.593395, -46.757874], [-23.597734, -46.755283], [-23.59351, -46.76217], [-29.954647, -51.169064], [-29.957607, -51.17368], [-29.954826, -51.174133], [-29.945646, -51.158813], [-25.443348, -49.289757], [-25.435585, -49.28101], [-25.439896, -49.28488], [-25.435555, -49.27583], [-25.443773, -49.290737], [-25.434645, -49.28043], [-25.435736, -49.28084], [-25.435865, -49.2836], [-25.441433, -49.284927], [-25.437508, -49.277912], [-23.630222, -46.909786], [-23.60708, -46.916206], [-23.63028, -46.90924], [-27.6014, -48.545628], [-27.597637, -48.548065], [-27.59598, -48.542915], [-27.600176, -48.547565], [-27.595146, -48.545074], [-27.58764, -48.540596], [-27.595581, -48.54712], [-27.596718, -48.54622], [-21.749655, -48.83013], [-21.768326, -48.83637], [-21.741095, -48.838684], [-21.750622, -48.831497], [-21.774868, -48.81954], [-21.763271, -48.84381], [-21.757431, -48.82968], [-21.753555, -48.841187], [-21.75942, -48.834854], [-21.76891, -48.82417], [-21.759941, -48.837704], [-21.759258, -48.848392], [-21.758654, -48.827026], [-21.753822, -48.835503], [-21.769615, -48.827194], [-23.434345, -46.789604], [-25.433876, -49.278305], [-25.4387, -49.286102], [-25.437607, -49.278763], [-25.436556, -49.27658], [-25.43716, -49.27461], [-25.433443, -49.279453], [-25.438705, -49.278423], [-25.43903, -49.28815], [-23.66266, -46.717915], [-23.629742, -46.64448], [-25.549406, -54.57589], [-25.569462, -54.552425], [-25.55448, -54.537296], [-23.541044, -46.18405], [-23.543316, -46.192722], [-23.533516, -46.195557], [-23.53296, -46.195538], [-24.729948, -53.73793], [-24.724646, -53.742996], [-19.46334, -44.22131], [-19.450233, -44.224915], [-19.445513, -44.218487], [-19.447851, -44.211193], [-19.433502, -44.228706], [-19.436731, -44.23125], [-19.449041, -44.224022], [-19.47296, -44.228485], [-19.438791, -44.2379], [-19.477575, -44.24652], [-19.448576, -44.2236], [-31.748615, -52.335075], [-31.738762, -52.344242], [-31.761486, -52.339462], [-31.749434, -52.334454], [-31.751669, -52.33309], [-31.775753, -52.35038], [-31.75124, -52.34104], [-31.741096, -52.34583], [-31.755266, -52.343113], [-31.78179, -52.349213], [-31.758371, -52.331173], [-31.747923, -52.33733], [-31.74275, -52.347717], [-25.511417, -54.559914], [-19.601719, -46.92948], [-19.6106, -46.931538], [-19.605598, -46.92496], [-21.576618, -45.40112], [-19.95728, -44.196102], [-19.953133, -44.20344], [-19.947287, -44.194187], [-19.951483, -44.196762], [-19.956316, -44.19819], [-19.965456, -44.2043], [-19.938265, -44.19189], [-21.757265, -48.837017], [-21.769136, -48.829586], [-21.769512, -48.83749], [-21.758299, -48.81767], [-21.762909, -48.817486], [-21.757483, -48.823208], [-21.757952, -48.834496], [-21.746572, -48.831207], [-21.76782, -48.831375], [-21.774868, -48.81954], [-21.752459, -48.834854], [-23.50357, -46.637646], [-23.504335, -46.63614], [-23.50381, -46.640636], [-23.503757, -46.63908], [-23.50494, -46.639984], [-21.749937, -48.824524], [-21.757673, -48.82926], [-21.757046, -48.83102], [-21.748966, -48.82776], [-21.772173, -48.82369], [-21.742899, -48.838516], [-21.76667, -48.826744], [-21.757483, -48.823208], [-21.769482, -48.82844], [-21.759346, -48.848927], [-21.748503, -48.839184], [-21.757992, -48.83347], [-21.757978, -48.826813], [-21.75455, -48.824657], [-21.751944, -48.836163], [-21.76842, -48.83644], [-21.750257, -48.831757], [-21.76842, -48.83644], [-21.755457, -48.829704], [-21.759598, -48.819138], [-21.770712, -48.822144], [-21.75399, -48.832558], [-23.95661, -46.312523], [-23.951426, -46.3238], [-23.952665, -46.32744], [-23.961206, -46.30851], [-23.951649, -46.323563], [-23.945396, -46.327747], [-23.945812, -46.32134], [-23.945679, -46.324234], [-23.937544, -46.32088], [-23.950739, -46.32475], [-21.205978, -47.810917], [-21.18206, -47.801876], [-21.194513, -47.801205], [-21.207798, -47.802628], [-21.185787, -47.805073], [-21.20502, -47.807594], [-21.185013, -47.802547], [-21.183355, -47.801983], [-21.205294, -47.810604], [-21.201958, -47.7976], [-21.202967, -47.79919], [-21.204437, -47.79483], [-21.202051, -47.798805], [-21.2073, -47.810497], [-21.208776, -47.806892], [-22.816923, -47.044785], [-21.765902, -48.824482], [-21.758844, -48.82625], [-21.749655, -48.83013], [-21.75942, -48.834854], [-21.757803, -48.8333], [-21.757761, -48.835396], [-21.758932, -48.83561], [-21.75455, -48.824657], [-21.753506, -48.843143], [-21.765621, -48.826553], [-21.766478, -48.831547], [-22.943468, -46.998737], [-23.21385, -45.909798], [-23.224567, -45.91443], [-22.128687, -43.23521], [-21.851418, -47.488564], [-21.867867, -47.47183], [-21.85693, -47.48161], [-21.859798, -47.47356], [-21.85555, -47.482174], [-21.856539, -47.476143], [-21.85745, -47.451023], [-21.86973, -47.4848], [-21.861612, -47.450962], [-21.868456, -47.47379], [-21.867926, -47.47399], [-21.852453, -47.462204], [-22.725975, -43.4055], [-21.743092, -48.835888], [-21.76667, -48.826744], [-21.751165, -48.83925], [-21.750887, -48.81695], [-22.752867, -46.918694], [-22.74167, -46.909508], [-22.738644, -46.884937], [-22.753876, -46.915848], [-22.751518, -46.902493], [-22.714123, -46.894314], [-22.720486, -46.890713], [-22.74232, -46.90294], [-22.745125, -46.901535], [-22.750639, -46.89463], [-22.744244, -46.899677], [-22.73968, -46.91435], [-22.749817, -46.905552], [-22.713985, -46.894306], [-21.754732, -48.836044], [-21.748966, -48.82776], [-21.756739, -48.827164], [-21.762774, -48.824696], [-21.75431, -48.83082], [-21.762602, -48.816338], [-21.751287, -48.838654], [-21.75455, -48.824657], [-21.819061, -48.145706], [-21.803736, -48.129402], [-21.815742, -48.1434], [-24.988361, -53.481407], [-24.986666, -53.4934], [-19.953411, -44.20105], [-19.947767, -44.192764], [-19.94503, -44.191433], [-19.93758, -44.194126], [-19.964592, -44.20328], [-19.962221, -44.201084], [-21.253271, -49.128906], [-21.25902, -49.131905], [-21.257784, -49.12956], [-29.166994, -51.185425], [-29.166656, -51.17307], [-29.168835, -51.182705], [-29.168682, -51.17391], [-29.165186, -51.19408], [-29.166922, -51.18004], [-29.166853, -51.17741], [-29.170181, -51.174484], [-29.169577, -51.164852], [-22.067425, -46.57554], [-22.069994, -46.572174], [-22.062107, -46.570568], [-22.068733, -46.57155], [-23.510471, -46.89461], [-21.295755, -50.3433], [-21.287441, -50.341736], [-21.295893, -50.345234], [-21.30004, -50.34197], [-21.29343, -50.355], [-21.304762, -50.341187], [-21.289682, -50.341656], [-21.296803, -50.350853], [-21.753822, -48.835503], [-21.768026, -48.80935], [-21.759838, -48.826946], [-21.760595, -48.847153], [-21.76667, -48.826744], [-21.757483, -48.823208], [-21.748545, -48.8146], [-21.758438, -48.830593], [-21.738056, -48.823753], [-21.759705, -48.819], [-21.754595, -48.828487], [-21.75433, -48.83915], [-21.774868, -48.81954], [-21.770712, -48.822144], [-21.744743, -48.817307], [-23.551563, -46.640213], [-23.55184, -46.63922], [-23.550987, -46.64108], [-23.552246, -46.63834], [-21.760866, -48.82034], [-21.75836, -48.81582], [-21.753555, -48.841187], [-21.755962, -48.831226], [-21.758299, -48.81767], [-21.74819, -48.844822], [-21.26362, -47.812893], [-21.256123, -47.80661], [-21.25956, -47.813404], [-21.266045, -47.810562], [-21.25756, -47.81393], [-23.503864, -47.424744], [-21.76138, -48.81768], [-21.756067, -48.8263], [-21.750603, -48.820263], [-21.753311, -48.824257], [-21.759605, -48.824593], [-21.769564, -48.832436], [-21.751287, -48.838654], [-21.75399, -48.832558], [-23.50047, -46.842598], [-23.499374, -46.859074], [-23.504972, -46.8516], [-22.738241, -46.89586], [-22.739613, -46.895645], [-22.731077, -46.896374], [-22.734919, -46.89681], [-22.734627, -46.89809], [-22.744026, -46.89085], [-22.741575, -46.91025], [-22.749254, -46.897873], [-22.744793, -46.89046], [-22.74932, -46.897762], [-22.849854, -43.34564], [-22.834074, -43.345814], [-22.842253, -43.34212], [-22.844534, -43.34035], [-22.844257, -43.342854], [-22.074493, -46.591347], [-22.075392, -46.576897], [-22.065779, -46.570038], [-22.06446, -46.563774], [-22.080439, -46.575375], [-22.069395, -46.57591], [-23.232143, -45.91606], [-23.230099, -45.900944], [-23.224724, -45.920456], [-23.499521, -47.432922], [-29.169573, -51.162945], [-29.16887, -51.184326], [-29.169577, -51.164852], [-29.16152, -51.174683], [-29.168201, -51.19121], [-29.170027, -51.185356], [-29.16696, -51.182125], [-29.167566, -51.191254], [-29.162735, -51.163586], [-29.166859, -51.185127], [-29.16953, -51.16827], [-29.159307, -51.18026], [-21.29589, -50.337105], [-21.288116, -50.342743], [-21.302742, -50.339558], [-21.297037, -50.34324], [-21.296686, -50.3146], [-21.296904, -50.347282], [-21.297573, -50.33396], [-21.226885, -50.459053], [-21.228552, -50.461117], [-21.193758, -47.798252], [-21.203762, -47.798325], [-21.204693, -47.808273], [-21.205082, -47.796753], [-21.19915, -47.80188], [-21.21057, -47.80459], [-21.20486, -47.79484], [-21.210104, -47.80139], [-21.19559, -47.806793], [-21.204771, -47.801712], [-21.20069, -47.80475], [-21.201958, -47.7976], [-21.186905, -47.80126], [-21.751236, -48.841206], [-21.762651, -48.825752], [-21.751165, -48.83925], [-21.761915, -48.83489], [-21.771019, -48.826035], [-21.762924, -48.829838], [-21.754925, -48.843525], [-31.749218, -52.334362], [-31.764168, -52.341785], [-31.770964, -52.3459], [-31.7577, -52.33907], [-31.745811, -52.34846], [-31.767546, -52.34207], [-31.753973, -52.34127], [-31.75561, -52.34568], [-31.748024, -52.33393], [-31.738762, -52.344242], [-25.140745, -54.297832], [-25.160044, -54.273163], [-25.154139, -54.32193], [-25.346779, -49.22692], [-25.34915, -49.22134], [-21.750145, -48.82011], [-21.759687, -48.812122], [-21.758299, -48.81767], [-21.75942, -48.834854], [-21.760595, -48.847153], [-21.764431, -48.825634], [-21.759258, -48.848392], [-21.750887, -48.81695], [-21.74819, -48.844822], [-21.755949, -48.829956], [-25.877008, -48.603626], [-25.901484, -48.57187], [-25.875662, -48.57663], [-25.875679, -48.58025], [-25.876019, -48.576332], [-22.666729, -50.445213], [-22.663656, -50.431698], [-23.407679, -51.91068], [-23.413816, -51.91595], [-23.417664, -51.904587], [-23.40936, -51.90467], [-21.757673, -48.82926], [-21.758299, -48.81767], [-21.758299, -48.81767], [-21.76592, -48.824623], [-21.761093, -48.820038], [-21.748943, -48.841133], [-21.741095, -48.838684], [-21.763147, -48.825867], [-21.758562, -48.832172], [-21.774868, -48.81954], [-21.75455, -48.824657], [-23.4378, -46.509827], [-23.500772, -47.4372], [-23.50253, -47.434086], [-23.50228, -47.42697], [-23.506042, -47.422565], [-21.753332, -48.828167], [-21.762924, -48.829838], [-21.753048, -48.82707], [-21.761337, -48.83526], [-21.751944, -48.836163], [-21.753855, -48.828423], [-21.758562, -48.832172], [-21.759705, -48.819], [-21.768026, -48.80935], [-21.76522, -48.82702], [-21.769938, -48.830494], [-25.459198, -49.24059], [-21.871351, -47.484165], [-21.864515, -47.481815], [-21.866722, -47.46993], [-21.863754, -47.47236], [-21.845657, -47.474533], [-21.865541, -47.475346], [-21.856539, -47.476143], [-21.861612, -47.450962], [-21.855871, -47.483925], [-21.85622, -47.4727], [-21.868456, -47.47379], [-21.862156, -47.478863], [-21.74727, -48.816673], [-21.757483, -48.823208], [-21.76842, -48.83644], [-21.760841, -48.826447], [-21.758438, -48.830593], [-21.768127, -48.84396], [-21.774868, -48.81954], [-21.76698, -48.838604], [-21.734663, -48.814808], [-21.759605, -48.824593], [-21.755949, -48.829956], [-21.75259, -48.843536], [-21.757053, -48.828228], [-21.769938, -48.830494], [-21.757984, -48.826775], [-21.744743, -48.817307], [-21.748903, -48.814598], [-23.564566, -46.476963], [-23.555836, -46.482384], [-23.558449, -46.46798], [-23.561968, -46.47085], [-23.558739, -46.467644], [-23.563051, -46.472], [-23.5604, -46.47811], [-23.564095, -46.47621], [-21.769136, -48.829586], [-21.749352, -48.81534], [-21.762974, -48.822807], [-21.76592, -48.824623], [-21.762774, -48.824696], [-21.759346, -48.848927], [-21.734663, -48.814808], [-21.756401, -48.82908], [-21.748487, -48.83932], [-23.594503, -46.577656], [-23.56381, -46.939465], [-23.561275, -46.946426], [-23.559866, -46.93248], [-23.56416, -46.946983], [-21.761337, -48.83526], [-21.762909, -48.817486], [-21.754595, -48.828487], [-21.753822, -48.835503], [-21.749748, -48.81956], [-23.09061, -47.209198], [-23.08589, -47.19379], [-25.876106, -48.59352], [-25.88008, -48.618725], [-25.877922, -48.606266], [-25.880388, -48.60172], [-25.88546, -48.587364], [-25.897495, -48.57269], [-25.879965, -48.60636], [-23.181217, -45.869965], [-23.189821, -45.872818], [-23.180939, -45.86936], [-23.18251, -45.87145], [-21.774868, -48.81954], [-21.760595, -48.847153], [-21.756306, -48.82954], [-21.75259, -48.843536], [-21.757984, -48.826775], [-21.74535, -48.846695], [-21.748552, -48.82114], [-21.761093, -48.820038], [-21.76842, -48.83644], [-21.759705, -48.819], [-21.757538, -48.83827], [-21.754139, -48.84341], [-21.744743, -48.817307], [-29.168287, -51.177307], [-29.167797, -51.174644], [-29.168798, -51.18009], [-29.165798, -51.180477], [-29.164919, -51.178818], [-26.905231, -48.665634], [-26.910954, -48.672207], [-26.910666, -48.668148], [-26.920912, -48.684937], [-23.418028, -51.911266], [-23.413855, -51.898106], [-23.412832, -51.918705], [-21.199795, -47.8062], [-21.205452, -47.805626], [-21.186642, -47.804924], [-21.207397, -47.807426], [-21.187105, -47.801064], [-21.205978, -47.796856], [-21.195427, -47.80173], [-21.205294, -47.810604], [-21.19932, -47.808144], [-21.205273, -47.797817], [-21.205397, -47.802208], [-21.205294, -47.810604], [-21.201748, -47.79987], [-21.207674, -47.802658], [-21.854626, -47.480095], [-21.866503, -47.47424], [-21.852057, -47.503395], [-21.854763, -47.482216], [-21.86254, -47.472782], [-21.853416, -47.45139], [-21.83603, -47.475468], [-21.855797, -47.47251], [-21.85153, -47.463825], [-21.856539, -47.476143], [-21.854242, -47.476715], [-21.857344, -47.482433], [-21.867537, -47.487602], [-21.861841, -47.48635], [-21.853437, -47.48001], [-21.85778, -47.463547], [-21.852777, -47.48282], [-23.754757, -53.296177], [-23.759956, -53.303482], [-23.761702, -53.300514], [-22.749254, -46.916172], [-22.726313, -46.90105], [-22.744081, -46.900467], [-22.74808, -46.918903], [-22.741999, -46.921078], [-22.71189, -46.891117], [-22.749136, -46.89255], [-22.72947, -46.89643], [-22.737473, -46.905262], [-21.757431, -48.82968], [-21.747807, -48.841316], [-21.757483, -48.823208], [-21.764307, -48.82888], [-21.751944, -48.836163], [-21.754925, -48.843525], [-21.760025, -48.815903], [-25.412647, -49.353123], [-25.408745, -49.358227], [-25.409067, -49.355846], [-19.949104, -44.199047], [-19.951498, -44.195263], [-19.949354, -44.195362], [-19.962551, -44.19537], [-19.946733, -44.196434], [-19.943983, -44.19044], [-19.946507, -44.19637], [-19.954218, -44.203033], [-19.962576, -44.200207], [-21.291025, -50.349434], [-21.302105, -50.33856], [-21.291374, -50.343433], [-21.294403, -50.33535], [-21.297052, -50.34123], [-21.293036, -50.352448], [-21.303314, -50.335285], [-23.002089, -46.84238], [-22.998755, -46.839886], [-22.996973, -46.836178], [-21.759838, -48.826946], [-21.747002, -48.819782], [-21.754963, -48.8227], [-21.751236, -48.841206], [-21.770794, -48.843006], [-22.95303, -47.010387], [-22.955173, -46.99969], [-22.94486, -46.99462], [-22.944607, -47.011093], [-22.955173, -46.99969], [-22.957184, -46.98993], [-21.7471, -48.831432], [-21.746813, -48.817047], [-21.749569, -48.820152], [-21.746572, -48.831207], [-21.764753, -48.823177], [-20.149796, -44.87913], [-20.145512, -44.89625], [-20.146246, -44.888134], [-20.141394, -44.88631], [-20.145695, -44.887775], [-20.14494, -44.886356], [-20.14134, -44.888187], [-20.144548, -44.899193], [-20.14367, -44.88895], [-20.137182, -44.89625], [-20.17347, -44.869595], [-20.134626, -44.89426], [-20.145355, -44.887806], [-20.13678, -44.87171], [-20.139208, -44.897675], [-20.143997, -44.888844], [-20.141123, -44.896496], [-20.159885, -44.85924], [-20.116528, -44.88481], [-20.137722, -44.885353], [-20.14458, -44.892513], [-20.143013, -44.88794], [-20.138659, -44.888382], [-20.1406, -44.90241], [-20.121902, -44.887306], [-20.139359, -44.89057], [-24.075262, -46.578632], [-25.539156, -49.328804], [-25.531132, -49.337807], [-25.53036, -49.336468], [-25.547373, -49.33785], [-25.538755, -49.33624], [-21.75747, -48.828323], [-21.759687, -48.812122], [-21.756067, -48.8263], [-21.757952, -48.834496], [-21.759705, -48.819], [-21.758932, -48.83561], [-21.75399, -48.832558], [-23.503572, -47.433674], [-23.424538, -46.533875], [-23.442293, -46.53396], [-23.43128, -46.537373], [-23.441809, -46.535133], [-23.424538, -46.533875], [-23.439062, -46.532135], [-23.424538, -46.533875], [-23.423952, -46.53361], [-23.433655, -46.532246], [-23.463648, -46.55347], [-23.438606, -46.53407], [-23.43246, -46.534897], [-23.441547, -46.53473], [-23.442886, -46.53807], [-23.427223, -46.539173], [-23.552965, -46.572586], [-23.617243, -46.478657], [-23.61413, -46.478165], [-21.201193, -47.79843], [-21.199818, -47.802116], [-21.189545, -47.799572], [-21.205091, -47.79422], [-21.207193, -47.80681], [-21.200367, -47.79911], [-21.201193, -47.798424], [-21.197182, -47.80709], [-21.192041, -47.79996], [-21.185787, -47.805073], [-21.202929, -47.80107], [-21.190638, -47.803806], [-21.192303, -47.806885], [-21.189169, -47.80581], [-21.204689, -47.80322], [-21.203178, -47.794456], [-21.201958, -47.7976], [-21.20832, -47.797073], [-21.184744, -47.80186], [-21.76981, -48.831173], [-21.759838, -48.826946], [-21.756739, -48.827164], [-21.772173, -48.82369], [-21.74727, -48.816673], [-21.743092, -48.835888], [-21.746418, -48.84041], [-21.748552, -48.82114], [-21.743092, -48.835888], [-21.753506, -48.81937], [-21.76891, -48.82417], [-21.753223, -48.826595], [-21.749748, -48.81956], [-21.76522, -48.82702], [-15.8323345, -48.038803], [-15.8323345, -48.038803], [-21.743092, -48.835888], [-21.767513, -48.827736], [-21.757118, -48.818542], [-21.762602, -48.816338], [-21.851482, -47.484074], [-21.842566, -47.479595], [-21.859703, -47.488953], [-21.832598, -47.47364], [-21.861254, -47.47881], [-21.860586, -47.488426], [-21.85721, -47.479324], [-21.855988, -47.479115], [-21.862762, -47.48232], [-21.868643, -47.48457], [-21.84105, -47.47997], [-21.85622, -47.4727], [-21.863785, -47.481537], [-21.858555, -47.484035], [-22.72947, -46.89643], [-22.72134, -46.89152], [-22.73038, -46.898838], [-22.7406, -46.895073], [-22.74808, -46.918903], [-22.739426, -46.89647], [-22.741999, -46.921078], [-22.740463, -46.89509], [-22.75035, -46.900566], [-30.107904, -51.235878], [-30.110409, -51.238815], [-30.117298, -51.25421], [-30.110199, -51.24565], [-30.110353, -51.23883], [-30.119568, -51.252052], [-30.112806, -51.252964], [-30.117474, -51.227562], [-21.370533, -48.23039], [-21.35779, -48.222176], [-21.363974, -48.228], [-21.357313, -48.216213], [-21.3586, -48.21935], [-21.75687, -48.8394], [-21.750257, -48.831757], [-21.753555, -48.841187], [-21.762774, -48.824696], [-21.774868, -48.81954], [-21.749748, -48.81956], [-21.762602, -48.816338], [-22.71778, -42.530174], [-21.207901, -47.792824], [-21.201193, -47.798424], [-21.201567, -47.79669], [-21.199434, -47.80047], [-21.19009, -47.80506], [-21.204247, -47.797733], [-21.190838, -47.805016], [-21.201748, -47.79987], [-21.206648, -47.80057], [-21.208687, -47.805103], [-21.202826, -47.804348], [-25.438225, -49.279945], [-25.443802, -49.28843], [-25.437786, -49.280293], [-25.434683, -49.27854], [-25.439455, -49.288033], [-25.434566, -49.277443], [-25.437426, -49.275364], [-25.445087, -49.28772], [-25.4349, -49.283207], [-25.435286, -49.278374], [-25.440233, -49.289177], [-25.43577, -49.278904], [-22.322851, -49.028748], [-22.316746, -49.035408], [-22.327656, -49.027134], [-22.327656, -49.027134], [-19.940649, -43.92], [-19.93869, -43.91472], [-19.942965, -43.92002], [-19.940649, -43.92], [-19.941433, -43.917103], [-21.757727, -48.827477], [-21.749352, -48.81534], [-21.76842, -48.83644], [-21.760214, -48.833054], [-23.531448, -46.442104], [-23.529097, -46.43982], [-16.681273, -49.26975], [-16.682549, -49.269253], [-16.681273, -49.26975], [-16.682354, -49.26944], [-22.750357, -46.89758], [-22.713774, -46.89226], [-22.744589, -46.911495], [-22.741844, -46.90422], [-22.737778, -46.880714], [-22.715847, -46.893288], [-22.735832, -46.89723], [-22.745186, -46.912846], [-22.75082, -46.895565], [-22.738241, -46.89586], [-22.73748, -46.88945], [-22.737473, -46.905262], [-23.949736, -46.32074], [-23.933481, -46.32536], [-23.957228, -46.316284], [-23.958754, -46.317585], [-23.962337, -46.311512], [-23.963663, -46.308754], [-23.952105, -46.32746], [-21.244442, -47.830814], [-21.25956, -47.813404], [-21.757803, -48.8333], [-21.76592, -48.824623], [-21.76905, -48.824585], [-21.769938, -48.830494], [-21.760595, -48.847153], [-25.140888, -54.30473], [-25.13341, -54.301662], [-23.535212, -46.64827], [-23.535755, -46.653004], [-23.535624, -46.650864], [-23.53408, -46.65184], [-23.53408, -46.65184], [-23.53944, -46.633064], [-23.53984, -46.630264], [-23.538895, -46.635456], [-29.939863, -51.163647], [-29.94723, -51.174496], [-19.855059, -43.914085], [-19.86002, -43.92005], [-19.854462, -43.91424], [-24.785458, -49.988274], [-24.793259, -49.98392], [-23.481627, -46.616657], [-23.409187, -46.85508], [-23.527111, -46.69837], [-23.527077, -46.69162], [-23.527073, -46.69271], [-23.528103, -46.69614], [-23.527134, -46.69262], [-23.527134, -46.69262], [-23.52713, -46.695015], [-23.693398, -46.796333], [-23.689743, -46.79846], [-23.53984, -46.630264], [-23.539616, -46.631187], [-23.539167, -46.635242], [-21.30083, -50.339832], [-21.288778, -50.33939], [-21.30204, -50.343937], [-21.296034, -50.33737], [-21.30331, -50.34232], [-21.295742, -50.344456], [-21.30331, -50.34232], [-21.289686, -50.341713], [-21.300446, -50.336254], [-21.287846, -50.34065], [-21.296686, -50.3146], [-21.298372, -50.344845], [-21.292439, -50.34154], [-21.30172, -50.33848], [-21.288836, -50.355915], [-22.71044, -46.80351], [-22.709743, -46.817856], [-22.710041, -46.78287], [-22.71142, -46.826794], [-21.769512, -48.83749], [-21.756367, -48.834705], [-21.762974, -48.822807], [-21.761093, -48.820038], [-21.757803, -48.8333], [-21.758562, -48.832172], [-21.751772, -48.838905], [-21.753874, -48.827805], [-21.75455, -48.824657], [-21.758387, -48.826435], [-21.746813, -48.817047], [-21.757431, -48.82968], [-21.747002, -48.819782], [-21.766417, -48.824608], [-21.753855, -48.828423], [-21.754984, -48.829597], [-21.762602, -48.816338], [-23.496967, -46.849506], [-23.497566, -46.850384], [-22.732141, -46.89408], [-22.735495, -46.879093], [-22.74167, -46.909508], [-22.7406, -46.895073], [-22.74167, -46.909508], [-22.75082, -46.895565], [-22.738768, -46.880814], [-22.732494, -46.912956], [-22.732191, -46.894165], [-22.740679, -46.894455], [-20.447865, -48.018497], [-20.437344, -48.01349], [-20.44316, -48.01536], [-20.430277, -48.012737], [-20.446486, -48.017937], [-20.458744, -48.008244], [-22.99723, -46.817444], [-23.004305, -46.823112], [-21.761337, -48.83526], [-21.757265, -48.837017], [-21.751501, -48.82886], [-21.768593, -48.822567], [-21.75836, -48.81582], [-21.76525, -48.824116], [-21.762974, -48.822807], [-21.757803, -48.8333], [-21.750114, -48.836067], [-21.762924, -48.829838], [-21.748293, -48.827496], [-21.831934, -48.148205], [-21.83496, -48.147903], [-21.803535, -48.127647], [-21.84066, -48.143894], [-21.819061, -48.145706], [-22.190613, -47.405178], [-22.180897, -47.403767], [-22.189419, -47.40202], [-23.633535, -46.619392], [-23.632807, -46.62491], [-23.631142, -46.62339], [-23.632938, -46.62524], [-19.874079, -43.89851], [-26.489927, -49.034466], [-23.66803, -46.53607], [-23.6732, -46.540077], [-23.678984, -46.53831], [-23.67248, -46.538246], [-23.667845, -46.535725], [-22.840158, -43.308186], [-22.850403, -43.309155], [-22.838614, -43.299915], [-22.846256, -43.303356], [-22.839119, -43.29577], [-22.839554, -43.29742], [-22.845137, -43.307163], [-23.975002, -46.310642], [-23.977823, -46.307793], [-23.973188, -46.317616], [-23.975857, -46.316208], [-23.977934, -46.313942], [-23.96919, -46.316147], [-23.970625, -46.313286], [-23.97114, -46.317677], [-23.278215, -47.27144], [-23.274195, -47.275303], [-23.27669, -47.276146], [-20.492422, -47.42638], [-20.486591, -47.41245], [-20.48971, -47.42605], [-20.488892, -47.422905], [-20.479399, -47.41876], [-21.168974, -47.82102], [-21.174355, -47.823086], [-21.173698, -47.82937], [-23.394762, -51.916924], [-23.383224, -51.910976], [-23.393478, -51.921078], [-23.393211, -51.91974], [-23.592533, -46.6317], [-27.44524, -48.423325], [-27.401764, -48.42721], [-27.441301, -48.418396], [-22.901485, -43.28361], [-22.899557, -43.28615], [-22.898148, -43.286583], [-22.903097, -43.287125], [-22.899603, -43.28217], [-22.901447, -43.28837], [-22.898113, -43.283836], [-22.900667, -43.280563], [-22.900757, -43.286385], [-22.900219, -43.28617], [-22.898201, -43.289223], [-22.899603, -43.28217], [-23.562239, -46.665577], [-23.56309, -46.664505], [-23.569899, -46.47049], [-23.48851, -46.714607], [-22.249964, -45.70826], [-22.23701, -45.70704], [-22.24188, -45.70939], [-22.256987, -45.69687], [-22.242567, -45.71088], [-22.250828, -45.703503], [-22.261845, -45.69981], [-22.248108, -45.706512], [-22.256987, -45.69687], [-22.236605, -45.703884], [-22.239887, -45.704998], [-22.25476, -45.702953], [-28.692585, -49.389343], [-28.693478, -49.393227], [-28.688307, -49.38755], [-28.697718, -49.390167], [-26.267452, -48.843884], [-26.267452, -48.843884], [-26.271387, -48.841427], [-21.466461, -46.999992], [-21.47092, -47.00393], [-21.468687, -47.00514], [-26.03682, -53.059093], [-26.053886, -53.05263], [-26.039175, -53.052837], [-22.237886, -45.70873], [-22.262877, -45.701756], [-22.250784, -45.701942], [-22.259392, -45.696796], [-22.260118, -45.711586], [-22.223656, -45.7229], [-22.22398, -45.719784], [-22.252483, -45.70142], [-27.616653, -54.30332], [-27.616226, -54.304596], [-27.643284, -54.31879], [-27.627071, -54.305523], [-23.553112, -51.45621], [-23.559643, -51.471825], [-23.549913, -51.452763], [-20.543856, -47.412247], [-20.524395, -47.401276], [-20.536692, -47.421642], [-20.53408, -47.410744], [-20.546654, -47.41291], [-20.532074, -47.406532], [-20.508955, -47.40058], [-20.535551, -47.40833], [-23.609764, -46.697693], [-23.387575, -51.445957], [-7.1186805, -34.85512], [-7.1155634, -34.859364], [-7.1130457, -34.85259], [-27.41763, -48.4246], [-28.619009, -49.025173], [-21.743689, -43.34641], [-22.895433, -43.561523], [-22.897566, -43.571598], [-16.729599, -43.870056], [-16.738676, -43.86476], [-16.732056, -43.84914], [-16.720762, -43.865612], [-16.718418, -43.85586], [-16.726416, -43.867283], [-16.749886, -43.857857], [-16.729824, -43.867966], [-16.720432, -43.87578], [-16.737741, -43.869686], [-16.736252, -43.869385], [-16.722902, -43.85715], [-16.749369, -43.868374], [-16.714725, -43.868393], [-16.715136, -43.872375], [-16.728127, -43.871437], [-16.725815, -43.86129], [-16.729921, -43.872463], [-16.705091, -43.85833], [-16.712292, -43.85411], [-16.705412, -43.8668], [-16.736977, -43.86943], [-16.721676, -43.85882], [-16.721363, -43.872696], [-16.719881, -43.85578], [-16.727438, -43.872124], [-16.718817, -43.870663], [-23.668745, -46.579338], [-20.738707, -42.859898], [-20.749517, -42.78461], [-20.754389, -42.87804], [-20.757303, -42.882217], [-20.754463, -42.882164], [-20.755344, -42.8761], [-20.74672, -42.88053], [-20.759174, -42.8788], [-20.755241, -42.877018], [-20.729515, -42.8873], [-20.748466, -42.87412], [-20.738707, -42.859898], [-20.729284, -42.887096], [-20.749868, -42.869286], [-20.757849, -42.889336], [-20.753714, -42.8803], [-20.74544, -42.86906], [-20.752047, -42.88156], [-23.629538, -46.6224], [-20.369827, -40.31887], [-20.362902, -40.31509], [-23.221432, -45.888165], [-23.22426, -45.8857], [-23.234192, -45.881763], [-23.230305, -45.889603], [-23.222565, -45.88595], [-23.223856, -45.885273], [-23.22834, -45.889973], [-23.22817, -45.8829], [-23.234493, -45.89138], [-23.517227, -47.14042], [-23.67119, -46.53783], [-23.677973, -46.533714], [-23.674444, -46.53573], [-23.676521, -46.537403], [-23.66803, -46.53607], [-23.672626, -46.540756], [-23.674866, -46.533535], [-23.681084, -46.544003], [-23.67248, -46.538246], [-23.66876, -46.536533], [-23.716679, -46.542027], [-23.716679, -46.542027], [-23.716156, -46.533028], [-23.716885, -46.541992], [-23.713663, -46.532166], [-23.591608, -46.603264], [-23.5923, -46.596905], [-23.592567, -46.599598], [-23.543951, -46.516117], [-23.541409, -46.523952], [-22.884264, -47.17093], [-22.894741, -47.16453], [-22.899303, -47.165836], [-22.900831, -47.186047], [-22.894026, -47.17751], [-22.878588, -47.16785], [-22.894506, -47.178444], [-22.900635, -47.174877], [-22.881498, -47.165474], [-22.89512, -47.164394], [-22.90202, -47.172886], [-22.901386, -47.169884], [-22.894726, -47.164536], [-30.07233, -51.179985], [-30.066832, -51.183357], [-30.064953, -51.18432], [-30.0797, -51.173244], [-23.691612, -46.562954], [-23.685368, -46.561043], [-23.685364, -46.56519], [-23.686848, -46.562546], [-23.687498, -46.564423], [-23.695543, -46.561584], [-25.510431, -49.22779], [-25.499844, -49.223473], [-25.502583, -49.22205], [-25.50738, -49.23068], [-25.508877, -49.225697], [-22.254526, -45.70916], [-22.260118, -45.711586], [-22.25199, -45.709293], [-22.219383, -45.72125], [-22.242079, -45.71205], [-22.25221, -45.691658], [-20.44012, -45.45526], [-20.435633, -45.432655], [-20.460499, -45.422092], [-20.470648, -45.426826], [-20.465353, -45.442974], [-20.465382, -45.430115], [-20.466133, -45.420715], [-20.483454, -45.4368], [-20.475992, -45.429775], [-20.466688, -45.441597], [-20.459826, -45.41953], [-20.458931, -45.426357], [-20.456923, -45.441956], [-20.477644, -45.42775], [-20.464851, -45.428616], [-20.463997, -45.44618], [-20.456512, -45.44284], [-20.465197, -45.42744], [-20.46431, -45.424686], [-29.176395, -51.21481], [-29.173462, -51.209206], [-29.170626, -51.2047], [-29.170626, -51.2047], [-29.172552, -51.208485], [-29.17388, -51.217373], [-29.178343, -51.215794], [-19.927013, -43.93388], [-19.926235, -43.936428], [-19.931253, -43.93232], [-19.925098, -43.92867], [-19.91848, -43.939095], [-19.927258, -43.93356], [-19.927698, -43.92517], [-19.931253, -43.93232], [-19.927181, -43.935284], [-19.938032, -43.926727], [-19.929037, -43.93309], [-19.936195, -43.93502], [-19.927637, -43.925278], [-19.93152, -43.933723], [-19.931557, -43.932377], [-19.93375, -43.929733], [-19.931997, -43.93111], [-19.9293, -43.931675], [-19.930117, -43.934692], [-19.919798, -43.93824], [-19.928217, -43.922684], [-19.91815, -43.939198], [-19.938337, -43.926807], [-19.928793, -43.925274], [-21.172024, -47.8143], [-21.171646, -47.814873], [-21.171053, -47.82212], [-21.171665, -47.816204], [-21.174826, -47.82756], [-22.870268, -43.02162], [-29.026327, -51.17026], [-29.032248, -51.173153], [-29.028543, -51.182625], [-29.028532, -51.182358], [-23.608349, -46.735363], [-23.608349, -46.735363], [-23.607584, -46.73634], [-23.608349, -46.735363], [-23.608349, -46.735363], [-25.572573, -49.15583], [-25.556618, -49.184666], [-25.564856, -49.174496], [-23.545479, -46.58524], [-23.502537, -46.486645], [-20.043354, -45.53897], [-20.023762, -45.5426], [-20.02903, -45.53788], [-20.021324, -45.542202], [-20.02818, -45.5487], [-20.014053, -45.547436], [-20.021637, -45.52492], [-20.028107, -45.542225], [-20.025705, -45.544395], [-23.539364, -46.596558], [-23.539133, -46.595623], [-23.54013, -46.59337], [-23.589502, -46.554173], [-22.24637, -45.716957], [-22.256987, -45.69687], [-22.254436, -45.704037], [-22.239113, -45.70799], [-22.256542, -45.702713], [-22.245356, -45.714996], [-22.242079, -45.71205], [-22.256987, -45.69687], [-22.219383, -45.72125], [-22.237366, -45.70552], [-22.239906, -45.70559], [-22.25147, -45.70531], [-22.249851, -45.699783], [-22.24009, -45.70995], [-22.254541, -45.693436], [-22.425346, -47.556248], [-22.425385, -47.553703], [-22.419935, -47.556396], [-22.421793, -47.555943], [-20.536552, -47.417316], [-20.508282, -47.403957], [-20.521084, -47.40736], [-20.528803, -47.417023], [-20.533947, -47.4143], [-20.519451, -47.413025], [-20.531004, -47.408688], [-20.53345, -47.420753], [-20.54576, -47.40869], [-20.525448, -47.40442], [-29.905005, -51.071987], [-20.462097, -45.437557], [-20.475489, -45.425266], [-20.470015, -45.427174], [-20.469263, -45.42298], [-20.458723, -45.429543], [-20.453304, -45.430527], [-20.45903, -45.420315], [-20.446856, -45.4536], [-20.466845, -45.42952], [-20.475992, -45.429775], [-20.465765, -45.43448], [-20.463997, -45.44618], [-20.473202, -45.433674], [-20.457766, -45.420033], [-20.455769, -45.419186], [-22.248295, -45.707172], [-22.253973, -45.70084], [-22.256987, -45.69687], [-22.252113, -45.703644], [-22.229235, -45.714493], [-22.258366, -45.710815], [-22.25199, -45.709293], [-22.263342, -45.70179], [-22.236244, -45.704155], [-22.224749, -45.71958], [-22.241108, -45.70631], [-22.236605, -45.703884], [-22.224947, -45.718616], [-22.241299, -45.709473], [-23.599958, -46.798145], [-23.308243, -51.20299], [-23.307177, -51.207302], [-20.317873, -40.329727], [-20.319586, -40.32932], [-23.395695, -51.885555], [-23.398613, -51.887936], [-22.237886, -45.70873], [-22.256987, -45.69687], [-22.250614, -45.70176], [-22.257915, -45.69745], [-22.239624, -45.703114], [-22.24642, -45.70909], [-22.255411, -45.70405], [-22.241762, -45.715508], [-22.257011, -45.806896], [-22.219383, -45.72125], [-22.239906, -45.70559], [-22.24362, -45.71325], [-22.257011, -45.806896], [-22.241762, -45.715508], [-22.217043, -49.82113], [-23.545586, -46.78473], [-23.540562, -46.784363], [-23.54112, -46.78314], [-23.502647, -46.696815], [-23.501635, -46.701187], [-23.502686, -46.697376], [-23.502499, -46.696106], [-23.527569, -46.53422], [-23.708355, -46.700634], [-23.541168, -46.87066], [-23.537207, -46.865734], [-23.543549, -46.86766], [-23.541254, -46.867744], [-23.542385, -46.867702], [-15.7462635, -47.893757], [-15.744618, -47.894077], [-15.745266, -47.895386], [-15.746058, -47.894444], [-17.735054, -49.112362], [-17.718393, -49.108536], [-17.727734, -49.11164], [-3.7294247, -38.519035], [-3.7479942, -38.519543], [-3.7491612, -38.52025], [-3.7479942, -38.519543], [-3.721671, -38.51072], [-23.389032, -51.444958], [-23.391535, -51.448776], [-23.603556, -46.61856], [-23.60514, -46.62191], [-25.3971, -49.25126], [-25.39923, -49.25016], [-25.398052, -49.25], [-25.39805, -49.251774], [-23.549734, -51.461864], [-23.56016, -51.479507], [-23.562243, -51.47766], [-23.560589, -51.473694], [-22.850403, -43.309155], [-22.852942, -43.31339], [-22.848679, -43.30692], [-22.852942, -43.31339], [-22.83804, -43.294796], [-22.847979, -43.30604], [-22.845137, -43.307163], [-22.852575, -43.303936], [-22.842497, -43.30061], [-20.466946, -45.429], [-20.45257, -45.446228], [-20.453236, -45.442745], [-20.473259, -45.426933], [-20.478493, -45.43594], [-20.455042, -45.42998], [-20.458988, -45.439365], [-20.454617, -45.42548], [-20.462502, -45.432293], [-20.46215, -45.437275], [-20.46504, -45.44324], [-23.673698, -46.537888], [-23.667955, -46.532776], [-23.668129, -46.53285], [-23.676384, -46.539566], [-23.677845, -46.5376], [-23.674866, -46.533535], [-23.680723, -46.544155], [-23.667845, -46.535725], [-23.673746, -46.53793], [-23.679749, -46.542645], [-23.673746, -46.53793], [-20.456394, -45.438633], [-20.459768, -45.425713], [-20.471375, -45.41673], [-20.469461, -45.42357], [-20.471127, -45.435684], [-20.457233, -45.42632], [-20.463907, -45.433224], [-20.479242, -45.417973], [-20.459166, -45.44354], [-20.473104, -45.42689], [-20.45729, -45.41711], [-20.45248, -45.434643], [-20.475733, -45.418972], [-20.452127, -45.443897], [-20.45997, -45.41642], [-23.302801, -51.20841], [-23.679726, -46.685577], [-23.685343, -46.68593], [-25.50727, -49.233448], [-25.5035, -49.228336], [-25.510431, -49.22779], [-25.513617, -49.219395], [-25.502583, -49.22205], [-25.51461, -49.231346], [-25.512873, -49.22828], [-25.509275, -49.226982], [-25.418556, -49.25789], [-25.417728, -49.26524], [-25.419792, -49.267204], [-25.414734, -49.264603], [-25.42054, -49.26841], [-25.41522, -49.26047], [-25.415068, -49.255417], [-25.413097, -49.25848], [-25.418327, -49.256817], [-25.413074, -49.255783], [-23.583488, -46.737946], [-23.582605, -46.737854], [-27.988913, -54.841064], [-23.631332, -46.69209], [-23.628935, -46.691006], [-23.629234, -46.692616], [-23.49935, -46.57792], [-23.498411, -46.579777], [-21.23107, -43.79046], [-21.065157, -50.149197], [-21.067324, -50.150856], [-21.064991, -50.146946], [-21.065516, -50.150238], [-21.065472, -50.149727], [-20.489183, -47.424053], [-20.488604, -47.426426], [-20.510077, -47.421497], [-20.48885, -47.42291], [-20.49278, -47.41197], [-20.497269, -47.41749], [-17.728348, -49.125496], [-17.729366, -49.10299], [-17.730448, -49.15248], [-17.746616, -49.159107], [-17.746616, -49.159107], [-17.73086, -49.118958], [-17.722467, -49.10357], [-17.733866, -49.10693], [-17.73118, -49.091866], [-17.736654, -49.10404], [-23.57764, -48.032333], [-23.591585, -48.04262], [-23.578228, -48.034527], [-23.585876, -48.04171], [-23.749146, -46.752213], [-22.187262, -49.934093], [-22.178808, -49.92335], [-22.174028, -49.91547], [-22.188742, -49.934227], [-23.589247, -48.04063], [-23.582338, -48.042767], [-23.589817, -48.055252], [-23.58671, -48.045197], [-23.588783, -48.050266], [-23.419191, -47.406605], [-23.416159, -47.412525], [-23.414164, -47.411404], [-23.42091, -47.417446], [-23.422277, -47.421], [-23.411346, -47.414883], [-21.107298, -44.16942], [-21.109669, -44.16814], [-23.541012, -46.698605], [-23.54049, -46.702927], [-23.540285, -46.703506], [-23.1101, -46.88233], [-23.180162, -46.877083], [-22.325365, -49.052494], [-22.326752, -49.055122], [-22.334776, -49.0499], [-22.329258, -49.053913], [-22.334923, -49.05159], [-22.336082, -49.051105], [-23.543926, -46.618427], [-25.411098, -49.22728], [-25.414759, -49.238415], [-25.415499, -49.2289], [-25.41133, -49.224564], [-23.66984, -46.716667], [-23.221432, -45.888165], [-23.219551, -45.89081], [-23.234049, -45.884132], [-23.22152, -45.884705], [-23.222061, -45.89183], [-23.220638, -45.89422], [-23.220638, -45.89422], [-23.220507, -45.895668], [-23.220276, -45.889523], [-22.399166, -43.65341], [-22.419392, -43.68356], [-22.373999, -43.688625], [-22.40891, -43.663242], [-22.410128, -43.664036], [-22.406595, -43.663334], [-22.404732, -43.658264], [-22.409695, -43.65912], [-22.413713, -43.6627], [-22.371323, -43.690598], [-22.417885, -43.67545], [-22.41693, -43.752193], [-23.173311, -46.8888], [-23.111834, -46.887085], [-23.172493, -46.881626], [-23.176186, -46.879654], [-23.172268, -46.887722], [-23.33626, -47.84624], [-23.545746, -51.458786], [-23.551016, -51.46206], [-23.550192, -51.458824], [-23.547756, -51.462868], [-23.562243, -51.47766], [-28.674635, -49.341698], [-25.507711, -49.2544], [-23.556774, -46.498253], [-21.713911, -43.420044], [-21.70479, -43.421963], [-26.055737, -53.054325], [-23.578419, -46.559208], [-25.464945, -49.527615], [-23.660297, -46.679512], [-23.657148, -46.67971], [-23.67282, -46.678436], [-23.660297, -46.679512], [-23.49639, -46.421818], [-23.499918, -46.418346], [-23.496696, -46.42446], [-23.503773, -46.424644], [-23.497808, -46.418633], [-23.506752, -46.418835], [-23.512104, -46.419254], [-19.490229, -46.552055], [-19.477633, -46.54996], [-19.480936, -46.54301], [-23.559706, -46.66426], [-23.55882, -46.66527], [-23.56584, -46.657215], [-23.56594, -46.657112], [-23.565016, -46.65826], [-23.561083, -46.66272], [-23.559616, -46.664368], [-20.385374, -43.504475], [-20.386763, -43.48689], [-20.379354, -43.51905], [-20.385, -43.513813], [-20.385212, -43.50539], [-20.385618, -43.508408], [-20.387161, -43.512512], [-20.40523, -43.52107], [-20.383831, -43.488533], [-20.385263, -43.48735], [-20.384277, -43.485344], [-20.384703, -43.49461], [-20.40087, -43.511204], [-20.384567, -43.507095], [-20.399017, -43.50676], [-20.39866, -43.504017], [-20.38536, -43.50892], [-20.406109, -43.523438], [-20.384148, -43.511616], [-20.38591, -43.493702], [-20.382656, -43.491234], [-20.38572, -43.509518], [-20.384493, -43.515923], [-20.399332, -43.512337], [-23.556501, -46.60609], [-23.558073, -46.605865], [-23.629612, -46.692875], [-19.926682, -43.92906], [-19.927498, -43.923622], [-19.938765, -43.925888], [-19.926235, -43.936428], [-19.938417, -43.938454], [-19.93593, -43.93629], [-19.927097, -43.93535], [-19.926735, -43.936592], [-19.926792, -43.93397], [-19.936195, -43.93502], [-19.930117, -43.934692], [-19.934652, -43.937332], [-19.94876, -43.920288], [-19.93449, -43.92931], [-19.930244, -43.933384], [-19.926641, -43.93189], [-19.9473, -43.921078], [-19.927637, -43.925278], [-19.942976, -44.030216], [-19.942804, -44.028023], [-19.9383, -44.04219], [-19.940138, -44.02922], [-19.941704, -44.04212], [-19.937933, -44.037632], [-19.935097, -44.03956], [-19.941149, -44.038166], [-19.941076, -44.028187], [-19.94092, -44.02759], [-19.93673, -44.03726], [-19.941366, -44.047142], [-19.942902, -44.032352], [-29.026327, -51.17026], [-29.03899, -51.176174], [-29.034233, -51.18144], [-29.034616, -51.194603], [-23.48318, -46.601326], [-23.486994, -46.606823], [-23.571217, -46.525932], [-23.570227, -46.526478], [-20.03559, -45.522278], [-20.031305, -45.543224], [-20.024727, -45.529457], [-20.02287, -45.547375], [-20.02421, -45.54666], [-20.016726, -45.533886], [-30.021126, -52.912636], [-30.023378, -52.905407], [-30.027342, -52.911606], [-22.2606, -48.550945], [-22.262005, -48.540863], [-22.279556, -48.540234], [-22.2727, -48.53317], [-16.718842, -43.862762], [-16.721245, -43.87411], [-16.707903, -43.862095], [-16.70455, -43.855778], [-16.705091, -43.85833], [-16.731804, -43.85002], [-16.73, -43.862904], [-16.73715, -43.865707], [-16.717817, -43.860165], [-16.737099, -43.860928], [-16.699219, -43.852787], [-16.724876, -43.864727], [-16.731943, -43.84974], [-16.732443, -43.85631], [-23.636658, -46.55806], [-23.55468, -51.45787], [-23.56007, -51.469788], [-23.552382, -51.45853], [-23.558056, -51.466206], [-23.556574, -51.46089], [-23.553019, -51.461277], [-20.540401, -47.408596], [-20.520939, -47.41231], [-20.546654, -47.41291], [-20.536692, -47.421642], [-20.541195, -47.412556], [-20.508955, -47.40058], [-23.932665, -46.32988], [-23.932726, -46.327938], [-23.93346, -46.33068], [-20.101461, -40.17986], [-20.22372, -40.282158], [-20.190788, -40.224384], [-20.224249, -40.28229], [-20.195866, -40.23362], [-23.54543, -46.785275], [-23.541224, -46.78297], [-21.142857, -48.99755], [-21.140726, -48.992874], [-5.79314, -35.205677], [-5.789691, -35.196716], [-5.7912526, -35.20156], [-5.788072, -35.20238], [-5.7971163, -35.205875], [-5.7933083, -35.200268], [-22.281443, -48.540802], [-22.279701, -48.548588], [-22.256987, -45.69687], [-22.25073, -45.70414], [-22.219383, -45.72125], [-22.23998, -45.70696], [-22.256987, -45.69687], [-22.242367, -45.715096], [-22.248108, -45.706512], [-22.24489, -45.705196], [-22.26476, -45.6951], [-22.254526, -45.70916], [-22.249851, -45.699783], [-22.252832, -45.70492], [-29.170227, -51.202793], [-29.173315, -51.21407], [-22.899237, -43.177383], [-22.901314, -43.17762], [-22.899303, -43.1789], [-22.90021, -43.180622], [-22.9028, -43.177288], [-21.085676, -44.204845], [-21.106499, -44.17146], [-21.109629, -44.17787], [-30.018717, -51.176083], [-30.019945, -51.18289], [-30.01819, -51.181164], [-30.019545, -51.174114], [-30.02186, -51.185833], [-30.019869, -51.17521], [-30.010038, -51.182793], [-30.019804, -51.17879], [-30.020365, -51.173763], [-30.014505, -51.18325], [-30.011063, -51.176834], [-23.235239, -45.88352], [-23.227314, -45.883083], [-23.22577, -45.885506], [-23.221087, -45.894722], [-23.22085, -45.88805], [-23.219126, -45.888233], [-29.234634, -51.330105], [-29.224361, -51.353714], [-29.230465, -51.34533], [-29.233572, -51.34216], [-17.722618, -49.11936], [-17.722956, -49.118088], [-17.736908, -49.106365], [-23.716557, -46.540623], [-23.714293, -46.53698], [-23.719803, -46.53918], [-23.719778, -46.53772], [-23.719841, -46.538605], [-23.721577, -46.53715], [-23.715054, -46.53777], [-23.601057, -46.5542], [-23.602774, -46.553635], [-23.602774, -46.553635], [-23.602625, -46.551365], [-22.819027, -43.41769], [-22.816748, -43.41612], [-22.81285, -43.421402], [-22.81588, -43.41899], [-16.711096, -43.85605], [-16.719767, -43.86618], [-16.709538, -43.861828], [-16.738438, -43.86364], [-16.716661, -43.85828], [-16.7644, -43.86002], [-16.717716, -43.867348], [-16.705395, -43.852207], [-16.715414, -43.866955], [-16.720789, -43.873898], [-16.729824, -43.867966], [-16.731125, -43.86953], [-16.704397, -43.85981], [-16.732948, -43.86293], [-16.71289, -43.852516], [-16.725815, -43.86129], [-16.706957, -43.86519], [-16.705091, -43.85833], [-16.712418, -43.857513], [-16.732443, -43.85631], [-16.730476, -43.863056], [-23.512074, -46.58179], [-23.509502, -46.59037], [-23.513172, -46.582638], [-26.91961, -49.280815], [-16.336437, -48.945435], [-16.335733, -48.94475], [-16.330957, -48.947636], [-27.774803, -54.232204], [-27.774748, -54.24911], [-27.770452, -54.239132], [-27.774788, -54.233723], [-27.786245, -54.22791], [-27.772007, -54.242348], [-27.780865, -54.235947], [-27.771582, -54.23018], [-23.448647, -46.4293], [-23.44433, -46.427643], [-23.448647, -46.4293], [-23.449732, -46.427643], [-23.441462, -46.42962], [-23.446295, -46.42063], [-23.448647, -46.4293], [-22.685282, -46.98383], [-22.658543, -46.94264], [-22.692493, -46.984905], [-22.70214, -46.990078], [-22.702953, -46.984493], [-22.68799, -46.994316], [-22.711891, -46.980698], [-22.705853, -46.984837], [-22.689297, -46.99168], [-22.695818, -46.989014], [-22.675045, -46.977238], [-22.686575, -46.97851], [-22.66651, -46.98666], [-22.676514, -46.994495], [-22.694223, -46.992924], [-22.702072, -46.989243], [-22.675743, -46.992966], [-22.701263, -46.985188], [-22.676003, -46.985245], [-23.613258, -46.59985], [-23.506413, -46.84867], [-22.603157, -48.801636], [-22.611095, -48.795074], [-22.602901, -48.803677], [-22.602089, -48.793697], [-22.61691, -48.799843], [-22.598656, -48.80205], [-22.61067, -48.802586], [-23.579884, -46.81792], [-23.574505, -46.825672], [-23.572617, -46.82406], [-23.570116, -46.825165], [-23.574205, -46.817333], [-23.57829, -46.62431], [-23.539541, -46.63838], [-23.540749, -46.35572], [-23.537046, -46.361683], [-23.53884, -46.35696], [-23.545698, -46.356728], [-23.531616, -46.783073], [-23.52889, -46.778584], [-23.536379, -46.778233], [-23.528484, -46.77852], [-22.34682, -48.791542], [-22.351082, -48.77432], [-22.350544, -48.772507], [-22.344145, -48.798622], [-22.347166, -48.79085], [-22.372116, -48.776276], [-22.350851, -48.778343], [-22.350851, -48.778343], [-22.344969, -48.759197], [-22.367777, -48.757584], [-22.345139, -48.798183], [-22.32853, -48.798935], [-23.65861, -46.574677], [-19.779335, -42.12772], [-19.787575, -42.141884], [-19.789, -42.139477], [-19.790115, -42.141594], [-19.77926, -42.128246], [-19.778961, -42.134026], [-19.792091, -42.145718], [-19.794052, -42.14864], [-19.802008, -42.137344], [-19.784868, -42.142117], [-19.787682, -42.13722], [-19.778336, -42.12841], [-19.790096, -42.12928], [-21.806688, -49.602123], [-21.80765, -49.60189], [-21.805193, -49.612354], [-21.799284, -49.60392], [-21.805456, -49.59867], [-22.838373, -43.281178], [-22.831287, -43.276836], [-22.834288, -43.27214], [-22.840242, -43.27547], [-22.839743, -43.276623], [-22.840242, -43.27547], [-22.840242, -43.27547], [-22.835491, -43.279427], [-22.839418, -43.273083], [-22.839628, -43.2781], [-22.832968, -43.277702], [-22.832449, -43.279564], [-23.263786, -45.915836], [-25.415085, -49.245743], [-25.418234, -49.25516], [-25.422613, -49.254604], [-23.713646, -46.691376], [-23.500763, -46.802227], [-23.49626, -46.808712], [-23.49944, -46.806355], [-23.631132, -46.63887], [-23.630774, -46.638367], [-27.083595, -48.92475], [-23.63759, -46.74009], [-23.633293, -46.737843], [-23.633293, -46.737843], [-23.410637, -46.423573], [-23.40683, -46.416634], [-22.021038, -47.89464], [-22.01506, -47.891838], [-22.023521, -47.893692], [-22.012966, -47.89383], [-22.011364, -47.889572], [-22.016098, -47.89561], [-22.01689, -47.886894], [-22.015009, -47.883984], [-22.006578, -47.894516], [-22.014387, -47.88385], [-22.018288, -47.898285], [-22.011324, -47.88219], [-22.022402, -47.889545], [-25.369766, -49.26991], [-25.358408, -49.27209], [-25.35431, -49.26594], [-25.36238, -49.265972], [-25.372606, -49.27142], [-23.466305, -46.671574], [-23.464699, -46.547325], [-27.090906, -48.92231], [-27.083145, -48.911236], [-27.081797, -48.917374], [-27.091654, -48.914562], [-23.56359, -46.51562], [-26.290585, -48.86793], [-23.521172, -46.470966], [-23.525549, -46.46706], [-23.62555, -46.7977], [-23.629227, -46.80131], [-23.460835, -46.913887], [-23.459412, -46.916515], [-22.826416, -47.263878], [-22.816954, -47.277897], [-22.81939, -47.27518], [-23.279188, -47.679867], [-23.277, -47.689705], [-23.284477, -47.674202], [-23.288532, -47.677357], [-23.279137, -47.662365], [-23.279747, -47.665356], [-23.291193, -47.683205], [-23.300858, -47.649677], [-23.264814, -47.6722], [-23.301744, -47.66196], [-23.297035, -47.653305], [-23.291842, -47.65201], [-23.290133, -47.651592], [-23.289442, -47.679176], [-23.516024, -46.535805], [-23.516024, -46.535805], [-23.519281, -46.53576], [-23.539185, -46.591434], [-23.542292, -46.59592], [-23.538534, -46.592102], [-23.539972, -46.59198], [-22.756905, -43.446873], [-22.75819, -43.450108], [-22.75776, -43.453598], [-22.755907, -43.454563], [-22.759672, -43.45147], [-22.757143, -43.448868], [-22.759153, -43.450344], [-26.333824, -48.835857], [-26.327696, -48.83836], [-23.443216, -46.50532], [-23.70544, -46.69106], [-23.700644, -46.692123], [-23.70111, -46.69082], [-23.701914, -46.688988], [-23.701914, -46.688988], [-23.701813, -46.691303], [-22.021038, -47.89464], [-22.012283, -47.8894], [-22.014854, -47.88777], [-22.019003, -47.89363], [-22.017843, -47.893333], [-22.011639, -47.889812], [-22.01696, -47.890438], [-22.012377, -47.89903], [-19.96009, -44.041695], [-19.957546, -44.036407], [-19.960213, -44.047054], [-21.128227, -44.249687], [-21.12462, -44.252666], [-21.128336, -44.24963], [-22.72961, -47.63064], [-22.729666, -47.63153], [-22.6907, -46.986954], [-22.686575, -46.991013], [-22.693525, -46.98749], [-22.695131, -47.018215], [-22.70895, -46.98927], [-22.657215, -46.942734], [-22.67893, -46.99202], [-22.688606, -46.99361], [-22.680254, -46.981236], [-22.67732, -46.983192], [-22.687803, -46.99413], [-22.706947, -46.961254], [-22.685673, -46.97951], [-22.701029, -46.984455], [-22.675045, -46.977238], [-23.506098, -46.655476], [-23.284271, -47.68727], [-23.287333, -47.68086], [-23.292227, -47.66173], [-23.319202, -47.68867], [-23.284863, -47.672466], [-23.284534, -47.67298], [-23.284851, -47.672882], [-23.267393, -47.66516], [-23.29095, -47.68565], [-23.281687, -47.687748], [-23.283438, -47.67043], [-28.939093, -49.502457], [-23.54277, -46.575024], [-23.631763, -46.58805], [-23.626461, -46.592316], [-23.628803, -46.594986], [-23.628899, -46.591877], [-23.391586, -51.932587], [-23.3786, -51.931618], [-23.56723, -46.64942], [-23.564959, -46.652134], [-23.55931, -46.65877], [-23.56206, -46.655632], [-23.561691, -46.656124], [-23.56053, -46.657383], [-23.471478, -47.434708], [-23.47554, -47.428577], [-23.481941, -47.43413], [-23.47689, -47.43596], [-23.475912, -47.417095], [-23.472567, -47.438484], [-23.476204, -47.426853], [-23.463736, -47.44141], [-23.472824, -47.44182], [-23.475912, -47.417095], [-22.396563, -47.55591], [-22.41462, -47.551327], [-22.413816, -47.55149], [-22.379696, -47.567142], [-22.370417, -47.53916], [-22.396017, -47.551178], [-22.387411, -47.550465], [-22.389101, -47.55483], [-23.72154, -46.704357], [-23.719486, -46.705223], [-21.561352, -45.432457], [-21.566607, -45.43464], [-22.870531, -48.458378], [-22.869015, -48.465416], [-22.860931, -48.463947], [-22.87116, -48.457832], [-23.525509, -46.738243], [-23.531055, -46.744602], [-23.525509, -46.738243], [-23.526226, -46.738983], [-22.748493, -50.57765], [-22.743547, -50.572765], [-22.74834, -50.584366], [-23.541063, -46.59158], [-23.539972, -46.59198], [-23.539097, -46.590553], [-29.175995, -51.172825], [-22.715504, -46.98323], [-22.693762, -46.980522], [-22.712008, -46.97748], [-22.69123, -46.981216], [-22.680342, -46.990574], [-22.70548, -46.9655], [-22.696926, -46.98786], [-22.706108, -46.98763], [-22.695244, -47.002407], [-22.699226, -46.98315], [-22.69598, -46.983505], [-22.67889, -46.985226], [-22.67893, -46.99202], [-22.673847, -46.993732], [-22.68139, -47.006336], [-22.696497, -46.981163], [-22.617968, -47.007156], [-23.7068, -49.494675], [-23.707687, -49.47981], [-23.461304, -46.518867], [-23.462149, -46.51836], [-22.59576, -48.802925], [-23.480814, -46.367893], [-23.575047, -46.81892], [-23.57673, -46.816483], [-23.574343, -46.817795], [-23.57383, -46.815926], [-23.568157, -46.81733], [-23.571724, -46.818123], [-23.568958, -46.81798], [-23.599688, -46.870625], [-23.57157, -46.815895], [-22.974838, -46.98047], [-22.993122, -46.988842], [-23.52, -46.410572], [-20.343645, -40.296062], [-25.440426, -49.353203], [-25.43776, -49.355354], [-25.43588, -49.360798], [-25.435305, -49.350048], [-25.437778, -49.355083], [-25.437563, -49.350094], [-26.270805, -48.87311], [-22.93099, -43.389206], [-22.932106, -43.380817], [-22.925423, -43.396313], [-22.949152, -43.39365], [-22.925018, -43.390495], [-22.928812, -43.39354], [-20.437986, -47.832817], [-23.666533, -46.524208], [-23.667442, -46.52524], [-23.663202, -46.528194], [-23.659437, -46.522755], [-23.662718, -46.527336], [-23.660261, -46.527493], [-23.664177, -46.526104], [-26.964687, -50.42306], [-26.967289, -50.4243], [-26.956915, -50.41933], [-26.96305, -50.417965], [-26.875053, -50.42281], [-26.958302, -50.42249], [-22.284872, -46.372215], [-22.28026, -46.36866], [-22.27987, -46.37163], [-22.280695, -46.37201], [-22.279266, -46.372334], [-22.280518, -46.375973], [-22.284122, -46.36655], [-29.948568, -51.09463], [-29.95153, -51.095497], [-29.950226, -51.099228], [-23.44902, -46.426823], [-23.448647, -46.4293], [-23.446777, -46.42758], [-23.446043, -46.423424], [-23.451523, -46.42964], [-23.448647, -46.4293], [-23.44789, -46.426895], [-23.44741, -46.429146], [-23.480661, -47.463852], [-23.485569, -47.46664], [-23.488695, -47.453747], [-23.480661, -47.463852], [-23.525217, -46.472195], [-23.528725, -46.47073], [-23.523565, -46.472385], [-23.580942, -46.6169], [-23.581974, -46.61868], [-23.580057, -46.617523], [-23.544714, -46.633163], [-19.91985, -43.930656], [-19.925964, -43.9268], [-19.93171, -43.928303], [-19.92543, -43.921013], [-19.922777, -43.923782], [-19.928122, -43.92447], [-19.923164, -43.92222], [-19.932343, -43.928406], [-19.916395, -43.928173], [-19.915161, -43.92968], [-19.915709, -43.93033], [-19.926563, -43.921333], [-19.927717, -43.924335], [-19.915161, -43.92968], [-19.92687, -43.92489], [-19.937078, -43.926956], [-25.458586, -49.230392], [-25.453388, -49.23008], [-25.457441, -49.227043], [-25.458136, -49.226818], [-25.467184, -49.233086], [-25.47197, -49.235058], [-22.324133, -46.92437], [-22.326462, -46.920883], [-22.35476, -46.92417], [-22.332695, -46.931824], [-22.33832, -46.931572], [-22.351906, -46.92604], [-22.327114, -46.922676], [-22.012388, -47.893654], [-22.007214, -47.892944], [-22.01634, -47.8829], [-22.016945, -47.894093], [-22.012966, -47.89383], [-22.019003, -47.89363], [-22.01428, -47.89923], [-22.005018, -47.891857], [-22.015593, -47.891743], [-22.005972, -47.89242], [-22.024195, -47.88762], [-22.016098, -47.89561], [-22.010775, -47.883625], [-22.008577, -47.88864], [-22.020748, -47.89324], [-22.0151, -47.892612], [-22.0178, -47.888954], [-22.021109, -47.893604], [-22.017284, -47.8897], [-22.025024, -47.884155], [-22.009768, -47.88553], [-22.007187, -47.88992], [-22.016052, -47.897312], [-22.017761, -47.88439], [-22.016483, -47.887802], [-23.540142, -46.637928], [-23.541641, -46.636883], [-22.821459, -47.27747], [-25.45382, -49.26315], [-25.458006, -49.26879], [-25.464449, -49.262352], [-25.452633, -49.268276], [-25.461323, -49.26554], [-25.440573, -49.271667], [-25.45952, -49.25786], [-29.910128, -51.178963], [-29.928097, -51.177883], [-29.913599, -51.18042], [-29.920292, -51.180805], [-29.918756, -51.180084], [-29.915234, -51.180153], [-21.26739, -48.689728], [-21.123259, -47.763172], [-21.132465, -47.742104], [-23.195906, -47.298584], [-23.189924, -47.29328], [-23.189169, -47.29113], [-25.382256, -49.22076], [-25.464449, -49.262352], [-25.462353, -49.268314], [-25.461172, -49.270393], [-23.545359, -46.487373], [-23.547445, -46.4916], [-23.542002, -46.497833], [-23.54612, -46.48878], [-23.252903, -45.926952], [-23.252226, -45.93034], [-23.692348, -46.496063], [-23.504738, -46.74069], [-23.504234, -46.7405], [-23.497553, -46.7414], [-23.49992, -46.739765], [-22.657906, -50.394592], [-22.664206, -50.41387], [-22.66408, -50.423645], [-22.66841, -50.414722], [-22.662374, -50.40688], [-22.738081, -47.37754], [-22.741829, -47.37091], [-21.121101, -47.74086], [-21.131374, -47.74256], [-21.12417, -47.745167], [-22.392017, -47.551903], [-22.381813, -47.544056], [-22.40774, -47.55604], [-22.397846, -47.557068], [-22.396643, -47.552853], [-22.378317, -47.5507], [-22.387165, -47.547848], [-22.374348, -47.53928], [-22.414457, -47.551525], [-22.371124, -47.537254], [-22.36782, -47.523], [-22.370417, -47.53916], [-22.386408, -47.554817], [-22.404661, -47.547413], [-22.394053, -47.555008], [-27.259214, -48.947136], [-27.292133, -48.928146], [-27.290316, -48.936344], [-23.381239, -51.918472], [-23.394424, -51.92344], [-23.38316, -51.92946], [-23.550407, -46.538822], [-26.94446, -48.628994], [-26.956467, -48.64408], [-23.549757, -46.44816], [-23.545498, -46.44795], [-23.55176, -46.448906], [-23.550238, -46.448723], [-23.55336, -46.45916], [-23.555464, -46.453053], [-23.556877, -46.44612], [-23.541477, -46.44993], [-23.549313, -46.44927], [-23.547493, -46.448112], [-25.659325, -49.31208], [-25.66809, -49.303608], [-25.657616, -49.30425], [-25.66141, -49.29859], [-25.661863, -49.291817], [-21.382166, -42.696564], [-21.387741, -42.69883], [-21.374462, -42.705097], [-26.945484, -48.629745], [-26.92686, -48.636387], [-24.050714, -46.539116], [-24.049793, -46.535812], [-24.056904, -46.545784], [-22.015985, -47.898426], [-22.007942, -47.891933], [-22.012283, -47.8894], [-22.012371, -47.89185], [-22.017918, -47.89524], [-22.014513, -47.89487], [-22.01933, -47.89667], [-22.013964, -47.89084], [-22.005539, -47.88463], [-22.011423, -47.894775], [-22.014387, -47.88385], [-22.01518, -47.89404], [-22.01641, -47.893795], [-22.016674, -47.89577], [-22.017918, -47.89524], [-22.006231, -47.893], [-22.018658, -47.88587], [-22.01345, -47.880943], [-19.861444, -43.990788], [-19.855995, -43.9829], [-19.86691, -43.990303], [-19.867847, -43.991116], [-19.872711, -43.989136], [-19.867138, -43.987957], [-19.864115, -43.995182], [-19.868889, -43.99309], [-19.865782, -43.993004], [-19.870886, -43.983356], [-21.56635, -45.444412], [-21.565584, -45.445915], [-21.563135, -45.444077], [-23.556877, -46.44612], [-23.54568, -46.44794], [-23.545498, -46.44795], [-23.552525, -46.460125], [-23.545776, -46.45145], [-23.550842, -46.449017], [-23.541842, -46.451206], [-23.547619, -46.448135], [-23.550915, -46.449135], [-23.555687, -46.451813], [-23.558565, -46.44945], [-16.373808, -39.59014], [-26.271017, -48.890392], [-26.264664, -48.88512], [-26.273241, -48.883335], [-27.154848, -48.506958], [-27.170664, -48.525406], [-27.15581, -48.509377], [-27.145014, -48.50433], [-19.950975, -44.04622], [-19.958817, -44.063297], [-19.950348, -44.04915], [-19.945755, -44.058296], [-19.951073, -44.05688], [-22.718475, -47.63087], [-21.815468, -49.602016], [-21.800386, -49.614185], [-21.584114, -49.43902], [-21.802023, -49.584568], [-24.050714, -46.539116], [-24.049793, -46.535812], [-24.057203, -46.54994], [-25.65015, -49.307983], [-23.391586, -51.932587], [-23.377876, -51.93459], [-23.376936, -51.935623], [-23.545275, -46.577103], [-19.806429, -43.989902], [-19.812725, -43.98868], [-19.812916, -43.98948], [-19.81246, -43.98762], [-26.322569, -48.865982], [-26.309633, -48.859184], [-26.318903, -48.86573], [-26.309643, -48.862724], [-23.493254, -46.36255], [-23.480051, -46.36655], [-23.481718, -46.375916], [-23.488592, -46.363255], [-23.5113, -47.486656], [-23.506464, -47.477562], [-23.515121, -47.47418], [-32.072365, -52.184044], [-32.068913, -52.15173], [-32.074314, -52.152603], [-23.283438, -47.67043], [-23.267857, -47.666553], [-23.284477, -47.674202], [-23.28628, -47.644783], [-23.297527, -47.64034], [-23.277056, -47.664677], [-23.322203, -47.6842], [-23.2849, -47.686104], [-23.28744, -47.67879], [-23.276905, -47.690205], [-23.297787, -47.652103], [-23.288889, -47.678368], [-23.286999, -47.677277], [-23.283438, -47.67043], [-23.305, -47.68074], [-23.281057, -47.67307], [-23.292208, -47.696346], [-23.304811, -47.64914], [-23.308233, -47.661602], [-23.28975, -47.679928], [-23.381239, -51.918472], [-23.386549, -51.91953], [-23.388464, -51.929314], [-22.86131, -48.4681], [-22.854809, -48.466927], [-22.866085, -48.455605], [-23.50944, -46.60318], [-23.504751, -46.607803], [-23.505945, -46.60757], [-23.74956, -46.667126], [-23.754576, -46.6646], [-23.747536, -46.667374], [-23.748083, -46.66718], [-23.752861, -46.670086], [-22.70373, -47.653973], [-18.585867, -46.516357], [-18.588531, -46.520042], [-18.59051, -46.510128], [-18.606827, -46.52257], [-18.607428, -46.519863], [-18.592115, -46.522385], [-18.60649, -46.52253], [-18.607105, -46.525223], [-18.600084, -46.52313], [-18.597273, -46.528122], [-18.601591, -46.51573], [-30.03995, -51.204998], [-30.050697, -51.19103], [-30.044262, -51.205757], [-30.056702, -51.20148], [-30.057528, -51.194046], [-30.057007, -51.19628], [-30.048418, -51.20841], [-23.597044, -46.686703], [-23.593664, -46.69148], [-21.11656, -47.793655], [-21.105042, -47.790386], [-23.542965, -46.36879], [-23.549685, -46.36616], [-25.386333, -49.23611], [-25.387566, -49.239353], [-25.377789, -49.253384], [-25.385712, -49.247288], [-22.545559, -44.173584], [-22.544254, -44.184658], [-23.437977, -46.750122], [-23.431295, -46.75224], [-23.485434, -46.85542], [-21.473227, -51.524532], [-21.489447, -51.53279], [-21.48364, -51.522457], [-21.487518, -51.55115], [-21.491026, -51.531864], [-21.48558, -51.531704], [-21.479801, -51.531933], [-21.489079, -51.52238], [-21.477522, -51.532135], [-21.477417, -51.51596], [-21.496477, -51.53502], [-21.49887, -51.53786], [-25.450842, -49.270298], [-25.450474, -49.265152], [-25.456184, -49.258137], [-25.463171, -49.263195], [-25.45526, -49.270138], [-25.457699, -49.25879], [-25.456295, -49.267784], [-25.461172, -49.270393], [-25.420998, -49.254345], [-25.418234, -49.255325], [-25.41398, -49.243], [-22.109194, -51.381256], [-22.11453, -51.379974], [-23.779562, -46.525253], [-23.77968, -46.52655], [-23.780174, -46.52531], [-25.014267, -47.92723], [-24.974995, -47.952366], [-25.006784, -47.93129], [-25.014465, -47.92878], [-25.016693, -47.936474], [-25.00422, -47.932274], [-23.453844, -46.55641], [-25.384047, -49.22222], [-25.381403, -49.220985], [-25.384466, -49.22238], [-25.383121, -49.231136], [-29.1857, -51.16534], [-29.205921, -51.175014], [-23.524124, -46.472397], [-23.528313, -46.47218], [-23.530344, -46.469604], [-23.521093, -46.471004], [-23.52584, -46.472813], [-23.52172, -46.47033], [-23.543844, -46.555508], [-23.546251, -46.5641], [-23.547415, -46.569557], [-23.547216, -46.569027], [-23.652304, -46.782497], [-23.64863, -46.78891], [-23.649586, -46.788803], [-23.652002, -46.781025], [-23.650454, -46.78622], [-20.423738, -49.97956], [-20.427738, -49.946095], [-20.416016, -49.969017], [-20.425863, -49.991356], [-20.42071, -49.972145], [-20.43146, -49.957623], [-23.490229, -46.364544], [-23.48404, -46.369152], [-23.481892, -46.367718], [-23.482128, -46.36932], [-23.479967, -46.360725], [-23.492369, -46.366882], [-23.480814, -46.367893], [-23.48289, -46.370407], [-23.48128, -46.35887], [-23.56053, -46.657383], [-23.565458, -46.651524], [-23.554836, -46.663685], [-23.564959, -46.652134], [-23.564827, -46.652344], [-23.561691, -46.656124], [-23.561264, -46.656555], [-23.556927, -46.66154], [-23.556139, -46.662315], [-23.565458, -46.651524], [-22.88926, -43.47172], [-22.893679, -43.475704], [-22.88826, -43.47791], [-22.893316, -43.4638], [-22.700363, -46.773636], [-22.70075, -46.773018], [-15.748661, -49.329994], [-15.749581, -49.328274], [-23.670385, -46.70335], [-25.458586, -49.230392], [-25.459852, -49.231594], [-22.773039, -45.214096], [-22.770403, -45.21445], [-23.573292, -46.502586], [-23.575403, -46.49019], [-23.572243, -46.493515], [-23.575281, -46.490196], [-23.656013, -46.614265], [-23.655191, -46.61194], [-23.656904, -46.611088], [-23.655191, -46.61194], [-23.65527, -46.612198], [-23.655191, -46.61194], [-23.985758, -46.242992], [-23.986979, -46.246624], [-23.98286, -46.242188], [-22.155645, -46.041245], [-20.50678, -43.85595], [-22.388426, -47.58033], [-22.387522, -47.563942], [-22.38988, -47.57278], [-22.39775, -47.579292], [-22.400442, -47.578663], [-22.391815, -47.57498], [-22.388247, -47.582733], [-22.391293, -47.584248], [-21.175896, -47.81079], [-21.179401, -47.80995], [-23.500961, -46.62721], [-23.502777, -46.63174], [-26.828737, -49.29905], [-26.826157, -49.30274], [-26.810455, -49.281403], [-26.85605, -49.267418], [-23.568523, -46.697044], [-23.56763, -46.697636], [-22.89903, -47.1546], [-26.864086, -49.127937], [-23.54889, -46.64543], [-23.55104, -46.647816], [-22.893543, -43.224182], [-22.892574, -43.219482], [-22.892921, -43.228355], [-22.89607, -43.22178], [-22.895336, -43.222088], [-22.935865, -43.175404], [-22.939528, -43.176785], [-22.936611, -43.17563], [-22.933186, -43.17713], [-22.936018, -43.17544], [-22.936018, -43.17544], [-22.936333, -43.175488], [-22.939913, -43.176975], [-22.934757, -43.17679], [-22.939064, -43.178974], [-22.93743, -43.177605], [-22.93664, -43.175613], [-23.62835, -46.708847], [-23.62835, -46.708847], [-23.636084, -46.70951], [-23.635632, -46.70947], [-25.400827, -49.240337], [-25.397625, -49.241425], [-25.402462, -49.244553], [-25.42987, -49.266815], [-25.434956, -49.26367], [-25.433062, -49.27311], [-25.431076, -49.266285], [-25.43646, -49.2692], [-25.430387, -49.267002], [-25.488432, -49.31201], [-25.487476, -49.30868], [-25.487387, -49.302036], [-25.495039, -49.299603], [-25.485836, -49.29401], [-25.446653, -49.290142], [-25.447987, -49.28472], [-25.445541, -49.28318], [-25.452715, -49.289616], [-25.453585, -49.30345], [-25.450014, -49.293247], [-25.445593, -49.286507], [-25.443995, -49.283638], [-25.452473, -49.298473], [-25.450598, -49.288475], [-25.448708, -49.286602], [-25.449306, -49.278736], [-25.451736, -49.294605], [-25.449306, -49.2883], [-25.445301, -49.28507], [-25.446571, -49.287167], [-21.12542, -48.96312], [-21.109539, -48.961353], [-23.488092, -46.503605], [-23.495173, -46.501194], [-23.488817, -46.50388], [-23.492205, -46.505146], [-23.488817, -46.50388], [-16.625658, -49.319736], [-27.211687, -48.60262], [-27.158682, -48.596546], [-27.15698, -48.53968], [-27.157654, -48.567574], [-23.53723, -46.643345], [-22.217018, -49.9477], [-22.218277, -49.95108], [-22.211443, -49.95181], [-29.929926, -51.166233], [-29.92892, -51.16379], [-29.921316, -51.155483], [-29.927593, -51.169136], [-29.926054, -51.176952], [-23.52116, -46.193035], [-23.519838, -46.18391], [-23.521482, -46.185936], [-23.538912, -46.181187], [-23.518738, -46.177753], [-23.52285, -46.188324], [-23.514618, -46.175056], [-23.520838, -46.187557], [-23.516699, -46.174225], [-21.178034, -47.77247], [-21.183708, -47.770603], [-21.180958, -47.774235], [-21.180552, -47.763153], [-21.19197, -50.46748], [-21.20806, -50.452007], [-21.203072, -50.457607], [-21.174116, -47.772827], [-21.175968, -47.76452], [-21.18041, -47.771957], [-21.180552, -47.763153], [-21.18001, -47.76723], [-21.180552, -47.763153], [-22.819246, -42.977043], [-22.810957, -42.966446], [-22.806616, -42.96696], [-19.978022, -43.973194], [-19.98331, -43.97391], [-19.977173, -43.96746], [-19.97939, -43.980785], [-19.974327, -43.967426], [-19.97326, -43.970722], [-19.978071, -43.970604], [-19.97825, -43.974182], [-19.977873, -43.969074], [-19.97321, -43.972347], [-19.983444, -43.972176], [-19.97382, -43.968975], [-19.975805, -43.968906], [-19.969658, -43.969757], [-19.97757, -43.96655], [-19.969713, -43.970924], [-19.970171, -43.977154], [-19.969713, -43.970924], [-19.968302, -43.969406], [-19.972406, -43.97282], [-19.977118, -43.96652], [-19.97399, -43.970676], [-19.976076, -43.97039], [-19.972328, -43.983383], [-23.635145, -46.66079], [-21.626104, -42.103275], [-21.62766, -42.10153], [-21.620083, -42.108322], [-21.6287, -42.10162], [-22.38312, -47.585506], [-22.391356, -47.573555], [-22.387087, -47.56796], [-22.3878, -47.56208], [-23.547792, -46.660645], [-23.547623, -46.660595], [-23.553358, -46.66294], [-25.436628, -49.210022], [-25.442432, -49.205986], [-25.441, -49.202892], [-25.441967, -49.21681], [-25.398466, -49.2437], [-25.40068, -49.243034], [-25.409994, -49.238506], [-25.387472, -49.23392], [-25.362814, -49.281822], [-25.381596, -49.280575], [-22.329468, -49.108093], [-23.55104, -46.647816], [-23.549797, -46.65052], [-23.722235, -46.397877], [-23.722923, -46.39276], [-23.719822, -46.395584], [-23.71601, -46.399364], [-30.079973, -51.166042], [-30.06478, -51.17384], [-30.062775, -51.16449], [-30.075457, -51.166252], [-30.065151, -51.17058], [-23.507734, -46.441307], [-23.501112, -46.44522], [-21.933245, -50.51356], [-21.932161, -50.517807], [-21.930338, -50.519855], [-21.933762, -50.520878], [-21.93719, -50.50832], [-15.788832, -47.908672], [-21.176638, -47.773476], [-21.173782, -47.769047], [-21.182692, -47.763695], [-21.175587, -47.77409], [-21.175179, -47.76671], [-15.9168415, -46.107697], [-23.117613, -46.55431], [-23.117146, -46.55997], [-23.111595, -46.552887], [-23.113665, -46.54912], [-27.160492, -48.581585], [-27.158838, -48.579697], [-27.155502, -48.57739], [-27.155905, -48.545723], [-27.154974, -48.58771], [-20.472656, -54.648487], [-23.536547, -46.653065], [-23.536665, -46.65309], [-23.538422, -46.653633], [-23.542307, -46.654564], [-23.540642, -46.65467], [-26.332207, -48.85355], [-26.3231, -48.84663], [-26.335175, -48.84638], [-26.335136, -48.85378], [-23.476355, -46.542416], [-23.476355, -46.534393], [-23.476744, -46.54296], [-23.47744, -46.54168], [-23.476355, -46.542416], [-23.521835, -46.66429], [-23.52017, -46.661495], [-19.898172, -43.955925], [-19.904078, -43.960133], [-19.9018, -43.94949], [-19.900461, -43.95985], [-19.9009, -43.962223], [-19.902395, -43.958813], [-19.898165, -43.957153], [-19.897097, -43.95454], [-19.90383, -43.960403], [-25.492561, -49.298775], [-25.48399, -49.29342], [-25.495056, -49.294094], [-25.494368, -49.297745], [-25.494354, -49.3074], [-25.490028, -49.312946], [-15.800121, -47.959644], [-15.801309, -47.969566], [-25.470018, -49.221207], [-25.465294, -49.226013], [-19.893572, -43.946], [-19.893847, -43.9474], [-19.88912, -43.944633], [-19.8931, -43.942932], [-19.8931, -43.942932], [-19.88467, -43.938644], [-19.753864, -47.933926], [-19.522436, -42.62984], [-19.516895, -42.629494], [-19.507715, -42.629112], [-19.522448, -42.63487], [-19.508223, -42.63057], [-19.49308, -42.631523], [-19.517857, -42.62839], [-19.523508, -42.62733], [-19.494825, -42.633175], [-19.510708, -42.628983], [-19.48793, -42.625603], [-19.476032, -42.62139], [-19.520021, -42.62505], [-23.592258, -46.528202], [-23.594618, -46.52582], [-23.556684, -46.570103], [-23.555563, -46.568264], [-21.181282, -47.774933], [-21.1737, -47.760742], [-18.93059, -48.332405], [-18.908638, -48.325413], [-18.907625, -48.318924], [-18.914576, -48.31401], [-18.928837, -48.335323], [-18.93028, -48.337933], [-18.908897, -48.33143], [-18.912952, -48.337215], [-18.921087, -48.32776], [-18.913086, -48.31962], [-23.579397, -46.532326], [-23.57551, -51.458637], [-23.62463, -46.70051], [-23.627028, -46.701363], [-23.585873, -46.632275], [-23.585287, -46.63006], [-23.58702, -46.633324], [-23.58596, -46.632137], [-23.59163, -46.63338], [-19.910559, -43.95719], [-19.911678, -43.96137], [-19.911787, -43.96362], [-19.913136, -43.96667], [-19.917747, -43.960407], [-19.910095, -43.96609], [-19.914219, -43.95094], [-19.915792, -43.954876], [-19.91216, -43.96876], [-25.637201, -49.304146], [-25.648865, -49.302692], [-25.631401, -49.290462], [-25.638977, -49.306564], [-23.53146, -46.711975], [-19.9048, -43.92691], [-19.902088, -43.925888], [-19.907177, -43.91945], [-19.904089, -43.928528], [-19.904623, -43.92802], [-19.893837, -43.93037], [-19.900698, -43.923866], [-19.909233, -43.92238], [-19.907608, -43.922474], [-23.202276, -45.782406], [-23.087624, -45.93148], [-23.208412, -45.809162], [-23.72058, -46.546555], [-23.72058, -46.546555], [-23.716364, -46.551075], [-23.72067, -46.549103], [-23.721735, -46.544983], [-23.716908, -46.547592], [-23.1162, -46.550537], [-23.116602, -46.55235], [-23.1121, -46.550438], [-23.115122, -46.549953], [-23.116026, -46.553905], [-23.117216, -46.555305], [-23.113129, -46.556377], [-23.115946, -46.549355], [-25.075703, -50.125835], [-25.07862, -50.129604], [-25.083437, -50.136574], [-25.082178, -50.134403], [-29.16396, -51.20757], [-29.161398, -51.20277], [-23.012148, -47.516926], [-22.992992, -47.506844], [-22.98083, -47.499847], [-22.997746, -47.50424], [-22.996998, -47.50301], [-22.995832, -47.493855], [-22.996998, -47.50301], [-22.995733, -47.50495], [-23.012436, -47.50384], [-22.994093, -47.495655], [-18.92276, -48.2849], [-18.907145, -48.27831], [-18.914415, -48.276676], [-18.898235, -48.270565], [-18.921421, -48.274147], [-18.91953, -48.27558], [-18.923801, -48.277958], [-18.922174, -48.294086], [-18.91385, -48.26902], [-18.924345, -48.286682], [-18.934025, -48.233612], [-18.898157, -48.26099], [-18.912516, -48.301487], [-18.90274, -48.270718], [-18.92529, -48.29598], [-18.907393, -48.278316], [-18.907393, -48.278316], [-18.914797, -48.299255], [-18.9193, -48.28232], [-18.90434, -48.280834], [-18.919706, -48.276867], [-18.921686, -48.273388], [-18.885948, -48.265408], [-18.899063, -48.271008], [-19.945608, -44.032597], [-19.806099, -44.128193], [-22.682919, -46.980503], [-23.52369, -46.61422], [-23.524195, -46.61384], [-23.551672, -46.813293], [-23.556868, -46.806274], [-23.557077, -46.80933], [-23.557753, -46.80797], [-25.45321, -49.287693], [-25.449198, -49.282803], [-25.451628, -49.289394], [-25.446573, -49.290104], [-25.448765, -49.283695], [-25.446142, -49.290676], [-25.449615, -49.28921], [-25.445759, -49.29328], [-25.449306, -49.2883], [-25.448765, -49.283695], [-25.452715, -49.289616], [-25.449356, -49.290936], [-25.447, -49.28774], [-25.447, -49.28774], [-25.446136, -49.286175], [-20.6241, -49.64856], [-20.62435, -49.64334], [-23.625044, -46.595932], [-23.444532, -46.56554], [-23.450829, -46.566025], [-22.997746, -47.50424], [-22.995382, -47.511185], [-22.99335, -47.489697], [-23.006498, -47.507454], [-23.000456, -47.516808], [-23.004889, -47.517372], [-23.001644, -47.495747], [-21.810009, -46.56933], [-21.805868, -46.550808], [-21.795885, -46.530163], [-21.805298, -46.56242], [-21.78978, -46.59872], [-21.807272, -46.551815], [-21.805092, -46.548065], [-21.78405, -46.54068], [-21.784163, -46.542767], [-21.791067, -46.599335], [-21.789255, -46.54915], [-21.795046, -46.527332], [-21.78573, -46.548454], [-23.485266, -46.543133], [-23.481972, -46.545727], [-23.483786, -46.541553], [-23.481972, -46.545727], [-25.436602, -49.268448], [-25.432865, -49.270523], [-25.432957, -49.267834], [-25.435432, -49.26404], [-25.436522, -49.270256], [-25.43417, -49.274284], [-25.430271, -49.2666], [-25.435488, -49.270214], [-26.814472, -49.28427], [-26.81699, -49.27507], [-26.85605, -49.267418], [-26.814665, -49.28167], [-23.388803, -46.33042], [-23.398548, -46.326843], [-23.398548, -46.326843], [-23.388863, -46.329563], [-23.395279, -46.326702], [-23.386335, -46.333008], [-23.394987, -46.327698], [-23.39568, -46.321857], [-23.400028, -46.322613], [-23.555527, -46.683796], [-22.568886, -47.388912], [-22.571125, -47.45128], [-22.559202, -47.397213], [-22.57595, -47.38046], [-22.57062, -47.375744], [-25.407887, -49.166103], [-25.39035, -49.12107], [-29.693762, -51.224842], [-29.691284, -51.23489], [-29.686628, -51.24933], [-29.696688, -51.22671], [-29.697731, -51.245346], [-29.696096, -51.244324], [-29.693214, -51.230835], [-29.696316, -51.243687], [-29.691975, -51.22128], [-29.712029, -51.222595], [-29.689548, -51.24239], [-23.52584, -46.398224], [-23.539324, -46.395008], [-25.398207, -49.24085], [-25.392876, -49.238586], [-25.39865, -49.245182], [-25.396856, -49.24194], [-23.511488, -46.42828], [-23.509655, -46.429424], [-23.514736, -46.427464], [-23.511854, -46.427883], [-23.514786, -46.427513], [-23.447765, -46.529007], [-23.443428, -46.52618], [-23.443487, -46.530605], [-23.444778, -46.533104], [-25.090328, -50.13931], [-25.087881, -50.139687], [-25.087822, -50.147068], [-25.089285, -50.139957], [-23.550953, -46.540226], [-23.571236, -46.699306], [-23.568333, -46.701847], [-23.716959, -46.550556], [-23.715796, -46.547657], [-23.716959, -46.550556], [-23.721716, -46.546738], [-23.523642, -46.51099], [-23.117628, -46.550407], [-23.114775, -46.557705], [-23.1124, -46.548885], [-23.11241, -46.55942], [-23.114496, -46.55796], [-23.114775, -46.557705], [-23.115604, -46.553375], [-21.176594, -47.765053], [-21.18001, -47.76723], [-27.642, -52.264507], [-27.6433, -52.275837], [-27.64249, -52.270435], [-27.638235, -52.276413], [-27.630033, -52.264248], [-27.635584, -52.284954], [-27.64295, -52.275135], [-27.641699, -52.26673], [-27.621675, -52.280315], [-27.62678, -52.27547], [-27.631361, -52.273693], [-23.534798, -46.55245], [-23.648848, -46.849884], [-23.642218, -46.840645], [-23.651009, -46.853374], [-23.651098, -46.85464], [-23.646584, -46.842175], [-18.568151, -46.525055], [-18.565422, -46.526417], [-18.574047, -46.520588], [-18.583916, -46.5262], [-18.58675, -46.52349], [-18.573183, -46.526344], [-18.582975, -46.522785], [-18.589437, -46.520973], [-18.5709, -46.520638], [-18.569092, -46.5247], [-18.583204, -46.53225], [-18.577871, -46.515594], [-18.55881, -46.525932], [-23.586697, -46.51386], [-23.590277, -46.50624], [-25.448751, -49.28181], [-25.446573, -49.290104], [-25.454494, -49.296017], [-25.445135, -49.2842], [-25.449356, -49.290936], [-25.444614, -49.288773], [-25.445415, -49.28724], [-25.44914, -49.288116], [-25.453196, -49.295216], [-25.453781, -49.289112], [-25.451736, -49.294605], [-25.442795, -49.27842], [-25.40008, -49.24647], [-25.396433, -49.240906], [-25.398369, -49.245243], [-25.393192, -49.2359], [-25.399881, -49.246323], [-25.401634, -49.24237], [-25.398466, -49.2437], [-25.393906, -49.241074], [-25.403463, -49.245018], [-25.40874, -49.235924], [-25.405344, -49.2421], [-25.410555, -49.23798], [-25.393085, -49.239655], [-25.40003, -49.247326], [-25.393398, -49.235466], [-25.386562, -49.233192], [-23.567698, -46.69842], [-23.570612, -46.69842], [-23.570219, -46.69599], [-23.571064, -46.696484], [-23.567698, -46.69842], [-23.642931, -46.756275], [-23.640882, -46.758305], [-23.644922, -46.757484], [-23.640882, -46.758305], [-23.643126, -46.75636], [-23.640882, -46.758305], [-23.641603, -46.755985], [-25.480305, -49.294994], [-25.484127, -49.29839], [-25.48399, -49.29342], [-25.493021, -49.31021], [-25.488222, -49.296707], [-25.489868, -49.294994], [-25.495039, -49.299603], [-25.495544, -49.29951], [-25.486378, -49.294853], [-25.49552, -49.29735], [-25.490028, -49.312946], [-22.391472, -47.57591], [-22.394669, -47.571594], [-22.39025, -47.581577], [-22.38943, -47.58496], [-22.397434, -47.575916], [-22.392456, -47.569782], [-22.39446, -47.56855], [-22.389492, -47.56643], [-22.388622, -47.56496], [-22.385645, -47.581924], [-22.3878, -47.56208], [-22.845284, -47.617214], [-22.830856, -47.59347], [-22.844395, -47.594986], [-22.857134, -47.61334], [-18.91413, -48.332134], [-18.93059, -48.332405], [-18.914518, -48.320473], [-18.913023, -48.31653], [-18.917202, -48.324615], [-18.938047, -48.33615], [-18.939163, -48.333855], [-18.910114, -48.311226], [-18.919178, -48.317158], [-23.684504, -46.6388], [-23.684795, -46.64145], [-19.487213, -42.629612], [-19.482437, -42.628685], [-19.478388, -42.634926], [-19.507715, -42.629112], [-19.488789, -42.62412], [-19.51361, -42.63012], [-19.501928, -42.630547], [-19.488651, -42.62601], [-19.485512, -42.630547], [-19.488335, -42.62597], [-22.773447, -47.143627], [-22.759365, -47.151913], [-22.77307, -47.144062], [-22.770746, -47.14488], [-22.758898, -47.155106], [-22.777473, -47.14317], [-22.777655, -47.13841], [-22.768324, -47.14036], [-22.7617, -47.150562], [-22.764595, -47.142815], [-22.773684, -47.161694], [-23.010136, -47.506973], [-22.993332, -47.510487], [-22.995323, -47.49995], [-22.99284, -47.510876], [-23.00116, -47.507523], [-22.990633, -47.500713], [-22.99086, -47.506153], [-23.006237, -47.506226], [-23.550953, -46.540226], [-23.554792, -46.53143], [-23.687428, -46.762794], [-23.68619, -46.764755], [-23.686718, -46.76053], [-23.11486, -46.558743], [-23.11312, -46.55634], [-23.11586, -46.558537], [-23.11641, -46.547398], [-23.115862, -46.562046], [-23.114643, -46.559044], [-23.112495, -46.56221], [-23.116505, -46.55631], [-23.116602, -46.552795], [-23.640018, -46.515526], [-23.639673, -46.51853], [-23.684011, -46.53744], [-23.627007, -46.505108], [-23.645779, -46.525238], [-23.635748, -46.508774], [-23.643969, -46.52429], [-23.64267, -46.51666], [-23.639694, -46.513145], [-23.634903, -46.51485], [-23.612041, -46.492588], [-23.613026, -46.496506], [-22.780659, -43.424747], [-22.781515, -43.424126], [-22.78654, -43.424026], [-22.776604, -43.42593], [-22.785524, -43.424034], [-23.48106, -46.64631], [-23.48106, -46.64631], [-20.23197, -40.27011], [-20.233406, -40.273224], [-20.230068, -40.27263], [-20.222532, -40.274044], [-22.333464, -49.102154], [-22.32991, -49.105564], [-22.329124, -49.095676], [-19.96408, -44.05031], [-19.967281, -44.054955], [-23.540945, -46.4257], [-23.54228, -46.425156], [-23.537506, -46.426056], [-23.547043, -46.423553], [-23.551481, -46.42933], [-23.541986, -46.42601], [-21.555368, -50.45414], [-23.547134, -46.710518], [-23.526085, -46.503315], [-23.528292, -46.499645], [-23.524803, -46.503872], [-25.433968, -49.26646], [-25.436172, -49.26726], [-25.433514, -49.26636], [-25.430271, -49.2666], [-25.431076, -49.266285], [-25.432922, -49.272713], [-25.433184, -49.270927], [-22.904007, -43.262646], [-22.90289, -43.24869], [-22.90583, -43.2582], [-22.90431, -43.253048], [-22.904638, -43.267387], [-22.903076, -43.25938], [-22.906193, -43.242874], [-22.903824, -43.258743], [-19.624374, -44.03674], [-19.61898, -44.043304], [-19.625042, -44.037384], [-19.619951, -44.04987], [-19.62712, -44.029465], [-19.60323, -44.032677], [-19.622213, -44.044167], [-19.600681, -44.02994], [-19.62464, -44.03396], [-19.593576, -44.029278], [-19.580322, -44.024315], [-19.602335, -44.031628], [-19.622839, -44.04025], [-26.880032, -52.40605], [-26.87598, -52.403328], [-26.878054, -52.407402], [-26.863596, -52.408974], [-26.881155, -52.419464], [-26.875101, -52.41117], [-26.879126, -52.39218], [-23.476572, -46.542114], [-23.47769, -46.541645], [-23.476355, -46.542416], [-23.476355, -46.542416], [-23.480083, -46.54098], [-23.47769, -46.541645], [-23.478155, -46.54165], [-23.47655, -46.5421], [-22.782665, -47.141518], [-22.772902, -47.15615], [-22.767002, -47.148083], [-22.767727, -47.151955], [-22.775852, -47.13888], [-22.767418, -47.149544], [-22.76125, -47.151707], [-22.758636, -47.15853], [-22.757292, -47.149925], [-22.775852, -47.13888], [-22.790888, -47.139503], [-22.781504, -47.159763], [-22.772772, -47.152863], [-22.759516, -47.157703], [-21.790342, -46.596714], [-21.78033, -46.605877], [-21.792551, -46.55093], [-21.80687, -46.56431], [-21.784388, -46.540764], [-21.772583, -46.604694], [-21.789242, -46.60164], [-21.80844, -46.5667], [-21.789135, -46.641052], [-21.801046, -46.54811], [-18.88705, -48.265335], [-18.903725, -48.265125], [-18.910568, -48.262367], [-18.895973, -48.270195], [-18.913256, -48.284172], [-18.909578, -48.275845], [-18.90034, -48.266243], [-18.899176, -48.26163], [-18.893568, -48.270187], [-18.914711, -48.275967], [-18.891994, -48.270424], [-18.918129, -48.270737], [-18.92237, -48.280357], [-18.919899, -48.290672], [-18.912094, -48.268803], [-18.918018, -48.273705], [-18.918957, -48.28424], [-18.920687, -48.276844], [-18.92394, -48.281605], [-18.903412, -48.279995], [-18.916403, -48.278164], [-18.918512, -48.289173], [-18.895824, -48.26513], [-18.898045, -48.263935], [-18.905857, -48.26605], [-18.89758, -48.264614], [-18.917889, -48.299088], [-18.90265, -48.2707], [-18.911627, -48.282997], [-18.91385, -48.26902], [-18.919937, -48.287178], [-18.930113, -48.28363], [-18.903229, -48.274548], [-23.001354, -47.50122], [-22.991558, -47.50131], [-22.99459, -47.503117], [-23.008183, -47.5058], [-23.005274, -47.509636], [-29.193775, -51.18981], [-29.194607, -51.18242], [-29.189623, -51.182884], [-29.199108, -51.182228], [-29.199083, -51.179287], [-23.537098, -46.62044], [-22.884584, -43.35059], [-22.892363, -43.345848], [-22.886822, -43.3431], [-22.887762, -43.34528], [-22.898018, -43.345924], [-22.888178, -43.354477], [-22.889183, -43.353447], [-22.897152, -43.348644], [-25.433968, -49.26646], [-25.430656, -49.26763], [-25.434956, -49.26367], [-25.435509, -49.275036], [-25.430801, -49.267994], [-25.430271, -49.2666], [-25.435028, -49.268635], [-25.434772, -49.27486], [-25.435154, -49.26864], [-25.435488, -49.270214], [-25.435432, -49.26404], [-25.434078, -49.271507], [-25.435715, -49.271393], [-25.435488, -49.270214], [-21.179703, -47.803352], [-21.182726, -47.806435], [-21.18476, -47.806828], [-21.182955, -47.809174], [-19.902733, -43.930607], [-19.888117, -43.931442], [-19.891684, -43.92944], [-19.894224, -43.930756], [-19.893705, -43.927658], [-19.90029, -43.933037], [-19.888117, -43.931442], [-19.898676, -43.92836], [-8.286038, -35.968315], [-26.875109, -52.40918], [-26.880325, -52.37722], [-26.888624, -52.39504], [-26.87791, -52.402916], [-26.871435, -52.411777], [-26.873987, -52.40494], [-26.869688, -52.409485], [-26.876913, -52.39471], [-26.878613, -52.40435], [-26.860638, -52.417652], [-18.88705, -48.265335], [-18.90209, -48.264126], [-18.909897, -48.28899], [-18.913015, -48.26213], [-18.919058, -48.27736], [-18.921795, -48.279217], [-18.922806, -48.290215], [-18.89931, -48.25994], [-18.90034, -48.266243], [-18.915329, -48.285793], [-18.913528, -48.301342], [-18.89758, -48.264614], [-18.895971, -48.270515], [-18.91607, -48.276173], [-18.893476, -48.26233], [-18.907393, -48.278316], [-18.92079, -48.277718], [-18.907393, -48.278316], [-18.900715, -48.261547], [-18.905935, -48.27157], [-18.923334, -48.279175], [-18.891207, -48.265038], [-18.915602, -48.288937], [-18.921864, -48.295128], [-18.913855, -48.28284], [-18.917149, -48.27863], [-18.930391, -48.28981], [-18.919937, -48.287178], [-23.642954, -46.696728], [-23.632761, -46.69042], [-23.632761, -46.69042], [-25.541357, -49.28924], [-23.636766, -46.605255], [-23.632648, -46.603027], [-23.635117, -46.603886], [-19.63987, -43.226562], [-19.62211, -43.21781], [-19.640139, -43.23817], [-19.63082, -43.210335], [-19.622198, -43.21344], [-19.631948, -43.22574], [-19.629974, -43.2247], [-19.62146, -43.2287], [-19.632975, -43.22236], [-19.632938, -43.22819], [-19.63219, -43.20749], [-19.628067, -43.226837], [-19.628096, -43.224133], [-19.637291, -43.229336], [-19.643854, -43.229977], [-19.618666, -43.231712], [-19.637596, -43.224182], [-19.614874, -43.22471], [-19.625591, -43.226532], [-19.636845, -43.225674], [-19.634699, -43.233685], [-26.244074, -49.379356], [-26.242426, -49.387157], [-25.453348, -49.29897], [-25.44914, -49.288116], [-25.445217, -49.28612], [-25.447416, -49.290745], [-25.45402, -49.292435], [-25.444624, -49.29158], [-25.448864, -49.287292], [-25.444302, -49.28268], [-25.449842, -49.288124], [-25.451302, -49.29027], [-25.449306, -49.2883], [-25.446268, -49.290676], [-25.449306, -49.278736], [-25.452253, -49.282455], [-23.1148, -46.55166], [-18.916943, -48.27291], [-18.921314, -48.27995], [-18.912931, -48.29521], [-18.917599, -48.279427], [-18.895893, -48.265728], [-18.90034, -48.266243], [-18.925491, -48.289974], [-18.926653, -48.293945], [-18.907255, -48.265316], [-18.91796, -48.27562], [-18.9194, -48.280407], [-18.911148, -48.29301], [-18.927954, -48.28363], [-18.922905, -48.288677], [-18.907393, -48.278316], [-18.902407, -48.264122], [-18.91763, -48.296776], [-18.923237, -48.28527], [-18.929571, -48.281467], [-18.912361, -48.26268], [-18.902927, -48.26587], [-18.907698, -48.276897], [-18.927559, -48.287083], [-18.907393, -48.278316], [-18.916302, -48.284843], [-18.929613, -48.287403], [-18.917284, -48.276024], [-18.9245, -48.28379], [-18.917213, -48.278755], [-18.91999, -48.283382], [-18.911465, -48.272804], [-18.920933, -48.273617], [-23.651196, -46.610794], [-23.562555, -46.57816], [-23.561745, -46.58215], [-23.562555, -46.57816], [-23.559256, -46.588722], [-23.566717, -46.686737], [-23.555643, -46.696083], [-20.310625, -40.297714], [-20.307362, -40.3028], [-20.310354, -40.300564], [-20.306364, -40.302128], [-20.301462, -40.29859], [-23.560585, -47.146286], [-24.945402, -53.431442], [-24.955812, -53.426064], [-20.621208, -49.65354], [-20.619787, -49.648205], [-23.635145, -46.66079], [-22.380827, -47.387573], [-22.364836, -47.39023], [-22.366426, -47.393963], [-22.368744, -47.389053], [-22.374382, -47.38882], [-22.373701, -47.391327], [-26.863228, -49.33543], [-26.927868, -49.368996], [-26.948864, -49.36221], [-12.902399, -38.407417], [-15.530724, -47.338573], [-15.54969, -47.3344], [-15.539927, -47.328426], [-15.551877, -47.331783], [-19.86669, -43.98164], [-19.866312, -43.98078], [-19.875708, -43.981964], [-19.870745, -43.980274], [-19.86716, -43.985065], [-22.89059, -43.284504], [-22.889597, -43.283638], [-22.889269, -43.29393], [-22.895855, -43.283142], [-22.888836, -43.289486], [-22.895689, -43.28694], [-22.890612, -43.289955], [-22.894873, -43.287193], [-22.893246, -43.28282], [-23.442305, -51.8741], [-23.439102, -51.875404], [-23.441133, -51.877865], [-25.457512, -49.30497], [-25.45894, -49.305244], [-25.449644, -49.309208], [-25.459145, -49.317356], [-25.449364, -49.306133], [-25.458603, -49.305347], [-28.054592, -48.654415], [-28.025795, -48.62651], [-28.032759, -48.62243], [-28.023712, -48.617218], [-28.06653, -48.6259], [-28.02542, -48.616394], [-28.054592, -48.654415], [-25.506798, -49.17633], [-25.499609, -49.182137], [-25.50152, -49.177208], [-25.505816, -49.183784], [-19.841686, -43.98061], [-19.844542, -43.981213], [-19.84842, -43.982933], [-23.718925, -46.546673], [-23.718658, -46.545254], [-23.71906, -46.544594], [-23.710197, -46.546543], [-23.719961, -46.545227], [-23.714579, -46.54581], [-23.711517, -46.546284], [-23.716908, -46.548374], [-22.83257, -43.33725], [-22.837719, -43.314144], [-22.837595, -43.32805], [-22.833328, -43.3303], [-22.835669, -43.31865], [-22.838724, -43.316734], [-22.838503, -43.32091], [-22.83902, -43.32638], [-22.837437, -43.314934], [-22.833652, -43.32759], [-22.838724, -43.316734], [-22.838795, -43.31596], [-22.83467, -43.311054], [-22.83563, -43.318436], [-22.842539, -43.32903], [-22.834684, -43.31621], [-22.840933, -43.327343], [-24.296085, -53.31111], [-24.290453, -53.31242], [-27.434467, -48.393425], [-27.443235, -48.40596], [-27.449875, -48.42597], [-27.45656, -48.398552], [-27.446747, -48.398045], [-27.432327, -48.397152], [-27.468117, -48.40848], [-27.445229, -48.39437], [-27.439375, -48.400364], [-27.42516, -48.402737], [-22.886667, -43.46818], [-22.885958, -43.468666], [-22.876965, -43.469723], [-22.881088, -43.471004], [-22.492968, -44.50178], [-22.475752, -44.49898], [-22.892021, -43.12155], [-22.889362, -43.119194], [-22.889362, -43.119194], [-22.893549, -43.118828], [-22.895914, -43.124176], [-22.893559, -43.12321], [-22.894276, -43.120853], [-22.89479, -43.12384], [-22.895538, -43.121056], [-22.889362, -43.119194], [-22.894398, -43.11901], [-22.894283, -43.120735], [-22.892788, -43.11938], [-22.894814, -43.121838], [-22.885479, -43.1254], [-23.589235, -46.67141], [-23.592041, -46.667885], [-22.979677, -43.49149], [-22.97339, -43.414223], [-22.979137, -43.41566], [-19.693495, -43.935986], [-19.686264, -43.92984], [-19.75733, -43.93377], [-19.753164, -43.946255], [-19.685263, -43.92978], [-19.69677, -43.92136], [-19.76846, -43.951797], [-19.743633, -43.93135], [-19.693123, -43.931488], [-19.755283, -43.94895], [-19.761265, -43.945736], [-19.688, -43.928326], [-29.156334, -51.198605], [-29.166954, -51.188564], [-29.160902, -51.19205], [-29.171408, -51.186775], [-22.98893, -43.438427], [-22.98414, -43.47165], [-22.983938, -43.458935], [-22.990858, -43.4925], [-23.563292, -46.779224], [-23.565594, -46.776287], [-19.902374, -43.897984], [-19.89565, -43.889454], [-19.897367, -43.89536], [-19.903816, -43.889088], [-23.304052, -51.176994], [-23.306475, -51.172558], [-23.324013, -51.174213], [-27.576002, -48.66661], [-27.576464, -48.67148], [-27.58303, -48.671127], [-27.5766, -48.659763], [-27.58065, -48.66912], [-27.581345, -48.66769], [-23.529884, -47.13676], [-23.535233, -47.133503], [-23.531384, -47.13474], [-23.531555, -47.127254], [-23.530924, -47.134857], [-23.53459, -47.13398], [-23.530716, -46.637928], [-23.530527, -46.637836], [-23.463488, -46.878616], [-23.462461, -46.882767], [-23.46349, -46.88293], [-23.462425, -46.887226], [-23.456726, -46.90348], [-25.493914, -49.333546], [-22.727327, -47.64479], [-22.724916, -47.64292], [-22.729862, -47.639248], [-22.730312, -47.64065], [-28.02731, -48.632675], [-28.02984, -48.621193], [-28.028585, -48.62346], [-24.004522, -46.417988], [-24.009068, -46.424503], [-24.004345, -46.41424], [-24.007786, -46.415195], [-24.010181, -46.415657], [-22.882765, -47.035976], [-22.892614, -47.04273], [-23.55854, -46.663563], [-23.557924, -46.664368], [-23.560549, -46.66141], [-23.569103, -46.651203], [-23.550266, -46.658413], [-23.550266, -46.658413], [-23.546259, -46.65458], [-21.766628, -43.346687], [-21.766699, -43.34724], [-21.765377, -43.348484], [-21.762417, -43.34925], [-21.763895, -43.347263], [-21.763096, -43.345833], [-21.761059, -43.346844], [-21.764664, -43.34739], [-21.761953, -43.348557], [-21.766232, -43.343323], [-21.765377, -43.348484], [-22.156328, -42.41471], [-22.153862, -42.41751], [-22.15919, -42.4195], [-26.25356, -48.64004], [-26.244474, -48.639412], [-26.251291, -48.639538], [-26.246262, -48.6218], [-26.19996, -48.532124], [-26.250675, -48.6367], [-26.243649, -48.628613], [-22.223944, -42.528526], [-22.236755, -42.523304], [-23.47846, -46.7478], [-23.474125, -46.748558], [-23.473236, -46.752373], [-23.47846, -46.7478], [-23.475704, -46.747375], [-23.481915, -46.74897], [-23.47846, -46.7478], [-22.740278, -43.452187], [-22.734617, -43.452805], [-28.28463, -52.786022], [-28.284195, -52.802574], [-28.297323, -52.794346], [-28.285421, -52.801357], [-28.287617, -52.790726], [-28.288826, -52.796787], [-28.286385, -52.78898], [-28.289707, -52.794647], [-23.564686, -46.649475], [-23.568327, -46.65401], [-23.568413, -46.653816], [-23.568855, -46.655087], [-23.573566, -46.65827], [-23.573818, -46.65853], [-27.143532, -48.907677], [-27.104301, -48.916878], [-23.638247, -46.489365], [-23.638348, -46.49686], [-23.636696, -46.497], [-23.639103, -46.494774], [-23.637249, -46.49991], [-23.555328, -46.595264], [-23.55434, -46.59417], [-23.55483, -46.594357], [-23.491198, -45.093876], [-23.44963, -45.06862], [-23.49391, -45.07173], [-23.43452, -45.077404], [-23.456573, -45.079163], [-23.436356, -45.07042], [-23.377697, -44.95768], [-23.401989, -45.074158], [-23.445213, -45.069862], [-23.461058, -45.061134], [-23.457472, -45.060646], [-23.435514, -45.0764], [-23.442804, -45.08724], [-23.424677, -45.10851], [-23.503464, -45.12474], [-23.463648, -45.058743], [-23.462175, -45.0514], [-23.433872, -45.071487], [-23.432705, -45.07841], [-23.502708, -45.12411], [-23.435925, -45.103233], [-23.461926, -45.060623], [-23.440788, -45.083996], [-23.435863, -45.086494], [-23.431955, -45.075962], [-21.99784, -47.884914], [-21.989565, -47.874687], [-22.008154, -47.886925], [-22.002277, -47.888115], [-22.00057, -47.886543], [-22.00103, -47.883854], [-23.567877, -46.64887], [-23.56906, -46.647408], [-23.57077, -46.64512], [-23.564358, -46.65314], [-23.560566, -46.65761], [-23.540192, -46.651714], [-23.542662, -46.65369], [-23.542685, -46.652725], [-23.540731, -46.652863], [-23.540388, -46.651436], [-23.540844, -46.65198], [-23.54268, -46.655212], [-23.542236, -46.653214], [-23.542662, -46.65369], [-22.923727, -47.076965], [-22.923258, -47.069935], [-22.92494, -47.073128], [-22.921764, -47.075596], [-22.927074, -47.074295], [-22.923119, -47.078407], [-22.92394, -47.072536], [-22.92637, -47.07334], [-23.52695, -46.669823], [-23.531689, -46.662212], [-23.014713, -44.53925], [-23.01469, -44.539223], [-23.013468, -44.53735], [-27.224558, -49.73423], [-23.54131, -46.691], [-25.556623, -49.28632], [-25.557558, -49.29036], [-29.190084, -51.22077], [-29.183502, -51.231762], [-29.1826, -51.236897], [-29.19577, -51.233826], [-20.261063, -40.271088], [-20.263166, -40.268272], [-20.251263, -40.267365], [-20.252914, -40.267273], [-20.252892, -40.2689], [-20.264706, -40.2647], [-20.257204, -40.269688], [-20.264347, -40.268253], [-20.261559, -40.27209], [-20.26395, -40.267704], [-20.258783, -40.272053], [-20.249352, -40.270252], [-20.264706, -40.2647], [-20.26247, -40.27159], [-20.259125, -40.26058], [-20.262634, -40.262833], [-24.011602, -46.421745], [-24.006653, -46.42564], [-24.007578, -46.42408], [-24.008207, -46.418713], [-24.013348, -46.420944], [-24.008026, -46.41368], [-24.008787, -46.423004], [-23.505243, -46.832726], [-23.488455, -46.834], [-23.493286, -46.835457], [-23.493206, -46.832188], [-23.506218, -46.83762], [-23.5095, -46.833035], [-23.488455, -46.834], [-23.498903, -46.831318], [-23.499672, -46.823833], [-25.49969, -49.334442], [-25.493015, -49.335453], [-20.366392, -40.301422], [-20.373928, -40.30799], [-20.376162, -40.305294], [-20.37333, -40.30894], [-20.365976, -40.30554], [-20.381924, -40.311222], [-20.374454, -40.31268], [-20.376162, -40.305294], [-20.376162, -40.305294], [-20.367388, -40.301285], [-20.376162, -40.305294], [-20.654415, -43.80121], [-26.926258, -48.93686], [-26.940153, -48.9339], [-26.93873, -48.931362], [-22.703678, -42.61056], [-22.715551, -42.613213], [-22.706038, -42.601784], [-22.736946, -42.6309], [-22.7104, -42.609547], [-22.71284, -42.631237], [-22.719894, -42.644745], [-22.709398, -42.621304], [-22.71202, -42.62577], [-22.716763, -42.63843], [-22.712013, -42.625687], [-22.713255, -42.623505], [-22.700191, -42.59825], [-22.720697, -42.680058], [-22.712004, -42.62988], [-22.710419, -42.609997], [-22.706842, -42.608196], [-30.061443, -51.20209], [-30.04251, -51.19641], [-30.051273, -51.206684], [-30.03722, -51.195854], [-30.056828, -51.20666], [-30.063633, -51.203316], [-30.063072, -51.203224], [-23.690464, -46.678135], [-23.692816, -46.67784], [-23.680155, -46.684093], [-23.692816, -46.67784], [-22.652536, -50.40374], [-27.226912, -49.730938], [-23.508945, -46.767704], [-23.509407, -46.771294], [-23.508892, -46.767384], [-23.506807, -46.767887], [-22.30095, -48.550587], [-22.294321, -48.553818], [-22.297913, -48.557747], [-22.2885, -48.56271], [-22.297316, -48.553585], [-22.296223, -48.558197], [-23.48353, -46.490658], [-23.48292, -46.470753], [-21.418995, -45.97667], [-21.426233, -45.95623], [-26.992018, -51.41498], [-23.002228, -43.371563], [-23.001745, -43.39019], [-22.999657, -43.376354], [-23.002228, -43.371563], [-23.009197, -43.429462], [-23.005327, -43.423386], [-23.002274, -43.389236], [-23.002148, -43.424164], [-23.009197, -43.429462], [-23.004778, -43.41653], [-22.997223, -43.415154], [-23.00604, -43.42828], [-23.00037, -43.405193], [-19.81453, -43.97431], [-19.810066, -43.976135], [-22.653944, -43.28693], [-23.532154, -47.138355], [-23.534515, -47.1367], [-23.531021, -47.140324], [-23.5317, -47.134235], [-23.528852, -47.12808], [-28.282526, -52.79634], [-28.289877, -52.800198], [-28.286976, -52.79609], [-28.289345, -52.783295], [-28.299688, -52.808784], [-28.300108, -52.7904], [-28.28419, -52.79627], [-28.28564, -52.779285], [-28.295012, -52.793884], [-28.294333, -52.812405], [-23.487831, -46.688877], [-23.490412, -46.690784], [-23.487831, -46.688877], [-22.97901, -46.872086], [-22.975544, -46.8459], [-22.997786, -46.85275], [-21.340275, -47.747986], [-21.352303, -47.725338], [-21.3402, -47.732826], [-21.344238, -47.732746], [-21.338428, -47.72928], [-25.457453, -49.311665], [-25.457485, -49.305786], [-25.45798, -49.305603], [-23.496069, -46.779827], [-23.499416, -46.775135], [-25.506979, -49.33811], [-25.505447, -49.335445], [-30.005203, -51.19099], [-29.987509, -51.199276], [-30.01669, -51.19902], [-29.998003, -51.202892], [-23.642092, -46.663536], [-23.645384, -46.660954], [-23.64525, -46.661594], [-25.510998, -49.33575], [-25.494858, -49.338394], [-25.500944, -49.32537], [-25.508669, -49.330265], [-29.434843, -51.99414], [-25.466442, -49.295284], [-25.468773, -49.296616], [-25.459982, -49.301754], [-25.46687, -49.29468], [-25.459667, -49.290104], [-25.45564, -49.293636], [-25.469273, -49.29521], [-25.46687, -49.29468], [-23.570574, -46.64536], [-23.564358, -46.65314], [-23.564358, -46.65314], [-23.565191, -46.65215], [-23.565191, -46.65215], [-23.564533, -46.652943], [-23.565884, -46.651337], [-23.564358, -46.65314], [-22.105507, -51.396214], [-22.111769, -51.4067], [-22.114435, -51.380974], [-22.105461, -51.39622], [-23.502054, -46.784588], [-23.501215, -46.77648], [-23.50053, -46.786163], [-23.499416, -46.775135], [-23.50176, -46.776047], [-23.624928, -46.82525], [-23.62638, -46.819977], [-23.627705, -46.82178], [-23.5276, -46.542545], [-27.576063, -48.428547], [-27.57281, -48.427673], [-27.57281, -48.427673], [-27.576996, -48.42455], [-23.43506, -46.543186], [-23.437778, -46.54749], [-22.894361, -47.099575], [-21.415, -45.973343], [-21.424484, -45.95416], [-23.390554, -46.716263], [-21.894354, -47.62137], [-21.912886, -47.623596], [-23.008505, -43.365597], [-22.997614, -43.37816], [-23.000769, -43.421158], [-23.00267, -43.37704], [-22.99646, -43.408485], [-22.988083, -43.37918], [-23.002817, -43.37709], [-23.011024, -43.421963], [-23.002817, -43.37709], [-22.99599, -43.39885], [-23.00267, -43.37704], [-22.956646, -43.35666], [-22.98425, -43.68739], [-22.981375, -43.361366], [-22.885586, -47.080677], [-22.881144, -47.08756], [-22.894857, -47.09425], [-22.892647, -47.08125], [-22.899454, -47.084003], [-22.826654, -47.067772], [-27.010334, -48.658432], [-27.003729, -48.654236], [-27.02313, -48.653122], [-27.021055, -48.633938], [-27.030916, -48.644806], [-27.03258, -48.658234], [-22.651543, -50.42741], [-22.654806, -50.443813], [-22.65991, -50.417892], [-22.65164, -50.443535], [-22.659075, -50.417442], [-22.659176, -50.41883], [-22.73927, -47.621098], [-22.73699, -47.625687], [-22.727388, -47.621025], [-22.738625, -47.622875], [-22.741255, -47.623207], [-22.895876, -47.079185], [-22.857363, -47.15036], [-22.900509, -47.08258], [-22.901508, -47.077744], [-22.90167, -47.0773], [-22.89351, -47.07917], [-22.889585, -47.094833], [-22.890684, -47.073334], [-25.38076, -49.359062], [-25.380703, -49.390507], [-20.818102, -49.35529], [-23.439419, -51.956337], [-23.44551, -51.961975], [-23.489058, -46.77797], [-23.47483, -46.7714], [-24.008041, -46.422325], [-24.007753, -46.425278], [-24.011744, -46.420677], [-24.00826, -46.42433], [-24.008732, -46.419914], [-24.005995, -46.423347], [-24.007742, -46.425343], [-23.739918, -46.692463], [-19.817844, -43.968155], [-23.573154, -46.617146], [-23.572037, -46.61521], [-22.841558, -45.228878], [-22.828285, -45.216057], [-22.829082, -45.217556], [-22.848686, -45.228466], [-22.849045, -45.24127], [-22.851208, -45.225124], [-22.85394, -45.230766], [-22.848446, -45.240868], [-22.849411, -45.22898], [-22.811209, -47.22576], [-22.803959, -47.219814], [-22.806925, -47.221645], [-22.809128, -47.22516], [-22.810003, -47.22768], [-22.810658, -47.227566], [-22.8145, -47.22723], [-22.573273, -44.180477], [-24.69904, -53.738224], [-24.708172, -53.734398], [-23.571373, -46.609123], [-23.450935, -51.94837], [-23.457806, -51.941395], [-28.290878, -52.788303], [-28.303385, -52.788258], [-28.300581, -52.792213], [-28.306599, -52.79332], [-23.530497, -46.780273], [-23.531696, -46.662907], [-23.531696, -46.662907], [-23.530483, -46.66392], [-23.52695, -46.669823], [-23.52695, -46.669823], [-23.529572, -46.66511], [-22.893433, -43.123234], [-22.895426, -43.11547], [-22.894003, -43.123383], [-22.896046, -43.124073], [-22.889362, -43.119194], [-22.895395, -43.121983], [-22.895008, -43.120827], [-22.895872, -43.119034], [-19.924168, -43.91648], [-19.935823, -43.919537], [-19.926184, -43.91816], [-19.924168, -43.91648], [-19.926912, -43.917248], [-19.924168, -43.91648], [-19.924324, -43.916935], [-19.929914, -43.921936], [-19.932882, -43.9235], [-19.924168, -43.91648], [-26.257418, -48.81956], [-26.249237, -48.807545], [-26.25559, -48.809525], [-26.912106, -49.258514], [-26.909264, -49.250774], [-26.909716, -49.247734], [-23.574045, -46.557087], [-23.571539, -46.5693], [-23.56988, -46.65375], [-23.568573, -46.655354], [-23.573332, -46.657963], [-23.570005, -46.654583], [-23.568466, -46.653164], [-23.569872, -46.65449], [-23.566618, -46.651363], [-22.772379, -41.93094], [-22.744562, -41.88062], [-22.772379, -41.93094], [-22.77073, -41.930664], [-22.772741, -41.916325], [-22.772379, -41.93094], [-22.732273, -41.974792], [-22.775723, -41.907127], [-22.777864, -41.905506], [-22.773676, -41.912937], [-22.772467, -41.902973], [-22.739407, -41.960396], [-22.891376, -47.075756], [-22.87953, -47.073887], [-22.89851, -47.081238], [-22.897333, -47.08503], [-14.791324, -39.05173], [-23.466476, -46.57428], [-23.617575, -46.614296], [-23.685032, -46.744728], [-23.680288, -46.743256], [-23.532131, -47.135223], [-23.530447, -47.12682], [-23.529284, -47.13614], [-23.526983, -47.13506], [-23.531662, -47.134144], [-20.232084, -40.26857], [-26.802681, -49.086708], [-23.488089, -46.95687], [-23.461432, -46.886646], [-23.459753, -46.88883], [-23.461126, -46.888412], [-23.47027, -46.87319], [-23.46604, -46.882896], [-26.99784, -51.409138], [-27.000532, -51.402172], [-27.003635, -51.419445], [-26.999937, -51.412365], [-27.000378, -51.40398], [-25.451103, -49.312973], [-22.654503, -50.42123], [-22.651543, -50.42741], [-22.649036, -50.431], [-22.651083, -50.43288], [-23.528458, -46.63523], [-23.528917, -46.638016], [-21.769825, -43.34528], [-21.767763, -43.34727], [-21.762949, -43.343586], [-21.764694, -43.347504], [-21.766476, -43.348194], [-21.762949, -43.343586], [-21.768803, -43.345245], [-21.764713, -43.347137], [-21.761158, -43.34682], [-21.768803, -43.345245], [-21.766476, -43.348194], [-21.763659, -43.340813], [-30.006136, -51.18891], [-30.001646, -51.190132], [-30.013237, -51.20246], [-29.997967, -51.199364], [-29.993965, -51.194904], [-30.00429, -51.198933], [-29.998964, -51.197617], [-30.007263, -51.19631], [-30.003553, -51.190445], [-29.986107, -51.198902], [-29.999245, -51.196224], [-30.008694, -51.19426], [-22.898342, -47.035076], [-22.885115, -47.039528], [-26.876282, -49.09998], [-26.877241, -49.11802], [-26.874952, -49.108727], [-18.645815, -48.1787], [-18.64235, -48.17565], [-23.982918, -46.295757], [-23.981895, -46.296116], [-23.98232, -46.29656], [-23.981895, -46.296116], [-23.981445, -46.309483], [-23.989399, -46.301414], [-23.980734, -46.299187], [-23.981895, -46.296116], [-23.984665, -46.29839], [-23.987062, -46.306244], [-23.982157, -46.31024], [-23.987686, -46.297634], [-23.986086, -46.302788], [-23.987686, -46.297634], [-22.7307, -45.10892], [-26.230648, -49.41716], [-26.232876, -49.420795], [-23.556658, -46.488674], [-21.190178, -47.773445], [-21.19017, -47.7593], [-21.189547, -47.765305], [-21.1901, -47.76474], [-23.614138, -46.56538], [-23.606972, -46.570255], [-23.60413, -46.575523], [-23.615423, -46.56945], [-22.104338, -51.397526], [-22.10764, -51.403923], [-22.108385, -51.396317], [-22.115269, -51.399353], [-23.57744, -46.507225], [-23.482157, -46.47168], [-23.482027, -46.47153], [-23.489624, -46.467274], [-23.491138, -46.471336], [-24.938402, -53.41849], [-24.93428, -53.420414], [-24.93334, -53.430866], [-23.324013, -51.174213], [-23.317387, -51.174732], [-23.311975, -51.176495], [-23.31919, -51.173424], [-22.923672, -47.070435], [-22.92394, -47.072536], [-22.923727, -47.076965], [-22.921783, -47.077007], [-22.839142, -51.97934], [-22.83927, -51.9743], [-22.84296, -51.984184], [-22.828485, -51.97074], [-22.840275, -51.976543], [-22.83818, -51.97752], [-22.746767, -41.951527], [-22.772379, -41.93094], [-22.774584, -41.91952], [-22.772272, -41.91996], [-22.756245, -41.888836], [-22.774961, -41.912376], [-22.757677, -41.944744], [-22.770718, -41.911736], [-22.761343, -41.89498], [-23.456253, -46.591984], [-23.624704, -46.58639], [-23.629032, -46.585285], [-23.632404, -46.69187], [-23.632404, -46.69187], [-23.536013, -46.639797], [-23.535816, -46.640053], [-23.453272, -46.57906], [-16.696465, -49.266068], [-16.697836, -49.268414], [-22.912983, -42.81618], [-22.922083, -42.818253], [-22.959034, -42.987415], [-22.995598, -43.40592], [-23.00165, -43.392803], [-22.999937, -43.418156], [-22.99743, -43.37688], [-23.00163, -43.39337], [-22.999657, -43.376354], [-23.009197, -43.429462], [-23.009142, -43.366867], [-23.009565, -43.429115], [-23.00163, -43.39337], [-23.002068, -43.416725], [-22.981375, -43.361366], [-21.767883, -43.347466], [-21.765291, -43.34573], [-21.765377, -43.348484], [-21.760616, -43.346367], [-21.762672, -43.342186], [-21.763302, -43.34424], [-21.762772, -43.342728], [-21.76214, -43.342716], [-21.76682, -43.345303], [-21.76238, -43.345226], [-21.766462, -43.34622], [-21.76988, -43.341427], [-21.763302, -43.34424], [-21.766544, -43.34206], [-23.289007, -45.949844], [-23.288408, -45.94747], [-23.288408, -45.94747], [-23.292463, -45.94999], [-23.29414, -45.94901], [-22.92842, -43.231018], [-22.92687, -43.22707], [-22.92613, -43.228767], [-22.928726, -43.230907], [-22.926764, -43.227898], [-22.928175, -43.23025], [-22.931898, -43.232983], [-22.930744, -43.23329], [-22.926216, -43.228634], [-22.924763, -43.23073], [-22.9279, -43.22988], [-22.928175, -43.23025], [-22.927513, -43.232147], [-23.007668, -43.429684], [-23.00163, -43.39337], [-22.999567, -43.386364], [-22.99982, -43.38778], [-23.000769, -43.421158], [-22.998003, -43.391174], [-23.00163, -43.39337], [-23.010366, -43.364548], [-23.009272, -43.36767], [-23.007668, -43.429684], [-22.995382, -43.40394], [-22.99599, -43.39885], [-23.00163, -43.39337], [-23.00555, -43.424305], [-22.896372, -43.121567], [-22.895426, -43.11547], [-22.895353, -43.123085], [-22.892681, -43.118786], [-22.886976, -43.11972], [-22.894276, -43.120853], [-22.894384, -43.11993], [-22.895332, -43.123024], [-22.896065, -43.121155], [-22.895168, -43.121082], [-22.89655, -43.119785], [-22.891613, -43.118088], [-22.89123, -43.12317], [-22.896032, -43.124157], [-22.894283, -43.120735], [-23.680836, -46.712524], [-24.303507, -53.833305], [-24.28674, -53.84388], [-24.280796, -53.83696], [-24.282139, -53.84427], [-24.28598, -53.84044], [-24.284523, -53.842014], [-31.752, -52.32252], [-23.568153, -46.635162], [-23.568153, -46.635162], [-23.568645, -46.633907], [-23.568848, -46.63557], [-23.54479, -46.49549], [-23.55056, -46.52746], [-23.548735, -46.52998], [-23.546225, -46.530613], [-19.86373, -44.02174], [-19.860146, -44.021606], [-19.867289, -44.025337], [-19.838852, -44.14692], [-19.865898, -44.02798], [-23.545462, -46.49087], [-19.833044, -43.94807], [-19.83829, -43.944622], [-19.832846, -43.94854], [-19.840261, -43.94686], [-14.525804, -49.136707], [-14.531344, -49.137962], [-14.357784, -49.09362], [-23.423386, -51.952038], [-20.40415, -42.90409], [-20.412104, -42.897446], [-20.404663, -42.895737], [-20.411922, -42.890255], [-20.40916, -42.896027], [-20.408514, -42.894024], [-20.41032, -42.896595], [-20.407297, -42.8887], [-20.405811, -42.888863], [-20.39735, -42.875908], [-20.403343, -42.904606], [-20.393715, -42.90342], [-20.417265, -42.908207], [-20.410118, -42.895123], [-20.40415, -42.90409], [-20.401272, -42.8922], [-20.407703, -42.893238], [-20.413492, -42.90225], [-20.409592, -42.89149], [-23.595655, -46.74434], [-23.597433, -46.741795], [-23.598204, -46.742687], [-19.986193, -43.997776], [-19.976437, -44.000072], [-19.986673, -44.00618], [-19.984015, -44.000008], [-19.890074, -43.912582], [-19.983114, -43.99344], [-19.981663, -44.001457], [-19.986832, -44.002], [-19.985722, -44.00926], [-26.888052, -49.10678], [-23.589653, -46.486496], [-25.36445, -49.180305], [-25.365852, -49.18583], [-25.371298, -49.188232], [-25.378601, -49.19128], [-25.367619, -49.18521], [-24.96233, -53.462875], [-24.964394, -53.46687], [-24.973522, -53.47373], [-26.893023, -49.106106], [-26.891747, -49.090187], [-19.979023, -44.02626], [-19.975925, -44.01828], [-19.98096, -44.019207], [-19.981173, -44.01825], [-19.975285, -44.01766], [-22.37015, -46.941097], [-22.36322, -46.942024], [-22.363562, -46.934868], [-22.360828, -46.93607], [-23.601593, -46.684063], [-20.277637, -50.554134], [-20.27715, -50.551334], [-23.102337, -46.567924], [-23.111032, -46.561966], [-24.969553, -53.469242], [-24.967083, -53.472843], [-14.522271, -49.131466], [-14.527206, -49.147617], [-14.526134, -49.136765], [-14.525447, -49.154907], [-22.88978, -46.980408], [-22.929096, -47.566082], [-22.945158, -45.509773], [-3.7837899, -38.55406], [-22.88882, -43.30198], [-22.89132, -43.301872], [-22.89127, -43.30424], [-22.893051, -43.302982], [-22.758907, -47.391487], [-22.75371, -47.370525], [-22.635002, -47.198994], [-22.641338, -47.184925], [-22.63918, -47.20294], [-22.640688, -47.187424], [-22.650524, -47.200356], [-22.628994, -47.201134], [-22.644669, -47.188858], [-22.644094, -47.185562], [-22.649794, -47.18724], [-23.665749, -46.65242], [-23.58315, -46.619366], [-28.60016, -51.786606], [-23.499664, -47.52394], [-23.492811, -47.50733], [-23.505922, -47.51878], [-23.502071, -47.51928], [-23.499146, -47.515785], [-23.504616, -47.517002], [-21.187979, -47.795277], [-21.184795, -47.796616], [-21.189402, -47.792957], [-21.19256, -47.778183], [-21.185486, -47.79033], [-21.185486, -47.79033], [-23.574797, -46.65444], [-23.57146, -46.651142], [-23.577932, -46.658306], [-23.569761, -46.6497], [-23.57084, -46.6506], [-23.572302, -46.652], [-23.812048, -50.138767], [-25.55083, -54.586323], [-25.534306, -54.581673], [-25.54131, -54.589764], [-25.547726, -54.588318], [-25.549564, -54.582527], [-20.692932, -44.828094], [-20.700897, -44.822796], [-20.694042, -44.82804], [-20.684618, -44.83124], [-23.622974, -46.56451], [-23.624477, -46.56687], [-23.623991, -46.566383], [-23.623812, -46.560074], [-23.560291, -46.84868], [-23.551352, -46.854332], [-23.548775, -46.84672], [-27.678062, -48.48379], [-27.665106, -48.480946], [-23.499474, -46.68457], [-23.666616, -46.499836], [-23.66985, -46.491394], [-23.669405, -46.49848], [-23.66536, -46.500927], [-23.67354, -46.491234], [-23.664537, -46.49108], [-23.676493, -46.487682], [-23.664537, -46.49108], [-23.603151, -46.6167], [-23.603151, -46.6167], [-23.60724, -46.617783], [-23.625116, -46.71994], [-23.625116, -46.71994], [-21.767414, -52.106342], [-21.767012, -52.097855], [-21.759665, -52.107956], [-21.767414, -52.106342], [-21.767693, -52.112293], [-15.549387, -47.33524], [-15.530518, -47.33449], [-22.27707, -46.163498], [-22.271452, -46.159958], [-22.185333, -46.23903], [-24.973963, -53.466763], [-24.970417, -53.46279], [-24.961529, -53.462135], [-24.972404, -53.47229], [-24.964182, -53.472282], [-23.559507, -46.77587], [-23.552336, -46.775578], [-23.559622, -46.77556], [-23.636917, -46.52196], [-23.623915, -46.54186], [-23.64279, -46.52769], [-23.635303, -46.524242], [-23.64171, -46.533092], [-23.63905, -46.531155], [-23.633013, -46.534645], [-23.637922, -46.524563], [-23.635468, -46.5297], [-23.5264, -46.54967], [-29.917574, -51.138374], [-29.9127, -51.147774], [-29.910583, -51.145714], [-21.755459, -43.35293], [-21.752977, -43.356243], [-21.759184, -43.35695], [-21.753065, -43.356], [-21.753817, -43.35928], [-21.76122, -43.352947], [-21.761227, -43.35321], [-23.690794, -46.61491], [-23.691544, -46.62165], [-23.687859, -46.614964], [-23.687458, -46.62012], [-23.68645, -46.62653], [-23.686302, -46.62774], [-19.909273, -43.935883], [-19.910252, -43.939175], [-19.912863, -43.932762], [-19.89941, -43.935814], [-19.906723, -43.93518], [-19.911118, -43.936405], [-22.928236, -47.022167], [-22.898993, -47.009796], [-22.920607, -47.01812], [-22.923403, -47.016407], [-23.792704, -46.747284], [-23.621853, -46.605785], [-23.670801, -46.48704], [-23.662912, -46.504917], [-23.67625, -46.489487], [-23.664537, -46.49108], [-23.676992, -46.48096], [-23.66744, -46.499325], [-23.67475, -46.48354], [-23.66536, -46.500927], [-23.665565, -46.49012], [-22.284485, -48.5153], [-22.282974, -48.53557], [-23.623861, -46.738964], [-23.627407, -46.73962], [-20.865023, -41.121773], [-20.848473, -41.113518], [-20.85864, -41.116943], [-20.863445, -41.12787], [-28.269646, -49.17227], [-28.285475, -49.16575], [-28.277914, -49.164425], [-19.805882, -43.180683], [-19.813858, -43.199093], [-19.80965, -43.17329], [-19.831196, -43.126682], [-19.812483, -43.192497], [-19.826334, -43.161415], [-19.81387, -43.1802], [-19.807182, -43.177853], [-19.809347, -43.17304], [-19.799305, -43.17675], [-19.810295, -43.170975], [-19.816956, -43.150337], [-27.540115, -48.52314], [-27.507824, -48.51343], [-21.75574, -41.336254], [-21.762192, -41.329887], [-21.758465, -41.339542], [-21.754965, -41.327267], [-21.749115, -41.331196], [-21.756113, -41.33502], [-21.7514, -41.32838], [-21.754194, -41.327263], [-21.75299, -41.33056], [-23.80111, -46.53843], [-23.787006, -46.53882], [-23.795652, -46.540012], [-23.799406, -46.539104], [-23.794685, -46.546913], [-23.44588, -46.459236], [-23.442194, -46.464447], [-19.903032, -43.95529], [-19.907078, -43.94359], [-19.912518, -43.953285], [-19.905022, -43.954258], [-19.90277, -43.947628], [-19.903212, -43.954243], [-19.9017, -43.94561], [-5.892743, -35.209686], [-5.8779, -35.21706], [-5.8961906, -35.19422], [-25.545216, -54.58655], [-25.547209, -54.58968], [-25.542917, -54.57901], [-25.533941, -54.58991], [-25.507872, -54.584713], [-25.5483, -54.585983], [-25.54639, -54.58652], [-25.540625, -54.590218], [-25.542744, -54.585987], [-25.535913, -54.58302], [-19.915133, -43.892696], [-19.92043, -43.894318], [-19.917162, -43.900707], [-19.915833, -43.90255], [-19.924633, -43.87794], [-19.913248, -43.88907], [-19.909695, -43.89523], [-19.917576, -43.899323], [-19.95572, -43.934414], [-19.961123, -43.929356], [-19.958025, -43.931602], [-19.957327, -43.931305], [-21.12734, -48.973953], [-21.116707, -48.968067], [-21.130041, -48.96951], [-19.977213, -44.000027], [-19.9787, -44.005493], [-19.989315, -44.002388], [-19.981407, -44.00226], [-19.989624, -44.000027], [-19.985815, -44.004814], [-19.989252, -43.999573], [-19.97863, -44.0011], [-19.983276, -43.994198], [-23.673717, -46.48873], [-23.6703, -46.49563], [-23.669281, -46.49838], [-23.668798, -46.49686], [-23.67587, -46.48117], [-23.6689, -46.501698], [-23.67857, -46.481056], [-23.633015, -46.706104], [-23.633081, -46.705887], [-23.63305, -46.71119], [-23.633043, -46.705948], [-20.544859, -48.557117], [-20.537361, -48.56073], [-22.865623, -48.433002], [-22.874233, -48.43494], [-23.603771, -46.692192], [-23.601141, -46.690716], [-23.604174, -46.69559], [-23.61141, -46.694954], [-23.60071, -46.69446], [-23.605759, -46.693645], [-23.600786, -46.693172], [-23.601185, -46.69332], [-23.601778, -46.69255], [-20.737047, -48.903828], [-20.747557, -48.897846], [-20.747633, -48.909203], [-20.75567, -48.907948], [-20.755287, -48.90763], [-20.737467, -48.91361], [-20.73577, -48.909904], [-23.67372, -46.59383], [-23.675873, -46.58889], [-22.185333, -46.23903], [-23.58848, -46.488472], [-23.586779, -46.487514], [-23.587317, -46.488117], [-23.583532, -46.489574], [-23.510593, -46.5509], [-23.501093, -47.517532], [-23.50654, -47.51838], [-23.494976, -47.506664], [-23.494967, -47.506634], [-23.499573, -47.51477], [-23.495344, -47.53269], [-23.501093, -47.517532], [-23.511488, -47.51745], [-23.498022, -47.524174], [-22.267092, -46.16588], [-22.273531, -46.164436], [-23.223078, -46.831787], [-23.223387, -46.835533], [-23.223003, -46.83652], [-23.21471, -46.82605], [-23.634325, -46.524014], [-23.637665, -46.531464], [-23.632462, -46.53738], [-23.635864, -46.52196], [-23.642363, -46.526478], [-23.638596, -46.51651], [-23.637854, -46.523296], [-23.637115, -46.53419], [-27.10291, -48.926968], [-21.155546, -47.784454], [-21.16284, -47.785427], [-21.152718, -47.78397], [-22.131256, -51.391846], [-23.57738, -46.486423], [-23.572365, -46.479553], [-23.56699, -46.474575], [-23.57175, -46.48129], [-23.573925, -46.47678], [-23.5661, -46.475708], [-23.571787, -46.47573], [-23.667418, -46.489372], [-23.672348, -46.491737], [-23.670908, -46.493233], [-23.667217, -46.49913], [-23.672796, -46.48449], [-23.670528, -46.490322], [-23.750166, -46.681675], [-19.910868, -43.945667], [-19.9066, -43.943703], [-22.761196, -47.398094], [-22.763935, -47.39582], [-22.754354, -47.36542], [-23.91879, -46.838383], [-23.828117, -46.824615], [-23.83311, -46.816242], [-23.835983, -46.81608], [-23.776648, -46.800236], [-23.83735, -46.813385], [-23.81138, -46.817966], [-23.840494, -46.79486], [-23.838184, -46.813496], [-23.881416, -46.845036], [-23.830215, -46.814278], [-23.814928, -46.786034], [-23.838821, -46.811993], [-23.912338, -46.878345], [-22.75976, -47.402596], [-22.761824, -47.40174], [-22.75707, -47.363003], [-21.195667, -50.45656], [-21.196129, -50.450146], [-23.499443, -46.89562], [-22.197392, -49.964172], [-22.206978, -49.956585], [-20.77856, -49.368042], [-20.78554, -49.37465], [-20.789503, -49.37147], [-23.564133, -46.47863], [-23.569775, -46.471756], [-23.567574, -46.481762], [-23.571661, -46.479618], [-23.57315, -46.477943], [-23.572422, -46.478428], [-23.57925, -46.4872], [-30.043291, -51.1938], [-30.044075, -51.19398], [-23.518028, -46.773357], [-23.516499, -46.76943], [-23.971064, -48.869587], [-23.627369, -46.77449], [-23.628775, -46.774143], [-23.631609, -46.779156], [-23.552963, -46.62816], [-23.55323, -46.62888], [-23.611897, -46.755684], [-15.839263, -48.054478], [-15.840374, -48.05177], [-15.839263, -48.054478], [-15.8376665, -48.0492], [-15.839263, -48.054478], [-22.357317, -46.933598], [-22.370281, -46.93731], [-22.372734, -46.943253], [-22.37015, -46.941097], [-22.371458, -46.940025], [-23.665228, -46.445385], [-23.674385, -46.42697], [-23.667217, -46.433056], [-23.674362, -46.42459], [-22.884062, -43.076027], [-22.884607, -43.086094], [-22.880812, -43.10741], [-22.880905, -43.102406], [-22.881065, -43.097076], [-15.606788, -56.1077], [-28.195864, -53.484936], [-29.910885, -51.136086], [-29.92483, -51.149155], [-25.367468, -49.18238], [-25.365852, -49.18583], [-25.371298, -49.188232], [-25.371288, -49.188374], [-25.365276, -49.185646], [-19.907341, -43.941925], [-19.90406, -43.932404], [-19.911514, -43.932762], [-19.910269, -43.9359], [-19.90461, -43.932518], [-19.898985, -43.938965], [-19.900597, -43.944366], [-19.90781, -43.93366], [-19.909033, -43.936867], [-19.90656, -43.934875], [-19.90236, -43.93408], [-19.900955, -43.947292], [-19.908754, -43.93236], [-19.90954, -43.93507], [-19.901058, -43.939114], [-23.572298, -46.589233], [-23.571796, -46.59052], [-23.572372, -46.592056], [-23.57158, -46.592], [-23.570442, -46.59113], [-23.598091, -46.600742], [-22.01957, -51.548565], [-22.363562, -46.94515], [-22.36182, -46.94434], [-22.370281, -46.93731], [-22.367592, -46.94535], [-22.363562, -46.934868], [-23.593575, -46.601143], [-23.58118, -46.60229], [-23.594727, -46.601032], [-23.584902, -46.601913], [-23.596544, -46.600853], [-23.553917, -51.48702], [-23.558897, -51.48585], [-23.553564, -51.4813], [-25.348219, -49.172997], [-25.368774, -49.175175], [-25.36388, -49.18315], [-22.742952, -43.45465], [-22.744076, -43.449642], [-22.749468, -43.465378], [-26.893023, -49.106106], [-26.89061, -49.098705], [-23.242945, -46.85567], [-23.253294, -46.85786], [-23.25245, -46.854385], [-23.598293, -46.60063], [-23.545336, -46.564625], [-23.606031, -46.61721], [-23.609102, -46.61827], [-23.605673, -46.61899], [-23.065126, -49.62429], [-23.519787, -46.48884], [-23.540943, -46.492172], [-23.548735, -46.52998], [-21.756113, -41.33502], [-21.75574, -41.336254], [-21.757711, -41.33282], [-21.759378, -41.330837], [-21.754261, -41.326736], [-21.760254, -41.32802], [-21.7583, -41.32821], [-21.75484, -41.327625], [-21.758465, -41.339542], [-21.74661, -41.330692], [-21.753212, -41.32594], [-21.756113, -41.33502], [-21.760254, -41.32802], [-21.752184, -41.333164], [-21.758362, -41.334957], [-21.754578, -41.334435], [-21.759422, -41.33039], [-23.627369, -46.77449], [-23.62863, -46.775696], [-23.628963, -46.7733], [-23.62311, -46.78067], [-23.629293, -46.782574], [-23.573307, -46.480656], [-23.565556, -46.474472], [-23.552738, -46.552456], [-23.564133, -46.47863], [-23.570507, -46.473118], [-23.570854, -46.47128], [-23.58744, -46.502686], [-23.588377, -46.497387], [-23.585018, -46.499756], [-23.587605, -46.500645], [-23.585018, -46.499756], [-23.603987, -46.608765], [-27.672005, -48.504314], [-27.681425, -48.492157], [-30.044415, -51.185925], [-22.90636, -43.177692], [-22.90871, -43.17268], [-22.909233, -43.169437], [-22.77586, -43.3664], [-22.774826, -43.360786], [-23.477928, -46.708363], [-22.382, -46.951885], [-16.4928, -39.076027], [-16.381277, -39.034172], [-16.415838, -39.08556], [-16.442686, -39.070156], [-16.416061, -39.085346], [-16.434881, -39.075188], [-16.405323, -39.048786], [-16.390884, -39.037365], [-16.418734, -39.089092], [-16.440546, -39.072735], [-16.390884, -39.037365], [-16.385252, -39.444736], [-16.412807, -39.08582], [-16.450832, -39.066162], [-16.35139, -39.015858], [-16.437563, -39.08195], [-23.938993, -46.179382], [-25.087715, -50.157448], [-25.091818, -50.16496], [-25.087444, -50.16343], [-25.085958, -50.163994], [-25.086693, -50.165012], [-25.087528, -50.16713], [-18.652632, -48.19141], [-18.655794, -48.19243], [-18.65265, -48.190998], [-18.65286, -48.199974], [-8.283054, -35.9737], [-8.283661, -35.971077], [-23.49104, -46.345722], [-23.495052, -46.352528], [-23.497198, -46.355072], [-23.491726, -46.354412], [-23.493233, -46.354214], [-23.492266, -46.345936], [-23.489508, -46.345238], [-23.495852, -46.356544], [-23.583544, -46.539913], [-23.584265, -46.536488], [-23.479212, -46.683117], [-23.478445, -46.683308], [-15.951843, -54.97791], [-26.489862, -49.082954], [-26.485477, -49.082554], [-26.47843, -49.08506], [-26.491434, -49.081173], [-26.479368, -49.086273], [-26.492847, -49.08253], [-26.491236, -49.08095], [-26.493818, -49.07086], [-23.51827, -46.442623], [-23.51406, -46.440815], [-23.517351, -46.443226], [-23.515648, -46.434807], [-23.51632, -46.43724], [-23.511444, -46.66618], [-23.510971, -46.66612], [-23.510107, -46.662827], [-23.510971, -46.66612], [-23.543392, -46.55177], [-23.54355, -46.550137], [-23.542213, -46.55202], [-23.5439, -46.55152], [-23.54365, -46.550518], [-23.54355, -46.550137], [-20.842125, -49.33169], [-19.946667, -43.976505], [-19.941523, -43.98643], [-19.948057, -43.983944], [-19.949392, -43.976837], [-23.537617, -46.640137], [-20.543348, -47.42695], [-20.538725, -47.43218], [-20.523844, -47.42986], [-20.541727, -47.43148], [-20.53932, -47.431553], [-20.52261, -47.434887], [-20.528572, -47.438873], [-20.5307, -47.43534], [-20.54723, -47.434025], [-20.552708, -47.413895], [-23.491411, -46.96368], [-23.49167, -46.96501], [-23.490997, -46.96687], [-20.561058, -47.371292], [-20.559233, -47.397522], [-20.560663, -47.39662], [-20.559261, -47.39917], [-20.547255, -47.390713], [-20.564829, -47.374], [-20.544489, -47.381046], [-20.558605, -47.373814], [-20.540762, -47.39256], [-20.543789, -47.387703], [-20.546913, -47.380333], [-20.561422, -47.402664], [-23.425488, -51.942234], [-23.42467, -51.933598], [-23.42185, -51.935375], [-23.420773, -51.938927], [-23.424774, -51.9354], [-23.423859, -51.937717], [-23.418955, -51.93465], [-23.420752, -51.94398], [-23.422869, -51.92998], [-23.419863, -51.93705], [-20.795454, -49.36704], [-20.769615, -49.363808], [-20.794823, -49.359837], [-23.35154, -51.15825], [-23.342236, -51.164387], [-23.35733, -51.181847], [-21.152235, -47.820988], [-21.158497, -47.83185], [-23.52743, -46.474354], [-23.525908, -46.474846], [-23.52704, -46.474422], [-23.529755, -46.616375], [-23.54976, -47.46591], [-23.541029, -47.455517], [-25.09292, -50.16254], [-25.10126, -50.15737], [-25.094233, -50.15917], [-25.08708, -50.158073], [-25.09425, -50.164318], [-25.08812, -50.16955], [-25.102291, -50.157932], [-25.099545, -50.16213], [-25.095863, -50.161205], [-25.09115, -50.157204], [-25.101328, -50.16132], [-25.09321, -50.16035], [-25.096434, -50.156384], [-25.089006, -50.16694], [-20.80879, -49.393295], [-20.81031, -49.396667], [-20.80911, -49.391403], [-20.793901, -49.37845], [-20.816177, -49.393513], [-20.804571, -49.381573], [-20.813223, -49.39097], [-20.796381, -49.382298], [-20.802437, -49.395622], [-23.281298, -47.301846], [-23.266731, -47.31463], [-23.280003, -47.30465], [-23.287329, -47.30833], [-23.279137, -47.318848], [-23.278526, -47.31487], [-23.278656, -47.298744], [-21.149055, -48.979183], [-21.15599, -48.98779], [-21.147066, -48.976833], [-21.133488, -48.97076], [-21.141253, -48.97404], [-22.904194, -43.59641], [-22.90557, -43.60099], [-20.501278, -43.850586], [-20.507631, -43.875267], [-20.496307, -43.855778], [-20.502539, -43.854538], [-20.506521, -43.870636], [-20.509335, -43.85273], [-20.507906, -43.866047], [-20.509562, -43.860077], [-20.507145, -43.870728], [-20.504557, -43.85611], [-20.500732, -43.85352], [-20.50346, -43.85264], [-20.504698, -43.860405], [-20.496805, -43.86439], [-20.516953, -43.83072], [-23.58375, -46.734722], [-23.588245, -46.736336], [-23.58577, -46.73403], [-23.584885, -46.73511], [-23.705345, -46.85707], [-23.711859, -46.85936], [-23.711283, -46.85742], [-23.699728, -46.866962], [-23.43669, -46.78882], [-22.922813, -47.05514], [-22.926893, -47.056595], [-22.921085, -47.051785], [-22.914793, -47.06246], [-22.919167, -47.061157], [-23.54, -46.435207], [-23.538853, -46.437534], [-23.80993, -47.72673], [-23.815409, -47.716488], [-23.810238, -47.71734], [-23.811756, -47.721138], [-23.815481, -47.7159], [-23.821531, -47.711124], [-23.812866, -47.715336], [-23.796831, -47.729187], [-23.61819, -46.553238], [-23.606804, -46.55039], [-23.623692, -46.549515], [-23.609917, -46.545628], [-23.617624, -46.553806], [-23.619923, -46.55156], [-23.609917, -46.545628], [-23.617975, -46.55301], [-23.625582, -46.549427], [-25.438763, -49.231808], [-23.58609, -46.717594], [-23.585424, -46.719215], [-23.585339, -46.718056], [-20.544783, -47.451336], [-20.553942, -47.384846], [-20.541817, -47.42576], [-20.524498, -47.43254], [-20.541727, -47.43148], [-20.528063, -47.44199], [-20.544474, -47.426052], [-20.540157, -47.426537], [-20.542511, -47.423096], [-23.34336, -51.16976], [-23.34336, -51.16976], [-23.344645, -51.161728], [-23.346603, -51.165752], [-23.337801, -51.163292], [-25.921694, -53.47859], [-25.913801, -53.472363], [-25.926208, -53.471176], [-23.539516, -46.57473], [-15.830932, -48.011047], [-23.624653, -46.610344], [-23.626965, -46.612854], [-23.625772, -46.610893], [-19.942816, -43.93265], [-19.948442, -43.92125], [-19.946255, -43.934414], [-19.949152, -43.93601], [-19.949432, -43.92086], [-19.94792, -43.93232], [-19.947252, -43.928196], [-19.94925, -43.93135], [-19.947567, -43.930485], [-19.946564, -43.933792], [-19.948565, -43.93198], [-19.942474, -43.92705], [-19.94792, -43.93232], [-19.943247, -43.924496], [-19.94596, -43.932186], [-22.887863, -43.276386], [-22.892542, -43.28413], [-22.883736, -43.279446], [-22.892542, -43.28413], [-22.884459, -43.285973], [-22.883957, -43.280624], [-22.885622, -43.290043], [-22.884579, -43.272057], [-22.88724, -43.275837], [-22.928116, -47.05196], [-22.914793, -47.06246], [-22.924873, -47.062283], [-22.924673, -47.059013], [-23.502209, -46.65218], [-23.495369, -46.66034], [-23.493477, -46.580162], [-23.490263, -46.579712], [-23.561438, -46.776886], [-23.561804, -46.77823], [-23.617075, -46.637585], [-23.614712, -46.637505], [-23.619495, -46.63797], [-23.620974, -46.634357], [-23.64656, -46.680595], [-20.821133, -49.380424], [-20.817345, -49.381336], [-23.47638, -46.550106], [-23.484617, -46.54677], [-23.625853, -46.612324], [-19.94751, -43.923557], [-19.941723, -43.92687], [-19.943089, -43.92938], [-19.95025, -43.92687], [-19.943132, -43.93281], [-19.949152, -43.93601], [-19.940163, -43.930923], [-19.941824, -43.930298], [-19.947607, -43.934006], [-19.94792, -43.93232], [-19.950817, -43.928368], [-19.949215, -43.925293], [-19.948273, -43.92389], [-19.947252, -43.928196], [-19.94115, -43.93118], [-19.946808, -43.92389], [-19.944197, -43.93202], [-19.943293, -43.93286], [-19.95097, -43.92819], [-19.94395, -43.927845], [-19.950474, -43.929684], [-19.947777, -43.922813], [-19.946587, -43.925568], [-19.94596, -43.932186], [-7.213045, -39.31209], [-23.515774, -46.502182], [-20.887177, -47.575573], [-20.887297, -47.571693], [-20.88832, -47.576508], [-20.8902, -47.582634], [-20.904919, -47.581127], [-20.887938, -47.596478], [-20.883305, -47.576183], [-20.900852, -47.600384], [-20.898048, -47.59646], [-20.887177, -47.575573], [-20.890598, -47.58434], [-23.607122, -46.54056], [-23.608595, -46.54116], [-23.608976, -46.54152], [-23.601473, -46.540676], [-20.26038, -40.42715], [-20.543367, -47.42679], [-20.54778, -47.4289], [-20.552734, -47.41591], [-20.542511, -47.423096], [-20.529501, -47.437016], [-20.534723, -47.45916], [-20.541105, -47.426533], [-20.528929, -47.441074], [-20.552708, -47.413895], [-20.527252, -47.42494], [-24.025356, -46.464535], [-24.02189, -46.480736], [-24.026644, -46.475315], [-24.02297, -46.479263], [-24.03027, -46.49141], [-24.025618, -46.46429], [-24.025665, -46.47238], [-24.030443, -46.477932], [-23.540829, -46.512302], [-23.540829, -46.512302], [-23.533913, -46.697266], [-23.530474, -46.694435], [-23.6785, -46.709183], [-23.684893, -46.70286], [-23.690783, -46.699867], [-23.6893, -46.700657], [-23.691988, -46.69903], [-23.684893, -46.70286], [-20.563793, -47.370323], [-20.547945, -47.388428], [-20.540525, -47.369236], [-20.543726, -47.371616], [-20.54166, -47.384865], [-20.56231, -47.4093], [-20.544489, -47.381046], [-20.538876, -47.394707], [-20.55955, -47.37549], [-20.54865, -47.386463], [-20.565022, -47.36536], [-20.556168, -47.408245], [-20.560663, -47.39662], [-20.550367, -47.402473], [-30.030243, -51.22773], [-30.031803, -51.224865], [-30.03182, -51.227894], [-30.030201, -51.230556], [-30.02847, -51.22811], [-30.028816, -51.22459], [-30.031994, -51.2277], [-30.029987, -51.2302], [-30.02824, -51.22556], [-30.029543, -51.225735], [-30.02906, -51.22673], [-30.029966, -51.228573], [-23.31065, -51.178997], [-22.293686, -49.04613], [-22.297764, -49.03592], [-22.290903, -49.058315], [-25.097038, -50.157326], [-25.09321, -50.16035], [-25.096638, -50.161087], [-25.095081, -50.157444], [-25.091087, -50.16275], [-25.092075, -50.155376], [-22.97106, -43.382103], [-22.96822, -43.386517], [-22.972464, -43.3841], [-22.970081, -43.393612], [-22.965906, -43.39], [-22.97101, -43.392475], [-22.995474, -43.36209], [-22.957644, -43.356544], [-22.968225, -43.39478], [-22.97106, -43.382103], [-22.954435, -43.37639], [-22.971104, -43.391624], [-22.98509, -43.35955], [-22.986456, -43.366142], [-22.973608, -43.36663], [-22.972424, -43.35951], [-22.989927, -43.36049], [-20.81258, -49.389145], [-20.806255, -49.391476], [-20.809498, -49.383644], [-20.797445, -49.380875], [-20.816212, -49.394356], [-20.796173, -49.382244], [-20.803827, -49.39022], [-20.798864, -49.39255], [-20.813704, -49.393963], [-20.81239, -49.38826], [-20.805761, -49.392284], [-20.808058, -49.377457], [-20.805086, -49.387638], [-20.802437, -49.395622], [-26.478216, -49.089127], [-26.489256, -49.081787], [-26.479807, -49.082386], [-26.490023, -49.082848], [-26.49149, -49.083435], [-23.6614, -46.370277], [-23.668455, -46.545692], [-23.668333, -46.544296], [-23.655766, -46.560028], [-23.662949, -46.54446], [-23.670721, -46.549545], [-23.66659, -46.542572], [-23.670202, -46.550396], [-23.668333, -46.544296], [-23.666609, -46.54228], [-23.668844, -46.544506], [-23.665754, -46.54423], [-23.661951, -46.550766], [-23.462463, -52.059628], [-23.452839, -52.02822], [-23.458002, -52.045036], [-23.50322, -46.552746], [-23.547861, -46.419247], [-23.538134, -47.45546], [-23.542208, -47.45678], [-23.538797, -47.463577], [-23.542677, -47.4598], [-23.546782, -47.45411], [-23.61282, -46.945564], [-23.60888, -46.934525], [-23.61183, -46.94806], [-23.603436, -46.93786], [-23.490477, -46.653603], [-23.557283, -46.803703], [-23.559622, -46.804665], [-24.026726, -46.469418], [-24.033236, -46.487705], [-24.025284, -46.47141], [-24.029093, -46.477467], [-24.02788, -46.48149], [-24.022093, -46.477863], [-24.0254, -46.472908], [-24.028055, -46.475533], [-24.024294, -46.467236], [-24.030151, -46.488335], [-30.04902, -51.192867], [-30.051954, -51.187645], [-30.047483, -51.183353], [-30.047459, -51.18586], [-20.547602, -47.38094], [-20.535553, -47.37752], [-20.570038, -47.382557], [-20.533934, -47.367386], [-20.536705, -47.36411], [-20.546612, -47.395622], [-20.545471, -47.386467], [-20.543192, -47.393566], [-20.556217, -47.403328], [-20.561422, -47.402664], [-20.570026, -47.377216], [-20.558199, -47.37148], [-23.524372, -46.64743], [-23.522715, -46.643734], [-23.523897, -46.642593], [-25.38866, -49.34353], [-25.39325, -49.35393], [-25.40116, -49.333233], [-17.868212, -41.497295], [-17.86897, -41.474945], [-17.85582, -41.484386], [-17.849869, -41.496094], [-17.848368, -41.491116], [-17.868748, -41.48921], [-16.64374, -49.274426], [-16.641285, -49.277496], [-20.18099, -48.02071], [-20.181868, -48.025562], [-20.190443, -48.022472], [-20.188818, -48.02056], [-25.410982, -49.320114], [-25.399376, -49.33858], [-23.625809, -46.611397], [-23.559607, -46.46231], [-23.56131, -46.455933], [-23.562782, -46.46547], [-23.55582, -46.463768], [-23.569328, -46.45997], [-23.562231, -46.45486], [-26.850138, -52.987896], [-26.85521, -52.982635], [-26.852663, -52.98993], [-23.584745, -46.5843], [-27.116045, -50.0132], [-27.124922, -50.00507], [-27.11791, -49.98643], [-27.126081, -49.992447], [-27.115837, -50.01545], [-20.809498, -49.383644], [-20.806591, -49.38453], [-20.799168, -49.38687], [-20.797234, -49.386], [-20.806957, -49.391724], [-20.808622, -49.382378], [-20.802116, -49.387043], [-20.816177, -49.393513], [-20.808233, -49.38183], [-20.796381, -49.382298], [-22.970081, -43.393612], [-22.971014, -43.39556], [-22.972954, -43.392387], [-22.96822, -43.386517], [-22.98509, -43.35955], [-22.967506, -43.390762], [-22.965906, -43.39], [-22.965906, -43.39], [-22.972923, -43.398712], [-22.970997, -43.396484], [-22.965906, -43.39], [-22.992687, -43.36546], [-22.969816, -43.39338], [-22.975794, -43.373497], [-22.949053, -43.372185], [-22.972954, -43.392387], [-22.9653, -43.377346], [-22.972391, -43.38217], [-22.929752, -47.060246], [-22.933733, -47.05557], [-22.93306, -47.060883], [-22.950356, -47.05474], [-25.408012, -49.259792], [-25.410944, -49.262756], [-25.401983, -49.26127], [-25.401655, -49.268074], [-25.405197, -49.257454], [-25.406155, -49.257755], [-23.979666, -46.221928], [-23.977661, -46.224583], [-23.974768, -46.222343], [-23.600222, -46.477165], [-20.54414, -47.37155], [-20.558802, -47.406303], [-20.545065, -47.38093], [-20.533934, -47.367386], [-20.546612, -47.395622], [-20.550062, -47.390945], [-20.562107, -47.402473], [-20.559586, -47.398754], [-20.557346, -47.3933], [-20.54296, -47.372326], [-20.543203, -47.394604], [-20.557646, -47.404182], [-20.54624, -47.371567], [-20.549875, -47.395996], [-20.560394, -47.405785], [-20.549887, -47.394512], [-20.562107, -47.402473], [-20.548227, -47.395897], [-26.480045, -49.08516], [-26.490145, -49.074028], [-26.491732, -49.075623], [-27.230715, -49.654743], [-27.226118, -49.662357], [-22.47889, -47.165337], [-22.48653, -47.212425], [-20.790329, -49.360092], [-22.929752, -47.060246], [-22.927992, -47.06449], [-22.930357, -47.060352], [-22.940735, -47.05745], [-22.929008, -47.06783], [-23.525703, -46.843586], [-23.530922, -46.617546], [-22.724241, -46.84731], [-27.626211, -48.673748], [-27.748373, -48.62769], [-23.51015, -46.675903], [-23.507517, -46.673733], [-22.435526, -42.967735], [-21.928207, -50.528183], [-23.40841, -46.390564], [-23.4123, -46.37674], [-23.40818, -46.3962], [-23.410782, -46.39401], [-23.410547, -46.37705], [-23.403196, -46.388702], [-23.408398, -46.38078], [-23.4095, -46.39041], [-23.510525, -46.861046], [-23.511728, -46.86206], [-23.511938, -46.855923], [-23.34695, -51.159508], [-23.351608, -51.171047], [-23.346481, -51.16349], [-23.341173, -51.164608], [-23.551603, -46.644653], [-23.551392, -46.64411], [-23.613003, -46.881393], [-23.608929, -46.867363], [-23.59993, -46.87991], [-23.615267, -46.873623], [-25.441492, -49.273556], [-25.439878, -49.27676], [-25.4445, -49.281933], [-25.44511, -49.278725], [-25.441608, -49.2806], [-25.445854, -49.2767], [-25.44716, -49.27216], [-25.445093, -49.272053], [-25.44457, -49.278965], [-25.443373, -49.281902], [-25.445677, -49.27364], [-25.441048, -49.27382], [-23.420773, -51.939796], [-23.413303, -51.932884], [-23.42208, -51.928913], [-23.419716, -51.940063], [-23.421852, -51.937298], [-23.422935, -51.934402], [-23.56495, -46.459904], [-23.564173, -46.463226], [-23.564867, -46.460533], [-23.56209, -46.45332], [-23.55643, -46.461666], [-23.559864, -46.459232], [-23.556864, -46.463257], [-23.55742, -46.462784], [-23.696323, -46.521362], [-23.690279, -46.521873], [-23.694279, -46.521816], [-23.694288, -46.521805], [-23.576256, -46.63951], [-23.576984, -46.63956], [-29.67373, -51.14603], [-22.90659, -43.17714], [-22.911606, -43.175182], [-22.911879, -43.175095], [-22.90659, -43.17714], [-22.905075, -43.177723], [-22.9026, -43.176247], [-22.903261, -43.177475], [-22.90659, -43.17714], [-23.57081, -46.690777], [-23.582045, -46.683846], [-23.583061, -46.683594], [-23.570456, -46.690987], [-23.581892, -46.683926], [-23.576681, -46.687145], [-23.52671, -46.418957], [-23.522648, -46.42802], [-23.532564, -46.424755], [-23.522316, -46.426773], [-20.801792, -49.386864], [-20.802017, -49.39609], [-20.807983, -49.387188], [-20.805105, -49.391575], [-20.813223, -49.39097], [-20.805336, -49.388428], [-20.805414, -49.384254], [-22.947266, -47.056126], [-22.935091, -47.057774], [-22.946552, -47.05559], [-22.94184, -47.058327], [-22.944584, -47.05575], [-22.947802, -47.060497], [-23.479212, -46.683117], [-22.971092, -43.389282], [-22.970081, -43.393612], [-22.965906, -43.39], [-22.969017, -43.387814], [-22.973185, -43.380573], [-22.969017, -43.387814], [-22.97471, -43.367367], [-22.97298, -43.39305], [-22.972424, -43.35951], [-22.969017, -43.387814], [-22.972954, -43.392387], [-22.995495, -43.364975], [-22.96822, -43.386517], [-22.970531, -43.394], [-22.902216, -43.17878], [-22.9068, -43.176624], [-22.912363, -43.17484], [-22.907618, -43.176697], [-22.90273, -43.178482], [-22.903267, -43.17736], [-22.90484, -43.18018], [-22.905075, -43.177723], [-22.903826, -43.177437], [-22.905075, -43.177723], [-22.91036, -43.175632], [-22.90244, -43.175945], [-22.90549, -43.177486], [-23.54245, -47.453762], [-23.540619, -47.44988], [-23.550858, -47.46869], [-23.546782, -47.45411], [-21.159029, -47.8196], [-21.155565, -47.823906], [-25.441956, -49.280167], [-25.44437, -49.275253], [-25.447178, -49.270847], [-25.441906, -49.276222], [-25.440115, -49.27343], [-25.443785, -49.27937], [-23.57522, -46.639458], [-23.57679, -46.637856], [-23.5751, -46.63967], [-23.576464, -46.63748], [-23.57679, -46.637856], [-22.72397, -47.34303], [-16.71222, -49.305553], [-16.71371, -49.30166], [-21.164604, -47.822906], [-21.158466, -47.816288], [-21.15011, -47.822987], [-21.155022, -47.82861], [-21.15878, -47.82645], [-21.152817, -47.81947], [-21.214489, -47.77973], [-21.156284, -47.834236], [-25.432499, -49.27843], [-25.431353, -49.28053], [-25.423641, -49.282185], [-25.432886, -49.27783], [-25.427494, -49.280334], [-23.537617, -46.640137], [-23.537233, -46.639668], [-23.538424, -46.641476], [-23.349873, -47.848373], [-23.354, -47.845898], [-23.348667, -47.843925], [-23.353582, -47.846897], [-23.350534, -47.841236], [-23.34796, -47.84319], [-23.557323, -46.65693], [-23.55427, -46.657402], [-23.585598, -46.542725], [-23.585209, -46.54228], [-19.542852, -42.630352], [-19.554045, -42.64156], [-19.54633, -42.65977], [-19.547787, -42.646175], [-19.53775, -42.64552], [-19.543568, -42.64112], [-19.538513, -42.64697], [-19.545898, -42.64617], [-23.55081, -46.303696], [-23.54544, -46.292255], [-23.546785, -46.295277], [-22.358774, -47.388783], [-22.35264, -47.393253], [-22.353828, -47.394424], [-22.358, -47.38508], [-22.356367, -47.3908], [-23.56254, -46.600914], [-23.562214, -46.60116], [-23.561157, -46.600468], [-23.606804, -46.55039], [-23.617624, -46.553806], [-23.625582, -46.549427], [-23.619135, -46.55417], [-23.609917, -46.545628], [-23.712757, -46.861057], [-23.704058, -46.871166], [-23.706532, -46.85769], [-23.709642, -46.85552], [-27.628159, -48.688084], [-27.622242, -48.674088], [-27.628159, -48.688084], [-19.956617, -43.968437], [-19.967407, -43.954742], [-19.956617, -43.968437], [-19.965078, -43.962128], [-19.956493, -43.95764], [-28.328413, -49.17351], [-28.358004, -49.173508], [-23.488111, -46.95315], [-23.48982, -46.9497], [-23.49443, -46.95712], [-23.486397, -46.94907], [-23.487478, -46.949238], [-23.642656, -46.7096], [-23.63742, -46.71055], [-23.635807, -46.712097], [-23.636713, -46.714527], [-23.633224, -46.712376], [-23.63751, -46.711742], [-23.632963, -46.712868], [-23.63608, -46.713688], [-22.338694, -41.749714], [-22.341486, -41.7614], [-22.33442, -41.755463], [-22.023859, -47.912476], [-22.037262, -47.91112], [-12.99882, -38.51834], [-12.864826, -38.432274], [-12.980068, -38.500618], [-12.981712, -38.49972], [-23.685642, -46.587227], [-23.686089, -46.584442], [-23.687267, -46.584953], [-20.44716, -44.771694], [-20.444155, -44.7687], [-20.430725, -44.77964], [-20.445173, -44.76301], [-20.440596, -44.761208], [-20.44507, -44.76589], [-21.156433, -47.794308], [-21.156815, -47.803383], [-21.169342, -47.808876], [-21.159883, -47.80647], [-21.150778, -47.801235], [-22.351055, -49.101036], [-25.418083, -52.423557], [-25.403883, -52.406906], [-25.401634, -52.41149], [-25.403969, -52.41432], [-25.414507, -52.411034], [-24.190096, -53.02677], [-24.186918, -53.03084], [-22.817562, -43.32041], [-22.81123, -43.329525], [-28.325287, -49.176792], [-28.332262, -49.177464], [-28.323677, -49.176373], [-28.324133, -49.16944], [-23.693409, -46.540565], [-23.695246, -46.54567], [-23.69112, -46.543354], [-23.93641, -46.319897], [-23.9354, -46.33019], [-23.933048, -46.325558], [-20.886461, -49.570976], [-20.44297, -44.764065], [-23.9479, -46.302795], [-23.940739, -46.297405], [-23.946608, -46.303783], [-23.94118, -46.304516], [-24.552874, -54.057953], [-24.560211, -54.06047], [-24.568266, -54.034424], [-24.565329, -54.05702], [-24.555765, -54.06379], [-24.551504, -54.06244], [-24.563354, -54.06776], [-24.532558, -54.05031], [-24.548954, -54.048607], [-23.597548, -46.736], [-23.578106, -46.562782], [-23.574938, -46.563286], [-20.432898, -44.759293], [-20.447308, -44.773983], [-20.370455, -44.682167], [-20.445581, -44.77229], [-20.440245, -44.77909], [-20.298113, -50.253315], [-23.45604, -46.541573], [-23.460543, -46.537624], [-23.680752, -46.621162], [-23.680622, -46.624454], [-23.683235, -46.6262], [-23.673752, -46.625874], [-23.68492, -46.614857], [-23.479952, -47.484688], [-23.468185, -47.494415], [-23.474108, -47.486702], [-22.36644, -48.397797], [-22.364977, -48.394196], [-22.365585, -48.395477], [-22.372717, -48.384377], [-22.368744, -48.383286], [-22.36536, -48.393757], [-22.372389, -48.38081], [-22.795218, -47.08636], [-29.913738, -51.198456], [-29.914639, -51.18774], [-29.916353, -51.18909], [-29.915258, -51.18617], [-29.923105, -51.180927], [-29.911348, -51.18485], [-21.595182, -46.88162], [-21.603588, -46.909595], [-21.60086, -46.894463], [-21.6051, -46.897457], [-21.588839, -46.903133], [-21.604206, -46.88064], [-21.607454, -46.897133], [-21.59734, -46.879745], [-21.593666, -46.892307], [-21.599909, -46.880943], [-21.59156, -46.88767], [-21.60093, -46.89149], [-30.023289, -51.159405], [-30.021324, -51.15744], [-30.01399, -51.15277], [-30.023085, -51.151463], [-30.021797, -51.15529], [-22.841305, -47.162235], [-22.834452, -47.158417], [-22.851833, -47.162548], [-21.220142, -47.816387], [-21.20673, -47.82335], [-21.220247, -47.82266], [-23.54744, -46.67937], [-23.655214, -46.758583], [-19.482716, -42.57504], [-19.480295, -42.5634], [-19.465675, -42.562794], [-19.480772, -42.584087], [-19.476074, -42.544933], [-19.476236, -42.570213], [-19.464931, -42.550762], [-19.476181, -42.555466], [-19.46515, -42.55744], [-19.475168, -42.57553], [-19.467913, -42.562492], [-19.438683, -42.597435], [-19.46488, -42.55038], [-19.449429, -42.56549], [-19.4653, -42.568867], [-19.463345, -42.561302], [-19.474405, -42.543484], [-29.158213, -51.153015], [-29.119864, -51.125072], [-29.101566, -51.123787], [-23.635395, -46.554035], [-23.628355, -46.554066], [-23.625053, -46.555286], [-23.628561, -46.553406], [-23.628092, -46.55618], [-23.640406, -46.553787], [-23.637985, -46.55488], [-23.630877, -46.552464], [-23.63378, -46.551853], [-23.63626, -46.554546], [-23.636106, -46.55627], [-23.625748, -46.555992], [-22.790869, -47.082573], [-22.796375, -47.072285], [-22.790869, -47.082573], [-22.793644, -47.08677], [-23.47504, -46.740612], [-23.473763, -46.74522], [-23.4724, -46.743763], [-23.471733, -46.742783], [-23.933048, -46.325558], [-23.939894, -46.33971], [-23.944742, -46.313248], [-23.941675, -46.33459], [-23.943428, -46.327045], [-23.679968, -46.623528], [-23.67815, -46.6275], [-23.683205, -46.62033], [-23.680622, -46.624454], [-23.681555, -46.620483], [-23.68337, -46.620895], [-23.685177, -46.615204], [-23.678806, -46.624313], [-23.682407, -46.6247], [-22.004047, -47.41879], [-22.012941, -47.41468], [-22.008759, -47.411385], [-22.020298, -47.41738], [-22.021418, -47.41118], [-22.030241, -47.915794], [-22.040363, -47.905987], [-23.429262, -51.95245], [-23.424599, -51.96], [-23.424616, -51.956264], [-23.434122, -51.958202], [-23.41854, -51.415375], [-29.643423, -50.57413], [-23.59786, -46.599396], [-23.59786, -46.599396], [-22.006964, -47.900288], [-22.012632, -47.898804], [-22.00916, -47.898884], [-22.01563, -47.90768], [-23.54337, -46.732273], [-23.542599, -46.73142], [-23.54337, -46.732273], [-23.646315, -46.59554], [-23.64041, -46.586014], [-23.643736, -46.590397], [-23.64777, -46.596256], [-18.64305, -48.207363], [-18.645006, -48.207077], [-18.630604, -48.202522], [-23.537996, -51.447243], [-23.41854, -51.415375], [-23.45552, -51.431843], [-23.417957, -51.415016], [-22.414104, -47.587635], [-22.405588, -47.576122], [-22.41656, -47.584023], [-22.410652, -47.574986], [-23.538774, -46.778744], [-23.539698, -46.77491], [-23.541895, -46.774845], [-23.53855, -46.778263], [-23.643024, -46.552845], [-23.64021, -46.555138], [-23.628128, -46.556255], [-23.63423, -46.554977], [-23.624344, -46.55656], [-23.638006, -46.554028], [-23.636106, -46.55627], [-23.62719, -46.55428], [-19.88628, -44.018158], [-19.885893, -44.016006], [-19.875343, -44.030453], [-23.497189, -46.434166], [-23.495832, -46.43003], [-23.500847, -46.43587], [-22.595236, -48.792038], [-30.014482, -51.16356], [-30.014929, -51.169003], [-30.01701, -51.162136], [-30.01252, -51.157784], [-30.017448, -51.166916], [-30.013165, -51.162926], [-30.019821, -51.16286], [-30.012657, -51.159687], [-30.017694, -51.156757], [-29.570686, -50.792904], [-29.574072, -50.80167], [-29.577631, -50.784542], [-23.655308, -46.52373], [-23.656569, -46.528824], [-23.53395, -46.50879], [-8.131392, -34.93614], [-22.973309, -47.1412], [-22.984549, -47.148067], [-22.972971, -47.14052], [-23.63037, -46.5509], [-23.640816, -46.554817], [-23.63468, -46.552208], [-23.635103, -46.5532], [-23.640257, -46.552647], [-23.62727, -46.552574], [-23.631233, -46.5543], [-23.639, -46.558464], [-23.625961, -46.55742], [-23.643229, -46.55343], [-23.63626, -46.55656], [-23.637552, -46.552986], [-23.629936, -46.555077], [-25.428043, -49.270424], [-25.432413, -49.27508], [-25.43178, -49.272503], [-25.43277, -49.27634], [-25.426281, -49.269245], [-25.427172, -49.270153], [-25.434134, -49.273304], [-23.189339, -47.274303], [-23.192211, -47.271133], [-22.408104, -47.57653], [-22.420523, -47.583294], [-22.401493, -47.580612], [-22.420214, -47.572216], [-22.42159, -47.575356], [-22.416817, -47.570602], [-22.423744, -47.58236], [-23.192726, -47.278908], [-23.196728, -47.2772], [-23.181683, -47.261955], [-23.189234, -47.270058], [-23.186398, -47.270504], [-23.19073, -47.28191], [-23.201525, -47.28626], [-23.201714, -47.285408], [-23.532114, -46.713966], [-23.533651, -46.71801], [-23.533865, -46.718704], [-23.532593, -46.717762], [-23.533043, -46.71462], [-23.532492, -46.71798], [-23.533104, -46.714584], [-23.532412, -46.718292], [-23.531992, -46.71792], [-23.533146, -46.715725], [-15.895593, -47.77635], [-25.350151, -49.294292], [-29.624765, -51.143093], [-29.611168, -51.16964], [-29.611124, -51.177986], [-29.610699, -51.15941], [-29.594034, -51.16265], [-23.421717, -51.4185], [-23.601667, -46.68663], [-23.6007, -46.68859], [-24.72655, -53.72633], [-24.720737, -53.725388], [-22.858248, -46.32816], [-22.854094, -46.314854], [-22.861862, -46.32091], [-22.85312, -46.302044], [-22.861227, -46.321014], [-22.853952, -46.317707], [-23.657024, -46.527443], [-23.66483, -46.516308], [-23.660353, -46.518333], [-23.665703, -46.51808], [-23.65869, -46.523483], [-23.65434, -46.528057], [-23.657133, -46.52551], [-23.563244, -46.58187], [-23.56133, -46.583122], [-23.564512, -46.58333], [-23.564512, -46.58333], [-23.563366, -46.58053], [-20.192818, -44.767036], [-20.187449, -44.769493], [-20.18532, -44.77079], [-23.457289, -46.742638], [-23.456285, -46.745037], [-23.455189, -46.746853], [-23.45992, -46.746193], [-22.230177, -48.740395], [-22.907598, -47.096004], [-22.909903, -47.101685], [-22.910454, -47.10178], [-23.711851, -46.560085], [-23.69904, -46.559948], [-23.711863, -46.559746], [-23.705477, -46.5573], [-23.70552, -46.55951], [-23.710808, -46.55618], [-23.694841, -46.55566], [-23.710808, -46.55618], [-23.172167, -45.82338], [-23.169136, -45.811775], [-23.172527, -45.82096], [-24.755316, -51.76149], [-20.44326, -44.765865], [-20.439701, -44.755844], [-20.436512, -44.756893], [-20.447308, -44.773983], [-20.437849, -44.75488], [-20.43816, -44.784367], [-20.439882, -44.757587], [-20.445328, -44.767185], [-27.604765, -48.623886], [-27.599869, -48.620636], [-27.600697, -48.61617], [-27.593534, -48.614803], [-27.59781, -48.61497], [-3.8807197, -38.460278], [-3.8787222, -38.46485], [-22.875517, -47.04634], [-22.879082, -47.050606], [-22.880709, -47.052868], [-22.887184, -47.0563], [-22.688679, -43.4541], [-23.726385, -46.562332], [-23.721794, -46.57572], [-23.725386, -46.569622], [-23.727766, -46.563835], [-23.726385, -46.562332], [-23.721445, -46.57449], [-23.72266, -46.57202], [-23.72416, -46.572647], [-23.721546, -46.566006], [-23.729252, -46.566647], [-22.818947, -43.036495], [-22.822416, -43.047993], [-22.815891, -43.034096], [-22.823597, -43.034397], [-22.824541, -43.04032], [-20.430725, -44.77964], [-20.447308, -44.773983], [-20.446564, -44.77054], [-20.437008, -44.75913], [-20.444092, -44.76379], [-24.75492, -51.770493], [-24.756506, -51.766056], [-24.759134, -51.766476], [-22.351055, -49.101036], [-23.456905, -46.649765], [-23.456905, -46.649765], [-23.458553, -46.651947], [-23.942104, -46.32505], [-23.934196, -46.32433], [-23.93534, -46.327965], [-10.867783, -61.965233], [-10.879945, -61.947216], [-10.882385, -61.961292], [-22.734013, -45.125973], [-22.732634, -45.12248], [-21.598907, -46.881508], [-20.823124, -49.3677], [-20.821507, -49.368046], [-20.816607, -49.366703], [-23.726538, -45.423557], [-23.816462, -45.466175], [-23.782463, -45.61798], [-23.82054, -45.411842], [-23.776117, -45.643303], [-21.9805, -46.793346], [-21.980646, -46.79651], [-21.97743, -46.788116], [-21.966442, -46.79802], [-23.469967, -46.570114], [-20.283728, -50.25002], [-20.277025, -50.231308], [-20.2821, -50.256493], [-20.291147, -50.25591], [-20.266329, -50.25374], [-20.28578, -50.254517], [-20.286406, -50.24948], [-20.29538, -50.265537], [-20.262674, -50.235413], [-20.268135, -50.25469], [-23.422943, -51.960804], [-23.433338, -51.965717], [-23.427713, -51.952316], [-23.425138, -51.957645], [-23.432924, -51.95334], [-23.428072, -51.96237], [-22.975464, -47.00912], [-22.848166, -47.02284], [-23.582996, -46.813995], [-23.56971, -46.810524], [-23.579144, -46.812477], [-23.565218, -46.814705], [-23.56796, -46.8074], [-23.581156, -46.81119], [-23.40779, -46.84135], [-23.40779, -46.84135], [-23.406239, -46.841026], [-23.501293, -46.52014], [-23.505, -46.521397], [-23.53967, -46.77497], [-23.541426, -46.776543], [-23.53951, -46.778187], [-23.546883, -46.77562], [-26.955988, -49.083855], [-26.953577, -49.082806], [-25.363974, -49.20021], [-22.377289, -48.384266], [-22.36979, -48.380817], [-22.381826, -48.38813], [-22.36956, -48.38314], [-22.370901, -48.385075], [-21.601381, -46.89093], [-21.598623, -46.894978], [-21.597864, -46.88936], [-21.59137, -46.884556], [-21.612114, -46.906345], [-21.599724, -46.873375], [-21.593666, -46.892307], [-21.59699, -46.881084], [-21.606897, -46.887165], [-21.60575, -46.890133], [-21.58049, -46.905197], [-21.603176, -46.907112], [-23.427288, -51.954857], [-23.428566, -51.968872], [-23.424414, -51.96121], [-18.645592, -48.196915], [-18.648735, -48.19927], [-23.494036, -46.73034], [-22.344791, -49.056534], [-22.340227, -49.062748], [-22.34219, -49.066452], [-22.34307, -49.064575], [-22.345942, -49.056946], [-22.348782, -49.06384], [-22.344559, -49.06158], [-23.470167, -46.63043], [-23.477003, -46.63227], [-23.479284, -46.636276], [-23.471937, -46.63], [-23.471598, -46.629875], [-23.466818, -46.631958], [-20.010294, -44.03147], [-23.493067, -46.730373], [-23.53951, -46.778187], [-23.53855, -46.778263], [-23.69919, -46.55992], [-23.711851, -46.560085], [-23.695055, -46.55525], [-23.712498, -46.552853], [-23.703497, -46.556934], [-23.70786, -46.556347], [-23.71402, -46.55549], [-23.713154, -46.558746], [-23.704279, -46.555267], [-23.698336, -46.55875], [-23.590956, -46.55195], [-23.637817, -46.556023], [-23.636442, -46.553658], [-23.618114, -46.556057], [-23.625748, -46.555992], [-23.636461, -46.55365], [-23.634972, -46.553276], [-23.636597, -46.554726], [-23.63626, -46.55656], [-23.631233, -46.5543], [-23.62342, -46.557285], [-23.630877, -46.552464], [-23.623766, -46.555096], [-23.6307, -46.55647], [-23.630556, -46.553516], [-23.639284, -46.552563], [-23.636597, -46.554726], [-22.350677, -49.05726], [-22.345041, -49.06251], [-22.352926, -49.05981], [-22.338617, -49.064816], [-22.351185, -49.052414], [-22.346123, -49.06523], [-19.50296, -42.57109], [-19.507215, -42.54627], [-19.489744, -42.524643], [-19.502335, -42.573265], [-19.50712, -42.573273], [-19.508158, -42.561985], [-23.534662, -46.50628], [-23.530941, -46.55746], [-23.535723, -46.584995], [-24.032509, -52.37596], [-24.02958, -52.372066], [-24.032785, -52.37508], [-24.033777, -52.368137], [-24.032785, -52.37508], [-24.02997, -52.37665], [-23.637745, -46.5658], [-23.62988, -46.563854], [-23.636665, -46.563324], [-23.632217, -46.567112], [-23.531666, -46.833504], [-23.531666, -46.833504], [-22.889217, -47.032635], [-24.554981, -54.070892], [-24.567122, -54.0589], [-24.558764, -54.059853], [-24.532558, -54.05031], [-24.547956, -54.055832], [-24.554768, -54.086914], [-24.539812, -54.05435], [-24.564653, -54.039494], [-24.544142, -54.057858], [-26.94436, -49.07195], [-24.55704, -54.06547], [-24.556562, -54.069267], [-24.535666, -54.058292], [-24.563217, -54.060146], [-24.541674, -54.059498], [-24.55077, -54.062206], [-24.571316, -54.060493], [-23.42961, -51.9551], [-23.425438, -51.96178], [-23.428806, -51.971832], [-23.652605, -46.756874], [-23.65604, -46.757614], [-23.65309, -46.754982], [-23.569456, -46.51095], [-23.570618, -46.50933], [-17.79672, -50.937668], [-17.800648, -50.93066], [-17.795237, -50.930534], [-17.79461, -50.928352], [-17.800285, -50.937984], [-17.791191, -50.926086], [-15.841451, -48.024025], [-23.687744, -46.598095], [-23.688969, -46.584843], [-26.777403, -48.678375], [-26.758171, -48.678528], [-26.771423, -48.665478], [-23.493769, -46.46229], [-23.504488, -46.47335], [-23.506813, -46.477753], [-23.494234, -46.460117], [-20.823034, -49.36903], [-20.819696, -49.368797], [-20.812622, -49.372574], [-23.428335, -51.968338], [-23.428389, -51.957813], [-23.431679, -51.960228], [-23.424187, -51.95892], [-23.423216, -51.96673], [-23.631233, -46.5543], [-23.628561, -46.553406], [-23.631372, -46.555725], [-23.636597, -46.554726], [-23.63717, -46.553288], [-23.625748, -46.555992], [-23.621302, -46.557835], [-19.888552, -43.994522], [-19.889936, -43.99662], [-19.886896, -44.001373], [-19.889982, -44.00187], [-19.889204, -43.998184], [-19.893616, -44.00072], [-23.530941, -46.55746], [-23.535723, -46.584995], [-23.532915, -46.563114], [-21.687296, -47.274178], [-21.708048, -47.27308], [-21.70684, -47.280426], [-21.596428, -46.874104], [-21.601263, -46.893894], [-21.596613, -46.884506], [-21.601156, -46.900547], [-21.614546, -46.893654], [-21.60748, -46.906116], [-21.586468, -46.888035], [-21.60355, -46.885914], [-21.586735, -46.905437], [-21.613943, -46.894875], [-20.443718, -44.761795], [-20.370455, -44.682167], [-20.443314, -44.76705], [-20.445927, -44.76417], [-20.43822, -44.757812], [-23.547483, -46.649494], [-23.545403, -46.647022], [-23.547375, -46.649624], [-23.546333, -46.650322], [-12.8959255, -38.34925], [-12.895796, -38.349697], [-21.741425, -48.68452], [-21.735859, -48.6835], [-21.728867, -48.688816], [-23.197237, -47.307095], [-23.207468, -47.295208], [-23.198172, -47.29813], [-23.201744, -47.297817], [-23.048168, -47.83588], [-23.053032, -47.838055], [-23.041952, -47.830273], [-23.054008, -47.83782], [-23.041113, -47.838192], [-23.05262, -47.82594], [-30.070698, -51.230206], [-30.062119, -51.22666], [-30.069862, -51.216255], [-30.07299, -51.215973], [-30.063322, -51.22897], [-23.620792, -46.693474], [-23.622356, -46.6954], [-23.621508, -46.69434], [-23.620506, -46.69587], [-23.621183, -46.69543], [-22.932314, -42.48762], [-22.93008, -42.51981], [-22.93194, -42.491295], [-22.93157, -42.55469], [-22.933916, -42.494175], [-22.929438, -42.55675], [-22.932251, -42.512554], [-22.931684, -42.499798], [-23.462498, -46.85261], [-23.483252, -46.836544], [-23.466612, -46.857395], [-23.466612, -46.857395], [-23.462399, -46.852875], [-25.532078, -49.186047], [-25.55066, -49.1808], [-25.547178, -49.173996], [-25.558748, -49.167828], [-25.54225, -49.183853], [-26.323603, -48.83613], [-26.320957, -48.829945], [-23.206125, -47.291195], [-23.203527, -47.292366], [-23.199535, -47.304466], [-23.20328, -47.28914], [-23.204418, -47.290054], [-23.198172, -47.29813], [-23.200521, -47.30714], [-23.50224, -46.729687], [-23.505928, -46.724155], [-23.505796, -46.727116], [-22.92994, -43.698227], [-22.927637, -43.696266], [-22.928633, -43.697247], [-22.933767, -43.688633], [-22.908901, -43.68929], [-22.938541, -43.68871], [-22.92777, -43.67832], [-23.932446, -46.348297], [-23.932056, -46.34912], [-23.943205, -46.365974], [-23.932467, -46.349033], [-23.933647, -46.347263], [-25.4438, -49.332493], [-25.446198, -49.320995], [-20.52326, -47.383945], [-20.536158, -47.38823], [-20.527994, -47.394527], [-20.531544, -47.3886], [-20.523794, -47.379322], [-20.52367, -47.37725], [-20.528034, -47.372356], [-20.534897, -47.39224], [-20.521166, -47.395554], [-20.535097, -47.392], [-20.526892, -47.385136], [-23.56918, -46.61718], [-3.7663856, -38.569103], [-3.7412086, -38.5698], [-23.688387, -46.85075], [-23.693369, -46.86043], [-20.688538, -50.566998], [-20.684568, -50.552208], [-16.666178, -49.266376], [-23.033735, -47.82779], [-23.034029, -47.83907], [-23.033543, -47.83407], [-23.055668, -47.829735], [-23.061134, -47.834026], [-23.056303, -47.83819], [-26.281548, -48.85287], [-22.765663, -43.4238], [-27.871836, -54.47162], [-27.870209, -54.481915], [-27.87018, -54.47815], [-27.866941, -54.476814], [-27.865215, -54.47868], [-20.584589, -47.86234], [-20.566624, -47.86882], [-20.584597, -47.875793], [-20.584097, -47.86547], [-20.583649, -47.865696], [-20.58151, -47.86362], [-20.597929, -47.8621], [-20.602077, -47.874683], [-20.587004, -47.86605], [-20.59073, -47.851986], [-20.589037, -47.861523], [-20.578995, -47.855103], [-20.58664, -47.858276], [-26.88857, -49.07296], [-26.89049, -49.06697], [-23.35458, -51.155525], [-23.341354, -51.149685], [-23.34347, -51.148182], [-23.340334, -51.14404], [-23.343002, -51.144726], [-22.519049, -44.179214], [-22.520302, -44.186695], [-22.526497, -44.18331], [-9.403311, -38.221214], [-9.402285, -38.222904], [-23.559694, -46.569744], [-23.559908, -46.56932], [-23.56008, -46.568962], [-23.556957, -46.57584], [-22.158686, -49.963608], [-22.152447, -49.949883], [-22.15469, -49.964046], [-22.152447, -49.949883], [-22.162354, -49.965855], [-22.16923, -49.97075], [-22.163424, -49.94804], [-22.160856, -49.968464], [-29.686403, -51.054817], [-29.667864, -51.051247], [-29.666721, -51.055477], [-29.67115, -51.084175], [-29.676477, -51.03961], [-29.674017, -51.07345], [-29.659939, -51.039146], [-26.909336, -49.121902], [-22.748713, -47.413395], [-22.752672, -47.421734], [-22.758944, -47.420856], [-22.75291, -47.411957], [-19.458889, -44.236008], [-19.462889, -44.233944], [-19.464529, -44.252216], [-19.456697, -44.232468], [-19.466347, -44.25388], [-19.464603, -44.25614], [-19.440327, -44.25024], [-19.461365, -44.261578], [-19.471336, -44.249016], [-19.475315, -44.25643], [-19.461246, -44.236465], [-19.454573, -44.247913], [-19.460794, -44.248226], [-19.436716, -44.241886], [-19.45444, -44.249187], [-19.46006, -44.262703], [-19.444641, -44.24797], [-19.477365, -44.258507], [-19.46132, -44.248363], [-19.454615, -44.260303], [-19.46076, -44.256516], [-19.427877, -44.246452], [-23.194017, -46.856026], [-23.187878, -46.853363], [-23.187376, -46.845863], [-23.187647, -46.85077], [-23.194122, -46.860332], [-23.194084, -46.860786], [-23.183975, -46.85631], [-16.693926, -49.27535], [-16.693726, -49.2778], [-16.693726, -49.2778], [-23.53778, -46.648857], [-23.534601, -46.646114], [-23.537245, -46.650135], [-23.542164, -46.645454], [-21.11807, -42.949802], [-21.11441, -42.952904], [-21.114185, -42.940422], [-21.113268, -42.928955], [-21.116209, -42.935364], [-21.118721, -42.9379], [-21.116411, -42.942245], [-21.11663, -42.951134], [-21.118889, -42.9436], [-24.083593, -54.252083], [-24.07813, -54.26653], [-24.085217, -54.25882], [-24.08262, -54.25348], [-21.208149, -47.60107], [-21.205397, -47.59832], [-21.204622, -47.598507], [-21.945486, -50.515656], [-20.353025, -40.286217], [-20.340815, -40.28594], [-20.331066, -40.280678], [-20.340815, -40.28594], [-20.334517, -40.282516], [-20.34317, -40.28564], [-20.348143, -40.285522], [-20.33061, -40.27693], [-20.353827, -40.2901], [-20.35146, -40.283775], [-20.330917, -40.279835], [-20.349712, -40.283924], [-20.356062, -40.29128], [-20.331358, -40.277573], [-20.356066, -40.291348], [-20.33159, -40.278103], [-20.338346, -40.283634], [-20.35561, -40.292114], [-20.331688, -40.278324], [-20.340815, -40.28594], [-20.33143, -40.27929], [-20.331242, -40.277306], [-20.345474, -40.28608], [-20.350311, -40.291805], [-20.331358, -40.277573], [-20.349674, -40.283924], [-20.353832, -40.287373], [-20.331852, -40.276264], [-20.348627, -40.28549], [-29.155209, -51.51294], [-23.022888, -45.54963], [-23.028648, -45.550148], [-25.454473, -49.33833], [-25.438786, -49.32418], [-25.438715, -49.330795], [-25.454473, -49.33833], [-25.444004, -49.3435], [-25.442265, -49.342075], [-25.449686, -49.332264], [-25.44963, -49.327976], [-22.605268, -43.704796], [-22.629295, -43.708267], [-22.632074, -43.70784], [-22.627884, -43.69765], [-22.62467, -43.69924], [-22.59765, -43.691948], [-22.610569, -43.707203], [-22.55188, -43.689445], [-22.61899, -43.716827], [-22.60428, -43.702507], [-23.624086, -46.609978], [-23.629837, -46.608974], [-23.028065, -45.551563], [-23.027462, -45.54493], [-23.02579, -45.553978], [-23.020592, -45.549873], [-25.548086, -49.178802], [-25.533552, -49.187267], [-22.439362, -46.95835], [-22.43845, -46.97134], [-22.438148, -46.963646], [-28.491907, -48.77291], [-28.459356, -48.788242], [-28.462317, -48.79118], [-28.472397, -48.78415], [-22.98551, -43.238834], [-22.98111, -43.235825], [-22.978031, -43.229855], [-22.980543, -43.241253], [-22.98281, -43.241528], [-22.977818, -43.228268], [-22.975626, -43.227947], [-22.984587, -43.245], [-22.983583, -43.24196], [-22.975729, -43.22823], [-22.982725, -43.241505], [-22.976648, -43.22699], [-22.978031, -43.229855], [-22.98281, -43.241528], [-22.983585, -43.242672], [-22.97662, -43.229527], [-22.983484, -43.241947], [-21.734447, -48.68924], [-21.73006, -48.68435], [-12.885897, -38.346615], [-12.895113, -38.33896], [-20.834587, -49.358055], [-20.83588, -49.351135], [-23.39582, -46.31881], [-23.394775, -46.320915], [-23.39589, -46.31438], [-23.400797, -46.314793], [-23.399607, -46.30973], [-23.531942, -46.580402], [-23.529726, -46.57672], [-23.52727, -46.57661], [-23.531813, -46.582695], [-23.532162, -46.581448], [-25.381706, -51.449722], [-25.383959, -51.45572], [-12.990725, -38.487965], [-12.985219, -38.49495], [-12.991151, -38.491497], [-12.988801, -38.49276], [-12.991726, -38.485283], [-12.990973, -38.487255], [-23.52784, -46.460598], [-23.532526, -46.463863], [-23.52784, -46.460598], [-23.530457, -46.46082], [-23.70738, -46.571], [-23.70252, -46.56888], [-23.707256, -46.56892], [-23.707405, -46.569984], [-23.699179, -46.56893], [-23.702272, -46.57504], [-23.700783, -46.568584], [-23.705013, -46.575882], [-23.707348, -46.56628], [-11.304858, -41.8491], [-11.304735, -41.858646], [-11.29785, -41.849014], [-11.300164, -41.845146], [-11.305312, -41.848614], [-11.298869, -41.848156], [-11.305836, -41.870667], [-11.30181, -41.850662], [-18.536163, -54.744633], [-18.493486, -54.740368], [-18.504522, -54.762093], [-18.510702, -54.74926], [-18.500368, -54.75357], [-18.50715, -54.7415], [-18.486917, -54.73273], [-25.46291, -49.185814], [-25.458864, -49.189148], [-25.462841, -49.17763], [-21.113344, -42.9291], [-21.093237, -42.970104], [-21.113785, -42.941086], [-21.09915, -42.972866], [-21.13269, -42.955112], [-21.120296, -42.94011], [-21.119917, -42.943428], [-21.119946, -42.9383], [-21.13216, -42.941273], [-21.112104, -42.92607], [-21.12243, -42.93854], [-21.120928, -42.93173], [-21.110474, -42.957043], [-21.115889, -42.93821], [-21.132048, -42.933277], [-21.113571, -42.9618], [-21.120419, -42.944473], [-21.118193, -42.9347], [-21.112919, -42.976948], [-21.123098, -42.943996], [-21.121048, -42.912548], [-21.126192, -42.924984], [-21.115192, -42.949013], [-23.286694, -45.965725], [-23.28888, -45.96472], [-23.279379, -45.95727], [-23.282047, -45.956448], [-23.558212, -46.58932], [-22.891706, -43.222336], [-22.891056, -43.235123], [-22.891056, -43.235123], [-22.889673, -43.235607], [-23.626177, -46.664127], [-23.491896, -46.546295], [-23.491896, -46.546295], [-23.494225, -46.544693], [-23.491896, -46.546295], [-23.500921, -46.54957], [-23.491896, -46.546295], [-23.501274, -46.549023], [-23.567543, -46.619194], [-23.568722, -46.6188], [-3.7858474, -38.56955], [-22.772526, -43.423187], [-22.77211, -43.421795], [-23.214407, -45.905575], [-23.213669, -45.9079], [-23.215494, -45.906796], [-23.22112, -45.90598], [-23.221205, -45.905468], [-23.216, -45.9082], [-23.22197, -45.90858], [-23.213167, -45.907883], [-23.211815, -45.908817], [-23.21825, -45.908604], [-23.227005, -45.9123], [-23.217346, -45.908653], [-22.985199, -46.526917], [-22.990929, -46.52928], [-22.983929, -46.530575], [-23.109512, -47.706356], [-23.110859, -47.713947], [-23.107523, -47.71405], [-23.115639, -47.711124], [-23.10209, -47.714287], [-23.088804, -47.69632], [-23.110598, -47.725178], [-23.094458, -47.711807], [-23.087696, -47.716053], [-23.086502, -47.713833], [-25.43005, -54.39651], [-21.745321, -48.689167], [-21.734447, -48.68924], [-21.729643, -48.688927], [-23.542494, -46.4844], [-23.542187, -46.48368], [-23.54281, -46.484497], [-23.542107, -46.4865], [-23.62348, -46.66674], [-23.623974, -46.66619], [-23.627163, -46.663433], [-23.629875, -46.72939], [-23.626509, -46.730778], [-23.624678, -46.728806], [-23.627855, -46.72978], [-23.624697, -46.731133], [-21.11168, -42.941948], [-21.12247, -42.92426], [-21.126417, -42.935467], [-21.112577, -42.92988], [-21.108643, -42.95809], [-21.115181, -42.953785], [-21.11913, -42.93946], [-21.088238, -42.97711], [-21.11503, -42.895187], [-21.119062, -42.90839], [-21.134226, -42.932194], [-21.125744, -42.922604], [-23.673412, -46.659725], [-23.514269, -46.399345], [-23.512606, -46.396935], [-23.51511, -46.39575], [-23.500093, -46.399036], [-22.883411, -43.22584], [-22.889349, -43.23388], [-22.886597, -43.22625], [-23.523996, -46.512943], [-23.526695, -46.513508], [-29.677467, -51.068233], [-29.68808, -51.054226], [-29.677027, -51.067513], [-29.672085, -51.086052], [-29.697632, -51.07292], [-29.67599, -51.062523], [-29.678032, -51.061794], [-29.695663, -51.075356], [-29.655663, -51.035557], [-23.561872, -46.7962], [-23.553888, -46.799767], [-23.540028, -46.637287], [-23.53982, -46.636967], [-23.308004, -45.972385], [-23.30406, -45.967678], [-23.29297, -45.966045], [-23.30284, -45.966747], [-23.30598, -45.968014], [-23.55696, -46.58879], [-23.555006, -46.586243], [-23.552568, -46.58663], [-8.067351, -34.91829], [-8.063535, -34.9184], [-23.470522, -46.520557], [-23.533144, -46.725605], [-23.528786, -46.729694], [-23.527758, -46.732273], [-23.52666, -46.73154], [-23.523981, -46.73347], [-23.527214, -46.731113], [-23.526974, -46.73318], [-23.527758, -46.732273], [-23.52666, -46.73154], [-23.533674, -46.7251], [-23.526047, -46.732132], [-23.531801, -46.726875], [-23.525724, -46.73245], [-23.530706, -46.727924], [-22.419064, -46.966145], [-22.410053, -46.972767], [-22.418709, -46.97014], [-22.414505, -46.97436], [-22.419144, -46.965557], [-23.633066, -46.640537], [-23.634315, -46.641], [-23.569782, -46.823643], [-23.567112, -46.82285], [-23.566021, -46.823498], [-23.570194, -46.82393], [-22.83784, -42.09962], [-8.042762, -34.895103], [-8.046512, -34.89712], [-23.560722, -46.63278], [-23.536106, -46.648468], [-23.535614, -46.64769], [-21.123644, -48.948788], [-21.123377, -48.953594], [-21.12686, -48.952705], [-20.830374, -49.359108], [-23.513292, -46.592857], [-23.511942, -46.59475], [-23.51317, -46.45925], [-23.509085, -46.451733], [-23.624908, -46.57397], [-23.617605, -46.576782], [-23.619919, -46.574993], [-23.629194, -46.571014], [-23.622736, -46.578743], [-23.61141, -46.576344], [-23.62197, -46.57644], [-23.618544, -46.57424], [-20.52718, -47.390957], [-20.529707, -47.397957], [-20.532759, -47.381477], [-20.53233, -47.384933], [-20.537134, -47.38588], [-20.534073, -47.394672], [-20.536186, -47.388527], [-23.522394, -46.527782], [-23.530828, -46.527534], [-23.527218, -46.52817], [-23.646189, -46.6692], [-23.646116, -46.669064], [-22.154804, -49.962685], [-22.153444, -49.961964], [-22.440168, -46.956608], [-22.436653, -46.96568], [-22.440102, -46.967102], [-22.429945, -46.955338], [-22.43757, -46.96768], [-27.40559, -51.213158], [-27.396633, -51.22067], [-27.394691, -51.206303], [-27.407558, -51.236675], [-27.39796, -51.229618], [-27.40131, -51.226578], [-27.399906, -51.212708], [-22.595587, -47.421787], [-22.601948, -47.43169], [-22.589113, -47.437202], [-22.569208, -47.424324], [-23.707651, -46.621296], [-23.706186, -46.63166], [-23.707682, -46.62142], [-23.71025, -46.619644], [-23.711744, -46.618023], [-23.706667, -46.628967], [-23.532784, -46.816143], [-23.524496, -46.809944], [-23.538744, -46.810223], [-23.52662, -46.809994], [-23.535711, -46.810223], [-23.621298, -46.617077], [-23.620916, -46.61475], [-20.536554, -47.38753], [-20.526686, -47.36955], [-20.530973, -47.389694], [-20.530455, -47.375687], [-20.528614, -47.39101], [-20.52532, -47.39295], [-20.533085, -47.384285], [-20.521708, -47.385117], [-20.528326, -47.39932], [-19.463062, -44.24626], [-19.450308, -44.250835], [-19.469915, -44.250885], [-19.44246, -44.252598], [-19.454834, -44.255173], [-19.456846, -44.257492], [-19.47138, -44.25774], [-19.471169, -44.239918], [-19.44953, -44.251446], [-19.431349, -44.24605], [-19.456156, -44.246998], [-19.459097, -44.24765], [-19.447117, -44.25286], [-19.437601, -44.249836], [-19.477365, -44.258507], [-19.458956, -44.24354], [-23.489157, -46.662525], [-19.478134, -44.25456], [-19.454306, -44.245995], [-19.464487, -44.237644], [-19.46179, -44.24098], [-19.451466, -44.254814], [-19.4598, -44.24817], [-19.456846, -44.257492], [-19.473661, -44.24579], [-19.464495, -44.24125], [-19.447117, -44.25286], [-19.454573, -44.247913], [-19.446777, -44.259586], [-19.44079, -44.25454], [-19.480825, -44.2168], [-19.457918, -44.260574], [-19.470762, -44.237537], [-19.478777, -44.256474], [-19.455727, -44.25256], [-19.46418, -44.24892], [-19.46868, -44.250996], [-19.468548, -44.248013], [-19.44525, -44.24489], [-19.476187, -44.254776], [-19.450468, -44.256847], [-19.461739, -44.256073], [-19.460913, -44.259132], [-19.456682, -44.244175], [-19.464556, -44.24999], [-23.546768, -46.64617], [-23.54338, -46.64651], [-23.546686, -46.646164], [-22.753859, -47.4241], [-22.75789, -47.419247], [-22.753517, -47.416267], [-26.919079, -49.10338], [-23.542065, -46.68751], [-16.702627, -49.27402], [-16.699856, -49.27766], [-16.699837, -49.2692], [-16.691584, -49.277657], [-16.691286, -49.283306], [-16.695248, -49.277096], [-16.697836, -49.277767], [-22.667261, -43.126656], [-22.653425, -43.044506], [-22.668419, -43.035248], [-20.000275, -44.062542], [-20.533226, -47.381676], [-20.524662, -47.393826], [-20.527073, -47.390945], [-20.530111, -47.380596], [-20.530554, -47.39333], [-20.522902, -47.393932], [-20.523037, -47.400364], [-20.524733, -47.371883], [-20.528502, -47.38036], [-20.524662, -47.393826], [-20.310707, -48.304516], [-20.3256, -48.30944], [-20.320055, -48.314133], [-20.3156, -48.320114], [-20.32312, -48.30812], [-20.312037, -48.318584], [-20.325977, -48.316284], [-20.320055, -48.314133], [-20.31828, -48.315434], [-20.534042, -47.384087], [-20.537134, -47.38588], [-20.533726, -47.37888], [-20.524096, -47.376198], [-20.532759, -47.381477], [-20.525846, -47.38518], [-20.52709, -47.394764], [-25.443388, -54.397457], [-25.453894, -54.406498], [-25.435448, -54.397167], [-25.443388, -54.397457], [-20.680151, -50.550045], [-23.71103, -46.545742], [-23.71103, -46.545742], [-23.712685, -46.550285], [-23.711329, -46.54746], [-23.71103, -46.545742], [-23.7091, -46.549477], [-23.71103, -46.545742], [-25.432877, -54.405582], [-25.434946, -54.397892], [-25.435846, -54.40406], [-25.446133, -54.398003], [-26.89211, -49.07454], [-23.490278, -47.463852], [-23.488987, -47.475483], [-27.864439, -54.482243], [-27.869574, -54.479496], [-27.872879, -54.470966], [-27.869062, -54.47881], [-27.866638, -54.475937], [-27.86867, -54.47548], [-27.865051, -54.480427], [-23.054947, -47.83652], [-23.048033, -47.835728], [-23.053078, -47.83465], [-23.049887, -47.836994], [-23.05554, -47.839542], [-23.053473, -47.8376], [-23.053425, -47.8329], [-23.052782, -47.840637], [-23.477861, -46.52919], [-23.481598, -46.538826], [-23.62451, -46.755688], [-23.625776, -46.75542], [-23.624224, -46.753605], [-23.62238, -46.7562], [-22.812878, -43.38732], [-22.812527, -43.387585], [-26.610243, -49.00622], [-23.588484, -46.720734], [-23.588562, -46.72212], [-23.592674, -46.71791], [-23.501968, -46.70049], [-23.035017, -47.8407], [-23.056429, -47.830723], [-23.049782, -47.832787], [-23.045073, -47.84405], [-23.057611, -47.838135], [-23.053078, -47.83465], [-23.044014, -47.831142], [-23.064081, -47.834335], [-23.056429, -47.830723], [-23.05865, -47.84399], [-22.528675, -44.17974], [-22.519049, -44.179214], [-22.52381, -44.18623], [-22.524004, -44.184956], [-29.152931, -51.52082], [-29.157314, -51.50132], [-29.159266, -51.51387], [-23.717903, -46.549156], [-23.71103, -46.545742], [-23.71104, -46.545116], [-23.71103, -46.545742], [-29.101845, -49.626804], [-29.109116, -49.64141], [-29.11737, -49.631218], [-29.098003, -49.64077], [-29.117096, -49.63876], [-23.525515, -46.51468], [-23.526886, -46.513554], [-23.532362, -46.6676], [-23.692131, -46.57655], [-23.682085, -46.57205], [-23.685066, -46.572033], [-23.681746, -46.569527], [-23.682596, -46.57324], [-23.68923, -46.572845], [-23.46611, -46.58378], [-23.476519, -46.59555], [-23.47975, -46.59966], [-23.419025, -51.88016], [-23.425558, -51.905617], [-22.658623, -43.03685], [-22.606916, -43.187824], [-22.645678, -43.039333], [-22.65441, -43.039906], [-23.617388, -46.766018], [-23.618296, -46.76904], [-23.612295, -46.765785], [-23.612295, -46.765785], [-23.617958, -46.76506], [-23.613997, -46.765316], [-23.61293, -46.766987], [-23.612295, -46.765785], [-23.306297, -45.973557], [-23.298334, -45.97318], [-23.309025, -45.970505], [-23.30199, -45.972927], [-23.200085, -47.29935], [-23.208448, -47.29064], [-23.207333, -47.290768], [-23.208796, -47.291447], [-23.20066, -47.3073], [-23.201906, -47.29351], [-23.20077, -47.300587], [-29.110256, -49.639477], [-22.916235, -43.065926], [-22.914476, -43.07049], [-22.911621, -43.067505], [-22.906984, -43.070877], [-22.908457, -43.067406], [-22.908915, -43.065105], [-23.620792, -46.693474], [-23.620554, -46.69726], [-23.620506, -46.69587], [-26.909948, -49.12049], [-23.707348, -46.566875], [-23.707348, -46.566875], [-23.707325, -46.568054], [-23.707376, -46.573223], [-23.705013, -46.575882], [-23.707489, -46.5729], [-23.699856, -46.57075], [-23.704515, -46.563885], [-23.701359, -46.575825], [-23.707348, -46.56628], [-22.15396, -49.947746], [-22.14757, -49.960342], [-22.154139, -49.95065], [-22.16437, -49.972046], [-22.168077, -49.97894], [-23.307718, -45.973267], [-23.420824, -51.890728], [-23.419025, -51.88016], [-23.425566, -51.90562], [-21.195705, -47.815956], [-21.19613, -47.81036], [-21.1898, -47.820087], [-21.19718, -47.816177], [-21.193945, -47.80801], [-21.189396, -47.81994], [-21.195614, -47.81125], [-21.189823, -47.815098], [-21.189316, -47.814537], [-21.189396, -47.81994], [-21.200642, -47.820415], [-23.624285, -46.729233], [-23.627953, -46.72877], [-23.629875, -46.729378], [-23.62439, -46.731144], [-23.624678, -46.728806], [-22.894562, -47.063263], [-22.891745, -47.06076], [-22.886227, -47.046135], [-22.891516, -47.06065], [-22.894934, -47.061504], [-22.896729, -47.06352], [-22.8955, -47.061943], [-22.715467, -47.635677], [-22.710772, -47.64652], [-22.731089, -47.63062], [-22.721413, -47.63799], [-26.642626, -48.694553], [-22.409334, -43.13747], [-22.384611, -43.13378], [-22.386127, -43.133232], [-22.411442, -43.135143], [-22.384611, -43.13378], [-22.414762, -43.118954], [-22.398146, -43.13371], [-22.393559, -43.131203], [-23.563883, -46.785732], [-23.563883, -46.785732], [-23.563883, -46.785732], [-28.361694, -49.284107], [-23.539686, -46.546356], [-23.539686, -46.546356], [-21.862022, -51.834316], [-21.87676, -51.84509], [-21.887714, -51.834084], [-21.884947, -51.833237], [-21.879702, -51.856567], [-21.86752, -51.844593], [-21.87074, -51.842247], [-21.86301, -51.844727], [-21.14663, -47.794926], [-23.54241, -46.926567], [-23.556738, -46.91563], [-23.547388, -46.934433], [-23.721561, -46.696182], [-23.73514, -46.683163], [-23.628866, -46.7319], [-23.628265, -46.73229], [-23.629345, -46.731647], [-21.149136, -47.791027], [-22.321772, -49.041725], [-22.320322, -49.040577], [-22.322355, -49.050407], [-22.327116, -49.0465], [-23.23764, -45.8905], [-23.237387, -45.88938], [-23.23966, -45.881283], [-23.25695, -45.889194], [-23.246948, -45.88929], [-23.250008, -45.888824], [-23.578684, -46.522163], [-30.005762, -51.130646], [-30.002682, -51.132164], [-30.001019, -51.129555], [-30.002739, -51.1328], [-17.29172, -49.02207], [-23.630919, -46.480724], [-23.654442, -46.466717], [-23.660542, -46.473583], [-23.502085, -46.62035], [-23.501026, -46.621613], [-23.47486, -46.57614], [-21.196371, -47.77582], [-21.200933, -47.769768], [-21.207088, -47.778866], [-23.65176, -46.670563], [-23.650824, -46.671], [-23.340029, -51.138615], [-20.768751, -49.412262], [-20.850378, -49.392635], [-20.837296, -49.37911], [-20.844568, -49.393642], [-20.846313, -49.393326], [-20.831701, -49.38549], [-22.5556, -47.163902], [-22.579882, -47.15635], [-22.576683, -47.1764], [-22.57524, -47.16299], [-22.569126, -47.168808], [-22.571093, -47.174847], [-22.5831, -47.176407], [-22.55804, -47.16583], [-22.55133, -47.168335], [-23.597385, -46.599472], [-23.57707, -46.602776], [-26.409979, -48.796482], [-26.405418, -48.801113], [-26.37095, -48.723614], [-29.684252, -51.139584], [-29.67968, -51.141155], [-29.685894, -51.13711], [-26.265778, -48.858063], [-26.27467, -48.852413], [-20.766481, -49.405323], [-20.770632, -49.384186], [-25.468573, -49.288258], [-25.473486, -49.287975], [-25.473347, -49.291775], [-25.470345, -49.29429], [-25.470587, -49.28695], [-25.47215, -49.294533], [-25.472982, -49.28966], [-25.474455, -49.29137], [-25.473347, -49.291775], [-20.35393, -40.377083], [-20.362165, -40.370796], [-20.296736, -40.384777], [-25.22331, -50.61007], [-25.226858, -50.599354], [-26.72548, -53.52173], [-26.739206, -53.521523], [-26.733662, -53.51967], [-26.752327, -53.498177], [-26.72631, -53.524662], [-26.763062, -53.50523], [-26.736032, -53.527046], [-26.749931, -53.50077], [-26.725298, -53.536167], [-26.722525, -53.520763], [-26.737864, -53.5232], [-22.88189, -43.30959], [-22.88161, -43.302227], [-22.555925, -47.452824], [-22.556606, -47.442604], [-23.672003, -46.669132], [-23.676064, -46.664944], [-23.671177, -46.6701], [-23.672003, -46.669132], [-23.681818, -46.670544], [-23.674107, -46.669407], [-23.674778, -46.671093], [-23.683783, -46.67294], [-21.731148, -43.34801], [-21.734674, -43.34878], [-21.731058, -43.34958], [-21.738667, -43.35186], [-21.734945, -43.347122], [-21.727047, -43.344315], [-21.737267, -43.34938], [-27.601925, -48.58846], [-27.608828, -48.593822], [-27.600807, -48.578457], [-19.87562, -43.9051], [-19.88148, -43.90742], [-19.877962, -43.90408], [-22.099617, -51.405167], [-22.094059, -51.40901], [-22.098795, -51.41129], [-22.100578, -51.40366], [-22.101608, -51.405415], [-16.665024, -49.305458], [-27.293, -50.57502], [-27.300133, -50.57297], [-27.300953, -50.57534], [-23.507862, -46.57852], [-23.511229, -46.58097], [-22.885126, -43.301006], [-22.88675, -43.30349], [-22.882853, -43.30185], [-22.885628, -43.30146], [-26.887333, -48.65321], [-26.901022, -48.65339], [-26.877499, -48.675438], [-26.899164, -48.655334], [-26.879156, -48.666294], [-26.897625, -48.65324], [-26.891916, -48.644085], [-26.88929, -48.65408], [-26.891478, -48.650898], [-23.518602, -47.461575], [-23.52566, -47.46285], [-23.518702, -47.460354], [-20.841978, -49.394054], [-20.827118, -49.387383], [-20.836807, -49.389465], [-20.831106, -49.38443], [-20.833864, -49.391193], [-20.832651, -49.383938], [-20.83973, -49.38458], [-20.849043, -49.39292], [-23.491318, -46.68182], [-25.476261, -49.32746], [-25.474604, -49.310276], [-25.478666, -49.320847], [-25.47482, -49.308876], [-25.47933, -49.322445], [-23.532913, -46.31988], [-23.539082, -46.315125], [-23.532972, -46.316776], [-23.531698, -46.317814], [-23.546467, -46.31744], [-23.540483, -46.319836], [-23.551846, -46.319553], [-22.55883, -47.424694], [-22.558746, -47.42343], [-22.560158, -47.423862], [-22.562616, -47.438965], [-22.559933, -47.4238], [-22.559422, -47.424686], [-25.521933, -49.343845], [-25.551613, -49.370598], [-25.551613, -49.370598], [-25.545267, -49.36772], [-23.475376, -46.530457], [-27.10232, -52.61185], [-27.101128, -52.612022], [-27.10232, -52.61185], [-27.095963, -52.608585], [-27.091707, -52.60758], [-27.10232, -52.61185], [-27.099031, -52.615437], [-27.099031, -52.615437], [-27.101328, -52.608646], [-23.518875, -46.18976], [-23.483677, -46.14023], [-23.669939, -46.589146], [-23.6188, -46.678123], [-23.623463, -46.68249], [-23.614275, -46.673874], [-23.62483, -46.6838], [-23.615942, -46.67538], [-22.748066, -43.40305], [-22.749388, -43.408676], [-22.75328, -43.40279], [-22.745052, -43.40484], [-22.746063, -43.40299], [-26.271992, -48.86727], [-26.277916, -48.857872], [-26.263685, -48.857246], [-23.652472, -46.491962], [-23.635014, -46.47756], [-23.626413, -46.478954], [-23.65617, -46.493034], [-23.65641, -46.49295], [-23.65257, -46.489872], [-23.628672, -46.477634], [-23.564337, -46.585472], [-26.736237, -53.517426], [-26.727707, -53.51657], [-26.740557, -53.515526], [-26.73376, -53.50814], [-26.726843, -53.517197], [-26.733522, -53.520977], [-26.749931, -53.50077], [-26.727362, -53.52604], [-26.716167, -53.52251], [-26.741747, -53.521294], [-26.763523, -53.50471], [-26.763062, -53.50523], [-26.73628, -53.52864], [-23.208498, -46.865166], [-23.21074, -46.86723], [-23.209318, -46.868694], [-21.169506, -47.80139], [-21.170542, -47.797146], [-21.170256, -47.804996], [-22.829937, -43.41108], [-22.834318, -43.409218], [-22.829193, -43.408287], [-19.526304, -40.664482], [-19.520458, -40.65731], [-29.205906, -51.36618], [-23.525633, -46.18035], [-23.529888, -46.168453], [-23.529297, -46.176502], [-23.52313, -46.17445], [-23.529888, -46.168453], [-20.839258, -49.37681], [-20.834568, -49.381096], [-20.834969, -49.3845], [-20.833666, -49.38537], [-20.838234, -49.385998], [-20.836216, -49.38396], [-20.849043, -49.39292], [-20.850378, -49.392635], [-20.833944, -49.3887], [-27.591982, -48.503788], [-27.600664, -48.514122], [-27.599802, -48.508774], [-23.452597, -47.485947], [-23.442268, -47.498135], [-23.448801, -47.487885], [-23.46386, -47.482452], [-23.45994, -47.489487], [-23.464537, -47.47964], [-21.257656, -48.328068], [-21.263891, -48.321976], [-21.257137, -48.326702], [-21.252327, -48.328495], [-21.254755, -48.319897], [-21.253239, -48.321877], [-22.90295, -43.229034], [-22.89921, -43.235783], [-22.896946, -43.236782], [-22.899307, -43.23573], [-22.901175, -43.228855], [-26.302908, -48.845776], [-26.300909, -48.84349], [-26.299835, -48.8446], [-26.299717, -48.84688], [-26.303064, -48.85086], [-26.301424, -48.851875], [-26.301178, -48.856148], [-19.931166, -43.947365], [-19.921864, -43.940716], [-19.933304, -43.94855], [-19.926157, -43.93831], [-19.933405, -43.946613], [-19.927427, -43.940277], [-19.928467, -43.94258], [-19.92641, -43.94341], [-19.927725, -43.94374], [-19.91894, -43.941284], [-23.645092, -46.563835], [-23.641392, -46.56237], [-23.644491, -46.55624], [-23.644491, -46.55624], [-23.643208, -46.56182], [-23.641392, -46.56237], [-23.641314, -46.558132], [-23.644491, -46.55624], [-21.318184, -49.053596], [-21.318184, -49.053596], [-21.318167, -49.059002], [-21.318184, -49.053596], [-21.31681, -49.05553], [-21.311556, -49.052376], [-23.692959, -46.50456], [-23.523405, -46.6445], [-23.521643, -46.647476], [-23.520018, -46.64634], [-23.529158, -46.641346], [-19.868372, -43.929874], [-19.88265, -43.9317], [-19.873596, -43.92925], [-19.874842, -43.932056], [-19.878548, -43.93151], [-23.477053, -46.71597], [-25.508175, -49.275734], [-25.511797, -49.281395], [-25.506514, -49.27379], [-25.510916, -49.273006], [-25.509388, -49.28417], [-25.479834, -49.321835], [-25.479603, -49.32294], [-25.47031, -49.32051], [-25.474846, -49.326527], [-23.692495, -46.613934], [-23.688843, -46.614643], [-23.689308, -46.612522], [-23.689034, -46.61302], [-23.693, -46.614437], [-23.689034, -46.61302], [-23.53134, -46.413555], [-23.534824, -46.422817], [-23.534428, -46.42368], [-23.53275, -46.417263], [-23.536694, -46.420883], [-23.5346, -46.417885], [-23.54042, -46.418346], [-22.41436, -47.55931], [-22.400175, -47.565155], [-22.40515, -47.56965], [-22.409618, -47.55803], [-22.399313, -47.55969], [-22.413004, -47.566803], [-22.395977, -47.562862], [-22.41249, -47.564884], [-22.396807, -47.564045], [-22.42033, -47.565594], [-22.414341, -47.563297], [-22.402134, -47.562332], [-25.433025, -49.299664], [-25.435308, -49.3048], [-25.431995, -49.297802], [-25.430128, -49.293346], [-25.43276, -49.30157], [-25.431877, -49.299316], [-25.432354, -49.28888], [-25.430723, -49.291977], [-25.4334, -49.295765], [-25.439688, -49.29916], [-25.433084, -49.29719], [-25.430128, -49.293346], [-28.681803, -49.36719], [-28.684147, -49.374557], [-23.558338, -46.579227], [-23.649525, -46.668922], [-23.652502, -46.668095], [-22.410494, -43.13819], [-22.393559, -43.131203], [-22.384611, -43.13378], [-22.448923, -43.118965], [-22.424185, -43.13082], [-22.894892, -47.06147], [-22.893038, -47.06327], [-22.894934, -47.061504], [-22.891836, -47.062374], [-22.895761, -47.066143], [-22.4059, -47.5731], [-22.404734, -47.571136], [-22.408854, -47.56136], [-22.410604, -47.562134], [-22.410942, -47.563244], [-22.412678, -47.55895], [-22.412098, -47.56399], [-21.126362, -47.78247], [-21.125378, -47.782143], [-31.328564, -54.108776], [-31.32879, -54.10169], [-31.327667, -54.101635], [-31.331799, -54.10769], [-31.3179, -54.107525], [-31.319283, -54.107674], [-31.32304, -54.099144], [-22.53576, -43.195072], [-22.541788, -43.211536], [-22.542126, -43.19325], [-22.537844, -43.191113], [-22.541788, -43.211536], [-22.534115, -43.195744], [-23.50214, -46.635025], [-23.502125, -46.63227], [-23.502106, -46.6295], [-22.555185, -47.171093], [-22.57353, -47.170574], [-22.574205, -47.17343], [-22.579536, -47.167023], [-22.557695, -47.16275], [-22.571444, -47.167057], [-22.581917, -47.178032], [-22.558176, -47.162365], [-22.578619, -47.1509], [-22.578684, -47.168713], [-21.197994, -47.779316], [-21.19701, -47.77527], [-21.198923, -47.784943], [-21.199682, -47.784172], [-21.202114, -47.76915], [-23.65336, -46.66703], [-23.65158, -46.66782], [-21.956322, -44.890167], [-21.961323, -44.89104], [-23.704231, -46.50527], [-23.708008, -46.505577], [-21.170414, -47.79738], [-21.167955, -47.801346], [-21.169428, -47.806248], [-21.170542, -47.797146], [-21.163889, -47.79368], [-21.162945, -47.800926], [-21.157293, -47.796032], [-21.171585, -47.803154], [-21.158478, -47.798183], [-21.16009, -47.796986], [-21.167004, -47.79713], [-21.178017, -47.800518], [-21.165014, -47.80384], [-23.223589, -45.876835], [-23.219717, -45.885994], [-23.22277, -45.878777], [-23.210302, -45.88702], [-20.321507, -40.381145], [-22.900234, -43.230427], [-22.90227, -43.229828], [-22.899117, -43.227688], [-22.901236, -43.23003], [-22.901966, -43.22914], [-22.90153, -43.23083], [-22.9004, -43.230797], [-22.899782, -43.228535], [-23.551516, -46.589092], [-19.928234, -43.94259], [-19.919174, -43.940052], [-19.926329, -43.938564], [-19.918661, -43.941246], [-19.930975, -43.945942], [-19.929665, -43.952595], [-19.9192, -43.940083], [-19.925772, -43.94736], [-19.924852, -43.94439], [-19.933254, -43.948505], [-19.920055, -43.941616], [-19.926428, -43.93863], [-19.929182, -43.942722], [-19.920452, -43.946606], [-19.929892, -43.945103], [-19.929892, -43.945103], [-25.540775, -49.20034], [-25.546747, -49.190063], [-25.5427, -49.2072], [-25.542858, -49.196793], [-21.13353, -47.781013], [-21.142796, -47.797874], [-21.1313, -47.782784], [-21.142368, -47.798634], [-21.14663, -47.794926], [-21.139841, -47.786716], [-21.540415, -42.184345], [-21.535343, -42.18967], [-21.656042, -42.342102], [-21.531288, -42.201263], [-21.53283, -42.18241], [-21.532427, -42.18726], [-21.5353, -42.189003], [-21.546785, -42.17434], [-21.52985, -42.189747], [-21.53629, -42.190643], [-23.57346, -46.783154], [-23.568663, -46.781563], [-24.926632, -53.46653], [-24.932306, -53.447323], [-15.786329, -48.123596], [-15.789941, -48.123825], [-15.789786, -48.12376], [-23.342535, -51.138165], [-23.342392, -51.136272], [-23.34041, -51.137695], [-23.496218, -46.741615], [-23.499039, -46.73532], [-23.49598, -46.74268], [-23.497635, -46.740253], [-23.497673, -46.737114], [-23.67566, -46.672207], [-23.678373, -46.6696], [-23.538895, -46.635456], [-20.816664, -49.35768], [-29.681643, -51.130356], [-29.681204, -51.122128], [-23.766392, -52.4429], [-23.7593, -52.444576], [-20.817764, -49.358143], [-20.821741, -49.364304], [-23.545916, -46.498253], [-23.548393, -46.50134], [-22.581934, -47.175278], [-22.582014, -47.155617], [-22.57727, -47.17063], [-22.561935, -47.168568], [-22.578901, -47.172836], [-22.569126, -47.168808], [-22.57463, -47.170567], [-22.557695, -47.16275], [-22.589916, -47.179413], [-22.57607, -47.171993], [-22.56906, -47.168884], [-21.73048, -43.364258], [-21.72898, -43.36532], [-21.731583, -43.353092], [-21.72781, -43.36089], [-21.728981, -43.366177], [-26.890652, -48.646423], [-26.885826, -48.65716], [-26.878267, -48.679268], [-26.888132, -48.656788], [-26.90169, -48.64771], [-26.886908, -48.662148], [-21.485044, -47.361977], [-21.465132, -47.36947], [-21.492386, -47.38788], [-27.283518, -50.58083], [-27.286098, -50.577114], [-27.293503, -50.57621], [-27.299372, -50.56801], [-21.16128, -47.743546], [-21.200815, -47.776234], [-21.201647, -47.77254], [-23.475376, -46.530457], [-23.474085, -46.52744], [-23.490952, -47.410366], [-23.502274, -47.416775], [-23.491453, -47.408024], [-23.490269, -47.419346], [-23.494873, -47.420406], [-23.595175, -46.59972], [-23.641806, -46.563313], [-23.636671, -46.563984], [-23.639238, -46.5624], [-23.637323, -46.561405], [-12.255314, -38.96616], [-12.254299, -38.969723], [-12.259041, -38.972115], [-12.259041, -38.972115], [-27.603176, -48.505955], [-27.600502, -48.509335], [-23.484222, -46.8603], [-23.484783, -46.86531], [-25.541843, -49.195583], [-25.539139, -49.1976], [-25.542828, -49.198635], [-25.535858, -49.20524], [-25.54254, -49.19598], [-25.535315, -49.19774], [-23.50252, -46.576557], [-21.133493, -47.794186], [-21.131552, -47.796364], [-21.148064, -47.786533], [-22.681452, -50.431374], [-22.668877, -50.427975], [-22.67088, -50.434864], [-22.663647, -50.42522], [-22.67751, -50.429882], [-29.690527, -51.141323], [-19.596395, -46.932278], [-19.610535, -46.940876], [-19.597347, -46.940655], [-19.593, -46.935238], [-19.592945, -46.935005], [-19.58838, -46.943985], [-19.588867, -46.93973], [-19.601755, -46.93188], [-19.61812, -46.93221], [-19.61917, -46.933056], [-19.593342, -46.932762], [-27.057344, -48.608345], [-27.095768, -48.61669], [-27.134392, -48.59778], [-27.139902, -48.598335], [-27.126804, -48.606575], [-27.102098, -48.629612], [-27.102098, -48.629612], [-27.102098, -48.629612], [-27.102098, -48.629612], [-27.08193, -48.61779], [-27.119959, -48.619476], [-27.09161, -48.615368], [-27.084677, -48.609955], [-27.095526, -48.620396], [-27.102098, -48.629612], [-22.864697, -43.29806], [-22.864527, -43.29549], [-22.866962, -43.287704], [-22.862387, -43.28944], [-22.866152, -43.28724], [-23.304108, -51.14841], [-23.304808, -51.15892], [-23.298811, -51.152443], [-21.207296, -47.78101], [-21.207481, -47.778084], [-21.20043, -47.768726], [-21.959858, -44.890553], [-21.959965, -44.892082], [-21.969921, -44.89551], [-21.961527, -44.887962], [-22.908228, -43.27383], [-22.911238, -43.271317], [-22.908796, -43.27311], [-22.91069, -43.281933], [-21.171478, -47.803074], [-21.15552, -47.795574], [-21.164352, -47.8006], [-19.879154, -43.934734], [-19.886374, -43.930576], [-19.881031, -43.928345], [-19.877449, -43.931], [-19.877544, -43.93416], [-19.881706, -43.92893], [-19.877737, -43.932465], [-19.876534, -43.931133], [-19.871344, -43.929367], [-19.879423, -43.928707], [-19.883074, -43.92882], [-20.666574, -43.784447], [-22.893173, -43.232735], [-22.896502, -43.23013], [-22.893173, -43.232735], [-22.892982, -43.235477], [-22.892525, -43.230824], [-22.899294, -43.23236], [-22.896683, -43.22919], [-15.763666, -47.890312], [-23.482906, -46.73628], [-23.484116, -46.735184], [-23.482738, -46.73512], [-23.484755, -46.735027], [-23.735737, -46.59067], [-23.698923, -46.5868], [-23.722836, -46.58098], [-23.735056, -46.58473], [-23.728708, -46.571354], [-23.744972, -46.608112], [-23.726585, -46.57164], [-23.731916, -46.576435], [-23.729832, -46.569042], [-23.723763, -46.58093], [-23.56881, -46.80166], [-23.567448, -46.801018], [-23.564379, -46.798428], [-23.568642, -46.80401], [-23.673561, -46.505604], [-23.687506, -46.49915], [-23.687002, -46.495888], [-23.674265, -46.50328], [-23.663908, -46.68716], [-23.562357, -46.58206], [-23.56642, -46.58123], [-19.937319, -43.97317], [-19.937374, -43.973164], [-19.943481, -43.9768], [-19.935513, -43.979782], [-19.929, -43.980186], [-19.934315, -43.980568], [-19.93105, -43.97955], [-19.932592, -43.971798], [-19.937609, -43.979313], [-19.928524, -43.97628], [-19.948626, -43.97289], [-19.931105, -43.979546], [-19.940327, -43.975906], [-19.934853, -43.97921], [-19.932512, -43.973434], [-19.942234, -43.972878], [-19.93611, -43.971195], [-19.93403, -43.977993], [-19.942526, -43.97551], [-19.942526, -43.97551], [-19.873486, -44.017006], [-23.019802, -43.485184], [-23.012188, -43.447838], [-23.005785, -43.479362], [-23.020481, -43.49989], [-23.020718, -43.496304], [-23.012892, -43.436714], [-23.00175, -43.43807], [-23.015862, -43.459206], [-23.006, -43.4818], [-23.01374, -43.44729], [-23.010374, -43.461384], [-23.003096, -43.48363], [-23.010374, -43.461384], [-27.470734, -48.468517], [-23.17805, -47.319576], [-23.182117, -47.30571], [-16.736383, -49.303898], [-16.731016, -49.301186], [-23.63918, -46.543114], [-23.65162, -46.53829], [-23.631691, -46.549683], [-23.627771, -46.547634], [-23.637466, -46.544178], [-23.637486, -46.544197], [-23.647038, -46.534428], [-23.642685, -46.54364], [-23.647951, -46.5379], [-23.65252, -46.537666], [-23.65223, -46.538574], [-23.614582, -46.528458], [-23.624111, -46.534573], [-23.614582, -46.528458], [-23.615776, -46.528923], [-23.614582, -46.528458], [-23.616058, -46.52236], [-23.616753, -46.529263], [-23.627544, -46.528854], [-23.616468, -46.52529], [-23.62035, -46.52638], [-23.627214, -46.516853], [-23.6309, -46.514275], [-22.334993, -49.043762], [-22.34595, -49.0341], [-22.341019, -49.04583], [-22.333897, -49.044334], [-22.3283, -49.047318], [-22.346254, -49.033024], [-23.220982, -46.864326], [-23.21762, -46.858635], [-25.446161, -49.254353], [-25.450323, -49.255993], [-25.445818, -49.25902], [-22.804688, -43.420673], [-22.80518, -43.42279], [-22.80478, -43.42753], [-22.806852, -43.42228], [-22.80461, -43.418274], [-22.804533, -43.423244], [-22.805475, -43.427505], [-22.804296, -43.42027], [-9.94984, -67.88472], [-9.969921, -67.81911], [-9.951, -67.82438], [-23.686924, -46.703613], [-23.68212, -46.705612], [-23.648504, -46.66926], [-23.648151, -46.66451], [-23.647898, -46.6634], [-23.647024, -46.668545], [-23.64752, -46.667587], [-23.646687, -46.667355], [-23.64656, -46.6675], [-30.10664, -51.22645], [-30.108232, -51.222042], [-30.108608, -51.222103], [-30.097502, -51.230785], [-30.103632, -51.223045], [-30.097498, -51.23079], [-30.108477, -51.216675], [-23.026217, -45.561413], [-23.029045, -45.562756], [-23.024683, -45.556034], [-23.617943, -46.52992], [-23.619328, -46.532578], [-23.623747, -46.529846], [-23.615187, -46.522305], [-23.635204, -46.514156], [-23.619864, -46.5358], [-23.6194, -46.53265], [-23.688229, -46.70333], [-23.021347, -43.497112], [-23.014746, -43.450653], [-23.017853, -43.450703], [-23.022017, -43.487274], [-23.014051, -43.448593], [-23.02014, -43.477707], [-23.013195, -43.458534], [-23.01608, -43.464153], [-22.9933, -43.447353], [-23.013865, -43.4653], [-23.019676, -43.510986], [-23.02256, -43.476425], [-23.019993, -43.452816], [-23.020721, -43.496857], [-23.013865, -43.4653], [-23.00594, -43.48181], [-23.013865, -43.4653], [-23.00594, -43.48181], [-23.509684, -46.758236], [-23.318106, -51.384113], [-23.497526, -47.46246], [-23.500418, -47.46867], [-23.50348, -47.463467], [-23.498716, -47.465485], [-23.49706, -47.461823], [-23.464031, -46.329247], [-23.464294, -46.32875], [-23.403679, -46.466843], [-25.327036, -49.15557], [-22.125479, -51.386135], [-22.121681, -51.387753], [-23.123043, -46.53341], [-23.122175, -46.53384], [-23.122278, -46.537796], [-23.12084, -46.549286], [-19.91938, -43.94292], [-19.91948, -43.94329], [-19.920084, -43.94348], [-19.918509, -43.94638], [-19.919294, -43.937717], [-23.006723, -43.438168], [-23.019676, -43.510986], [-23.023232, -43.489063], [-23.013887, -43.45296], [-23.013437, -43.4645], [-23.010923, -43.448647], [-23.013329, -43.449398], [-23.013268, -43.4523], [-23.020527, -43.478367], [-23.02072, -43.496597], [-23.010883, -43.4646], [-23.01606, -43.459957], [-23.019802, -43.485184], [-23.01577, -43.458836], [-22.9933, -43.447353], [-23.013865, -43.4653], [-23.007473, -43.441067], [-23.009535, -43.43604], [-23.016539, -43.476692], [-22.182297, -49.953945], [-22.16733, -49.958366], [-22.173273, -49.956085], [-22.17121, -49.959927], [-22.182886, -49.951252], [-22.181086, -49.962494], [-22.17317, -49.955364], [-23.48589, -46.732246], [-23.487108, -46.732136], [-19.91938, -43.94292], [-19.916094, -43.940094], [-19.916328, -43.939167], [-25.49973, -49.231598], [-25.493977, -49.241055], [-25.50053, -49.231213], [-25.501448, -49.233578], [-23.545334, -46.575325], [-23.545742, -46.592648], [-16.4936, -39.071995], [-16.489117, -39.082077], [-16.48308, -39.12284], [-16.480062, -39.0674], [-23.963713, -46.34558], [-23.96032, -46.340546], [-23.956413, -46.33647], [-23.954851, -46.336243], [-23.957424, -46.33439], [-23.956629, -46.341213], [-23.94792, -46.34136], [-23.959524, -46.34473], [-23.949942, -46.341038], [-23.957443, -46.33422], [-23.95982, -46.343273], [-23.686224, -46.677155], [-22.579195, -44.965122], [-22.571281, -44.963078], [-22.581476, -44.965378], [-22.575796, -44.9589], [-22.573755, -44.961216], [-22.580359, -44.962788], [-22.578554, -44.9641], [-23.616423, -46.532], [-23.633852, -46.51368], [-23.621008, -46.52512], [-23.620743, -46.52013], [-23.622717, -46.52867], [-23.618206, -46.52775], [-23.596605, -46.534798], [-23.583693, -46.547512], [-23.590649, -46.541718], [-23.581013, -46.557144], [-23.495785, -46.62211], [-23.495785, -46.62211], [-23.725426, -46.57714], [-23.721285, -46.587055], [-23.732397, -46.575947], [-23.729052, -46.57048], [-23.722355, -46.580536], [-29.332352, -49.724342], [-29.328823, -49.72124], [-29.338379, -49.729958], [-29.333178, -49.724033], [-29.339083, -49.726948], [-29.305565, -49.778866], [-29.332092, -49.759052], [-29.324112, -49.755856], [-29.340107, -49.724052], [-29.3379, -49.73969], [-29.433668, -49.80893], [-29.338282, -49.73615], [-11.835954, -55.510098], [-11.831279, -55.505936], [-11.8393755, -55.510826], [-11.841532, -55.505825], [-23.026255, -45.56466], [-23.02117, -45.554142], [-23.02112, -45.554146], [-23.02655, -45.56218], [-23.02549, -45.56034], [-23.022528, -45.558395], [-23.671604, -46.466366], [-23.703388, -46.474724], [-23.681816, -46.46073], [-23.671158, -46.460976], [-23.675009, -46.46667], [-23.680151, -46.458744], [-23.680368, -46.459446], [-23.659845, -46.52409], [-23.657347, -46.52655], [-23.630184, -46.472805], [-23.62496, -46.479378], [-23.63696, -46.47031], [-23.630846, -46.470078], [-23.62336, -46.47211], [-23.670357, -46.460598], [-23.674969, -46.462612], [-23.678545, -46.461124], [-23.67795, -46.462894], [-23.674751, -46.462418], [-23.699663, -46.48394], [-23.674732, -46.4659], [-19.938026, -43.930607], [-19.931467, -43.930576], [-19.935051, -43.932003], [-19.925035, -43.946682], [-19.928885, -43.941856], [-19.936058, -43.93694], [-19.936628, -43.9393], [-19.930765, -43.933903], [-19.930801, -43.928448], [-19.929031, -43.94626], [-19.926208, -43.952507], [-19.92932, -43.93968], [-19.925869, -43.953697], [-19.926687, -43.939594], [-19.932898, -43.92524], [-19.931313, -43.93125], [-19.933538, -43.93322], [-19.935574, -43.929905], [-19.929031, -43.94626], [-19.925898, -43.92171], [-19.93491, -43.927296], [-19.934687, -43.93367], [-19.927511, -43.94148], [-19.927427, -43.952858], [-19.927149, -43.953846], [-19.937138, -43.92928], [-19.923706, -43.952248], [-19.928072, -43.939507], [-19.931646, -43.924736], [-23.617521, -46.528095], [-23.621742, -46.52721], [-23.622166, -46.53263], [-23.635204, -46.514156], [-23.623806, -46.521053], [-23.614582, -46.528458], [-23.616753, -46.529263], [-23.617403, -46.53241], [-23.618994, -46.532864], [-23.628836, -46.529964], [-23.532928, -47.15278], [-22.99949, -43.3607], [-23.0005, -43.330868], [-23.004581, -43.3199], [-23.004581, -43.3199], [-23.000275, -43.33384], [-23.00658, -43.30905], [-22.999968, -43.33986], [-23.0005, -43.330868], [-20.748259, -42.86868], [-20.672188, -43.083607], [-20.672106, -43.08272], [-23.693392, -46.555374], [-23.686403, -46.55649], [-23.688917, -46.55255], [-23.686434, -46.553722], [-23.688976, -46.556026], [-23.683035, -46.555157], [-23.688845, -46.555138], [-23.691742, -46.54995], [-23.68224, -46.55521], [-23.685577, -46.5506], [-23.685577, -46.5506], [-23.685577, -46.5506], [-23.686434, -46.553722], [-23.29998, -46.71319], [-22.801622, -47.215076], [-22.796728, -47.2201], [-22.805525, -47.200108], [-22.806381, -47.19066], [-22.80479, -47.216484], [-22.800083, -47.219276], [-19.936913, -44.116207], [-19.94394, -44.11742], [-25.441605, -49.259075], [-25.44636, -49.256615], [-25.457329, -49.254665], [-25.455837, -49.253582], [-25.44385, -49.255207], [-27.545956, -48.501213], [-27.551561, -48.493553], [-27.589321, -48.52024], [-27.594599, -48.52122], [-27.592125, -48.517975], [-27.590385, -48.519604], [-27.587011, -48.52437], [-23.645304, -46.66441], [-23.657415, -46.653778], [-25.44145, -49.17375], [-25.452103, -49.17228], [-25.453127, -49.17395], [-25.440155, -49.17261], [-25.445591, -49.173225], [-19.949963, -43.968075], [-19.932512, -43.973434], [-19.944147, -43.972057], [-19.940327, -43.975906], [-19.937319, -43.97317], [-19.946861, -43.97101], [-19.931198, -43.975613], [-19.943256, -43.976982], [-19.93611, -43.971195], [-19.936949, -43.976803], [-19.932817, -43.98064], [-19.937374, -43.973164], [-19.947548, -43.973537], [-22.806702, -43.20886], [-22.806438, -43.209106], [-22.813934, -43.230846], [-22.811367, -43.213142], [-22.807634, -43.21192], [-22.958014, -43.689465], [-22.81826, -43.22511], [-22.814922, -43.211742], [-22.812052, -43.21194], [-22.839724, -43.228683], [-22.854994, -47.0505], [-22.853497, -47.04401], [-22.854616, -47.045753], [-22.857601, -47.054207], [-22.852758, -47.055103], [-23.01612, -43.496365], [-23.02072, -43.496597], [-22.9933, -43.447353], [-23.006, -43.4818], [-23.022642, -43.486458], [-23.013866, -43.46531], [-23.018589, -43.47343], [-23.008991, -43.43495], [-23.008991, -43.43495], [-23.012962, -43.437313], [-23.019993, -43.452816], [-23.013865, -43.4653], [-23.020716, -43.496094], [-23.006, -43.4818], [-23.008991, -43.43495], [-23.003096, -43.48363], [-23.017735, -43.453987], [-23.030012, -43.493294], [-23.02211, -43.48728], [-23.013103, -43.45856], [-23.023195, -43.51404], [-27.102392, -52.641552], [-27.09271, -52.624718], [-27.10345, -52.64569], [-27.105095, -52.647766], [-27.09103, -52.621727], [-23.478697, -46.72391], [-23.223675, -46.879387], [-23.212572, -46.89173], [-23.48467, -46.41404], [-23.488586, -46.41537], [-23.487324, -46.414234], [-23.48543, -46.412113], [-23.488993, -46.406742], [-23.490269, -46.40859], [-23.492529, -46.41422], [-23.480219, -46.406807], [-23.490486, -46.410545], [-23.489864, -46.41117], [-22.388119, -46.93301], [-16.717026, -49.26694], [-16.708101, -49.273285], [-16.719482, -49.266808], [-16.71721, -49.265682], [-16.717426, -49.265263], [-16.719315, -49.266815], [-16.715746, -49.266983], [-23.000147, -45.542274], [-23.008091, -45.55596], [-23.001806, -45.549786], [-22.203308, -49.953415], [-22.195492, -49.954792], [-22.194485, -49.957325], [-23.552053, -46.823086], [-23.55998, -46.830578], [-23.560064, -46.83065], [-23.55998, -46.830578], [-23.544569, -46.822422], [-23.560064, -46.83065], [-23.560064, -46.83065], [-23.559711, -46.830353], [-23.559711, -46.830353], [-21.147661, -48.972855], [-21.166609, -48.967922], [-21.15425, -48.97535], [-21.147923, -48.97234], [-23.516544, -46.61056], [-23.517998, -46.612614], [-23.185005, -46.986427], [-23.185926, -46.960102], [-23.150991, -46.96411], [-23.185017, -46.973907], [-23.189732, -46.960434], [-23.179594, -46.97871], [-23.150848, -47.011776], [-23.630987, -46.695328], [-23.952604, -46.33935], [-23.959772, -46.341602], [-23.962498, -46.345432], [-23.950327, -46.337093], [-23.955347, -46.33375], [-23.954092, -46.3423], [-23.960266, -46.3392], [-23.958168, -46.338856], [-23.954082, -46.33399], [-23.957436, -46.340153], [-23.950676, -46.333294], [-23.94792, -46.34136], [-26.08103, -53.062702], [-26.080702, -53.05023], [-26.09922, -53.04927], [-26.067688, -53.044765], [-26.080753, -53.056797], [-26.070002, -53.04703], [-26.07528, -53.058327], [-26.100216, -53.050396], [-26.079578, -53.048565], [-26.081306, -53.056137], [-29.375992, -51.110695], [-29.362562, -51.10972], [-29.377153, -51.114956], [-29.364887, -51.100758], [-26.082033, -53.05188], [-26.089441, -53.044674], [-26.083168, -53.045742], [-26.09283, -53.04947], [-26.08195, -53.04406], [-26.080217, -53.063717], [-26.088036, -53.04336], [-26.06808, -53.045166], [-26.077805, -53.052536], [-29.678167, -51.166798], [-29.677898, -51.16578], [-15.86022, -48.082973], [-15.861897, -48.085915], [-22.071173, -48.73438], [-23.580847, -46.63764], [-19.938065, -43.967773], [-19.941067, -43.962017], [-19.942057, -43.96928], [-19.935358, -43.967865], [-19.93165, -43.962658], [-19.938646, -43.966827], [-19.935215, -43.96437], [-19.940407, -43.967995], [-26.940788, -49.148167], [-23.324501, -52.113842], [-23.34993, -52.096622], [-16.689177, -49.299274], [-16.694828, -49.293312], [-28.830803, -52.4995], [-28.829082, -52.513016], [-28.830412, -52.509895], [-28.829643, -52.506527], [-28.81843, -52.506287], [-28.831055, -52.513374], [-22.751644, -43.30895], [-22.758875, -43.31817], [-22.753054, -43.308468], [-22.753544, -43.309177], [-25.445951, -49.253918], [-25.442774, -49.25373], [-23.474161, -46.625164], [-20.775066, -49.348278], [-3.765414, -38.659367], [-23.006166, -43.314438], [-23.005266, -43.314674], [-22.99999, -43.33994], [-22.996689, -43.348305], [-23.000061, -43.3378], [-22.999548, -43.355797], [-22.999632, -43.355354], [-23.004581, -43.3199], [-23.004581, -43.3199], [-22.99979, -43.347523], [-22.996689, -43.348305], [-22.999548, -43.355797], [-23.004581, -43.3199], [-23.206375, -45.898106], [-23.193886, -45.893173], [-23.202723, -45.895107], [-23.202282, -45.894737], [-23.206606, -45.900322], [-23.206606, -45.900322], [-23.195642, -45.895226], [-23.208584, -45.902645], [-29.763212, -51.139202], [-29.773859, -51.124184], [-29.769123, -51.129017], [-22.33844, -49.041748], [-22.328634, -49.046688], [-22.333273, -49.04714], [-22.328783, -49.047337], [-22.340742, -49.045876], [-22.34454, -49.04246], [-23.609299, -46.634495], [-22.075459, -48.734417], [-22.080793, -48.752144], [-22.071747, -48.742985], [-22.083763, -48.75073], [-22.084368, -48.73497], [-23.017258, -43.471104], [-23.009415, -43.46917], [-23.013597, -43.453148], [-23.009499, -43.440514], [-23.020716, -43.495922], [-23.013577, -43.478607], [-23.009693, -43.4535], [-23.020716, -43.496094], [-23.020716, -43.495922], [-23.009693, -43.4535], [-23.016733, -43.452976], [-23.000479, -43.438946], [-23.009535, -43.43604], [-23.01586, -43.449623], [-23.023195, -43.51404], [-23.01079, -43.442394], [-19.755527, -47.93988], [-19.759129, -47.939262], [-19.768665, -47.944332], [-19.760105, -47.941986], [-25.485888, -49.23554], [-25.492674, -49.233547], [-25.488947, -49.24245], [-25.489542, -49.233665], [-22.811386, -43.18025], [-22.81335, -43.181435], [-22.81335, -43.181435], [-22.813566, -43.18819], [-22.804468, -43.195446], [-22.807886, -43.183254], [-22.805803, -43.187992], [-22.809063, -43.18189], [-27.561714, -48.628876], [-27.557106, -48.626656], [-27.55106, -48.626625], [-27.558372, -48.624073], [-23.484898, -46.41292], [-23.485697, -46.411934], [-23.489187, -46.413334], [-23.48543, -46.412113], [-23.488993, -46.406742], [-23.488993, -46.406742], [-23.485472, -46.41038], [-25.443245, -49.181705], [-25.443182, -49.18174], [-25.450861, -49.17963], [-25.452103, -49.17228], [-25.447113, -49.167942], [-25.440142, -49.176952], [-29.928099, -51.72217], [-29.88387, -51.57417], [-23.587597, -46.581814], [-23.585783, -46.582893], [-23.587051, -46.580322], [-23.708303, -46.59381], [-23.699198, -46.591373], [-23.71654, -46.60164], [-23.699839, -46.608116], [-23.697607, -46.589565], [-23.680115, -46.692814], [-23.670301, -46.701317], [-23.664846, -46.707493], [-23.668972, -46.70251], [-23.672329, -46.699543], [-23.643055, -46.53683], [-23.644003, -46.540253], [-23.649881, -46.532707], [-23.629906, -46.547466], [-23.642685, -46.54364], [-23.63248, -46.547188], [-23.63918, -46.543114], [-23.650368, -46.536343], [-23.649881, -46.532707], [-23.64589, -46.539135], [-23.65252, -46.537666], [-23.63192, -46.543743], [-23.642881, -46.540936], [-23.643673, -46.54183], [-23.643055, -46.53683], [-23.70399, -46.515316], [-23.701958, -46.514294], [-23.621805, -46.67474], [-23.619665, -46.672783], [-23.449774, -46.544037], [-23.444899, -46.540863], [-23.44635, -46.543655], [-23.444899, -46.540863], [-23.441965, -46.541485], [-23.659845, -46.52409], [-20.334227, -40.290703], [-20.335875, -40.29245], [-20.336033, -40.29635], [-19.919437, -44.02202], [-19.840183, -43.9211], [-23.557682, -46.52876], [-23.559639, -46.530052], [-23.55922, -46.529236], [-19.759155, -47.94028], [-27.122322, -52.601425], [-27.120693, -52.60781], [-27.118984, -52.603764], [-27.11596, -52.598484], [-23.189732, -46.960434], [-23.172556, -46.968166], [-23.180984, -46.98351], [-23.185926, -46.960102], [-23.183558, -46.959362], [-23.145563, -46.992973], [-23.191065, -46.963177], [-23.144783, -47.00757], [-23.189732, -46.960434], [-23.185017, -46.973907], [-22.907736, -43.175335], [-22.910488, -43.176758], [-22.908905, -43.17827], [-22.911816, -43.17412], [-22.908905, -43.17827], [-22.911028, -43.176373], [-22.908583, -43.1775], [-22.911997, -43.178703], [-22.911028, -43.176373], [-23.581547, -46.763245], [-23.583084, -46.762028], [-23.581106, -46.76502], [-23.581295, -46.764175], [-27.59033, -48.574333], [-27.588884, -48.577602], [-27.591366, -48.572834], [-27.581013, -48.58317], [-22.986744, -43.19945], [-22.98516, -43.20867], [-22.985683, -43.199093], [-22.986162, -43.209908], [-22.986464, -43.204884], [-22.984072, -43.19686], [-22.984978, -43.211914], [-20.691864, -50.05014], [-23.54953, -46.56957], [-26.919445, -48.65092], [-26.916616, -48.654186], [-26.924, -48.64982], [-26.916616, -48.654186], [-26.920664, -48.650738], [-26.908836, -48.65583], [-26.911182, -48.65644], [-22.940609, -43.038803], [-22.828314, -43.023033], [-22.823414, -43.007847], [-22.833649, -43.014297], [-22.837788, -43.012104], [-22.837397, -43.01187], [-22.831217, -43.022953], [-26.990864, -51.171455], [-27.002836, -51.15582], [-27.013527, -51.13881], [-27.010527, -51.15151], [-27.011389, -51.140762], [-27.004274, -51.15691], [-27.008722, -51.143894], [-26.9839, -51.180542], [-27.023037, -51.150875], [-27.01061, -51.151928], [-23.566326, -46.40674], [-22.74611, -47.29961], [-22.752817, -47.31654], [-22.753712, -47.315926], [-22.747091, -47.299885], [-22.75028, -47.286484], [-22.750086, -47.317455], [-23.057491, -51.040627], [-23.057497, -51.030445], [-23.445137, -46.712597], [-23.562937, -46.67422], [-24.716248, -53.76645], [-23.552486, -46.413456], [-25.774946, -49.325672], [-23.402264, -46.486584], [-23.403643, -46.482903], [-21.168238, -43.029243], [-21.185617, -43.02682], [-21.263878, -48.49043], [-21.263672, -48.502735], [-21.2616, -48.491882], [-21.25331, -48.48312], [-21.264395, -48.498943], [-21.26227, -48.494392], [-21.275625, -48.47703], [-21.266676, -48.50822], [-21.263708, -48.484543], [-21.26659, -48.507748], [-21.262766, -48.493126], [-22.880533, -47.067513], [-22.88986, -47.071526], [-22.874723, -47.067966], [-22.823414, -43.007847], [-22.828314, -43.023033], [-22.835697, -43.019665], [-22.823414, -43.007847], [-22.83132, -43.010773], [-22.82453, -43.011795], [-23.591545, -46.7721], [-19.80976, -43.985565], [-25.104298, -50.15238], [-25.109127, -50.158863], [-25.514996, -49.125008], [-23.513914, -46.59192], [-23.421288, -51.43564], [-23.620277, -46.66351], [-12.999812, -38.52967], [-13.000359, -38.529408], [-13.003843, -38.528397], [-13.004928, -38.528976], [-22.612526, -46.6997], [-22.614267, -46.69769], [-22.60962, -46.704258], [-22.61092, -46.701588], [-22.624693, -46.699993], [-22.597315, -46.715725], [-22.638641, -46.731606], [-22.613941, -46.699352], [-22.609715, -46.701675], [-19.947645, -44.173527], [-19.94973, -44.17667], [-19.92959, -44.163834], [-19.813269, -43.962543], [-19.8168, -43.962933], [-19.815144, -43.963943], [-19.81473, -43.966995], [-23.5517, -46.26098], [-23.484108, -46.6987], [-21.014702, -48.22291], [-21.016136, -48.214584], [-21.011568, -48.22416], [-21.016403, -48.223454], [-21.004423, -48.210243], [-21.014189, -48.221523], [-22.623789, -46.701527], [-22.61177, -46.699184], [-22.61092, -46.701588], [-22.612337, -46.701317], [-22.606096, -46.7033], [-22.602179, -46.700493], [-22.40218, -41.82079], [-22.358917, -41.774822], [-22.39722, -41.819912], [-22.401287, -41.808624], [-22.405973, -41.811695], [-29.453304, -51.974728], [-29.45472, -51.975784], [-29.465446, -51.967438], [-29.450441, -51.97503], [-29.458502, -51.96569], [-29.456518, -51.980976], [-29.451607, -51.979244], [-29.454819, -51.97145], [-29.463743, -51.96476], [-29.441015, -52.024918], [-23.432678, -46.43757], [-23.426222, -46.409454], [-23.432455, -46.433674], [-23.435179, -46.448723], [-23.53295, -46.73139], [-23.53295, -46.73139], [-23.538832, -46.472164], [-23.53586, -46.456074], [-23.541002, -46.477585], [-23.539919, -46.479317], [-23.541002, -46.477585], [-23.612963, -46.69003], [-23.61425, -46.688442], [-20.255753, -47.47824], [-20.240257, -47.47488], [-22.608576, -46.701305], [-22.597189, -46.705513], [-22.595623, -46.714176], [-22.62181, -46.722336], [-22.595623, -46.714176], [-23.645689, -46.553177], [-23.643885, -46.55174], [-23.647406, -46.55265], [-23.641174, -46.550625], [-23.643885, -46.55174], [-23.641302, -46.55133], [-23.64925, -46.555428], [-23.64447, -46.549232], [-23.515568, -46.770775], [-23.519249, -46.772285], [-23.555065, -46.41003], [-22.240204, -42.550323], [-22.252659, -42.54456], [-21.409, -50.08318], [-21.422876, -50.074234], [-21.420753, -50.079712], [-21.418808, -50.075275], [-21.418348, -50.09023], [-21.439692, -50.078053], [-21.412016, -50.075603], [-21.41694, -50.084846], [-21.417555, -50.082886], [-21.429249, -50.07899], [-23.570183, -46.712063], [-22.907736, -43.175335], [-22.90767, -43.175804], [-22.90767, -43.175804], [-22.907927, -43.175915], [-22.908504, -43.17758], [-22.908031, -43.175533], [-22.334541, -47.172928], [-22.347643, -47.168304], [-22.338617, -47.169235], [-22.34493, -47.16727], [-22.34367, -47.175297], [-22.379362, -47.166332], [-22.33953, -47.175194], [-22.345089, -47.176826], [-23.605543, -46.603596], [-23.525696, -47.492817], [-23.525805, -47.49277], [-23.536728, -47.487934], [-23.525805, -47.49277], [-23.548271, -47.47374], [-23.548271, -47.47374], [-26.912794, -48.65608], [-26.91359, -48.670746], [-26.908836, -48.65583], [-26.921162, -48.652405], [-26.91287, -48.660446], [-20.848547, -41.112434], [-20.845263, -41.127304], [-23.482397, -46.42981], [-6.492215, -37.448254], [-6.4979258, -37.44679], [-26.499573, -49.08086], [-26.497118, -49.08585], [-26.497568, -49.0876], [-20.58008, -48.56719], [-20.568243, -48.553635], [-20.583557, -48.5684], [-20.576345, -48.567917], [-29.460098, -51.9734], [-29.45983, -51.964783], [-29.448507, -51.982956], [-29.459286, -51.966385], [-29.458597, -51.9731], [-29.45697, -51.968502], [-29.463675, -51.962643], [-29.44265, -51.97634], [-29.465658, -51.966064], [-29.463623, -51.968292], [-29.464773, -51.980385], [-29.464315, -51.96335], [-29.462994, -51.97024], [-29.459438, -51.96767], [-29.4691, -51.965893], [-29.458588, -51.97006], [-29.464457, -51.967213], [-29.453949, -51.986843], [-21.23032, -43.768272], [-21.220419, -43.76935], [-21.220356, -43.773365], [-21.229252, -43.77161], [-21.22428, -43.77209], [-21.224623, -43.77251], [-21.232403, -43.769527], [-21.232227, -43.774895], [-21.220486, -43.77483], [-21.21705, -43.771103], [-21.21877, -43.772713], [-21.23102, -43.77687], [-21.240652, -43.7695], [-21.221964, -43.772816], [-21.221838, -43.77281], [-21.227835, -43.773533], [-26.909346, -48.654808], [-26.908375, -48.655098], [-26.904743, -48.65701], [-26.90874, -48.655853], [-26.912422, -48.661797], [-26.909195, -48.659477], [-23.538696, -46.2616], [-23.543812, -46.25955], [-23.491772, -46.684566], [-16.659647, -49.245136], [-23.584764, -46.675137], [-23.585815, -46.67924], [-23.585781, -46.678886], [-23.583567, -46.67105], [-25.424868, -49.28723], [-25.424974, -49.28497], [-25.429888, -49.28867], [-23.546255, -47.191944], [-23.530346, -47.173157], [-23.542658, -47.18548], [-23.528643, -47.166893], [-23.548384, -47.18483], [-23.542166, -47.19405], [-23.554186, -47.211403], [-23.638079, -46.543213], [-23.641272, -46.548347], [-23.630205, -46.548], [-23.636738, -46.55035], [-23.642738, -46.543743], [-23.639656, -46.54917], [-23.643885, -46.55174], [-23.642942, -46.544064], [-23.639034, -46.55078], [-23.603558, -46.62635], [-23.612562, -46.63178], [-23.61166, -46.63316], [-23.61237, -46.618755], [-23.612291, -46.631897], [-23.61265, -46.63115], [-23.612192, -46.629147], [-23.61142, -46.63147], [-23.609327, -46.75773], [-23.611046, -46.763123], [-23.611317, -46.760937], [-23.612078, -46.75988], [-23.613453, -46.762287], [-23.610744, -46.632504], [-23.61142, -46.63147], [-23.611654, -46.632587], [-23.611885, -46.634468], [-23.611431, -46.630043], [-27.783657, -52.80783], [-22.74987, -47.302887], [-22.752817, -47.31654], [-22.737772, -47.31907], [-23.550285, -46.779064], [-23.554585, -46.781395], [-22.262247, -42.532635], [-22.242348, -42.537605], [-22.262247, -42.532635], [-25.43713, -49.191532], [-23.484386, -46.64701], [-10.318272, -36.579025], [-10.321119, -36.578358], [-23.551332, -46.82907], [-23.750145, -53.305946], [-23.752018, -53.29124], [-23.750423, -53.28332], [-22.336948, -47.157906], [-22.34003, -47.174767], [-22.336515, -47.168636], [-22.328976, -47.17363], [-23.515982, -47.44133], [-23.524292, -47.44688], [-23.51207, -47.440323], [-23.516186, -47.443527], [-23.512299, -47.43787], [-22.767181, -47.39478], [-22.767714, -47.39004], [-22.774906, -47.382103], [-25.379892, -49.238987], [-25.379807, -49.239754], [-25.377144, -49.228863], [-25.376919, -49.23375], [-23.60409, -46.613724], [-25.526379, -49.251225], [-25.530228, -49.23467], [-25.52377, -49.230667], [-12.15586, -39.74181], [-12.158563, -39.7367], [-12.157559, -39.736237], [-23.716211, -46.559093], [-23.717102, -46.554718], [-23.716078, -46.55268], [-23.523272, -46.459373], [-27.581495, -48.578743], [-27.58407, -48.581455], [-27.57842, -48.58497], [-27.578064, -48.58239], [-12.157434, -39.747265], [-12.158128, -39.745594], [-23.414042, -51.943058], [-23.40953, -51.941135], [-23.418308, -51.935158], [-23.418093, -51.93604], [-23.409914, -51.9417], [-23.411684, -51.945637], [-23.41589, -51.939175], [-23.412582, -51.941296], [-23.41493, -51.940487], [-23.592741, -46.61989], [-23.615166, -46.604908], [-23.612053, -46.607834], [-23.495377, -46.446278], [-23.495142, -46.442856], [-23.496403, -46.445107], [-22.500042, -48.712814], [-22.501513, -48.70733], [-22.507732, -48.707672], [-22.505592, -48.707752], [-22.523623, -48.722237], [-22.520802, -48.721523], [-22.518936, -48.71982], [-22.508236, -48.714905], [-27.005848, -51.14155], [-27.006529, -51.15223], [-26.989496, -51.172985], [-27.020983, -51.154243], [-26.995869, -51.17539], [-27.00603, -51.14896], [-27.017637, -51.145092], [-26.994005, -51.182705], [-27.012785, -51.15359], [-27.008017, -51.150776], [-26.991632, -51.188755], [-23.63577, -46.696423], [-23.633898, -46.69596], [-23.635273, -46.698227], [-19.992697, -44.420803], [-19.98894, -44.42267], [-19.983341, -44.443302], [-23.666607, -46.540527], [-23.665773, -46.541195], [-23.664621, -46.540115], [-23.666006, -46.539303], [-23.657566, -46.53652], [-23.669151, -46.540062], [-23.663992, -46.54318], [-23.210835, -46.765778], [-23.210846, -46.76584], [-22.587147, -46.527996], [-22.5975, -46.528713], [-22.581152, -46.523598], [-22.58896, -46.52921], [-22.587147, -46.527996], [-22.58965, -46.525764], [-22.57992, -46.541454], [-22.603098, -46.531296], [-29.968626, -50.133595], [-29.951283, -50.128918], [-29.958258, -50.13195], [-25.437721, -49.195496], [-25.434317, -49.197704], [-25.43863, -49.188908], [-25.433836, -49.196404], [-21.218632, -47.795883], [-21.210892, -47.791542], [-21.219412, -47.7931], [-21.214966, -47.79994], [-21.211792, -47.80458], [-19.900663, -43.913563], [-19.891382, -43.920574], [-19.899948, -43.919662], [-19.902342, -43.91789], [-19.897953, -43.92453], [-19.896288, -43.92632], [-19.899103, -43.923126], [-19.897997, -43.92182], [-19.901121, -43.915707], [-26.236267, -49.49675], [-26.255365, -49.540565], [-26.255827, -49.51769], [-15.887309, -48.014587], [-15.887778, -48.016457], [-23.496758, -46.447918], [-23.491812, -46.448997], [-23.610306, -46.783783], [-23.700716, -46.552437], [-23.714169, -46.5563], [-23.699524, -46.552746], [-23.717094, -46.553505], [-23.481918, -46.621223], [-23.482494, -46.621284], [-18.881971, -48.277607], [-18.894663, -48.300816], [-18.879734, -48.285435], [-18.898394, -48.282173], [-18.898787, -48.273144], [-18.87161, -48.28923], [-18.895088, -48.307648], [-18.88616, -48.29098], [-21.218386, -47.777416], [-21.208601, -47.794014], [-21.21169, -47.79958], [-21.219412, -47.7931], [-21.208769, -47.79404], [-21.219412, -47.7931], [-21.208107, -47.79486], [-21.214966, -47.79994], [-21.21823, -47.791824], [-21.212278, -47.78815], [-23.670347, -46.67929], [-20.552074, -44.85724], [-23.404942, -46.338303], [-23.40673, -46.3436], [-23.40265, -46.338936], [-23.406706, -46.34426], [-23.558655, -46.592278], [-25.286736, -54.095165], [-25.286625, -54.094734], [-25.303108, -54.098454], [-25.28144, -54.0943], [-25.301134, -54.091038], [-25.300335, -54.092052], [-25.27273, -54.080334], [-25.29008, -54.09814], [-23.656906, -52.592957], [-23.534775, -46.532875], [-23.537981, -46.52863], [-23.532711, -46.53297], [-23.536005, -46.53469], [-23.435266, -46.448338], [-23.43193, -46.447506], [-23.43529, -46.44415], [-23.425947, -46.429405], [-23.433052, -46.43425], [-23.431948, -46.448696], [-26.82724, -48.62823], [-23.651604, -46.53704], [-23.641272, -46.548347], [-23.640121, -46.546917], [-23.638079, -46.543213], [-23.646782, -46.548557], [-23.647371, -46.539516], [-23.642069, -46.550915], [-23.642857, -46.542137], [-23.642738, -46.543743], [-23.642893, -46.547855], [-23.648834, -46.548676], [-23.638304, -46.548885], [-23.642857, -46.542137], [-25.438393, -49.18776], [-25.441921, -49.198185], [-25.438393, -49.18776], [-25.44093, -49.191883], [-25.432333, -49.196163], [-26.914371, -48.65557], [-26.9045, -48.65715], [-26.904667, -48.655945], [-26.910345, -48.660145], [-26.912422, -48.661797], [-23.283472, -51.277466], [-23.278784, -51.28239], [-23.295609, -51.3189], [-23.27719, -51.276257], [-23.281292, -51.27786], [-23.281893, -51.282234], [-23.534266, -46.539062], [-23.539158, -46.538605], [-23.537605, -46.53841], [-23.537645, -46.56914], [-26.244617, -51.09167], [-26.224752, -51.09446], [-26.229883, -51.086327], [-26.200623, -51.082462], [-26.226652, -51.05294], [-27.083906, -48.906265], [-23.597628, -46.728577], [-23.497803, -47.540043], [-23.566854, -47.49412], [-23.535393, -47.501717], [-23.529285, -47.49843], [-22.73914, -47.319256], [-22.752394, -47.31775], [-22.753712, -47.315926], [-22.744587, -47.281208], [-22.735367, -47.312717], [-22.913858, -43.245358], [-22.91149, -43.247116], [-22.916365, -43.24841], [-22.913776, -43.244915], [-22.916767, -43.24567], [-22.913038, -43.244503], [-22.915516, -43.244606], [-22.911509, -43.242214], [-22.9157, -43.2446], [-22.915081, -43.242275], [-22.915827, -43.2464], [-22.915508, -43.243595], [-22.916399, -43.24384], [-22.912943, -43.24793], [-22.915213, -43.241863], [-22.915972, -43.24615], [-23.531654, -47.441216], [-23.538202, -47.431347], [-20.783098, -49.354294], [-20.782267, -49.361538], [-8.118558, -35.296772], [-8.122049, -35.29678], [-8.118826, -35.29705], [-23.655006, -46.677197], [-23.658295, -46.67618], [-23.660238, -46.678787], [-22.957653, -46.537243], [-23.605167, -46.616013], [-23.317554, -51.145096], [-23.31804, -51.143177], [-15.7952, -47.846806], [-15.8328495, -47.987244], [-15.851566, -47.963947], [-25.430607, -49.25631], [-25.430733, -49.255264], [-25.42721, -49.255684], [-23.563437, -46.663822], [-23.564112, -46.66453], [-21.803223, -50.87053], [-21.795708, -50.869473], [-21.792923, -50.88723], [-21.801065, -50.88666], [-21.80503, -50.86062], [-21.803856, -50.87386], [-21.79337, -50.871975], [-21.798288, -50.878674], [-21.801725, -50.882942], [-21.7987, -50.87351], [-21.79728, -50.896152], [-23.443829, -46.41779], [-23.437897, -46.420925], [-23.441021, -46.424885], [-23.438541, -46.419594], [-23.436295, -46.424984], [-23.435064, -46.422005], [-22.343409, -49.09609], [-23.474424, -46.671143], [-23.478956, -46.68271], [-23.467123, -46.554768], [-23.474833, -46.552563], [-23.639177, -46.799866], [-23.637066, -46.792183], [-23.637007, -46.796432], [-23.638363, -46.79737], [-23.634094, -46.791645], [-23.43151, -46.54991], [-23.429316, -46.55401], [-23.426481, -46.546204], [-23.42921, -46.550484], [-23.428194, -46.554436], [-23.43165, -46.551277], [-20.844246, -49.36493], [-20.845, -49.36414], [-23.506784, -46.78378], [-23.51415, -46.78962], [-23.509455, -46.782154], [-23.506891, -46.785866], [-23.509647, -46.78463], [-22.605276, -46.923393], [-22.605225, -46.91338], [-22.608747, -46.92371], [-22.608883, -46.925568], [-21.830328, -45.397255], [-21.831766, -45.40907], [-21.83399, -45.398106], [-21.835117, -45.40342], [-22.104973, -50.19584], [-22.108097, -50.164482], [-22.102776, -50.17979], [-22.10202, -50.17854], [-23.536823, -46.588192], [-23.536823, -46.588192], [-23.537182, -46.58803], [-22.147676, -43.286587], [-22.166002, -43.30096], [-22.162653, -43.290367], [-22.163446, -43.289932], [-22.212658, -43.316837], [-22.192858, -43.318035], [-22.251268, -43.19115], [-22.160265, -43.28794], [-22.168772, -43.302193], [-23.384743, -51.94865], [-23.390564, -51.96318], [-22.76233, -43.4542], [-22.76211, -43.45335], [-22.757355, -43.46112], [-22.75968, -43.45972], [-22.761232, -43.45473], [-22.754702, -43.46484], [-22.761232, -43.45473], [-22.761934, -43.457], [-22.761229, -43.45803], [-22.760529, -43.453823], [-22.762655, -43.451935], [-22.768425, -43.4354], [-22.762665, -43.44964], [-22.763035, -43.452564], [-23.6832, -46.443295], [-23.67976, -46.441498], [-23.682436, -46.445515], [-23.680994, -46.44786], [-23.680656, -46.45124], [-23.666538, -46.439888], [-23.686058, -46.44701], [-19.82574, -43.987896], [-19.831242, -43.974037], [-19.837633, -43.975742], [-23.678698, -46.436676], [-23.679377, -46.44578], [-23.666513, -46.43991], [-23.679873, -46.443897], [-23.680534, -46.451595], [-23.679873, -46.443897], [-22.717216, -47.662895], [-22.694254, -47.67082], [-22.706568, -47.672844], [-22.715574, -47.67335], [-22.70657, -47.658733], [-22.713179, -47.666847], [-20.536726, -47.398705], [-20.54482, -47.399895], [-20.537033, -47.396946], [-20.537327, -47.39583], [-20.537985, -47.392944], [-20.536354, -47.39799], [-20.54047, -47.400417], [-20.531708, -47.40044], [-21.794197, -50.88656], [-21.795654, -50.89648], [-21.789652, -50.892338], [-21.795439, -50.887604], [-21.789862, -50.881886], [-21.8026, -50.870216], [-23.70091, -46.585278], [-23.70512, -46.580406], [-23.554583, -46.212975], [-23.556177, -46.21481], [-23.561264, -46.216686], [-23.553238, -46.213863], [-23.56178, -46.212204], [-23.553137, -46.212986], [-23.559137, -46.21673], [-23.561405, -46.21399], [-20.869503, -49.348537], [-20.841103, -49.360622], [-20.840029, -49.35403], [-23.467705, -46.553528], [-23.475758, -46.553944], [-23.71682, -46.56885], [-23.71446, -46.5623], [-23.720625, -46.56124], [-23.721806, -46.564186], [-23.719011, -46.564674], [-23.721687, -46.558464], [-23.716478, -46.563114], [-23.72313, -46.55764], [-25.423464, -49.19331], [-25.43172, -49.18535], [-25.430693, -49.1857], [-23.425611, -46.49344], [-23.43703, -46.507565], [-22.565777, -47.917072], [-22.555521, -47.90653], [-22.55655, -47.903687], [-22.551725, -47.90757], [-22.547567, -47.89859], [-27.81754, -50.336872], [-27.816387, -50.339405], [-27.827501, -50.345573], [-23.559786, -46.752144], [-23.560656, -46.751106], [-23.5606, -46.750065], [-23.5606, -46.750065], [-22.345427, -47.3974], [-22.345118, -47.39619], [-22.72925, -47.307903], [-22.717304, -47.307835], [-22.710726, -47.29865], [-20.545921, -47.406563], [-20.536612, -47.403877], [-20.531572, -47.399704], [-22.955902, -43.02726], [-22.968348, -43.043488], [-22.960932, -43.02961], [-29.612032, -52.195957], [-29.618256, -52.198196], [-29.609608, -52.188], [-29.602446, -52.19174], [-29.608536, -52.204304], [-23.957705, -46.349922], [-23.959743, -46.34665], [-23.955238, -46.35017], [-23.959818, -46.34758], [-23.958395, -46.34919], [-23.96091, -46.342567], [-23.95959, -46.346184], [-23.957705, -46.349922], [-23.957705, -46.349922], [-23.956465, -46.350727], [-22.93518, -43.329876], [-22.934914, -43.329517], [-22.9355, -43.33804], [-23.718822, -46.561466], [-23.71617, -46.567852], [-23.719164, -46.56325], [-23.720625, -46.56124], [-23.72313, -46.556835], [-23.715836, -46.570232], [-23.534382, -46.657646], [-23.535572, -46.658344], [-23.536377, -46.657192], [-23.532011, -46.653606], [-23.541454, -46.65869], [-23.533855, -46.65697], [-23.538628, -46.65786], [-23.536657, -46.65727], [-23.534958, -46.657993], [-23.537544, -46.65898], [-29.99719, -51.12198], [-29.995625, -51.117115], [-29.992035, -51.11269], [-29.992846, -51.11942], [-15.815825, -48.065834], [-22.113655, -51.420155], [-23.536823, -46.588192], [-23.538134, -46.5855], [-12.983389, -38.46291], [-12.989151, -38.453876], [-12.978567, -38.460506], [-12.978567, -38.460506], [-12.982713, -38.459274], [-12.985854, -38.462967], [-12.985526, -38.459972], [-12.977642, -38.45971], [-12.984645, -38.456898], [-12.98702, -38.460835], [-12.98287, -38.45435], [-12.986391, -38.461163], [-27.54612, -48.62929], [-27.541636, -48.63529], [-27.536259, -48.634113], [-19.66095, -43.882404], [-19.629831, -43.897633], [-19.611, -43.91254], [-19.626596, -43.901684], [-19.646164, -43.899017], [-19.627075, -43.893715], [-19.647842, -43.884563], [-19.637793, -43.911976], [-19.6447, -43.881557], [-19.663395, -43.923748], [-19.648483, -43.90313], [-19.635887, -43.883907], [-19.599195, -43.912163], [-19.630585, -43.902428], [-19.599176, -43.912277], [-25.62381, -49.366413], [-25.625916, -49.36902], [-23.393559, -51.954567], [-23.396542, -51.9532], [-23.395412, -51.953053], [-23.388243, -51.95411], [-23.385754, -51.961052], [-22.928951, -47.044807], [-22.934345, -47.039852], [-22.931095, -47.054707], [-23.721806, -46.564186], [-23.722258, -46.55598], [-23.722258, -46.55598], [-23.721542, -46.56811], [-23.72126, -46.5592], [-23.635181, -46.64119], [-23.447054, -46.918304], [-23.1385, -46.461235], [-23.148312, -46.466797], [-23.13468, -46.465263], [-23.129072, -46.468155], [-23.14377, -46.468807], [-23.144838, -46.469173], [-23.144943, -46.471485], [-23.132025, -46.465397], [-23.612839, -46.685055], [-23.337626, -51.175884], [-23.332788, -51.18518], [-23.330416, -51.179504], [-23.334236, -51.174633], [-22.877546, -43.217472], [-22.892935, -43.218803], [-25.505735, -49.29075], [-25.5054, -49.286236], [-25.504763, -49.293453], [-25.50959, -49.289043], [-23.610085, -47.005157], [-23.620527, -47.0057], [-23.638256, -47.02655], [-23.607685, -47.019382], [-23.64516, -47.000843], [-23.616068, -47.041283], [-23.59717, -47.031662], [-23.582092, -47.011345], [-23.642183, -47.018837], [-23.629148, -47.0269], [-23.641266, -46.995995], [-23.604582, -47.01917], [-23.620737, -46.997902], [-23.628134, -47.027782], [-23.632093, -47.007885], [-23.62363, -47.04571], [-23.639732, -47.027687], [-23.606226, -47.007137], [-23.605183, -47.0234], [-23.634308, -47.002144], [-23.612358, -47.021164], [-23.481115, -51.79413], [-23.477037, -51.81817], [-23.490007, -51.78969], [-23.479086, -51.800484], [-23.497122, -51.780346], [-23.174837, -45.890823], [-23.175234, -45.8807], [-23.174826, -45.887455], [-23.182789, -45.88795], [-25.503988, -49.296124], [-25.505203, -49.30581], [-25.512709, -49.296543], [-25.499454, -49.29822], [-23.717466, -46.69349], [-23.716076, -46.694942], [-22.351213, -47.556637], [-22.38006, -47.558052], [-22.346088, -47.548496], [-22.384306, -47.566032], [-23.734072, -46.44241], [-23.568533, -46.59467], [-23.568317, -46.59542], [-23.56639, -46.59871], [-25.525557, -49.18715], [-25.511969, -49.194862], [-25.522995, -49.19575], [-22.935434, -43.33343], [-22.93598, -43.331978], [-22.937124, -43.321255], [-22.93518, -43.329876], [-22.936666, -43.340935], [-22.93534, -43.32897], [-22.93653, -43.340767], [-22.933758, -43.332764], [-22.93529, -43.330307], [-26.23075, -49.396687], [-26.239141, -49.39281], [-26.240122, -49.40475], [-26.23747, -49.40006], [-26.18475, -50.3793], [-26.177536, -50.38905], [-26.170876, -50.393078], [-26.185762, -50.383972], [-26.16037, -50.39564], [-26.182413, -50.393017], [-26.183867, -50.376247], [-26.174065, -50.402954], [-22.963907, -46.53974], [-22.960264, -46.538464], [-22.960264, -46.538464], [-22.965496, -46.53764], [-23.72052, -46.571186], [-23.71747, -46.56492], [-23.721859, -46.557243], [-23.717602, -46.55778], [-23.71888, -46.562325], [-23.719803, -46.57013], [-23.716478, -46.563114], [-23.414106, -51.93587], [-23.405342, -51.92958], [-23.418413, -51.923244], [-23.417887, -51.927628], [-23.414827, -51.923725], [-23.427752, -51.878952], [-23.428707, -51.881104], [-20.268814, -40.320908], [-29.572521, -52.158737], [-29.60232, -52.191605], [-29.603329, -52.200634], [-29.605053, -52.19112], [-29.620886, -52.19743], [-29.602446, -52.19174], [-29.603771, -52.199993], [-29.602297, -52.19304], [-29.572521, -52.158737], [-23.552893, -46.48955], [-23.550451, -46.48813], [-23.591368, -46.50175], [-23.584091, -46.496456], [-25.564503, -49.19644], [-25.557106, -49.192158], [-25.561192, -49.1899], [-22.934647, -43.335182], [-22.934883, -43.335773], [-22.936836, -43.33512], [-23.771482, -53.297867], [-25.436707, -49.23782], [-25.436333, -49.24056], [-25.436707, -49.23782], [-25.441324, -49.23598], [-25.437027, -49.238186], [-25.43247, -49.2428], [-25.435328, -49.23799], [-25.435888, -49.241455], [-25.436333, -49.24056], [-23.957964, -46.38695], [-23.951881, -46.37906], [-24.501915, -47.85258], [-24.492252, -47.847042], [-24.517221, -47.837772], [-24.50264, -47.86078], [-24.50122, -47.87214], [-24.502584, -47.841995], [-24.46495, -47.8178], [-24.491117, -47.84109], [-24.49897, -47.851013], [-24.495665, -47.843647], [-24.495653, -47.844494], [-24.504763, -47.838284], [-24.501524, -47.853592], [-24.491776, -47.835144], [-24.499174, -47.843266], [-24.496563, -47.852615], [-24.515915, -47.865685], [-24.49159, -47.84254], [-24.51583, -47.85329], [-25.427912, -49.258236], [-25.424545, -49.257465], [-25.424501, -49.251263], [-25.42721, -49.255684], [-25.429544, -49.245964], [-22.946903, -47.11153], [-22.923538, -47.11618], [-22.946749, -47.111835], [-22.919304, -47.10343], [-22.917822, -47.10473], [-22.937407, -47.11853], [-22.936268, -47.105976], [-22.944101, -47.119656], [-22.103598, -50.186226], [-22.107283, -50.176357], [-22.08994, -50.18793], [-22.100735, -50.184635], [-22.101072, -50.16259], [-22.107548, -50.166004], [-22.102531, -50.188244], [-22.10378, -50.183773], [-22.10468, -50.187923], [-23.469433, -46.72021], [-22.818827, -43.001595], [-22.833828, -43.00272], [-22.824945, -43.004013], [-23.28526, -51.17659], [-23.28669, -51.175697], [-23.285809, -51.17825], [-21.133747, -48.961643], [-21.131111, -48.955456], [-23.53922, -46.639126], [-23.542448, -46.64417], [-23.541878, -46.643288], [-23.542812, -46.644608], [-22.708027, -47.656605], [-22.70771, -47.669003], [-22.722328, -47.66221], [-22.709202, -47.6607], [-22.719343, -47.668808], [-22.713453, -47.656605], [-23.43955, -46.557095], [-23.43934, -46.559982], [-23.43362, -46.55684], [-23.447613, -46.40506], [-23.43955, -46.557095], [-23.405527, -51.927277], [-23.406889, -51.921654], [-23.409868, -51.92935], [-23.410513, -51.935154], [-23.413763, -51.921535], [-23.319077, -51.147564], [-23.318188, -51.146126], [-23.321318, -51.144794], [-23.327763, -51.14334], [-20.776966, -49.372585], [-20.76897, -49.366642], [-20.772797, -49.373207], [-20.77286, -49.37109], [-20.771873, -49.371277], [-20.773762, -49.372196], [-29.606075, -52.184593], [-29.6182, -52.198914], [-29.610308, -52.19192], [-29.612522, -52.194542], [-29.609293, -52.190506], [-29.607529, -52.192513], [-29.605143, -52.19113], [-23.685581, -46.44525], [-23.686993, -46.445126], [-23.684025, -46.448753], [-23.680225, -46.44504], [-23.683893, -46.450672], [-23.682186, -46.450974], [-23.682373, -46.448425], [-23.674702, -46.442364], [-23.674702, -46.442364], [-23.688192, -46.449425], [-22.736467, -47.333935], [-22.739044, -47.34144], [-22.736637, -47.335457], [-22.743353, -47.33255], [-22.745527, -47.330837], [-22.751074, -47.342247], [-22.749168, -47.348167], [-23.718126, -46.698616], [-23.719671, -46.69494], [-23.715935, -46.697525], [-23.715347, -46.692585], [-23.433273, -46.556377], [-23.436584, -46.554497], [-23.431028, -46.555904], [-23.439892, -46.555252], [-22.725039, -47.310043], [-22.722973, -47.30327], [-22.09676, -50.194176], [-22.10652, -50.165127], [-22.10856, -50.15786], [-21.797512, -50.88258], [-21.797228, -50.886925], [-21.789652, -50.892338], [-21.778818, -50.882492], [-21.791494, -50.86743], [-21.789406, -50.888367], [-21.800045, -50.872826], [-27.033588, -49.636078], [-27.055803, -49.62617], [-27.041082, -49.59975], [-25.424156, -49.255783], [-25.423346, -49.25719], [-25.423065, -49.25665], [-25.428621, -49.255234], [-23.392382, -51.948463], [-23.395844, -51.95359], [-23.380953, -51.949135], [-23.380993, -51.953125], [-23.388767, -51.95448], [-23.683418, -46.61261], [-23.681326, -46.61433], [-23.433273, -46.548424], [-22.708027, -47.656605], [-22.712996, -47.657623], [-22.710188, -47.660145], [-22.714788, -47.665928], [-22.71892, -47.669556], [-22.697678, -47.66175], [-22.704119, -47.66497], [-22.70894, -47.66467], [-22.707024, -47.66364], [-22.713982, -47.65795], [-22.713497, -47.668518], [-22.719471, -47.66466], [-23.440502, -46.502037], [-23.42669, -46.494934], [-22.061625, -47.899803], [-22.059574, -47.900623], [-23.389345, -51.94974], [-23.389404, -51.957603], [-23.392382, -51.948463], [-23.392061, -51.95167], [-23.385754, -51.961052], [-23.38983, -51.954597], [-23.569027, -46.66154], [-23.566954, -46.660873], [-22.376879, -47.556267], [-22.937584, -47.0383], [-21.10597, -45.829433], [-21.112446, -45.832344], [-23.548944, -46.93341], [-19.835907, -43.96227], [-19.8375, -43.962578], [-19.8417, -43.95208], [-22.871061, -43.290913], [-22.432987, -43.146152], [-22.424871, -43.136406], [-22.451912, -43.13809], [-22.432083, -43.138306], [-23.448534, -46.505905], [-23.449543, -46.5072], [-26.91333, -49.085148], [-26.914806, -49.084656], [-26.915997, -49.091248], [-22.871544, -43.470585], [-22.87507, -43.465466], [-20.837717, -41.17806], [-23.473608, -46.655956], [-22.946903, -47.11153], [-22.940468, -47.11693], [-22.92569, -47.11374], [-22.929907, -47.12177], [-22.924007, -47.10216], [-22.938675, -47.110847], [-22.94011, -47.12159], [-23.60366, -46.670094], [-23.605997, -46.66891], [-23.595936, -46.67646], [-23.590372, -46.678165], [-23.59464, -46.67819], [-23.59273, -46.6747], [-23.594046, -46.67583], [-23.59475, -46.67685], [-23.595678, -46.532875], [-29.992477, -51.115402], [-30.014975, -51.11857], [-29.999025, -51.122475], [-22.743769, -47.33419], [-22.736637, -47.335457], [-22.744476, -47.33155], [-22.211512, -49.96002], [-22.545813, -47.891624], [-22.552244, -47.893845], [-22.538563, -47.90082], [-22.550695, -47.91011], [-22.54994, -47.90954], [-23.155973, -46.926414], [-23.148804, -46.92949], [-23.160986, -46.930855], [-23.173866, -46.902824], [-23.125422, -46.93458], [-23.136065, -46.916203], [-23.147888, -46.9341], [-23.148804, -46.92949], [-23.16716, -46.92208], [-23.167706, -46.912766], [-23.173866, -46.902824], [-12.986565, -38.458626], [-12.988491, -38.46594], [-12.986869, -38.45904], [-12.98108, -38.46512], [-12.98108, -38.46512], [-12.9867, -38.461926], [-12.984491, -38.458496], [-12.98702, -38.460835], [-12.982979, -38.460926], [-12.987612, -38.461155], [-23.173216, -46.905956], [-23.173216, -46.905956], [-23.14874, -46.92966], [-23.118208, -46.923088], [-23.170935, -46.911053], [-23.16716, -46.92208], [-23.166136, -46.92376], [-23.160986, -46.930855], [-23.173845, -46.906044], [-23.169615, -46.910748], [-23.15734, -46.92682], [-23.160986, -46.930855], [-23.148779, -46.926014], [-23.155973, -46.926414], [-23.173216, -46.905956], [-27.596428, -48.547894], [-27.596489, -48.552216], [-27.596146, -48.55243], [-27.593582, -48.55695], [-27.594965, -48.554577], [-27.59295, -48.55782], [-27.596853, -48.548622], [-23.453571, -46.67927], [-23.459658, -46.68383], [-21.184235, -48.15768], [-21.197485, -48.16264], [-21.18743, -48.16225], [-21.189434, -48.162563], [-21.18785, -48.151405], [-26.13519, -50.39617], [-26.185905, -50.399033], [-26.186226, -50.360035], [-26.187572, -50.37698], [-26.188604, -50.399986], [-26.178293, -50.39202], [-26.184856, -50.38205], [-26.185911, -50.396614], [-26.181019, -50.37318], [-22.854027, -43.25414], [-22.850483, -43.244194], [-22.860514, -43.248295], [-22.862646, -43.25472], [-22.850483, -43.244194], [-22.857603, -43.248833], [-22.852482, -43.251076], [-22.868288, -43.247143], [-22.86025, -43.250504], [-23.488293, -46.622494], [-23.488445, -46.62237], [-25.556862, -49.192192], [-25.561386, -49.201305], [-25.557516, -49.197575], [-25.549393, -49.190502], [-19.877945, -44.009087], [-19.877617, -44.007477], [-15.836123, -48.040184], [-24.49537, -47.867218], [-24.49458, -47.846985], [-24.49818, -47.837807], [-24.514898, -47.856064], [-24.502035, -47.8482], [-24.460194, -47.817085], [-24.495977, -47.838493], [-24.499016, -47.8748], [-24.50064, -47.844387], [-24.494993, -47.845177], [-24.495676, -47.846214], [-23.428003, -51.881195], [-24.950865, -53.455006], [-24.95053, -53.448685], [-24.941319, -53.44072], [-24.954142, -53.44981], [-22.261677, -45.938843], [-22.233908, -45.94458], [-22.228235, -45.93175], [-22.236357, -45.94415], [-22.230427, -45.93934], [-22.25134, -45.923912], [-22.232689, -45.93183], [-22.22933, -45.935505], [-22.222858, -45.929947], [-22.23104, -45.93817], [-22.223778, -45.925777], [-22.230835, -45.931923], [-22.28387, -45.9135], [-22.25624, -45.92258], [-22.233812, -45.94713], [-22.23, -45.936554], [-22.280243, -45.909794], [-22.233812, -45.94713], [-22.233969, -45.929615], [-22.234835, -45.939598], [-26.449362, -49.106724], [-26.474987, -49.08371], [-6.795829, -39.303146], [-29.77485, -51.130367], [-29.76863, -51.127525], [-29.778063, -51.132896], [-29.775719, -51.135147], [-29.774782, -51.134724], [-26.91346, -49.09635], [-26.92134, -49.098232], [-26.921097, -49.089996], [-26.92027, -49.097687], [-26.914541, -49.0935], [-22.884768, -47.199966], [-22.882486, -47.20783], [-22.880499, -47.199596], [-22.881205, -47.193672], [-22.894781, -47.197327], [-22.891544, -47.203693], [-22.905025, -47.19172], [-22.891544, -47.203693], [-28.48006, -48.99697], [-28.480442, -49.00093], [-28.48165, -48.999477], [-29.174524, -51.158794], [-29.18135, -51.14777], [-23.558453, -46.440067], [-23.558453, -46.440067], [-23.573313, -46.425083], [-23.558603, -46.431164], [-25.46208, -49.28319], [-25.45785, -49.27598], [-25.458605, -49.275948], [-25.453886, -49.286823], [-25.455933, -49.288216], [-25.458723, -49.280952], [-25.46469, -49.286995], [-25.453856, -49.286167], [-22.93043, -53.120865], [-22.930553, -53.122253], [-22.916449, -53.137207], [-19.931147, -43.953617], [-19.91877, -43.948124], [-19.920006, -43.950886], [-19.929224, -43.955948], [-19.926409, -43.93511], [-19.929533, -43.954754], [-19.924393, -43.938053], [-19.926437, -43.935226], [-19.921083, -43.94679], [-19.931335, -43.952847], [-19.924479, -43.937855], [-19.922398, -43.954258], [-19.929195, -43.956074], [-19.923721, -43.940784], [-21.121302, -51.10181], [-21.147276, -51.105072], [-21.123968, -51.1], [-21.1399, -51.109207], [-21.136494, -51.10052], [-21.135218, -51.10294], [-21.13591, -51.100826], [-21.13688, -51.10233], [-6.832237, -35.120262], [-6.833005, -35.124855], [-6.825533, -35.12509], [-23.523672, -46.593864], [-23.521202, -46.593365], [-23.521202, -46.593365], [-23.512669, -46.586655], [-25.679226, -49.32619], [-25.670988, -49.345016], [-25.66867, -49.32535], [-20.818901, -49.3947], [-20.8131, -49.38158], [-20.812933, -49.376865], [-20.822468, -49.38698], [-20.821697, -49.396393], [-20.819004, -49.38508], [-23.595667, -46.901253], [-23.599894, -46.903996], [-23.59374, -46.909115], [-23.59935, -46.91061], [-23.596685, -46.908012], [-23.595684, -46.916653], [-20.724195, -46.605717], [-20.717329, -46.606636], [-20.716036, -46.605267], [-23.62464, -46.542492], [-23.625175, -46.532375], [-23.625458, -46.53721], [-23.61568, -46.539494], [-23.419731, -51.89272], [-23.420742, -51.8948], [-23.404497, -47.51873], [-25.510805, -49.26844], [-25.504946, -49.266956], [-25.512735, -49.270123], [-25.52136, -49.261215], [-25.526648, -49.264027], [-25.516495, -49.26206], [-22.433285, -46.570072], [-22.434996, -46.572838], [-22.419401, -46.562183], [-22.439095, -46.569977], [-25.545633, -49.080082], [-25.527449, -49.09867], [-25.472202, -49.306213], [-25.469223, -49.299862], [-25.474287, -49.30429], [-23.615894, -46.63983], [-23.584793, -46.53957], [-23.577736, -46.557156], [-23.587353, -46.533203], [-23.587353, -46.533203], [-23.585903, -46.53661], [-23.583172, -46.543774], [-30.033604, -51.228333], [-30.030453, -51.230026], [-30.036211, -51.233772], [-30.030445, -51.235725], [-30.036404, -51.22761], [-30.039377, -51.229866], [-30.030952, -51.23519], [-30.032492, -51.228912], [-30.03153, -51.228203], [-30.032604, -51.236023], [-30.036148, -51.229233], [-30.03425, -51.236145], [-30.036081, -51.23094], [-30.029196, -51.228745], [-30.034937, -51.23866], [-23.54487, -46.632378], [-23.579876, -46.591988], [-23.578918, -46.59248], [-23.581259, -46.58519], [-23.581957, -46.58998], [-23.577478, -46.59319], [-8.757163, -63.888103], [-8.759703, -63.895576], [-8.755305, -63.89522], [-8.763198, -63.89098], [-8.776207, -63.892155], [-23.620975, -46.560772], [-23.622004, -46.566017], [-23.620975, -46.560772], [-23.621006, -46.559124], [-23.617306, -46.561893], [-23.619167, -46.559532], [-23.62106, -46.570393], [-23.623533, -46.564102], [-23.618977, -46.561974], [-23.618242, -46.565434], [-23.620708, -46.55951], [-23.621065, -46.56481], [-23.621084, -46.56673], [-26.47815, -49.05529], [-26.48393, -49.03755], [-26.479929, -49.058064], [-21.771841, -48.183895], [-21.771532, -48.187286], [-21.760866, -48.174854], [-21.752972, -48.166874], [-21.76811, -48.17782], [-21.775656, -48.171936], [-23.42794, -46.528538], [-23.42794, -46.528538], [-23.42794, -46.528538], [-23.427706, -46.527786], [-20.739918, -46.743797], [-19.9238, -43.946], [-19.933739, -43.94301], [-19.926699, -43.934437], [-19.928585, -43.953186], [-19.932686, -43.947327], [-19.924065, -43.947617], [-19.93463, -43.94475], [-19.934103, -43.948803], [-19.924768, -43.942177], [-19.917824, -43.936287], [-19.93215, -43.944252], [-19.928463, -43.95393], [-19.924322, -43.952442], [-19.922264, -43.95608], [-23.121565, -46.55689], [-23.121565, -46.55689], [-23.120838, -46.558044], [-23.12258, -46.55341], [-23.120155, -46.565617], [-23.613571, -46.571392], [-23.615938, -46.570354], [-18.938763, -48.305374], [-18.94716, -48.315563], [-18.949743, -48.290764], [-18.96171, -48.321198], [-18.931839, -48.296383], [-18.946098, -48.306355], [-18.943604, -48.315945], [-18.94754, -48.292084], [-22.21179, -49.684734], [-22.22527, -49.648582], [-22.22527, -49.648582], [-22.210184, -49.671078], [-22.223463, -49.638443], [-22.212873, -49.657513], [-22.217909, -49.65386], [-16.725948, -49.32612], [-16.725897, -49.326107], [-20.36105, -40.659508], [-29.93898, -51.11056], [-29.93898, -51.11056], [-29.93898, -51.11056], [-22.208212, -49.648895], [-22.204016, -49.65279], [-22.219997, -49.6412], [-22.201067, -49.657803], [-22.202188, -49.653473], [-22.209625, -49.67101], [-22.21561, -49.66645], [-22.213345, -49.668846], [-16.709082, -49.26495], [-26.484762, -49.07622], [-26.47815, -49.05529], [-26.482893, -49.056602], [-23.604355, -46.751987], [-23.602083, -46.75755], [-29.170885, -51.146946], [-29.18264, -51.146194], [-24.958902, -53.461304], [-23.61568, -46.539494], [-23.623037, -46.53957], [-23.615623, -46.539513], [-23.62464, -46.542492], [-23.625502, -46.537243], [-23.488516, -46.678783], [-23.48675, -46.678837], [-23.627024, -46.558624], [-23.632658, -46.558815], [-23.632631, -46.55964], [-23.632425, -46.562122], [-23.635784, -46.56848], [-22.908922, -47.056725], [-22.909983, -47.056217], [-22.909807, -47.05839], [-22.910192, -47.05612], [-22.90629, -47.057255], [-23.576336, -46.742027], [-23.580238, -46.749485], [-23.574022, -46.73888], [-23.579742, -46.74945], [-23.573708, -46.737072], [-23.575018, -46.739826], [-23.574022, -46.73888], [-23.649334, -46.520992], [-23.643837, -46.52061], [-23.64659, -46.52177], [-23.646152, -46.51662], [-23.647234, -46.515385], [-23.645275, -46.517334], [-22.706764, -46.76545], [-22.702854, -46.764927], [-22.70289, -46.765045], [-23.425947, -46.429405], [-23.425947, -46.429405], [-23.425947, -46.429405], [-23.425947, -46.429405], [-23.42309, -46.418648], [-23.426102, -46.431767], [-26.254135, -48.871334], [-26.245811, -48.882416], [-20.811739, -49.37738], [-20.818312, -49.393566], [-20.821012, -49.383507], [-20.814943, -49.386547], [-20.820696, -49.388123], [-20.815853, -49.385555], [-20.820656, -49.393932], [-20.814386, -49.38296], [-19.830477, -43.867176], [-19.893312, -43.97065], [-19.889156, -43.9698], [-23.620975, -46.560772], [-23.620708, -46.55951], [-23.61901, -46.56472], [-23.619167, -46.559532], [-23.617393, -46.566326], [-23.621841, -46.5644], [-23.617334, -46.562595], [-23.618727, -46.562508], [-23.558453, -46.440067], [-23.567379, -46.42541], [-23.559519, -46.428104], [-23.576948, -46.438656], [-23.567324, -46.426537], [-23.565674, -46.427227], [-23.558453, -46.440067], [-25.67617, -49.323814], [-22.904213, -47.057007], [-22.902765, -47.055378], [-22.909813, -47.056305], [-22.905537, -47.052586], [-20.824434, -49.389294], [-20.8131, -49.38158], [-20.812037, -49.382717], [-20.817562, -49.388577], [-20.815853, -49.385555], [-20.821718, -49.387787], [-20.812967, -49.37988], [-23.583143, -46.54357], [-23.581556, -46.551674], [-23.609247, -46.704037], [-19.892422, -44.037323], [-19.8117, -44.142616], [-21.755472, -48.169483], [-21.755472, -48.169483], [-21.761122, -48.15879], [-21.765774, -48.167713], [-21.76237, -48.163185], [-21.75713, -48.15438], [-21.760654, -48.155785], [-21.77077, -48.186836], [-21.778675, -48.17331], [-21.778894, -48.17405], [-21.773487, -48.18191], [-21.776451, -48.182644], [-21.777615, -48.178524], [-21.774687, -48.18771], [-22.931227, -53.137775], [-22.934847, -53.13816], [-22.933128, -53.13668], [-27.658365, -48.690258], [-27.642017, -48.6742], [-27.642498, -48.674732], [-27.64008, -48.671616], [-27.657492, -48.691006], [-27.646788, -48.67341], [-23.527124, -46.64747], [-23.033007, -49.177505], [-23.043032, -49.166706], [-23.033823, -49.159237], [-23.466589, -46.639282], [-23.465822, -46.636684], [-23.466589, -46.639282], [-23.466589, -46.639282], [-23.466589, -46.639282], [-23.466589, -46.639282], [-23.663235, -46.61973], [-23.661911, -46.622112], [-23.667072, -46.621616], [-23.664978, -46.62684], [-23.47209, -46.666527], [-23.465822, -46.636684], [-23.468899, -46.663345], [-23.466167, -46.63783], [-23.466589, -46.639282], [-25.46998, -49.29905], [-25.470446, -49.299576], [-25.467266, -49.31707], [-25.472095, -49.308014], [-25.469809, -49.301346], [-25.467266, -49.31707], [-25.470009, -49.313843], [-25.47157, -49.29937], [-19.98305, -43.94561], [-19.977783, -43.939102], [-19.982874, -43.945457], [-19.975498, -43.937443], [-19.978312, -43.940975], [-19.986874, -43.94566], [-23.600815, -46.549747], [-23.601086, -46.54928], [-23.601421, -46.545395], [-23.601086, -46.54928], [-23.601677, -46.547474], [-23.601421, -46.545395], [-23.601263, -46.549038], [-23.596266, -46.558586], [-18.876263, -48.27519], [-18.870031, -48.27662], [-18.86808, -48.26721], [-18.849804, -48.297947], [-18.869165, -48.286198], [-19.866447, -43.909245], [-19.867586, -43.9107], [-19.868948, -43.909286], [-19.875696, -43.919662], [-19.871279, -43.91267], [-23.609451, -46.48326], [-23.572247, -46.53735], [-23.617363, -46.563374], [-23.619617, -46.5615], [-23.621927, -46.55838], [-23.621475, -46.55953], [-23.620014, -46.563892], [-23.621069, -46.56996], [-23.619005, -46.563812], [-23.620014, -46.563892], [-20.853529, -49.405735], [-20.849197, -49.407837], [-24.955244, -53.46672], [-24.955458, -53.474842], [-24.957867, -53.465763], [-24.959684, -53.467903], [-24.95558, -53.460102], [-24.958015, -53.464542], [-24.958902, -53.461304], [-24.958902, -53.461304], [-23.48971, -46.477287], [-23.488623, -46.478626], [-22.701126, -46.763348], [-22.697983, -46.762825], [-22.70058, -46.761322], [-22.704216, -46.76483], [-23.55852, -46.511753], [-23.57015, -46.570446], [-23.57015, -46.570446], [-30.109, -51.25145], [-30.098871, -51.232277], [-30.098482, -51.237198], [-30.098186, -51.23624], [-30.103144, -51.234123], [-29.92239, -51.16842], [-29.917824, -51.17537], [-29.90976, -51.174385], [-29.91735, -51.1701], [-29.910187, -51.167492], [-29.922102, -51.17728], [-29.919382, -51.171154], [-23.629208, -46.55918], [-23.635418, -46.572227], [-23.636091, -46.574177], [-23.631693, -46.56282], [-23.633, -46.561153], [-23.441027, -51.932198], [-23.440662, -51.931664], [-23.435406, -51.925846], [-23.072865, -46.95253], [-23.101604, -46.976685], [-23.081598, -46.979454], [-23.087414, -46.9759], [-23.089264, -46.979946], [-23.4938, -46.568123], [-23.61568, -46.539494], [-23.62986, -46.53319], [-23.61802, -46.537746], [-23.62621, -46.540775], [-23.627937, -46.537724], [-23.626883, -46.533543], [-23.618818, -46.5351], [-23.62513, -46.536972], [-23.622263, -46.5376], [-22.971903, -43.190292], [-22.972378, -43.189575], [-22.973948, -43.19143], [-22.973436, -43.191154], [-22.974724, -43.191837], [-22.97299, -43.190636], [-22.973532, -43.189697], [-22.972612, -43.190563], [-22.975338, -43.19211], [-22.973143, -43.190483], [-21.76893, -48.171818], [-21.775406, -48.168106], [-21.760757, -48.17907], [-21.77654, -48.17116], [-21.76723, -48.178467], [-20.811474, -49.376926], [-20.817083, -49.392067], [-20.819757, -49.385727], [-20.822588, -49.39488], [-20.816633, -49.38899], [-20.819563, -49.384304], [-20.8131, -49.38158], [-20.824585, -49.389454], [-20.8143, -49.38274], [-22.359722, -49.052345], [-22.357216, -49.049664], [-22.356533, -49.049526], [-22.349442, -49.05077], [-23.57479, -46.640465], [-23.593008, -46.63003], [-23.525793, -46.693222], [-23.494764, -46.68399], [-23.09987, -48.918797], [-22.21448, -49.66101], [-22.22527, -49.648582], [-22.205168, -49.655937], [-22.212555, -49.67858], [-22.211452, -49.66696], [-22.227634, -49.647427], [-22.196548, -49.653255], [-22.209105, -49.65361], [-22.206459, -49.659737], [-20.436626, -54.652676], [-15.808327, -48.111095], [-15.813003, -48.100094], [-15.804605, -48.106167], [-15.800556, -48.11879], [-15.800851, -48.112923], [-15.8081665, -48.104374], [-15.804565, -48.107983], [-15.802023, -48.115406], [-24.973988, -53.45505], [-24.958635, -53.46493], [-24.956919, -53.457806], [-22.06861, -51.477448], [-22.099234, -51.458405], [-22.072506, -51.47794], [-22.070673, -51.477535], [-22.081226, -51.478638], [-22.099857, -51.464504], [-27.643143, -48.68779], [-27.651016, -48.696358], [-27.63604, -48.677288], [-27.640324, -48.67658], [-27.65354, -48.68106], [-27.657492, -48.691006], [-27.64302, -48.672558], [-23.993036, -46.288105], [-23.99067, -46.289818], [-23.992682, -46.285484], [-23.99488, -46.288044], [-23.990107, -46.286236], [-23.470476, -46.634666], [-22.959513, -46.527744], [-22.96261, -46.523758], [-22.962633, -46.52342], [-22.962633, -46.52342], [-21.22451, -47.833622], [-21.224604, -47.833557], [-21.224604, -47.833557], [-22.922592, -43.62514], [-22.92164, -43.624805], [-23.593008, -46.63003], [-23.593124, -46.629864], [-23.578638, -46.640007], [-22.213404, -49.657818], [-22.20095, -49.66305], [-22.218176, -49.645184], [-22.221575, -49.645332], [-22.212555, -49.67858], [-22.211088, -49.684155], [-22.21159, -49.653744], [-23.47486, -46.474407], [-23.474718, -46.47479], [-23.469883, -46.466793], [-22.918917, -53.135902], [-22.92079, -53.141243], [-23.532394, -46.614544], [-21.764746, -48.178436], [-21.775406, -48.168106], [-21.765276, -48.171093], [-21.775406, -48.168106], [-21.773487, -48.18191], [-21.76804, -48.171654], [-21.772202, -48.18894], [-23.4928, -46.70798], [-23.39618, -51.92522], [-23.595037, -46.562576], [-23.594324, -46.56126], [-29.977486, -51.196014], [-29.97759, -51.18681], [-29.99358, -51.189316], [-29.982897, -51.18638], [-23.118324, -46.56163], [-23.121904, -46.55885], [-23.12016, -46.563625], [-23.119144, -46.56746], [-23.121326, -46.557617], [-23.124327, -46.559376], [-23.12046, -46.551388], [-23.128632, -46.558464], [-23.120789, -46.560677], [-15.813725, -47.94876], [-23.620007, -52.469288], [-23.622087, -52.46579], [-23.603922, -46.83972], [-23.60967, -46.839546], [-23.601254, -46.841652], [-23.60967, -46.839546], [-23.615057, -46.834953], [-23.598925, -46.84059], [-22.851881, -43.54349], [-22.881084, -43.55135], [-22.88112, -43.55221], [-22.882013, -43.53889], [-22.878586, -43.549194], [-22.869434, -43.554432], [-22.851881, -43.54349], [-22.877329, -43.539585], [-25.453548, -49.27529], [-25.46241, -49.29049], [-25.45319, -49.281895], [-25.458326, -49.28492], [-25.456402, -49.283985], [-25.455637, -49.28677], [-25.454931, -49.277622], [-25.455933, -49.288216], [-25.646332, -49.314907], [-25.642391, -49.31425], [-23.48092, -46.314217], [-23.469683, -46.313564], [-25.46208, -49.28319], [-25.453867, -49.28718], [-25.455101, -49.288082], [-25.461458, -49.288406], [-25.456516, -49.286102], [-25.464457, -49.28685], [-25.46015, -49.288406], [-25.454273, -49.279343], [-25.453886, -49.286823], [-25.453856, -49.286167], [-20.529219, -47.367912], [-20.52638, -47.368694], [-23.450565, -46.59766], [-19.871141, -43.9245], [-19.862907, -43.91791], [-19.876278, -43.915047], [-19.869997, -43.92279], [-23.50909, -46.14457], [-23.501291, -46.15418], [-23.503075, -46.16376], [-23.499027, -46.146862], [-22.946308, -46.9792], [-23.106289, -50.371258], [-23.111296, -50.37149], [-23.097713, -50.37117], [-23.115696, -50.3722], [-25.389282, -49.271904], [-16.64059, -49.27183], [-16.73207, -49.272293], [-23.529228, -46.738865], [-23.534948, -46.733917], [-23.528454, -46.739723], [-22.25344, -47.820786], [-25.44427, -49.240814], [-22.755375, -46.141838], [-22.756512, -46.147808], [-22.756458, -46.147953], [-23.63222, -46.51026], [-23.62722, -46.506924], [-23.5286, -46.798386], [-23.52954, -46.79663], [-27.816029, -50.33597], [-27.815899, -50.329494], [-27.813925, -50.328995], [-21.360142, -48.083492], [-21.360622, -48.072803], [-23.532751, -46.52755], [-23.532375, -46.52211], [-15.661278, -56.05646], [-22.59428, -47.406227], [-22.591404, -47.40045], [-22.59066, -47.404408], [-22.589022, -47.408012], [-22.590794, -47.378975], [-22.601254, -47.40894], [-22.601858, -47.409], [-22.616756, -47.369835], [-22.589525, -47.399323], [-22.597206, -47.39257], [-22.58826, -47.399853], [-23.53393, -46.888298], [-23.538282, -46.88422], [-23.534626, -46.89025], [-23.533756, -46.889027], [-23.539549, -46.89318], [-23.539078, -46.89016], [-23.536083, -46.885605], [-23.533707, -46.890545], [-23.537271, -46.891113], [-23.46657, -46.55404], [-26.27602, -48.805035], [-26.280941, -48.787548], [-26.288002, -48.78084], [-23.512169, -46.608696], [-23.51089, -46.607883], [-23.532589, -46.503334], [-22.584587, -47.400368], [-22.5604, -47.40117], [-22.568962, -47.41431], [-22.583038, -47.39506], [-22.578238, -47.38937], [-22.566246, -47.402573], [-22.56671, -47.40341], [-22.565504, -47.408813], [-22.567266, -47.3998], [-22.583515, -47.39982], [-25.41862, -49.28008], [-25.422802, -49.275433], [-22.580875, -47.390575], [-22.565884, -47.40168], [-22.574549, -47.394142], [-22.560455, -47.401222], [-22.582806, -47.40023], [-22.560896, -47.402683], [-22.563087, -47.411182], [-22.91235, -43.215546], [-22.91889, -43.218235], [-22.916758, -43.22264], [-22.917158, -43.223053], [-22.9173, -43.215748], [-22.917618, -43.21895], [-22.915627, -43.218163], [-22.917082, -43.223087], [-22.9169, -43.216976], [-22.916222, -43.221874], [-22.917416, -43.217678], [-22.916815, -43.216496], [-22.9173, -43.215748], [-22.919304, -43.218018], [-22.919693, -43.216606], [-22.918066, -43.219543], [-22.920244, -43.21645], [-22.917328, -43.223267], [-22.917927, -43.219326], [-22.916817, -43.21803], [-22.914654, -43.216175], [-22.915157, -43.220455], [-23.571579, -46.619904], [-24.94718, -53.47982], [-24.937359, -53.49997], [-24.938198, -53.484474], [-24.952444, -53.49544], [-24.941883, -53.48382], [-28.674517, -49.257805], [-28.714579, -49.301304], [-28.745445, -49.285446], [-23.560453, -46.550835], [-23.54042, -46.66201], [-23.534441, -46.661198], [-23.541252, -46.6629], [-26.90196, -49.076668], [-26.893387, -49.082767], [-26.893707, -49.08218], [-26.896664, -49.08919], [-23.123802, -46.570473], [-23.11923, -46.570248], [-23.12513, -46.57151], [-21.480284, -49.219933], [-21.47159, -49.2072], [-21.461294, -49.22676], [-21.473728, -49.233788], [-21.47125, -49.23044], [-21.481607, -49.215584], [-21.457216, -49.228745], [-21.477602, -49.217743], [-21.47138, -49.217403], [-21.474297, -49.226074], [-23.601488, -46.643562], [-22.86977, -43.25003], [-22.87416, -43.24881], [-22.865517, -43.25394], [-26.789724, -49.10077], [-23.460173, -46.687866], [-23.460709, -46.694424], [-22.565453, -47.41522], [-22.563065, -47.40179], [-22.564104, -47.40274], [-22.578583, -47.397762], [-23.543913, -46.645], [-23.543858, -46.645172], [-23.54376, -46.650852], [-23.543676, -46.65396], [-23.543858, -46.645035], [-22.855883, -47.042255], [-22.855011, -47.04313], [-22.872355, -47.038506], [-21.110033, -44.023266], [-21.111202, -44.023243], [-23.642601, -46.634235], [-23.644978, -46.63169], [-23.638742, -46.6318], [-23.643799, -46.63303], [-23.643494, -46.634483], [-23.64247, -46.63132], [-23.515598, -46.534332], [-22.594345, -47.386917], [-22.610788, -47.37192], [-22.612753, -47.42271], [-22.615591, -47.410892], [-25.592041, -49.342644], [-25.524015, -49.269566], [-25.525032, -49.27333], [-20.792908, -49.41651], [-20.788456, -49.419563], [-20.795395, -49.421993], [-20.785435, -49.370716], [-20.78845, -49.422855], [-20.788456, -49.419563], [-22.595966, -47.384335], [-22.597658, -47.395702], [-22.600103, -47.391888], [-22.607262, -47.42246], [-22.58826, -47.399853], [-20.81527, -49.52471], [-20.804453, -49.496193], [-20.807161, -49.50039], [-20.80982, -49.522503], [-20.806145, -49.50749], [-20.815285, -49.478798], [-20.817604, -49.508865], [-20.816042, -49.49606], [-20.81701, -49.50124], [-23.542223, -46.635674], [-22.613604, -47.41996], [-22.599691, -47.397198], [-22.608822, -47.411255], [-22.586823, -47.40164], [-22.604113, -47.422127], [-22.605206, -47.41548], [-20.147247, -44.9118], [-20.152046, -44.892067], [-20.150368, -44.92703], [-20.17726, -44.908325], [-20.152979, -44.89278], [-20.150475, -44.900772], [-20.150026, -44.923565], [-20.108234, -44.84705], [-20.15175, -44.90416], [-20.157988, -44.907974], [-29.709845, -51.50241], [-29.675632, -51.447067], [-29.69554, -51.482822], [-29.694885, -51.469563], [-29.679443, -51.452633], [-29.696123, -51.48208], [-29.685116, -51.462593], [-29.68424, -51.46185], [-29.693325, -51.473755], [-26.942194, -48.71984], [-23.487974, -46.390263], [-23.49184, -46.374504], [-23.485575, -46.383785], [-23.487572, -46.38855], [-17.745745, -46.170273], [-17.74051, -46.176163], [-23.641037, -46.50504], [-23.635683, -46.503044], [-23.644304, -46.504086], [-23.640293, -46.500515], [-23.642443, -46.502975], [-23.642471, -46.54883], [-23.641544, -46.50119], [-23.64524, -46.500732], [-23.647078, -46.495724], [-20.910078, -49.446404], [-22.602737, -48.812405], [-22.597271, -48.804176], [-27.143864, -48.9606], [-23.53145, -46.562523], [-23.53278, -46.564552], [-22.934788, -46.566692], [-22.948002, -46.554398], [-22.94847, -46.551956], [-22.950085, -46.550423], [-22.951315, -46.550087], [-22.950201, -46.55107], [-22.340885, -47.373653], [-22.335186, -47.384792], [-22.347355, -47.38073], [-22.345648, -47.37454], [-22.331198, -47.379436], [-23.533607, -46.52186], [-23.53336, -46.523342], [-23.535828, -46.522495], [-23.531393, -46.448246], [-23.536354, -46.44331], [-23.534376, -46.444054], [-23.549162, -46.44401], [-23.535984, -46.444237], [-23.505268, -46.62342], [-28.478386, -49.029102], [-28.477982, -49.01977], [-27.812132, -50.330734], [-27.817644, -50.330208], [-27.819872, -50.33035], [-23.61186, -46.79824], [-25.488, -49.215485], [-25.496853, -49.209023], [-25.497866, -49.21068], [-23.18468, -46.921696], [-23.17746, -46.917274], [-23.190863, -46.952698], [-23.183636, -46.917995], [-23.199127, -46.914295], [-23.177511, -46.930485], [-22.5649, -47.405052], [-22.5604, -47.40117], [-22.571526, -47.41383], [-22.5649, -47.405052], [-22.569893, -47.40472], [-22.563038, -47.399242], [-22.568838, -47.40538], [-22.580612, -47.40857], [-22.566792, -47.405594], [-22.974407, -43.191124], [-22.970135, -43.18422], [-22.972595, -43.18797], [-16.264828, -47.956562], [-23.633848, -46.73416], [-23.629627, -46.74008], [-23.62299, -46.744244], [-23.63001, -46.73857], [-22.599255, -47.37981], [-22.595966, -47.384335], [-22.605787, -47.421307], [-22.596134, -47.400024], [-22.59375, -47.406414], [-22.588938, -47.40034], [-22.614035, -47.41628], [-22.597982, -47.388893], [-22.586851, -47.402473], [-22.598017, -47.39727], [-22.603525, -47.40879], [-23.64206, -46.501427], [-23.642336, -46.50604], [-23.644972, -46.503223], [-23.643526, -46.50516], [-23.642384, -46.502224], [-23.636719, -46.503056], [-23.647131, -46.495724], [-23.638504, -46.503563], [-23.642443, -46.502975], [-23.646673, -46.494473], [-23.63646, -46.50307], [-20.158377, -44.88168], [-20.153746, -44.902], [-20.179771, -44.914543], [-20.14751, -44.908913], [-20.170155, -44.91341], [-20.17047, -44.918037], [-20.155413, -44.888664], [-20.148464, -44.90606], [-20.175655, -44.8964], [-20.159777, -44.904747], [-20.163258, -44.921024], [-20.147484, -44.908607], [-20.147387, -44.911335], [-20.170515, -44.883884], [-20.171434, -44.921814], [-20.136593, -44.896587], [-20.155401, -44.89292], [-27.641672, -48.716007], [-27.642374, -48.688602], [-20.804913, -49.49383], [-20.820303, -49.52672], [-20.815744, -49.509365], [-20.810354, -49.49663], [-20.816174, -49.51776], [-20.816175, -49.52054], [-20.827457, -49.498024], [-20.805119, -49.49634], [-22.865278, -43.252995], [-22.86536, -43.249073], [-22.596071, -47.400623], [-22.59029, -47.413612], [-22.602877, -47.386784], [-23.493229, -46.50086], [-22.897346, -43.18071], [-22.897509, -43.186344], [-22.897514, -43.184353], [-22.897514, -43.184353], [-22.897532, -43.182755], [-22.897509, -43.186344], [-22.898916, -43.180588], [-20.164907, -44.9128], [-20.169603, -44.913025], [-20.151783, -44.90238], [-20.17878, -44.917374], [-20.146544, -44.90046], [-20.169512, -44.907066], [-20.16502, -44.883453], [-20.171434, -44.921814], [-20.186274, -44.90684], [-20.163052, -44.914394], [-20.153044, -44.892204], [-22.936153, -44.401978], [-23.53614, -46.801422], [-23.53294, -46.804302], [-23.535002, -46.805946], [-23.53579, -46.80514], [-27.132687, -48.9599], [-27.141008, -48.967163], [-23.316565, -51.170002], [-23.316994, -51.16796], [-23.318356, -51.163673], [-23.317617, -51.164562], [-23.315084, -51.170532], [-23.309797, -51.167362], [-23.317606, -51.163273], [-23.311575, -51.168], [-23.306084, -51.1692], [-23.306635, -51.16455], [-22.76948, -42.923653], [-22.775822, -42.91348], [-28.479527, -49.009815], [-28.483252, -49.024796], [-26.903923, -49.079227], [-26.89281, -49.083458], [-22.87603, -43.251053], [-22.872957, -43.248814], [-22.869463, -43.25302], [-22.864017, -43.250443], [-23.682499, -46.707977], [-23.681835, -46.707314], [-23.681835, -46.707314], [-21.842737, -46.901035], [-21.827663, -46.896534], [-21.822815, -46.89887], [-21.824476, -46.901714], [-21.833858, -46.896637], [-23.682169, -46.709496], [-23.540167, -46.58577], [-23.54147, -46.591164], [-25.436237, -49.262623], [-25.443775, -49.268578], [-25.443775, -49.268578], [-25.444145, -49.259808], [-25.443092, -49.262733], [-25.436237, -49.262623], [-25.4433, -49.26463], [-25.438545, -49.26464], [-25.440147, -49.272808], [-21.829477, -46.907192], [-21.84134, -46.900307], [-21.842638, -46.89536], [-21.840994, -46.89626], [-21.838789, -46.89647], [-21.837132, -46.89226], [-21.823727, -46.899967], [-21.848816, -46.896603], [-23.314291, -51.369507], [-23.317448, -51.35291], [-23.31058, -51.367546], [-23.309425, -51.36855], [-19.919144, -43.90212], [-19.919712, -43.903652], [-19.9178, -43.90876], [-19.923346, -43.90361], [-19.915064, -43.90597], [-26.891903, -49.008705], [-26.8318, -49.032253], [-2.5056894, -44.24129], [-2.4960394, -44.243015], [-26.805208, -49.091473], [-19.920319, -43.909657], [-19.920893, -43.906563], [-23.6234, -46.74576], [-23.626476, -46.746586], [-23.634066, -46.733448], [-23.624168, -46.743793], [-23.625334, -46.743103], [-29.731834, -53.180565], [-21.135221, -44.260834], [-21.138275, -44.265053], [-21.139883, -44.26894], [-22.597271, -48.804176], [-22.596222, -48.80545], [-22.60096, -48.810047], [-24.954237, -53.490852], [-24.944294, -53.481297], [-24.95606, -53.48921], [-20.790424, -49.378685], [-20.80699, -49.398922], [-20.790707, -49.38202], [-20.790758, -49.38147], [-24.952375, -53.47251], [-24.9553, -53.458282], [-24.951439, -53.466465], [-24.95359, -53.457623], [-24.947445, -53.459908], [-24.948732, -53.47656], [-24.94567, -53.46238], [-24.950142, -53.46133], [-24.952425, -53.47441], [-24.95239, -53.460262], [-24.952562, -53.466602], [-24.950996, -53.45777], [-22.580765, -47.41039], [-22.568962, -47.41431], [-22.576508, -47.40172], [-22.562368, -47.404], [-22.574549, -47.394142], [-22.582514, -47.39918], [-22.574549, -47.394142], [-22.566805, -47.405514], [-19.864061, -44.60377], [-19.86263, -44.61181], [-19.86481, -44.604733], [-19.864645, -44.604748], [-19.864862, -44.60467], [-22.649635, -50.388004], [-23.675022, -46.73778], [-21.827032, -46.90729], [-21.843777, -46.901722], [-21.848047, -46.897312], [-21.826767, -46.896095], [-21.846405, -46.90378], [-21.841911, -46.901115], [-21.847298, -46.898506], [-21.850151, -46.893497], [-22.731514, -47.678352], [-22.698591, -47.676037], [-22.723661, -47.672073], [-25.465517, -49.245975], [-25.47438, -49.24036], [-23.998968, -46.28096], [-23.992916, -46.277176], [-23.997028, -46.275387], [-23.999428, -46.27827], [-29.680807, -51.461414], [-29.677929, -51.447605], [-29.683807, -51.45074], [-29.696123, -51.48208], [-29.684376, -51.463017], [-29.673607, -51.47349], [-29.68585, -51.461082], [-29.694307, -51.47221], [-29.687695, -51.464077], [-29.685314, -51.461384], [-22.8304, -43.057423], [-22.8251, -43.05114], [-22.824999, -43.05604], [-25.440147, -49.272808], [-25.439466, -49.27335], [-25.438255, -49.27271], [-25.438448, -49.26262], [-23.531584, -46.515896], [-23.529047, -46.51142], [-23.53041, -46.516304], [-20.912268, -49.44792], [-20.908937, -49.45042], [-19.822828, -43.971916], [-19.824936, -43.970592], [-19.82654, -43.971115], [-28.477608, -49.019264], [-28.472847, -48.998592], [-19.889948, -43.91388], [-19.991432, -43.961033], [-23.711103, -46.528446], [-22.832323, -43.34835], [-22.818073, -43.36787], [-22.837645, -43.352097], [-21.360882, -48.07486], [-21.36103, -48.074085], [-21.358356, -48.07219], [-21.362003, -48.06949], [-21.351458, -48.086792], [-21.35819, -48.073055], [-23.216644, -46.87285], [-23.204294, -46.87804], [-23.211061, -46.886223], [-23.20563, -46.8804], [-23.213709, -46.877632], [-23.212091, -46.880096], [-20.8036, -49.361423], [-20.804502, -49.35073], [-20.812164, -49.343933], [-20.808544, -49.35748], [-20.813799, -49.33765], [-20.811232, -49.344494], [-20.806822, -49.35192], [-23.462214, -47.47092], [-23.461388, -47.468246], [-23.462826, -47.468895], [-23.464146, -47.47212], [-23.467714, -47.46291], [-23.46062, -47.478004], [-23.461016, -47.476807], [-25.47958, -49.21782], [-25.500029, -49.211323], [-25.479208, -49.21798], [-23.292063, -51.134438], [-23.288506, -51.126553], [-23.294405, -51.122276], [-28.480745, -49.022522], [-28.4781, -49.02199], [-26.278606, -48.80439], [-26.282024, -48.80491], [-26.28457, -48.775055], [-22.839422, -43.34718], [-22.842754, -43.34607], [-22.840124, -43.349937], [-22.844204, -43.344707], [-22.592854, -47.42448], [-22.613134, -47.422832], [-22.59029, -47.413612], [-22.606789, -47.418568], [-22.604113, -47.422127], [-22.610788, -47.37192], [-21.11262, -44.02082], [-22.73569, -47.667088], [-22.722443, -47.680653], [-22.691065, -47.679028], [-23.48412, -47.45063], [-23.482847, -47.451027], [-23.4799, -47.448975], [-23.479588, -47.443974], [-23.515867, -46.54716], [-26.337824, -48.832413], [-26.338915, -48.838158], [-26.347437, -48.82732], [-26.33834, -48.831326], [-23.527748, -46.796158], [-23.52782, -46.795334], [-23.512747, -47.462234], [-23.206255, -47.309277], [-23.539444, -46.716263], [-23.539438, -46.713474], [-22.703861, -47.29408], [-26.9237, -48.69837], [-23.605358, -46.907833], [-23.612179, -46.894802], [-23.615532, -46.9048], [-23.601988, -46.89934], [-23.615358, -46.89739], [-23.608034, -46.89734], [-23.607502, -46.89615], [-23.573927, -46.650795], [-23.538826, -46.446987], [-23.539515, -46.4417], [-23.5439, -46.443787], [-23.535288, -46.443256], [-23.537287, -46.446346], [-23.536427, -46.44862], [-26.282024, -48.80491], [-26.282541, -48.78666], [-26.288136, -48.776695], [-23.190075, -46.910973], [-23.193752, -46.914253], [-23.179403, -46.920124], [-23.193977, -46.90621], [-23.64696, -46.43525], [-23.648312, -46.436565], [-23.6538, -46.44576], [-23.64981, -46.440884], [-23.647402, -46.430706], [-23.651175, -46.436096], [-23.648094, -46.431625], [-23.64514, -46.439636], [-23.512629, -46.1527], [-23.511805, -46.153145], [-23.512629, -46.1527], [-23.510431, -46.147526], [-23.511805, -46.153145], [-23.507269, -46.1539], [-23.502945, -46.149506], [-23.505068, -46.14588], [-26.970604, -48.71549], [-26.92305, -48.650246], [-26.940062, -48.707157], [-25.465977, -50.62967], [-25.456942, -50.64377], [-25.467363, -50.65779], [-25.478012, -50.650524], [-25.470139, -50.64947], [-25.473698, -50.64985], [-25.469109, -50.635284], [-23.31743, -51.356056], [-23.308321, -51.35545], [-23.601532, -46.643555], [-23.601507, -46.64082], [-18.87772, -48.259903], [-18.887339, -48.248146], [-18.899073, -48.246788], [-18.896212, -48.247963], [-18.884497, -48.263737], [-18.884146, -48.248222], [-18.881401, -48.26125], [-18.906239, -48.257717], [-18.892286, -48.251194], [-18.901081, -48.237106], [-18.886017, -48.254547], [-18.887264, -48.257347], [-18.884085, -48.256535], [-18.899797, -48.25061], [-18.88737, -48.2495], [-23.629576, -46.73996], [-23.624958, -46.748684], [-23.62943, -46.742416], [-23.624168, -46.743793], [-23.629896, -46.73887], [-23.624199, -46.743626], [-23.624168, -46.743793], [-23.312044, -51.161568], [-23.312737, -51.16793], [-23.301777, -51.169006], [-23.311674, -51.16915], [-23.309797, -51.167362], [-23.316263, -51.164013], [-19.837849, -43.968967], [-19.828194, -43.96526], [-19.835154, -43.965317], [-19.835745, -43.966408], [-23.5434, -46.65152], [-23.544855, -46.65335], [-23.5434, -46.65152], [-23.540524, -46.650505], [-23.544088, -46.655552], [-23.54324, -46.657314], [-21.433882, -50.077427], [-21.445702, -50.068207], [-21.43961, -50.078037], [-28.154682, -48.692642], [-28.27149, -48.694885], [-28.218163, -48.669807], [-28.21219, -48.67246], [-28.26682, -48.6889], [-28.21084, -48.705345], [-28.2408, -48.66166], [-23.787388, -46.683014], [-23.779766, -46.69838], [-23.789007, -46.682], [-23.776903, -46.69956], [-23.783123, -46.681473], [-23.787645, -46.68187], [-26.311424, -48.880203], [-26.326931, -48.886574], [-29.87441, -50.473583], [-29.831106, -50.51286], [-29.817465, -50.515472], [-29.832607, -50.519047], [-29.8245, -50.51479], [-29.823656, -50.53123], [-29.876148, -50.430614], [-29.87535, -50.39466], [-23.713364, -46.90966], [-23.713638, -46.908268], [-23.6073, -46.885662], [-23.607372, -46.859116], [-23.60544, -46.85208], [-27.210085, -49.63623], [-27.214146, -49.629154], [-27.217525, -49.644928], [-27.21588, -49.64353], [-27.21391, -49.654503], [-27.208847, -49.639153], [-23.50066, -47.47701], [-23.497496, -47.469204], [-22.884712, -43.271156], [-22.887383, -43.272827], [-22.88335, -43.270355], [-22.88802, -43.268078], [-22.891102, -43.26801], [-22.893131, -43.26935], [-22.884556, -43.264107], [-22.884731, -43.270397], [-22.886614, -43.272747], [-22.920124, -45.458786], [-21.786377, -48.18813], [-21.783072, -48.18523], [-21.795965, -48.18716], [-21.784765, -48.179344], [-21.791868, -48.20824], [-21.797583, -48.175728], [-21.799768, -48.18123], [-21.783903, -48.18124], [-21.681969, -45.269108], [-21.695496, -45.254868], [-21.692114, -45.254627], [-21.701363, -45.251614], [-21.694517, -45.25049], [-21.695671, -45.25523], [-21.682518, -45.26654], [-21.69011, -45.252712], [-21.694021, -45.255608], [-21.72472, -45.262794], [-21.679419, -45.28094], [-21.699753, -45.250053], [-21.686518, -45.261536], [-23.474173, -46.601635], [-23.469175, -46.598392], [-23.469175, -46.598392], [-23.478844, -46.607273], [-14.433784, -49.714577], [-25.492577, -49.275898], [-25.486607, -49.279846], [-23.462952, -46.540092], [-23.46187, -46.53766], [-23.473423, -46.599792], [-23.467016, -46.59725], [-23.474094, -46.600452], [-23.475592, -46.602863], [-23.472548, -46.59888], [-23.475588, -46.60298], [-23.474508, -46.599945], [-27.001722, -48.62752], [-27.005999, -48.611115], [-26.990385, -48.63585], [-26.987154, -48.63591], [-26.988594, -48.634804], [-27.003881, -48.617825], [-26.999643, -48.630936], [-26.99886, -48.62882], [-27.004236, -48.621407], [-26.996504, -48.627266], [-27.00344, -48.619507], [-27.001722, -48.62752], [-27.00722, -48.60763], [-26.990282, -48.636257], [-26.988356, -48.637028], [-26.986835, -48.634056], [-27.001722, -48.62752], [-23.306442, -45.96141], [-23.302225, -45.959957], [-23.309837, -45.96647], [-23.297382, -45.960712], [-23.309109, -45.96614], [-23.541004, -46.57155], [-23.542215, -46.57282], [-7.214758, -35.88469], [-7.221197, -35.886093], [-7.218631, -35.882973], [-7.221706, -35.885807], [-7.2254214, -35.894764], [-7.2157006, -35.901165], [-23.494165, -47.4946], [-23.501993, -47.491035], [-23.499979, -47.508274], [-23.504858, -47.495083], [-23.504421, -47.495228], [-23.498417, -47.496056], [-23.506124, -47.49562], [-23.499523, -47.502083], [-29.519186, -50.778633], [-29.510473, -50.78834], [-29.518044, -50.776325], [-29.513693, -50.781784], [-29.530249, -50.77678], [-23.509954, -46.18611], [-23.512106, -46.182133], [-23.509834, -46.182945], [-23.509628, -46.18482], [-23.517126, -46.190666], [-23.515585, -46.196297], [-23.50879, -46.183945], [-23.51327, -46.192192], [-23.509647, -46.183403], [-23.50657, -46.772484], [-23.505396, -46.774857], [-23.509165, -46.771763], [-23.50716, -46.773308], [-23.322615, -51.16022], [-23.316563, -51.1598], [-23.31442, -51.15346], [-23.310682, -51.15771], [-23.322762, -51.158894], [-23.313368, -51.160225], [-23.325552, -51.15259], [-23.31656, -51.160652], [-23.319126, -51.1576], [-23.316507, -51.160732], [-23.315393, -51.15565], [-25.478735, -49.298347], [-25.480812, -49.301], [-25.477085, -49.294605], [-25.48187, -49.306965], [-25.476643, -49.301514], [-23.522123, -46.197304], [-23.522108, -46.190796], [-23.522415, -46.194332], [-23.520197, -46.189045], [-23.524094, -46.192543], [-23.527275, -46.195904], [-23.520197, -46.189045], [-23.52353, -46.19658], [-29.756872, -57.077557], [-29.763891, -57.072266], [-29.763887, -57.088013], [-29.763891, -57.072266], [-29.775852, -57.082924], [-29.764986, -57.079872], [-29.758307, -57.073513], [-23.526655, -46.48337], [-20.549623, -48.56751], [-20.556963, -48.562103], [-20.559963, -48.565998], [-20.563114, -48.570698], [-20.560234, -48.564724], [-20.548517, -48.583996], [-20.557402, -48.57375], [-20.554102, -48.573353], [-23.078955, -47.207836], [-23.086842, -47.217766], [-23.08058, -47.21234], [-23.094507, -47.22362], [-23.08821, -47.222637], [-23.088747, -47.221695], [-23.088852, -47.21732], [-23.08411, -47.212784], [-23.090488, -47.221405], [-23.08565, -47.213326], [-23.07432, -47.20528], [-23.081003, -47.222637], [-24.017752, -46.442528], [-24.013708, -46.432266], [-24.013279, -46.44282], [-24.013126, -46.424637], [-24.013166, -46.425495], [-24.01419, -46.443077], [-24.013262, -46.43158], [-24.010412, -46.43313], [-24.011608, -46.44134], [-24.012962, -46.433357], [-24.0131, -46.437737], [-24.018082, -46.448524], [-24.016514, -46.438564], [-26.711731, -48.90793], [-19.859686, -43.94718], [-19.875828, -43.95374], [-19.874496, -43.9553], [-19.877237, -43.95426], [-19.863148, -43.947594], [-19.874277, -43.95867], [-19.863688, -43.94339], [-19.871782, -43.954113], [-23.472712, -46.600235], [-22.805904, -43.203243], [-22.80475, -43.207355], [-22.804865, -43.208363], [-22.80013, -43.206993], [-22.815931, -43.195732], [-22.813007, -43.190426], [-22.799435, -43.210617], [-22.817257, -43.18895], [-22.801876, -43.20958], [-22.80586, -43.194874], [-22.804865, -43.208363], [-22.805187, -43.207558], [-23.554281, -46.61324], [-24.70732, -53.747227], [-24.711836, -53.74299], [-22.217184, -49.945007], [-22.215294, -49.944317], [-22.207634, -49.951935], [-18.961119, -48.221825], [-18.959496, -48.22501], [-18.94203, -48.24039], [-18.948969, -48.24893], [-18.953108, -48.24657], [-18.95974, -48.228336], [-18.95065, -48.245644], [-18.959959, -48.223946], [-18.948536, -48.233433], [-18.957327, -48.249493], [-16.565746, -45.989574], [-21.848463, -46.563637], [-21.79926, -46.50504], [-21.857603, -46.568535], [-21.848633, -46.565308], [-21.822643, -46.55988], [-21.852547, -46.566673], [-30.010286, -51.20377], [-30.007196, -51.207703], [-30.003645, -51.20761], [-30.005453, -51.204], [-30.004066, -51.20494], [-30.010132, -51.19455], [-30.007864, -51.198723], [-30.005854, -51.204716], [-23.199959, -45.908493], [-23.196665, -45.908413], [-23.200779, -45.90822], [-23.200369, -45.90839], [-23.196156, -45.89754], [-23.262926, -46.58865], [-23.321087, -46.592365], [-23.354322, -46.635075], [-23.32089, -46.58673], [-23.32395, -46.58939], [-23.325817, -46.59344], [-23.325598, -46.58318], [-23.309528, -46.584526], [-23.33172, -46.593285], [-23.321651, -46.585785], [-23.329914, -46.60979], [-23.32156, -46.58824], [-23.406992, -46.62557], [-23.318287, -46.585743], [-23.325342, -46.587074], [-23.322054, -46.586357], [-23.385588, -46.633385], [-23.325354, -46.586006], [-21.855343, -46.564598], [-21.853817, -46.565945], [-21.846186, -46.56531], [-21.84286, -46.57758], [-21.786951, -48.190315], [-21.790945, -48.182648], [-21.798727, -48.19134], [-21.791868, -48.20824], [-21.789213, -48.184547], [-21.79202, -48.20526], [-21.78295, -48.17584], [-21.793371, -48.208527], [-21.78492, -48.187237], [-21.794428, -48.193607], [-21.798138, -48.17303], [-21.797583, -48.175728], [-21.795815, -48.174988], [-21.787567, -48.204258], [-21.78644, -48.185287], [-23.694103, -46.53224], [-23.423983, -51.923763], [-23.441872, -51.912544], [-23.423723, -51.91783], [-23.42566, -51.924374], [-23.430922, -51.90596], [-23.424496, -51.91563], [-23.424185, -51.92558], [-23.437088, -51.91362], [-23.428108, -51.925945], [-23.423712, -51.924538], [-23.425003, -51.925842], [-23.424349, -51.920956], [-23.428108, -51.925945], [-23.427479, -51.924664], [-23.426718, -51.924553], [-23.424599, -51.927048], [-23.436794, -51.911156], [-26.218859, -52.673153], [-26.225323, -52.67469], [-26.227829, -52.6722], [-26.226912, -52.670223], [-26.223452, -52.67566], [-26.221401, -52.67581], [-25.439068, -49.33303], [-25.43691, -49.32004], [-25.43691, -49.32201], [-25.43755, -49.32734], [-25.4378, -49.341022], [-25.437864, -49.32147], [-25.436167, -49.32333], [-25.481754, -49.31577], [-25.478209, -49.31233], [-25.481754, -49.31577], [-20.422886, -49.97553], [-20.426447, -49.974926], [-23.603432, -46.621014], [-23.602844, -46.620884], [-23.596928, -46.634064], [-23.60389, -46.62104], [-23.597063, -46.63075], [-23.60389, -46.62104], [-20.067753, -44.566643], [-20.08651, -44.579178], [-20.094883, -44.563873], [-20.067678, -44.561153], [-20.086704, -44.57531], [-20.08969, -44.58383], [-20.083822, -44.565872], [-20.065624, -44.581764], [-20.094645, -44.58484], [-20.079182, -44.578014], [-20.071333, -44.571312], [-20.087198, -44.56824], [-21.69686, -45.252823], [-21.684671, -45.25023], [-21.687725, -45.264164], [-21.70177, -45.26316], [-21.675379, -45.266617], [-21.691704, -45.241825], [-21.684984, -45.253307], [-21.697733, -45.253544], [-21.693031, -45.248722], [-21.716278, -45.266926], [-23.52655, -46.198696], [-23.526012, -46.205536], [-23.523603, -46.19659], [-23.52121, -46.193436], [-23.527891, -46.19835], [-23.524054, -46.193314], [-23.522243, -46.192482], [-23.534351, -46.21832], [-23.522236, -46.19122], [-25.45815, -49.218956], [-25.456898, -49.219692], [-25.464449, -49.21633], [-23.508265, -47.46584], [-23.508265, -47.46584], [-23.508537, -47.47374], [-22.515417, -48.562366], [-22.52516, -48.569206], [-27.095205, -48.919544], [-27.096823, -48.914864], [-23.413303, -46.448803], [-23.413027, -46.44946], [-25.495718, -49.28607], [-25.482075, -49.29087], [-25.489769, -49.28805], [-25.47991, -49.282322], [-25.486078, -49.288933], [-19.861217, -43.946583], [-19.865099, -43.948048], [-19.863636, -43.943443], [-19.872797, -43.954136], [-19.881258, -43.96258], [-4.0006533, -38.622185], [-23.615364, -46.665844], [-23.744095, -46.70675], [-23.744095, -46.70675], [-23.7441, -46.70675], [-23.743467, -46.706566], [-23.424185, -51.92558], [-23.424599, -51.927048], [-23.425879, -51.91184], [-23.44908, -51.912605], [-23.428108, -51.925945], [-23.427057, -51.922703], [-23.423141, -51.92576], [-22.508057, -44.1327], [-22.510187, -44.128574], [-22.511421, -44.127907], [-23.75335, -46.55744], [-23.738802, -46.558258], [-23.742031, -46.554535], [-23.742031, -46.554535], [-23.73911, -46.55056], [-23.74222, -46.554623], [-23.74786, -46.55107], [-23.74786, -46.55107], [-23.477057, -46.583874], [-28.208433, -48.70553], [-28.193804, -48.665253], [-28.262426, -48.70021], [-28.237291, -48.66317], [-28.262716, -48.687958], [-23.314886, -51.134487], [-25.440351, -49.337585], [-25.439577, -49.33531], [-25.434397, -49.32533], [-25.43541, -49.3281], [-25.436499, -49.32446], [-25.440384, -49.345806], [-25.43676, -49.333374], [-25.43691, -49.32004], [-25.43676, -49.333374], [-25.438412, -49.333], [-27.672499, -48.675945], [-27.681248, -48.708374], [-27.683521, -48.710247], [-25.431004, -49.261265], [-25.428263, -49.2619], [-25.430328, -49.25834], [-25.426704, -49.259953], [-25.427727, -49.265144], [-25.42715, -49.2635], [-25.428646, -49.262794], [-25.429798, -49.26379], [-25.430553, -49.26347], [-25.431698, -49.260906], [-25.432472, -49.25848], [-25.425262, -49.260914], [-25.42912, -49.262142], [-23.090624, -47.221626], [-23.089035, -47.21442], [-23.0875, -47.21645], [-23.088861, -47.219517], [-23.094507, -47.22362], [-25.431898, -49.300224], [-25.42838, -49.297226], [-23.507305, -47.465225], [-23.50633, -47.467518], [-23.506752, -47.470592], [-23.505459, -47.470512], [-23.505924, -47.47157], [-23.505762, -47.469532], [-23.504368, -47.466156], [-23.652916, -46.76819], [-23.648252, -46.765675], [-23.648613, -46.76848], [-23.654821, -46.767624], [-23.652802, -46.768284], [-23.652456, -46.7657], [-23.652191, -46.768833], [-23.650816, -46.76781], [-23.648613, -46.76848], [-23.648613, -46.76848], [-22.421246, -42.97732], [-22.412056, -42.9804], [-22.41891, -42.972645], [-22.417757, -42.97784], [-22.413628, -42.971394], [-22.418095, -42.978508], [-22.423903, -42.976166], [-22.411917, -42.980503], [-22.415047, -42.971375], [-22.418283, -42.973743], [-22.421246, -42.97732], [-22.415993, -42.97707], [-23.089634, -47.218697], [-23.09024, -47.223896], [-23.08878, -47.22227], [-23.087622, -47.214634], [-23.083784, -47.216797], [-23.083344, -47.22291], [-23.086, -47.215744], [-23.447115, -46.517273], [-23.445307, -46.519333], [-22.97814, -43.49266], [-22.9896, -43.465298], [-22.99098, -43.499386], [-22.977795, -43.49074], [-22.991549, -43.49673], [-23.455803, -46.5384], [-21.776976, -48.20786], [-21.770752, -48.201534], [-22.76951, -43.38225], [-22.770363, -43.388107], [-22.768326, -43.381332], [-22.781988, -43.384945], [-23.555296, -46.52116], [-23.557516, -46.52373], [-23.54369, -46.63209], [-23.53441, -51.671486], [-23.529531, -51.670208], [-23.529839, -51.670597], [-23.530235, -51.670094], [-23.516083, -51.68691], [-23.512518, -51.680893], [-25.48006, -49.29682], [-25.477497, -49.300022], [-25.474483, -49.295387], [-23.445429, -51.91489], [-23.429853, -51.91527], [-23.429548, -51.916206], [-23.426142, -51.925316], [-23.424599, -51.927048], [-23.424988, -51.91805], [-22.293396, -46.617302], [-22.291668, -46.61624], [-22.278103, -46.605087], [-22.285915, -46.61129], [-22.288607, -46.617455], [-22.284414, -46.56874], [-23.289574, -51.27572], [-23.279713, -51.26395], [-20.063417, -44.57144], [-20.069557, -44.561356], [-20.07755, -44.577625], [-20.082127, -44.5733], [-26.988415, -48.6355], [-26.999697, -48.63514], [-26.981112, -48.634613], [-26.991169, -48.640995], [-26.982607, -48.637985], [-26.99769, -48.632607], [-26.99139, -48.631287], [-26.978243, -48.635765], [-26.97708, -48.63862], [-26.999697, -48.63514], [-26.980698, -48.63635], [-27.003944, -48.621014], [-26.997225, -48.626823], [-27.000822, -48.622818], [-26.981777, -48.637325], [-27.001722, -48.62752], [-26.99079, -48.641186], [-27.001093, -48.622242], [-27.001127, -48.629753], [-27.002666, -48.622555], [-26.99002, -48.638546], [-27.591679, -48.512295], [-27.589802, -48.50462], [-26.236189, -52.675735], [-26.22722, -52.67615], [-26.224554, -52.673077], [-26.22577, -52.67427], [-26.226715, -52.672333], [-26.224335, -52.67393], [-26.221401, -52.67581], [-26.225636, -52.67708], [-23.694818, -46.531693], [-23.694242, -46.530243], [-23.699776, -46.52961], [-22.87119, -48.43034], [-21.185991, -47.77743], [-21.174103, -47.79113], [-21.179684, -47.798397], [-21.181047, -47.78148], [-21.178232, -47.78945], [-21.188818, -47.77801], [-27.0977, -48.9105], [-27.0977, -48.9105], [-27.097738, -48.916946], [-20.28156, -50.235104], [-23.52372, -46.195766], [-23.527119, -46.197582], [-23.522099, -46.190704], [-23.5273, -46.19675], [-23.52615, -46.197945], [-23.52695, -46.19871], [-23.613377, -46.663788], [-23.606562, -46.657352], [-23.263908, -47.316814], [-23.2579, -47.31892], [-23.2579, -47.31892], [-23.261131, -47.32032], [-28.677755, -49.37291], [-28.679184, -49.376446], [-28.675564, -49.366074], [-28.675564, -49.366074], [-28.679352, -49.36292], [-28.675999, -49.374596], [-28.675728, -49.37032], [-28.673779, -49.373146], [-25.433624, -49.263363], [-25.426554, -49.259754], [-25.422411, -49.264114], [-25.431004, -49.261265], [-25.43264, -49.26327], [-25.43031, -49.261112], [-22.028032, -47.873535], [-22.035332, -47.877254], [-22.030457, -47.87903], [-22.027544, -47.89039], [-22.027166, -47.879665], [-22.037088, -47.881134], [-21.11643, -42.934578], [-25.4114, -49.35001], [-25.403938, -49.335464], [-23.522802, -46.195724], [-23.521694, -46.192997], [-23.52293, -46.193718], [-23.527119, -46.197582], [-28.289162, -54.25908], [-28.285913, -54.25926], [-23.552721, -46.523094], [-23.6761, -46.454502], [-23.681576, -46.45659], [-23.685116, -46.457424], [-23.682667, -46.45411], [-23.691977, -46.452656], [-23.68797, -46.45183], [-23.68989, -46.45173], [-25.394272, -49.229046], [-25.394127, -49.228935], [-25.393038, -49.227173], [-25.391653, -49.22511], [-25.405964, -49.233463], [-23.25374, -45.828583], [-23.241385, -45.822586], [-23.442997, -47.458107], [-23.4511, -47.383606], [-23.44149, -47.36863], [-23.4511, -47.383606], [-23.448826, -47.366653], [-23.478584, -47.407677], [-23.470898, -47.414654], [-23.447586, -47.458237], [-23.633795, -46.75891], [-23.62938, -46.75994], [-23.631422, -46.759285], [-23.631334, -46.75946], [-25.433664, -49.30457], [-25.429321, -49.298443], [-25.43343, -49.303993], [-23.755419, -45.90236], [-23.846, -46.139965], [-23.805393, -46.03376], [-23.80305, -46.027363], [-23.82612, -46.114326], [-23.83634, -46.13772], [-23.84207, -46.131157], [-23.787153, -46.002357], [-23.833023, -46.12188], [-23.763952, -45.903122], [-23.766521, -45.922028], [-23.832027, -46.134842], [-23.842363, -46.13505], [-23.841944, -46.1412], [-23.84878, -46.134857], [-23.832432, -46.116913], [-23.824661, -46.12514], [-23.816486, -46.09445], [-19.868053, -43.944286], [-19.865456, -43.94521], [-19.874266, -43.953064], [-19.86128, -43.94947], [-26.988892, -48.630444], [-26.996204, -48.63821], [-26.997131, -48.642506], [-27.000822, -48.622818], [-27.00344, -48.619507], [-26.995544, -48.640305], [-26.983667, -48.637035], [-26.988754, -48.633297], [-26.976309, -48.635445], [-26.976582, -48.637222], [-27.001669, -48.626923], [-26.996088, -48.639908], [-26.999865, -48.622124], [-26.99139, -48.63359], [-26.98807, -48.631325], [-26.996204, -48.63821], [-26.98225, -48.634422], [-26.990282, -48.636257], [-26.990385, -48.63585], [-26.996525, -48.625736], [-26.99391, -48.633034], [-26.988182, -48.637436], [-27.004639, -48.6228], [-27.002064, -48.62569], [-26.977135, -48.636772], [-26.976675, -48.637314], [-26.984571, -48.635628], [-25.4348, -49.312645], [-22.028704, -47.87327], [-22.030361, -47.89041], [-22.034155, -47.875103], [-22.781807, -43.30731], [-22.787914, -43.306416], [-22.777412, -43.303], [-22.786377, -43.3028], [-22.785812, -43.308044], [-22.786642, -43.304733], [-22.781078, -43.299244], [-22.721004, -47.178688], [-22.752062, -47.17702], [-22.722046, -47.182526], [-22.714205, -47.170338], [-22.737047, -47.184586], [-22.737673, -47.176], [-22.747227, -47.17105], [-22.745255, -47.174904], [-22.748259, -47.17725], [-20.413774, -49.985485], [-20.422968, -49.981297], [-20.413658, -49.980865], [-20.415926, -49.9905], [-20.427876, -49.98491], [-20.40482, -49.98702], [-24.717129, -53.745506], [-24.700344, -53.765285], [-24.7117, -53.746094], [-24.71351, -53.74245], [-24.697365, -53.76527], [-23.533955, -46.676018], [-23.53803, -46.669857], [-3.73385, -38.53067], [-3.7365942, -38.53259], [-22.734064, -47.185074], [-22.75574, -47.168873], [-22.720442, -47.17334], [-22.72237, -47.17683], [-22.713387, -47.16916], [-22.751965, -47.17563], [-22.719995, -47.176655], [-22.748259, -47.17725], [-21.176958, -47.796986], [-21.182062, -47.789944], [-21.18256, -47.777885], [-21.179882, -47.78553], [-21.181047, -47.78148], [-21.177876, -47.78639], [-21.184532, -47.79544], [-22.975906, -43.189632], [-22.972015, -43.191742], [-22.972914, -43.19224], [-22.975735, -43.19179], [-22.9759, -43.190506], [-22.973019, -43.192226], [-22.975735, -43.19179], [-22.97487, -43.193157], [-22.9752, -43.193398], [-25.428938, -49.294254], [-25.42385, -49.29692], [-25.421791, -49.294353], [-25.419363, -49.29706], [-25.462385, -49.217342], [-25.45996, -49.217022], [-20.423222, -49.984703], [-20.42084, -49.9807], [-20.410614, -49.992466], [-20.407438, -49.989212], [-20.412977, -49.980984], [-20.412304, -49.985237], [-23.540182, -46.63954], [-23.311026, -46.57399], [-23.387175, -46.644096], [-23.316833, -46.574966], [-23.330553, -46.59079], [-23.313992, -46.586933], [-23.319822, -46.590363], [-23.325817, -46.59344], [-23.318577, -46.575245], [-23.405743, -46.640934], [-23.309528, -46.584526], [-23.302975, -46.583027], [-23.311941, -46.574436], [-23.387175, -46.644096], [-23.35126, -46.549187], [-23.3865, -46.65103], [-23.706013, -46.586666], [-23.719671, -46.575825], [-23.715378, -46.579], [-23.719606, -46.57498], [-23.716404, -46.580463], [-23.695011, -46.581924], [-23.470081, -46.339497], [-23.47143, -46.34358], [-23.682709, -46.45677], [-23.685804, -46.45511], [-23.688496, -46.460327], [-23.678078, -46.454323], [-23.678776, -46.459656], [-23.685947, -46.453712], [-23.692507, -46.453777], [-23.683075, -46.45788], [-23.68797, -46.45183], [-23.678799, -46.459476], [-23.686363, -46.462006], [-23.691082, -46.453], [-30.001184, -51.20026], [-30.002945, -51.20557], [-30.005453, -51.204], [-30.014257, -51.19429], [-30.003351, -51.190075], [-22.210497, -49.93895], [-22.207613, -49.94222], [-22.213161, -49.939503], [-22.210947, -49.943645], [-23.129572, -47.226532], [-23.123007, -47.22376], [-23.13266, -47.22276], [-23.079992, -47.219906], [-23.086004, -47.216923], [-23.084959, -47.214745], [-23.086105, -47.21706], [-23.083063, -47.220596], [-23.08058, -47.21234], [-23.08799, -47.215256], [-23.093842, -47.222527], [-23.460981, -46.562813], [-23.310894, -51.160324], [-23.31544, -51.15838], [-23.312849, -51.156296], [-23.326897, -51.158165], [-23.32555, -51.160004], [-23.313833, -51.161423], [-23.314896, -51.15383], [-23.323463, -51.153805], [-23.310783, -51.156372], [-21.179901, -47.796997], [-21.180607, -47.77848], [-21.184923, -47.78588], [-21.184427, -47.789158], [-21.180225, -47.785786], [-21.184532, -47.79544], [-21.179619, -47.786686], [-21.177452, -47.795834], [-25.393835, -49.232555], [-25.48187, -49.306965], [-25.475634, -49.30816], [-25.478996, -49.306812], [-25.563066, -49.31413], [-19.875639, -43.952534], [-19.869394, -43.948948], [-19.874496, -43.9553], [-19.862082, -43.94737], [-23.607597, -46.61268], [-18.944143, -48.234367], [-18.916565, -48.252945], [-18.918356, -48.248672], [-18.915333, -48.22782], [-18.919785, -48.250713], [-18.93342, -48.22509], [-18.944357, -48.23462], [-18.940697, -48.23853], [-18.917763, -48.263767], [-18.918518, -48.262268], [-18.928904, -48.26466], [-18.914804, -48.26172], [-18.92354, -48.268555], [-18.934536, -48.240704], [-18.921556, -48.255093], [-18.918528, -48.262344], [-18.925682, -48.253544], [-18.9229, -48.267357], [-18.92672, -48.264484], [-18.912996, -48.246918], [-18.914865, -48.261055], [-18.930857, -48.247726], [-18.913437, -48.227646], [-18.930347, -48.238785], [-18.914528, -48.249046], [-19.851906, -44.025837], [-19.852148, -44.02976], [-19.850943, -44.031708], [-19.852184, -44.02656], [-23.522415, -46.194332], [-23.522898, -46.19572], [-23.522394, -46.1891], [-23.522518, -46.19575], [-23.606209, -46.49525], [-23.603876, -46.487198], [-23.606344, -46.49588], [-29.723566, -51.121], [-29.690285, -53.740032], [-29.700562, -53.709175], [-29.699188, -53.73819], [-29.690304, -53.74003], [-25.512445, -54.58047], [-27.696075, -48.690807], [-27.680386, -48.7088], [-27.681602, -48.710835], [-27.694923, -48.68148], [-21.68386, -45.26098], [-21.714691, -45.270943], [-21.68647, -45.246376], [-21.68696, -45.26532], [-21.701681, -45.265385], [-21.69382, -45.25839], [-21.67521, -45.2667], [-23.305979, -45.966232], [-23.303953, -45.96044], [-23.309109, -45.96614], [-23.30886, -45.966854], [-21.20468, -50.40623], [-22.526329, -48.565674], [-22.50888, -48.55782], [-22.524284, -48.56602], [-18.777235, -42.939503], [-18.781002, -42.932766], [-18.77066, -42.926907], [-18.780209, -42.943237], [-18.772493, -42.93205], [-18.77157, -42.931957], [-18.77246, -42.932163], [-18.774843, -42.938175], [-22.815691, -47.09218], [-22.823368, -47.08801], [-23.487335, -46.698536], [-23.485756, -46.702213], [-22.896713, -43.100906], [-22.89825, -43.10333], [-22.898943, -43.092884], [-22.90571, -43.082047], [-22.8996, -43.097965], [-22.899338, -43.109722], [-22.898943, -43.09268], [-22.896206, -43.104744], [-22.896423, -43.099445], [-22.896109, -43.1073], [-22.897993, -43.09663], [-22.89795, -43.103], [-22.89897, -43.10679], [-23.441872, -51.912544], [-23.450417, -51.919346], [-23.425383, -51.92754], [-23.424496, -51.91563], [-23.427479, -51.924664], [-23.422295, -51.92201], [-20.71113, -47.875694], [-20.718372, -47.86824], [-20.719185, -47.87744], [-20.705221, -47.90115], [-20.719143, -47.875805], [-20.715834, -47.868126], [-20.72393, -47.873264], [-20.69806, -47.89004], [-20.717497, -47.87691], [-26.990282, -48.636257], [-27.000822, -48.622818], [-26.999697, -48.63514], [-26.985764, -48.633247], [-27.000525, -48.626953], [-26.994003, -48.63609], [-26.99562, -48.643227], [-26.995152, -48.63164], [-26.98915, -48.631615], [-26.978243, -48.635765], [-26.99104, -48.63377], [-26.995287, -48.63079], [-27.00498, -48.60297], [-26.98951, -48.636185], [-26.99562, -48.643227], [-26.99104, -48.63377], [-26.978386, -48.63733], [-26.97846, -48.635242], [-27.001722, -48.62752], [-26.987286, -48.639057], [-26.99391, -48.633034], [-27.684174, -48.709232], [-27.681034, -48.712566], [-27.679663, -48.706425], [-27.696243, -48.664436], [-27.673182, -48.680927], [-23.65814, -46.541286], [-23.66007, -46.542744], [-23.64401, -46.537216], [-23.65219, -46.532616], [-23.650139, -46.541344], [-23.657923, -46.539177], [-23.65219, -46.532616], [-23.658056, -46.539276], [-23.653107, -46.535427], [-21.789965, -48.179012], [-21.798862, -48.187614], [-21.79073, -48.181854], [-21.791101, -48.17249], [-21.782953, -48.188786], [-21.791101, -48.17249], [-21.786715, -48.179348], [-21.792873, -48.18432], [-21.799768, -48.18123], [-21.792269, -48.20648], [-21.7801, -48.179947], [-21.786707, -48.189537], [-21.786676, -48.175358], [-23.683617, -46.514427], [-23.67295, -46.518147], [-23.685879, -46.517105], [-23.689344, -46.5125], [-20.555151, -48.58446], [-20.552452, -48.57258], [-20.552168, -48.577515], [-20.565779, -48.570087], [-20.564182, -48.56647], [-20.55942, -48.56215], [-20.561016, -48.567417], [-20.554201, -48.573246], [-20.561459, -48.567158], [-20.558352, -48.571632], [-20.563498, -48.564693], [-20.55921, -48.567287], [-26.96065, -52.53383], [-26.951857, -52.53415], [-26.96952, -52.5344], [-26.960888, -52.52308], [-27.218431, -49.644993], [-27.216633, -49.646893], [-27.209812, -49.63292], [-27.21092, -49.631607], [-27.215353, -49.63739], [-27.218304, -49.64535], [-27.21092, -49.631607], [-3.1367457, -60.02357], [-3.1356227, -60.023468], [-23.428108, -51.925945], [-23.425383, -51.92754], [-23.429615, -51.92429], [-23.427057, -51.922703], [-23.44161, -51.91499], [-23.437975, -51.91386], [-23.422083, -51.922604], [-23.127983, -47.22206], [-23.1434, -47.237484], [-23.140642, -47.233192], [-23.13452, -47.231228], [-22.57121, -48.158882], [-29.685726, -53.855625], [-29.704342, -53.707005], [-29.692093, -53.73885], [-29.699846, -53.737686], [-29.699081, -53.71824], [-14.216573, -42.790646], [-14.225026, -42.776207], [-14.228835, -42.75794], [-14.216404, -42.773945], [-14.225555, -42.785404], [-14.2257395, -42.767742], [-14.212507, -42.7864], [-14.217846, -42.774155], [-14.214734, -42.77097], [-25.494694, -49.279003], [-25.49991, -49.284096], [-25.482344, -49.288025], [-21.176445, -47.79615], [-21.173004, -47.787003], [-21.17529, -47.78959], [-21.189222, -47.777435], [-21.18503, -47.789814], [-21.17912, -47.787125], [-21.179388, -47.79006], [-21.180498, -47.780807], [-21.18124, -47.798656], [-21.17932, -47.793682], [-21.18307, -47.787556], [-21.181164, -47.79259], [-23.619965, -46.55484], [-23.625113, -46.55668], [-21.178648, -47.801575], [-21.175571, -47.81044], [-21.182718, -47.805687], [-21.179207, -47.81194], [-21.178757, -47.80624], [-23.528507, -46.72797], [-23.181341, -50.6434], [-23.17806, -50.660828], [-23.179226, -50.646473], [-23.175615, -50.64914], [-23.17862, -50.644264], [-23.172981, -50.63509], [-23.17719, -50.63223], [-23.173744, -50.634563], [-23.174541, -50.62781], [-23.18689, -50.64828], [-23.424496, -51.91563], [-23.427029, -51.920063], [-23.423752, -51.924423], [-23.436737, -51.913643], [-23.43671, -51.913635], [-23.427479, -51.924664], [-23.437088, -51.91362], [-23.437975, -51.91386], [-23.428267, -51.908615], [-22.594671, -47.374405], [-22.588491, -47.376472], [-23.473387, -46.64749], [-23.473957, -46.64593], [-23.475327, -46.64654], [-21.435837, -50.077087], [-22.359056, -46.95005], [-22.358288, -46.945137], [-22.349457, -46.952564], [-22.201527, -49.972324], [-22.73976, -47.647175], [-22.753948, -47.644917], [-25.43792, -49.33474], [-25.441185, -49.344944], [-25.435755, -49.327198], [-25.440351, -49.337585], [-25.436243, -49.32998], [-25.43542, -49.3281], [-25.474483, -49.295387], [-25.563013, -49.31477], [-25.475634, -49.30816], [-25.481205, -49.301476], [-25.481205, -49.301476], [-21.172026, -47.79128], [-21.18649, -47.775814], [-21.186037, -47.775486], [-21.183851, -47.79601], [-21.176958, -47.796986], [-21.179619, -47.786686], [-23.425398, -51.92247], [-23.436794, -51.911156], [-23.436737, -51.913643], [-23.428108, -51.925945], [-23.427313, -51.908215], [-23.42067, -51.92735], [-23.424719, -51.9181], [-23.50644, -46.771366], [-29.632267, -51.012043], [-29.6284, -50.992855], [-29.64258, -50.99799], [-29.638271, -51.004364], [-29.63422, -51.005028], [-29.640306, -51.00138], [-19.853554, -43.99389], [-19.867321, -44.001797], [-19.872917, -44.003426], [-19.873259, -44.00321], [-19.851175, -43.992054], [-23.320923, -51.152092], [-23.321913, -51.1565], [-23.315493, -51.157135], [-23.322168, -51.15894], [-23.31551, -51.16257], [-23.321917, -51.154713], [-23.311935, -51.15577], [-23.314896, -51.15383], [-23.319216, -51.161503], [-23.521624, -46.373688], [-22.93353, -43.18584], [-22.938383, -43.191586], [-22.93288, -43.18373], [-22.938383, -43.191586], [-22.933693, -43.186237], [-22.935614, -43.186333], [-22.938383, -43.191586], [-23.316822, -51.152554], [-23.323084, -51.14882], [-23.314734, -51.156372], [-23.313368, -51.160225], [-23.325552, -51.15259], [-23.321917, -51.154713], [-23.32087, -51.162373], [-23.314283, -51.15054], [-23.313334, -51.158184], [-23.31086, -51.15805], [-23.32368, -51.160133], [-23.32599, -51.15095], [-22.36555, -46.947235], [-22.363302, -46.946964], [-22.364004, -46.94564], [-22.353413, -46.951767], [-20.951385, -41.346783], [-8.050472, -34.898396], [-8.049226, -34.901608], [-8.047889, -34.89796], [-15.84225, -47.975307], [-15.840689, -47.970646], [-16.765652, -49.34496], [-22.288576, -46.61462], [-22.285261, -46.61044], [-22.285915, -46.61129], [-22.300482, -46.620567], [-22.2871, -46.614822], [-22.285835, -46.616596], [-22.29477, -46.6185], [-25.44691, -49.220695], [-25.445969, -49.22212]],\n",
       "                {&quot;blur&quot;: 15, &quot;maxZoom&quot;: 18, &quot;minOpacity&quot;: 0.5, &quot;radius&quot;: 25}\n",
       "            );\n",
       "        \n",
       "    \n",
       "            heat_map_66f4cfa9009783d191429f2a5152e4f6.addTo(map_9e82d8ce41dba36be8bf7e73f61f89fe);\n",
       "        \n",
       "&lt;/script&gt;\n",
       "&lt;/html&gt;\" style=\"position:absolute;width:100%;height:100%;left:0;top:0;border:none !important;\" allowfullscreen webkitallowfullscreen mozallowfullscreen></iframe></div></div>"
      ],
      "text/plain": [
       "<folium.folium.Map at 0x194b9c98b60>"
      ]
     },
     "execution_count": 35,
     "metadata": {},
     "output_type": "execute_result"
    }
   ],
   "source": [
    "mapa = folium.Map(\n",
    "    location=[-23.5489, -46.6388],\n",
    "    zoom_start=4\n",
    ")\n",
    "\n",
    "HeatMap(list(zip(lat_list, lng_list))).add_to(mapa)\n",
    "\n",
    "mapa"
   ]
  },
  {
   "cell_type": "markdown",
   "id": "52101b51",
   "metadata": {},
   "source": [
    "## Exercício 1\n",
    "\n",
    "Identifique, na base olist.order_item, quais são os 20 produtos com mais vendas (valor total). Exiba um DataFrame contendo as informações do product_id e valor total faturado"
   ]
  },
  {
   "cell_type": "code",
   "execution_count": null,
   "id": "1d620ccb",
   "metadata": {},
   "outputs": [],
   "source": [
    "sql = \"\"\"\n",
    " -- Sua query aqui\n",
    " \"\"\"\n",
    "\n",
    "df_top20 = get_pandas_df(sql)\n",
    "df_top20"
   ]
  },
  {
   "cell_type": "markdown",
   "id": "7ae78660",
   "metadata": {},
   "source": [
    "## Exercício 2\n",
    "\n",
    "Exiba as informações do Exercício 1 em um gráfico de barras"
   ]
  },
  {
   "cell_type": "code",
   "execution_count": null,
   "id": "5e5e4604",
   "metadata": {},
   "outputs": [],
   "source": []
  },
  {
   "cell_type": "markdown",
   "id": "dfca3245",
   "metadata": {},
   "source": [
    "## Exercício 3\n",
    "\n",
    "Na base de ordens (`olist.order`), quais são os possíveis status para as compras?"
   ]
  },
  {
   "cell_type": "code",
   "execution_count": null,
   "id": "07513544",
   "metadata": {},
   "outputs": [],
   "source": []
  },
  {
   "cell_type": "markdown",
   "id": "21d54a4a",
   "metadata": {},
   "source": [
    "## Exercício 4\n",
    "\n",
    "Realize uma alteração na query do Exercício 1 para considerar apenas ordens com status entregue. Exiba um DataFrame e também um gráfico de barras"
   ]
  },
  {
   "cell_type": "code",
   "execution_count": null,
   "id": "eef0356f",
   "metadata": {},
   "outputs": [],
   "source": []
  },
  {
   "cell_type": "code",
   "execution_count": null,
   "id": "ecdfb5d0",
   "metadata": {},
   "outputs": [],
   "source": []
  },
  {
   "cell_type": "markdown",
   "id": "000caff4",
   "metadata": {},
   "source": [
    "## Exercício 5\n",
    "\n",
    "Considere apenas ordens com status entregue e sellers de SP. Encontre os top 5 produtos com maior faturamento (retorne o product_id e o faturamento total). Exiba um DataFrame e também um gráfico de barras"
   ]
  },
  {
   "cell_type": "code",
   "execution_count": null,
   "id": "fb538184",
   "metadata": {},
   "outputs": [],
   "source": []
  },
  {
   "cell_type": "markdown",
   "id": "ef0fb562",
   "metadata": {},
   "source": [
    "## Exercício 6\n",
    "\n",
    "Considere apenas ordens com status entregue. Crie uma query SQL que calcule o faturamento mensal da olist em 2017. Exiba o DataFrame e um gráfico de linhas.\n",
    "\n",
    "Dicas:\n",
    "- Utilize `date_part` no SQL para extrair mês e ano https://www.postgresql.org/docs/13/functions-datetime.html\n",
    "- px.line https://plotly.com/python/line-charts/"
   ]
  },
  {
   "cell_type": "code",
   "execution_count": null,
   "id": "44363dcd",
   "metadata": {},
   "outputs": [],
   "source": []
  },
  {
   "cell_type": "code",
   "execution_count": null,
   "id": "479e2191",
   "metadata": {},
   "outputs": [],
   "source": []
  },
  {
   "cell_type": "code",
   "execution_count": null,
   "id": "b5039045",
   "metadata": {},
   "outputs": [],
   "source": []
  },
  {
   "cell_type": "markdown",
   "id": "d66709c7",
   "metadata": {},
   "source": [
    "## Exercício 7\n",
    "\n",
    "Considere apenas ordens com status entregue. Crie uma query SQL que calcule o faturamento mensal da olist em 2017 por UF do seller. Exiba o DataFrame (contento colunas de mês, UF e faturamento), além de um gráfico de linhas\n",
    "\n",
    "Dicas:\n",
    "- Utilize date_part no SQL para extrair mês e ano https://www.postgresql.org/docs/13/functions-datetime.html\n",
    "- px.line https://plotly.com/python/line-charts/"
   ]
  },
  {
   "cell_type": "code",
   "execution_count": null,
   "id": "2f3c2562",
   "metadata": {},
   "outputs": [],
   "source": []
  },
  {
   "cell_type": "code",
   "execution_count": null,
   "id": "ac3d27da",
   "metadata": {},
   "outputs": [],
   "source": []
  },
  {
   "cell_type": "markdown",
   "id": "2550591a",
   "metadata": {},
   "source": [
    "## Exercício 8\n",
    "\n",
    "Vamos exibir onde estão localizados os sellers da olist?!\n",
    "\n",
    "Cruze as tabelas de seller e geolocation, e exiba um mapa de calor contendo aproximadamente 3% da base."
   ]
  },
  {
   "cell_type": "code",
   "execution_count": null,
   "id": "9e6b07fb",
   "metadata": {},
   "outputs": [],
   "source": []
  },
  {
   "cell_type": "code",
   "execution_count": null,
   "id": "15c1955d",
   "metadata": {},
   "outputs": [],
   "source": []
  },
  {
   "cell_type": "code",
   "execution_count": null,
   "id": "730d96d0",
   "metadata": {},
   "outputs": [],
   "source": []
  }
 ],
 "metadata": {
  "kernelspec": {
   "display_name": "venv",
   "language": "python",
   "name": "python3"
  },
  "language_info": {
   "codemirror_mode": {
    "name": "ipython",
    "version": 3
   },
   "file_extension": ".py",
   "mimetype": "text/x-python",
   "name": "python",
   "nbconvert_exporter": "python",
   "pygments_lexer": "ipython3",
   "version": "3.12.7"
  }
 },
 "nbformat": 4,
 "nbformat_minor": 5
}
