{
 "cells": [
  {
   "cell_type": "markdown",
   "metadata": {},
   "source": [
    "# `SELECT` - Agregação e Agrupamento\n",
    "\n",
    "Nesta aula continuaremos a trabalhar com **SQL** (*Structured Query Language*), adicionando novos recursos que irão nos auxiliar a produzir analises de bases de dados.\n",
    "\n",
    "Na aula anterior vimos como utilizar `SELECT`, filtrar dados com o uso do `WHERE`, limitar a quantidade de registros retornados com o `LIMIT` e ordenar com o `ORDER BY`.\n",
    "\n",
    "Veja um exemplo que encontra os códigos brasileiros de ocupação relativos a venda, e ordena de forma decrescente por descrição:\n"
   ]
  },
  {
   "cell_type": "markdown",
   "metadata": {},
   "source": [
    "<div class=\"alert alert-info\">\n",
    "\n",
    "```postgresql\n",
    "  SELECT cbo.cbo_2002,\n",
    "         LOWER(cbo.desc_cbo_2002) AS desc_cbo_2002\n",
    "    FROM rais.ocupacao_cbo2002 cbo\n",
    "   WHERE cbo.desc_cbo_2002 ILIKE '%vend%'\n",
    "ORDER BY cbo.desc_cbo_2002 DESC\n",
    "\n",
    "-- Com order by eu posso utilizar tanto ASC (Crescente) quanto DESC (Decrescente)\n",
    "-- ASC é o padrão!padrão!\n",
    "\n",
    "```\n",
    "\n",
    "</div>"
   ]
  },
  {
   "cell_type": "markdown",
   "metadata": {},
   "source": [
    "Observe que podemos utilizar dois traços (`--`) para criar **comentários**, que não irão produzir resultado quando a query for executada."
   ]
  },
  {
   "cell_type": "markdown",
   "metadata": {},
   "source": [
    "## Insper Autograding\n",
    "\n",
    "Iremos utilizar uma ferramenta para correção automática de nossas queries. Ao responder os exercícios, será possível enviar a solução para um servidor, que dará feedback quase que instantâneo sobre a resposta.\n",
    "\n",
    "Siga os passos deste notebook para realizar a instalação da biblioteca de correção de exercícios nos notebooks da disciplina de Big Data para Dados Públicos!"
   ]
  },
  {
   "cell_type": "markdown",
   "metadata": {},
   "source": [
    "## Instalação\n",
    "\n",
    "Vamos instalar a biblioteca (este passo só precisa ser executado uma vez):"
   ]
  },
  {
   "cell_type": "code",
   "execution_count": null,
   "metadata": {},
   "outputs": [],
   "source": [
    "!python -m pip uninstall -y insperautograder\n",
    "!python -m pip install git+https://github.com/macielcalebe/insperautograding.git"
   ]
  },
  {
   "cell_type": "markdown",
   "metadata": {},
   "source": [
    "## Importando as bibliotecas"
   ]
  },
  {
   "cell_type": "code",
   "execution_count": null,
   "metadata": {},
   "outputs": [],
   "source": [
    "import os\n",
    "import insperautograder.jupyter as ia"
   ]
  },
  {
   "cell_type": "markdown",
   "metadata": {},
   "source": [
    "## Configurar ambiente\n",
    "\n",
    "Execute a célula para configurar nosso ambiente de execução:"
   ]
  },
  {
   "cell_type": "code",
   "execution_count": null,
   "metadata": {},
   "outputs": [],
   "source": [
    "os.environ[\"IAG_OFFERING\"] = \"24-2\"\n",
    "os.environ[\"IAG_SUBJECT\"] = \"bigdata\"\n",
    "os.environ[\"IAG_SERVER_URL\"] = \"https://bigdata.insper-comp.com.br/iag\""
   ]
  },
  {
   "cell_type": "markdown",
   "metadata": {},
   "source": [
    "## Me diga quem você é\n",
    "\n",
    "Utilize o **Token** enviado para seu e-mail para que você seja identificado pelo servidor de testes.\n",
    "\n",
    "Substitua `iagtok_xxx...` pelo token enviado para seu e-mail."
   ]
  },
  {
   "cell_type": "code",
   "execution_count": null,
   "metadata": {},
   "outputs": [],
   "source": [
    "# Coleu seu token abaixo no lugar de iagtok_xxx\n",
    "# Procure no seu email por \"Insper auto grading\"\n",
    "os.environ[\"IAG_TOKEN\"] = \"iagtok_xxxxxxxxxxxxxxxxxxxxxxxxxxxxxxxxxxxxxxxxxxxxxxxx\""
   ]
  },
  {
   "cell_type": "markdown",
   "metadata": {},
   "source": [
    "## Conferir atividades e notas\n",
    "\n",
    "Conferindo quais atividades estão disponíveis!"
   ]
  },
  {
   "cell_type": "code",
   "execution_count": null,
   "metadata": {},
   "outputs": [],
   "source": [
    "ia.tasks()"
   ]
  },
  {
   "cell_type": "markdown",
   "metadata": {},
   "source": [
    "Conferindo a nota por exercício na atividade:"
   ]
  },
  {
   "cell_type": "code",
   "execution_count": null,
   "metadata": {},
   "outputs": [],
   "source": [
    "ia.grades(task=\"big_agrupamento\")"
   ]
  },
  {
   "cell_type": "markdown",
   "metadata": {},
   "source": [
    "Conferindo a nota geral nas atividades"
   ]
  },
  {
   "cell_type": "code",
   "execution_count": null,
   "metadata": {},
   "outputs": [],
   "source": [
    "ia.grades(by=\"TASK\")"
   ]
  },
  {
   "cell_type": "markdown",
   "metadata": {},
   "source": [
    "## Exercícios\n",
    "\n",
    "Vamos praticar para relembrar os conteúdos da última aula!\n",
    "\n",
    "Ao responder os exercícios, primeiro você deve acessar https://eletiva.bigdata.insper-comp.com.br/pgadmin4 e utilizar seus conhecimentos de **SQL** para produzir e verificar as respostas.\n",
    "\n",
    "Quando estiver bastante confiante que a resposta está correta, copie e cole ela no local indicado e faça o envio para o servidor.\n",
    "### Exercício 1\n",
    "\n",
    "Vamos verificar os CNAEs (tabela rais.cnae) e quais deles possuem relação com Previdência?\n",
    "\n",
    "\n",
    "**a)** Filtre o CNAE com descrição `Previdência Complementar Fechada`.\n",
    "\n",
    "\n"
   ]
  },
  {
   "cell_type": "code",
   "execution_count": null,
   "metadata": {},
   "outputs": [],
   "source": [
    "sql_ex01a = \"\"\"\n",
    "-- Seu SQL aqui!\n",
    "\"\"\""
   ]
  },
  {
   "cell_type": "markdown",
   "metadata": {},
   "source": [
    "Produza sua resposta no pgAdmin.\n",
    "\n",
    "Quando estiver confiante, cole sua resposta na célula acima, execute-a e clique no botão abaixo para fazer o envio."
   ]
  },
  {
   "cell_type": "code",
   "execution_count": null,
   "metadata": {},
   "outputs": [],
   "source": [
    "ia.sender(answer=\"sql_ex01a\", task=\"big_agrupamento\", question=\"ex01a\", answer_type=\"pyvar\")"
   ]
  },
  {
   "cell_type": "markdown",
   "metadata": {},
   "source": [
    "**b)** Agora filtre qualquer CNAE com o termo `Previdência`.\n",
    "\n",
    "Ordene de forma crescente pela descrição."
   ]
  },
  {
   "cell_type": "code",
   "execution_count": null,
   "metadata": {},
   "outputs": [],
   "source": [
    "sql_ex01b = \"\"\"\n",
    "-- Seu SQL aqui!\n",
    "\"\"\""
   ]
  },
  {
   "cell_type": "markdown",
   "metadata": {},
   "source": [
    "Clique no botão abaixo para fazer o envio."
   ]
  },
  {
   "cell_type": "code",
   "execution_count": null,
   "metadata": {},
   "outputs": [],
   "source": [
    "ia.sender(answer=\"sql_ex01b\", task=\"big_agrupamento\", question=\"ex01b\", answer_type=\"pyvar\")"
   ]
  },
  {
   "cell_type": "markdown",
   "metadata": {},
   "source": [
    "**c)** Copie a query do exercício anterior e faça as alterações necessárias:\n",
    "\n",
    "Ordene de forma decrescente pelo código do CNAE."
   ]
  },
  {
   "cell_type": "code",
   "execution_count": null,
   "metadata": {},
   "outputs": [],
   "source": [
    "sql_ex01c = \"\"\"\n",
    "-- Seu SQL aqui!\n",
    "\"\"\""
   ]
  },
  {
   "cell_type": "markdown",
   "metadata": {},
   "source": [
    "Clique no botão abaixo para fazer o envio."
   ]
  },
  {
   "cell_type": "code",
   "execution_count": null,
   "metadata": {},
   "outputs": [],
   "source": [
    "ia.sender(answer=\"sql_ex01c\", task=\"big_agrupamento\", question=\"ex01c\", answer_type=\"pyvar\")"
   ]
  },
  {
   "cell_type": "markdown",
   "metadata": {},
   "source": [
    "## Funções de Agregação\n",
    "\n",
    "As funções de agregação permitem agrupar os valores de várias linhas, de forma a produzir apenas uma medida resumo. Por exemplo, podemos querer saber o valor total arrecadado pelo IBAMA ou a média dos salários em um determinado mês. Ambas estes cálculos podem ser obtidos pelo uso de funções de agregação.\n",
    "\n",
    "As funções de agregação mais utilizadas são `SUM`, `MIN`, `MAX`, `AVG` e `COUNT`.\n",
    "\n",
    "Para saber mais acesse https://www.postgresql.org/docs/16/functions-aggregate.html"
   ]
  },
  {
   "cell_type": "markdown",
   "metadata": {},
   "source": [
    "Veja um exemplo de cálculo do **valor médio** para as receitas do IBAMA:\n",
    "\n",
    "<div class=\"alert alert-info\">\n",
    "\n",
    "```postgresql\n",
    "SELECT AVG(valor) AS valor_medio\n",
    "FROM ibama.receita\n",
    "```\n",
    "\n",
    "</div>"
   ]
  },
  {
   "cell_type": "markdown",
   "metadata": {},
   "source": [
    "**DICA**: Para arredondar, podemos fazer\n",
    "\n",
    "<div class=\"alert alert-info\">\n",
    "\n",
    "```postgresql\n",
    "SELECT ROUND(CAST(AVG(valor) AS numeric), 2) AS valor_medio\n",
    "FROM ibama.receita\n",
    "```\n",
    "\n",
    "</div>\n",
    "\n",
    "\n",
    "<div class=\"alert alert-warning\">\n",
    "\n",
    "Execute no pgAdmin e confira o resultado!\n",
    "\n",
    "</div>"
   ]
  },
  {
   "cell_type": "markdown",
   "metadata": {},
   "source": [
    "## Exercícios\n",
    "\n",
    "### Exercício 2\n",
    "\n",
    "Vamos analisar os dados da tabela `rais.dados_sp_frac`? Neste exercício iremos trabalhar com funções de agregação.\n",
    "\n",
    "\n",
    "**a)** Exiba uma amostra de 5 registros da tabela. Esta questão não tem correção automática!\n",
    "\n",
    "OBS: Nos tópicos seguintes, utilize todos os registros.\n",
    "\n",
    "<div class=\"alert alert-info\">\n",
    "\n",
    "```sql\n",
    "-- Sua resposta aqui!\n",
    "```\n",
    "\n",
    "</div>"
   ]
  },
  {
   "cell_type": "markdown",
   "metadata": {},
   "source": [
    "**b)** Calcule a média da coluna `vl_rem_janeiro_cc`.\n",
    "\n",
    "Renomeie a coluna para `vl_rem_media_janeiro_cc`!"
   ]
  },
  {
   "cell_type": "code",
   "execution_count": null,
   "metadata": {},
   "outputs": [],
   "source": [
    "sql_ex02b = \"\"\"\n",
    "-- Seu SQL aqui!\n",
    "\"\"\""
   ]
  },
  {
   "cell_type": "code",
   "execution_count": null,
   "metadata": {},
   "outputs": [],
   "source": [
    "ia.sender(answer=\"sql_ex02b\", task=\"big_agrupamento\", question=\"ex02b\", answer_type=\"pyvar\")"
   ]
  },
  {
   "cell_type": "markdown",
   "metadata": {},
   "source": [
    "**c)** Calcule o maior e o menor valor da coluna `vl_rem_janeiro_cc`.\n",
    "\n",
    "Renomeie a coluna para `maior` e `menor`!"
   ]
  },
  {
   "cell_type": "code",
   "execution_count": null,
   "metadata": {},
   "outputs": [],
   "source": [
    "sql_ex02c = \"\"\"\n",
    "-- Seu SQL aqui!\n",
    "\"\"\""
   ]
  },
  {
   "cell_type": "code",
   "execution_count": null,
   "metadata": {},
   "outputs": [],
   "source": [
    "ia.sender(answer=\"sql_ex02c\", task=\"big_agrupamento\", question=\"ex02c\", answer_type=\"pyvar\")"
   ]
  },
  {
   "cell_type": "markdown",
   "metadata": {},
   "source": [
    "**d)** Calcule a média da coluna `vl_rem_janeiro_cc` apenas para os registros que não estejam zerados.\n",
    "\n",
    "Renomeie a coluna para `vl_rem_media_janeiro_cc`!"
   ]
  },
  {
   "cell_type": "code",
   "execution_count": null,
   "metadata": {},
   "outputs": [],
   "source": [
    "sql_ex02d = \"\"\"\n",
    "-- Seu SQL aqui!\n",
    "\"\"\""
   ]
  },
  {
   "cell_type": "code",
   "execution_count": null,
   "metadata": {},
   "outputs": [],
   "source": [
    "ia.sender(answer=\"sql_ex02d\", task=\"big_agrupamento\", question=\"ex02d\", answer_type=\"pyvar\")"
   ]
  },
  {
   "cell_type": "markdown",
   "metadata": {},
   "source": [
    "**e)** Calcule a correlação entre a coluna `vl_rem_janeiro_cc` e `vl_rem_fevereiro_cc`.\n",
    "\n",
    "**Dica**: busque por `“correlation coefficient”` em https://www.postgresql.org/docs/15/functions-aggregate.html \n",
    "\n",
    "Renomeie a coluna para `correlacao_jan_fev`!"
   ]
  },
  {
   "cell_type": "code",
   "execution_count": null,
   "metadata": {},
   "outputs": [],
   "source": [
    "sql_ex02e = \"\"\"\n",
    "-- Seu SQL aqui!\n",
    "\"\"\""
   ]
  },
  {
   "cell_type": "code",
   "execution_count": null,
   "metadata": {},
   "outputs": [],
   "source": [
    "ia.sender(answer=\"sql_ex02e\", task=\"big_agrupamento\", question=\"ex02e\", answer_type=\"pyvar\")"
   ]
  },
  {
   "cell_type": "markdown",
   "metadata": {},
   "source": [
    "**f)** Calcule a correlação entre a coluna `vl_rem_janeiro_cc` e `vl_rem_fevereiro_cc`.\n",
    "\n",
    "Agora, tente considerar apenas os registros preenchidos com valores positivos em ambas as colunas.\n",
    "\n",
    "Renomeie a coluna para `correlacao_jan_fev`!"
   ]
  },
  {
   "cell_type": "code",
   "execution_count": null,
   "metadata": {},
   "outputs": [],
   "source": [
    "sql_ex02f = \"\"\"\n",
    "-- Seu SQL aqui!\n",
    "\"\"\""
   ]
  },
  {
   "cell_type": "code",
   "execution_count": null,
   "metadata": {},
   "outputs": [],
   "source": [
    "ia.sender(answer=\"sql_ex02f\", task=\"big_agrupamento\", question=\"ex02f\", answer_type=\"pyvar\")"
   ]
  },
  {
   "cell_type": "markdown",
   "metadata": {},
   "source": [
    "### Exercício 3\n",
    "\n",
    "Considere a tabela `ibama.receita`:\n",
    "\n",
    "**a)** Conte a quantidade total de registros.\n",
    "\n",
    "Renomeie a coluna devolvida como `qtde_registros`."
   ]
  },
  {
   "cell_type": "code",
   "execution_count": null,
   "metadata": {},
   "outputs": [],
   "source": [
    "sql_ex03a = \"\"\"\n",
    "-- Seu SQL aqui!\n",
    "\"\"\""
   ]
  },
  {
   "cell_type": "code",
   "execution_count": null,
   "metadata": {
    "scrolled": true
   },
   "outputs": [],
   "source": [
    "ia.sender(answer=\"sql_ex03a\", task=\"big_agrupamento\", question=\"ex03a\", answer_type=\"pyvar\")"
   ]
  },
  {
   "cell_type": "markdown",
   "metadata": {},
   "source": [
    "**b)** Exiba todas as descrições de fonte de receita contidas na base `ibama.receita`, **eliminando as repetições**.\n",
    "\n",
    "**Dica**: https://www.postgresql.org/docs/15/queries-select-lists.html#QUERIES-DISTINCT \n",
    "\n",
    "Ordene pela descrição da fonte de receita."
   ]
  },
  {
   "cell_type": "code",
   "execution_count": null,
   "metadata": {},
   "outputs": [],
   "source": [
    "sql_ex03b = \"\"\"\n",
    "-- Seu SQL aqui!\n",
    "\"\"\""
   ]
  },
  {
   "cell_type": "code",
   "execution_count": null,
   "metadata": {
    "scrolled": true
   },
   "outputs": [],
   "source": [
    "ia.sender(answer=\"sql_ex03b\", task=\"big_agrupamento\", question=\"ex03b\", answer_type=\"pyvar\")"
   ]
  },
  {
   "cell_type": "markdown",
   "metadata": {},
   "source": [
    "**c)** Conte quantas descrições diferentes temos na base de dados.\n",
    "\n",
    "Renomeie para `qtde_fonte_receita`."
   ]
  },
  {
   "cell_type": "code",
   "execution_count": null,
   "metadata": {},
   "outputs": [],
   "source": [
    "sql_ex03c = \"\"\"\n",
    "-- Seu SQL aqui!\n",
    "\"\"\""
   ]
  },
  {
   "cell_type": "code",
   "execution_count": null,
   "metadata": {},
   "outputs": [],
   "source": [
    "ia.sender(answer=\"sql_ex03c\", task=\"big_agrupamento\", question=\"ex03c\", answer_type=\"pyvar\")"
   ]
  },
  {
   "cell_type": "markdown",
   "metadata": {},
   "source": [
    "**d)** Conte quantos registros são relativos a `\"Flora\"` e ao ano 2010.\n",
    "\n",
    "Renomeie para `qtde_flora_2010`."
   ]
  },
  {
   "cell_type": "code",
   "execution_count": null,
   "metadata": {},
   "outputs": [],
   "source": [
    "sql_ex03d = \"\"\"\n",
    "-- Seu SQL aqui!\n",
    "\"\"\""
   ]
  },
  {
   "cell_type": "code",
   "execution_count": null,
   "metadata": {},
   "outputs": [],
   "source": [
    "ia.sender(answer=\"sql_ex03d\", task=\"big_agrupamento\", question=\"ex03d\", answer_type=\"pyvar\")"
   ]
  },
  {
   "cell_type": "markdown",
   "metadata": {},
   "source": [
    "**e)** Considerando todos os registros da base, encontre o Valor médio, mínimo e máximo.\n",
    "\n",
    "Renomeie para `vlr_medio`, `vlr_minimo` e `vlr_maximo`."
   ]
  },
  {
   "cell_type": "code",
   "execution_count": null,
   "metadata": {},
   "outputs": [],
   "source": [
    "sql_ex03e = \"\"\"\n",
    "-- Seu SQL aqui!\n",
    "\"\"\""
   ]
  },
  {
   "cell_type": "code",
   "execution_count": null,
   "metadata": {},
   "outputs": [],
   "source": [
    "ia.sender(answer=\"sql_ex03e\", task=\"big_agrupamento\", question=\"ex03e\", answer_type=\"pyvar\")"
   ]
  },
  {
   "cell_type": "markdown",
   "metadata": {},
   "source": [
    "**f)** Considerando os registros apenas do ano de 2018, encontre o Valor médio, mínimo e máximo.\n",
    "\n",
    "Renomeie para `vlr_medio`, `vlr_minimo` e `vlr_maximo`."
   ]
  },
  {
   "cell_type": "code",
   "execution_count": null,
   "metadata": {},
   "outputs": [],
   "source": [
    "sql_ex03f = \"\"\"\n",
    "-- Seu SQL aqui!\n",
    "\"\"\""
   ]
  },
  {
   "cell_type": "code",
   "execution_count": null,
   "metadata": {
    "scrolled": true
   },
   "outputs": [],
   "source": [
    "ia.sender(answer=\"sql_ex03f\", task=\"big_agrupamento\", question=\"ex03f\", answer_type=\"pyvar\")"
   ]
  },
  {
   "cell_type": "markdown",
   "metadata": {},
   "source": [
    "E se fosse necessário calcular o valor médio de das receitas do IBAMA ano a ano? Por exemplo:\n",
    "\n",
    "| Ano  | Valor Medio |\n",
    "|------|-------------|\n",
    "| 2016 | 105.10      |\n",
    "| 2017 | 98.75       |\n",
    "| 2018 | 95.30       |\n",
    "\n",
    "\n",
    "Vamos tentar?!\n"
   ]
  },
  {
   "cell_type": "markdown",
   "metadata": {},
   "source": [
    "## Funções de Agrupamento \n",
    "As funções de **agrupamento** permitem considerar os dados em grupos, de forma que as funções de agregação sejam calculadas de forma individual em cada agrupamento.\n",
    "\n",
    "Considere a tabela de dados:\n",
    "\n",
    "| id | nome   | departamento | salario |\n",
    "|----|--------|--------------|---------|\n",
    "| 1  | João   | Marketing    | 5000    |\n",
    "| 2  | Maria  | Financeiro   | 6000    |\n",
    "| 3  | José   | Financeiro   | 7800    |\n",
    "| 4  | Ana    | Marketing    | 4000    |\n",
    "| 5  | Cesar  | Marketing    | 3500    |\n",
    "| 6  | Marina | Financeiro   | 9000    |\n",
    "\n",
    "Para calcular o salário médio, podemos fazer:\n",
    "\n",
    "```postgresql\n",
    "SELECT avg(salario) as salario_medio\n",
    "FROM funcionarios\n",
    "```"
   ]
  },
  {
   "cell_type": "markdown",
   "metadata": {},
   "source": [
    "Entretanto, caso nossa vontade fosse calcular o salário médio **por departamento**, ao tentar fazer:\n",
    "\n",
    "```postgresql\n",
    "SELECT departamento, \n",
    "       avg(salario) as salario_medio\n",
    "FROM funcionarios\n",
    "```\n",
    "\n",
    "Obteríamos um erro, pois a função `avg(salario)` resume todas as linhas em um único valor. Então teríamos uma média, mas vários departamentos e o PostgreSQL não saberia como relacioná-los."
   ]
  },
  {
   "cell_type": "markdown",
   "metadata": {},
   "source": [
    "Precisamos fazer o uso de **agrupamentos** (`GROUP BY`). Assim podemos obter, por exemplo, **a média dos salários por departamento** com a query:\n",
    "\n",
    "\n",
    "```postgresql\n",
    " SELECT departamento,\n",
    "         avg(salario) as salario_medio\n",
    "    FROM funcionarios\n",
    "GROUP BY departamento -- Este comando é novidade!\n",
    "```\n",
    "\n",
    "Que nos retorna como resultado o salário médio por departamento:\n",
    "\n",
    "| departamento | salario |\n",
    "|--------------|---------|\n",
    "| Marketing    | 4166    |\n",
    "| Financeiro   | 7600    |\n",
    "\n",
    "Utilize os próximos exercícios para praticar!"
   ]
  },
  {
   "cell_type": "markdown",
   "metadata": {},
   "source": [
    "### Exercício 4\n",
    "\n",
    "Considere a tabela `ibama.receita`:\n",
    "\n",
    "**a)** Considerando os dados até o ano de 2005, calcule o **valor total** de arrecadação em cada ano.\n",
    "\n",
    "Devolva as colunas `ano` e `valor_total`.\n",
    "\n",
    "Ordene crescente por `ano`."
   ]
  },
  {
   "cell_type": "code",
   "execution_count": null,
   "metadata": {},
   "outputs": [],
   "source": [
    "sql_ex04a = \"\"\"\n",
    "-- Seu SQL aqui!\n",
    "\"\"\""
   ]
  },
  {
   "cell_type": "code",
   "execution_count": null,
   "metadata": {
    "scrolled": true
   },
   "outputs": [],
   "source": [
    "ia.sender(answer=\"sql_ex04a\", task=\"big_agrupamento\", question=\"ex04a\", answer_type=\"pyvar\")"
   ]
  },
  {
   "cell_type": "markdown",
   "metadata": {
    "jp-MarkdownHeadingCollapsed": true
   },
   "source": [
    "**b)** Considerando os dados de 2016 a 2019 e apenas os registros onde a descrição da receita contém a palavra `“penalidade”`, calcule o valor médio arrecadado para cada categoria de arrecadação (receita).\n",
    "\n",
    "Devolva as colunas `desc_receita` e `valor_medio`.\n",
    "\n",
    "Ordene de forma decrescente pelo valor médio."
   ]
  },
  {
   "cell_type": "code",
   "execution_count": null,
   "metadata": {},
   "outputs": [],
   "source": [
    "sql_ex04b = \"\"\"\n",
    "-- Seu SQL aqui!\n",
    "\"\"\""
   ]
  },
  {
   "cell_type": "code",
   "execution_count": null,
   "metadata": {},
   "outputs": [],
   "source": [
    "ia.sender(answer=\"sql_ex04b\", task=\"big_agrupamento\", question=\"ex04b\", answer_type=\"pyvar\")"
   ]
  },
  {
   "cell_type": "markdown",
   "metadata": {
    "jp-MarkdownHeadingCollapsed": true
   },
   "source": [
    "**c)** Considerando os dados de 2016 a 2019 e apenas os registros onde a descrição da receita contém a palavra `“penalidade”`, para cada ano, calcule:\n",
    "\n",
    "- o valor médio arrecadado.\n",
    "- o valor total arrecadado.\n",
    "- a quantidade total de penalidades.\n",
    "\n",
    "Devolva as colunas (nesta ordem e com estes nomes): `ano`, `valor_medio`, `valor_total` e `quantidade_total`.\n",
    "\n",
    "Ordene de forma crescente pelo ano."
   ]
  },
  {
   "cell_type": "code",
   "execution_count": null,
   "metadata": {},
   "outputs": [],
   "source": [
    "sql_ex04c = \"\"\"\n",
    "-- Seu SQL aqui!\n",
    "\"\"\""
   ]
  },
  {
   "cell_type": "code",
   "execution_count": null,
   "metadata": {
    "scrolled": true
   },
   "outputs": [],
   "source": [
    "ia.sender(answer=\"sql_ex04c\", task=\"big_agrupamento\", question=\"ex04c\", answer_type=\"pyvar\")"
   ]
  },
  {
   "cell_type": "markdown",
   "metadata": {},
   "source": [
    "### Exercício 5\n",
    "\n",
    "Considere a tabela `rais.municipio`:\n",
    "\n",
    "**a)** Conte quantos registros a tabela possui.\n",
    "\n",
    "Devolva a coluna `qtde_municipios`."
   ]
  },
  {
   "cell_type": "code",
   "execution_count": null,
   "metadata": {},
   "outputs": [],
   "source": [
    "sql_ex05a = \"\"\"\n",
    "-- Seu SQL aqui!\n",
    "\"\"\""
   ]
  },
  {
   "cell_type": "code",
   "execution_count": null,
   "metadata": {
    "scrolled": true
   },
   "outputs": [],
   "source": [
    "ia.sender(answer=\"sql_ex05a\", task=\"big_agrupamento\", question=\"ex05a\", answer_type=\"pyvar\")"
   ]
  },
  {
   "cell_type": "markdown",
   "metadata": {},
   "source": [
    "**b)** Conte quantos municipios cada **UF** possui.\n",
    "\n",
    "Devolva as colunas  `uf` e `qtde_municipios`.\n",
    "\n",
    "Ordene da **UF** com mais municípios para a com menos municípios."
   ]
  },
  {
   "cell_type": "code",
   "execution_count": null,
   "metadata": {},
   "outputs": [],
   "source": [
    "sql_ex05b = \"\"\"\n",
    "-- Seu SQL aqui!\n",
    "\"\"\""
   ]
  },
  {
   "cell_type": "code",
   "execution_count": null,
   "metadata": {},
   "outputs": [],
   "source": [
    "ia.sender(answer=\"sql_ex05b\", task=\"big_agrupamento\", question=\"ex05b\", answer_type=\"pyvar\")"
   ]
  },
  {
   "cell_type": "markdown",
   "metadata": {},
   "source": [
    "**c)** Considerando a query do exercício anterior, exiba apenas os estados com 225 ou mais cidades.\n",
    "\n",
    "**Dica**: pesquise por `postgresql HAVING`.\n",
    "\n",
    "Devolva as colunas  `uf` e `qtde_municipios`.\n",
    "\n",
    "Ordene da **UF** com mais municípios para a com menos municípios."
   ]
  },
  {
   "cell_type": "code",
   "execution_count": null,
   "metadata": {},
   "outputs": [],
   "source": [
    "sql_ex05c = \"\"\"\n",
    "-- Seu SQL aqui!\n",
    "\"\"\""
   ]
  },
  {
   "cell_type": "code",
   "execution_count": null,
   "metadata": {},
   "outputs": [],
   "source": [
    "ia.sender(answer=\"sql_ex05c\", task=\"big_agrupamento\", question=\"ex05c\", answer_type=\"pyvar\")"
   ]
  },
  {
   "cell_type": "markdown",
   "metadata": {},
   "source": [
    "### Comentários\n",
    "\n",
    "Comentários podem ser úteis para auxiliar na compreensão das queries. Em SQL, utilizaremos `--` e tudo a direita será considerado como comentário. Veja um exemplo:"
   ]
  },
  {
   "cell_type": "markdown",
   "metadata": {},
   "source": [
    "<div class=\"alert alert-info\">\n",
    "\n",
    "```postgresql\n",
    "-- Vou buscar por um CNAE específico\n",
    "SELECT *\n",
    "FROM rais.cnae c\n",
    "WHERE c.desc_cnae_20_subclasse = 'Previdência Complementar Fechada'\n",
    "```\n",
    "\n",
    "</div>"
   ]
  },
  {
   "cell_type": "markdown",
   "metadata": {},
   "source": [
    "## Conferir notas\n",
    "\n",
    "Vamos verificar se as notas foram gravadas nos exercícios!"
   ]
  },
  {
   "cell_type": "code",
   "execution_count": null,
   "metadata": {},
   "outputs": [],
   "source": [
    "ia.grades(task=\"big_agrupamento\")"
   ]
  },
  {
   "cell_type": "markdown",
   "metadata": {},
   "source": [
    "Vamos verificar se a nota da atividade está ok:"
   ]
  },
  {
   "cell_type": "code",
   "execution_count": null,
   "metadata": {},
   "outputs": [],
   "source": [
    "ia.grades(by=\"TASK\", task=\"big_agrupamento\")"
   ]
  },
  {
   "cell_type": "markdown",
   "metadata": {},
   "source": [
    "## Finalizando o trabalho"
   ]
  },
  {
   "cell_type": "markdown",
   "metadata": {},
   "source": [
    "Por hoje é só!"
   ]
  }
 ],
 "metadata": {
  "kernelspec": {
   "display_name": "Python 3 (ipykernel)",
   "language": "python",
   "name": "python3"
  },
  "language_info": {
   "codemirror_mode": {
    "name": "ipython",
    "version": 3
   },
   "file_extension": ".py",
   "mimetype": "text/x-python",
   "name": "python",
   "nbconvert_exporter": "python",
   "pygments_lexer": "ipython3",
   "version": "3.10.12"
  }
 },
 "nbformat": 4,
 "nbformat_minor": 4
}
