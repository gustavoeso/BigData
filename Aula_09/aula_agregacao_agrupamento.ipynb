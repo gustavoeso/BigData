{
 "cells": [
  {
   "cell_type": "markdown",
   "metadata": {},
   "source": [
    "# `SELECT` - Agregação e Agrupamento\n",
    "\n",
    "Nesta aula continuaremos a trabalhar com **SQL** (*Structured Query Language*), adicionando novos recursos que irão nos auxiliar a produzir analises de bases de dados.\n",
    "\n",
    "Na aula anterior vimos como utilizar `SELECT`, filtrar dados com o uso do `WHERE`, limitar a quantidade de registros retornados com o `LIMIT` e ordenar com o `ORDER BY`.\n",
    "\n",
    "Veja um exemplo que encontra os códigos brasileiros de ocupação relativos a venda, e ordena de forma decrescente por descrição:\n"
   ]
  },
  {
   "cell_type": "markdown",
   "metadata": {},
   "source": [
    "<div class=\"alert alert-info\">\n",
    "\n",
    "```postgresql\n",
    "  SELECT cbo.cbo_2002,\n",
    "         LOWER(cbo.desc_cbo_2002) AS desc_cbo_2002\n",
    "    FROM rais.ocupacao_cbo2002 cbo\n",
    "   WHERE cbo.desc_cbo_2002 ILIKE '%vend%'\n",
    "ORDER BY cbo.desc_cbo_2002 DESC\n",
    "\n",
    "-- Com order by eu posso utilizar tanto ASC (Crescente) quanto DESC (Decrescente)\n",
    "-- ASC é o padrão!padrão!\n",
    "\n",
    "```\n",
    "\n",
    "</div>"
   ]
  },
  {
   "cell_type": "markdown",
   "metadata": {},
   "source": [
    "Observe que podemos utilizar dois traços (`--`) para criar **comentários**, que não irão produzir resultado quando a query for executada."
   ]
  },
  {
   "cell_type": "markdown",
   "metadata": {},
   "source": [
    "## Insper Autograding\n",
    "\n",
    "Iremos utilizar uma ferramenta para correção automática de nossas queries. Ao responder os exercícios, será possível enviar a solução para um servidor, que dará feedback quase que instantâneo sobre a resposta.\n",
    "\n",
    "Siga os passos deste notebook para realizar a instalação da biblioteca de correção de exercícios nos notebooks da disciplina de Big Data para Dados Públicos!"
   ]
  },
  {
   "cell_type": "markdown",
   "metadata": {},
   "source": [
    "## Instalação\n",
    "\n",
    "Vamos instalar a biblioteca (este passo só precisa ser executado uma vez):"
   ]
  },
  {
   "cell_type": "code",
   "execution_count": 1,
   "metadata": {},
   "outputs": [
    {
     "name": "stderr",
     "output_type": "stream",
     "text": [
      "WARNING: Skipping insperautograder as it is not installed.\n"
     ]
    },
    {
     "name": "stdout",
     "output_type": "stream",
     "text": [
      "Collecting git+https://github.com/macielcalebe/insperautograding.git\n",
      "  Cloning https://github.com/macielcalebe/insperautograding.git to c:\\users\\guoli\\appdata\\local\\temp\\pip-req-build-_ro9ymz4\n",
      "  Resolved https://github.com/macielcalebe/insperautograding.git to commit e0089289749b23541216df5057ef19dfc6fbbe82\n",
      "  Installing build dependencies: started\n",
      "  Installing build dependencies: finished with status 'done'\n",
      "  Getting requirements to build wheel: started\n",
      "  Getting requirements to build wheel: finished with status 'done'\n",
      "  Preparing metadata (pyproject.toml): started\n",
      "  Preparing metadata (pyproject.toml): finished with status 'done'\n",
      "Collecting python-dotenv (from insperautograder==0.2.1)\n",
      "  Using cached python_dotenv-1.0.1-py3-none-any.whl.metadata (23 kB)\n",
      "Collecting requests (from insperautograder==0.2.1)\n",
      "  Using cached requests-2.32.3-py3-none-any.whl.metadata (4.6 kB)\n",
      "Requirement already satisfied: ipython in c:\\users\\guoli\\documents\\insper\\bigdata\\venv\\lib\\site-packages (from insperautograder==0.2.1) (8.26.0)\n",
      "Collecting ipywidgets (from insperautograder==0.2.1)\n",
      "  Downloading ipywidgets-8.1.5-py3-none-any.whl.metadata (2.3 kB)\n",
      "Requirement already satisfied: decorator in c:\\users\\guoli\\documents\\insper\\bigdata\\venv\\lib\\site-packages (from ipython->insperautograder==0.2.1) (5.1.1)\n",
      "Requirement already satisfied: jedi>=0.16 in c:\\users\\guoli\\documents\\insper\\bigdata\\venv\\lib\\site-packages (from ipython->insperautograder==0.2.1) (0.19.1)\n",
      "Requirement already satisfied: matplotlib-inline in c:\\users\\guoli\\documents\\insper\\bigdata\\venv\\lib\\site-packages (from ipython->insperautograder==0.2.1) (0.1.7)\n",
      "Requirement already satisfied: prompt-toolkit<3.1.0,>=3.0.41 in c:\\users\\guoli\\documents\\insper\\bigdata\\venv\\lib\\site-packages (from ipython->insperautograder==0.2.1) (3.0.47)\n",
      "Requirement already satisfied: pygments>=2.4.0 in c:\\users\\guoli\\documents\\insper\\bigdata\\venv\\lib\\site-packages (from ipython->insperautograder==0.2.1) (2.18.0)\n",
      "Requirement already satisfied: stack-data in c:\\users\\guoli\\documents\\insper\\bigdata\\venv\\lib\\site-packages (from ipython->insperautograder==0.2.1) (0.6.3)\n",
      "Requirement already satisfied: traitlets>=5.13.0 in c:\\users\\guoli\\documents\\insper\\bigdata\\venv\\lib\\site-packages (from ipython->insperautograder==0.2.1) (5.14.3)\n",
      "Requirement already satisfied: colorama in c:\\users\\guoli\\documents\\insper\\bigdata\\venv\\lib\\site-packages (from ipython->insperautograder==0.2.1) (0.4.6)\n",
      "Requirement already satisfied: comm>=0.1.3 in c:\\users\\guoli\\documents\\insper\\bigdata\\venv\\lib\\site-packages (from ipywidgets->insperautograder==0.2.1) (0.2.2)\n",
      "Collecting widgetsnbextension~=4.0.12 (from ipywidgets->insperautograder==0.2.1)\n",
      "  Downloading widgetsnbextension-4.0.13-py3-none-any.whl.metadata (1.6 kB)\n",
      "Collecting jupyterlab-widgets~=3.0.12 (from ipywidgets->insperautograder==0.2.1)\n",
      "  Downloading jupyterlab_widgets-3.0.13-py3-none-any.whl.metadata (4.1 kB)\n",
      "Collecting charset-normalizer<4,>=2 (from requests->insperautograder==0.2.1)\n",
      "  Downloading charset_normalizer-3.4.0-cp312-cp312-win_amd64.whl.metadata (34 kB)\n",
      "Collecting idna<4,>=2.5 (from requests->insperautograder==0.2.1)\n",
      "  Downloading idna-3.10-py3-none-any.whl.metadata (10 kB)\n",
      "Requirement already satisfied: urllib3<3,>=1.21.1 in c:\\users\\guoli\\documents\\insper\\bigdata\\venv\\lib\\site-packages (from requests->insperautograder==0.2.1) (2.2.2)\n",
      "Collecting certifi>=2017.4.17 (from requests->insperautograder==0.2.1)\n",
      "  Downloading certifi-2024.8.30-py3-none-any.whl.metadata (2.2 kB)\n",
      "Requirement already satisfied: parso<0.9.0,>=0.8.3 in c:\\users\\guoli\\documents\\insper\\bigdata\\venv\\lib\\site-packages (from jedi>=0.16->ipython->insperautograder==0.2.1) (0.8.4)\n",
      "Requirement already satisfied: wcwidth in c:\\users\\guoli\\documents\\insper\\bigdata\\venv\\lib\\site-packages (from prompt-toolkit<3.1.0,>=3.0.41->ipython->insperautograder==0.2.1) (0.2.13)\n",
      "Requirement already satisfied: executing>=1.2.0 in c:\\users\\guoli\\documents\\insper\\bigdata\\venv\\lib\\site-packages (from stack-data->ipython->insperautograder==0.2.1) (2.0.1)\n",
      "Requirement already satisfied: asttokens>=2.1.0 in c:\\users\\guoli\\documents\\insper\\bigdata\\venv\\lib\\site-packages (from stack-data->ipython->insperautograder==0.2.1) (2.4.1)\n",
      "Requirement already satisfied: pure-eval in c:\\users\\guoli\\documents\\insper\\bigdata\\venv\\lib\\site-packages (from stack-data->ipython->insperautograder==0.2.1) (0.2.3)\n",
      "Requirement already satisfied: six>=1.12.0 in c:\\users\\guoli\\documents\\insper\\bigdata\\venv\\lib\\site-packages (from asttokens>=2.1.0->stack-data->ipython->insperautograder==0.2.1) (1.16.0)\n",
      "Downloading ipywidgets-8.1.5-py3-none-any.whl (139 kB)\n",
      "Using cached python_dotenv-1.0.1-py3-none-any.whl (19 kB)\n",
      "Using cached requests-2.32.3-py3-none-any.whl (64 kB)\n",
      "Downloading certifi-2024.8.30-py3-none-any.whl (167 kB)\n",
      "Downloading charset_normalizer-3.4.0-cp312-cp312-win_amd64.whl (102 kB)\n",
      "Downloading idna-3.10-py3-none-any.whl (70 kB)\n",
      "Downloading jupyterlab_widgets-3.0.13-py3-none-any.whl (214 kB)\n",
      "Downloading widgetsnbextension-4.0.13-py3-none-any.whl (2.3 MB)\n",
      "   ---------------------------------------- 0.0/2.3 MB ? eta -:--:--\n",
      "   ----------------------------------- ---- 2.1/2.3 MB 10.7 MB/s eta 0:00:01\n",
      "   ---------------------------------------- 2.3/2.3 MB 11.0 MB/s eta 0:00:00\n",
      "Building wheels for collected packages: insperautograder\n",
      "  Building wheel for insperautograder (pyproject.toml): started\n",
      "  Building wheel for insperautograder (pyproject.toml): finished with status 'done'\n",
      "  Created wheel for insperautograder: filename=insperautograder-0.2.1-py3-none-any.whl size=4485 sha256=97af302ffdbb42f9c0c5e1139d9556fa18811881fc978481cc977211c7ce59ea\n",
      "  Stored in directory: C:\\Users\\guoli\\AppData\\Local\\Temp\\pip-ephem-wheel-cache-voak6kvn\\wheels\\53\\12\\56\\19fee21cc2d0ca77eb943fe40500aedc79b8ef8b6155282bad\n",
      "Successfully built insperautograder\n",
      "Installing collected packages: widgetsnbextension, python-dotenv, jupyterlab-widgets, idna, charset-normalizer, certifi, requests, ipywidgets, insperautograder\n",
      "Successfully installed certifi-2024.8.30 charset-normalizer-3.4.0 idna-3.10 insperautograder-0.2.1 ipywidgets-8.1.5 jupyterlab-widgets-3.0.13 python-dotenv-1.0.1 requests-2.32.3 widgetsnbextension-4.0.13\n"
     ]
    },
    {
     "name": "stderr",
     "output_type": "stream",
     "text": [
      "  Running command git clone --filter=blob:none --quiet https://github.com/macielcalebe/insperautograding.git 'C:\\Users\\guoli\\AppData\\Local\\Temp\\pip-req-build-_ro9ymz4'\n"
     ]
    }
   ],
   "source": [
    "!python -m pip uninstall -y insperautograder\n",
    "!python -m pip install git+https://github.com/macielcalebe/insperautograding.git"
   ]
  },
  {
   "cell_type": "markdown",
   "metadata": {},
   "source": [
    "## Importando as bibliotecas"
   ]
  },
  {
   "cell_type": "code",
   "execution_count": 1,
   "metadata": {},
   "outputs": [],
   "source": [
    "import os\n",
    "import insperautograder.jupyter as ia"
   ]
  },
  {
   "cell_type": "markdown",
   "metadata": {},
   "source": [
    "## Configurar ambiente\n",
    "\n",
    "Execute a célula para configurar nosso ambiente de execução:"
   ]
  },
  {
   "cell_type": "code",
   "execution_count": 2,
   "metadata": {},
   "outputs": [],
   "source": [
    "os.environ[\"IAG_OFFERING\"] = \"24-2\"\n",
    "os.environ[\"IAG_SUBJECT\"] = \"bigdata\"\n",
    "os.environ[\"IAG_SERVER_URL\"] = \"https://bigdata.insper-comp.com.br/iag\""
   ]
  },
  {
   "cell_type": "markdown",
   "metadata": {},
   "source": [
    "## Me diga quem você é\n",
    "\n",
    "Utilize o **Token** enviado para seu e-mail para que você seja identificado pelo servidor de testes.\n",
    "\n",
    "Substitua `iagtok_xxx...` pelo token enviado para seu e-mail."
   ]
  },
  {
   "cell_type": "code",
   "execution_count": 3,
   "metadata": {},
   "outputs": [],
   "source": [
    "# Coleu seu token abaixo no lugar de iagtok_xxx\n",
    "# Procure no seu email por \"Insper auto grading\"\n",
    "os.environ[\"IAG_TOKEN\"] = \"iagtok_5a108a060f12201c8213e080504ddc32af887262cf527192\""
   ]
  },
  {
   "cell_type": "markdown",
   "metadata": {},
   "source": [
    "## Conferir atividades e notas\n",
    "\n",
    "Conferindo quais atividades estão disponíveis!"
   ]
  },
  {
   "cell_type": "code",
   "execution_count": 4,
   "metadata": {},
   "outputs": [
    {
     "data": {
      "text/markdown": [
       "|    | Atividade       | De                  | Até                 |\n",
       "|---:|:----------------|:--------------------|:--------------------|\n",
       "|  0 | databricks      | 2024-09-03 00:00:00 | 2024-09-25 23:59:59 |\n",
       "|  1 | big_agrupamento | 2024-10-15 00:00:00 | 2024-11-05 23:59:59 |"
      ],
      "text/plain": [
       "<IPython.core.display.Markdown object>"
      ]
     },
     "metadata": {},
     "output_type": "display_data"
    }
   ],
   "source": [
    "ia.tasks()"
   ]
  },
  {
   "cell_type": "markdown",
   "metadata": {},
   "source": [
    "Conferindo a nota por exercício na atividade:"
   ]
  },
  {
   "cell_type": "code",
   "execution_count": 5,
   "metadata": {},
   "outputs": [
    {
     "data": {
      "text/markdown": [
       "|    | Atividade       | Exercício   |   Peso |   Nota |\n",
       "|---:|:----------------|:------------|-------:|-------:|\n",
       "|  0 | big_agrupamento | ex01a       |      1 |      0 |\n",
       "|  1 | big_agrupamento | ex01b       |      1 |      0 |\n",
       "|  2 | big_agrupamento | ex01c       |      1 |      0 |\n",
       "|  3 | big_agrupamento | ex02b       |      1 |      0 |\n",
       "|  4 | big_agrupamento | ex02c       |      1 |      0 |\n",
       "|  5 | big_agrupamento | ex02d       |      1 |      0 |\n",
       "|  6 | big_agrupamento | ex02e       |      1 |      0 |\n",
       "|  7 | big_agrupamento | ex02f       |      1 |      0 |\n",
       "|  8 | big_agrupamento | ex03a       |      1 |      0 |\n",
       "|  9 | big_agrupamento | ex03b       |      1 |      0 |\n",
       "| 10 | big_agrupamento | ex03c       |      1 |      0 |\n",
       "| 11 | big_agrupamento | ex03d       |      1 |      0 |\n",
       "| 12 | big_agrupamento | ex03e       |      1 |      0 |\n",
       "| 13 | big_agrupamento | ex03f       |      1 |      0 |\n",
       "| 14 | big_agrupamento | ex04a       |      1 |      0 |\n",
       "| 15 | big_agrupamento | ex04b       |      1 |      0 |\n",
       "| 16 | big_agrupamento | ex04c       |      1 |      0 |\n",
       "| 17 | big_agrupamento | ex05a       |      1 |      0 |\n",
       "| 18 | big_agrupamento | ex05b       |      1 |      0 |\n",
       "| 19 | big_agrupamento | ex05c       |      1 |      0 |"
      ],
      "text/plain": [
       "<IPython.core.display.Markdown object>"
      ]
     },
     "metadata": {},
     "output_type": "display_data"
    }
   ],
   "source": [
    "ia.grades(task=\"big_agrupamento\")"
   ]
  },
  {
   "cell_type": "markdown",
   "metadata": {},
   "source": [
    "Conferindo a nota geral nas atividades"
   ]
  },
  {
   "cell_type": "code",
   "execution_count": 6,
   "metadata": {},
   "outputs": [
    {
     "data": {
      "text/markdown": [
       "|    | Tarefa          |   Nota |\n",
       "|---:|:----------------|-------:|\n",
       "|  0 | big_agrupamento |      0 |\n",
       "|  1 | databricks      |     10 |"
      ],
      "text/plain": [
       "<IPython.core.display.Markdown object>"
      ]
     },
     "metadata": {},
     "output_type": "display_data"
    }
   ],
   "source": [
    "ia.grades(by=\"TASK\")"
   ]
  },
  {
   "cell_type": "markdown",
   "metadata": {},
   "source": [
    "## Exercícios\n",
    "\n",
    "Vamos praticar para relembrar os conteúdos da última aula!\n",
    "\n",
    "Ao responder os exercícios, primeiro você deve acessar https://eletiva.bigdata.insper-comp.com.br/pgadmin4 e utilizar seus conhecimentos de **SQL** para produzir e verificar as respostas.\n",
    "\n",
    "Quando estiver bastante confiante que a resposta está correta, copie e cole ela no local indicado e faça o envio para o servidor.\n",
    "### Exercício 1\n",
    "\n",
    "Vamos verificar os CNAEs (tabela rais.cnae) e quais deles possuem relação com Previdência?\n",
    "\n",
    "\n",
    "**a)** Filtre o CNAE com descrição `Previdência Complementar Fechada`.\n",
    "\n",
    "\n"
   ]
  },
  {
   "cell_type": "code",
   "execution_count": 7,
   "metadata": {},
   "outputs": [],
   "source": [
    "sql_ex01a = \"\"\"\n",
    "SELECT * FROM rais.cnae\n",
    "WHERE desc_cnae_20_subclasse = 'Previdência Complementar Fechada';\n",
    "\"\"\""
   ]
  },
  {
   "cell_type": "markdown",
   "metadata": {},
   "source": [
    "Produza sua resposta no pgAdmin.\n",
    "\n",
    "Quando estiver confiante, cole sua resposta na célula acima, execute-a e clique no botão abaixo para fazer o envio."
   ]
  },
  {
   "cell_type": "code",
   "execution_count": 8,
   "metadata": {},
   "outputs": [
    {
     "data": {
      "application/vnd.jupyter.widget-view+json": {
       "model_id": "e930a6cbffe1411387164dae110793fa",
       "version_major": 2,
       "version_minor": 0
      },
      "text/plain": [
       "interactive(children=(Button(description='Enviar ex01a', style=ButtonStyle()), Output()), _dom_classes=('widge…"
      ]
     },
     "execution_count": 8,
     "metadata": {},
     "output_type": "execute_result"
    }
   ],
   "source": [
    "ia.sender(answer=\"sql_ex01a\", task=\"big_agrupamento\", question=\"ex01a\", answer_type=\"pyvar\")"
   ]
  },
  {
   "cell_type": "markdown",
   "metadata": {},
   "source": [
    "**b)** Agora filtre qualquer CNAE com o termo `Previdência`.\n",
    "\n",
    "Ordene de forma crescente pela descrição."
   ]
  },
  {
   "cell_type": "code",
   "execution_count": 11,
   "metadata": {},
   "outputs": [],
   "source": [
    "sql_ex01b = \"\"\"\n",
    "SELECT * FROM rais.cnae\n",
    "WHERE desc_cnae_20_subclasse LIKE '%Previdência%'\n",
    "ORDER BY desc_cnae_20_subclasse ASC;\n",
    "\"\"\""
   ]
  },
  {
   "cell_type": "markdown",
   "metadata": {},
   "source": [
    "Clique no botão abaixo para fazer o envio."
   ]
  },
  {
   "cell_type": "code",
   "execution_count": 12,
   "metadata": {},
   "outputs": [
    {
     "data": {
      "application/vnd.jupyter.widget-view+json": {
       "model_id": "37f7144b059b42bf81c1879f8f091e0b",
       "version_major": 2,
       "version_minor": 0
      },
      "text/plain": [
       "interactive(children=(Button(description='Enviar ex01b', style=ButtonStyle()), Output()), _dom_classes=('widge…"
      ]
     },
     "execution_count": 12,
     "metadata": {},
     "output_type": "execute_result"
    }
   ],
   "source": [
    "ia.sender(answer=\"sql_ex01b\", task=\"big_agrupamento\", question=\"ex01b\", answer_type=\"pyvar\")"
   ]
  },
  {
   "cell_type": "markdown",
   "metadata": {},
   "source": [
    "**c)** Copie a query do exercício anterior e faça as alterações necessárias:\n",
    "\n",
    "Ordene de forma decrescente pelo código do CNAE."
   ]
  },
  {
   "cell_type": "code",
   "execution_count": 13,
   "metadata": {},
   "outputs": [],
   "source": [
    "sql_ex01c = \"\"\"\n",
    "SELECT * FROM rais.cnae\n",
    "WHERE desc_cnae_20_subclasse LIKE '%Previdência%'\n",
    "ORDER BY CNAE_20_SUBCLASSE DESC;\n",
    "\"\"\""
   ]
  },
  {
   "cell_type": "markdown",
   "metadata": {},
   "source": [
    "Clique no botão abaixo para fazer o envio."
   ]
  },
  {
   "cell_type": "code",
   "execution_count": 14,
   "metadata": {},
   "outputs": [
    {
     "data": {
      "application/vnd.jupyter.widget-view+json": {
       "model_id": "4124605498214d9aa72b5d0c5c5dc9a5",
       "version_major": 2,
       "version_minor": 0
      },
      "text/plain": [
       "interactive(children=(Button(description='Enviar ex01c', style=ButtonStyle()), Output()), _dom_classes=('widge…"
      ]
     },
     "execution_count": 14,
     "metadata": {},
     "output_type": "execute_result"
    }
   ],
   "source": [
    "ia.sender(answer=\"sql_ex01c\", task=\"big_agrupamento\", question=\"ex01c\", answer_type=\"pyvar\")"
   ]
  },
  {
   "cell_type": "markdown",
   "metadata": {},
   "source": [
    "## Funções de Agregação\n",
    "\n",
    "As funções de agregação permitem agrupar os valores de várias linhas, de forma a produzir apenas uma medida resumo. Por exemplo, podemos querer saber o valor total arrecadado pelo IBAMA ou a média dos salários em um determinado mês. Ambas estes cálculos podem ser obtidos pelo uso de funções de agregação.\n",
    "\n",
    "As funções de agregação mais utilizadas são `SUM`, `MIN`, `MAX`, `AVG` e `COUNT`.\n",
    "\n",
    "Para saber mais acesse https://www.postgresql.org/docs/16/functions-aggregate.html"
   ]
  },
  {
   "cell_type": "markdown",
   "metadata": {},
   "source": [
    "Veja um exemplo de cálculo do **valor médio** para as receitas do IBAMA:\n",
    "\n",
    "<div class=\"alert alert-info\">\n",
    "\n",
    "```postgresql\n",
    "SELECT AVG(valor) AS valor_medio\n",
    "FROM ibama.receita\n",
    "```\n",
    "\n",
    "</div>"
   ]
  },
  {
   "cell_type": "markdown",
   "metadata": {},
   "source": [
    "**DICA**: Para arredondar, podemos fazer\n",
    "\n",
    "<div class=\"alert alert-info\">\n",
    "\n",
    "```postgresql\n",
    "SELECT ROUND(CAST(AVG(valor) AS numeric), 2) AS valor_medio\n",
    "FROM ibama.receita\n",
    "```\n",
    "\n",
    "</div>\n",
    "\n",
    "\n",
    "<div class=\"alert alert-warning\">\n",
    "\n",
    "Execute no pgAdmin e confira o resultado!\n",
    "\n",
    "</div>"
   ]
  },
  {
   "cell_type": "markdown",
   "metadata": {},
   "source": [
    "## Exercícios\n",
    "\n",
    "### Exercício 2\n",
    "\n",
    "Vamos analisar os dados da tabela `rais.dados_sp_frac`? Neste exercício iremos trabalhar com funções de agregação.\n",
    "\n",
    "\n",
    "**a)** Exiba uma amostra de 5 registros da tabela. Esta questão não tem correção automática!\n",
    "\n",
    "OBS: Nos tópicos seguintes, utilize todos os registros.\n",
    "\n",
    "<div class=\"alert alert-info\">\n",
    "\n",
    "```sql\n",
    "SELECT * FROM rais.dados_sp_frac\n",
    "LIMIT 5;\n",
    "```\n",
    "\n",
    "</div>"
   ]
  },
  {
   "cell_type": "markdown",
   "metadata": {},
   "source": [
    "**b)** Calcule a média da coluna `vl_rem_janeiro_cc`.\n",
    "\n",
    "Renomeie a coluna para `vl_rem_media_janeiro_cc`!"
   ]
  },
  {
   "cell_type": "code",
   "execution_count": 15,
   "metadata": {},
   "outputs": [],
   "source": [
    "sql_ex02b = \"\"\"\n",
    "SELECT AVG(vl_rem_janeiro_cc)AS vl_rem_media_janeiro_cc\n",
    "FROM rais.dados_sp_frac;\n",
    "\"\"\""
   ]
  },
  {
   "cell_type": "code",
   "execution_count": 16,
   "metadata": {},
   "outputs": [
    {
     "data": {
      "application/vnd.jupyter.widget-view+json": {
       "model_id": "7fafdf6a019b4e10a7b12b6ff9711ca9",
       "version_major": 2,
       "version_minor": 0
      },
      "text/plain": [
       "interactive(children=(Button(description='Enviar ex02b', style=ButtonStyle()), Output()), _dom_classes=('widge…"
      ]
     },
     "execution_count": 16,
     "metadata": {},
     "output_type": "execute_result"
    }
   ],
   "source": [
    "ia.sender(answer=\"sql_ex02b\", task=\"big_agrupamento\", question=\"ex02b\", answer_type=\"pyvar\")"
   ]
  },
  {
   "cell_type": "markdown",
   "metadata": {},
   "source": [
    "**c)** Calcule o maior e o menor valor da coluna `vl_rem_janeiro_cc`.\n",
    "\n",
    "Renomeie a coluna para `maior` e `menor`!"
   ]
  },
  {
   "cell_type": "code",
   "execution_count": 21,
   "metadata": {},
   "outputs": [],
   "source": [
    "sql_ex02c = \"\"\"\n",
    "SELECT MAX(vl_rem_janeiro_cc) AS maior, \n",
    "\t   MIN(vl_rem_janeiro_cc) AS menor\n",
    "FROM rais.dados_sp_frac;\n",
    "\"\"\""
   ]
  },
  {
   "cell_type": "code",
   "execution_count": 22,
   "metadata": {},
   "outputs": [
    {
     "data": {
      "application/vnd.jupyter.widget-view+json": {
       "model_id": "fc6e5cc2b2f6477d961e7420404700bb",
       "version_major": 2,
       "version_minor": 0
      },
      "text/plain": [
       "interactive(children=(Button(description='Enviar ex02c', style=ButtonStyle()), Output()), _dom_classes=('widge…"
      ]
     },
     "execution_count": 22,
     "metadata": {},
     "output_type": "execute_result"
    }
   ],
   "source": [
    "ia.sender(answer=\"sql_ex02c\", task=\"big_agrupamento\", question=\"ex02c\", answer_type=\"pyvar\")"
   ]
  },
  {
   "cell_type": "markdown",
   "metadata": {},
   "source": [
    "**d)** Calcule a média da coluna `vl_rem_janeiro_cc` apenas para os registros que não estejam zerados.\n",
    "\n",
    "Renomeie a coluna para `vl_rem_media_janeiro_cc`!"
   ]
  },
  {
   "cell_type": "code",
   "execution_count": 23,
   "metadata": {},
   "outputs": [],
   "source": [
    "sql_ex02d = \"\"\"\n",
    "SELECT AVG(vl_rem_janeiro_cc) AS vl_rem_media_janeiro_cc\n",
    "FROM rais.dados_sp_frac\n",
    "WHERE vl_rem_janeiro_cc > 0;\n",
    "\"\"\""
   ]
  },
  {
   "cell_type": "code",
   "execution_count": 24,
   "metadata": {},
   "outputs": [
    {
     "data": {
      "application/vnd.jupyter.widget-view+json": {
       "model_id": "e814ce35217046fda84a76b75531aebe",
       "version_major": 2,
       "version_minor": 0
      },
      "text/plain": [
       "interactive(children=(Button(description='Enviar ex02d', style=ButtonStyle()), Output()), _dom_classes=('widge…"
      ]
     },
     "execution_count": 24,
     "metadata": {},
     "output_type": "execute_result"
    }
   ],
   "source": [
    "ia.sender(answer=\"sql_ex02d\", task=\"big_agrupamento\", question=\"ex02d\", answer_type=\"pyvar\")"
   ]
  },
  {
   "cell_type": "markdown",
   "metadata": {},
   "source": [
    "**e)** Calcule a correlação entre a coluna `vl_rem_janeiro_cc` e `vl_rem_fevereiro_cc`.\n",
    "\n",
    "**Dica**: busque por `“correlation coefficient”` em https://www.postgresql.org/docs/15/functions-aggregate.html \n",
    "\n",
    "Renomeie a coluna para `correlacao_jan_fev`!"
   ]
  },
  {
   "cell_type": "code",
   "execution_count": 25,
   "metadata": {},
   "outputs": [],
   "source": [
    "sql_ex02e = \"\"\"\n",
    "SELECT CORR(vl_rem_janeiro_cc, vl_rem_fevereiro_cc) AS correlacao_jan_fev\n",
    "from rais.dados_sp_frac;\n",
    "\"\"\""
   ]
  },
  {
   "cell_type": "code",
   "execution_count": 26,
   "metadata": {},
   "outputs": [
    {
     "data": {
      "application/vnd.jupyter.widget-view+json": {
       "model_id": "5a70cc4809f8415a834dc2bfeafa21c8",
       "version_major": 2,
       "version_minor": 0
      },
      "text/plain": [
       "interactive(children=(Button(description='Enviar ex02e', style=ButtonStyle()), Output()), _dom_classes=('widge…"
      ]
     },
     "execution_count": 26,
     "metadata": {},
     "output_type": "execute_result"
    }
   ],
   "source": [
    "ia.sender(answer=\"sql_ex02e\", task=\"big_agrupamento\", question=\"ex02e\", answer_type=\"pyvar\")"
   ]
  },
  {
   "cell_type": "markdown",
   "metadata": {},
   "source": [
    "**f)** Calcule a correlação entre a coluna `vl_rem_janeiro_cc` e `vl_rem_fevereiro_cc`.\n",
    "\n",
    "Agora, tente considerar apenas os registros preenchidos com valores positivos em ambas as colunas.\n",
    "\n",
    "Renomeie a coluna para `correlacao_jan_fev`!"
   ]
  },
  {
   "cell_type": "code",
   "execution_count": 27,
   "metadata": {},
   "outputs": [],
   "source": [
    "sql_ex02f = \"\"\"\n",
    "SELECT CORR(vl_rem_janeiro_cc, vl_rem_fevereiro_cc) AS correlacao_jan_fev\n",
    "FROM rais.dados_sp_frac\n",
    "WHERE vl_rem_janeiro_cc > 0 AND vl_rem_fevereiro_cc > 0;\n",
    "\"\"\""
   ]
  },
  {
   "cell_type": "code",
   "execution_count": 28,
   "metadata": {},
   "outputs": [
    {
     "data": {
      "application/vnd.jupyter.widget-view+json": {
       "model_id": "aa0ff66c642d4e61821c3bb4dfd723af",
       "version_major": 2,
       "version_minor": 0
      },
      "text/plain": [
       "interactive(children=(Button(description='Enviar ex02f', style=ButtonStyle()), Output()), _dom_classes=('widge…"
      ]
     },
     "execution_count": 28,
     "metadata": {},
     "output_type": "execute_result"
    }
   ],
   "source": [
    "ia.sender(answer=\"sql_ex02f\", task=\"big_agrupamento\", question=\"ex02f\", answer_type=\"pyvar\")"
   ]
  },
  {
   "cell_type": "markdown",
   "metadata": {},
   "source": [
    "### Exercício 3\n",
    "\n",
    "Considere a tabela `ibama.receita`:\n",
    "\n",
    "**a)** Conte a quantidade total de registros.\n",
    "\n",
    "Renomeie a coluna devolvida como `qtde_registros`."
   ]
  },
  {
   "cell_type": "code",
   "execution_count": 29,
   "metadata": {},
   "outputs": [],
   "source": [
    "sql_ex03a = \"\"\"\n",
    "SELECT COUNT(codigo_receita) AS qtde_registros\n",
    "FROM ibama.receita;\n",
    "\"\"\""
   ]
  },
  {
   "cell_type": "code",
   "execution_count": 30,
   "metadata": {
    "scrolled": true
   },
   "outputs": [
    {
     "data": {
      "application/vnd.jupyter.widget-view+json": {
       "model_id": "a742a6b5759548f9a5fb82f049b05dff",
       "version_major": 2,
       "version_minor": 0
      },
      "text/plain": [
       "interactive(children=(Button(description='Enviar ex03a', style=ButtonStyle()), Output()), _dom_classes=('widge…"
      ]
     },
     "execution_count": 30,
     "metadata": {},
     "output_type": "execute_result"
    }
   ],
   "source": [
    "ia.sender(answer=\"sql_ex03a\", task=\"big_agrupamento\", question=\"ex03a\", answer_type=\"pyvar\")"
   ]
  },
  {
   "cell_type": "markdown",
   "metadata": {},
   "source": [
    "**b)** Exiba todas as descrições de fonte de receita contidas na base `ibama.receita`, **eliminando as repetições**.\n",
    "\n",
    "**Dica**: https://www.postgresql.org/docs/15/queries-select-lists.html#QUERIES-DISTINCT \n",
    "\n",
    "Ordene pela descrição da fonte de receita."
   ]
  },
  {
   "cell_type": "code",
   "execution_count": 31,
   "metadata": {},
   "outputs": [],
   "source": [
    "sql_ex03b = \"\"\"\n",
    "SELECT DISTINCT desc_receita\n",
    "FROM ibama.receita\n",
    "ORDER BY desc_receita;\n",
    "\"\"\""
   ]
  },
  {
   "cell_type": "code",
   "execution_count": 32,
   "metadata": {
    "scrolled": true
   },
   "outputs": [
    {
     "data": {
      "application/vnd.jupyter.widget-view+json": {
       "model_id": "bdd3ed9166e74abb880839b82e7f20ff",
       "version_major": 2,
       "version_minor": 0
      },
      "text/plain": [
       "interactive(children=(Button(description='Enviar ex03b', style=ButtonStyle()), Output()), _dom_classes=('widge…"
      ]
     },
     "execution_count": 32,
     "metadata": {},
     "output_type": "execute_result"
    }
   ],
   "source": [
    "ia.sender(answer=\"sql_ex03b\", task=\"big_agrupamento\", question=\"ex03b\", answer_type=\"pyvar\")"
   ]
  },
  {
   "cell_type": "markdown",
   "metadata": {},
   "source": [
    "**c)** Conte quantas descrições diferentes temos na base de dados.\n",
    "\n",
    "Renomeie para `qtde_fonte_receita`."
   ]
  },
  {
   "cell_type": "code",
   "execution_count": 35,
   "metadata": {},
   "outputs": [],
   "source": [
    "sql_ex03c = \"\"\"\n",
    "SELECT COUNT(DISTINCT desc_receita) AS qtde_fonte_receita\n",
    "FROM ibama.receita;\n",
    "\"\"\""
   ]
  },
  {
   "cell_type": "code",
   "execution_count": 36,
   "metadata": {},
   "outputs": [
    {
     "data": {
      "application/vnd.jupyter.widget-view+json": {
       "model_id": "310babe0b2f04a8f91618efe645384b1",
       "version_major": 2,
       "version_minor": 0
      },
      "text/plain": [
       "interactive(children=(Button(description='Enviar ex03c', style=ButtonStyle()), Output()), _dom_classes=('widge…"
      ]
     },
     "execution_count": 36,
     "metadata": {},
     "output_type": "execute_result"
    }
   ],
   "source": [
    "ia.sender(answer=\"sql_ex03c\", task=\"big_agrupamento\", question=\"ex03c\", answer_type=\"pyvar\")"
   ]
  },
  {
   "cell_type": "markdown",
   "metadata": {},
   "source": [
    "**d)** Conte quantos registros são relativos a `\"Flora\"` e ao ano 2010.\n",
    "\n",
    "Renomeie para `qtde_flora_2010`."
   ]
  },
  {
   "cell_type": "code",
   "execution_count": 43,
   "metadata": {},
   "outputs": [],
   "source": [
    "sql_ex03d = \"\"\"\n",
    "SELECT COUNT(*) AS qtde_flora_2010\n",
    "FROM ibama.receita\n",
    "WHERE desc_receita ILIKE '%Flora%'\n",
    "\tAND ano = 2010;\n",
    "\"\"\""
   ]
  },
  {
   "cell_type": "code",
   "execution_count": 44,
   "metadata": {},
   "outputs": [
    {
     "data": {
      "application/vnd.jupyter.widget-view+json": {
       "model_id": "f8051b7426e744d98f5d36fb78983597",
       "version_major": 2,
       "version_minor": 0
      },
      "text/plain": [
       "interactive(children=(Button(description='Enviar ex03d', style=ButtonStyle()), Output()), _dom_classes=('widge…"
      ]
     },
     "execution_count": 44,
     "metadata": {},
     "output_type": "execute_result"
    }
   ],
   "source": [
    "ia.sender(answer=\"sql_ex03d\", task=\"big_agrupamento\", question=\"ex03d\", answer_type=\"pyvar\")"
   ]
  },
  {
   "cell_type": "markdown",
   "metadata": {},
   "source": [
    "**e)** Considerando todos os registros da base, encontre o Valor médio, mínimo e máximo.\n",
    "\n",
    "Renomeie para `vlr_medio`, `vlr_minimo` e `vlr_maximo`."
   ]
  },
  {
   "cell_type": "code",
   "execution_count": 39,
   "metadata": {},
   "outputs": [],
   "source": [
    "sql_ex03e = \"\"\"\n",
    "SELECT AVG(valor) AS vlr_medio,\n",
    "\t   MIN(VALOR) AS vlr_minimo,\n",
    "\t   MAX(VALOR) AS vlr_maximo\n",
    "FROM ibama.receita;\n",
    "\"\"\""
   ]
  },
  {
   "cell_type": "code",
   "execution_count": 40,
   "metadata": {},
   "outputs": [
    {
     "data": {
      "application/vnd.jupyter.widget-view+json": {
       "model_id": "a37a415a14e44911bbe8172847cd0cef",
       "version_major": 2,
       "version_minor": 0
      },
      "text/plain": [
       "interactive(children=(Button(description='Enviar ex03e', style=ButtonStyle()), Output()), _dom_classes=('widge…"
      ]
     },
     "execution_count": 40,
     "metadata": {},
     "output_type": "execute_result"
    }
   ],
   "source": [
    "ia.sender(answer=\"sql_ex03e\", task=\"big_agrupamento\", question=\"ex03e\", answer_type=\"pyvar\")"
   ]
  },
  {
   "cell_type": "markdown",
   "metadata": {},
   "source": [
    "**f)** Considerando os registros apenas do ano de 2018, encontre o Valor médio, mínimo e máximo.\n",
    "\n",
    "Renomeie para `vlr_medio`, `vlr_minimo` e `vlr_maximo`."
   ]
  },
  {
   "cell_type": "code",
   "execution_count": 41,
   "metadata": {},
   "outputs": [],
   "source": [
    "sql_ex03f = \"\"\"\n",
    "SELECT AVG(valor) AS vlr_medio,\n",
    "\t   MIN(VALOR) AS vlr_minimo,\n",
    "\t   MAX(VALOR) AS vlr_maximo\n",
    "FROM ibama.receita\n",
    "WHERE ano = 2018;\n",
    "\"\"\""
   ]
  },
  {
   "cell_type": "code",
   "execution_count": 42,
   "metadata": {
    "scrolled": true
   },
   "outputs": [
    {
     "data": {
      "application/vnd.jupyter.widget-view+json": {
       "model_id": "cb70d67ca548450a8c18d22bb1151e38",
       "version_major": 2,
       "version_minor": 0
      },
      "text/plain": [
       "interactive(children=(Button(description='Enviar ex03f', style=ButtonStyle()), Output()), _dom_classes=('widge…"
      ]
     },
     "execution_count": 42,
     "metadata": {},
     "output_type": "execute_result"
    }
   ],
   "source": [
    "ia.sender(answer=\"sql_ex03f\", task=\"big_agrupamento\", question=\"ex03f\", answer_type=\"pyvar\")"
   ]
  },
  {
   "cell_type": "markdown",
   "metadata": {},
   "source": [
    "E se fosse necessário calcular o valor médio de das receitas do IBAMA ano a ano? Por exemplo:\n",
    "\n",
    "| Ano  | Valor Medio |\n",
    "|------|-------------|\n",
    "| 2016 | 105.10      |\n",
    "| 2017 | 98.75       |\n",
    "| 2018 | 95.30       |\n",
    "\n",
    "\n",
    "Vamos tentar?!\n"
   ]
  },
  {
   "cell_type": "markdown",
   "metadata": {},
   "source": [
    "## Funções de Agrupamento \n",
    "As funções de **agrupamento** permitem considerar os dados em grupos, de forma que as funções de agregação sejam calculadas de forma individual em cada agrupamento.\n",
    "\n",
    "Considere a tabela de dados:\n",
    "\n",
    "| id | nome   | departamento | salario |\n",
    "|----|--------|--------------|---------|\n",
    "| 1  | João   | Marketing    | 5000    |\n",
    "| 2  | Maria  | Financeiro   | 6000    |\n",
    "| 3  | José   | Financeiro   | 7800    |\n",
    "| 4  | Ana    | Marketing    | 4000    |\n",
    "| 5  | Cesar  | Marketing    | 3500    |\n",
    "| 6  | Marina | Financeiro   | 9000    |\n",
    "\n",
    "Para calcular o salário médio, podemos fazer:\n",
    "\n",
    "```postgresql\n",
    "SELECT avg(salario) as salario_medio\n",
    "FROM funcionarios\n",
    "```"
   ]
  },
  {
   "cell_type": "markdown",
   "metadata": {},
   "source": [
    "Entretanto, caso nossa vontade fosse calcular o salário médio **por departamento**, ao tentar fazer:\n",
    "\n",
    "```postgresql\n",
    "SELECT departamento, \n",
    "       avg(salario) as salario_medio\n",
    "FROM funcionarios\n",
    "```\n",
    "\n",
    "Obteríamos um erro, pois a função `avg(salario)` resume todas as linhas em um único valor. Então teríamos uma média, mas vários departamentos e o PostgreSQL não saberia como relacioná-los."
   ]
  },
  {
   "cell_type": "markdown",
   "metadata": {},
   "source": [
    "Precisamos fazer o uso de **agrupamentos** (`GROUP BY`). Assim podemos obter, por exemplo, **a média dos salários por departamento** com a query:\n",
    "\n",
    "\n",
    "```postgresql\n",
    " SELECT departamento,\n",
    "         avg(salario) as salario_medio\n",
    "    FROM funcionarios\n",
    "GROUP BY departamento -- Este comando é novidade!\n",
    "```\n",
    "\n",
    "Que nos retorna como resultado o salário médio por departamento:\n",
    "\n",
    "| departamento | salario |\n",
    "|--------------|---------|\n",
    "| Marketing    | 4166    |\n",
    "| Financeiro   | 7600    |\n",
    "\n",
    "Utilize os próximos exercícios para praticar!"
   ]
  },
  {
   "cell_type": "markdown",
   "metadata": {},
   "source": [
    "### Exercício 4\n",
    "\n",
    "Considere a tabela `ibama.receita`:\n",
    "\n",
    "**a)** Considerando os dados até o ano de 2005, calcule o **valor total** de arrecadação em cada ano.\n",
    "\n",
    "Devolva as colunas `ano` e `valor_total`.\n",
    "\n",
    "Ordene crescente por `ano`."
   ]
  },
  {
   "cell_type": "code",
   "execution_count": 45,
   "metadata": {},
   "outputs": [],
   "source": [
    "sql_ex04a = \"\"\"\n",
    "SELECT ano, SUM(valor) AS valor_total\n",
    "FROM ibama.receita\n",
    "WHERE ano <= 2005\n",
    "GROUP BY ano\n",
    "ORDER BY ano;\n",
    "\"\"\""
   ]
  },
  {
   "cell_type": "code",
   "execution_count": 46,
   "metadata": {
    "scrolled": true
   },
   "outputs": [
    {
     "data": {
      "application/vnd.jupyter.widget-view+json": {
       "model_id": "92091eb8c4e9402db3872a0a8a578874",
       "version_major": 2,
       "version_minor": 0
      },
      "text/plain": [
       "interactive(children=(Button(description='Enviar ex04a', style=ButtonStyle()), Output()), _dom_classes=('widge…"
      ]
     },
     "execution_count": 46,
     "metadata": {},
     "output_type": "execute_result"
    }
   ],
   "source": [
    "ia.sender(answer=\"sql_ex04a\", task=\"big_agrupamento\", question=\"ex04a\", answer_type=\"pyvar\")"
   ]
  },
  {
   "cell_type": "markdown",
   "metadata": {
    "jp-MarkdownHeadingCollapsed": true
   },
   "source": [
    "**b)** Considerando os dados de 2016 a 2019 e apenas os registros onde a descrição da receita contém a palavra `“penalidade”`, calcule o valor médio arrecadado para cada categoria de arrecadação (receita).\n",
    "\n",
    "Devolva as colunas `desc_receita` e `valor_medio`.\n",
    "\n",
    "Ordene de forma decrescente pelo valor médio."
   ]
  },
  {
   "cell_type": "code",
   "execution_count": 49,
   "metadata": {},
   "outputs": [],
   "source": [
    "sql_ex04b = \"\"\"\n",
    "SELECT desc_receita, AVG(valor) AS valor_medio\n",
    "FROM ibama.receita\n",
    "WHERE ano BETWEEN 2016 AND 2019\n",
    "\tAND desc_receita ILIKE '%penalidade%'\n",
    "GROUP BY desc_receita\n",
    "ORDER BY valor_medio DESC;\n",
    "\"\"\""
   ]
  },
  {
   "cell_type": "code",
   "execution_count": 50,
   "metadata": {},
   "outputs": [
    {
     "data": {
      "application/vnd.jupyter.widget-view+json": {
       "model_id": "f6d3d6b400ce457698b184b5360cd355",
       "version_major": 2,
       "version_minor": 0
      },
      "text/plain": [
       "interactive(children=(Button(description='Enviar ex04b', style=ButtonStyle()), Output()), _dom_classes=('widge…"
      ]
     },
     "execution_count": 50,
     "metadata": {},
     "output_type": "execute_result"
    }
   ],
   "source": [
    "ia.sender(answer=\"sql_ex04b\", task=\"big_agrupamento\", question=\"ex04b\", answer_type=\"pyvar\")"
   ]
  },
  {
   "cell_type": "markdown",
   "metadata": {
    "jp-MarkdownHeadingCollapsed": true
   },
   "source": [
    "**c)** Considerando os dados de 2016 a 2019 e apenas os registros onde a descrição da receita contém a palavra `“penalidade”`, para cada ano, calcule:\n",
    "\n",
    "- o valor médio arrecadado.\n",
    "- o valor total arrecadado.\n",
    "- a quantidade total de penalidades.\n",
    "\n",
    "Devolva as colunas (nesta ordem e com estes nomes): `ano`, `valor_medio`, `valor_total` e `quantidade_total`.\n",
    "\n",
    "Ordene de forma crescente pelo ano."
   ]
  },
  {
   "cell_type": "code",
   "execution_count": 53,
   "metadata": {},
   "outputs": [],
   "source": [
    "sql_ex04c = \"\"\"\n",
    "SELECT ano, \n",
    "\t   AVG(valor) AS valor_medio,\n",
    "\t   SUM(valor) AS valor_total,\n",
    "\t   SUM(quantidade) AS quantidade_total\n",
    "FROM ibama.receita\n",
    "WHERE ano BETWEEN 2016 AND 2019\n",
    "\tAND desc_receita ILIKE '%penalidade%'\n",
    "GROUP BY ano\n",
    "ORDER BY ano ASC;\n",
    "\"\"\""
   ]
  },
  {
   "cell_type": "code",
   "execution_count": 54,
   "metadata": {
    "scrolled": true
   },
   "outputs": [
    {
     "data": {
      "application/vnd.jupyter.widget-view+json": {
       "model_id": "4234aec893ad449cb85f8144def028ad",
       "version_major": 2,
       "version_minor": 0
      },
      "text/plain": [
       "interactive(children=(Button(description='Enviar ex04c', style=ButtonStyle()), Output()), _dom_classes=('widge…"
      ]
     },
     "execution_count": 54,
     "metadata": {},
     "output_type": "execute_result"
    }
   ],
   "source": [
    "ia.sender(answer=\"sql_ex04c\", task=\"big_agrupamento\", question=\"ex04c\", answer_type=\"pyvar\")"
   ]
  },
  {
   "cell_type": "markdown",
   "metadata": {},
   "source": [
    "### Exercício 5\n",
    "\n",
    "Considere a tabela `rais.municipio`:\n",
    "\n",
    "**a)** Conte quantos registros a tabela possui.\n",
    "\n",
    "Devolva a coluna `qtde_municipios`."
   ]
  },
  {
   "cell_type": "code",
   "execution_count": 55,
   "metadata": {},
   "outputs": [],
   "source": [
    "sql_ex05a = \"\"\"\n",
    "SELECT COUNT(municipio) AS qtde_municipios\n",
    "FROM rais.municipio;\n",
    "\"\"\""
   ]
  },
  {
   "cell_type": "code",
   "execution_count": 56,
   "metadata": {
    "scrolled": true
   },
   "outputs": [
    {
     "data": {
      "application/vnd.jupyter.widget-view+json": {
       "model_id": "7b0c5a58f78e42c0b4f49cccd64fcf6d",
       "version_major": 2,
       "version_minor": 0
      },
      "text/plain": [
       "interactive(children=(Button(description='Enviar ex05a', style=ButtonStyle()), Output()), _dom_classes=('widge…"
      ]
     },
     "execution_count": 56,
     "metadata": {},
     "output_type": "execute_result"
    }
   ],
   "source": [
    "ia.sender(answer=\"sql_ex05a\", task=\"big_agrupamento\", question=\"ex05a\", answer_type=\"pyvar\")"
   ]
  },
  {
   "cell_type": "markdown",
   "metadata": {},
   "source": [
    "**b)** Conte quantos municipios cada **UF** possui.\n",
    "\n",
    "Devolva as colunas  `uf` e `qtde_municipios`.\n",
    "\n",
    "Ordene da **UF** com mais municípios para a com menos municípios."
   ]
  },
  {
   "cell_type": "code",
   "execution_count": 57,
   "metadata": {},
   "outputs": [],
   "source": [
    "sql_ex05b = \"\"\"\n",
    "SELECT uf, \n",
    "\t   COUNT(municipio) AS qtde_municipios \n",
    "FROM rais.municipio\n",
    "GROUP BY uf\n",
    "ORDER BY qtde_municipios DESC;\n",
    "\"\"\""
   ]
  },
  {
   "cell_type": "code",
   "execution_count": 58,
   "metadata": {},
   "outputs": [
    {
     "data": {
      "application/vnd.jupyter.widget-view+json": {
       "model_id": "d91cdb1754544a6bb680b8bea28dc186",
       "version_major": 2,
       "version_minor": 0
      },
      "text/plain": [
       "interactive(children=(Button(description='Enviar ex05b', style=ButtonStyle()), Output()), _dom_classes=('widge…"
      ]
     },
     "execution_count": 58,
     "metadata": {},
     "output_type": "execute_result"
    }
   ],
   "source": [
    "ia.sender(answer=\"sql_ex05b\", task=\"big_agrupamento\", question=\"ex05b\", answer_type=\"pyvar\")"
   ]
  },
  {
   "cell_type": "markdown",
   "metadata": {},
   "source": [
    "**c)** Considerando a query do exercício anterior, exiba apenas os estados com 225 ou mais cidades.\n",
    "\n",
    "**Dica**: pesquise por `postgresql HAVING`.\n",
    "\n",
    "Devolva as colunas  `uf` e `qtde_municipios`.\n",
    "\n",
    "Ordene da **UF** com mais municípios para a com menos municípios."
   ]
  },
  {
   "cell_type": "code",
   "execution_count": 59,
   "metadata": {},
   "outputs": [],
   "source": [
    "sql_ex05c = \"\"\"\n",
    "SELECT\n",
    "\tuf,\n",
    "\tCOUNT(municipio) AS qtde_municipios\n",
    "FROM rais.municipio\n",
    "GROUP BY uf\n",
    "HAVING COUNT(municipio) >= 225\n",
    "ORDER BY qtde_municipios DESC;\n",
    "\"\"\""
   ]
  },
  {
   "cell_type": "code",
   "execution_count": 60,
   "metadata": {},
   "outputs": [
    {
     "data": {
      "application/vnd.jupyter.widget-view+json": {
       "model_id": "a22b09e53f2c4fba898dfd33b71a9b45",
       "version_major": 2,
       "version_minor": 0
      },
      "text/plain": [
       "interactive(children=(Button(description='Enviar ex05c', style=ButtonStyle()), Output()), _dom_classes=('widge…"
      ]
     },
     "execution_count": 60,
     "metadata": {},
     "output_type": "execute_result"
    }
   ],
   "source": [
    "ia.sender(answer=\"sql_ex05c\", task=\"big_agrupamento\", question=\"ex05c\", answer_type=\"pyvar\")"
   ]
  },
  {
   "cell_type": "markdown",
   "metadata": {},
   "source": [
    "### Comentários\n",
    "\n",
    "Comentários podem ser úteis para auxiliar na compreensão das queries. Em SQL, utilizaremos `--` e tudo a direita será considerado como comentário. Veja um exemplo:"
   ]
  },
  {
   "cell_type": "markdown",
   "metadata": {},
   "source": [
    "<div class=\"alert alert-info\">\n",
    "\n",
    "```postgresql\n",
    "-- Vou buscar por um CNAE específico\n",
    "SELECT *\n",
    "FROM rais.cnae c\n",
    "WHERE c.desc_cnae_20_subclasse = 'Previdência Complementar Fechada'\n",
    "```\n",
    "\n",
    "</div>"
   ]
  },
  {
   "cell_type": "markdown",
   "metadata": {},
   "source": [
    "## Conferir notas\n",
    "\n",
    "Vamos verificar se as notas foram gravadas nos exercícios!"
   ]
  },
  {
   "cell_type": "code",
   "execution_count": 61,
   "metadata": {},
   "outputs": [
    {
     "data": {
      "text/markdown": [
       "|    | Atividade       | Exercício   |   Peso |   Nota |\n",
       "|---:|:----------------|:------------|-------:|-------:|\n",
       "|  0 | big_agrupamento | ex01a       |      1 |     10 |\n",
       "|  1 | big_agrupamento | ex01b       |      1 |     10 |\n",
       "|  2 | big_agrupamento | ex01c       |      1 |     10 |\n",
       "|  3 | big_agrupamento | ex02b       |      1 |     10 |\n",
       "|  4 | big_agrupamento | ex02c       |      1 |     10 |\n",
       "|  5 | big_agrupamento | ex02d       |      1 |     10 |\n",
       "|  6 | big_agrupamento | ex02e       |      1 |     10 |\n",
       "|  7 | big_agrupamento | ex02f       |      1 |     10 |\n",
       "|  8 | big_agrupamento | ex03a       |      1 |     10 |\n",
       "|  9 | big_agrupamento | ex03b       |      1 |     10 |\n",
       "| 10 | big_agrupamento | ex03c       |      1 |     10 |\n",
       "| 11 | big_agrupamento | ex03d       |      1 |     10 |\n",
       "| 12 | big_agrupamento | ex03e       |      1 |     10 |\n",
       "| 13 | big_agrupamento | ex03f       |      1 |     10 |\n",
       "| 14 | big_agrupamento | ex04a       |      1 |     10 |\n",
       "| 15 | big_agrupamento | ex04b       |      1 |     10 |\n",
       "| 16 | big_agrupamento | ex04c       |      1 |     10 |\n",
       "| 17 | big_agrupamento | ex05a       |      1 |     10 |\n",
       "| 18 | big_agrupamento | ex05b       |      1 |     10 |\n",
       "| 19 | big_agrupamento | ex05c       |      1 |     10 |"
      ],
      "text/plain": [
       "<IPython.core.display.Markdown object>"
      ]
     },
     "metadata": {},
     "output_type": "display_data"
    }
   ],
   "source": [
    "ia.grades(task=\"big_agrupamento\")"
   ]
  },
  {
   "cell_type": "markdown",
   "metadata": {},
   "source": [
    "Vamos verificar se a nota da atividade está ok:"
   ]
  },
  {
   "cell_type": "code",
   "execution_count": 62,
   "metadata": {},
   "outputs": [
    {
     "data": {
      "text/markdown": [
       "|    | Tarefa          |   Nota |\n",
       "|---:|:----------------|-------:|\n",
       "|  0 | big_agrupamento |     10 |"
      ],
      "text/plain": [
       "<IPython.core.display.Markdown object>"
      ]
     },
     "metadata": {},
     "output_type": "display_data"
    }
   ],
   "source": [
    "ia.grades(by=\"TASK\", task=\"big_agrupamento\")"
   ]
  },
  {
   "cell_type": "markdown",
   "metadata": {},
   "source": [
    "## Finalizando o trabalho"
   ]
  },
  {
   "cell_type": "markdown",
   "metadata": {},
   "source": [
    "Por hoje é só!"
   ]
  }
 ],
 "metadata": {
  "kernelspec": {
   "display_name": "venv",
   "language": "python",
   "name": "python3"
  },
  "language_info": {
   "codemirror_mode": {
    "name": "ipython",
    "version": 3
   },
   "file_extension": ".py",
   "mimetype": "text/x-python",
   "name": "python",
   "nbconvert_exporter": "python",
   "pygments_lexer": "ipython3",
   "version": "3.12.7"
  }
 },
 "nbformat": 4,
 "nbformat_minor": 4
}
