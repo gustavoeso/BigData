{
 "cells": [
  {
   "cell_type": "markdown",
   "metadata": {},
   "source": [
    "# `JOIN` - Junção de tabelas\n",
    "\n",
    "Nesta aula continuaremos a trabalhar com **SQL** (*Structured Query Language*), adicionando novos recursos que nos auxiliam na analise e transformação de bases de dados.\n",
    " \n",
    " Na aula anterior vimos como utilizar funções de agregação como `COUNT`, `MIN`, `MAX` e `AVG`. Com elas conseguimos criar **medidas resumo** dos nossos dados.\n",
    "\n",
    "Ainda, ao utilizar também a cláusula `GROUP BY`, é possível criar medidas resumo para sub-conjuntos dos dados.\n",
    "\n",
    "Veja um exemplo que encontra o total arrecadado agrupando por fonte de receita:\n"
   ]
  },
  {
   "cell_type": "markdown",
   "metadata": {},
   "source": [
    "<div class=\"alert alert-info\">\n",
    "\n",
    "```postgresql\n",
    "  SELECT r.desc_receita,\n",
    "         SUM(r.valor) AS total_arrecadado\n",
    "    FROM ibama.receita r\n",
    "   WHERE r.ano <= 2020\n",
    "GROUP BY r.desc_receita\n",
    "ORDER BY total_arrecadado DESC\n",
    "\n",
    "-- Com order by eu posso utilizar tanto ASC (Crescente) quanto DESC (Decrescente)\n",
    "-- ASC é o padrão!\n",
    "\n",
    "\n",
    "```\n",
    "\n",
    "</div>"
   ]
  },
  {
   "cell_type": "markdown",
   "metadata": {},
   "source": [
    "Observe que podemos utilizar dois traços (`--`) para criar **comentários**, que não irão produzir resultado quando a query for executada.\n"
   ]
  },
  {
   "cell_type": "markdown",
   "metadata": {
    "jp-MarkdownHeadingCollapsed": true
   },
   "source": [
    "## Insper Autograding\n",
    "\n",
    "Iremos utilizar uma ferramenta para correção automática de nossas queries. Ao responder os exercícios, será possível enviar a solução para um servidor, que dará feedback quase que instantâneo sobre a resposta.\n",
    "\n",
    "Siga os passos deste notebook para realizar a instalação da biblioteca de correção de exercícios nos notebooks da disciplina de Big Data para Dados Públicos!"
   ]
  },
  {
   "cell_type": "markdown",
   "metadata": {},
   "source": [
    "## Instalação\n",
    "\n",
    "Vamos instalar a biblioteca (este passo só precisa ser executado uma vez):"
   ]
  },
  {
   "cell_type": "code",
   "execution_count": 1,
   "metadata": {},
   "outputs": [
    {
     "name": "stdout",
     "output_type": "stream",
     "text": [
      "Found existing installation: insperautograder 0.2.1\n",
      "Uninstalling insperautograder-0.2.1:\n",
      "  Successfully uninstalled insperautograder-0.2.1\n",
      "Collecting git+https://github.com/macielcalebe/insperautograding.git\n",
      "  Cloning https://github.com/macielcalebe/insperautograding.git to c:\\users\\guoli\\appdata\\local\\temp\\pip-req-build-j8kp0s6z\n",
      "  Resolved https://github.com/macielcalebe/insperautograding.git to commit e0089289749b23541216df5057ef19dfc6fbbe82\n",
      "  Installing build dependencies: started\n",
      "  Installing build dependencies: finished with status 'done'\n",
      "  Getting requirements to build wheel: started\n",
      "  Getting requirements to build wheel: finished with status 'done'\n",
      "  Preparing metadata (pyproject.toml): started\n",
      "  Preparing metadata (pyproject.toml): finished with status 'done'\n",
      "Requirement already satisfied: python-dotenv in c:\\users\\guoli\\documents\\insper\\bigdata\\venv\\lib\\site-packages (from insperautograder==0.2.1) (1.0.1)\n",
      "Requirement already satisfied: requests in c:\\users\\guoli\\documents\\insper\\bigdata\\venv\\lib\\site-packages (from insperautograder==0.2.1) (2.32.3)\n",
      "Requirement already satisfied: ipython in c:\\users\\guoli\\documents\\insper\\bigdata\\venv\\lib\\site-packages (from insperautograder==0.2.1) (8.26.0)\n",
      "Requirement already satisfied: ipywidgets in c:\\users\\guoli\\documents\\insper\\bigdata\\venv\\lib\\site-packages (from insperautograder==0.2.1) (8.1.5)\n",
      "Requirement already satisfied: decorator in c:\\users\\guoli\\documents\\insper\\bigdata\\venv\\lib\\site-packages (from ipython->insperautograder==0.2.1) (5.1.1)\n",
      "Requirement already satisfied: jedi>=0.16 in c:\\users\\guoli\\documents\\insper\\bigdata\\venv\\lib\\site-packages (from ipython->insperautograder==0.2.1) (0.19.1)\n",
      "Requirement already satisfied: matplotlib-inline in c:\\users\\guoli\\documents\\insper\\bigdata\\venv\\lib\\site-packages (from ipython->insperautograder==0.2.1) (0.1.7)\n",
      "Requirement already satisfied: prompt-toolkit<3.1.0,>=3.0.41 in c:\\users\\guoli\\documents\\insper\\bigdata\\venv\\lib\\site-packages (from ipython->insperautograder==0.2.1) (3.0.47)\n",
      "Requirement already satisfied: pygments>=2.4.0 in c:\\users\\guoli\\documents\\insper\\bigdata\\venv\\lib\\site-packages (from ipython->insperautograder==0.2.1) (2.18.0)\n",
      "Requirement already satisfied: stack-data in c:\\users\\guoli\\documents\\insper\\bigdata\\venv\\lib\\site-packages (from ipython->insperautograder==0.2.1) (0.6.3)\n",
      "Requirement already satisfied: traitlets>=5.13.0 in c:\\users\\guoli\\documents\\insper\\bigdata\\venv\\lib\\site-packages (from ipython->insperautograder==0.2.1) (5.14.3)\n",
      "Requirement already satisfied: colorama in c:\\users\\guoli\\documents\\insper\\bigdata\\venv\\lib\\site-packages (from ipython->insperautograder==0.2.1) (0.4.6)\n",
      "Requirement already satisfied: comm>=0.1.3 in c:\\users\\guoli\\documents\\insper\\bigdata\\venv\\lib\\site-packages (from ipywidgets->insperautograder==0.2.1) (0.2.2)\n",
      "Requirement already satisfied: widgetsnbextension~=4.0.12 in c:\\users\\guoli\\documents\\insper\\bigdata\\venv\\lib\\site-packages (from ipywidgets->insperautograder==0.2.1) (4.0.13)\n",
      "Requirement already satisfied: jupyterlab-widgets~=3.0.12 in c:\\users\\guoli\\documents\\insper\\bigdata\\venv\\lib\\site-packages (from ipywidgets->insperautograder==0.2.1) (3.0.13)\n",
      "Requirement already satisfied: charset-normalizer<4,>=2 in c:\\users\\guoli\\documents\\insper\\bigdata\\venv\\lib\\site-packages (from requests->insperautograder==0.2.1) (3.4.0)\n",
      "Requirement already satisfied: idna<4,>=2.5 in c:\\users\\guoli\\documents\\insper\\bigdata\\venv\\lib\\site-packages (from requests->insperautograder==0.2.1) (3.10)\n",
      "Requirement already satisfied: urllib3<3,>=1.21.1 in c:\\users\\guoli\\documents\\insper\\bigdata\\venv\\lib\\site-packages (from requests->insperautograder==0.2.1) (2.2.2)\n",
      "Requirement already satisfied: certifi>=2017.4.17 in c:\\users\\guoli\\documents\\insper\\bigdata\\venv\\lib\\site-packages (from requests->insperautograder==0.2.1) (2024.8.30)\n",
      "Requirement already satisfied: parso<0.9.0,>=0.8.3 in c:\\users\\guoli\\documents\\insper\\bigdata\\venv\\lib\\site-packages (from jedi>=0.16->ipython->insperautograder==0.2.1) (0.8.4)\n",
      "Requirement already satisfied: wcwidth in c:\\users\\guoli\\documents\\insper\\bigdata\\venv\\lib\\site-packages (from prompt-toolkit<3.1.0,>=3.0.41->ipython->insperautograder==0.2.1) (0.2.13)\n",
      "Requirement already satisfied: executing>=1.2.0 in c:\\users\\guoli\\documents\\insper\\bigdata\\venv\\lib\\site-packages (from stack-data->ipython->insperautograder==0.2.1) (2.0.1)\n",
      "Requirement already satisfied: asttokens>=2.1.0 in c:\\users\\guoli\\documents\\insper\\bigdata\\venv\\lib\\site-packages (from stack-data->ipython->insperautograder==0.2.1) (2.4.1)\n",
      "Requirement already satisfied: pure-eval in c:\\users\\guoli\\documents\\insper\\bigdata\\venv\\lib\\site-packages (from stack-data->ipython->insperautograder==0.2.1) (0.2.3)\n",
      "Requirement already satisfied: six>=1.12.0 in c:\\users\\guoli\\documents\\insper\\bigdata\\venv\\lib\\site-packages (from asttokens>=2.1.0->stack-data->ipython->insperautograder==0.2.1) (1.16.0)\n",
      "Building wheels for collected packages: insperautograder\n",
      "  Building wheel for insperautograder (pyproject.toml): started\n",
      "  Building wheel for insperautograder (pyproject.toml): finished with status 'done'\n",
      "  Created wheel for insperautograder: filename=insperautograder-0.2.1-py3-none-any.whl size=4484 sha256=5f646791a516229238f0b5a0d742afd97ab214d61e4d9c53a0f6986768e6865b\n",
      "  Stored in directory: C:\\Users\\guoli\\AppData\\Local\\Temp\\pip-ephem-wheel-cache-z94ct_li\\wheels\\53\\12\\56\\19fee21cc2d0ca77eb943fe40500aedc79b8ef8b6155282bad\n",
      "Successfully built insperautograder\n",
      "Installing collected packages: insperautograder\n",
      "Successfully installed insperautograder-0.2.1\n"
     ]
    },
    {
     "name": "stderr",
     "output_type": "stream",
     "text": [
      "  Running command git clone --filter=blob:none --quiet https://github.com/macielcalebe/insperautograding.git 'C:\\Users\\guoli\\AppData\\Local\\Temp\\pip-req-build-j8kp0s6z'\n"
     ]
    }
   ],
   "source": [
    "!pip uninstall -y insperautograder\n",
    "!pip install git+https://github.com/macielcalebe/insperautograding.git"
   ]
  },
  {
   "cell_type": "markdown",
   "metadata": {},
   "source": [
    "## Importando as bibliotecas"
   ]
  },
  {
   "cell_type": "code",
   "execution_count": 2,
   "metadata": {},
   "outputs": [],
   "source": [
    "import os\n",
    "import insperautograder.jupyter as ia"
   ]
  },
  {
   "cell_type": "markdown",
   "metadata": {},
   "source": [
    "## Configurar ambiente\n",
    "\n",
    "Execute a célula para configurar nosso ambiente de execução:"
   ]
  },
  {
   "cell_type": "code",
   "execution_count": 3,
   "metadata": {},
   "outputs": [],
   "source": [
    "os.environ[\"IAG_OFFERING\"] = \"24-2\"\n",
    "os.environ[\"IAG_SUBJECT\"] = \"bigdata\"\n",
    "os.environ[\"IAG_SERVER_URL\"] = \"https://bigdata.insper-comp.com.br/iag\""
   ]
  },
  {
   "cell_type": "markdown",
   "metadata": {},
   "source": [
    "## Me diga quem você é\n",
    "\n",
    "Utilize o **Token** enviado para seu e-mail para que você seja identificado pelo servidor de testes.\n",
    "\n",
    "Substitua `iagtok_xxx...` pelo token enviado para seu e-mail."
   ]
  },
  {
   "cell_type": "code",
   "execution_count": 4,
   "metadata": {},
   "outputs": [],
   "source": [
    "os.environ[\"IAG_TOKEN\"] = \"iagtok_5a108a060f12201c8213e080504ddc32af887262cf527192\""
   ]
  },
  {
   "cell_type": "markdown",
   "metadata": {},
   "source": [
    "## Conferir atividades e notas\n",
    "\n",
    "Conferindo quais atividades estão disponíveis!"
   ]
  },
  {
   "cell_type": "code",
   "execution_count": 5,
   "metadata": {},
   "outputs": [
    {
     "data": {
      "text/markdown": [
       "|    | Atividade       | De                  | Até                 |\n",
       "|---:|:----------------|:--------------------|:--------------------|\n",
       "|  0 | databricks      | 2024-09-03 00:00:00 | 2024-09-25 23:59:59 |\n",
       "|  1 | big_agrupamento | 2024-10-15 00:00:00 | 2024-11-05 23:59:59 |\n",
       "|  2 | big_join        | 2024-10-22 00:00:00 | 2024-11-17 23:59:59 |"
      ],
      "text/plain": [
       "<IPython.core.display.Markdown object>"
      ]
     },
     "metadata": {},
     "output_type": "display_data"
    }
   ],
   "source": [
    "ia.tasks()"
   ]
  },
  {
   "cell_type": "markdown",
   "metadata": {},
   "source": [
    "Conferindo a nota por exercício na atividade:"
   ]
  },
  {
   "cell_type": "code",
   "execution_count": 6,
   "metadata": {},
   "outputs": [
    {
     "data": {
      "text/markdown": [
       "|    | Atividade   | Exercício   |   Peso |   Nota |\n",
       "|---:|:------------|:------------|-------:|-------:|\n",
       "|  0 | big_join    | ex01a       |      1 |      0 |\n",
       "|  1 | big_join    | ex01b       |      1 |      0 |\n",
       "|  2 | big_join    | ex01c       |      1 |      0 |\n",
       "|  3 | big_join    | ex02a       |      3 |      0 |\n",
       "|  4 | big_join    | ex02b       |      3 |      0 |\n",
       "|  5 | big_join    | ex02c       |      4 |      0 |\n",
       "|  6 | big_join    | ex03a       |      1 |      0 |\n",
       "|  7 | big_join    | ex03b       |      1 |      0 |\n",
       "|  8 | big_join    | ex03c       |      3 |      0 |\n",
       "|  9 | big_join    | ex03d       |      4 |      0 |\n",
       "| 10 | big_join    | ex03e       |      1 |      0 |\n",
       "| 11 | big_join    | ex03f       |      4 |      0 |"
      ],
      "text/plain": [
       "<IPython.core.display.Markdown object>"
      ]
     },
     "metadata": {},
     "output_type": "display_data"
    }
   ],
   "source": [
    "ia.grades(task='big_join')"
   ]
  },
  {
   "cell_type": "markdown",
   "metadata": {},
   "source": [
    "Conferindo a nota geral nas atividades"
   ]
  },
  {
   "cell_type": "code",
   "execution_count": 7,
   "metadata": {},
   "outputs": [
    {
     "data": {
      "text/markdown": [
       "|    | Tarefa          |   Nota |\n",
       "|---:|:----------------|-------:|\n",
       "|  0 | big_agrupamento |     10 |\n",
       "|  1 | big_join        |      0 |\n",
       "|  2 | databricks      |     10 |"
      ],
      "text/plain": [
       "<IPython.core.display.Markdown object>"
      ]
     },
     "metadata": {},
     "output_type": "display_data"
    }
   ],
   "source": [
    "ia.grades(by='TASK')"
   ]
  },
  {
   "cell_type": "markdown",
   "metadata": {},
   "source": [
    "## Base de dados `compras`\n",
    "\n",
    "Nesta aula, iremos utilizar uma base de dados fictícia chamada `compras`.\n",
    "\n",
    "Esta base de dados possui poucas linhas em suas tabelas, o que irá permitir a fácil verificação das *queries* utilizadas para desenvolver os conceitos da aula.\n",
    "\n",
    "<div class=\"alert alert-info\">\n",
    "\n",
    "Abra o **pgAdmin** e confira as tabelas disponíveis no *schema*  `compras`.\n",
    "\n",
    "</div>"
   ]
  },
  {
   "cell_type": "markdown",
   "metadata": {},
   "source": [
    "## Exercícios para relembrar\n",
    "\n",
    "Vamos praticar para relembrar os conteúdos da última aula!\n",
    "\n",
    "Ao responder os exercícios, primeiro você deve acessar https://eletiva.bigdata.insper-comp.com.br/pgadmin4 e utilizar seus conhecimentos de **SQL** para produzir e verificar as respostas.\n",
    "\n",
    "Quando estiver bastante confiante que a resposta está correta, copie e cole ela no local indicado e faça o envio para o servidor."
   ]
  },
  {
   "cell_type": "markdown",
   "metadata": {},
   "source": [
    "### Exercício 1\n",
    "\n",
    "Utilize o *schema* `compras` neste exercício.\n",
    "\n",
    "**a)** Exiba todas linhas da tabela `cliente`.\n",
    "\n",
    "Ordene de forma decrescente pela data de nascimento."
   ]
  },
  {
   "cell_type": "code",
   "execution_count": 8,
   "metadata": {},
   "outputs": [],
   "source": [
    "sql_ex01a = \"\"\"\n",
    "SELECT * FROM compras.cliente\n",
    "ORDER BY data_nasc DESC;\n",
    "\"\"\""
   ]
  },
  {
   "cell_type": "markdown",
   "metadata": {},
   "source": [
    "Produza sua resposta no pgAdmin.\n",
    "\n",
    "Quando estiver confiante, cole sua resposta na célula acima, execute-a e clique no botão abaixo para fazer o envio."
   ]
  },
  {
   "cell_type": "code",
   "execution_count": 9,
   "metadata": {},
   "outputs": [
    {
     "data": {
      "application/vnd.jupyter.widget-view+json": {
       "model_id": "ec2e56b991c14084a7bdf74a2bfdeeda",
       "version_major": 2,
       "version_minor": 0
      },
      "text/plain": [
       "interactive(children=(Button(description='Enviar ex01a', style=ButtonStyle()), Output()), _dom_classes=('widge…"
      ]
     },
     "execution_count": 9,
     "metadata": {},
     "output_type": "execute_result"
    }
   ],
   "source": [
    "ia.sender(answer=\"sql_ex01a\", task=\"big_join\", question=\"ex01a\", answer_type=\"pyvar\")"
   ]
  },
  {
   "cell_type": "markdown",
   "metadata": {},
   "source": [
    "**b)** Com os dados da tabela `compra`, calcule o valor total vendido em cada data.\n",
    "\n",
    "Exiba uma tabela com duas colunas, `data` e `valor_total_vendido`.\n",
    "\n",
    "Ordene crescente por `data`."
   ]
  },
  {
   "cell_type": "code",
   "execution_count": 10,
   "metadata": {},
   "outputs": [],
   "source": [
    "sql_ex01b = \"\"\"\n",
    "SELECT data, SUM(valor_total) AS valor_total_vendido\n",
    "FROM compras.compra\n",
    "GROUP BY data\n",
    "ORDER BY data ASC;\n",
    "\"\"\""
   ]
  },
  {
   "cell_type": "markdown",
   "metadata": {},
   "source": [
    "Clique no botão abaixo para fazer o envio."
   ]
  },
  {
   "cell_type": "code",
   "execution_count": 11,
   "metadata": {},
   "outputs": [
    {
     "data": {
      "application/vnd.jupyter.widget-view+json": {
       "model_id": "5f20bf7f8d8f4a049b6a2e02f8cd4593",
       "version_major": 2,
       "version_minor": 0
      },
      "text/plain": [
       "interactive(children=(Button(description='Enviar ex01b', style=ButtonStyle()), Output()), _dom_classes=('widge…"
      ]
     },
     "execution_count": 11,
     "metadata": {},
     "output_type": "execute_result"
    }
   ],
   "source": [
    "ia.sender(answer=\"sql_ex01b\", task=\"big_join\", question=\"ex01b\", answer_type=\"pyvar\")"
   ]
  },
  {
   "cell_type": "markdown",
   "metadata": {},
   "source": [
    "**c)** Considerando os dados da tabela `item_compra`, quantos items foram comprados com quantidade acima de `1`?\n",
    "\n",
    "Retorne como `qt_items`."
   ]
  },
  {
   "cell_type": "code",
   "execution_count": 14,
   "metadata": {},
   "outputs": [],
   "source": [
    "sql_ex01c = \"\"\"\n",
    "SELECT COUNT(valor_unitario) AS qt_items\n",
    "FROM compras.item_compra\n",
    "WHERE quantidade > 1;\n",
    "\"\"\""
   ]
  },
  {
   "cell_type": "markdown",
   "metadata": {},
   "source": [
    "Clique no botão abaixo para fazer o envio."
   ]
  },
  {
   "cell_type": "code",
   "execution_count": 15,
   "metadata": {
    "scrolled": true
   },
   "outputs": [
    {
     "data": {
      "application/vnd.jupyter.widget-view+json": {
       "model_id": "91686640225c415a87e136bf9c14c64e",
       "version_major": 2,
       "version_minor": 0
      },
      "text/plain": [
       "interactive(children=(Button(description='Enviar ex01c', style=ButtonStyle()), Output()), _dom_classes=('widge…"
      ]
     },
     "execution_count": 15,
     "metadata": {},
     "output_type": "execute_result"
    }
   ],
   "source": [
    "ia.sender(answer=\"sql_ex01c\", task=\"big_join\", question=\"ex01c\", answer_type=\"pyvar\")"
   ]
  },
  {
   "cell_type": "markdown",
   "metadata": {},
   "source": [
    "**d)** Retorne, na tabela `cliente`, as informações do cliente com ID `4`.\n",
    "\n",
    "Verifique, na tabela de `compra`, se este cliente possui alguma compra.\n",
    "\n",
    "Este exercício não tem correção automática."
   ]
  },
  {
   "cell_type": "code",
   "execution_count": 16,
   "metadata": {},
   "outputs": [],
   "source": [
    "sql_ex01d = \"\"\"\n",
    "SELECT * FROM compras.cliente\n",
    "WHERE cliente_id = 4;\n",
    "\n",
    "SELECT * FROM compras.compra\n",
    "WHERE cliente_id = 4;\n",
    "\n",
    "Não tem registro de compras para o cliente_id = 4.\n",
    "\"\"\""
   ]
  },
  {
   "cell_type": "markdown",
   "metadata": {},
   "source": [
    "## Junção de Dados\n",
    "\n",
    "As bases de dados relacionais permitem armazenar informações de forma organizada em diferentes tabelas.\n",
    "\n",
    "Entretanto, em certas situações será necessário realizar a junção entre informações de diferentes tabelas.\n",
    "\n",
    "<img src=\"https://bigdata-insper.s3.us-east-2.amazonaws.com/img/join.png\" width=\"50%\">\n",
    "\n",
    "Observe a seguinte situação.\n",
    "\n",
    "Ao fazer\n",
    "\n",
    "<div class=\"alert alert-info\">\n",
    "\n",
    "```postgresql\n",
    "SELECT c.*\n",
    "FROM compras.cliente AS c\n",
    "WHERE c.id_cliente = 1\n",
    "```\n",
    "\n",
    "</div>\n",
    "\n",
    "Obtemos que o cliente com ID `1` é a *\"Ana Junqueira\"*. Ainda, percebemos que sua cidade possui ID `2`.\n",
    "\n",
    "Então, para descobrir a cidade da \"*Ana*\", fazemos\n",
    "\n",
    "<div class=\"alert alert-info\">\n",
    "\n",
    "```postgresql\n",
    "SELECT cd.*\n",
    "FROM compras.cidade AS cd\n",
    "WHERE cd.id_cidade = 2\n",
    "```\n",
    "\n",
    "</div>"
   ]
  },
  {
   "cell_type": "markdown",
   "metadata": {},
   "source": [
    "Note que foram necessárias duas *queries*:\n",
    "\n",
    "- Uma para descobrir as informações do cliente\n",
    "- Outra para as informações da cidade do cliente\n",
    "\n",
    "Pois a informação da cidade está em uma outra tabela.\n",
    "\n",
    "Ambas as tabelas (de `cliente` e de `cidade`) se **relacionam**. Sempre que queremos informar a cidade do cliente, basta verificar se a cidade já está cadastrada na base e apenas informar o `id_cidade` na tabela de `cliente`.\n",
    "\n",
    "<div class=\"alert alert-success\">\n",
    "\n",
    "Organizar as informações em múltiplas tabelas evita duplicações no armazenamento de informações.\n",
    "\n",
    "Imagine se cada cliente de `\"Campinas\"` tivesse todas as informações da cidade duplicadas em seu cadastro. Isto seria ineficiente.\n",
    "\n",
    "</div>"
   ]
  },
  {
   "cell_type": "markdown",
   "metadata": {},
   "source": [
    "Uma pergunta que podemos fazer é:\n",
    "\n",
    "<div class=\"alert alert-warning\">\n",
    "\n",
    "Precisamos mesmo de duas *queries*?\n",
    "\n",
    "É possível fazer a **junção** dos dados de ambas as tabelas **em uma única query**, trazendo as informações tanto do **cliente** quanto da **cidade do cliente**?\n",
    "\n",
    "</div>\n",
    "\n",
    "Faremos isto utilizando **Join**.\n",
    "\n",
    "Vamos praticar estes conceitos nas tabelas do *schema* `compras`."
   ]
  },
  {
   "cell_type": "markdown",
   "metadata": {},
   "source": [
    "### `INNER JOIN`\n",
    "\n",
    "O `INNER JOIN` faz uma **intersecção** entre as tabelas e pode ser representado pelo seguinte diagrama:\n",
    "\n",
    "<img src=\"https://bigdata-insper.s3.us-east-2.amazonaws.com/img/inner_join.png\" width=\"33%\">\n",
    "\n",
    "Veja um exemplo de `INNER JOIN` para trazer as informações dos clientes e das cidades dos clientes:\n",
    "\n",
    "<div class=\"alert alert-info\">\n",
    "\n",
    "```postgresql\n",
    "-- Após o \"ON\", definimos o critério que define quais linhas\n",
    "-- serão relacionadas com quais linhas\n",
    "\n",
    "SELECT cli.cliente_id,\n",
    "       cli.nome,\n",
    "       cli.data_nasc,\n",
    "       cid.*\n",
    "FROM compras.cliente AS cli\n",
    "INNER JOIN compras.cidade AS cid ON cli.cidade_id = cid.cidade_id;\n",
    "```\n",
    "\n",
    "</div>"
   ]
  },
  {
   "cell_type": "markdown",
   "metadata": {},
   "source": [
    "<div class=\"alert alert-warning\">\n",
    "\n",
    "Analise:\n",
    "\n",
    "Por que alguns clientes não são exibidos no resultado? E as cidades, todas aparecem?\n",
    "\n",
    "</div>"
   ]
  },
  {
   "cell_type": "markdown",
   "metadata": {},
   "source": [
    "**R**: Sua resposta AQUI!"
   ]
  },
  {
   "cell_type": "markdown",
   "metadata": {},
   "source": [
    "#### `INNER JOIN` com cláusula `WHERE` \n",
    "\n",
    "Também é possível fazer `INNER JOIN` na cláusula `WHERE`.\n",
    "\n",
    "Veja um exemplo que produz o mesmo resultado visto no `INNER JOIN`.\n",
    "<div class=\"alert alert-info\">\n",
    "\n",
    "```postgresql\n",
    "SELECT cli.cliente_id,\n",
    "       cli.nome,\n",
    "       cli.data_nasc,\n",
    "       cid.*\n",
    "FROM compras.cliente AS cli,\n",
    "     compras.cidade AS cid\n",
    "WHERE\n",
    "    cli.cidade_id = cid.cidade_id;\n",
    "```\n",
    "\n",
    "</div>"
   ]
  },
  {
   "cell_type": "markdown",
   "metadata": {},
   "source": [
    "### `LEFT JOIN`\n",
    "\n",
    "O `LEFT JOIN` pode ser representado pelo seguinte diagrama:\n",
    "\n",
    "<img src=\"https://bigdata-insper.s3.us-east-2.amazonaws.com/img/left_join.png\" width=\"33%\">\n",
    "\n",
    "Além de retornar a **intersecção** entre as tabelas, o `LEFT JOIN` garante que todos os registros da tabela da esquerda serão retornados pelo menos uma vez. Caso exista alguma linha da tabela que não contenha relação com a tabela da direita, então as colunas da tabela da direita ficam com valores **null**.\n",
    "\n",
    "Veja um exemplo de `LEFT JOIN` para trazer as informações dos clientes e das cidades dos clientes:\n",
    "\n",
    "<div class=\"alert alert-info\">\n",
    "\n",
    "```postgresql\n",
    "SELECT cli.cliente_id,\n",
    "       cli.nome,\n",
    "       cli.data_nasc,\n",
    "       cid.*\n",
    "FROM compras.cliente AS cli\n",
    "LEFT JOIN compras.cidade AS cid ON cli.cidade_id = cid.cidade_id;\n",
    "```\n",
    "\n",
    "</div>\n",
    "\n",
    "<div class=\"alert alert-success\">\n",
    "\n",
    "Perceba que agora todos os clientes são retornados.\n",
    "\n",
    "</div>\n",
    "\n",
    "**Dica**: Se você quer todos os registros da tabela da direita e não da esquerda, você pode:\n",
    "\n",
    "- Inverter a ordem das tabelas na *query*.\n",
    "- Ou utilizar `RIGHT JOIN` ao invés de `LEFT JOIN."
   ]
  },
  {
   "cell_type": "markdown",
   "metadata": {},
   "source": [
    "<div class=\"alert alert-warning\">\n",
    "\n",
    "Explique:\n",
    "\n",
    "Por que a *query* não retornou as informações da cidade para o cliente `\"Celso Pereira\"`?\n",
    "\n",
    "</div>"
   ]
  },
  {
   "cell_type": "markdown",
   "metadata": {},
   "source": [
    "**R**: Sua resposta AQUI!"
   ]
  },
  {
   "cell_type": "markdown",
   "metadata": {},
   "source": [
    "### `FULL JOIN`\n",
    "\n",
    "O `FULL JOIN` pode ser representado pelo seguinte diagrama:\n",
    "\n",
    "<img src=\"https://bigdata-insper.s3.us-east-2.amazonaws.com/img/full_join.png\" width=\"33%\">\n",
    "\n",
    "Além de retornar a **intersecção** entre as tabelas, o `FULL JOIN` garante que todos os registros de **ambas** as tabelas serão retornados pelo menos uma vez. Caso exista alguma linha da tabela que não contenha relação com a outra tabela, então as colunas da outra tabela ficam com valores **null**.\n",
    "\n",
    "Veja um exemplo de `FULL JOIN` para trazer as informações dos clientes e das cidades dos clientes:\n",
    "\n",
    "<div class=\"alert alert-info\">\n",
    "\n",
    "```postgresql\n",
    "SELECT cli.cliente_id,\n",
    "       cli.nome,\n",
    "       cli.data_nasc,\n",
    "       cid.*\n",
    "FROM compras.cliente AS cli\n",
    "FULL JOIN compras.cidade AS cid ON cli.cidade_id = cid.cidade_id;\n",
    "```\n",
    "\n",
    "</div>\n",
    "\n",
    "<div class=\"alert alert-success\">\n",
    "\n",
    "Perceba que agora todos os clientes e todas as cidades são retornadas.\n",
    "\n",
    "</div>"
   ]
  },
  {
   "cell_type": "markdown",
   "metadata": {},
   "source": [
    "<div class=\"alert alert-warning\">\n",
    "\n",
    "Explique:\n",
    "\n",
    "Por que a *query* a linha da cidade de `\"Córdoba\"` ficou com valores `null`nos campos do cliente?\n",
    "\n",
    "</div>"
   ]
  },
  {
   "cell_type": "markdown",
   "metadata": {},
   "source": [
    "**R**: Sua resposta AQUI!"
   ]
  },
  {
   "cell_type": "markdown",
   "metadata": {},
   "source": [
    "Um resumo das operações de junção, com algumas não vistas neste curso:\n",
    "\n",
    "<img src=\"https://bigdata-insper.s3.us-east-2.amazonaws.com/img/postgresql_joins.png\" width=\"100%\">\n",
    "\n",
    "Fonte: <a href=\"https://www.postgresqltutorial.com/postgresql-tutorial/postgresql-joins/\">https://www.postgresqltutorial.com/postgresql-tutorial/postgresql-joins/</a>\n",
    "\n",
    "Agora vamos utilizar exercícios para praticar!"
   ]
  },
  {
   "cell_type": "markdown",
   "metadata": {},
   "source": [
    "## Exercícios\n",
    "\n",
    "### Exercício 2\n",
    "\n",
    "Neste exercício iremos trabalhar com `JOIN`.\n",
    "\n",
    "Vamos analisar os dados da base `compras`? \n",
    "\n",
    "**Dica**: Antes de tentar de fato resolver o exercício, faça um `SELECT` em cada tabela envolvida. Garanta que você entendeu os dados armazenados na tabela e as relações entre elas.\n",
    "\n",
    "**a)** Crie uma *query* que relacione cliente e suas compras. Retorne, para cada compra:\n",
    "\n",
    "- O nome do cliente\n",
    "- A data de cadastro do cliente\n",
    "- O valor total da compra\n",
    "- Se a compra foi entregue.\n",
    "\n",
    "Observações:\n",
    "\n",
    "- Ordene pelo nome do cliente e pelo valor total, nesta ordem, ambos de forma crescente\n",
    "- Clientes sem compras não devem ser retornados."
   ]
  },
  {
   "cell_type": "code",
   "execution_count": 19,
   "metadata": {},
   "outputs": [],
   "source": [
    "sql_ex02a = \"\"\"\n",
    "SELECT cli.nome,\n",
    "       cli.data_cad,\n",
    "       com.valor_total,\n",
    "       com.entregue\n",
    "FROM compras.cliente AS cli\n",
    "INNER JOIN compras.compra AS com ON cli.cliente_id = com.cliente_id\n",
    "WHERE com.entregue IS NOT NULL\n",
    "ORDER BY cli.nome, com.valor_total ASC;\n",
    "\n",
    "\"\"\""
   ]
  },
  {
   "cell_type": "code",
   "execution_count": 20,
   "metadata": {},
   "outputs": [
    {
     "data": {
      "application/vnd.jupyter.widget-view+json": {
       "model_id": "5381a031673a450e96bc090816fa29ca",
       "version_major": 2,
       "version_minor": 0
      },
      "text/plain": [
       "interactive(children=(Button(description='Enviar ex02a', style=ButtonStyle()), Output()), _dom_classes=('widge…"
      ]
     },
     "execution_count": 20,
     "metadata": {},
     "output_type": "execute_result"
    }
   ],
   "source": [
    "ia.sender(answer=\"sql_ex02a\", task=\"big_join\", question=\"ex02a\", answer_type=\"pyvar\")"
   ]
  },
  {
   "cell_type": "markdown",
   "metadata": {},
   "source": [
    "**b)** Crie uma *query* que relacione cliente e suas compras. Retorne, para cada cliente:\n",
    "\n",
    "- O nome do cliente\n",
    "- O CPF do cliente\n",
    "- O valor total comprado pelo cliente (soma de todas as suas compras). Esta coluna deve se chamar `valor_total_geral`.\n",
    "\n",
    "Observações:\n",
    "\n",
    "- Ordene de forma decrescente pelo `valor_total_geral` e crescente pelo nome do cliente\n",
    "- Clientes sem compras devem ser retornados com `valor_total_geral` zerado.\n",
    "\n",
    "Dica:\n",
    "- Procure no google ou ChatGPT/Bard/Poe.com:\n",
    "    - *\"O que faz a função COALESCE em postgresql?\"*\n",
    "    - *\"Dê exemplos com SELECT de como utilizá-la para zerar uma coluna nula.\"*"
   ]
  },
  {
   "cell_type": "code",
   "execution_count": 25,
   "metadata": {},
   "outputs": [],
   "source": [
    "sql_ex02b = \"\"\"\n",
    "SELECT \n",
    "    c.nome, \n",
    "    c.cpf, \n",
    "    COALESCE(SUM(compra.valor_total), 0) AS valor_total_geral\n",
    "FROM \n",
    "    compras.cliente AS c\n",
    "LEFT JOIN \n",
    "    compras.compra AS compra ON c.cliente_id = compra.cliente_id\n",
    "GROUP BY \n",
    "    c.nome, c.cpf\n",
    "ORDER BY \n",
    "    valor_total_geral DESC, c.nome ASC;\n",
    "\"\"\""
   ]
  },
  {
   "cell_type": "code",
   "execution_count": 26,
   "metadata": {
    "scrolled": true
   },
   "outputs": [
    {
     "data": {
      "application/vnd.jupyter.widget-view+json": {
       "model_id": "59b1f5544ee84cf1a9a4fd96f0b07a16",
       "version_major": 2,
       "version_minor": 0
      },
      "text/plain": [
       "interactive(children=(Button(description='Enviar ex02b', style=ButtonStyle()), Output()), _dom_classes=('widge…"
      ]
     },
     "execution_count": 26,
     "metadata": {},
     "output_type": "execute_result"
    }
   ],
   "source": [
    "ia.sender(answer=\"sql_ex02b\", task=\"big_join\", question=\"ex02b\", answer_type=\"pyvar\")"
   ]
  },
  {
   "cell_type": "markdown",
   "metadata": {},
   "source": [
    "**c)** Crie uma *query* que relacione cliente, cidade e compras. Retorne, para cada cliente:\n",
    "\n",
    "- O nome do cliente\n",
    "- O nome da cidade do cliente. Esta coluna deve se chamar `cidade`.\n",
    "- O UF da cidade do cliente. Esta coluna deve se chamar `uf`.\n",
    "- A quantidade de compras realizadas pelo cliente. Esta coluna deve se chamar `qtde_compras`.\n",
    "- O valor mínimo, máximo, médio e total geral (soma) comprado pelo cliente. Utilize os nomes de colunas:\n",
    "    - `vlr_tot_minimo`\n",
    "    - `vlr_tot_maximo`\n",
    "    - `vlr_tot_medio`\n",
    "    - `vlr_tot_geral`.\n",
    "\n",
    "Observações:\n",
    "\n",
    "- Ordene de forma crescente pelo nome do cliente.\n",
    "- Clientes sem compras não devem ser retornados."
   ]
  },
  {
   "cell_type": "code",
   "execution_count": 27,
   "metadata": {},
   "outputs": [],
   "source": [
    "sql_ex02c = \"\"\"\n",
    "SELECT \n",
    "    c.nome, \n",
    "    cidade.cidade_desc AS cidade, \n",
    "    cidade.cidade_uf AS uf, \n",
    "    COUNT(compra.compra_id) AS qtde_compras,\n",
    "    MIN(compra.valor_total) AS vlr_tot_minimo,\n",
    "    MAX(compra.valor_total) AS vlr_tot_maximo,\n",
    "    AVG(compra.valor_total) AS vlr_tot_medio,\n",
    "    SUM(compra.valor_total) AS vlr_tot_geral\n",
    "FROM \n",
    "    compras.cliente AS c\n",
    "JOIN \n",
    "    compras.cidade AS cidade ON c.cidade_id = cidade.cidade_id\n",
    "JOIN \n",
    "    compras.compra AS compra ON c.cliente_id = compra.cliente_id\n",
    "GROUP BY \n",
    "    c.nome, cidade.cidade_desc, cidade.cidade_uf\n",
    "ORDER BY \n",
    "    c.nome ASC;\n",
    "\n",
    "\"\"\""
   ]
  },
  {
   "cell_type": "code",
   "execution_count": 28,
   "metadata": {},
   "outputs": [
    {
     "data": {
      "application/vnd.jupyter.widget-view+json": {
       "model_id": "8358eac51d354bafb84e0d5a4c8ceca7",
       "version_major": 2,
       "version_minor": 0
      },
      "text/plain": [
       "interactive(children=(Button(description='Enviar ex02c', style=ButtonStyle()), Output()), _dom_classes=('widge…"
      ]
     },
     "execution_count": 28,
     "metadata": {},
     "output_type": "execute_result"
    }
   ],
   "source": [
    "ia.sender(answer=\"sql_ex02c\", task=\"big_join\", question=\"ex02c\", answer_type=\"pyvar\")"
   ]
  },
  {
   "cell_type": "markdown",
   "metadata": {},
   "source": [
    "## Base de dados da Olist\n",
    "\n",
    "Para os próximos exercícios, utilizaremos uma base aberta, a **Brazilian E-Commerce Public Dataset by Olist**.\n",
    "\n",
    "Ela está disponível no **Kaggle** (https://www.kaggle.com/olistbr/brazilian-ecommerce), uma fonte legal para conseguir dados públicos e evoluir seus conhecimentos em Machine Learning.\n",
    "\n",
    "<img src=\"https://bigdata-22-2.s3.us-east-2.amazonaws.com/sql/olist_db.png\">"
   ]
  },
  {
   "cell_type": "markdown",
   "metadata": {},
   "source": [
    "Os dados da base já foram baixados pelo professor e inseridos no SGBD PostgreSQL no **schema** `olist`.\n",
    "\n",
    "A relação entre as tabelas é:\n",
    "\n",
    "<img src=\"https://bigdata-22-2.s3.us-east-2.amazonaws.com/sql/olist_der.png\">"
   ]
  },
  {
   "cell_type": "markdown",
   "metadata": {},
   "source": [
    "### Exercício 3\n",
    "\n",
    "Neste exercício, considere as tabelas do *schema* `olist`.\n",
    "\n",
    "Antes de começar, faça um `SELECT` em cada tabela da base para *\"dar uma olhada\"* nos dados e garantir que você entendeu as informações disponíveis e como estão armazenadas / relacionadas.\n",
    "\n",
    "Por exemplo:\n",
    "\n",
    "<div class=\"alert alert-info\">\n",
    "\n",
    "```postgresql\n",
    "SELECT c.*\n",
    "FROM olist.customer AS c\n",
    "LIMIT 5;\n",
    "```\n",
    "\n",
    "</div>"
   ]
  },
  {
   "cell_type": "markdown",
   "metadata": {},
   "source": [
    "**a)** Liste as **dez** cidades com mais clientes cadastrados.\n",
    "\n",
    "Retorne duas colunas (nesta ordem):\n",
    "\n",
    "- `city` com o nome das cidades em maiúsculo\n",
    "- `qt_customers`\n",
    "\n",
    "Cidades com mais clientes devem ser retornadas primeiro."
   ]
  },
  {
   "cell_type": "code",
   "execution_count": 31,
   "metadata": {},
   "outputs": [],
   "source": [
    "sql_ex03a = \"\"\"\n",
    "SELECT \n",
    "    UPPER(c.city) AS city, \n",
    "    COUNT(c.id) AS qt_customers\n",
    "FROM \n",
    "    olist.customer AS c\n",
    "GROUP BY \n",
    "    c.city\n",
    "ORDER BY \n",
    "    qt_customers DESC\n",
    "LIMIT 10;\n",
    "\"\"\""
   ]
  },
  {
   "cell_type": "code",
   "execution_count": 30,
   "metadata": {
    "scrolled": true
   },
   "outputs": [
    {
     "data": {
      "application/vnd.jupyter.widget-view+json": {
       "model_id": "f5e6076c1e0745f6967a840d36921c82",
       "version_major": 2,
       "version_minor": 0
      },
      "text/plain": [
       "interactive(children=(Button(description='Enviar ex03a', style=ButtonStyle()), Output()), _dom_classes=('widge…"
      ]
     },
     "execution_count": 30,
     "metadata": {},
     "output_type": "execute_result"
    }
   ],
   "source": [
    "ia.sender(answer=\"sql_ex03a\", task=\"big_join\", question=\"ex03a\", answer_type=\"pyvar\")"
   ]
  },
  {
   "cell_type": "markdown",
   "metadata": {},
   "source": [
    "**b)** Quais são todos os status possíveis para o campo `status` na tabela `order`?\n",
    "\n",
    "Exiba em ordem alfabética.\n",
    "\n",
    "Dica: use `SELECT DISTINCT`"
   ]
  },
  {
   "cell_type": "code",
   "execution_count": 32,
   "metadata": {},
   "outputs": [],
   "source": [
    "sql_ex03b = \"\"\"\n",
    "SELECT DISTINCT status\n",
    "FROM olist.order\n",
    "ORDER BY status;\n",
    "\"\"\""
   ]
  },
  {
   "cell_type": "code",
   "execution_count": 33,
   "metadata": {
    "scrolled": true
   },
   "outputs": [
    {
     "data": {
      "application/vnd.jupyter.widget-view+json": {
       "model_id": "a6a19e0f3d7a4e2e84f02e96def4f939",
       "version_major": 2,
       "version_minor": 0
      },
      "text/plain": [
       "interactive(children=(Button(description='Enviar ex03b', style=ButtonStyle()), Output()), _dom_classes=('widge…"
      ]
     },
     "execution_count": 33,
     "metadata": {},
     "output_type": "execute_result"
    }
   ],
   "source": [
    "ia.sender(answer=\"sql_ex03b\", task=\"big_join\", question=\"ex03b\", answer_type=\"pyvar\")"
   ]
  },
  {
   "cell_type": "markdown",
   "metadata": {},
   "source": [
    "**c)** Considerando apenas os pedidos entregues, exiba uma tabela com a quantidade de items vendido por UF.\n",
    "\n",
    "As colunas devem se chamar `state` e `quantity_items`.\n",
    "\n",
    "Ordene de forma decrescente pela quantidade de items vendido por UF.\n",
    "\n",
    "Dica: precisa levar em consideração o endereço (UF) do cliente."
   ]
  },
  {
   "cell_type": "code",
   "execution_count": 38,
   "metadata": {},
   "outputs": [],
   "source": [
    "sql_ex03c = \"\"\"\n",
    "SELECT \n",
    "    c.state AS state, \n",
    "    COUNT(oi.order_item_id) AS quantity_items\n",
    "FROM \n",
    "    olist.order AS o\n",
    "JOIN \n",
    "    olist.order_item AS oi ON o.order_id = oi.order_id\n",
    "JOIN \n",
    "    olist.customer AS c ON o.customer_id = c.id\n",
    "WHERE \n",
    "    o.status = 'delivered'\n",
    "GROUP BY \n",
    "    c.state\n",
    "ORDER BY \n",
    "    quantity_items DESC;\n",
    "\"\"\""
   ]
  },
  {
   "cell_type": "code",
   "execution_count": 39,
   "metadata": {},
   "outputs": [
    {
     "data": {
      "application/vnd.jupyter.widget-view+json": {
       "model_id": "338ce08daf6242518ecc03e3c03e42d6",
       "version_major": 2,
       "version_minor": 0
      },
      "text/plain": [
       "interactive(children=(Button(description='Enviar ex03c', style=ButtonStyle()), Output()), _dom_classes=('widge…"
      ]
     },
     "execution_count": 39,
     "metadata": {},
     "output_type": "execute_result"
    }
   ],
   "source": [
    "ia.sender(answer=\"sql_ex03c\", task=\"big_join\", question=\"ex03c\", answer_type=\"pyvar\")"
   ]
  },
  {
   "cell_type": "markdown",
   "metadata": {},
   "source": [
    "**d)** Construa uma query que retorne o nome de cada categoria de produtos, o nome da categoria de produtos em ingles, além da quantidade de items de pedido que são da categoria e pertencem à compras canceladas.\n",
    "\n",
    "As colunas devem se chamar:\n",
    "\n",
    "- `category_name`\n",
    "- `category_name_english`\n",
    "- `quantity_items_cancel`\n",
    "\n",
    "Retorne apenas categorias com pelo menos `10` items cancelados.\n",
    "\n",
    "Ordene de forma decrescente pela quantidade de items cancelados."
   ]
  },
  {
   "cell_type": "code",
   "execution_count": 40,
   "metadata": {},
   "outputs": [],
   "source": [
    "sql_ex03d = \"\"\"\n",
    "SELECT \n",
    "    p.category_name, \n",
    "    pct.category_name_english, \n",
    "    COUNT(oi.order_item_id) AS quantity_items_cancel\n",
    "FROM \n",
    "    olist.order_item AS oi\n",
    "JOIN \n",
    "    olist.product AS p ON oi.product_id = p.id\n",
    "JOIN \n",
    "    olist.order AS o ON oi.order_id = o.order_id\n",
    "JOIN \n",
    "    olist.product_category_name_translation AS pct ON p.category_name = pct.category_name\n",
    "WHERE \n",
    "    o.status = 'canceled'\n",
    "GROUP BY \n",
    "    p.category_name, pct.category_name_english\n",
    "HAVING \n",
    "    COUNT(oi.order_item_id) >= 10\n",
    "ORDER BY \n",
    "    quantity_items_cancel DESC;\n",
    "\"\"\""
   ]
  },
  {
   "cell_type": "code",
   "execution_count": 41,
   "metadata": {},
   "outputs": [
    {
     "data": {
      "application/vnd.jupyter.widget-view+json": {
       "model_id": "232a8fce3ad145b19c20dfa34b045ecb",
       "version_major": 2,
       "version_minor": 0
      },
      "text/plain": [
       "interactive(children=(Button(description='Enviar ex03d', style=ButtonStyle()), Output()), _dom_classes=('widge…"
      ]
     },
     "execution_count": 41,
     "metadata": {},
     "output_type": "execute_result"
    }
   ],
   "source": [
    "ia.sender(answer=\"sql_ex03d\", task=\"big_join\", question=\"ex03d\", answer_type=\"pyvar\")"
   ]
  },
  {
   "cell_type": "markdown",
   "metadata": {},
   "source": [
    "**e)** Qual a nota média geral recebida pelas compras?!\n",
    "\n",
    "Renomeie para `avg_score` e retorne com duas casas decimais.\n",
    "\n",
    "**Dica**: veja a tabela de `order_review`"
   ]
  },
  {
   "cell_type": "code",
   "execution_count": 42,
   "metadata": {},
   "outputs": [],
   "source": [
    "sql_ex03e = \"\"\"\n",
    "SELECT \n",
    "    ROUND(AVG(orv.score), 2) AS avg_score\n",
    "FROM \n",
    "    olist.order_review AS orv;\n",
    "\n",
    "\"\"\""
   ]
  },
  {
   "cell_type": "code",
   "execution_count": 43,
   "metadata": {},
   "outputs": [
    {
     "data": {
      "application/vnd.jupyter.widget-view+json": {
       "model_id": "9ad5737ad95e41038280702671b4f214",
       "version_major": 2,
       "version_minor": 0
      },
      "text/plain": [
       "interactive(children=(Button(description='Enviar ex03e', style=ButtonStyle()), Output()), _dom_classes=('widge…"
      ]
     },
     "execution_count": 43,
     "metadata": {},
     "output_type": "execute_result"
    }
   ],
   "source": [
    "ia.sender(answer=\"sql_ex03e\", task=\"big_join\", question=\"ex03e\", answer_type=\"pyvar\")"
   ]
  },
  {
   "cell_type": "markdown",
   "metadata": {},
   "source": [
    "**f)** Considerando apenas as vendas entregues para os clientes no ano de 2017, crie uma query que retorne o score médio para cada mês do ano, onde os meses são identificados por seus números.\n",
    "\n",
    "As colunas devem se chamar `month` e `avg_score`.\n",
    "\n",
    "Ordene de forma crescente pelo mês."
   ]
  },
  {
   "cell_type": "code",
   "execution_count": 44,
   "metadata": {},
   "outputs": [],
   "source": [
    "sql_ex03f = \"\"\"\n",
    "SELECT \n",
    "    EXTRACT(MONTH FROM o.delivered_customer_date) AS month, \n",
    "    ROUND(AVG(orv.score), 2) AS avg_score\n",
    "FROM \n",
    "    olist.order AS o\n",
    "JOIN \n",
    "    olist.order_review AS orv ON o.order_id = orv.order_id\n",
    "WHERE \n",
    "    o.status = 'delivered'\n",
    "    AND EXTRACT(YEAR FROM o.delivered_customer_date) = 2017\n",
    "GROUP BY \n",
    "    month\n",
    "ORDER BY \n",
    "    month;\n",
    "\"\"\""
   ]
  },
  {
   "cell_type": "code",
   "execution_count": 45,
   "metadata": {},
   "outputs": [
    {
     "data": {
      "application/vnd.jupyter.widget-view+json": {
       "model_id": "55a93b10648e468eab4d9b13a3f87da9",
       "version_major": 2,
       "version_minor": 0
      },
      "text/plain": [
       "interactive(children=(Button(description='Enviar ex03f', style=ButtonStyle()), Output()), _dom_classes=('widge…"
      ]
     },
     "execution_count": 45,
     "metadata": {},
     "output_type": "execute_result"
    }
   ],
   "source": [
    "ia.sender(answer=\"sql_ex03f\", task=\"big_join\", question=\"ex03f\", answer_type=\"pyvar\")"
   ]
  },
  {
   "cell_type": "markdown",
   "metadata": {},
   "source": [
    "## Conferir notas\n",
    "\n",
    "Vamos verificar se as notas foram gravadas nos exercícios!"
   ]
  },
  {
   "cell_type": "code",
   "execution_count": 46,
   "metadata": {},
   "outputs": [
    {
     "data": {
      "text/markdown": [
       "|    | Atividade   | Exercício   |   Peso |   Nota |\n",
       "|---:|:------------|:------------|-------:|-------:|\n",
       "|  0 | big_join    | ex01a       |      1 |     10 |\n",
       "|  1 | big_join    | ex01b       |      1 |     10 |\n",
       "|  2 | big_join    | ex01c       |      1 |     10 |\n",
       "|  3 | big_join    | ex02a       |      3 |     10 |\n",
       "|  4 | big_join    | ex02b       |      3 |     10 |\n",
       "|  5 | big_join    | ex02c       |      4 |     10 |\n",
       "|  6 | big_join    | ex03a       |      1 |     10 |\n",
       "|  7 | big_join    | ex03b       |      1 |     10 |\n",
       "|  8 | big_join    | ex03c       |      3 |     10 |\n",
       "|  9 | big_join    | ex03d       |      4 |     10 |\n",
       "| 10 | big_join    | ex03e       |      1 |     10 |\n",
       "| 11 | big_join    | ex03f       |      4 |     10 |"
      ],
      "text/plain": [
       "<IPython.core.display.Markdown object>"
      ]
     },
     "metadata": {},
     "output_type": "display_data"
    }
   ],
   "source": [
    "ia.grades(task=\"big_join\")"
   ]
  },
  {
   "cell_type": "markdown",
   "metadata": {},
   "source": [
    "Vamos verificar se a nota da atividade está ok:"
   ]
  },
  {
   "cell_type": "code",
   "execution_count": 47,
   "metadata": {},
   "outputs": [
    {
     "data": {
      "text/markdown": [
       "|    | Tarefa   |   Nota |\n",
       "|---:|:---------|-------:|\n",
       "|  0 | big_join |     10 |"
      ],
      "text/plain": [
       "<IPython.core.display.Markdown object>"
      ]
     },
     "metadata": {},
     "output_type": "display_data"
    }
   ],
   "source": [
    "ia.grades(by=\"TASK\", task=\"big_join\")"
   ]
  },
  {
   "cell_type": "markdown",
   "metadata": {},
   "source": [
    "## Finalizando o trabalho\n",
    "\n",
    "Finalizamos por hoje!"
   ]
  }
 ],
 "metadata": {
  "kernelspec": {
   "display_name": "venv",
   "language": "python",
   "name": "python3"
  },
  "language_info": {
   "codemirror_mode": {
    "name": "ipython",
    "version": 3
   },
   "file_extension": ".py",
   "mimetype": "text/x-python",
   "name": "python",
   "nbconvert_exporter": "python",
   "pygments_lexer": "ipython3",
   "version": "3.12.7"
  }
 },
 "nbformat": 4,
 "nbformat_minor": 4
}
